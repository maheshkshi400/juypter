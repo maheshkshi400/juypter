{
 "cells": [
  {
   "cell_type": "code",
   "execution_count": 1,
   "id": "1a55b71a-d28d-42a1-9f03-64d9bf37b79f",
   "metadata": {},
   "outputs": [
    {
     "name": "stdout",
     "output_type": "stream",
     "text": [
      "+----+-------+------+----+------+-------+------+----+\n",
      "|  id|   name|gender| age|salary|   dept|deptno| doj|\n",
      "+----+-------+------+----+------+-------+------+----+\n",
      "|   1| mahesh|  male|  20|  5000|     IT|    50|2002|\n",
      "|   2|shruthi|female|None|  6000|     HR|  NULL|2008|\n",
      "|   3| ganesh|  male|  25|  NULL|FINANCE|    30|2010|\n",
      "|   4|  pooja|female|NULL|  8000|PAYROLL|    40|NULL|\n",
      "|   5| kamini|female|  31|  6000|     IT|    50|2007|\n",
      "|NULL|   NULL|  NULL|NULL|  NULL|   NULL|  NULL|NULL|\n",
      "|   7| shweta|female|  30|  6000|     HR|    20|1998|\n",
      "|   8| suresh|  NULL|  25| 10000|FINANCE|    30|2011|\n",
      "|   9|shivani|female|  34|  NULL|PAYROLL|    40|NULL|\n",
      "|  10| prachi|female|  30|  6000|   NULL|    50|2001|\n",
      "+----+-------+------+----+------+-------+------+----+\n",
      "\n"
     ]
    }
   ],
   "source": [
    "from pyspark.sql import SparkSession\n",
    "\n",
    "# Create a SparkSession\n",
    "spark = SparkSession.builder.appName(\"https://github.com/maheshkshi400/MK\").getOrCreate()\n",
    "\n",
    "\n",
    "df = spark.read.format('csv') \\\n",
    "    .option('inferschema', True) \\\n",
    "    .option('header',True)\\\n",
    "    .option('sep',\",\")\\\n",
    "    .load('C:/Users/Pc/juypter/empdf12.csv')\n",
    "df.show()"
   ]
  }
 ],
 "metadata": {
  "kernelspec": {
   "display_name": "Python 3 (ipykernel)",
   "language": "python",
   "name": "python3"
  },
  "language_info": {
   "codemirror_mode": {
    "name": "ipython",
    "version": 3
   },
   "file_extension": ".py",
   "mimetype": "text/x-python",
   "name": "python",
   "nbconvert_exporter": "python",
   "pygments_lexer": "ipython3",
   "version": "3.11.5"
  }
 },
 "nbformat": 4,
 "nbformat_minor": 5
}
