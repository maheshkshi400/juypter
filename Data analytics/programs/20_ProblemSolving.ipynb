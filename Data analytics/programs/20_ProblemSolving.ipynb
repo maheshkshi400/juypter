{
 "cells": [
  {
   "cell_type": "markdown",
   "id": "a5ea9a22",
   "metadata": {},
   "source": [
    "write a program to ind max and min in a set"
   ]
  },
  {
   "cell_type": "code",
   "execution_count": 1,
   "id": "1674cacf",
   "metadata": {},
   "outputs": [
    {
     "name": "stdout",
     "output_type": "stream",
     "text": [
      "The maximum value in a given set is 92\n",
      "The minimum value in a given set is 2\n"
     ]
    }
   ],
   "source": [
    "a ={32,20,2,34,72,92,55,67,88}\n",
    "maximum =max(a)\n",
    "minimum=min(a)\n",
    "print(\"The maximum value in a given set is\",maximum)\n",
    "print(\"The minimum value in a given set is\",minimum)"
   ]
  },
  {
   "cell_type": "code",
   "execution_count": 1,
   "id": "b8be6863",
   "metadata": {},
   "outputs": [
    {
     "name": "stdout",
     "output_type": "stream",
     "text": [
      "{5, 6}\n"
     ]
    }
   ],
   "source": [
    "# Write a program to find common elements in three lists using sets\n",
    "\n",
    "a = [1,5,6,8,2]\n",
    "b= [4,5,6,7]\n",
    "c= [1,9,6,2,5]\n",
    "print(set(a) & set(b) & set(c))"
   ]
  },
  {
   "cell_type": "code",
   "execution_count": 2,
   "id": "2a810e8a",
   "metadata": {},
   "outputs": [
    {
     "name": "stdout",
     "output_type": "stream",
     "text": [
      "{1, 2, 8}\n"
     ]
    }
   ],
   "source": [
    "# Write a program to find difference between two lists\n",
    "a = {1,5,6,8,2}\n",
    "c= {1,9,6,2,5}\n",
    "\n",
    "print(a.difference(b))"
   ]
  },
  {
   "cell_type": "code",
   "execution_count": 3,
   "id": "6931edcb",
   "metadata": {},
   "outputs": [
    {
     "name": "stdout",
     "output_type": "stream",
     "text": [
      "{1, 2, 5, 6}\n"
     ]
    }
   ],
   "source": [
    "# Write a program to remove an item rom a given set if is present in the set\n",
    "a = {1,5,6,8,2}\n",
    "a.discard(8)\n",
    "print(a)"
   ]
  },
  {
   "cell_type": "code",
   "execution_count": 4,
   "id": "f45241da",
   "metadata": {},
   "outputs": [
    {
     "name": "stdout",
     "output_type": "stream",
     "text": [
      "True\n"
     ]
    }
   ],
   "source": [
    "# Write a program to check if a set is subset of another set\n",
    "a= {1,2,3,4,5,6}\n",
    "b= {2,3,4}\n",
    "print(b.issubset(a))"
   ]
  }
 ],
 "metadata": {
  "kernelspec": {
   "display_name": "Python 3",
   "language": "python",
   "name": "python3"
  },
  "language_info": {
   "codemirror_mode": {
    "name": "ipython",
    "version": 3
   },
   "file_extension": ".py",
   "mimetype": "text/x-python",
   "name": "python",
   "nbconvert_exporter": "python",
   "pygments_lexer": "ipython3",
   "version": "3.12.4"
  }
 },
 "nbformat": 4,
 "nbformat_minor": 5
}
