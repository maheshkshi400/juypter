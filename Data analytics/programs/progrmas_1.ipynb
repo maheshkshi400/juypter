{
 "cells": [
  {
   "cell_type": "code",
   "execution_count": 1,
   "metadata": {},
   "outputs": [
    {
     "name": "stdout",
     "output_type": "stream",
     "text": [
      "The number is positive.\n"
     ]
    }
   ],
   "source": [
    "# postive numbers\n",
    "\n",
    "num = int(input(\"Enter a number: \"))\n",
    "\n",
    "if num > 0:\n",
    "    print(\"The number is positive.\")    \n",
    "else :\n",
    "    print(\"The number is not positive.\")"
   ]
  },
  {
   "cell_type": "code",
   "execution_count": 2,
   "metadata": {},
   "outputs": [
    {
     "name": "stdout",
     "output_type": "stream",
     "text": [
      "67 is an odd number.\n"
     ]
    }
   ],
   "source": [
    "# odd and even numbers\n",
    "\n",
    "num = int(input(\"Enter a number: \"))\n",
    "\n",
    "if num % 2 == 0:\n",
    "    print(f\"{num} is an even number.\")\n",
    "else:\n",
    "    print(f\"{num} is an odd number.\")"
   ]
  },
  {
   "cell_type": "code",
   "execution_count": 8,
   "metadata": {},
   "outputs": [
    {
     "name": "stdout",
     "output_type": "stream",
     "text": [
      "Area Calculator\n",
      "press 1 for calcute area of square\n",
      "        press 2 for calcute area of rectangle\n",
      "        press 3 for calcute area of circle\n",
      "        press 4 for calcute area of triangle\n",
      "        \n",
      "Invalid choice\n"
     ]
    }
   ],
   "source": [
    "# Area calsualator\n",
    "\n",
    "print(\"Area Calculator\")\n",
    "\n",
    "print('''press 1 for calcute area of square\n",
    "        press 2 for calcute area of rectangle\n",
    "        press 3 for calcute area of circle\n",
    "        press 4 for calcute area of triangle\n",
    "        ''')\n",
    "\n",
    "\n",
    "choice = int(input(\"Enter your choice between 1-4: \"))\n",
    "\n",
    "if choice == 1:\n",
    "    side = float(input(\"Enter the side of the square: \"))\n",
    "    area = side * side\n",
    "    print(\"Area of square is: \", area)\n",
    "elif choice == 2:\n",
    "    length = float(input(\"Enter the length of the rectangle: \"))\n",
    "    width = float(input(\"Enter the width of the rectangle: \"))\n",
    "    area = length * width\n",
    "    print(\"Area of rectangle is: \", area)\n",
    "elif choice == 3:\n",
    "    radius = float(input(\"Enter the radius of the circle: \"))\n",
    "    area = 3.14 * radius * radius\n",
    "    print(\"Area of circle is: \", area)\n",
    "elif choice == 4:\n",
    "    base = float(input(\"Enter the base of the triangle: \"))\n",
    "    height = float(input(\"Enter the height of the triangle: \"))\n",
    "    area = 0.5 * base * height\n",
    "    print(\"Area of triangle is: \", area)\n",
    "\n",
    "else:\n",
    "    print(\"Invalid choice\")"
   ]
  },
  {
   "cell_type": "code",
   "execution_count": 11,
   "metadata": {},
   "outputs": [
    {
     "name": "stdout",
     "output_type": "stream",
     "text": [
      "E is a vowel.\n"
     ]
    }
   ],
   "source": [
    "# write a program check weather the passed letter is a vowel or not\n",
    "\n",
    "letter = input(\"Enter a letter: \")\n",
    "\n",
    "if letter in ['a', 'e', 'i', 'o', 'u','A','E','I','O','U']:\n",
    "    print(f\"{letter} is a vowel.\")\n",
    "else:\n",
    "    print(f\"{letter} is not a vowel.\")\n"
   ]
  },
  {
   "cell_type": "code",
   "execution_count": 20,
   "metadata": {},
   "outputs": [
    {
     "name": "stdout",
     "output_type": "stream",
     "text": [
      "it is triple digit number\n"
     ]
    }
   ],
   "source": [
    "# write a program to print the sum of the digits of a given number\n",
    "\n",
    "number = int(input(\"Enter a number upto 5 digits: \"))\n",
    "\n",
    "if number >= 0 and number <= 9:\n",
    "    print(\"it is single digit number\") # 0-9 digit number\n",
    "\n",
    "elif number >= 10 and number <= 99:\n",
    "    print(\"it is double digit number\")\n",
    "\n",
    "elif number >= 100 and number<= 999:\n",
    "    print(\"it is triple digit number\")\n",
    "\n",
    "elif number >= 1000 and number<= 9999:\n",
    "    print(\"it is four digit number\")\n",
    "\n",
    "else:\n",
    "    print(\"it is five digit number\")"
   ]
  }
 ],
 "metadata": {
  "kernelspec": {
   "display_name": "pyspark-env",
   "language": "python",
   "name": "python3"
  },
  "language_info": {
   "codemirror_mode": {
    "name": "ipython",
    "version": 3
   },
   "file_extension": ".py",
   "mimetype": "text/x-python",
   "name": "python",
   "nbconvert_exporter": "python",
   "pygments_lexer": "ipython3",
   "version": "3.12.4"
  }
 },
 "nbformat": 4,
 "nbformat_minor": 2
}
