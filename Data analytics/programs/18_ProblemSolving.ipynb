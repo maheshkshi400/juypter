{
 "cells": [
  {
   "cell_type": "markdown",
   "id": "936bf0b8",
   "metadata": {},
   "source": [
    "Write a python program to sort a dictionary by value."
   ]
  },
  {
   "cell_type": "code",
   "execution_count": 1,
   "id": "c3f50191",
   "metadata": {},
   "outputs": [
    {
     "name": "stdout",
     "output_type": "stream",
     "text": [
      "[10, 23, 32, 54, 74]\n"
     ]
    }
   ],
   "source": [
    "a ={\"a\":10,\"b\":23,\"c\":74,\"d\":32,\"e\":54}\n",
    "b= sorted(a.values())\n",
    "print(b)"
   ]
  },
  {
   "cell_type": "markdown",
   "id": "3b9a6701",
   "metadata": {},
   "source": [
    "Write a python script to print a dictionary where the keys are numbers between 1 and 15 and the values are square of the keys"
   ]
  },
  {
   "cell_type": "code",
   "execution_count": 4,
   "id": "c12486da",
   "metadata": {},
   "outputs": [
    {
     "name": "stdout",
     "output_type": "stream",
     "text": [
      "{1: 1, 2: 4, 3: 9, 4: 16, 5: 25, 6: 36, 7: 49, 8: 64, 9: 81, 10: 100, 11: 121, 12: 144, 13: 169, 14: 196, 15: 225}\n"
     ]
    }
   ],
   "source": [
    "b={}\n",
    "for i in range(1,16):\n",
    "    b[i]=i**2\n",
    "print(b)\n",
    "    "
   ]
  },
  {
   "cell_type": "markdown",
   "id": "e95b7653",
   "metadata": {},
   "source": [
    "Write a program to multiply all the items in dictionary"
   ]
  },
  {
   "cell_type": "code",
   "execution_count": 5,
   "id": "ff1a48a8",
   "metadata": {},
   "outputs": [
    {
     "name": "stdout",
     "output_type": "stream",
     "text": [
      "the product of muliplication of all the items in given dictionary is 120\n"
     ]
    }
   ],
   "source": [
    "a ={\"a\":1,\"b\":2,\"c\":3,\"d\":4,\"e\":5}\n",
    "product =1\n",
    "for i in a:\n",
    "    product*=a[i]\n",
    "print(\"the product of muliplication of all the items in given dictionary is\",product)"
   ]
  },
  {
   "cell_type": "markdown",
   "id": "31258c3c",
   "metadata": {},
   "source": [
    "write a python program to osrt dictionary by key "
   ]
  },
  {
   "cell_type": "code",
   "execution_count": 2,
   "id": "ff8b339d",
   "metadata": {},
   "outputs": [
    {
     "name": "stdout",
     "output_type": "stream",
     "text": [
      "['a', 'b', 'c', 'd', 'e']\n"
     ]
    }
   ],
   "source": [
    "a ={\"a\":10,\"b\":23,\"c\":74,\"d\":32,\"e\":54}\n",
    "b= sorted(a.keys())\n",
    "print(b)"
   ]
  }
 ],
 "metadata": {
  "kernelspec": {
   "display_name": "Python 3",
   "language": "python",
   "name": "python3"
  },
  "language_info": {
   "codemirror_mode": {
    "name": "ipython",
    "version": 3
   },
   "file_extension": ".py",
   "mimetype": "text/x-python",
   "name": "python",
   "nbconvert_exporter": "python",
   "pygments_lexer": "ipython3",
   "version": "3.12.4"
  }
 },
 "nbformat": 4,
 "nbformat_minor": 5
}
