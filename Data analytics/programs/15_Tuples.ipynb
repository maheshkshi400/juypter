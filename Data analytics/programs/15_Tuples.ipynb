{
 "cells": [
  {
   "cell_type": "code",
   "execution_count": null,
   "id": "a85b99fe",
   "metadata": {},
   "outputs": [
    {
     "name": "stdout",
     "output_type": "stream",
     "text": [
      "<class 'tuple'>\n"
     ]
    }
   ],
   "source": [
    "a = \"mango\",\"kiwi\",\"Grapes\",\"jackfruit\"\n",
    "a = (\"mango\",\"kiwi\",\"Grapes\",\"jackfruit\")\n",
    "print(type(a))"
   ]
  },
  {
   "cell_type": "markdown",
   "id": "01bf9e9b",
   "metadata": {},
   "source": [
    "SLICING AND ITERATION IN TUPLES"
   ]
  },
  {
   "cell_type": "code",
   "execution_count": 10,
   "id": "4d9aa4c0",
   "metadata": {},
   "outputs": [
    {
     "name": "stdout",
     "output_type": "stream",
     "text": [
      "('vivo', 'redmi')\n",
      "('oneplus', 'vivo', 'redmi')\n",
      "('redmi', 'samsung', 'nokia')\n",
      "('oneplus', 'redmi', 'nokia')\n",
      "('vivo', 'samsung')\n",
      "('nokia', 'samsung', 'redmi', 'vivo', 'oneplus')\n",
      "('redmi', 'vivo', 'oneplus')\n"
     ]
    }
   ],
   "source": [
    "A =(\"oneplus\",\"vivo\",\"redmi\",\"samsung\",\"nokia\")\n",
    "print(A[1:3])\n",
    "print(A[:3])\n",
    "print(A[2:])\n",
    "print(A[::2])\n",
    "print(A[1::2])\n",
    "print(A[::-1])\n",
    "print(A[2::-1])"
   ]
  },
  {
   "cell_type": "markdown",
   "id": "3310e73f",
   "metadata": {},
   "source": [
    "ITERATION"
   ]
  },
  {
   "cell_type": "code",
   "execution_count": 11,
   "id": "1cb7828c",
   "metadata": {},
   "outputs": [
    {
     "name": "stdout",
     "output_type": "stream",
     "text": [
      "oneplus\n",
      "vivo\n",
      "redmi\n",
      "samsung\n",
      "nokia\n"
     ]
    }
   ],
   "source": [
    "A =(\"oneplus\",\"vivo\",\"redmi\",\"samsung\",\"nokia\")\n",
    "for i in A:\n",
    "    print(i)"
   ]
  },
  {
   "cell_type": "code",
   "execution_count": 13,
   "id": "da542c82",
   "metadata": {},
   "outputs": [
    {
     "name": "stdout",
     "output_type": "stream",
     "text": [
      "oneplus\n",
      "vivo\n",
      "redmi\n",
      "samsung\n",
      "nokia\n"
     ]
    }
   ],
   "source": [
    "# Along with range and length in for loop\n",
    "\n",
    "for i in range(len(A)):\n",
    "    print(A[i])"
   ]
  },
  {
   "cell_type": "code",
   "execution_count": 15,
   "id": "6aba9695",
   "metadata": {},
   "outputs": [
    {
     "name": "stdout",
     "output_type": "stream",
     "text": [
      "oneplus\n",
      "vivo\n",
      "redmi\n",
      "samsung\n",
      "nokia\n"
     ]
    }
   ],
   "source": [
    "# Along with while loop\n",
    "\n",
    "i = 0\n",
    "while i < len(A):\n",
    "    print(A[i])\n",
    "    i+=1"
   ]
  },
  {
   "cell_type": "markdown",
   "id": "b18de34d",
   "metadata": {},
   "source": [
    "Conversion ofTuples and Tuple functions"
   ]
  },
  {
   "cell_type": "code",
   "execution_count": 19,
   "id": "6ef0621f",
   "metadata": {},
   "outputs": [
    {
     "name": "stdout",
     "output_type": "stream",
     "text": [
      "['oneplus', 'vivo', 'redmi', 'samsung', 'nokia']\n",
      "['oneplus', 'vivo', 'redmi', 'samsung', 'nokia', 'reliance']\n",
      "('oneplus', 'vivo', 'redmi', 'samsung', 'nokia', 'reliance')\n"
     ]
    }
   ],
   "source": [
    "A =(\"oneplus\",\"vivo\",\"redmi\",\"samsung\",\"nokia\")\n",
    "a =list(A)\n",
    "print(a)\n",
    "a.append(\"reliance\")\n",
    "print(a)\n",
    "c=tuple(a)\n",
    "print(c)"
   ]
  },
  {
   "cell_type": "code",
   "execution_count": 24,
   "id": "f49c43a2",
   "metadata": {},
   "outputs": [
    {
     "name": "stdout",
     "output_type": "stream",
     "text": [
      "1\n",
      "2\n"
     ]
    }
   ],
   "source": [
    "# count functioon \n",
    "A =(\"oneplus\",\"vivo\",\"redmi\",\"samsung\",\"nokia\")\n",
    "print(A.count(\"redmi\"))\n",
    "print(A.index(\"redmi\"))"
   ]
  }
 ],
 "metadata": {
  "kernelspec": {
   "display_name": "Python 3",
   "language": "python",
   "name": "python3"
  },
  "language_info": {
   "codemirror_mode": {
    "name": "ipython",
    "version": 3
   },
   "file_extension": ".py",
   "mimetype": "text/x-python",
   "name": "python",
   "nbconvert_exporter": "python",
   "pygments_lexer": "ipython3",
   "version": "3.12.4"
  }
 },
 "nbformat": 4,
 "nbformat_minor": 5
}
