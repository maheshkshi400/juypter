{
 "cells": [
  {
   "cell_type": "code",
   "execution_count": 1,
   "id": "5210a634",
   "metadata": {},
   "outputs": [
    {
     "name": "stdout",
     "output_type": "stream",
     "text": [
      "2025-08-20 10:31:17.955573\n"
     ]
    }
   ],
   "source": [
    "import datetime\n",
    "\n",
    "x = datetime.datetime.now()\n",
    "print(x)"
   ]
  },
  {
   "cell_type": "code",
   "execution_count": 10,
   "id": "3f667c64",
   "metadata": {},
   "outputs": [
    {
     "name": "stdout",
     "output_type": "stream",
     "text": [
      "1997-10-14 00:00:00\n",
      "Tuesday\n",
      "Tue\n",
      "October\n",
      "10\n",
      "1997\n",
      "97\n"
     ]
    }
   ],
   "source": [
    "y =datetime.datetime(1997,10,14)\n",
    "print(y)\n",
    "print(y.strftime(\"%A\"))\n",
    "print(y.strftime(\"%a\"))\n",
    "print(y.strftime(\"%B\"))\n",
    "print(y.strftime(\"%m\"))\n",
    "print(y.strftime(\"%Y\"))\n",
    "print(y.strftime(\"%y\"))\n"
   ]
  },
  {
   "cell_type": "code",
   "execution_count": 19,
   "id": "860fa044",
   "metadata": {},
   "outputs": [
    {
     "name": "stdout",
     "output_type": "stream",
     "text": [
      "62\n"
     ]
    }
   ],
   "source": [
    "import random\n",
    "x= random.randint(1,100)\n",
    "print(x)"
   ]
  },
  {
   "cell_type": "code",
   "execution_count": 4,
   "id": "578c41c2",
   "metadata": {},
   "outputs": [
    {
     "name": "stdout",
     "output_type": "stream",
     "text": [
      "65\n",
      "81\n",
      "14.0\n",
      "3\n",
      "3\n"
     ]
    }
   ],
   "source": [
    "import math\n",
    "x= max(32,65,40)\n",
    "print(x)\n",
    "\n",
    "z= pow(3,4)\n",
    "print(z)\n",
    "\n",
    "c=math.sqrt(196)\n",
    "print(c)\n",
    "\n",
    "k = math.ceil(2.5)\n",
    "print(k)\n",
    "\n",
    "d= math.floor(3.2)\n",
    "print(d)\n"
   ]
  },
  {
   "cell_type": "code",
   "execution_count": null,
   "id": "d3866b35",
   "metadata": {},
   "outputs": [],
   "source": []
  }
 ],
 "metadata": {
  "kernelspec": {
   "display_name": "Python 3",
   "language": "python",
   "name": "python3"
  },
  "language_info": {
   "codemirror_mode": {
    "name": "ipython",
    "version": 3
   },
   "file_extension": ".py",
   "mimetype": "text/x-python",
   "name": "python",
   "nbconvert_exporter": "python",
   "pygments_lexer": "ipython3",
   "version": "3.12.4"
  }
 },
 "nbformat": 4,
 "nbformat_minor": 5
}
