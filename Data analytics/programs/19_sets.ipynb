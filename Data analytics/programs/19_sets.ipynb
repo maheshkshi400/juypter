{
 "cells": [
  {
   "cell_type": "code",
   "execution_count": 1,
   "id": "4f88c6b0",
   "metadata": {},
   "outputs": [
    {
     "name": "stdout",
     "output_type": "stream",
     "text": [
      "{'ironman', 'hulk', 'thor', 'captain America'}\n"
     ]
    }
   ],
   "source": [
    "a= {\"ironman\",\"hulk\",\"captain America\",\"thor\"}\n",
    "print(a)"
   ]
  },
  {
   "cell_type": "code",
   "execution_count": 2,
   "id": "4d74fa97",
   "metadata": {},
   "outputs": [
    {
     "name": "stdout",
     "output_type": "stream",
     "text": [
      "ironman\n",
      "hulk\n",
      "thor\n",
      "captain America\n"
     ]
    }
   ],
   "source": [
    "for i in a:\n",
    "    print(i)"
   ]
  },
  {
   "cell_type": "markdown",
   "id": "7fbbfe34",
   "metadata": {},
   "source": [
    "set functions"
   ]
  },
  {
   "cell_type": "code",
   "execution_count": 3,
   "id": "f86bfe31",
   "metadata": {},
   "outputs": [
    {
     "name": "stdout",
     "output_type": "stream",
     "text": [
      "{'hulk', 'thor', 'captain America', 'ironman', 'spiderman'}\n"
     ]
    }
   ],
   "source": [
    "# add\n",
    "a= {\"ironman\",\"hulk\",\"captain America\",\"thor\"}\n",
    "a.add(\"spiderman\")\n",
    "print(a)"
   ]
  },
  {
   "cell_type": "code",
   "execution_count": 7,
   "id": "f5a1e805",
   "metadata": {},
   "outputs": [
    {
     "name": "stdout",
     "output_type": "stream",
     "text": [
      "{'hulk', 'thor', 'captain America'}\n"
     ]
    }
   ],
   "source": [
    "#pop\n",
    "a= {\"ironman\",\"hulk\",\"captain America\",\"thor\"}\n",
    "a.pop()\n",
    "print(a)"
   ]
  },
  {
   "cell_type": "code",
   "execution_count": 8,
   "id": "15834a4b",
   "metadata": {},
   "outputs": [
    {
     "name": "stdout",
     "output_type": "stream",
     "text": [
      "{'ironman', 'hulk', 'captain America'}\n"
     ]
    }
   ],
   "source": [
    "#remove\n",
    "a= {\"ironman\",\"hulk\",\"captain America\",\"thor\"}\n",
    "a.remove(\"thor\")\n",
    "print(a)"
   ]
  },
  {
   "cell_type": "code",
   "execution_count": 9,
   "id": "b75fbc39",
   "metadata": {},
   "outputs": [
    {
     "name": "stdout",
     "output_type": "stream",
     "text": [
      "{'ironman', 'thor', 'captain America'}\n"
     ]
    }
   ],
   "source": [
    "# discard\n",
    "a= {\"ironman\",\"hulk\",\"captain America\",\"thor\"}\n",
    "a.discard(\"hulk\")\n",
    "print(a)"
   ]
  },
  {
   "cell_type": "code",
   "execution_count": 10,
   "id": "bb5bf938",
   "metadata": {},
   "outputs": [
    {
     "name": "stdout",
     "output_type": "stream",
     "text": [
      "{'ironman', 'hulk', 'thor', 'captain America'}\n"
     ]
    }
   ],
   "source": [
    "#copy\n",
    "a= {\"ironman\",\"hulk\",\"captain America\",\"thor\"}\n",
    "b=a.copy()\n",
    "print(b)"
   ]
  },
  {
   "cell_type": "code",
   "execution_count": 11,
   "id": "d54eea73",
   "metadata": {},
   "outputs": [
    {
     "name": "stdout",
     "output_type": "stream",
     "text": [
      "False\n"
     ]
    }
   ],
   "source": [
    "#isdisjoint\n",
    "a= {\"ironman\",\"hulk\",\"captain America\",\"thor\"}\n",
    "b= {\"superman\",\"batman\",\"wonder-woman\"}\n",
    "c={\"hulk\",\"thor\"}\n",
    "\n",
    "print(a.isdisjoint(c))"
   ]
  },
  {
   "cell_type": "code",
   "execution_count": null,
   "id": "2f53eb09",
   "metadata": {},
   "outputs": [
    {
     "name": "stdout",
     "output_type": "stream",
     "text": [
      "True\n"
     ]
    }
   ],
   "source": [
    "#issubset\n",
    "a= {\"ironman\",\"hulk\",\"captain America\",\"thor\"}\n",
    "b= {\"superman\",\"batman\",\"wonder-woman\"}\n",
    "c={\"hulk\",\"thor\"}\n",
    "print(c.issubset(a))"
   ]
  },
  {
   "cell_type": "code",
   "execution_count": 13,
   "id": "562d883a",
   "metadata": {},
   "outputs": [
    {
     "name": "stdout",
     "output_type": "stream",
     "text": [
      "True\n"
     ]
    }
   ],
   "source": [
    "#issuperset\n",
    "a= {\"ironman\",\"hulk\",\"captain America\",\"thor\"}\n",
    "b= {\"superman\",\"batman\",\"wonder-woman\"}\n",
    "c={\"hulk\",\"thor\"}\n",
    "print(a.issuperset(c))"
   ]
  },
  {
   "cell_type": "code",
   "execution_count": 16,
   "id": "54d7b304",
   "metadata": {},
   "outputs": [
    {
     "name": "stdout",
     "output_type": "stream",
     "text": [
      "{'hulk', 'thor', 'ironman', 'captain America'}\n"
     ]
    }
   ],
   "source": [
    "#update\n",
    "a= {\"ironman\",\"hulk\",\"captain America\",\"thor\"}\n",
    "b= {\"superman\",\"batman\",\"wonder-woman\"}\n",
    "c={\"hulk\",\"thor\"}\n",
    "a.update(c)\n",
    "print(a)"
   ]
  },
  {
   "cell_type": "code",
   "execution_count": 17,
   "id": "6911db40",
   "metadata": {},
   "outputs": [
    {
     "name": "stdout",
     "output_type": "stream",
     "text": [
      "set()\n"
     ]
    }
   ],
   "source": [
    "#clear\n",
    "a= {\"ironman\",\"hulk\",\"captain America\",\"thor\"}\n",
    "b= {\"superman\",\"batman\",\"wonder-woman\"}\n",
    "c={\"hulk\",\"thor\"}\n",
    "c.clear()\n",
    "print(c)"
   ]
  },
  {
   "cell_type": "code",
   "execution_count": 18,
   "id": "5eb76c60",
   "metadata": {},
   "outputs": [
    {
     "name": "stdout",
     "output_type": "stream",
     "text": [
      "{'hulk', 'thor', 'superman', 'ironman', 'batman', 'wonder-woman', 'captain America'}\n"
     ]
    }
   ],
   "source": [
    "# union\n",
    "a= {\"ironman\",\"hulk\",\"captain America\",\"thor\"}\n",
    "b= {\"superman\",\"batman\",\"wonder-woman\"}\n",
    "c={\"hulk\",\"thor\"}\n",
    "print(a.union(b))\n"
   ]
  },
  {
   "cell_type": "code",
   "execution_count": 19,
   "id": "e5b7273a",
   "metadata": {},
   "outputs": [
    {
     "name": "stdout",
     "output_type": "stream",
     "text": [
      "{'ironman', 'captain America'}\n"
     ]
    }
   ],
   "source": [
    "#difference\n",
    "a= {\"ironman\",\"hulk\",\"captain America\",\"thor\"}\n",
    "b= {\"superman\",\"batman\",\"wonder-woman\"}\n",
    "c={\"hulk\",\"thor\"}\n",
    "print(a.difference(c))"
   ]
  },
  {
   "cell_type": "code",
   "execution_count": 20,
   "id": "495a5fe3",
   "metadata": {},
   "outputs": [
    {
     "name": "stdout",
     "output_type": "stream",
     "text": [
      "{'ironman', 'captain America'}\n"
     ]
    }
   ],
   "source": [
    "#difference_update\n",
    "a= {\"ironman\",\"hulk\",\"captain America\",\"thor\"}\n",
    "b= {\"superman\",\"batman\",\"wonder-woman\"}\n",
    "c={\"hulk\",\"thor\"}\n",
    "a.difference_update(c)\n",
    "print(a)"
   ]
  },
  {
   "cell_type": "code",
   "execution_count": 21,
   "id": "e08a0490",
   "metadata": {},
   "outputs": [
    {
     "name": "stdout",
     "output_type": "stream",
     "text": [
      "{'hulk', 'thor'}\n"
     ]
    }
   ],
   "source": [
    "#intersection\n",
    "a= {\"ironman\",\"hulk\",\"captain America\",\"thor\"}\n",
    "b= {\"superman\",\"batman\",\"wonder-woman\"}\n",
    "c={\"hulk\",\"thor\"}\n",
    "print(a.intersection(c))"
   ]
  },
  {
   "cell_type": "code",
   "execution_count": 24,
   "id": "6ec51eea",
   "metadata": {},
   "outputs": [
    {
     "name": "stdout",
     "output_type": "stream",
     "text": [
      "{'hulk', 'thor'}\n"
     ]
    }
   ],
   "source": [
    "a= {\"ironman\",\"hulk\",\"captain America\",\"thor\"}\n",
    "b= {\"superman\",\"batman\",\"wonder-woman\"}\n",
    "c={\"hulk\",\"thor\"}\n",
    "a.intersection_update(c)\n",
    "print(a)"
   ]
  },
  {
   "cell_type": "code",
   "execution_count": 26,
   "id": "36d71cb2",
   "metadata": {},
   "outputs": [
    {
     "name": "stdout",
     "output_type": "stream",
     "text": [
      "{'ironman', 'captain America'}\n"
     ]
    }
   ],
   "source": [
    "a= {\"ironman\",\"hulk\",\"captain America\",\"thor\"}\n",
    "b= {\"superman\",\"batman\",\"wonder-woman\"}\n",
    "c={\"hulk\",\"thor\"}\n",
    "x = a.symmetric_difference(c)\n",
    "print(x)\n"
   ]
  },
  {
   "cell_type": "code",
   "execution_count": 27,
   "id": "16f827ca",
   "metadata": {},
   "outputs": [
    {
     "name": "stdout",
     "output_type": "stream",
     "text": [
      "{'ironman', 'captain America'}\n"
     ]
    }
   ],
   "source": [
    "a= {\"ironman\",\"hulk\",\"captain America\",\"thor\"}\n",
    "b= {\"superman\",\"batman\",\"wonder-woman\"}\n",
    "c={\"hulk\",\"thor\"}\n",
    "a.symmetric_difference_update(c)\n",
    "print(a)"
   ]
  }
 ],
 "metadata": {
  "kernelspec": {
   "display_name": "Python 3",
   "language": "python",
   "name": "python3"
  },
  "language_info": {
   "codemirror_mode": {
    "name": "ipython",
    "version": 3
   },
   "file_extension": ".py",
   "mimetype": "text/x-python",
   "name": "python",
   "nbconvert_exporter": "python",
   "pygments_lexer": "ipython3",
   "version": "3.12.4"
  }
 },
 "nbformat": 4,
 "nbformat_minor": 5
}
