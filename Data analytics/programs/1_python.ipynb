{
 "cells": [
  {
   "cell_type": "markdown",
   "id": "0c42a9cd",
   "metadata": {},
   "source": [
    "write a program to sum of all even numbers upto 50"
   ]
  },
  {
   "cell_type": "code",
   "execution_count": 1,
   "id": "ecc653df",
   "metadata": {},
   "outputs": [
    {
     "name": "stdout",
     "output_type": "stream",
     "text": [
      "650\n"
     ]
    }
   ],
   "source": [
    "sum=0\n",
    "for i in range (1,51):\n",
    "    if i%2==0:\n",
    "        sum+=i\n",
    "print(sum)\n",
    "        "
   ]
  },
  {
   "cell_type": "markdown",
   "id": "ad01e453",
   "metadata": {},
   "source": [
    "write aprogram to write first 20 numbers & there squared numbers"
   ]
  },
  {
   "cell_type": "code",
   "execution_count": 2,
   "id": "058cc6db",
   "metadata": {},
   "outputs": [
    {
     "name": "stdout",
     "output_type": "stream",
     "text": [
      "1 1\n",
      "2 4\n",
      "3 9\n",
      "4 16\n",
      "5 25\n",
      "6 36\n",
      "7 49\n",
      "8 64\n",
      "9 81\n",
      "10 100\n",
      "11 121\n",
      "12 144\n",
      "13 169\n",
      "14 196\n",
      "15 225\n",
      "16 256\n",
      "17 289\n",
      "18 324\n",
      "19 361\n",
      "20 400\n"
     ]
    }
   ],
   "source": [
    "for i in range(1,21):\n",
    "    print(i,i**2)"
   ]
  },
  {
   "cell_type": "markdown",
   "id": "84399183",
   "metadata": {},
   "source": [
    "write a program to fins sum of 10 odd numbers by using while loop"
   ]
  },
  {
   "cell_type": "code",
   "execution_count": 3,
   "id": "e8cccea6",
   "metadata": {},
   "outputs": [
    {
     "name": "stdout",
     "output_type": "stream",
     "text": [
      "100\n"
     ]
    }
   ],
   "source": [
    "sum =0\n",
    "n=0\n",
    "while n <=20:\n",
    "    if n%2!=0:\n",
    "        sum+=n\n",
    "    n+=1\n",
    "print(sum)"
   ]
  },
  {
   "cell_type": "markdown",
   "id": "f31aef83",
   "metadata": {},
   "source": [
    "write a program to check if a number is divisible by 8 or 12 upto 100 numbers"
   ]
  },
  {
   "cell_type": "code",
   "execution_count": 6,
   "id": "bb3c14df",
   "metadata": {},
   "outputs": [
    {
     "name": "stdout",
     "output_type": "stream",
     "text": [
      "24\n",
      "48\n",
      "72\n",
      "96\n"
     ]
    }
   ],
   "source": [
    "for i in range(1,101):\n",
    "    if i%8==0 and i%12==0:\n",
    "        print(i)"
   ]
  },
  {
   "cell_type": "markdown",
   "id": "6bb08186",
   "metadata": {},
   "source": [
    "write a program to create billing system at supermarket"
   ]
  },
  {
   "cell_type": "code",
   "execution_count": 10,
   "id": "5f5c1762",
   "metadata": {},
   "outputs": [
    {
     "name": "stdout",
     "output_type": "stream",
     "text": [
      "Enter amount and quantity: \n",
      "Enter amount and quantity: \n",
      "----------------------------------------\n",
      "name: john\n",
      "Amount to be paid:  500.0\n",
      "----------------------------------------\n",
      "******************Happy Shopping*********************\n",
      "Enter amount and quantity: \n"
     ]
    },
    {
     "ename": "ValueError",
     "evalue": "could not convert string to float: ''",
     "output_type": "error",
     "traceback": [
      "\u001b[1;31m---------------------------------------------------------------------------\u001b[0m",
      "\u001b[1;31mValueError\u001b[0m                                Traceback (most recent call last)",
      "Cell \u001b[1;32mIn[10], line 6\u001b[0m\n\u001b[0;32m      4\u001b[0m \u001b[38;5;28;01mwhile\u001b[39;00m \u001b[38;5;28;01mTrue\u001b[39;00m:\n\u001b[0;32m      5\u001b[0m     \u001b[38;5;28mprint\u001b[39m(\u001b[38;5;124m\"\u001b[39m\u001b[38;5;124mEnter amount and quantity: \u001b[39m\u001b[38;5;124m\"\u001b[39m)\n\u001b[1;32m----> 6\u001b[0m     amount\u001b[38;5;241m=\u001b[39m \u001b[38;5;28;43mfloat\u001b[39;49m\u001b[43m(\u001b[49m\u001b[38;5;28;43minput\u001b[39;49m\u001b[43m(\u001b[49m\u001b[38;5;124;43m\"\u001b[39;49m\u001b[38;5;124;43mEnter amount: \u001b[39;49m\u001b[38;5;124;43m\"\u001b[39;49m\u001b[43m)\u001b[49m\u001b[43m)\u001b[49m\n\u001b[0;32m      7\u001b[0m     quantity\u001b[38;5;241m=\u001b[39m\u001b[38;5;28mfloat\u001b[39m(\u001b[38;5;28minput\u001b[39m(\u001b[38;5;124m\"\u001b[39m\u001b[38;5;124mEnter quantity: \u001b[39m\u001b[38;5;124m\"\u001b[39m))\n\u001b[0;32m      8\u001b[0m     total \u001b[38;5;241m+\u001b[39m\u001b[38;5;241m=\u001b[39m amount\u001b[38;5;241m*\u001b[39mquantity\n",
      "\u001b[1;31mValueError\u001b[0m: could not convert string to float: ''"
     ]
    }
   ],
   "source": [
    "while True:\n",
    "    name=input(\"enter customers name,: \")\n",
    "    total=0\n",
    "    while True:\n",
    "        print(\"Enter amount and quantity: \")\n",
    "        amount= float(input(\"Enter amount: \"))\n",
    "        quantity=float(input(\"Enter quantity: \"))\n",
    "        total += amount*quantity\n",
    "        repeat = input('Do you want to add more items? (yes/no): ')\n",
    "        if repeat ==\"no\" or repeat ==\"No\":\n",
    "            break\n",
    "    print(\"-\"*40)\n",
    "    print(\"name:\",name)\n",
    "    print(\"Amount to be paid: \",total)\n",
    "    print(\"-\"*40)\n",
    "    print(\"******************Happy Shopping*********************\")\n",
    "    repeat1= input(\"Do you want to go to next customers? (yes/no): \")\n",
    "    if repeat1==\"no\" and repeat1==\"No\":\n",
    "        break    "
   ]
  }
 ],
 "metadata": {
  "kernelspec": {
   "display_name": "Python 3",
   "language": "python",
   "name": "python3"
  },
  "language_info": {
   "codemirror_mode": {
    "name": "ipython",
    "version": 3
   },
   "file_extension": ".py",
   "mimetype": "text/x-python",
   "name": "python",
   "nbconvert_exporter": "python",
   "pygments_lexer": "ipython3",
   "version": "3.12.4"
  }
 },
 "nbformat": 4,
 "nbformat_minor": 5
}
