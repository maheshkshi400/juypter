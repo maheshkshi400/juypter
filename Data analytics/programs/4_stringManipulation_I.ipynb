{
 "cells": [
  {
   "cell_type": "markdown",
   "id": "84186d0f",
   "metadata": {},
   "source": [
    "String Manipulation "
   ]
  },
  {
   "cell_type": "markdown",
   "id": "0cff6ea9",
   "metadata": {},
   "source": [
    "length"
   ]
  },
  {
   "cell_type": "code",
   "execution_count": 1,
   "id": "90a3536f",
   "metadata": {},
   "outputs": [
    {
     "name": "stdout",
     "output_type": "stream",
     "text": [
      "5\n"
     ]
    }
   ],
   "source": [
    "a =\"Hello\"\n",
    "print(len(a))"
   ]
  },
  {
   "cell_type": "markdown",
   "id": "7ddc7947",
   "metadata": {},
   "source": [
    "count"
   ]
  },
  {
   "cell_type": "code",
   "execution_count": 4,
   "id": "5308cc3c",
   "metadata": {},
   "outputs": [
    {
     "name": "stdout",
     "output_type": "stream",
     "text": [
      "2\n"
     ]
    }
   ],
   "source": [
    "a=\"Hello world\"\n",
    "b=a.count(\"o\")\n",
    "print(b)"
   ]
  },
  {
   "cell_type": "markdown",
   "id": "1e529b53",
   "metadata": {},
   "source": [
    "upper"
   ]
  },
  {
   "cell_type": "code",
   "execution_count": 5,
   "id": "5bb470df",
   "metadata": {},
   "outputs": [
    {
     "name": "stdout",
     "output_type": "stream",
     "text": [
      "HELLO WORLD\n"
     ]
    }
   ],
   "source": [
    "a=\"hello world\"\n",
    "b=a.upper()\n",
    "print(b)"
   ]
  },
  {
   "cell_type": "markdown",
   "id": "af71f8c0",
   "metadata": {},
   "source": [
    "lower"
   ]
  },
  {
   "cell_type": "code",
   "execution_count": 7,
   "id": "b5fb4c5f",
   "metadata": {},
   "outputs": [
    {
     "name": "stdout",
     "output_type": "stream",
     "text": [
      "hello world\n"
     ]
    }
   ],
   "source": [
    "a= \"HELLO WORLD\"\n",
    "c=a.lower()\n",
    "print(c)"
   ]
  },
  {
   "cell_type": "markdown",
   "id": "978bf500",
   "metadata": {},
   "source": [
    "index"
   ]
  },
  {
   "cell_type": "code",
   "execution_count": 8,
   "id": "db438547",
   "metadata": {},
   "outputs": [
    {
     "name": "stdout",
     "output_type": "stream",
     "text": [
      "4\n"
     ]
    }
   ],
   "source": [
    "a=\"Hello World\"\n",
    "print(a.index(\"o\"))"
   ]
  },
  {
   "cell_type": "markdown",
   "id": "1b1788d5",
   "metadata": {},
   "source": [
    "capitalize"
   ]
  },
  {
   "cell_type": "code",
   "execution_count": 9,
   "id": "f5bdd1f9",
   "metadata": {},
   "outputs": [
    {
     "name": "stdout",
     "output_type": "stream",
     "text": [
      "Hello world\n"
     ]
    }
   ],
   "source": [
    "a=\"hello world\"\n",
    "print(a.capitalize())"
   ]
  },
  {
   "cell_type": "markdown",
   "id": "55f81511",
   "metadata": {},
   "source": [
    "find"
   ]
  },
  {
   "cell_type": "code",
   "execution_count": 10,
   "id": "aa1c122a",
   "metadata": {},
   "outputs": [
    {
     "name": "stdout",
     "output_type": "stream",
     "text": [
      "2\n"
     ]
    }
   ],
   "source": [
    "a=\"hello world\"\n",
    "print(a.find(\"l\"))"
   ]
  },
  {
   "cell_type": "markdown",
   "id": "654bc4e1",
   "metadata": {},
   "source": [
    "format"
   ]
  },
  {
   "cell_type": "code",
   "execution_count": 20,
   "id": "4ac56281",
   "metadata": {},
   "outputs": [
    {
     "name": "stdout",
     "output_type": "stream",
     "text": [
      "My name is Alice and I'm 25 years old.\n",
      "Pi is approximately 3.14\n"
     ]
    }
   ],
   "source": [
    "name = \"Alice\"\n",
    "age = 25\n",
    "print(f\"My name is {name} and I'm {age} years old.\")\n",
    "# Output: My name is Alice and I'm 25 years old.\n",
    "\n",
    "\n",
    "\n",
    "# With formatting\n",
    "pi = 3.14159265\n",
    "print(f\"Pi is approximately {pi:.2f}\")\n",
    "# Output: Pi is approximately 3.14"
   ]
  },
  {
   "cell_type": "markdown",
   "id": "7ec695ab",
   "metadata": {},
   "source": [
    "center\n"
   ]
  },
  {
   "cell_type": "code",
   "execution_count": 16,
   "id": "24d7d627",
   "metadata": {},
   "outputs": [
    {
     "name": "stdout",
     "output_type": "stream",
     "text": [
      "--hi-\n",
      "**python**\n",
      "  hello   \n"
     ]
    }
   ],
   "source": [
    "text = \"hi\"\n",
    "centered = text.center(5, '-')\n",
    "print(centered)  # Output: '--hi-'\n",
    "\n",
    "text = \"python\"\n",
    "centered = text.center(10, '*')\n",
    "print(centered)  # Output: '**python**'\n",
    "\n",
    "text = \"hello\"\n",
    "centered = text.center(10)\n",
    "print(centered)  # Output: '  hello   ' (2 spaces on left, 3 on right)\n"
   ]
  },
  {
   "cell_type": "markdown",
   "id": "6b6fbd58",
   "metadata": {},
   "source": [
    "casefold"
   ]
  },
  {
   "cell_type": "code",
   "execution_count": 17,
   "id": "7bbd491d",
   "metadata": {},
   "outputs": [
    {
     "name": "stdout",
     "output_type": "stream",
     "text": [
      "hello world\n"
     ]
    }
   ],
   "source": [
    "a= \"HELLO WORLD\"\n",
    "d=a.casefold()\n",
    "print(d)"
   ]
  }
 ],
 "metadata": {
  "kernelspec": {
   "display_name": "Python 3",
   "language": "python",
   "name": "python3"
  },
  "language_info": {
   "codemirror_mode": {
    "name": "ipython",
    "version": 3
   },
   "file_extension": ".py",
   "mimetype": "text/x-python",
   "name": "python",
   "nbconvert_exporter": "python",
   "pygments_lexer": "ipython3",
   "version": "3.12.4"
  }
 },
 "nbformat": 4,
 "nbformat_minor": 5
}
