{
 "cells": [
  {
   "cell_type": "markdown",
   "id": "db1f097a",
   "metadata": {},
   "source": [
    "endswith"
   ]
  },
  {
   "cell_type": "code",
   "execution_count": 1,
   "id": "c33eece3",
   "metadata": {},
   "outputs": [
    {
     "name": "stdout",
     "output_type": "stream",
     "text": [
      "True\n"
     ]
    }
   ],
   "source": [
    "a =\"Harry Potter\"\n",
    "print(a.endswith(\"r\"))"
   ]
  },
  {
   "cell_type": "markdown",
   "id": "ab098eca",
   "metadata": {},
   "source": [
    "startswith()"
   ]
  },
  {
   "cell_type": "code",
   "execution_count": 4,
   "id": "5b9addf7",
   "metadata": {},
   "outputs": [
    {
     "name": "stdout",
     "output_type": "stream",
     "text": [
      "True\n"
     ]
    }
   ],
   "source": [
    "a =\"Harry Potter\"\n",
    "print(a.startswith(\"H\"))"
   ]
  },
  {
   "cell_type": "markdown",
   "id": "f57c37f4",
   "metadata": {},
   "source": [
    "swapcase"
   ]
  },
  {
   "cell_type": "code",
   "execution_count": 6,
   "id": "6bf6c056",
   "metadata": {},
   "outputs": [
    {
     "name": "stdout",
     "output_type": "stream",
     "text": [
      "HARRY POTTER\n",
      "harry potter\n"
     ]
    }
   ],
   "source": [
    "a= \"harry potter\"\n",
    "print(a.swapcase())\n",
    "\n",
    "b=\"HARRY POTTER\"\n",
    "print(b.swapcase())"
   ]
  },
  {
   "cell_type": "markdown",
   "id": "631c87ae",
   "metadata": {},
   "source": [
    "strip()"
   ]
  },
  {
   "cell_type": "code",
   "execution_count": 11,
   "id": "99ea2803",
   "metadata": {},
   "outputs": [
    {
     "name": "stdout",
     "output_type": "stream",
     "text": [
      "    Harry potter    \n",
      "Harry potter\n",
      "Harry potter\n"
     ]
    }
   ],
   "source": [
    "a = \"    Harry potter    \"\n",
    "print(a)\n",
    "print(a.strip())\n",
    "\n",
    "\n",
    "a = \"    *****Harry potter .......   \"\n",
    "print(a.strip(\".,*, \" ))"
   ]
  },
  {
   "cell_type": "markdown",
   "id": "91c46a1f",
   "metadata": {},
   "source": [
    "split()"
   ]
  },
  {
   "cell_type": "code",
   "execution_count": 12,
   "id": "000b5300",
   "metadata": {},
   "outputs": [
    {
     "name": "stdout",
     "output_type": "stream",
     "text": [
      "['', 'abc', 'DGH', 'vbh', 'MKL']\n"
     ]
    }
   ],
   "source": [
    "b =\"#abc#DGH#vbh#MKL\"\n",
    "print(b.split(\"#\"))\n"
   ]
  },
  {
   "cell_type": "markdown",
   "id": "24cef1a8",
   "metadata": {},
   "source": [
    "ljust()"
   ]
  },
  {
   "cell_type": "code",
   "execution_count": 10,
   "id": "7022af81",
   "metadata": {},
   "outputs": [
    {
     "name": "stdout",
     "output_type": "stream",
     "text": [
      "      python language is very tough\n"
     ]
    }
   ],
   "source": [
    "p =\"      python\"\n",
    "x= p.ljust(20,\"*\")\n",
    "print(p,\"language is very tough\")"
   ]
  },
  {
   "cell_type": "markdown",
   "id": "50730026",
   "metadata": {},
   "source": [
    "rjust()"
   ]
  },
  {
   "cell_type": "code",
   "execution_count": 14,
   "metadata": {},
   "outputs": [
    {
     "name": "stdout",
     "output_type": "stream",
     "text": [
      "      python language is very tough\n"
     ]
    }
   ],
   "source": [
    "p =\"      python\"\n",
    "x= p.rjust(10)\n",
    "print(p,\"language is very tough\")"
   ]
  },
  {
   "cell_type": "markdown",
   "id": "63cd6608",
   "metadata": {},
   "source": [
    "replace()"
   ]
  },
  {
   "cell_type": "code",
   "execution_count": 15,
   "id": "22915435",
   "metadata": {},
   "outputs": [
    {
     "name": "stdout",
     "output_type": "stream",
     "text": [
      "My name is Nikita\n"
     ]
    }
   ],
   "source": [
    "a =\"My name is john\" \n",
    "print(a.replace(\"john\",\"Nikita\"))"
   ]
  },
  {
   "cell_type": "markdown",
   "id": "ce95248f",
   "metadata": {},
   "source": [
    "rindex()"
   ]
  },
  {
   "cell_type": "code",
   "execution_count": 16,
   "id": "42e46142",
   "metadata": {},
   "outputs": [
    {
     "name": "stdout",
     "output_type": "stream",
     "text": [
      "5\n"
     ]
    }
   ],
   "source": [
    "a= \"hary potter and globlet o fire\"\n",
    "print(a.rindex(\"potter\"))"
   ]
  },
  {
   "cell_type": "markdown",
   "id": "5c22f980",
   "metadata": {},
   "source": [
    "rfind()"
   ]
  },
  {
   "cell_type": "code",
   "execution_count": 17,
   "id": "62574265",
   "metadata": {},
   "outputs": [
    {
     "name": "stdout",
     "output_type": "stream",
     "text": [
      "5\n"
     ]
    }
   ],
   "source": [
    "a= \"hary potter and globlet o fire\"\n",
    "print(a.rfind(\"potter\"))"
   ]
  },
  {
   "cell_type": "code",
   "execution_count": null,
   "id": "2a1aa44f",
   "metadata": {},
   "outputs": [],
   "source": []
  }
 ],
 "metadata": {
  "kernelspec": {
   "display_name": "Python 3",
   "language": "python",
   "name": "python3"
  },
  "language_info": {
   "codemirror_mode": {
    "name": "ipython",
    "version": 3
   },
   "file_extension": ".py",
   "mimetype": "text/x-python",
   "name": "python",
   "nbconvert_exporter": "python",
   "pygments_lexer": "ipython3",
   "version": "3.12.4"
  }
 },
 "nbformat": 4,
 "nbformat_minor": 5
}
