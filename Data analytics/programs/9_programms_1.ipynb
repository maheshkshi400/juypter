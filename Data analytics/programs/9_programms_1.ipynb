{
 "cells": [
  {
   "cell_type": "markdown",
   "id": "e57e5d1e",
   "metadata": {},
   "source": [
    "Take an input from the string and reverse it"
   ]
  },
  {
   "cell_type": "code",
   "execution_count": 5,
   "id": "30a91404",
   "metadata": {},
   "outputs": [
    {
     "name": "stdout",
     "output_type": "stream",
     "text": [
      "olleh\n"
     ]
    }
   ],
   "source": [
    "a =input(\"Enter the string here \")\n",
    "c=a[::-1]\n",
    "print(c)"
   ]
  },
  {
   "cell_type": "markdown",
   "id": "64c447e5",
   "metadata": {},
   "source": [
    "Write a program to check if a string cotains only digit\n"
   ]
  },
  {
   "cell_type": "code",
   "execution_count": 9,
   "id": "19a506a3",
   "metadata": {},
   "outputs": [
    {
     "name": "stdout",
     "output_type": "stream",
     "text": [
      "the strings contains not only digits\n"
     ]
    }
   ],
   "source": [
    "c = input(\"Enter the string here: \")\n",
    "count=0\n",
    "d= c.isdigit()\n",
    "if d==True:\n",
    "    print(\"the strings contains digit only\")\n",
    "else:\n",
    "    print(\"the strings contains not only digits\")"
   ]
  },
  {
   "cell_type": "markdown",
   "id": "e3143434",
   "metadata": {},
   "source": [
    "write a program to check given string is pallindrom or not."
   ]
  },
  {
   "cell_type": "code",
   "execution_count": null,
   "id": "01164686",
   "metadata": {},
   "outputs": [
    {
     "name": "stdout",
     "output_type": "stream",
     "text": [
      "the given string a is pallindrome :\n"
     ]
    }
   ],
   "source": [
    "a = input(\"Enter the string here: \")\n",
    "b=a[::-1]\n",
    "if b==a:\n",
    "    print(\"the given string is pallindrome\")\n",
    "else:\n",
    "    print(\"the given string is not pallindrome\")\n"
   ]
  },
  {
   "cell_type": "markdown",
   "id": "d8eca62b",
   "metadata": {},
   "source": [
    "wrte a program to find number of vowels in the given string"
   ]
  },
  {
   "cell_type": "code",
   "execution_count": 5,
   "id": "4e2937e7",
   "metadata": {},
   "outputs": [
    {
     "name": "stdout",
     "output_type": "stream",
     "text": [
      "total vowels 5\n"
     ]
    }
   ],
   "source": [
    "a = input(\"Enter the string here: \")\n",
    "count =0\n",
    "x =[\"a\",\"e\",\"i\",\"o\",\"u\",\"A\",\"E\",\"I\",\"O\",\"U\"]\n",
    "for char in a:\n",
    "    if char in x:\n",
    "        count+=1\n",
    "print(\"total vowels\",count)\n",
    " \n",
    "    \n",
    "    "
   ]
  },
  {
   "cell_type": "code",
   "execution_count": 6,
   "id": "59506767",
   "metadata": {},
   "outputs": [
    {
     "name": "stdout",
     "output_type": "stream",
     "text": [
      "Vowel counts:\n",
      "a: 0\n",
      "e: 1\n",
      "i: 1\n",
      "o: 2\n",
      "u: 1\n"
     ]
    }
   ],
   "source": [
    "a = input(\"Enter the string here: \").lower()  # Convert to lowercase to simplify\n",
    "vowel_counts = {'a': 0, 'e': 0, 'i': 0, 'o': 0, 'u': 0}\n",
    "\n",
    "for char in a:\n",
    "    if char in vowel_counts:\n",
    "        vowel_counts[char] += 1\n",
    "\n",
    "print(\"Vowel counts:\")\n",
    "for vowel, count in vowel_counts.items():\n",
    "    print(f\"{vowel}: {count}\")"
   ]
  },
  {
   "cell_type": "markdown",
   "id": "af9b0d84",
   "metadata": {},
   "source": [
    "write a program to check if every word in a string begins with capital letters"
   ]
  },
  {
   "cell_type": "code",
   "execution_count": 7,
   "id": "3fdfc683",
   "metadata": {},
   "outputs": [
    {
     "name": "stdout",
     "output_type": "stream",
     "text": [
      "True\n"
     ]
    }
   ],
   "source": [
    "a= input(\"Enter the string here: \")\n",
    "print(a.istitle())"
   ]
  }
 ],
 "metadata": {
  "kernelspec": {
   "display_name": "Python 3",
   "language": "python",
   "name": "python3"
  },
  "language_info": {
   "codemirror_mode": {
    "name": "ipython",
    "version": 3
   },
   "file_extension": ".py",
   "mimetype": "text/x-python",
   "name": "python",
   "nbconvert_exporter": "python",
   "pygments_lexer": "ipython3",
   "version": "3.12.4"
  }
 },
 "nbformat": 4,
 "nbformat_minor": 5
}
