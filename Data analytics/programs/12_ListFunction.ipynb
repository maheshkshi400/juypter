{
 "cells": [
  {
   "cell_type": "markdown",
   "id": "60d9fc0d",
   "metadata": {},
   "source": [
    "to find length of the list"
   ]
  },
  {
   "cell_type": "code",
   "execution_count": 1,
   "id": "7e9f0703",
   "metadata": {},
   "outputs": [
    {
     "name": "stdout",
     "output_type": "stream",
     "text": [
      "4\n"
     ]
    }
   ],
   "source": [
    "a= [\"hulk\",\"captain america\",\"ironman\",\"thor\"]\n",
    "print(len(a))"
   ]
  },
  {
   "cell_type": "markdown",
   "id": "2ba148ed",
   "metadata": {},
   "source": [
    "to count an occourences of a particular element"
   ]
  },
  {
   "cell_type": "code",
   "execution_count": 2,
   "id": "c057fca1",
   "metadata": {},
   "outputs": [
    {
     "name": "stdout",
     "output_type": "stream",
     "text": [
      "2\n"
     ]
    }
   ],
   "source": [
    "a= [\"hulk\",\"captain america\",\"ironman\",\"thor\",\"hulk\"]\n",
    "print(a.count(\"hulk\"))\n",
    "    "
   ]
  },
  {
   "cell_type": "markdown",
   "id": "d05fc239",
   "metadata": {},
   "source": [
    "to add in the list\n"
   ]
  },
  {
   "cell_type": "code",
   "execution_count": 5,
   "id": "eb79359e",
   "metadata": {},
   "outputs": [
    {
     "name": "stdout",
     "output_type": "stream",
     "text": [
      "['hulk', 'captain america', 'ironman', 'thor', 'hulk', 'harry potter']\n"
     ]
    }
   ],
   "source": [
    "a= [\"hulk\",\"captain america\",\"ironman\",\"thor\",\"hulk\"]\n",
    "a.append(\"harry potter\")\n",
    "print(a)"
   ]
  },
  {
   "cell_type": "markdown",
   "id": "625c7be6",
   "metadata": {},
   "source": [
    "to add to a specific location"
   ]
  },
  {
   "cell_type": "code",
   "execution_count": 6,
   "id": "c4115ec0",
   "metadata": {},
   "outputs": [
    {
     "name": "stdout",
     "output_type": "stream",
     "text": [
      "['hulk', 'captain america', 'ironman', 'vision', 'thor', 'hulk']\n"
     ]
    }
   ],
   "source": [
    "a= [\"hulk\",\"captain america\",\"ironman\",\"thor\",\"hulk\"]\n",
    "a.insert(3,\"vision\")\n",
    "print(a)"
   ]
  },
  {
   "cell_type": "markdown",
   "id": "5a5e389a",
   "metadata": {},
   "source": [
    "to remove from a list"
   ]
  },
  {
   "cell_type": "code",
   "execution_count": 13,
   "id": "4f693498",
   "metadata": {},
   "outputs": [
    {
     "name": "stdout",
     "output_type": "stream",
     "text": [
      "['captain america', 'ironman', 'thor']\n"
     ]
    }
   ],
   "source": [
    "\n",
    "a= [\"hulk\",\"captain america\",\"ironman\",\"thor\"]\n",
    "a.remove(\"hulk\")\n",
    "print(a)"
   ]
  },
  {
   "cell_type": "markdown",
   "id": "b55a9b5d",
   "metadata": {},
   "source": [
    "to remove from a certain location"
   ]
  },
  {
   "cell_type": "code",
   "execution_count": 16,
   "id": "89c1d007",
   "metadata": {},
   "outputs": [
    {
     "name": "stdout",
     "output_type": "stream",
     "text": [
      "captain america\n",
      "['ironman']\n"
     ]
    }
   ],
   "source": [
    "print(a.pop(0))\n",
    "print(a)"
   ]
  },
  {
   "cell_type": "markdown",
   "id": "81c16347",
   "metadata": {},
   "source": [
    "to create a copy of list"
   ]
  },
  {
   "cell_type": "code",
   "execution_count": 17,
   "id": "5e64c114",
   "metadata": {},
   "outputs": [
    {
     "name": "stdout",
     "output_type": "stream",
     "text": [
      "['hulk', 'captain america', 'ironman', 'thor']\n"
     ]
    }
   ],
   "source": [
    "a= [\"hulk\",\"captain america\",\"ironman\",\"thor\"]\n",
    "b=a.copy()\n",
    "print(b)"
   ]
  },
  {
   "cell_type": "markdown",
   "id": "467f0c0b",
   "metadata": {},
   "source": [
    "to access an element"
   ]
  },
  {
   "cell_type": "code",
   "execution_count": 18,
   "id": "67a06fb0",
   "metadata": {},
   "outputs": [
    {
     "name": "stdout",
     "output_type": "stream",
     "text": [
      "0\n"
     ]
    }
   ],
   "source": [
    "print(a.index(\"hulk\"))"
   ]
  },
  {
   "cell_type": "markdown",
   "id": "2c8b9aee",
   "metadata": {},
   "source": [
    "to extend the list"
   ]
  },
  {
   "cell_type": "code",
   "execution_count": 20,
   "id": "ea522386",
   "metadata": {},
   "outputs": [
    {
     "name": "stdout",
     "output_type": "stream",
     "text": [
      "['hulk', 'captain america', 'ironman', 'thor', 'vision', 'spiderman', 'vision', 'spiderman']\n"
     ]
    }
   ],
   "source": [
    "c= [\"vision\",\"spiderman\"]\n",
    "a.extend(c)\n",
    "print(a)"
   ]
  },
  {
   "cell_type": "markdown",
   "id": "1456aebd",
   "metadata": {},
   "source": [
    "to reverse the list"
   ]
  },
  {
   "cell_type": "code",
   "execution_count": 21,
   "id": "5cc7046c",
   "metadata": {},
   "outputs": [
    {
     "name": "stdout",
     "output_type": "stream",
     "text": [
      "['spiderman', 'vision', 'spiderman', 'vision', 'thor', 'ironman', 'captain america', 'hulk']\n"
     ]
    }
   ],
   "source": [
    "a.reverse()\n",
    "print(a)"
   ]
  },
  {
   "cell_type": "markdown",
   "id": "0f574c5d",
   "metadata": {},
   "source": [
    "to sort the list"
   ]
  },
  {
   "cell_type": "code",
   "execution_count": 22,
   "id": "eacc546b",
   "metadata": {},
   "outputs": [
    {
     "name": "stdout",
     "output_type": "stream",
     "text": [
      "['captain america', 'hulk', 'ironman', 'spiderman', 'spiderman', 'thor', 'vision', 'vision']\n"
     ]
    }
   ],
   "source": [
    "a.sort()\n",
    "print(a)"
   ]
  },
  {
   "cell_type": "markdown",
   "id": "88faa7bd",
   "metadata": {},
   "source": [
    "to clear all the data from list"
   ]
  },
  {
   "cell_type": "markdown",
   "id": "a14c03f0",
   "metadata": {},
   "source": []
  }
 ],
 "metadata": {
  "kernelspec": {
   "display_name": "Python 3",
   "language": "python",
   "name": "python3"
  },
  "language_info": {
   "codemirror_mode": {
    "name": "ipython",
    "version": 3
   },
   "file_extension": ".py",
   "mimetype": "text/x-python",
   "name": "python",
   "nbconvert_exporter": "python",
   "pygments_lexer": "ipython3",
   "version": "3.12.4"
  }
 },
 "nbformat": 4,
 "nbformat_minor": 5
}
