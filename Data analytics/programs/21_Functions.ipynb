{
 "cells": [
  {
   "cell_type": "code",
   "execution_count": 1,
   "id": "04f6b67e",
   "metadata": {},
   "outputs": [
    {
     "name": "stdout",
     "output_type": "stream",
     "text": [
      "hello world\n"
     ]
    }
   ],
   "source": [
    "def hello():\n",
    "    print(\"hello world\")\n",
    "\n",
    "hello()"
   ]
  },
  {
   "cell_type": "code",
   "execution_count": 2,
   "id": "dbcead96",
   "metadata": {},
   "outputs": [
    {
     "name": "stdout",
     "output_type": "stream",
     "text": [
      "81\n"
     ]
    }
   ],
   "source": [
    "def add():\n",
    "    x=56\n",
    "    y=25\n",
    "    print(x+y)\n",
    "\n",
    "add()"
   ]
  },
  {
   "cell_type": "markdown",
   "id": "56bb9c1d",
   "metadata": {},
   "source": [
    "Parameters & Arguments"
   ]
  },
  {
   "cell_type": "code",
   "execution_count": 4,
   "id": "86c59f46",
   "metadata": {},
   "outputs": [
    {
     "name": "stdout",
     "output_type": "stream",
     "text": [
      "7\n",
      "35\n"
     ]
    }
   ],
   "source": [
    "def add(x,y):\n",
    "    print(x+y)\n",
    "\n",
    "add(2,5)\n",
    "add(15,20)"
   ]
  },
  {
   "cell_type": "code",
   "execution_count": 5,
   "id": "56f0dfa8",
   "metadata": {},
   "outputs": [
    {
     "name": "stdout",
     "output_type": "stream",
     "text": [
      "may name is lisa\n"
     ]
    }
   ],
   "source": [
    "def hello(*name):\n",
    "    print(\"may name is\",name[1])\n",
    "    \n",
    "hello(\"john\",\"lisa\",\"peter\")"
   ]
  },
  {
   "cell_type": "markdown",
   "id": "b1c0fec7",
   "metadata": {},
   "source": [
    "Return statement and Recursion in python"
   ]
  },
  {
   "cell_type": "code",
   "execution_count": 6,
   "id": "0f762828",
   "metadata": {},
   "outputs": [
    {
     "name": "stdout",
     "output_type": "stream",
     "text": [
      "hello world\n"
     ]
    }
   ],
   "source": [
    "def hello():\n",
    "    return (\"hello world\")\n",
    "\n",
    "print(hello())"
   ]
  },
  {
   "cell_type": "code",
   "execution_count": 8,
   "id": "95e659b4",
   "metadata": {},
   "outputs": [
    {
     "data": {
      "text/plain": [
       "('the addition of two number is', 17)"
      ]
     },
     "execution_count": 8,
     "metadata": {},
     "output_type": "execute_result"
    }
   ],
   "source": [
    "def add(a,b):\n",
    "    return(\"the addition of two number is\",a+b)\n",
    "\n",
    "add(2,6)\n",
    "add(9,8)"
   ]
  },
  {
   "cell_type": "markdown",
   "id": "3aa77f9b",
   "metadata": {},
   "source": [
    "Recursion"
   ]
  },
  {
   "cell_type": "code",
   "execution_count": 9,
   "id": "c69458c1",
   "metadata": {},
   "outputs": [
    {
     "name": "stdout",
     "output_type": "stream",
     "text": [
      "120\n"
     ]
    }
   ],
   "source": [
    "def fact(n):\n",
    "    if n==1:\n",
    "        return 1\n",
    "    else:\n",
    "        return n*fact(n-1)\n",
    "\n",
    "print(fact(5))"
   ]
  },
  {
   "cell_type": "markdown",
   "id": "3e72a99a",
   "metadata": {},
   "source": [
    "LAMBDA FUNCTION IN PYTHON"
   ]
  },
  {
   "cell_type": "code",
   "execution_count": 15,
   "id": "e1afdb00",
   "metadata": {},
   "outputs": [
    {
     "name": "stdout",
     "output_type": "stream",
     "text": [
      "25\n",
      "24\n",
      "63\n"
     ]
    }
   ],
   "source": [
    "a = lambda b: b*5\n",
    "print(a(5))\n",
    "\n",
    "\n",
    "c =lambda d: 3*d\n",
    "print(c(8))\n",
    "\n",
    "x = lambda a,b,c: (a+b)*c\n",
    "print(x(3,4,9))"
   ]
  },
  {
   "cell_type": "markdown",
   "id": "7238d21e",
   "metadata": {},
   "source": [
    "LOCAL AND GLOBAL VARIABLES"
   ]
  },
  {
   "cell_type": "code",
   "execution_count": 16,
   "id": "b36c84ba",
   "metadata": {},
   "outputs": [
    {
     "name": "stdout",
     "output_type": "stream",
     "text": [
      "First variable x is 24\n",
      "25\n"
     ]
    }
   ],
   "source": [
    "# LOCAL VARIABLE\n",
    "\n",
    "x=24\n",
    "print(\"First variable x is\",x)\n",
    "\n",
    "def hello():\n",
    "    x= 25\n",
    "    return x\n",
    "\n",
    "print(hello())"
   ]
  },
  {
   "cell_type": "code",
   "execution_count": 18,
   "id": "ccd05f81",
   "metadata": {},
   "outputs": [
    {
     "name": "stdout",
     "output_type": "stream",
     "text": [
      "First variable x is 24\n",
      "25\n",
      "25\n"
     ]
    }
   ],
   "source": [
    "# global variable\n",
    "x=24\n",
    "print(\"First variable x is\",x)\n",
    "\n",
    "def hello():\n",
    "    global x\n",
    "    x= 25\n",
    "    return x\n",
    "\n",
    "print(hello())\n",
    "print(x)"
   ]
  }
 ],
 "metadata": {
  "kernelspec": {
   "display_name": "Python 3",
   "language": "python",
   "name": "python3"
  },
  "language_info": {
   "codemirror_mode": {
    "name": "ipython",
    "version": 3
   },
   "file_extension": ".py",
   "mimetype": "text/x-python",
   "name": "python",
   "nbconvert_exporter": "python",
   "pygments_lexer": "ipython3",
   "version": "3.12.4"
  }
 },
 "nbformat": 4,
 "nbformat_minor": 5
}
