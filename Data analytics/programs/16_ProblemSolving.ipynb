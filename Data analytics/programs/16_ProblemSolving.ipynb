{
 "cells": [
  {
   "cell_type": "markdown",
   "id": "17b1fe5d",
   "metadata": {},
   "source": [
    "covert the following dictionary into json format"
   ]
  },
  {
   "cell_type": "code",
   "execution_count": 1,
   "id": "d8592f86",
   "metadata": {},
   "outputs": [
    {
     "name": "stdout",
     "output_type": "stream",
     "text": [
      "{\"Name\": \"David\", \"age\": 13, \"marks\": 87}\n",
      "<class 'str'>\n"
     ]
    }
   ],
   "source": [
    "import json\n",
    "student_data = {\"Name\":\"David\",\"age\":13,\"marks\":87}\n",
    "data = json.dumps(student_data)\n",
    "print(data)\n",
    "print(type(data))"
   ]
  },
  {
   "cell_type": "markdown",
   "id": "3012736d",
   "metadata": {},
   "source": [
    "Acess the value of age from the given data"
   ]
  },
  {
   "cell_type": "code",
   "execution_count": null,
   "id": "cf038ed0",
   "metadata": {},
   "outputs": [],
   "source": [
    "import json\n",
    "student_data = {\"Name\":\"David\",\"age\":13,\"marks\":87}\n",
    "data = json.loads(student_data)\n",
    "print(data[\"age\"])"
   ]
  },
  {
   "cell_type": "markdown",
   "id": "e193664c",
   "metadata": {},
   "source": [
    "pretty print following data"
   ]
  },
  {
   "cell_type": "code",
   "execution_count": 5,
   "id": "858679a9",
   "metadata": {},
   "outputs": [
    {
     "name": "stdout",
     "output_type": "stream",
     "text": [
      "{\n",
      "    \"Name\"=\"David\",\n",
      "    \"age\"=13,\n",
      "    \"marks\"=87\n",
      "}\n"
     ]
    }
   ],
   "source": [
    "import json\n",
    "student_data = {\"Name\":\"David\",\"age\":13,\"marks\":87}\n",
    "data = json.dumps(student_data,indent=4,separators=(\",\",\"=\"))\n",
    "print(data)"
   ]
  }
 ],
 "metadata": {
  "kernelspec": {
   "display_name": "Python 3",
   "language": "python",
   "name": "python3"
  },
  "language_info": {
   "codemirror_mode": {
    "name": "ipython",
    "version": 3
   },
   "file_extension": ".py",
   "mimetype": "text/x-python",
   "name": "python",
   "nbconvert_exporter": "python",
   "pygments_lexer": "ipython3",
   "version": "3.12.4"
  }
 },
 "nbformat": 4,
 "nbformat_minor": 5
}
