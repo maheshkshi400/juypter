{
 "cells": [
  {
   "cell_type": "markdown",
   "id": "1cae45a8",
   "metadata": {},
   "source": [
    "Iteration using for loop\n"
   ]
  },
  {
   "cell_type": "code",
   "execution_count": 1,
   "id": "cc50ed83",
   "metadata": {},
   "outputs": [
    {
     "name": "stdout",
     "output_type": "stream",
     "text": [
      "hulk\n",
      "captain america\n",
      "ironman\n",
      "thor\n"
     ]
    }
   ],
   "source": [
    "a = [\"hulk\",\"captain america\",\"ironman\",\"thor\"]\n",
    "for i in a:\n",
    "    print(i)"
   ]
  },
  {
   "cell_type": "markdown",
   "id": "d8dcdd89",
   "metadata": {},
   "source": [
    "iteration using for loop and length function"
   ]
  },
  {
   "cell_type": "code",
   "execution_count": 2,
   "id": "3f590b76",
   "metadata": {},
   "outputs": [
    {
     "name": "stdout",
     "output_type": "stream",
     "text": [
      "hulk\n",
      "captain america\n",
      "ironman\n",
      "thor\n"
     ]
    }
   ],
   "source": [
    "for i in range(len(a)):\n",
    "    print(a[i])"
   ]
  },
  {
   "cell_type": "markdown",
   "id": "d60433d3",
   "metadata": {},
   "source": [
    "iteration using while loop"
   ]
  },
  {
   "cell_type": "code",
   "execution_count": null,
   "id": "f26434bb",
   "metadata": {},
   "outputs": [
    {
     "name": "stdout",
     "output_type": "stream",
     "text": [
      "hulk\n",
      "captain america\n",
      "ironman\n",
      "thor\n"
     ]
    }
   ],
   "source": [
    "a = [\"hulk\",\"captain america\",\"ironman\",\"thor\"]\n",
    "\n",
    "i = 0                      # Initialize a counter variable i to 0\n",
    "while i < len(a):          # Continue looping as long as i is less than the length of a\n",
    "    print(a[i])            # Print the element at index i of a\n",
    "    i += 1                 # Increment i by 1"
   ]
  },
  {
   "cell_type": "markdown",
   "id": "42f25481",
   "metadata": {},
   "source": [
    "using short-hand for loop"
   ]
  },
  {
   "cell_type": "code",
   "execution_count": 5,
   "id": "99e19668",
   "metadata": {},
   "outputs": [
    {
     "name": "stdout",
     "output_type": "stream",
     "text": [
      "hulk\n",
      "captain america\n",
      "ironman\n",
      "thor\n"
     ]
    },
    {
     "data": {
      "text/plain": [
       "[None, None, None, None]"
      ]
     },
     "execution_count": 5,
     "metadata": {},
     "output_type": "execute_result"
    }
   ],
   "source": [
    "[print(i) for i in a]"
   ]
  }
 ],
 "metadata": {
  "kernelspec": {
   "display_name": "Python 3",
   "language": "python",
   "name": "python3"
  },
  "language_info": {
   "codemirror_mode": {
    "name": "ipython",
    "version": 3
   },
   "file_extension": ".py",
   "mimetype": "text/x-python",
   "name": "python",
   "nbconvert_exporter": "python",
   "pygments_lexer": "ipython3",
   "version": "3.12.4"
  }
 },
 "nbformat": 4,
 "nbformat_minor": 5
}
