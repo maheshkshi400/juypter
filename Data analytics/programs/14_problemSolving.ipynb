{
 "cells": [
  {
   "cell_type": "markdown",
   "id": "03acb61a",
   "metadata": {},
   "source": [
    "write a program to swap first and fourth element"
   ]
  },
  {
   "cell_type": "code",
   "execution_count": null,
   "id": "b51a05da",
   "metadata": {},
   "outputs": [
    {
     "name": "stdout",
     "output_type": "stream",
     "text": [
      "['Joe', 'Racheal', 'Monica', 'Ross']\n"
     ]
    }
   ],
   "source": [
    "A = [\"Ross\",\"Racheal\",\"Monica\",\"Joe\"]\n",
    "A[0],A[3]=A[3],A[0]\n",
    "print(A)"
   ]
  },
  {
   "cell_type": "markdown",
   "id": "200f8dc2",
   "metadata": {},
   "source": [
    "Write a program to add a new value at second position"
   ]
  },
  {
   "cell_type": "code",
   "execution_count": null,
   "id": "e84d158c",
   "metadata": {},
   "outputs": [
    {
     "name": "stdout",
     "output_type": "stream",
     "text": [
      "['Ross', 'phoebe', 'Racheal', 'Monica', 'Joe']\n"
     ]
    }
   ],
   "source": [
    "A = [\"Ross\",\"Racheal\",\"Monica\",\"Joe\"]\n",
    "A.insert(1,\"phoebe\")\n",
    "print(A)"
   ]
  },
  {
   "cell_type": "markdown",
   "id": "2d4467e3",
   "metadata": {},
   "source": [
    "Write a program to delete value from 3rd position"
   ]
  },
  {
   "cell_type": "code",
   "execution_count": null,
   "id": "68911766",
   "metadata": {},
   "outputs": [
    {
     "name": "stdout",
     "output_type": "stream",
     "text": [
      "['Ross', 'phoebe', 'Racheal', 'Monica', 'Joe']\n",
      "['Ross', 'phoebe', 'Monica', 'Joe']\n"
     ]
    }
   ],
   "source": [
    "print(A)\n",
    "A.pop(2)\n",
    "print(A)"
   ]
  },
  {
   "cell_type": "markdown",
   "id": "05732545",
   "metadata": {},
   "source": [
    "Write a program to multiply all the numbers in the list"
   ]
  },
  {
   "cell_type": "code",
   "execution_count": null,
   "id": "25efae28",
   "metadata": {},
   "outputs": [
    {
     "name": "stdout",
     "output_type": "stream",
     "text": [
      "10920\n"
     ]
    }
   ],
   "source": [
    "B = [13,7,12,10]\n",
    "mul = 1\n",
    "for i in B:\n",
    "    mul*=i\n",
    "print(mul)"
   ]
  },
  {
   "cell_type": "markdown",
   "id": "51def470",
   "metadata": {},
   "source": [
    "Write a program to get the largest number from the list"
   ]
  },
  {
   "cell_type": "code",
   "execution_count": null,
   "id": "db84866d",
   "metadata": {},
   "outputs": [
    {
     "name": "stdout",
     "output_type": "stream",
     "text": [
      "[7, 10, 12, 13]\n",
      "The largest value in the given list is 13\n"
     ]
    }
   ],
   "source": [
    "B = [13,7,12,10]\n",
    "B.sort()\n",
    "print(B)\n",
    "print(\"The largest value in the given list is\",B[-1])"
   ]
  },
  {
   "cell_type": "markdown",
   "id": "29a9e3a9",
   "metadata": {},
   "source": [
    "write a program get the smallest number from the list"
   ]
  },
  {
   "cell_type": "code",
   "execution_count": 1,
   "id": "640bdca4",
   "metadata": {},
   "outputs": [
    {
     "name": "stdout",
     "output_type": "stream",
     "text": [
      "[7, 10, 12, 13]\n",
      "The smallest value in the given list is 7\n"
     ]
    }
   ],
   "source": [
    "B = [13,7,12,10]\n",
    "B.sort()\n",
    "print(B)\n",
    "print(\"The smallest value in the given list is\",B[0])"
   ]
  }
 ],
 "metadata": {
  "kernelspec": {
   "display_name": "Python 3",
   "language": "python",
   "name": "python3"
  },
  "language_info": {
   "codemirror_mode": {
    "name": "ipython",
    "version": 3
   },
   "file_extension": ".py",
   "mimetype": "text/x-python",
   "name": "python",
   "nbconvert_exporter": "python",
   "pygments_lexer": "ipython3",
   "version": "3.12.4"
  }
 },
 "nbformat": 4,
 "nbformat_minor": 5
}
