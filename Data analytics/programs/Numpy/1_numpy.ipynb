{
 "cells": [
  {
   "cell_type": "code",
   "execution_count": 3,
   "id": "7ac3a4a8",
   "metadata": {},
   "outputs": [
    {
     "name": "stdout",
     "output_type": "stream",
     "text": [
      "[20 30 40]\n",
      "[50 60 70]\n",
      "[ 70  90 110]\n"
     ]
    }
   ],
   "source": [
    "import numpy as np\n",
    "\n",
    "a= np.array([20,30,40])\n",
    "b= np.array([50,60,70])\n",
    "print(a)\n",
    "print(b)\n",
    "print(a+b)"
   ]
  },
  {
   "cell_type": "code",
   "execution_count": 2,
   "id": "eee18bee",
   "metadata": {},
   "outputs": [
    {
     "name": "stdout",
     "output_type": "stream",
     "text": [
      "[20, 30, 40, 50, 60, 70]\n"
     ]
    }
   ],
   "source": [
    "l1= [20,30,40]\n",
    "l2= [50,60,70]\n",
    "print(l1+l2)"
   ]
  },
  {
   "cell_type": "code",
   "execution_count": 5,
   "id": "634e1393-e56a-4526-8726-7175134ebf37",
   "metadata": {},
   "outputs": [
    {
     "name": "stdout",
     "output_type": "stream",
     "text": [
      "[20, 30, 40]\n"
     ]
    }
   ],
   "source": [
    "l1= [20,30,40]\n",
    "print(l1)"
   ]
  },
  {
   "cell_type": "code",
   "execution_count": 7,
   "id": "6a8e60c4-cf8b-439d-b82e-8c2d9338b23d",
   "metadata": {},
   "outputs": [
    {
     "name": "stdout",
     "output_type": "stream",
     "text": [
      "[70, 80, 90]\n"
     ]
    }
   ],
   "source": [
    "l2=[70,80,90]\n",
    "print(l2)"
   ]
  },
  {
   "cell_type": "code",
   "execution_count": 1,
   "id": "7a31a55a-23e6-458c-a244-7db7a1a5a571",
   "metadata": {},
   "outputs": [
    {
     "name": "stdout",
     "output_type": "stream",
     "text": [
      "[[10 20 30 40]\n",
      " [50 60 70 80]]\n"
     ]
    }
   ],
   "source": [
    "import  numpy as np \n",
    "arr = np.array([[10,20,30,40],[50,60,70,80]])\n",
    "print(arr)"
   ]
  },
  {
   "cell_type": "code",
   "execution_count": 4,
   "id": "955851a5",
   "metadata": {},
   "outputs": [
    {
     "name": "stdout",
     "output_type": "stream",
     "text": [
      "(2, 4)\n",
      "8\n",
      "2\n"
     ]
    }
   ],
   "source": [
    "import  numpy as np \n",
    "arr = np.array([[10,20,30,40],[50,60,70,80]])\n",
    "print(np.shape(arr))\n",
    "print(np.size(arr))\n",
    "print(np.ndim(arr))"
   ]
  },
  {
   "cell_type": "code",
   "execution_count": 11,
   "id": "68f2874f",
   "metadata": {},
   "outputs": [
    {
     "name": "stdout",
     "output_type": "stream",
     "text": [
      "(2, 4)\n",
      "8\n",
      "2\n",
      "int32\n",
      "[[10 20 30 40]\n",
      " [50 60 70 80]]\n"
     ]
    }
   ],
   "source": [
    "a = [[10,20,30,40],[50,60,70,80]]\n",
    "arr=np.array(a)\n",
    "print(arr.shape)\n",
    "print(arr.size)\n",
    "print(len(arr))\n",
    "print(arr.dtype)\n",
    "print(arr.astype(int))"
   ]
  },
  {
   "cell_type": "markdown",
   "id": "87028e77",
   "metadata": {},
   "source": [
    "mathematical functions"
   ]
  },
  {
   "cell_type": "code",
   "execution_count": 13,
   "id": "ed550902",
   "metadata": {},
   "outputs": [
    {
     "name": "stdout",
     "output_type": "stream",
     "text": [
      "[ 60  80 100 120]\n",
      "[ 60  80 100 120]\n"
     ]
    }
   ],
   "source": [
    "import numpy as np\n",
    "arr1 = np.array([10,20,30,40])\n",
    "arr2 = np.array([50,60,70,80])\n",
    "print(arr1+arr2)\n",
    "print(np.add(arr1,arr2))"
   ]
  },
  {
   "cell_type": "code",
   "execution_count": 15,
   "id": "d9c1840c",
   "metadata": {},
   "outputs": [
    {
     "name": "stdout",
     "output_type": "stream",
     "text": [
      "[[-40 -40]\n",
      " [-40 -40]]\n",
      "[[-40 -40]\n",
      " [-40 -40]]\n"
     ]
    }
   ],
   "source": [
    "import numpy as np\n",
    "arr1 = np.array([[10,20],[30,40]])\n",
    "arr2 = np.array([[50,60],[70,80]])\n",
    "print(arr1-arr2)\n",
    "print(np.subtract(arr1,arr2))"
   ]
  },
  {
   "cell_type": "markdown",
   "id": "7bcb3463",
   "metadata": {},
   "source": [
    "combining and splitting the arrays"
   ]
  },
  {
   "cell_type": "code",
   "execution_count": 17,
   "id": "7ec6d17e",
   "metadata": {},
   "outputs": [
    {
     "name": "stdout",
     "output_type": "stream",
     "text": [
      "[10 20 30 40  1  2  3  4]\n"
     ]
    }
   ],
   "source": [
    "# concatenate\n",
    "\n",
    "arr1 = np.array([10,20,30,40])\n",
    "arr2 = np.array([1,2,3,4])\n",
    "print(np.concatenate([arr1,arr2]))\n"
   ]
  },
  {
   "cell_type": "code",
   "execution_count": 20,
   "id": "9a655f10",
   "metadata": {},
   "outputs": [
    {
     "name": "stdout",
     "output_type": "stream",
     "text": [
      "[[10 20]\n",
      " [30 40]\n",
      " [ 1  2]\n",
      " [ 3  4]]\n"
     ]
    }
   ],
   "source": [
    "arr1 = np.array([[10,20],[30,40]])\n",
    "arr2 = np.array([[1,2],[3,4]])\n",
    "print(np.concatenate([arr1,arr2],axis=0))"
   ]
  },
  {
   "cell_type": "code",
   "execution_count": 21,
   "id": "2972db5e",
   "metadata": {},
   "outputs": [
    {
     "name": "stdout",
     "output_type": "stream",
     "text": [
      "[[10 20  1  2]\n",
      " [30 40  3  4]]\n"
     ]
    }
   ],
   "source": [
    "print(np.hstack([arr1,arr2]))"
   ]
  },
  {
   "cell_type": "code",
   "execution_count": 22,
   "id": "c5eda692",
   "metadata": {},
   "outputs": [
    {
     "name": "stdout",
     "output_type": "stream",
     "text": [
      "[[10 20]\n",
      " [30 40]\n",
      " [ 1  2]\n",
      " [ 3  4]]\n"
     ]
    }
   ],
   "source": [
    "print(np.vstack([arr1,arr2]))"
   ]
  },
  {
   "cell_type": "code",
   "execution_count": 23,
   "id": "9a78e38c",
   "metadata": {},
   "outputs": [
    {
     "name": "stdout",
     "output_type": "stream",
     "text": [
      "[array([10, 20]), array([40, 60]), array([70, 80])]\n"
     ]
    }
   ],
   "source": [
    "a = np.array([10,20,40,60,70,80])\n",
    "print(np.array_split(a,3))"
   ]
  },
  {
   "cell_type": "markdown",
   "id": "b7c38e05",
   "metadata": {},
   "source": [
    "adding and removing arrays"
   ]
  },
  {
   "cell_type": "code",
   "execution_count": 24,
   "id": "6ab85118",
   "metadata": {},
   "outputs": [
    {
     "name": "stdout",
     "output_type": "stream",
     "text": [
      "[20 40 60 80 90]\n"
     ]
    }
   ],
   "source": [
    "import numpy as np\n",
    "\n",
    "a= np.array([20,40,60,80])\n",
    "print(np.append(a,90))"
   ]
  },
  {
   "cell_type": "code",
   "execution_count": 25,
   "id": "13994628",
   "metadata": {},
   "outputs": [
    {
     "name": "stdout",
     "output_type": "stream",
     "text": [
      "[20 50 40 60 80]\n"
     ]
    }
   ],
   "source": [
    "print(np.insert(a,1,50))"
   ]
  },
  {
   "cell_type": "code",
   "execution_count": 26,
   "id": "bfe3e91a",
   "metadata": {},
   "outputs": [
    {
     "name": "stdout",
     "output_type": "stream",
     "text": [
      "[20 60 80]\n"
     ]
    }
   ],
   "source": [
    "print(np.delete(a,1))"
   ]
  },
  {
   "cell_type": "markdown",
   "id": "d734b229",
   "metadata": {},
   "source": [
    "sort,filter and search"
   ]
  },
  {
   "cell_type": "code",
   "execution_count": null,
   "id": "7e5ed89f",
   "metadata": {},
   "outputs": [
    {
     "name": "stdout",
     "output_type": "stream",
     "text": [
      "[ 2  3  4  6  9 12]\n"
     ]
    }
   ],
   "source": [
    "# Sort\n",
    "a = np.array([3,2,9,6,12,4])\n",
    "print(np.sort(a))"
   ]
  },
  {
   "cell_type": "code",
   "execution_count": 28,
   "id": "7403776a",
   "metadata": {},
   "outputs": [
    {
     "name": "stdout",
     "output_type": "stream",
     "text": [
      "(array([1], dtype=int64),)\n"
     ]
    }
   ],
   "source": [
    "# search\n",
    "a = np.array([3,2,9,6,12,4])\n",
    "s= np.where(a==2)\n",
    "print(s)"
   ]
  },
  {
   "cell_type": "code",
   "execution_count": 35,
   "id": "3d743f77",
   "metadata": {},
   "outputs": [
    {
     "name": "stdout",
     "output_type": "stream",
     "text": [
      "4\n"
     ]
    }
   ],
   "source": [
    "# searchsorted\n",
    "b = np.array([4,9,12,16,18])\n",
    "ss = np.searchsorted(b,18)\n",
    "print(ss)"
   ]
  },
  {
   "cell_type": "code",
   "execution_count": null,
   "id": "c2226c91",
   "metadata": {},
   "outputs": [
    {
     "name": "stdout",
     "output_type": "stream",
     "text": [
      "[20 40]\n"
     ]
    }
   ],
   "source": [
    "# filter\n",
    "c= np.array([20,30,40,50])\n",
    "t=[True,False,True,False]\n",
    "new=c[t]\n",
    "print(new)"
   ]
  },
  {
   "cell_type": "code",
   "execution_count": 38,
   "id": "60f8e9c1",
   "metadata": {},
   "outputs": [
    {
     "name": "stdout",
     "output_type": "stream",
     "text": [
      "[40 50]\n"
     ]
    }
   ],
   "source": [
    "c= np.array([20,30,40,50])\n",
    "fa =c>35\n",
    "new=c[fa]\n",
    "print(new)"
   ]
  },
  {
   "cell_type": "markdown",
   "id": "83787320",
   "metadata": {},
   "source": [
    "Aggregating functions in numpy"
   ]
  },
  {
   "cell_type": "code",
   "execution_count": 45,
   "id": "16a28252",
   "metadata": {},
   "outputs": [
    {
     "name": "stdout",
     "output_type": "stream",
     "text": [
      "160\n",
      "20\n",
      "70\n",
      "4\n",
      "40.0\n",
      "[ 20  50  90 160]\n",
      "[     20     600   24000 1680000]\n"
     ]
    }
   ],
   "source": [
    "d= np.array([20,30,40,70])\n",
    "print(np.sum(d))\n",
    "print(np.min(d))\n",
    "print(np.max(d))\n",
    "print(np.size(d))\n",
    "print(np.mean(d))\n",
    "print(np.cumsum(d))\n",
    "print(np.cumprod(d))"
   ]
  },
  {
   "cell_type": "markdown",
   "id": "0ee78afd",
   "metadata": {},
   "source": [
    "stastical functions in numpy"
   ]
  },
  {
   "cell_type": "code",
   "execution_count": 52,
   "id": "fb8632cd",
   "metadata": {},
   "outputs": [
    {
     "name": "stdout",
     "output_type": "stream",
     "text": [
      "244.375\n",
      "275.0\n",
      "300\n",
      "55.98200045550355\n",
      "3133.984375\n"
     ]
    }
   ],
   "source": [
    "import numpy as np\n",
    "import statistics as stat\n",
    "baked_food = [200,300,150,280,270,175,280,300]\n",
    "a=np.array(baked_food)\n",
    "print(np.mean(baked_food))\n",
    "print(np.median(baked_food))\n",
    "print(stat.mode(baked_food))\n",
    "print(np.std(baked_food))\n",
    "print(np.var(baked_food))"
   ]
  },
  {
   "cell_type": "code",
   "execution_count": 53,
   "id": "ab3dd810",
   "metadata": {},
   "outputs": [
    {
     "name": "stdout",
     "output_type": "stream",
     "text": [
      "[[1.         0.63745942]\n",
      " [0.63745942 1.        ]]\n"
     ]
    }
   ],
   "source": [
    "# coreational coeficients\n",
    "\n",
    "tobacco_consumption = [30,50,10,30,40,50]\n",
    "deaths = [100,90,70,60,90,110]\n",
    "print(np.corrcoef(tobacco_consumption,deaths))"
   ]
  },
  {
   "cell_type": "code",
   "execution_count": 54,
   "id": "4c07035b",
   "metadata": {},
   "outputs": [
    {
     "name": "stdout",
     "output_type": "stream",
     "text": [
      "[[1.         0.86152918]\n",
      " [0.86152918 1.        ]]\n"
     ]
    }
   ],
   "source": [
    "price = [110,140,170,200,300]\n",
    "sales =[10,5,9,10,20]\n",
    "print(np.corrcoef(price,sales))"
   ]
  }
 ],
 "metadata": {
  "kernelspec": {
   "display_name": "Python 3",
   "language": "python",
   "name": "python3"
  },
  "language_info": {
   "codemirror_mode": {
    "name": "ipython",
    "version": 3
   },
   "file_extension": ".py",
   "mimetype": "text/x-python",
   "name": "python",
   "nbconvert_exporter": "python",
   "pygments_lexer": "ipython3",
   "version": "3.12.4"
  }
 },
 "nbformat": 4,
 "nbformat_minor": 5
}
