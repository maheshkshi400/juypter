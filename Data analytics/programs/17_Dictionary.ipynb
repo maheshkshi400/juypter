{
 "cells": [
  {
   "cell_type": "code",
   "execution_count": 1,
   "id": "e887ab3d",
   "metadata": {},
   "outputs": [
    {
     "name": "stdout",
     "output_type": "stream",
     "text": [
      "{'Name': 'David', 'age': 24, 'gender': 'male'}\n",
      "24\n"
     ]
    }
   ],
   "source": [
    "employee_data={\"Name\":\"David\",\"age\":24,\"gender\":\"male\"}\n",
    "print(employee_data)\n",
    "print(employee_data[\"age\"])"
   ]
  },
  {
   "cell_type": "markdown",
   "id": "a9995067",
   "metadata": {},
   "source": [
    "iteration in dictionary"
   ]
  },
  {
   "cell_type": "code",
   "execution_count": 2,
   "id": "0e1bb0d7",
   "metadata": {},
   "outputs": [
    {
     "name": "stdout",
     "output_type": "stream",
     "text": [
      "Name\n",
      "class\n",
      "roll_no\n"
     ]
    }
   ],
   "source": [
    "# printitng all the keys names one by one\n",
    "\n",
    "student={\"Name\":\"john\",\"class\":\"6th_class\",\"roll_no\":23}\n",
    "for i in student:\n",
    "    print(i)"
   ]
  },
  {
   "cell_type": "code",
   "execution_count": null,
   "id": "dad5a089",
   "metadata": {},
   "outputs": [
    {
     "name": "stdout",
     "output_type": "stream",
     "text": [
      "john\n",
      "6th_class\n",
      "23\n"
     ]
    }
   ],
   "source": [
    "# printitng all the values names one by one\n",
    "\n",
    "student={\"Name\":\"john\",\"class\":\"6th_class\",\"roll_no\":23}\n",
    "for i in student:\n",
    "    print(student[i])\n",
    "    \n"
   ]
  },
  {
   "cell_type": "code",
   "execution_count": 4,
   "id": "b0ec5bdd",
   "metadata": {},
   "outputs": [
    {
     "name": "stdout",
     "output_type": "stream",
     "text": [
      "john\n",
      "6th_class\n",
      "23\n"
     ]
    }
   ],
   "source": [
    "# using value function \n",
    "\n",
    "student={\"Name\":\"john\",\"class\":\"6th_class\",\"roll_no\":23}\n",
    "for i in student.values():\n",
    "    print(i)"
   ]
  },
  {
   "cell_type": "code",
   "execution_count": 6,
   "id": "71b5ce64",
   "metadata": {},
   "outputs": [
    {
     "name": "stdout",
     "output_type": "stream",
     "text": [
      "Name john\n",
      "class 6th_class\n",
      "roll_no 23\n"
     ]
    }
   ],
   "source": [
    "# using item function \n",
    "\n",
    "student={\"Name\":\"john\",\"class\":\"6th_class\",\"roll_no\":23}\n",
    "for x,y in student.items():\n",
    "    print(x,y)"
   ]
  },
  {
   "cell_type": "markdown",
   "id": "ebd28e4f",
   "metadata": {},
   "source": [
    "Dictionary function"
   ]
  },
  {
   "cell_type": "code",
   "execution_count": 8,
   "id": "4f49b005",
   "metadata": {},
   "outputs": [
    {
     "name": "stdout",
     "output_type": "stream",
     "text": [
      "23\n"
     ]
    }
   ],
   "source": [
    "#get \n",
    "\n",
    "student={\"Name\":\"john\",\"class\":\"6th_class\",\"roll_no\":23}\n",
    "x=student.get(\"roll_no\")\n",
    "print(x)"
   ]
  },
  {
   "cell_type": "code",
   "execution_count": 9,
   "id": "0f24a272",
   "metadata": {},
   "outputs": [
    {
     "name": "stdout",
     "output_type": "stream",
     "text": [
      "dict_items([('Name', 'john'), ('class', '6th_class'), ('roll_no', 23)])\n"
     ]
    }
   ],
   "source": [
    "#item \n",
    "\n",
    "student={\"Name\":\"john\",\"class\":\"6th_class\",\"roll_no\":23}\n",
    "x=student.items()\n",
    "print(x)"
   ]
  },
  {
   "cell_type": "code",
   "execution_count": 10,
   "id": "08eb9b60",
   "metadata": {},
   "outputs": [
    {
     "name": "stdout",
     "output_type": "stream",
     "text": [
      "dict_keys(['Name', 'class', 'roll_no'])\n"
     ]
    }
   ],
   "source": [
    "#keys\n",
    "student={\"Name\":\"john\",\"class\":\"6th_class\",\"roll_no\":23}\n",
    "x=student.keys()\n",
    "print(x)"
   ]
  },
  {
   "cell_type": "code",
   "execution_count": 11,
   "id": "cc1763af",
   "metadata": {},
   "outputs": [
    {
     "name": "stdout",
     "output_type": "stream",
     "text": [
      "dict_values(['john', '6th_class', 23])\n"
     ]
    }
   ],
   "source": [
    "# values\n",
    "student={\"Name\":\"john\",\"class\":\"6th_class\",\"roll_no\":23}\n",
    "x=student.values()\n",
    "print(x)"
   ]
  },
  {
   "cell_type": "code",
   "execution_count": 12,
   "id": "20475eca",
   "metadata": {},
   "outputs": [
    {
     "name": "stdout",
     "output_type": "stream",
     "text": [
      "{'Name': 'john', 'class': '6th_class', 'roll_no': 23}\n"
     ]
    }
   ],
   "source": [
    "# copy\n",
    "student={\"Name\":\"john\",\"class\":\"6th_class\",\"roll_no\":23}\n",
    "b=student.copy()\n",
    "print(b)"
   ]
  },
  {
   "cell_type": "code",
   "execution_count": 14,
   "id": "0032d4fb",
   "metadata": {},
   "outputs": [
    {
     "name": "stdout",
     "output_type": "stream",
     "text": [
      "23\n"
     ]
    }
   ],
   "source": [
    "# setdefault\n",
    "student={\"Name\":\"john\",\"class\":\"6th_class\",\"roll_no\":23}\n",
    "b=student.setdefault(\"roll_no\",24)\n",
    "print(b)"
   ]
  },
  {
   "cell_type": "code",
   "execution_count": 16,
   "id": "136343ed",
   "metadata": {},
   "outputs": [
    {
     "name": "stdout",
     "output_type": "stream",
     "text": [
      "{'Name': 'john', 'class': '6th_class', 'roll_no': 24}\n"
     ]
    }
   ],
   "source": [
    "# update\n",
    "student = {\"Name\": \"john\", \"class\": \"6th_class\", \"roll_no\": 23}\n",
    "student.update({\"roll_no\": 24})\n",
    "print(student)"
   ]
  },
  {
   "cell_type": "code",
   "execution_count": 17,
   "id": "1ee2668a",
   "metadata": {},
   "outputs": [
    {
     "name": "stdout",
     "output_type": "stream",
     "text": [
      "{'Name': 'john', 'class': '6th_class'}\n",
      "The removed roll number is: 23\n"
     ]
    }
   ],
   "source": [
    "# pop\n",
    "\n",
    "student = {\"Name\": \"john\", \"class\": \"6th_class\", \"roll_no\": 23}\n",
    "roll_no_value = student.pop(\"roll_no\")\n",
    "print(student)\n",
    "print(f\"The removed roll number is: {roll_no_value}\")"
   ]
  },
  {
   "cell_type": "code",
   "execution_count": 18,
   "id": "e9a58371",
   "metadata": {},
   "outputs": [
    {
     "name": "stdout",
     "output_type": "stream",
     "text": [
      "{'Name': 'john', 'class': '6th_class'}\n"
     ]
    }
   ],
   "source": [
    "# del\n",
    "student = {\"Name\": \"john\", \"class\": \"6th_class\", \"roll_no\": 23}\n",
    "del student[\"roll_no\"]\n",
    "print(student)"
   ]
  },
  {
   "cell_type": "code",
   "execution_count": 19,
   "id": "887e7eac",
   "metadata": {},
   "outputs": [
    {
     "name": "stdout",
     "output_type": "stream",
     "text": [
      "Original dictionary: {'name': 'john', 'class': '6th_class', 'roll_no': 23, 'age': 12}\n",
      "Removed item: ('age', 12)\n",
      "Dictionary after popitem(): {'name': 'john', 'class': '6th_class', 'roll_no': 23}\n"
     ]
    }
   ],
   "source": [
    "# popitem\n",
    "# A sample dictionary\n",
    "student = {\"name\": \"john\", \"class\": \"6th_class\", \"roll_no\": 23}\n",
    "\n",
    "# Add a new item to the dictionary\n",
    "student[\"age\"] = 12\n",
    "\n",
    "print(\"Original dictionary:\", student)\n",
    "\n",
    "# Use popitem() to remove the last item\n",
    "removed_item = student.popitem()\n",
    "\n",
    "print(\"Removed item:\", removed_item)\n",
    "print(\"Dictionary after popitem():\", student)"
   ]
  },
  {
   "cell_type": "code",
   "execution_count": 20,
   "id": "2358efcf",
   "metadata": {},
   "outputs": [
    {
     "name": "stdout",
     "output_type": "stream",
     "text": [
      "Original dictionary: {'name': 'john', 'class': '6th_class', 'roll_no': 23}\n",
      "Dictionary after clear(): {}\n"
     ]
    }
   ],
   "source": [
    "# Create a sample dictionary\n",
    "student = {\"name\": \"john\", \"class\": \"6th_class\", \"roll_no\": 23}\n",
    "print(f\"Original dictionary: {student}\")\n",
    "\n",
    "# Use the clear() method to empty the dictionary\n",
    "student.clear()\n",
    "print(f\"Dictionary after clear(): {student}\")"
   ]
  },
  {
   "cell_type": "markdown",
   "id": "873b8151",
   "metadata": {},
   "source": [
    "nested dictionaries"
   ]
  },
  {
   "cell_type": "code",
   "execution_count": 22,
   "id": "d68f6b3e",
   "metadata": {},
   "outputs": [
    {
     "name": "stdout",
     "output_type": "stream",
     "text": [
      "{1: {'name': 'john', 'age': 24, 'gender': 'male'}, 2: {'name': 'lisa', 'age': 26, 'gender': 'female'}}\n"
     ]
    }
   ],
   "source": [
    "Employee ={1:{\"name\":\"john\",\"age\":24,\"gender\":\"male\"},\n",
    "           2:{\"name\":\"lisa\",\"age\":26,\"gender\":\"female\"}}\n",
    "print(Employee)"
   ]
  },
  {
   "cell_type": "code",
   "execution_count": 23,
   "id": "960baacd",
   "metadata": {},
   "outputs": [
    {
     "name": "stdout",
     "output_type": "stream",
     "text": [
      "26\n"
     ]
    }
   ],
   "source": [
    "print(Employee[2][\"age\"])"
   ]
  }
 ],
 "metadata": {
  "kernelspec": {
   "display_name": "Python 3",
   "language": "python",
   "name": "python3"
  },
  "language_info": {
   "codemirror_mode": {
    "name": "ipython",
    "version": 3
   },
   "file_extension": ".py",
   "mimetype": "text/x-python",
   "name": "python",
   "nbconvert_exporter": "python",
   "pygments_lexer": "ipython3",
   "version": "3.12.4"
  }
 },
 "nbformat": 4,
 "nbformat_minor": 5
}
