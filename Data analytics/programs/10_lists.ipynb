{
 "cells": [
  {
   "cell_type": "code",
   "execution_count": 2,
   "id": "b33b0e17",
   "metadata": {},
   "outputs": [
    {
     "name": "stdout",
     "output_type": "stream",
     "text": [
      "['Apple', 'Mango', 'Banana']\n",
      "<class 'list'>\n"
     ]
    }
   ],
   "source": [
    "fruits =[\"Apple\",\"Mango\",\"Banana\"]\n",
    "print(fruits)\n",
    "print(type(fruits))"
   ]
  },
  {
   "cell_type": "markdown",
   "id": "8a441a94",
   "metadata": {},
   "source": [
    "LIST SLICING"
   ]
  },
  {
   "cell_type": "code",
   "execution_count": 6,
   "id": "31035f33",
   "metadata": {},
   "outputs": [
    {
     "name": "stdout",
     "output_type": "stream",
     "text": [
      "['hulk', 'thor']\n"
     ]
    }
   ],
   "source": [
    "a = [\"ironman\",\"thor\",\"captain America\",\"hulk\"]\n",
    "b=a[::-2]\n",
    "print(b)"
   ]
  },
  {
   "cell_type": "code",
   "execution_count": 7,
   "id": "a4340cb7",
   "metadata": {},
   "outputs": [
    {
     "name": "stdout",
     "output_type": "stream",
     "text": [
      "['ironman', 'thor']\n"
     ]
    }
   ],
   "source": [
    "a = [\"ironman\",\"thor\",\"captain America\",\"hulk\"]\n",
    "b=a[:2]\n",
    "print(b)"
   ]
  }
 ],
 "metadata": {
  "kernelspec": {
   "display_name": "Python 3",
   "language": "python",
   "name": "python3"
  },
  "language_info": {
   "codemirror_mode": {
    "name": "ipython",
    "version": 3
   },
   "file_extension": ".py",
   "mimetype": "text/x-python",
   "name": "python",
   "nbconvert_exporter": "python",
   "pygments_lexer": "ipython3",
   "version": "3.12.4"
  }
 },
 "nbformat": 4,
 "nbformat_minor": 5
}
