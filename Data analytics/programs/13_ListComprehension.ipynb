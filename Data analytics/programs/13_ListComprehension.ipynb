{
 "cells": [
  {
   "cell_type": "code",
   "execution_count": 3,
   "id": "20c8c112",
   "metadata": {},
   "outputs": [
    {
     "name": "stdout",
     "output_type": "stream",
     "text": [
      "[10, 20, 30, 40, 50]\n"
     ]
    }
   ],
   "source": [
    "l1 = [10, 20, 30, 40, 50]\n",
    "l2 = []  # Initialize as a list, not a dictionary\n",
    "for i in l1:\n",
    "    l2.append(i)\n",
    "print(l2)  # Output: [10, 20, 30, 40, 50]"
   ]
  },
  {
   "cell_type": "code",
   "execution_count": 5,
   "id": "006af59f",
   "metadata": {},
   "outputs": [
    {
     "name": "stdout",
     "output_type": "stream",
     "text": [
      "[50]\n"
     ]
    }
   ],
   "source": [
    "l1 = [10, 20, 30, 40, 50]\n",
    "l2 = []  # Initialize as a list, not a dictionary\n",
    "for i in l1:\n",
    "    if i>45:\n",
    "        l2.append(i)\n",
    "print(l2)"
   ]
  },
  {
   "cell_type": "code",
   "execution_count": 13,
   "id": "d2e88653",
   "metadata": {},
   "outputs": [
    {
     "name": "stdout",
     "output_type": "stream",
     "text": [
      "[10, 20, 30, 40, 50]\n"
     ]
    }
   ],
   "source": [
    "l1 = [10, 20, 30, 40, 50]\n",
    "l3 = [i for i in l1 ]  # Correct list comprehension\n",
    "print(l3)  # Output: [10, 20, 30, 40, 50]"
   ]
  },
  {
   "cell_type": "code",
   "execution_count": 14,
   "id": "c48fd363",
   "metadata": {},
   "outputs": [
    {
     "name": "stdout",
     "output_type": "stream",
     "text": [
      "[50]\n"
     ]
    }
   ],
   "source": [
    "l1 = [10, 20, 30, 40, 50]\n",
    "l3 = [i for i in l1 if i>45]  # Correct list comprehension\n",
    "print(l3)"
   ]
  }
 ],
 "metadata": {
  "kernelspec": {
   "display_name": "Python 3",
   "language": "python",
   "name": "python3"
  },
  "language_info": {
   "codemirror_mode": {
    "name": "ipython",
    "version": 3
   },
   "file_extension": ".py",
   "mimetype": "text/x-python",
   "name": "python",
   "nbconvert_exporter": "python",
   "pygments_lexer": "ipython3",
   "version": "3.12.4"
  }
 },
 "nbformat": 4,
 "nbformat_minor": 5
}
