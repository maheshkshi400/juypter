{
 "cells": [
  {
   "cell_type": "markdown",
   "id": "31c10005",
   "metadata": {},
   "source": [
    "write a program to find length of the string"
   ]
  },
  {
   "cell_type": "code",
   "execution_count": 1,
   "id": "20ab2781",
   "metadata": {},
   "outputs": [
    {
     "name": "stdout",
     "output_type": "stream",
     "text": [
      "42\n"
     ]
    }
   ],
   "source": [
    "A =\"why fit in,when you are born to stand out!\"\n",
    "\n",
    "print(len(A))"
   ]
  },
  {
   "cell_type": "markdown",
   "id": "26513b1a",
   "metadata": {},
   "source": [
    "write a program to check how many time alphabet o is occourning"
   ]
  },
  {
   "cell_type": "code",
   "execution_count": 4,
   "id": "14e4cd7e",
   "metadata": {},
   "outputs": [
    {
     "name": "stdout",
     "output_type": "stream",
     "text": [
      "the number of times o is occouring 4\n"
     ]
    }
   ],
   "source": [
    "A =\"why fit in,when you are born to stand out!\"\n",
    "\n",
    "print(\"the number of times o is occouring\",A.count(\"o\"))\n",
    "    \n",
    "\n"
   ]
  },
  {
   "cell_type": "markdown",
   "id": "f23e3b03",
   "metadata": {},
   "source": [
    "write a program to convert the string into upper case and lower case"
   ]
  },
  {
   "cell_type": "code",
   "execution_count": 7,
   "id": "3ef1571d",
   "metadata": {},
   "outputs": [
    {
     "name": "stdout",
     "output_type": "stream",
     "text": [
      "WHY FIT IN,WHEN YOU ARE BORN TO STAND OUT!\n",
      "why fit in,when you are born to stand out!\n"
     ]
    }
   ],
   "source": [
    "A =\"why fit in,when you are born to stand out!\"\n",
    "b=A.upper()\n",
    "print(b)\n",
    "x=A.lower()\n",
    "print(x)\n"
   ]
  },
  {
   "cell_type": "markdown",
   "id": "ca074a8d",
   "metadata": {},
   "source": [
    "write a program to find index number of\"fit in\".\n"
   ]
  },
  {
   "cell_type": "code",
   "execution_count": 8,
   "id": "9fd03af3",
   "metadata": {},
   "outputs": [
    {
     "name": "stdout",
     "output_type": "stream",
     "text": [
      "4\n"
     ]
    }
   ],
   "source": [
    "print(A.find(\"fit in\"))"
   ]
  },
  {
   "cell_type": "markdown",
   "id": "01cd2387",
   "metadata": {},
   "source": [
    "write a program to conver the given sting into title"
   ]
  },
  {
   "cell_type": "code",
   "execution_count": 9,
   "id": "cf899db3",
   "metadata": {},
   "outputs": [
    {
     "name": "stdout",
     "output_type": "stream",
     "text": [
      "Why Fit In,When You Are Born To Stand Out!\n"
     ]
    }
   ],
   "source": [
    "A =\"why fit in,when you are born to stand out!\"\n",
    "\n",
    "b=A.title()\n",
    "print(b)"
   ]
  }
 ],
 "metadata": {
  "kernelspec": {
   "display_name": "Python 3",
   "language": "python",
   "name": "python3"
  },
  "language_info": {
   "codemirror_mode": {
    "name": "ipython",
    "version": 3
   },
   "file_extension": ".py",
   "mimetype": "text/x-python",
   "name": "python",
   "nbconvert_exporter": "python",
   "pygments_lexer": "ipython3",
   "version": "3.12.4"
  }
 },
 "nbformat": 4,
 "nbformat_minor": 5
}
