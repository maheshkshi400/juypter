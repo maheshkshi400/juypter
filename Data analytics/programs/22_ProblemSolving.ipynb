{
 "cells": [
  {
   "cell_type": "code",
   "execution_count": 2,
   "id": "3f0481e0",
   "metadata": {},
   "outputs": [
    {
     "name": "stdout",
     "output_type": "stream",
     "text": [
      "91 is the greatest number\n"
     ]
    }
   ],
   "source": [
    "def maximum_num(val1, val2, val3):\n",
    "    if val1 > val2 and val1 > val3:\n",
    "        print(val1, \"is the greatest number\")\n",
    "    elif val2 > val3 and val2 > val1:\n",
    "        print(val2, \"is the greatest number\")\n",
    "    else:\n",
    "        print(val3, \"is the greatest number\")\n",
    "\n",
    "maximum_num(20, 57, 91)"
   ]
  },
  {
   "cell_type": "code",
   "execution_count": 4,
   "id": "732374fa",
   "metadata": {},
   "outputs": [
    {
     "name": "stdout",
     "output_type": "stream",
     "text": [
      "[1, 4, 9, 16, 25, 36, 49, 64, 81, 100, 121, 144, 169, 196, 225, 256, 289, 324, 361, 400, 441, 484, 529, 576, 625, 676, 729, 784, 841, 900]\n"
     ]
    }
   ],
   "source": [
    "# Write a python function to create and print a list where the values are square of the numbers between 1 and 30 \n",
    "\n",
    "def create_list():\n",
    "    l = []\n",
    "    for i in range(1,31):\n",
    "        l.append(i**2)\n",
    "    return l\n",
    "\n",
    "print(create_list())"
   ]
  },
  {
   "cell_type": "code",
   "execution_count": 6,
   "id": "4d3e6c8d",
   "metadata": {},
   "outputs": [
    {
     "name": "stdout",
     "output_type": "stream",
     "text": [
      "the number 23 is prime number\n"
     ]
    },
    {
     "data": {
      "text/plain": [
       "True"
      ]
     },
     "execution_count": 6,
     "metadata": {},
     "output_type": "execute_result"
    }
   ],
   "source": [
    "# write a python function that takes a number as a parameter and check if the number is prime or not\n",
    "\n",
    "def check_prime(num):\n",
    "    if num <= 1:\n",
    "        print(f\"the number {num} is not a prime number\")\n",
    "        return False\n",
    "    if num == 2:\n",
    "        print(f\"the number {num} is prime number\")\n",
    "        return True\n",
    "    if num > 2:\n",
    "        for i in range(2, num):\n",
    "            if num % i == 0:  # Fixed: check if num is divisible by i\n",
    "                print(f\"the number {num} is not prime number\")\n",
    "                return False\n",
    "        # If no divisors found, it's prime\n",
    "        print(f\"the number {num} is prime number\")\n",
    "        return True\n",
    "\n",
    "# Test the function\n",
    "check_prime(23)"
   ]
  },
  {
   "cell_type": "code",
   "execution_count": null,
   "id": "d44e5349",
   "metadata": {},
   "outputs": [
    {
     "name": "stdout",
     "output_type": "stream",
     "text": [
      "37\n"
     ]
    }
   ],
   "source": [
    "# Write a function to sum all the numbers in the list\n",
    "\n",
    "def add(numbers):\n",
    "    total = 0\n",
    "    for i in numbers:\n",
    "        total += i\n",
    "    return total  # Moved outside the for loop\n",
    "\n",
    "# Correct way to call the function\n",
    "print(add([12, 3, 4, 5, 6, 7]))  # Use parentheses () and pass a list"
   ]
  },
  {
   "cell_type": "code",
   "execution_count": 10,
   "id": "e9f23859",
   "metadata": {},
   "outputs": [
    {
     "name": "stdout",
     "output_type": "stream",
     "text": [
      "36\n"
     ]
    }
   ],
   "source": [
    "# Write a function to sum all the numbers in the list(using recursion)\n",
    "def add(numbers):\n",
    "    if len(numbers)==1:\n",
    "        return (numbers[0])\n",
    "    else:\n",
    "        return (numbers[0]+add(numbers[1:]))\n",
    "print(add([1,2,3,4,5,6,7,8]))"
   ]
  },
  {
   "cell_type": "code",
   "execution_count": 13,
   "id": "e38cc322",
   "metadata": {},
   "outputs": [
    {
     "name": "stdout",
     "output_type": "stream",
     "text": [
      "8\n"
     ]
    }
   ],
   "source": [
    "# write a program to solve the fibonacci sequence using recursion.\n",
    "def fs(num):\n",
    "    if num ==1:\n",
    "        return(0)\n",
    "    elif num==2:\n",
    "        return(1)\n",
    "    else:\n",
    "        return (fs(num-1)+fs(num-2))\n",
    "\n",
    "print(fs(7))"
   ]
  },
  {
   "cell_type": "code",
   "execution_count": null,
   "id": "b0fa4ba3",
   "metadata": {},
   "outputs": [],
   "source": []
  }
 ],
 "metadata": {
  "kernelspec": {
   "display_name": "Python 3",
   "language": "python",
   "name": "python3"
  },
  "language_info": {
   "codemirror_mode": {
    "name": "ipython",
    "version": 3
   },
   "file_extension": ".py",
   "mimetype": "text/x-python",
   "name": "python",
   "nbconvert_exporter": "python",
   "pygments_lexer": "ipython3",
   "version": "3.12.4"
  }
 },
 "nbformat": 4,
 "nbformat_minor": 5
}
