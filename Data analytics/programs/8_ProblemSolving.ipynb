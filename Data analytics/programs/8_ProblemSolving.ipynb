{
 "cells": [
  {
   "cell_type": "markdown",
   "id": "048f4549",
   "metadata": {},
   "source": [
    "write a program to get fabboaci series upto 10 numbers."
   ]
  },
  {
   "cell_type": "code",
   "execution_count": 2,
   "id": "a5484192",
   "metadata": {},
   "outputs": [
    {
     "name": "stdout",
     "output_type": "stream",
     "text": [
      "0\n",
      "1\n",
      "1\n",
      "2\n",
      "3\n",
      "5\n",
      "8\n",
      "13\n",
      "21\n",
      "34\n",
      "55\n",
      "89\n",
      "144\n",
      "233\n"
     ]
    }
   ],
   "source": [
    "a=0\n",
    "b=1\n",
    "n= int(input(\"enter the number here: \"))\n",
    "if n==1:\n",
    "    print(1)\n",
    "else:\n",
    "    print(a)\n",
    "    print(b)\n",
    "    for i in range(2,n):\n",
    "        c=a+b\n",
    "        a=b\n",
    "        b=c\n",
    "        print(c)\n",
    "    "
   ]
  },
  {
   "cell_type": "markdown",
   "id": "9b156187",
   "metadata": {},
   "source": [
    "Write a program to find out the number is prime or not"
   ]
  },
  {
   "cell_type": "code",
   "execution_count": 16,
   "id": "08830983",
   "metadata": {},
   "outputs": [
    {
     "name": "stdout",
     "output_type": "stream",
     "text": [
      "Number is a prime number\n"
     ]
    }
   ],
   "source": [
    "num = int(input(\"Enter the number here: \"))\n",
    "\n",
    "if num <= 1:\n",
    "    print(\"It is not a prime number\")\n",
    "else:\n",
    "    for i in range(2, num):\n",
    "        if num % i == 0:  # changed n to num\n",
    "            print(\"Number is not a prime number\")\n",
    "            break\n",
    "    else:\n",
    "        print(\"Number is a prime number\")\n",
    "\n"
   ]
  },
  {
   "cell_type": "markdown",
   "id": "17ba1481",
   "metadata": {},
   "source": [
    "write a program to check number is pallindrome or not"
   ]
  },
  {
   "cell_type": "code",
   "execution_count": 20,
   "id": "d91d083e",
   "metadata": {},
   "outputs": [
    {
     "name": "stdout",
     "output_type": "stream",
     "text": [
      "The number is not a palindrome\n"
     ]
    }
   ],
   "source": [
    "num = int(input(\"Enter the number here: \"))\n",
    "\n",
    "temp = num  # store the original number\n",
    "rev = 0\n",
    "\n",
    "while num > 0:\n",
    "    dig = num % 10\n",
    "    rev = rev * 10 + dig\n",
    "    num = num // 10\n",
    "\n",
    "if rev == temp:\n",
    "    print(\"The number is a palindrome\")\n",
    "else:\n",
    "    print(\"The number is not a palindrome\")\n"
   ]
  },
  {
   "cell_type": "markdown",
   "id": "12291e2d",
   "metadata": {},
   "source": [
    "Area calculator"
   ]
  },
  {
   "cell_type": "code",
   "execution_count": 24,
   "id": "85dd2d90",
   "metadata": {},
   "outputs": [
    {
     "name": "stdout",
     "output_type": "stream",
     "text": [
      "Area Calculator\n",
      "1. Circle\n",
      "2. Rectangle\n",
      "3. Triangle\n",
      "4.square\n",
      "Area of Square: 144.0\n"
     ]
    }
   ],
   "source": [
    "print(\"Area Calculator\")\n",
    "print(\"1. Circle\")\n",
    "print(\"2. Rectangle\")\n",
    "print(\"3. Triangle\")\n",
    "print(\"4.square\")\n",
    "\n",
    "choice = int(input(\"Enter your choice (1-3): \"))\n",
    "\n",
    "if choice == 1:\n",
    "    radius = float(input(\"Enter radius of the circle: \"))\n",
    "    area = 3.1416 * radius * radius\n",
    "    print(f\"Area of Circle: {area}\")\n",
    "\n",
    "elif choice == 2:\n",
    "    length = float(input(\"Enter length of the rectangle: \"))\n",
    "    width = float(input(\"Enter width of the rectangle: \"))\n",
    "    area = length * width\n",
    "    print(f\"Area of Rectangle: {area}\")\n",
    "\n",
    "elif choice == 3:\n",
    "    base = float(input(\"Enter base of the triangle: \"))\n",
    "    height = float(input(\"Enter height of the triangle: \"))\n",
    "    area = 0.5 * base * height\n",
    "    print(f\"Area of Triangle: {area}\")\n",
    "    \n",
    "elif choice == 4:\n",
    "    side = float(input(\"Enter the length of the side of the square: \"))\n",
    "    area = side ** 2\n",
    "    print(f\"Area of Square: {area}\")\n",
    "\n",
    "else:\n",
    "    print(\"Invalid choice!\")\n"
   ]
  },
  {
   "cell_type": "code",
   "execution_count": 26,
   "id": "02bcc2aa",
   "metadata": {},
   "outputs": [
    {
     "name": "stdout",
     "output_type": "stream",
     "text": [
      "***** AREA CALCULATOR *****\n",
      "\n",
      "    Press 1 to get area of Square\n",
      "    Press 2 to get area of Rectangle\n",
      "    Press 3 to get area of Circle\n",
      "    Press 4 to get area of Triangle\n",
      "    \n",
      "The area of the rectangle is 112.0\n",
      "Exiting the Area Calculator. Goodbye!\n"
     ]
    }
   ],
   "source": [
    "print(\"***** AREA CALCULATOR *****\")\n",
    "\n",
    "while True:\n",
    "    print(\"\"\"\n",
    "    Press 1 to get area of Square\n",
    "    Press 2 to get area of Rectangle\n",
    "    Press 3 to get area of Circle\n",
    "    Press 4 to get area of Triangle\n",
    "    \"\"\")\n",
    "\n",
    "    choice = int(input(\"Enter the number between 1-4 here: \"))\n",
    "\n",
    "    if choice == 1:\n",
    "        while True:\n",
    "            side = float(input(\"Enter the length of the side here: \"))\n",
    "            area = side ** 2\n",
    "            print(\"Area of the square is\", area)\n",
    "            repeat = input(\"Do you want to try again with square? (yes/no): \").lower()\n",
    "            if repeat == \"no\":\n",
    "                break\n",
    "\n",
    "    elif choice == 2:\n",
    "        while True:\n",
    "            length = float(input(\"Enter the length of the rectangle here: \"))\n",
    "            width = float(input(\"Enter the width of the rectangle here: \"))\n",
    "            area = length * width\n",
    "            print(\"The area of the rectangle is\", area)\n",
    "            repeat = input(\"Do you want to try again with rectangle? (yes/no): \").lower()\n",
    "            if repeat == \"no\":\n",
    "                break\n",
    "\n",
    "    elif choice == 3:\n",
    "        while True:\n",
    "            radius = float(input(\"Enter the radius of the circle: \"))\n",
    "            area = 3.14 * (radius ** 2)\n",
    "            print(\"Area of the circle is\", area)\n",
    "            repeat = input(\"Do you want to try again with circle? (yes/no): \").lower()\n",
    "            if repeat == \"no\":\n",
    "                break\n",
    "\n",
    "    elif choice == 4:\n",
    "        while True:\n",
    "            height = float(input(\"Enter the height of the triangle here: \"))\n",
    "            base = float(input(\"Enter the length of the base of the triangle here: \"))\n",
    "            area = 0.5 * base * height\n",
    "            print(\"The area of the triangle is\", area)\n",
    "            repeat = input(\"Do you want to try again with triangle? (yes/no): \").lower()\n",
    "            if repeat == \"no\":\n",
    "                break\n",
    "\n",
    "    else:\n",
    "        print(\"Invalid choice! Please select between 1-4.\")\n",
    "\n",
    "    # Ask if user wants to return to the menu\n",
    "    repeat_menu = input(\"Do you want to return to the menu? (yes/no): \").lower()\n",
    "    if repeat_menu == \"no\":\n",
    "        print(\"Exiting the Area Calculator. Goodbye!\")\n",
    "        break\n",
    "\n",
    "    \n",
    "    \n",
    "    "
   ]
  },
  {
   "cell_type": "markdown",
   "id": "e658315e",
   "metadata": {},
   "source": [
    "A=\"OOTD.YOLO.ASAP.BRB.GTG.OTW\"\n",
    "\n",
    "Write a program to seprate the folowing string to coma(,) seprated values"
   ]
  },
  {
   "cell_type": "code",
   "execution_count": 27,
   "id": "ed099ed1",
   "metadata": {},
   "outputs": [
    {
     "name": "stdout",
     "output_type": "stream",
     "text": [
      "['OOTD', 'YOLO', 'ASAP', 'BRB', 'GTG', 'OTW']\n"
     ]
    }
   ],
   "source": [
    "A=\"OOTD.YOLO.ASAP.BRB.GTG.OTW\"\n",
    "\n",
    "b=A.split(\".\")\n",
    "print(b)"
   ]
  },
  {
   "cell_type": "markdown",
   "id": "e5e1a42a",
   "metadata": {},
   "source": [
    "Write a program to sort strings alphabetically in python\n",
    "\n"
   ]
  },
  {
   "cell_type": "code",
   "execution_count": 31,
   "id": "89ee4c23",
   "metadata": {},
   "outputs": [
    {
     "name": "stdout",
     "output_type": "stream",
     "text": [
      "['.', '.', '.', '.', '.', 'A', 'A', 'B', 'B', 'D', 'G', 'G', 'L', 'O', 'O', 'O', 'O', 'O', 'P', 'R', 'S', 'T', 'T', 'T', 'W', 'Y']\n"
     ]
    }
   ],
   "source": [
    "A=\"OOTD.YOLO.ASAP.BRB.GTG.OTW\"\n",
    "c= sorted(A)\n",
    "print(c)"
   ]
  },
  {
   "cell_type": "markdown",
   "id": "febed9e8",
   "metadata": {},
   "source": [
    "Write aprogram to remove the character from the string"
   ]
  },
  {
   "cell_type": "code",
   "execution_count": 32,
   "id": "10a218ea",
   "metadata": {},
   "outputs": [
    {
     "name": "stdout",
     "output_type": "stream",
     "text": [
      "  TD.Y L .ASAP.BRB.GTG. TW\n"
     ]
    }
   ],
   "source": [
    "A=\"OOTD.YOLO.ASAP.BRB.GTG.OTW\"\n",
    "d= A.replace(\"O\",\" \")\n",
    "print(d)"
   ]
  },
  {
   "cell_type": "markdown",
   "id": "34f30c60",
   "metadata": {},
   "source": [
    "z= \"F.R.I.E.N.D.S\"\n",
    "\n",
    "write a program to remove(.) from the string"
   ]
  },
  {
   "cell_type": "code",
   "execution_count": 34,
   "id": "0917cba6",
   "metadata": {},
   "outputs": [
    {
     "name": "stdout",
     "output_type": "stream",
     "text": [
      "FRIENDS\n"
     ]
    }
   ],
   "source": [
    "z= \"F.R.I.E.N.D.S\"\n",
    "d= z.replace(\".\",\"\")\n",
    "print(d)\n"
   ]
  },
  {
   "cell_type": "markdown",
   "id": "29fc4465",
   "metadata": {},
   "source": [
    "Write a program to check the number of occorences of a substring in string"
   ]
  },
  {
   "cell_type": "code",
   "execution_count": 38,
   "id": "2c7b500e",
   "metadata": {},
   "outputs": [
    {
     "name": "stdout",
     "output_type": "stream",
     "text": [
      "the number o sea occourences in the string: 2\n"
     ]
    }
   ],
   "source": [
    "a = \"she sells seashells on the sea shore\"\n",
    "b= a.count(\"sea\")\n",
    "print(\"the number o sea occourences in the string:\",b)\n"
   ]
  }
 ],
 "metadata": {
  "kernelspec": {
   "display_name": "Python 3",
   "language": "python",
   "name": "python3"
  },
  "language_info": {
   "codemirror_mode": {
    "name": "ipython",
    "version": 3
   },
   "file_extension": ".py",
   "mimetype": "text/x-python",
   "name": "python",
   "nbconvert_exporter": "python",
   "pygments_lexer": "ipython3",
   "version": "3.12.4"
  }
 },
 "nbformat": 4,
 "nbformat_minor": 5
}
