{
 "cells": [
  {
   "cell_type": "markdown",
   "id": "ad3e5c35",
   "metadata": {},
   "source": [
    "isalnum"
   ]
  },
  {
   "cell_type": "code",
   "execution_count": 6,
   "id": "4e611653",
   "metadata": {},
   "outputs": [
    {
     "name": "stdout",
     "output_type": "stream",
     "text": [
      "hello True\n",
      "hello123 True\n",
      "123456 True\n",
      "Hello 123 False\n",
      "1.234 False\n"
     ]
    }
   ],
   "source": [
    "a=\"hello\"\n",
    "print(a,a.isalnum())\n",
    "\n",
    "b= \"hello123\"\n",
    "print(b,b.isalnum())\n",
    "\n",
    "c=\"123456\"\n",
    "print(c,c.isalnum())\n",
    "\n",
    "f= \"Hello 123\"\n",
    "print(f,f.isalnum())\n",
    "\n",
    "g=\"1.234\"\n",
    "print(g,g.isalnum())"
   ]
  },
  {
   "cell_type": "markdown",
   "id": "ec4dcef7",
   "metadata": {},
   "source": [
    "isalpha"
   ]
  },
  {
   "cell_type": "code",
   "execution_count": null,
   "id": "8ca4edae",
   "metadata": {},
   "outputs": [
    {
     "name": "stdout",
     "output_type": "stream",
     "text": [
      "hello True\n",
      "hello123 False\n",
      "123456 False\n",
      "Hello 123 False\n"
     ]
    }
   ],
   "source": [
    "a=\"hello\"\n",
    "print(a,a.isalpha())\n",
    "\n",
    "b= \"hello123\"\n",
    "print(b,b.isalpha())\n",
    "\n",
    "c=\"123456\"\n",
    "print(c,c.isalpha())\n",
    "\n",
    "\n",
    "f= \"Hello 123\"\n",
    "print(f,f.isalpha())"
   ]
  },
  {
   "cell_type": "markdown",
   "id": "ad9c3aa6",
   "metadata": {},
   "source": [
    "isdecimal"
   ]
  },
  {
   "cell_type": "code",
   "execution_count": 10,
   "id": "049a6098",
   "metadata": {},
   "outputs": [
    {
     "name": "stdout",
     "output_type": "stream",
     "text": [
      "1.234 False\n",
      "123456 True\n"
     ]
    }
   ],
   "source": [
    "g=\"1.234\"\n",
    "print(g,g.isdecimal())\n",
    "\n",
    "c=\"123456\"\n",
    "print(c,c.isdecimal())"
   ]
  },
  {
   "cell_type": "markdown",
   "id": "50df1458",
   "metadata": {},
   "source": [
    "isdigit"
   ]
  },
  {
   "cell_type": "code",
   "execution_count": 11,
   "id": "07f99f5e",
   "metadata": {},
   "outputs": [
    {
     "name": "stdout",
     "output_type": "stream",
     "text": [
      "1.234 False\n",
      "123456 True\n"
     ]
    }
   ],
   "source": [
    "g=\"1.234\"\n",
    "print(g,g.isdigit())\n",
    "\n",
    "c=\"123456\"\n",
    "print(c,c.isdigit())"
   ]
  },
  {
   "cell_type": "markdown",
   "id": "1774be16",
   "metadata": {},
   "source": [
    "isnumeric"
   ]
  },
  {
   "cell_type": "code",
   "execution_count": 13,
   "id": "2302b0ed",
   "metadata": {},
   "outputs": [
    {
     "name": "stdout",
     "output_type": "stream",
     "text": [
      "123456 True\n",
      "1.234 False\n"
     ]
    }
   ],
   "source": [
    "c=\"123456\"\n",
    "print(c,c.isnumeric())\n",
    "\n",
    "g=\"1.234\"\n",
    "print(g,g.isnumeric())"
   ]
  },
  {
   "cell_type": "markdown",
   "id": "29edc0bb",
   "metadata": {},
   "source": [
    "isLower"
   ]
  },
  {
   "cell_type": "code",
   "execution_count": 14,
   "id": "f2b6337a",
   "metadata": {},
   "outputs": [
    {
     "name": "stdout",
     "output_type": "stream",
     "text": [
      "Hello 123 False\n",
      "hello True\n",
      "hello123 True\n"
     ]
    }
   ],
   "source": [
    "f= \"Hello 123\"\n",
    "print(f,f.islower())\n",
    "\n",
    "a=\"hello\"\n",
    "print(a,a.islower())\n",
    "\n",
    "b= \"hello123\"\n",
    "print(b,b.islower())"
   ]
  },
  {
   "cell_type": "markdown",
   "id": "d8cd543f",
   "metadata": {},
   "source": [
    "isupper"
   ]
  },
  {
   "cell_type": "code",
   "execution_count": 15,
   "id": "6937a72c",
   "metadata": {},
   "outputs": [
    {
     "name": "stdout",
     "output_type": "stream",
     "text": [
      "Hello 123 False\n",
      "hello False\n",
      "hello123 False\n",
      "HELLO True\n"
     ]
    }
   ],
   "source": [
    "f= \"Hello 123\"\n",
    "print(f,f.isupper())\n",
    "\n",
    "a=\"hello\"\n",
    "print(a,a.isupper())\n",
    "\n",
    "b= \"hello123\"\n",
    "print(b,b.isupper())\n",
    "\n",
    "d=\"HELLO\"\n",
    "print(d,d.isupper())"
   ]
  },
  {
   "cell_type": "markdown",
   "id": "5d9cde6d",
   "metadata": {},
   "source": [
    "isspace"
   ]
  },
  {
   "cell_type": "code",
   "execution_count": 16,
   "id": "413cb036",
   "metadata": {},
   "outputs": [
    {
     "name": "stdout",
     "output_type": "stream",
     "text": [
      "     True\n",
      "hello  123 False\n"
     ]
    }
   ],
   "source": [
    "e=\"    \"\n",
    "print(e,e.isspace())\n",
    "\n",
    "b= \"hello  123\"\n",
    "print(b,b.isspace())"
   ]
  },
  {
   "cell_type": "markdown",
   "id": "168c1d42",
   "metadata": {},
   "source": [
    "istitle"
   ]
  },
  {
   "cell_type": "code",
   "execution_count": 17,
   "id": "7ede8e8c",
   "metadata": {},
   "outputs": [
    {
     "name": "stdout",
     "output_type": "stream",
     "text": [
      "HELLO False\n",
      "Hello 123 True\n",
      "Hello 123 True\n"
     ]
    }
   ],
   "source": [
    "d=\"HELLO\"\n",
    "print(d,d.istitle())\n",
    "\n",
    "f= \"Hello 123\"\n",
    "print(f,f.istitle())\n",
    "\n",
    "h=\"Harry potter and the Globlet of fire\"\n",
    "print(f,f.istitle())"
   ]
  }
 ],
 "metadata": {
  "kernelspec": {
   "display_name": "Python 3",
   "language": "python",
   "name": "python3"
  },
  "language_info": {
   "codemirror_mode": {
    "name": "ipython",
    "version": 3
   },
   "file_extension": ".py",
   "mimetype": "text/x-python",
   "name": "python",
   "nbconvert_exporter": "python",
   "pygments_lexer": "ipython3",
   "version": "3.12.4"
  }
 },
 "nbformat": 4,
 "nbformat_minor": 5
}
