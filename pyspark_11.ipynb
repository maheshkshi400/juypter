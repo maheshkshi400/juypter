{
 "cells": [
  {
   "cell_type": "code",
   "execution_count": 2,
   "id": "fc500e7d-12d3-448e-89d4-929a81c8f15f",
   "metadata": {},
   "outputs": [
    {
     "data": {
      "text/plain": [
       "4"
      ]
     },
     "execution_count": 2,
     "metadata": {},
     "output_type": "execute_result"
    }
   ],
   "source": [
    "from pyspark.sql import SparkSession\n",
    "from pyspark.sql.types import IntegerType\n",
    "\n",
    "# Create a SparkSession\n",
    "spark = SparkSession.builder.appName(\"https://github.com/maheshkshi400/MK\").getOrCreate()\n",
    "\n",
    "\n",
    "df = spark.createDataFrame(range(10),IntegerType())\n",
    "\n",
    "df.rdd.getNumPartitions()\n"
   ]
  },
  {
   "cell_type": "code",
   "execution_count": 4,
   "id": "3451d818",
   "metadata": {},
   "outputs": [
    {
     "data": {
      "text/plain": [
       "8"
      ]
     },
     "execution_count": 4,
     "metadata": {},
     "output_type": "execute_result"
    }
   ],
   "source": [
    "df2= df.repartition(8)\n",
    "df2.rdd.getNumPartitions()"
   ]
  },
  {
   "cell_type": "code",
   "execution_count": 5,
   "id": "c79df8e1",
   "metadata": {},
   "outputs": [
    {
     "data": {
      "text/plain": [
       "[[Row(value=0), Row(value=1)],\n",
       " [Row(value=2), Row(value=3)],\n",
       " [Row(value=4), Row(value=5)],\n",
       " [Row(value=6), Row(value=7), Row(value=8), Row(value=9)]]"
      ]
     },
     "execution_count": 5,
     "metadata": {},
     "output_type": "execute_result"
    }
   ],
   "source": [
    "# Verify data within all partitions\n",
    "\n",
    "df.rdd.glom().collect()"
   ]
  },
  {
   "cell_type": "code",
   "execution_count": 6,
   "id": "00109e8a",
   "metadata": {},
   "outputs": [
    {
     "data": {
      "text/plain": [
       "[[Row(value=0), Row(value=1), Row(value=2), Row(value=3)],\n",
       " [Row(value=4),\n",
       "  Row(value=5),\n",
       "  Row(value=6),\n",
       "  Row(value=7),\n",
       "  Row(value=8),\n",
       "  Row(value=9)]]"
      ]
     },
     "execution_count": 6,
     "metadata": {},
     "output_type": "execute_result"
    }
   ],
   "source": [
    "df2 = df.coalesce(2)\n",
    "\n",
    "df2.rdd.getNumPartitions()\n",
    "\n",
    "df2.rdd.glom().collect()"
   ]
  }
 ],
 "metadata": {
  "kernelspec": {
   "display_name": "Python 3 (ipykernel)",
   "language": "python",
   "name": "python3"
  },
  "language_info": {
   "codemirror_mode": {
    "name": "ipython",
    "version": 3
   },
   "file_extension": ".py",
   "mimetype": "text/x-python",
   "name": "python",
   "nbconvert_exporter": "python",
   "pygments_lexer": "ipython3",
   "version": "3.11.5"
  }
 },
 "nbformat": 4,
 "nbformat_minor": 5
}
