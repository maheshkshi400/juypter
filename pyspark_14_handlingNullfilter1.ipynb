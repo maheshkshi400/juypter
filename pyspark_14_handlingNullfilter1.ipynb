{
 "cells": [
  {
   "cell_type": "code",
   "execution_count": 15,
   "metadata": {},
   "outputs": [
    {
     "name": "stdout",
     "output_type": "stream",
     "text": [
      "+----+-------+------+----+------+-------+------+----+\n",
      "|  id|   name|gender| age|salary|   dept|deptno| doj|\n",
      "+----+-------+------+----+------+-------+------+----+\n",
      "|   1| mahesh|  male|  20|  5000|     IT|    50|2002|\n",
      "|   2|shruthi|female|None|  6000|     HR|  NULL|2008|\n",
      "|   3| ganesh|  male|  25|  NULL|FINANCE|    30|2010|\n",
      "|   4|  pooja|female|NULL|  8000|PAYROLL|    40|NULL|\n",
      "|   5| kamini|female|  31|  6000|     IT|    50|2007|\n",
      "|NULL|   NULL|  NULL|NULL|  NULL|   NULL|  NULL|NULL|\n",
      "|   7| shweta|female|  30|  6000|     HR|    20|1998|\n",
      "|   8| suresh|  NULL|  25| 10000|FINANCE|    30|2011|\n",
      "|   9|shivani|female|  34|  NULL|PAYROLL|    40|NULL|\n",
      "|  10| prachi|female|  30|  6000|   NULL|    50|2001|\n",
      "+----+-------+------+----+------+-------+------+----+\n",
      "\n"
     ]
    }
   ],
   "source": [
    "from pyspark.sql import SparkSession\n",
    "\n",
    "# Create a SparkSession\n",
    "spark = SparkSession.builder.appName(\"https://github.com/maheshkshi400/MK\").getOrCreate()\n",
    "\n",
    "\n",
    "df = spark.read.format('csv') \\\n",
    "    .option('inferschema', True) \\\n",
    "    .option('header',True)\\\n",
    "    .load('C:/Users/Pc/juypter/empdf12.csv')\n",
    "df.show()"
   ]
  },
  {
   "cell_type": "code",
   "execution_count": 16,
   "metadata": {},
   "outputs": [
    {
     "name": "stdout",
     "output_type": "stream",
     "text": [
      "+----+-------+------+----+------+----+------+----+\n",
      "|  id|   name|gender| age|salary|dept|deptno| doj|\n",
      "+----+-------+------+----+------+----+------+----+\n",
      "|   2|shruthi|female|None|  6000|  HR|  NULL|2008|\n",
      "|NULL|   NULL|  NULL|NULL|  NULL|NULL|  NULL|NULL|\n",
      "+----+-------+------+----+------+----+------+----+\n",
      "\n"
     ]
    }
   ],
   "source": [
    "df1 = df.filter(df.deptno.isNull())\n",
    "df1.show()"
   ]
  },
  {
   "cell_type": "code",
   "execution_count": 17,
   "metadata": {},
   "outputs": [
    {
     "name": "stdout",
     "output_type": "stream",
     "text": [
      "+----+------+------+----+------+-------+------+----+\n",
      "|  id|  name|gender| age|salary|   dept|deptno| doj|\n",
      "+----+------+------+----+------+-------+------+----+\n",
      "|NULL|  NULL|  NULL|NULL|  NULL|   NULL|  NULL|NULL|\n",
      "|   8|suresh|  NULL|  25| 10000|FINANCE|    30|2011|\n",
      "+----+------+------+----+------+-------+------+----+\n",
      "\n"
     ]
    }
   ],
   "source": [
    "df3 = df.filter(df.gender.isNull())\n",
    "df3.show()"
   ]
  },
  {
   "cell_type": "code",
   "execution_count": 21,
   "metadata": {},
   "outputs": [
    {
     "name": "stdout",
     "output_type": "stream",
     "text": [
      "+----+-------+------+----+------+-------+------+----+\n",
      "|  id|   name|gender| age|salary|   dept|deptno| doj|\n",
      "+----+-------+------+----+------+-------+------+----+\n",
      "|   3| ganesh|  male|  25|  NULL|FINANCE|    30|2010|\n",
      "|NULL|   NULL|  NULL|NULL|  NULL|   NULL|  NULL|NULL|\n",
      "|   9|shivani|female|  34|  NULL|PAYROLL|    40|NULL|\n",
      "+----+-------+------+----+------+-------+------+----+\n",
      "\n",
      "+----+-------+------+----+------+-------+------+----+\n",
      "|  id|   name|gender| age|salary|   dept|deptno| doj|\n",
      "+----+-------+------+----+------+-------+------+----+\n",
      "|   3| ganesh|  male|  25|  NULL|FINANCE|    30|2010|\n",
      "|NULL|   NULL|  NULL|NULL|  NULL|   NULL|  NULL|NULL|\n",
      "|   9|shivani|female|  34|  NULL|PAYROLL|    40|NULL|\n",
      "+----+-------+------+----+------+-------+------+----+\n",
      "\n"
     ]
    }
   ],
   "source": [
    "# mthod 1\n",
    "\n",
    "df4= df.filter(\"salary  IS NULL\")\n",
    "df4.show()\n",
    "\n",
    "# Method 2\n",
    "from pyspark.sql.functions import col\n",
    "df5 = df.filter(col(\"salary\").isNull())\n",
    "df5.show()"
   ]
  },
  {
   "cell_type": "code",
   "execution_count": 26,
   "metadata": {},
   "outputs": [
    {
     "name": "stdout",
     "output_type": "stream",
     "text": [
      "Unexpected exception formatting exception. Falling back to standard exception\n"
     ]
    },
    {
     "name": "stderr",
     "output_type": "stream",
     "text": [
      "Traceback (most recent call last):\n",
      "  File \"C:\\Users\\Pc\\AppData\\Roaming\\Python\\Python311\\site-packages\\IPython\\core\\interactiveshell.py\", line 3526, in run_code\n",
      "    exec(code_obj, self.user_global_ns, self.user_ns)\n",
      "  File \"C:\\Users\\Pc\\AppData\\Local\\Temp\\ipykernel_13176\\1615291242.py\", line 1, in <module>\n",
      "    df6 = (df.filter(df.col('gender').isNotNull()) & df.filter(df.col('deptno').isNotNull()))\n",
      "                     ^^^^^^\n",
      "  File \"e:\\anaconda\\Lib\\site-packages\\pyspark\\sql\\dataframe.py\", line 3123, in __getattr__\n",
      "    raise AttributeError(\n",
      "AttributeError: 'DataFrame' object has no attribute 'col'\n",
      "\n",
      "During handling of the above exception, another exception occurred:\n",
      "\n",
      "Traceback (most recent call last):\n",
      "  File \"C:\\Users\\Pc\\AppData\\Roaming\\Python\\Python311\\site-packages\\IPython\\core\\interactiveshell.py\", line 2120, in showtraceback\n",
      "    stb = self.InteractiveTB.structured_traceback(\n",
      "          ^^^^^^^^^^^^^^^^^^^^^^^^^^^^^^^^^^^^^^^^\n",
      "  File \"C:\\Users\\Pc\\AppData\\Roaming\\Python\\Python311\\site-packages\\IPython\\core\\ultratb.py\", line 1435, in structured_traceback\n",
      "    return FormattedTB.structured_traceback(\n",
      "           ^^^^^^^^^^^^^^^^^^^^^^^^^^^^^^^^^\n",
      "  File \"C:\\Users\\Pc\\AppData\\Roaming\\Python\\Python311\\site-packages\\IPython\\core\\ultratb.py\", line 1326, in structured_traceback\n",
      "    return VerboseTB.structured_traceback(\n",
      "           ^^^^^^^^^^^^^^^^^^^^^^^^^^^^^^^\n",
      "  File \"C:\\Users\\Pc\\AppData\\Roaming\\Python\\Python311\\site-packages\\IPython\\core\\ultratb.py\", line 1173, in structured_traceback\n",
      "    formatted_exception = self.format_exception_as_a_whole(etype, evalue, etb, number_of_lines_of_context,\n",
      "                          ^^^^^^^^^^^^^^^^^^^^^^^^^^^^^^^^^^^^^^^^^^^^^^^^^^^^^^^^^^^^^^^^^^^^^^^^^^^^^^^^\n",
      "  File \"C:\\Users\\Pc\\AppData\\Roaming\\Python\\Python311\\site-packages\\IPython\\core\\ultratb.py\", line 1088, in format_exception_as_a_whole\n",
      "    frames.append(self.format_record(record))\n",
      "                  ^^^^^^^^^^^^^^^^^^^^^^^^^^\n",
      "  File \"C:\\Users\\Pc\\AppData\\Roaming\\Python\\Python311\\site-packages\\IPython\\core\\ultratb.py\", line 970, in format_record\n",
      "    frame_info.lines, Colors, self.has_colors, lvals\n",
      "    ^^^^^^^^^^^^^^^^\n",
      "  File \"C:\\Users\\Pc\\AppData\\Roaming\\Python\\Python311\\site-packages\\IPython\\core\\ultratb.py\", line 792, in lines\n",
      "    return self._sd.lines\n",
      "           ^^^^^^^^^^^^^^\n",
      "  File \"C:\\Users\\Pc\\AppData\\Roaming\\Python\\Python311\\site-packages\\stack_data\\utils.py\", line 144, in cached_property_wrapper\n",
      "    value = obj.__dict__[self.func.__name__] = self.func(obj)\n",
      "                                               ^^^^^^^^^^^^^^\n",
      "  File \"C:\\Users\\Pc\\AppData\\Roaming\\Python\\Python311\\site-packages\\stack_data\\core.py\", line 734, in lines\n",
      "    pieces = self.included_pieces\n",
      "             ^^^^^^^^^^^^^^^^^^^^\n",
      "  File \"C:\\Users\\Pc\\AppData\\Roaming\\Python\\Python311\\site-packages\\stack_data\\utils.py\", line 144, in cached_property_wrapper\n",
      "    value = obj.__dict__[self.func.__name__] = self.func(obj)\n",
      "                                               ^^^^^^^^^^^^^^\n",
      "  File \"C:\\Users\\Pc\\AppData\\Roaming\\Python\\Python311\\site-packages\\stack_data\\core.py\", line 677, in included_pieces\n",
      "    scope_pieces = self.scope_pieces\n",
      "                   ^^^^^^^^^^^^^^^^^\n",
      "  File \"C:\\Users\\Pc\\AppData\\Roaming\\Python\\Python311\\site-packages\\stack_data\\utils.py\", line 144, in cached_property_wrapper\n",
      "    value = obj.__dict__[self.func.__name__] = self.func(obj)\n",
      "                                               ^^^^^^^^^^^^^^\n",
      "  File \"C:\\Users\\Pc\\AppData\\Roaming\\Python\\Python311\\site-packages\\stack_data\\core.py\", line 614, in scope_pieces\n",
      "    scope_start, scope_end = self.source.line_range(self.scope)\n",
      "                             ^^^^^^^^^^^^^^^^^^^^^^^^^^^^^^^^^^\n",
      "  File \"C:\\Users\\Pc\\AppData\\Roaming\\Python\\Python311\\site-packages\\stack_data\\core.py\", line 178, in line_range\n",
      "    return line_range(self.asttext(), node)\n",
      "                      ^^^^^^^^^^^^\n",
      "AttributeError: 'Source' object has no attribute 'asttext'\n"
     ]
    }
   ],
   "source": [
    "df6 = (df.filter(df.col('gender').isNotNull()) & df.filter(df.col('deptno').isNotNull()))\n",
    "df6.show()\n"
   ]
  }
 ],
 "metadata": {
  "kernelspec": {
   "display_name": "base",
   "language": "python",
   "name": "python3"
  },
  "language_info": {
   "codemirror_mode": {
    "name": "ipython",
    "version": 3
   },
   "file_extension": ".py",
   "mimetype": "text/x-python",
   "name": "python",
   "nbconvert_exporter": "python",
   "pygments_lexer": "ipython3",
   "version": "3.11.5"
  }
 },
 "nbformat": 4,
 "nbformat_minor": 2
}
