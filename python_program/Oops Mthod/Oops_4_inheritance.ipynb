{
 "cells": [
  {
   "cell_type": "code",
   "execution_count": null,
   "metadata": {},
   "outputs": [],
   "source": [
    "class animal:\n",
    "    def eating(self):\n",
    "        print(\"eating\")\n",
    "\n",
    "class dog(animal):\n",
    "    def bark(self):\n",
    "        print(\"bark\")\n",
    "\n",
    "d = dog()\n",
    "d.eating\n",
    "d.bark"
   ]
  },
  {
   "cell_type": "code",
   "execution_count": null,
   "metadata": {},
   "outputs": [],
   "source": [
    "class baseclass:\n",
    "    base_class_body\n",
    "\n",
    "class deriveclass(baseclass):\n",
    "    derived_class_body"
   ]
  }
 ],
 "metadata": {
  "kernelspec": {
   "display_name": "pyspark-env",
   "language": "python",
   "name": "pyspark-env"
  },
  "language_info": {
   "codemirror_mode": {
    "name": "ipython",
    "version": 3
   },
   "file_extension": ".py",
   "mimetype": "text/x-python",
   "name": "python",
   "nbconvert_exporter": "python",
   "pygments_lexer": "ipython3",
   "version": "3.12.0"
  }
 },
 "nbformat": 4,
 "nbformat_minor": 2
}
