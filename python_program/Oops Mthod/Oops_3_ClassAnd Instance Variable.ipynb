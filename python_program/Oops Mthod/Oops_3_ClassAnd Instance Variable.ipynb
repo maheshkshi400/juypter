{
 "cells": [
  {
   "cell_type": "code",
   "execution_count": 1,
   "metadata": {},
   "outputs": [
    {
     "name": "stdout",
     "output_type": "stream",
     "text": [
      "student name: Amul\n",
      "stufen rollno: xyz001\n",
      "college: xyz\n",
      "student name: john\n",
      "stufen rollno: xyz056\n",
      "college: xyz\n"
     ]
    }
   ],
   "source": [
    "class student:\n",
    "    clg = 'xyz'\n",
    "\n",
    "    def __init__(self,rollno,name):\n",
    "        self.rollno = rollno\n",
    "        self.name = name\n",
    "\n",
    "    def display(self):\n",
    "        print(\"student name:\",self.name)\n",
    "        print(\"stufen rollno:\",self.rollno)\n",
    "        print(\"college:\",student.clg)\n",
    "    \n",
    "student1 = student('xyz001',\"Amul\")\n",
    "student1.display()\n",
    "\n",
    "student2 = student('xyz056',\"john\")\n",
    "student2.display()"
   ]
  },
  {
   "cell_type": "code",
   "execution_count": 2,
   "metadata": {},
   "outputs": [
    {
     "name": "stdout",
     "output_type": "stream",
     "text": [
      "Hello\n"
     ]
    }
   ],
   "source": [
    "class person:\n",
    "    def display(self):\n",
    "        print(\"Hello\")\n",
    "\n",
    "p = person()\n",
    "p.display()\n",
    "        "
   ]
  },
  {
   "cell_type": "code",
   "execution_count": 4,
   "metadata": {},
   "outputs": [
    {
     "name": "stdout",
     "output_type": "stream",
     "text": [
      "Hello\n"
     ]
    }
   ],
   "source": [
    "class person:\n",
    "    @staticmethod\n",
    "    def display():\n",
    "        print(\"Hello\")\n",
    "\n",
    "p = person()\n",
    "p.display()"
   ]
  }
 ],
 "metadata": {
  "kernelspec": {
   "display_name": "pyspark-env",
   "language": "python",
   "name": "pyspark-env"
  },
  "language_info": {
   "codemirror_mode": {
    "name": "ipython",
    "version": 3
   },
   "file_extension": ".py",
   "mimetype": "text/x-python",
   "name": "python",
   "nbconvert_exporter": "python",
   "pygments_lexer": "ipython3",
   "version": "3.12.0"
  }
 },
 "nbformat": 4,
 "nbformat_minor": 2
}
