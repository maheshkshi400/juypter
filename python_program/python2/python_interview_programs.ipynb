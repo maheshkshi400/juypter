{
 "cells": [
  {
   "cell_type": "code",
   "execution_count": 5,
   "metadata": {},
   "outputs": [
    {
     "name": "stdout",
     "output_type": "stream",
     "text": [
      "before swapping 10\n",
      "before swapping 20\n",
      "after swapping 20\n",
      "after swapping 10\n",
      "before swapping 100\n",
      "before swapping 200\n",
      "after swapping 200\n",
      "after swapping 100\n"
     ]
    }
   ],
   "source": [
    "# swapping two numbers\n",
    "\n",
    "num1 =10\n",
    "num2 =20\n",
    "print(\"before swapping\",num1) \n",
    "print(\"before swapping\", num2)\n",
    "# Approach 1\n",
    "temp = num1\n",
    "num1 = num2\n",
    "num2 = temp\n",
    "\n",
    "print(\"after swapping\", num1)\n",
    "print(\"after swapping\", num2)\n",
    "   \n",
    "\n",
    "# Approach 2\n",
    "num1 =100\n",
    "num2 =200\n",
    "print(\"before swapping\",num1) \n",
    "print(\"before swapping\", num2)\n",
    "num1,num2 = num2,num1\n",
    "print(\"after swapping\", num1)\n",
    "print(\"after swapping\", num2)"
   ]
  },
  {
   "cell_type": "code",
   "execution_count": 22,
   "metadata": {},
   "outputs": [
    {
     "name": "stdout",
     "output_type": "stream",
     "text": [
      "67 is prime\n"
     ]
    }
   ],
   "source": [
    "# Given number i sprime or not\n",
    "num = int(input(\"Enter the number: \"))\n",
    "count = 0\n",
    "\n",
    "if num > 1:\n",
    "    for i in range(1, num + 1):\n",
    "        if (num % i) == 0:\n",
    "            count += 1\n",
    "    if count == 2:\n",
    "        print(f\"{num} is prime\")\n",
    "    else:\n",
    "        print(f\"{num} is not prime\")"
   ]
  },
  {
   "cell_type": "code",
   "execution_count": 1,
   "metadata": {},
   "outputs": [
    {
     "name": "stdout",
     "output_type": "stream",
     "text": [
      "{'D': 4, 'F': 2, 'G': 2, 'H': 1, 'R': 1, 'T': 1, 'I': 1, 'S': 1}\n"
     ]
    }
   ],
   "source": [
    "# count of the charactrs in the string\n",
    "# input : 'DFGHDRTIDFGDS'\n",
    "# output : {'D': 2, 'F': 2, 'G': 2, 'H': 1, 'D': 1, 'R': 1, 'T': 1, 'I': 1, 'D': 1, 'F': 1, 'G': 1, 'S': 1}\n",
    "\n",
    "# Solution 1\n",
    "S = 'DFGHDRTIDFGDS'\n",
    "S = 'DFGHDRTIDFGDS'\n",
    "output_dict = {}  # Use a dictionary to store character counts\n",
    "\n",
    "for char in S:\n",
    "    if char in output_dict:\n",
    "        output_dict[char] += 1\n",
    "    else:\n",
    "        output_dict[char] = 1\n",
    "\n",
    "print(output_dict)        "
   ]
  },
  {
   "cell_type": "code",
   "execution_count": 17,
   "metadata": {},
   "outputs": [
    {
     "name": "stdout",
     "output_type": "stream",
     "text": [
      "DFGHRTIS\n"
     ]
    }
   ],
   "source": [
    "# remove duplicate characters from the given string\n",
    "#input : 'DFGHDRTIDFGDS'\n",
    "# output : 'DFGHRTS'\n",
    "S = 'DFGHDRTIDFGDS'\n",
    "output = []\n",
    "\n",
    "for i in S:\n",
    "    if i not in output:\n",
    "        output+=i\n",
    "print(''.join(output))"
   ]
  },
  {
   "cell_type": "code",
   "execution_count": 19,
   "metadata": {},
   "outputs": [
    {
     "name": "stdout",
     "output_type": "stream",
     "text": [
      "['G', 'R', 'I', 'S', 'D', 'T', 'F', 'H']\n",
      "['G', 'R', 'I', 'S', 'D', 'T', 'F', 'H']\n",
      "['G', 'R', 'I', 'S', 'D', 'T', 'F', 'H']\n",
      "['G', 'R', 'I', 'S', 'D', 'T', 'F', 'H']\n",
      "['G', 'R', 'I', 'S', 'D', 'T', 'F', 'H']\n",
      "['G', 'R', 'I', 'S', 'D', 'T', 'F', 'H']\n",
      "['G', 'R', 'I', 'S', 'D', 'T', 'F', 'H']\n",
      "['G', 'R', 'I', 'S', 'D', 'T', 'F', 'H']\n",
      "['G', 'R', 'I', 'S', 'D', 'T', 'F', 'H']\n",
      "['G', 'R', 'I', 'S', 'D', 'T', 'F', 'H']\n",
      "['G', 'R', 'I', 'S', 'D', 'T', 'F', 'H']\n",
      "['G', 'R', 'I', 'S', 'D', 'T', 'F', 'H']\n",
      "['G', 'R', 'I', 'S', 'D', 'T', 'F', 'H']\n",
      "['G', 'R', 'I', 'D', 'T', 'F', 'H']\n"
     ]
    }
   ],
   "source": [
    "# input string S = 'DFGHDRTIDFGDS'\n",
    "# output =['D', 'F', 'G', 'H', 'R', 'T', 'I', 'S']\n",
    "\n",
    "# by using create function\n",
    "\n",
    "S = 'DFGHDRTIDFGDS'\n",
    "for i in S:\n",
    "    v = list(set(S))\n",
    "    print(v)\n",
    "    \n",
    "lst = ['D', 'F', 'G', 'H', 'D', 'R', 'T', 'I', 'D', 'F', 'G', 'D']\n",
    "unique_list = list(set(lst))\n",
    "print(unique_list)\n",
    "    "
   ]
  },
  {
   "cell_type": "code",
   "execution_count": 8,
   "metadata": {},
   "outputs": [
    {
     "name": "stdout",
     "output_type": "stream",
     "text": [
      "['D', 'F', 'G', 'H', 'R', 'T', 'I', 'S']\n"
     ]
    }
   ],
   "source": [
    "# input string S = 'DFGHDRTIDFGDS'\n",
    "# output =['D', 'F', 'G', 'H', 'R', 'T', 'I', 'S']\n",
    "\n",
    "S = 'DFGHDRTIDFGDS'\n",
    "output = []\n",
    "\n",
    "for char in S:\n",
    "    if char not in output:\n",
    "        output.append(char)\n",
    "\n",
    "print(output)"
   ]
  },
  {
   "cell_type": "code",
   "execution_count": 27,
   "metadata": {},
   "outputs": [
    {
     "name": "stdout",
     "output_type": "stream",
     "text": [
      "3\n",
      "6\n",
      "9\n",
      "12\n",
      "15\n",
      "18\n",
      "21\n",
      "24\n",
      "27\n",
      "30\n"
     ]
    }
   ],
   "source": [
    "# create functions by using lambda\n",
    "\n",
    "def table_3():\n",
    "    return lambda x: x * 3\n",
    "\n",
    "for x in range(1,11):\n",
    "    print(table_3()(x))\n",
    "\n",
    "\n"
   ]
  },
  {
   "cell_type": "code",
   "execution_count": 31,
   "metadata": {},
   "outputs": [
    {
     "name": "stdout",
     "output_type": "stream",
     "text": [
      "1\n",
      "4\n",
      "9\n",
      "16\n",
      "25\n",
      "36\n",
      "49\n",
      "64\n",
      "81\n",
      "100\n",
      "121\n",
      "144\n",
      "169\n",
      "196\n",
      "225\n",
      "256\n",
      "289\n",
      "324\n",
      "361\n",
      "400\n",
      "441\n",
      "484\n",
      "529\n",
      "576\n",
      "625\n",
      "676\n",
      "729\n",
      "784\n",
      "841\n",
      "900\n"
     ]
    }
   ],
   "source": [
    "def square():\n",
    "    return lambda x: x * x\n",
    "\n",
    "for x in range(1,31):\n",
    "    print(square()(x))\n"
   ]
  }
 ],
 "metadata": {
  "kernelspec": {
   "display_name": "python312",
   "language": "python",
   "name": "python3"
  },
  "language_info": {
   "codemirror_mode": {
    "name": "ipython",
    "version": 3
   },
   "file_extension": ".py",
   "mimetype": "text/x-python",
   "name": "python",
   "nbconvert_exporter": "python",
   "pygments_lexer": "ipython3",
   "version": "3.12.4"
  }
 },
 "nbformat": 4,
 "nbformat_minor": 2
}
