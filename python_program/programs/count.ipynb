{
 "cells": [
  {
   "cell_type": "code",
   "execution_count": 1,
   "metadata": {},
   "outputs": [
    {
     "name": "stdout",
     "output_type": "stream",
     "text": [
      "{1: 2, 2: 2, 3: 3, 4: 2, 7: 1, 9: 1}\n"
     ]
    }
   ],
   "source": [
    "# count of the elements in the list\n",
    "\n",
    "l = [1, 2, 3, 4, 2, 3, 7, 9, 3, 4, 1]\n",
    "\n",
    "dic = {}\n",
    "count = 0\n",
    "\n",
    "for no  in l:\n",
    "    if no in dic:\n",
    "        dic[no] += 1\n",
    "    else:\n",
    "        dic[no] = 1\n",
    "print(dic)      "
   ]
  },
  {
   "cell_type": "code",
   "execution_count": null,
   "metadata": {},
   "outputs": [],
   "source": []
  }
 ],
 "metadata": {
  "kernelspec": {
   "display_name": "Python 3",
   "language": "python",
   "name": "python3"
  },
  "language_info": {
   "codemirror_mode": {
    "name": "ipython",
    "version": 3
   },
   "file_extension": ".py",
   "mimetype": "text/x-python",
   "name": "python",
   "nbconvert_exporter": "python",
   "pygments_lexer": "ipython3",
   "version": "3.12.4"
  }
 },
 "nbformat": 4,
 "nbformat_minor": 2
}
