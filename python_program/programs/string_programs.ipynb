{
 "cells": [
  {
   "cell_type": "code",
   "execution_count": 2,
   "metadata": {},
   "outputs": [
    {
     "name": "stdout",
     "output_type": "stream",
     "text": [
      "Common letters: {'e', 'h', 's', 'a'}\n"
     ]
    }
   ],
   "source": [
    "# write a program to find out two commom letters between two strings.\n",
    "def common_letters(str1, str2):\n",
    "    # Convert the strings to sets to get unique characters\n",
    "    set1 = set(str1)\n",
    "    set2 = set(str2)\n",
    "    \n",
    "    # Find the intersection of the sets (common letters)\n",
    "    common = set1 & set2\n",
    "    \n",
    "    return common\n",
    "\n",
    "# Input from the user\n",
    "str1 = input(\"Enter the first string: \")\n",
    "str2 = input(\"Enter the second string: \")\n",
    "\n",
    "# Call the function and print the result\n",
    "result = common_letters(str1, str2)\n",
    "print(\"Common letters:\", result)\n",
    "\n",
    "  "
   ]
  },
  {
   "cell_type": "code",
   "execution_count": 3,
   "metadata": {},
   "outputs": [
    {
     "name": "stdout",
     "output_type": "stream",
     "text": [
      "---> ['sheena', 'loves', 'eating', 'apple', 'and', 'mango.her', 'sister', 'also', 'eating', 'apple', 'and', 'mango.']\n",
      "{'sheena': 1, 'loves': 1, 'eating': 2, 'apple': 2, 'and': 2, 'mango.her': 1, 'sister': 1, 'also': 1, 'mango.': 1}\n"
     ]
    }
   ],
   "source": [
    "# Count the frequency of words appearing in a string Using Python\n",
    "\n",
    "def freq_words():\n",
    "    str=input(\"Enter a string: \")\n",
    "    li=str.split()\n",
    "    d={}\n",
    "    print('--->',li)\n",
    "    for i in li:\n",
    "        d[i]=d.get(i,0)+1\n",
    "    print(d)\n",
    "\n",
    "freq_words()"
   ]
  },
  {
   "cell_type": "code",
   "execution_count": 4,
   "metadata": {},
   "outputs": [
    {
     "name": "stdout",
     "output_type": "stream",
     "text": [
      "(1, 'one')\n",
      "(2, 'two')\n",
      "(3, 'three')\n"
     ]
    }
   ],
   "source": [
    "# Conversion of two list into Dictionary Using Python\n",
    "\n",
    "def list_to_dict():\n",
    "    keys = [1,2,3]\n",
    "    values = [\"one\",\"two\",\"three\"]\n",
    "    result=dict(zip(keys,values))\n",
    "    print(result)\n",
    "\n",
    "def dict_to_tuple():\n",
    "    x={1: 'one', 2: 'two', 3: 'three'}\n",
    "    for i in x.items():\n",
    "        print(i)\n",
    "\n",
    "dict_to_tuple()"
   ]
  },
  {
   "cell_type": "code",
   "execution_count": 9,
   "metadata": {},
   "outputs": [
    {
     "name": "stdout",
     "output_type": "stream",
     "text": [
      "3\n"
     ]
    }
   ],
   "source": [
    "\n",
    "# FIND MISSING NUMBER IN AN ARRAY(SUMMATION) \n",
    "\n",
    "def get_missing_summation(a):\n",
    "    n=a[-1]\n",
    "    sum1=0\n",
    "    total=n*(n+1)//2\n",
    "    sum1=sum(a)\n",
    "    print(total-sum1)\n",
    "\n",
    "\n",
    "a = [1,2,4,5,6,7]\n",
    "get_missing_summation(a)\n",
    "\n",
    "\n"
   ]
  },
  {
   "cell_type": "code",
   "execution_count": 6,
   "metadata": {},
   "outputs": [
    {
     "name": "stdout",
     "output_type": "stream",
     "text": [
      "3\n"
     ]
    }
   ],
   "source": [
    "# FIND MISSING NUMBER IN AN ARRAY(X-OR) \n",
    "\n",
    "\n",
    "def get_missing_xor(a):\n",
    "    n=len(a)\n",
    "    xor_a=a[0]\n",
    "    for index in range(1,n):\n",
    "        xor_a=xor_a^a[index]\n",
    "    x2=0\n",
    "    for index in range(1,n+2):\n",
    "        x2=x2^index\n",
    "    print(xor_a^x2)\n",
    "\n",
    "a=[1,2,4,5,6,7]\n",
    "get_missing_xor(a)\n"
   ]
  },
  {
   "cell_type": "code",
   "execution_count": 10,
   "metadata": {},
   "outputs": [
    {
     "name": "stdout",
     "output_type": "stream",
     "text": [
      "[9, 8]\n"
     ]
    }
   ],
   "source": [
    "\n",
    "# Find Out Pairs with given sum in an array in python of  time complexity       \n",
    "\n",
    "def twosum(arr,sum):\n",
    "    arr.sort()\n",
    "    left=0\n",
    "    right=len(arr)-1\n",
    "    while(left<=right):\n",
    "        if(arr[left]+arr[right]>sum):\n",
    "            right=right-1\n",
    "        elif(arr[left]+arr[right]<sum):\n",
    "            left=left+1\n",
    "        elif(arr[left]+arr[right]==sum):\n",
    "            print(\"Values of pair are\",arr[left],\"&\", arr[right])\n",
    "            right=right-1\n",
    "            left=left+1\n",
    "\n",
    "def twosum_hashmap(arr,sum):\n",
    "    dict={}\n",
    "    for i in range(len(arr)):\n",
    "        if(sum - arr[i] in dict):\n",
    "            return [sum-arr[i],arr[i]]\n",
    "        elif(arr[i] not in dict):\n",
    "            dict[arr[i]]=i\n",
    "\n",
    "\n",
    "arr=[5,7,4,3,9,8,19,21]\n",
    "sum=17\n",
    "s=twosum_hashmap(arr,sum)\n",
    "print(s)"
   ]
  },
  {
   "cell_type": "code",
   "execution_count": 15,
   "metadata": {},
   "outputs": [
    {
     "data": {
      "text/plain": [
       "4"
      ]
     },
     "execution_count": 15,
     "metadata": {},
     "output_type": "execute_result"
    }
   ],
   "source": [
    "# Height of Binary Tree(Max Depth)\n",
    "\n",
    "class node:\n",
    "    def __init__(self, key):\n",
    "        self.data =key\n",
    "        self.right = None\n",
    "        self.left = None\n",
    "      \n",
    "def min_height_tree(A):\n",
    "    if (A == None):\n",
    "        return 0  \n",
    "\n",
    "    lDepth = height_tree(A.left)\n",
    "    rDepth = height_tree(A.right)\n",
    "\n",
    "    if (lDepth > rDepth):\n",
    "        return(1 + lDepth)\n",
    "    else:\n",
    "        return(1 + rDepth)\n",
    "    \n",
    "\n",
    "root = node(1)\n",
    "root.left = node(2)\n",
    "root.right = node(3)\n",
    "root.left.left = node(4)\n",
    "root.left.right = node(5)\n",
    "root.left.left.left = node(7)\n",
    "root.right.right = node(6)\n",
    "\n",
    "height_tree(root)\n"
   ]
  },
  {
   "cell_type": "code",
   "execution_count": 20,
   "metadata": {},
   "outputs": [
    {
     "name": "stdout",
     "output_type": "stream",
     "text": [
      "2\n"
     ]
    }
   ],
   "source": [
    "# Min Depth of Binary Tree\n",
    "\n",
    "class node:\n",
    "    def __init__(self, key):\n",
    "        self.data =key\n",
    "        self.right = None\n",
    "        self.left = None\n",
    "\n",
    "def min_height_tree(root):\n",
    "    if (root == None):\n",
    "        return 0  \n",
    "\n",
    "    lDepth = min_height_tree(root.left)\n",
    "    rDepth =  min_height_tree(root.right)\n",
    "\n",
    "    if (lDepth > rDepth):\n",
    "        return(1 + rDepth)\n",
    "    else:\n",
    "        return(1 + lDepth)\n",
    "\n",
    "root = node(1)\n",
    "root.left = node(2)\n",
    "root.right = node(3)\n",
    "root.left.left = node(4)\n",
    "root.left.right = node(5)\n",
    "root.left.left.right = node(7)\n",
    "root.right.right = node(6)\n",
    "\n",
    "print(min_height_tree(root))"
   ]
  },
  {
   "cell_type": "code",
   "execution_count": null,
   "metadata": {},
   "outputs": [],
   "source": [
    "# Find minimum difference between  two elements of Binary Tree\n",
    "\n"
   ]
  }
 ],
 "metadata": {
  "kernelspec": {
   "display_name": "pyspark-env",
   "language": "python",
   "name": "python3"
  },
  "language_info": {
   "codemirror_mode": {
    "name": "ipython",
    "version": 3
   },
   "file_extension": ".py",
   "mimetype": "text/x-python",
   "name": "python",
   "nbconvert_exporter": "python",
   "pygments_lexer": "ipython3",
   "version": "3.12.4"
  }
 },
 "nbformat": 4,
 "nbformat_minor": 2
}
