{
 "cells": [
  {
   "cell_type": "code",
   "execution_count": 1,
   "metadata": {},
   "outputs": [
    {
     "name": "stdout",
     "output_type": "stream",
     "text": [
      "[1, 2, 3, 4, 5, 6]\n"
     ]
    }
   ],
   "source": [
    "matrix = [[1,2],[3,4],[5,6]] \n",
    "flatten = [y for x in matrix for y in x]\n",
    "print(flatten)\n"
   ]
  },
  {
   "cell_type": "code",
   "execution_count": 1,
   "metadata": {},
   "outputs": [
    {
     "name": "stdout",
     "output_type": "stream",
     "text": [
      "10\n",
      "<class 'decimal.Decimal'>\n"
     ]
    }
   ],
   "source": [
    "# converting integer into decimals\n",
    "\n",
    "import decimal \n",
    "integer =10\n",
    "print(decimal.Decimal(integer))\n",
    "print(type(decimal.Decimal(integer)))"
   ]
  },
  {
   "cell_type": "code",
   "execution_count": 2,
   "metadata": {},
   "outputs": [
    {
     "name": "stdout",
     "output_type": "stream",
     "text": [
      "12345\n",
      "<class 'decimal.Decimal'>\n"
     ]
    }
   ],
   "source": [
    "# converting string of integers into decimals\n",
    "\n",
    "import decimal\n",
    "def string_to_decimal(string):\n",
    "    return decimal.Decimal(string)\n",
    "\n",
    "string ='12345'\n",
    "print(string_to_decimal(string))\n",
    "print(type(string_to_decimal(string)))"
   ]
  },
  {
   "cell_type": "code",
   "execution_count": 3,
   "metadata": {},
   "outputs": [
    {
     "name": "stdout",
     "output_type": "stream",
     "text": [
      "olleh\n"
     ]
    }
   ],
   "source": [
    "# reversing the string  using anextended slicing technique\n",
    "def reverse(s):\n",
    "    return s[::-1]\n",
    "s = \"hello\"\n",
    "print(reverse(s))"
   ]
  },
  {
   "cell_type": "code",
   "execution_count": 4,
   "metadata": {},
   "outputs": [
    {
     "name": "stdout",
     "output_type": "stream",
     "text": [
      "Number of vowels in the given word is:  3\n"
     ]
    }
   ],
   "source": [
    "# counting the vowels  in given string\n",
    "\n",
    "vowels = ['A','E','I','O','U','a','e','i','o','u']\n",
    "\n",
    "word = input(\"Enter the word: \")\n",
    "count = 0\n",
    "for i in word:\n",
    "    if i in vowels:\n",
    "        count += 1\n",
    "        \n",
    "print(\"Number of vowels in the given word is: \",count)"
   ]
  },
  {
   "cell_type": "code",
   "execution_count": 1,
   "metadata": {},
   "outputs": [
    {
     "name": "stdout",
     "output_type": "stream",
     "text": [
      "Number of consonants in the given word is:  8\n"
     ]
    }
   ],
   "source": [
    "# counting consonants in given word \n",
    "\n",
    "vowels = ['A','E','I','O','U','a','e','i','o','u']\n",
    "\n",
    "word = input(\"Enter the word: \")\n",
    "count = 0\n",
    "for character  in word:\n",
    "    if character not in vowels:\n",
    "        count += 1\n",
    "    \n",
    "print(\"Number of consonants in the given word is: \",count)"
   ]
  },
  {
   "cell_type": "code",
   "execution_count": 2,
   "metadata": {},
   "outputs": [
    {
     "name": "stdout",
     "output_type": "stream",
     "text": [
      "4\n"
     ]
    }
   ],
   "source": [
    "# counting number of occurences of a character in a string\n",
    "def count(s, c):\n",
    "    res = 0\n",
    "    for i in range(len(s)):\n",
    "        if s[i] == c:\n",
    "            res += 1\n",
    "    return res\n",
    "\n",
    "\n",
    "s = \"geeksforgeeks\"\n",
    "c = \"e\"\n",
    "print(count(s, c))"
   ]
  },
  {
   "cell_type": "code",
   "execution_count": 3,
   "metadata": {},
   "outputs": [
    {
     "name": "stdout",
     "output_type": "stream",
     "text": [
      "{'h': 1, 'e': 1, 'l': 2, 'o': 1}\n"
     ]
    }
   ],
   "source": [
    "# counting number of occurences of a each character in a string\n",
    "def count(s):\n",
    "    count = {}\n",
    "    for i in s:\n",
    "        if i in count:\n",
    "            count[i] += 1\n",
    "        else:\n",
    "            count[i] = 1\n",
    "    return count\n",
    "\n",
    "\n",
    "s = \"hello\"\n",
    "print(count(s))"
   ]
  },
  {
   "cell_type": "code",
   "execution_count": 6,
   "metadata": {},
   "outputs": [
    {
     "name": "stdout",
     "output_type": "stream",
     "text": [
      "Fibonacci series:\n",
      "0 1 1 2 3 5 8 13 21 34 "
     ]
    }
   ],
   "source": [
    "# wrting fibonacci series\n",
    "def fibonacci(n):\n",
    "    if n <= 1:\n",
    "        return n\n",
    "    else:\n",
    "        return fibonacci(n - 1) + fibonacci(n - 2)\n",
    "\n",
    "\n",
    "n = int(input(\"Enter the number of terms: \"))\n",
    "print(\"Fibonacci series:\")\n",
    "for i in range(n):\n",
    "    print(fibonacci(i),end=' ')\n",
    "\n"
   ]
  },
  {
   "cell_type": "code",
   "execution_count": 12,
   "metadata": {},
   "outputs": [
    {
     "name": "stdout",
     "output_type": "stream",
     "text": [
      "0,1,1,2,3,5,8,13,21,34\n"
     ]
    }
   ],
   "source": [
    "# wrting fibonacci series\n",
    "\n",
    "fib = [0,1]\n",
    "n =10\n",
    "\n",
    "for i in range(2,n):\n",
    "    fib.append(fib[i-1]+fib[i-2])\n",
    "    \n",
    "# converting list into integers \n",
    "print(','.join(str(e) for e in fib))"
   ]
  },
  {
   "cell_type": "code",
   "execution_count": 13,
   "metadata": {},
   "outputs": [
    {
     "name": "stdout",
     "output_type": "stream",
     "text": [
      "10\n"
     ]
    }
   ],
   "source": [
    "# finding max number in a list \n",
    "\n",
    "def max_num_in_list(a_list):\n",
    "    max = a_list[0]\n",
    "    for a in a_list:\n",
    "        if a > max:\n",
    "            max = a\n",
    "    return max\n",
    "\n",
    "print(max_num_in_list([1,2,3,4,5,6,7,8,9,10]))  "
   ]
  },
  {
   "cell_type": "code",
   "execution_count": 15,
   "metadata": {},
   "outputs": [
    {
     "name": "stdout",
     "output_type": "stream",
     "text": [
      "105\n"
     ]
    }
   ],
   "source": [
    "# finding max number in a list \n",
    "\n",
    "numberlist =[20,15,18,24,45,23,67,90,105]\n",
    "max = numberlist[0]\n",
    "for number in numberlist:\n",
    "    if number > max:\n",
    "        max = number\n",
    "print(max)"
   ]
  },
  {
   "cell_type": "code",
   "execution_count": 1,
   "metadata": {},
   "outputs": [
    {
     "name": "stdout",
     "output_type": "stream",
     "text": [
      "1\n"
     ]
    }
   ],
   "source": [
    "# find min number in the list\n",
    "def find_min(list):\n",
    "    min = list[0]\n",
    "    for i in list:\n",
    "        if i < min:\n",
    "            min = i\n",
    "    return min\n",
    "\n",
    "\n",
    "list = [5, 4, 3, 2, 1]\n",
    "print(find_min(list))"
   ]
  },
  {
   "cell_type": "code",
   "execution_count": 17,
   "metadata": {},
   "outputs": [
    {
     "name": "stdout",
     "output_type": "stream",
     "text": [
      "5\n"
     ]
    }
   ],
   "source": [
    "# find min number in the list\n",
    "\n",
    "list = [20,15,36,38,40,21,5,56,70]\n",
    "min = list[0]\n",
    "for i in list:\n",
    "    if i < min:\n",
    "        min = i\n",
    "print(min)"
   ]
  },
  {
   "cell_type": "code",
   "execution_count": 21,
   "metadata": {},
   "outputs": [
    {
     "name": "stdout",
     "output_type": "stream",
     "text": [
      "38\n"
     ]
    }
   ],
   "source": [
    "# finding middle element in the list \n",
    "\n",
    "numberlist = [20,15,36,38,40,21]\n",
    "middle = len(numberlist)//2\n",
    "print(numberlist[middle])"
   ]
  },
  {
   "cell_type": "code",
   "execution_count": 22,
   "metadata": {},
   "outputs": [
    {
     "name": "stdout",
     "output_type": "stream",
     "text": [
      "PYTHON\n"
     ]
    }
   ],
   "source": [
    "# convering list into string\n",
    "\n",
    "list = [\"P\",\"Y\",\"T\",\"H\",\"O\",\"N\"]\n",
    "STRING = \"\".join(list)\n",
    "print(STRING)"
   ]
  },
  {
   "cell_type": "code",
   "execution_count": 2,
   "metadata": {},
   "outputs": [
    {
     "name": "stdout",
     "output_type": "stream",
     "text": [
      "[5, 7, 9]\n"
     ]
    }
   ],
   "source": [
    "# adding two list elemrts together\n",
    "\n",
    "list1 = [1,2,3]\n",
    "list2 = [4,5,6]\n",
    "\n",
    "res_list = []\n",
    "for i in range(0, len(list1)):\n",
    "    res_list.append(list1[i] + list2[i])\n",
    "    \n",
    "print(res_list)"
   ]
  },
  {
   "cell_type": "code",
   "execution_count": 24,
   "metadata": {},
   "outputs": [
    {
     "name": "stdout",
     "output_type": "stream",
     "text": [
      "Anagram\n"
     ]
    }
   ],
   "source": [
    "# comparing two strings fro anagrams\n",
    "\n",
    "str1 = 'silent'\n",
    "str2 = 'listen'\n",
    "\n",
    "str1 = sorted(str1)\n",
    "str2 = sorted(str2)\n",
    "if str1 == str2:\n",
    "    print(\"Anagram\")\n",
    "    \n",
    "else:\n",
    "    print(\"Not Anagram\")\n",
    "    "
   ]
  },
  {
   "cell_type": "code",
   "execution_count": 25,
   "metadata": {},
   "outputs": [
    {
     "name": "stdout",
     "output_type": "stream",
     "text": [
      "the string is palindrome\n"
     ]
    }
   ],
   "source": [
    "# checking for paralindrome using exteded slicing technique\n",
    "\n",
    "my_str = \"aIbohPhoBiA\"\n",
    "my_str = my_str.casefold()\n",
    "rev_str = my_str[::-1]\n",
    "if my_str == rev_str:\n",
    "    print(\"the string is palindrome\")\n",
    "else:\n",
    "    print(\"the string is not palindrome\")"
   ]
  },
  {
   "cell_type": "code",
   "execution_count": 26,
   "metadata": {},
   "outputs": [
    {
     "name": "stdout",
     "output_type": "stream",
     "text": [
      "1\n"
     ]
    }
   ],
   "source": [
    "# counting white spaces in the string\n",
    "def count_white_spaces(s):\n",
    "    count = 0\n",
    "    for i in s:\n",
    "        if i == \" \":\n",
    "            count += 1\n",
    "    return count\n",
    "\n",
    "\n",
    "s = \"hello world\"\n",
    "print(count_white_spaces(s))\n"
   ]
  },
  {
   "cell_type": "code",
   "execution_count": 27,
   "metadata": {},
   "outputs": [
    {
     "name": "stdout",
     "output_type": "stream",
     "text": [
      "13\n"
     ]
    }
   ],
   "source": [
    "# counting white spaces in the string\n",
    "\n",
    "stirng = 'pr  o   gr    a m m i ng'\n",
    "\n",
    "print(stirng.count(' '))"
   ]
  },
  {
   "cell_type": "code",
   "execution_count": 3,
   "metadata": {},
   "outputs": [
    {
     "name": "stdout",
     "output_type": "stream",
     "text": [
      "1\n",
      "4\n",
      "14\n"
     ]
    }
   ],
   "source": [
    "# counting digits,spaces and letters in  string\n",
    "\n",
    "import re\n",
    "\n",
    "name ='my mane is mahesh 4'\n",
    "\n",
    "digitcount = re.sub(\"[^0-9]\",\"\",name)\n",
    "spacescount= re.sub(\"[^ ]\", \"\", name)\n",
    "letterscount = re.sub(\"[^a-zA-Z]\", \"\", name)\n",
    "\n",
    "print(len(digitcount))\n",
    "print(len(spacescount))\n",
    "print(len(letterscount))"
   ]
  },
  {
   "cell_type": "code",
   "execution_count": 4,
   "metadata": {},
   "outputs": [
    {
     "name": "stdout",
     "output_type": "stream",
     "text": [
      "the number of special characters in the string are :  0\n"
     ]
    }
   ],
   "source": [
    "# counting special characters in  a string \n",
    "\n",
    "\n",
    "\n",
    "\n",
    "str = input(\"enter the string : \")\n",
    "count = 0\n",
    "for i in str:\n",
    "    if not (i.isalpha() or i.isdigit() or i.isspace()):\n",
    "        count = count + 1\n",
    "print(\"the number of special characters in the string are : \", count)\n"
   ]
  },
  {
   "cell_type": "code",
   "execution_count": 1,
   "metadata": {},
   "outputs": [
    {
     "name": "stdout",
     "output_type": "stream",
     "text": [
      "The number of special characters is:  0\n"
     ]
    }
   ],
   "source": [
    "# counting special characters in  a string\n",
    "\n",
    "special = \"!@#$%^&*()-+?_=,<>/\"\n",
    "\n",
    "string = input(\"Enter a string: \")\n",
    "count = 0\n",
    "for i in string:\n",
    "    if i in special:\n",
    "        count += 1\n",
    "        \n",
    "print(\"The number of special characters is: \", count)\n",
    "\n"
   ]
  },
  {
   "cell_type": "code",
   "execution_count": 2,
   "metadata": {},
   "outputs": [
    {
     "name": "stdout",
     "output_type": "stream",
     "text": [
      "code\n"
     ]
    }
   ],
   "source": [
    "# removing all whitespaces in string\n",
    "import re\n",
    "\n",
    "string = ' c o d e'\n",
    "spaces= re.compile(r'\\s+')\n",
    "result = spaces.sub('', string)\n",
    "print(result)"
   ]
  },
  {
   "cell_type": "code",
   "execution_count": 4,
   "metadata": {},
   "outputs": [
    {
     "name": "stdout",
     "output_type": "stream",
     "text": [
      "code\n"
     ]
    }
   ],
   "source": [
    "# removing all whitespaces in string\n",
    "string = 'c o d e'\n",
    "string2 = \"\".join(char for char in string if char != \" \")\n",
    "print(string2)"
   ]
  },
  {
   "cell_type": "code",
   "execution_count": 5,
   "metadata": {},
   "outputs": [
    {
     "name": "stdout",
     "output_type": "stream",
     "text": [
      "code\n"
     ]
    }
   ],
   "source": [
    "# removing all whitespaces in string\n",
    "string = 'c o d e'\n",
    "string2 = string.replace(' ', '')\n",
    "print(string2)\n"
   ]
  },
  {
   "cell_type": "code",
   "execution_count": 6,
   "metadata": {},
   "outputs": [
    {
     "name": "stdout",
     "output_type": "stream",
     "text": [
      "* \n",
      "* * \n",
      "* * * \n",
      "* * * * \n",
      "* * * * * \n"
     ]
    }
   ],
   "source": [
    "# building pyramid in python\n",
    "def pyramid(n):\n",
    "    for i in range(0, n):\n",
    "        for j in range(0, i + 1):\n",
    "            print(\"* \", end=\"\")\n",
    "        print(\"\\r\")\n",
    "\n",
    "\n",
    "n = 5\n",
    "pyramid(n)  "
   ]
  },
  {
   "cell_type": "code",
   "execution_count": 9,
   "metadata": {},
   "outputs": [
    {
     "name": "stdout",
     "output_type": "stream",
     "text": [
      "        * \n",
      "       * * * \n",
      "      * * * * * \n",
      "     * * * * * * * \n",
      "    * * * * * * * * * \n",
      "   * * * * * * * * * * * \n",
      "  * * * * * * * * * * * * * \n",
      " * * * * * * * * * * * * * * * \n"
     ]
    }
   ],
   "source": [
    "def pyramid(n):\n",
    "    for i in range(n):\n",
    "        for j in range(i,n):\n",
    "            print(\" \", end=\"\")\n",
    "        for j in range(i+1):\n",
    "            print(\"*\", end=\" \")\n",
    "        for j in range(i):\n",
    "            print(\"*\", end=\" \")\n",
    "        print(\"\")\n",
    "pyramid(8)"
   ]
  },
  {
   "cell_type": "code",
   "execution_count": 16,
   "metadata": {},
   "outputs": [
    {
     "name": "stdout",
     "output_type": "stream",
     "text": [
      "       * \n",
      "      * * * \n",
      "     * * * * * \n",
      "    * * * * * * * \n",
      "   * * * * * * * * * \n",
      "  * * * * * * * * * * * \n",
      " * * * * * * * * * * * * * \n"
     ]
    }
   ],
   "source": [
    "# symmentric pyramid\n",
    "\n",
    "def symmetric_pyramid(n):\n",
    "    for i in range(n):\n",
    "        # Print spaces before the stars\n",
    "        for j in range(n - i - 1):\n",
    "            print(\" \", end=\"\")\n",
    "        # Print stars\n",
    "        for j in range(2 * i + 1):\n",
    "            print(\"*\", end=\"\")\n",
    "        # Print spaces after the stars\n",
    "        for j in range(n - i - 1):\n",
    "            print(\" \", end=\"\")\n",
    "        print()  # Move to the next line\n",
    "\n",
    "# Example usage:\n",
    "pyramid(7)"
   ]
  },
  {
   "cell_type": "code",
   "execution_count": 11,
   "metadata": {},
   "outputs": [
    {
     "name": "stdout",
     "output_type": "stream",
     "text": [
      "    *\n",
      "   ***\n",
      "  *****\n",
      " *******\n",
      "*******\n",
      " *****\n",
      "  ***\n",
      "   *\n"
     ]
    }
   ],
   "source": [
    "num = int(input(\"Enter odd number: \"))\n",
    "cnt = num//2\n",
    "scnt =1\n",
    "\n",
    "for  i in range(1,cnt+1):\n",
    "    print(cnt* \" \"+\"*\"*scnt)\n",
    "    cnt=cnt-1\n",
    "    scnt = scnt+2\n",
    "scnt = num-2\n",
    "\n",
    "for i in range(num//2):\n",
    "    print(cnt* \" \"+\"*\"*scnt)\n",
    "    cnt=cnt+1\n",
    "    scnt = scnt-2\n",
    "    \n",
    "  "
   ]
  },
  {
   "cell_type": "code",
   "execution_count": 3,
   "metadata": {},
   "outputs": [
    {
     "name": "stdout",
     "output_type": "stream",
     "text": [
      "   \n",
      "  **\n",
      " ****\n",
      "******\n",
      " ****\n",
      "  **\n"
     ]
    }
   ],
   "source": [
    "num = int(input(\"Enter an odd number: \"))\n",
    "\n",
    "for i in range(num):\n",
    "    spaces = abs(num // 2 - i)\n",
    "    stars = num - 2 * spaces\n",
    "    print(\" \" * spaces + \"*\" * stars)"
   ]
  },
  {
   "cell_type": "code",
   "execution_count": 20,
   "metadata": {},
   "outputs": [
    {
     "name": "stdout",
     "output_type": "stream",
     "text": [
      "['easy', 'python', 'is']\n"
     ]
    }
   ],
   "source": [
    "# randomizing the item of a list in python\n",
    "from random import shuffle\n",
    "\n",
    "lst = ['python','is','easy']\n",
    "shuffle(lst)\n",
    "print(lst)"
   ]
  },
  {
   "cell_type": "code",
   "execution_count": 21,
   "metadata": {},
   "outputs": [
    {
     "name": "stdout",
     "output_type": "stream",
     "text": [
      "2 3 5 7 11 13 17 19 23 29 31 37 41 43 47 53 59 61 67 71 73 "
     ]
    }
   ],
   "source": [
    "# create a generator tp produce first n prime numbers\n",
    "\n",
    "def isprime(num):\n",
    "    for i in range(2,num):\n",
    "        if num%i==0:\n",
    "            return False\n",
    "    else:\n",
    "        return True\n",
    "    \n",
    "def prime_generator(n):\n",
    "    num=2\n",
    "    while n:\n",
    "        if  isprime(num):\n",
    "            yield num\n",
    "            n-=1\n",
    "        num+=1\n",
    "        \n",
    "x = int(input(\"Enter the number of prime numbers you want to generate: \"))\n",
    "for e in prime_generator(x):\n",
    "    print(e, end=\" \")"
   ]
  },
  {
   "cell_type": "code",
   "execution_count": 24,
   "metadata": {},
   "outputs": [
    {
     "name": "stdout",
     "output_type": "stream",
     "text": [
      "not prime\n"
     ]
    }
   ],
   "source": [
    "# program to check given number is prime or not\n",
    "def prime(n):\n",
    "    if n==1:\n",
    "        return False\n",
    "    for i in range(2,n):\n",
    "        if n%i==0:\n",
    "            return False\n",
    "    return True\n",
    "n=int(input(\"enter a number\"))\n",
    "if prime(n):\n",
    "    print(\"prime\")\n",
    "else:\n",
    "    print(\"not prime\")  "
   ]
  },
  {
   "cell_type": "code",
   "execution_count": 26,
   "metadata": {},
   "outputs": [
    {
     "ename": "TypeError",
     "evalue": "no_prime() takes 0 positional arguments but 1 was given",
     "output_type": "error",
     "traceback": [
      "\u001b[1;31m---------------------------------------------------------------------------\u001b[0m",
      "\u001b[1;31mTypeError\u001b[0m                                 Traceback (most recent call last)",
      "Cell \u001b[1;32mIn[26], line 14\u001b[0m\n\u001b[0;32m     11\u001b[0m         \u001b[38;5;28;01mreturn\u001b[39;00m flag\n\u001b[0;32m     13\u001b[0m num \u001b[38;5;241m=\u001b[39m \u001b[38;5;28mint\u001b[39m(\u001b[38;5;28minput\u001b[39m(\u001b[38;5;124m\"\u001b[39m\u001b[38;5;124menter the number:\u001b[39m\u001b[38;5;124m\"\u001b[39m))\n\u001b[1;32m---> 14\u001b[0m \u001b[43mno_prime\u001b[49m\u001b[43m(\u001b[49m\u001b[43mnum\u001b[49m\u001b[43m)\u001b[49m\n",
      "\u001b[1;31mTypeError\u001b[0m: no_prime() takes 0 positional arguments but 1 was given"
     ]
    }
   ],
   "source": [
    "# program to check given number is prime or not\n",
    "def no_prime():\n",
    "    flag =False\n",
    "    if n <2:\n",
    "        return flag\n",
    "    else:\n",
    "        for i in range(2,n):\n",
    "            if n%i==0:\n",
    "                return flag\n",
    "        flag = True\n",
    "        return flag\n",
    "    \n",
    "num = int(input(\"enter the number:\"))\n",
    "no_prime(num)"
   ]
  },
  {
   "cell_type": "code",
   "execution_count": 27,
   "metadata": {},
   "outputs": [
    {
     "name": "stdout",
     "output_type": "stream",
     "text": [
      "34 is not a prime number.\n"
     ]
    }
   ],
   "source": [
    "def is_prime(num):\n",
    "    \"\"\"Checks if a given number is prime.\n",
    "\n",
    "    Args:\n",
    "        num: The number to check.\n",
    "\n",
    "    Returns:\n",
    "        True if the number is prime, False otherwise.\n",
    "    \"\"\"\n",
    "\n",
    "    if num <= 1:\n",
    "        return False\n",
    "    for i in range(2, int(num**0.5) + 1):\n",
    "        if num % i == 0:\n",
    "            return False\n",
    "    return True\n",
    "\n",
    "num = int(input(\"Enter the number: \"))\n",
    "if is_prime(num):\n",
    "    print(num, \"is a prime number.\")\n",
    "else:\n",
    "    print(num, \"is not a prime number.\")"
   ]
  },
  {
   "cell_type": "code",
   "execution_count": 30,
   "metadata": {},
   "outputs": [
    {
     "name": "stdout",
     "output_type": "stream",
     "text": [
      "Average is: 55.0\n",
      "Average is: 105.0\n"
     ]
    }
   ],
   "source": [
    "# implementing varable length in python \n",
    "def average(*t):\n",
    "    average = sum(t) / len(t)\n",
    "    return average\n",
    "result1 = average(10,20,30,40,50,60,70,80,90,100)\n",
    "result2 = average(10, 20, 30, 40, 50, 60, 70, 80, 90, 100, 110, 120, 130, 140, 150, 160, 170, 180, 190, 200)\n",
    "\n",
    "print(\"Average is:\",result1)\n",
    "print(\"Average is:\", result2)"
   ]
  },
  {
   "cell_type": "code",
   "execution_count": 31,
   "metadata": {},
   "outputs": [
    {
     "name": "stdout",
     "output_type": "stream",
     "text": [
      "5.5\n",
      "10.5\n",
      "average is\":55.00\n",
      "average is\":105.00\n"
     ]
    }
   ],
   "source": [
    "# implementing varable length in python (by kwargs)\n",
    "\n",
    "def avg_with_kwargs(**kwargs):\n",
    "    values = list(kwargs.values())\n",
    "    avg = sum(values) / len(values)\n",
    "    return avg\n",
    "print(avg_with_kwargs(a=1, b=2, c=3, d=4, e=5, f=6, g=7, h=8, i=9, j=10))\n",
    "print(avg_with_kwargs(a=1, b=2, c=3, d=4, e=5, f=6, g=7, h=8, i=9, j=10, k=11, l=12, m=13, n=14, o=15, p=16, q=17, r=18, s=19, t=20))\n",
    "\n",
    "print(f'average is\":{result1:.2f}')\n",
    "print(f'average is\":{result2:.2f}')"
   ]
  },
  {
   "cell_type": "code",
   "execution_count": 32,
   "metadata": {},
   "outputs": [
    {
     "name": "stdout",
     "output_type": "stream",
     "text": [
      "{'a': 10, 'b': 20, 'c': 30}\n",
      "{'a': 10, 'b': 20, 'c': 30}\n"
     ]
    }
   ],
   "source": [
    "# creating instance  member varables in python \n",
    "\n",
    "class test:\n",
    "    def __init__(self):\n",
    "        self.a=10\n",
    "    def m1(self):\n",
    "        self.b=20\n",
    "        \n",
    "t1 = test()\n",
    "t1.m1()\n",
    "t1.c=30\n",
    "print(t1.__dict__)\n",
    "print(t1.__dict__)"
   ]
  },
  {
   "cell_type": "code",
   "execution_count": 33,
   "metadata": {},
   "outputs": [
    {
     "name": "stdout",
     "output_type": "stream",
     "text": [
      "11\n"
     ]
    }
   ],
   "source": [
    "# addition using lambda functions\n",
    "\n",
    "f = lambda a, b: a + b\n",
    "result = f(5,6)\n",
    "print(result)"
   ]
  },
  {
   "cell_type": "code",
   "execution_count": 1,
   "metadata": {},
   "outputs": [
    {
     "name": "stdout",
     "output_type": "stream",
     "text": [
      "120\n"
     ]
    }
   ],
   "source": [
    "# finding factorial using lambda\n",
    "f = lambda n :1 if n==0 else n*f(n-1)\n",
    "print(f(5))"
   ]
  },
  {
   "cell_type": "code",
   "execution_count": 37,
   "metadata": {},
   "outputs": [
    {
     "name": "stdout",
     "output_type": "stream",
     "text": [
      "The factorial of 5 is 120\n"
     ]
    }
   ],
   "source": [
    "# finding factorial \n",
    "\n",
    "num = int(input(\"Enter a number: \"))\n",
    "factorial = 1\n",
    "if num < 0:\n",
    "    print(\"Factorial does not exist for negative numbers\")\n",
    "elif num == 0:\n",
    "    print(\"Factorial of 0 is 1\")\n",
    "else:\n",
    "    for i in range(1, num + 1):\n",
    "        factorial = factorial * i\n",
    "    print(\"The factorial of\", num, \"is\", factorial)"
   ]
  },
  {
   "cell_type": "code",
   "execution_count": 40,
   "metadata": {},
   "outputs": [
    {
     "name": "stdout",
     "output_type": "stream",
     "text": [
      "[2, 4, 6, 8, 10, 12, 14, 16, 18]\n",
      "[2, 4, 6, 8, 10]\n"
     ]
    }
   ],
   "source": [
    "# list compression\n",
    "\n",
    "l1 = [2*e for e in range(1,10)]\n",
    "print(l1)\n",
    "\n",
    "# to create a list of even numbers from 1 to 10\n",
    "l2 = [e for e in range(1, 11) if e % 2 == 0]\n",
    "print(l2)"
   ]
  },
  {
   "cell_type": "code",
   "execution_count": 47,
   "metadata": {},
   "outputs": [
    {
     "name": "stdout",
     "output_type": "stream",
     "text": [
      "UOY EVOL I\n",
      "I LOVE YOU\n"
     ]
    }
   ],
   "source": [
    "# use of split and join function in python \n",
    "\n",
    "s = \"I LOVE YOU\"\n",
    "S1 = s.split(\" \")\n",
    "\n",
    "S2 = s[::-1]\n",
    "print(S2)\n",
    "\n",
    "print(\" \".join(S1))\n"
   ]
  },
  {
   "cell_type": "code",
   "execution_count": 49,
   "metadata": {},
   "outputs": [
    {
     "name": "stdout",
     "output_type": "stream",
     "text": [
      "x =15 y =20\n",
      "15\n"
     ]
    }
   ],
   "source": [
    " # global and local variables\n",
    " \n",
    "def f1():\n",
    "    global x\n",
    "x = 15\n",
    "y = 20\n",
    "print(\"x =%d y =%d\"%(x,y))\n",
    "f1()\n",
    "print(x)\n",
    "     \n",
    " \n",
    " "
   ]
  },
  {
   "cell_type": "code",
   "execution_count": 2,
   "metadata": {},
   "outputs": [
    {
     "name": "stdout",
     "output_type": "stream",
     "text": [
      "          1 \n",
      "        1 2 3 \n",
      "      1 2 3 4 5 \n",
      "    1 2 3 4 5 6 7 \n",
      "  1 2 3 4 5 6 7 8 9 \n"
     ]
    }
   ],
   "source": [
    "n=5\n",
    "\n",
    "for i in range(n):\n",
    "    p=1\n",
    "    for j in range(i,n):\n",
    "        print(\" \",end=\" \")\n",
    "    for j in range(i):\n",
    "        print(p,end=\" \")\n",
    "        p+=1\n",
    "    for j in range(i+1):\n",
    "        print(p,end=\" \")\n",
    "        p+=1\n",
    "    print()\n",
    "    "
   ]
  },
  {
   "cell_type": "code",
   "execution_count": 4,
   "metadata": {},
   "outputs": [
    {
     "name": "stdout",
     "output_type": "stream",
     "text": [
      "  5 4 3 2 1 \n",
      "    4 3 2 1 \n",
      "      3 2 1 \n",
      "        2 1 \n",
      "          1 \n"
     ]
    }
   ],
   "source": [
    "n=5\n",
    "p=5\n",
    "\n",
    "for i in range(n):\n",
    "    k=p\n",
    "    for j in range(i+1):\n",
    "        print(\" \",end=\" \")\n",
    "    for j in range(i,n):\n",
    "        print(k,end=\" \")\n",
    "        k-=1\n",
    "    p-=1\n",
    "    print()\n",
    "        \n",
    "        "
   ]
  },
  {
   "cell_type": "code",
   "execution_count": 1,
   "metadata": {},
   "outputs": [
    {
     "name": "stdout",
     "output_type": "stream",
     "text": [
      "          1 \n",
      "        2 2 2 \n",
      "      3 3 3 3 3 \n",
      "    4 4 4 4 4 4 4 \n",
      "  5 5 5 5 5 5 5 5 5 \n",
      "    6 6 6 6 6 6 6 \n",
      "      7 7 7 7 7 \n",
      "        8 8 8 \n",
      "          9 \n"
     ]
    }
   ],
   "source": [
    "# create the diamond patteren\n",
    "\n",
    "n=5\n",
    "p=1\n",
    "\n",
    "for i in range(n-1):\n",
    "    for j in range(i,n):\n",
    "        print(\" \",end=\" \")\n",
    "    for j in range(i+1):\n",
    "        print(p,end=\" \")\n",
    "    for j in range(i):\n",
    "        print(p,end=\" \")\n",
    "    p+=1\n",
    "    print()\n",
    "for i in range(n):\n",
    "    for j in range(i+1):\n",
    "        print(\" \",end=\" \")\n",
    "    for j in range(i,n):\n",
    "        print(p,end=\" \")\n",
    "    for j in range(i+1,n):\n",
    "        print(p,end=\" \")\n",
    "    p+=1\n",
    "    print()"
   ]
  },
  {
   "cell_type": "code",
   "execution_count": 2,
   "metadata": {},
   "outputs": [
    {
     "name": "stdout",
     "output_type": "stream",
     "text": [
      "A \n",
      "C C \n",
      "E E E \n",
      "G G G G \n",
      "I I I I I \n"
     ]
    }
   ],
   "source": [
    "n=5\n",
    "p=65\n",
    "\n",
    "for i in range(n):\n",
    "    for j in range(i+1):\n",
    "        print(chr(p),end=\" \")\n",
    "    p+=2\n",
    "    print()"
   ]
  },
  {
   "cell_type": "code",
   "execution_count": 3,
   "metadata": {},
   "outputs": [
    {
     "name": "stdout",
     "output_type": "stream",
     "text": [
      "  z z z z z z z z z z z \n",
      "    o o o o o o o o o \n",
      "      z z z z z z z \n",
      "        o o o o o \n",
      "          z z z \n",
      "            o \n"
     ]
    }
   ],
   "source": [
    "n=6\n",
    "for i in range(n):\n",
    "    for j in range(i+1):\n",
    "        print(\" \",end=\" \")\n",
    "    for j in range(i,n):\n",
    "        if i%2==0:\n",
    "            print(\"z\",end=\" \")\n",
    "        else:\n",
    "            print(\"o\",end=\" \")\n",
    "    for j in range(i,n-1):\n",
    "        if i%2==0:\n",
    "            print(\"z\",end=\" \")\n",
    "        else:\n",
    "            print(\"o\",end=\" \")\n",
    "    print()"
   ]
  },
  {
   "cell_type": "code",
   "execution_count": 1,
   "metadata": {},
   "outputs": [
    {
     "name": "stdout",
     "output_type": "stream",
     "text": [
      "        A \n",
      "        A B C \n",
      "        A B C D E \n",
      "        A B C D E F G \n",
      "        A B C D E F G H I \n"
     ]
    }
   ],
   "source": [
    "n=5\n",
    "for i in range(n):\n",
    "    p=65\n",
    "    for j in range(1,n):\n",
    "        print(\" \",end=\" \")\n",
    "    for j in range(i):\n",
    "        print(chr(p),end=\" \")\n",
    "        p+=1\n",
    "    for j in range(i+1):\n",
    "        print(chr(p),end=\" \")\n",
    "        p+=1\n",
    "    print()"
   ]
  },
  {
   "cell_type": "code",
   "execution_count": 2,
   "metadata": {},
   "outputs": [
    {
     "name": "stdout",
     "output_type": "stream",
     "text": [
      "  E D C B A \n",
      "    E D C B \n",
      "      E D C \n",
      "        E D \n",
      "          E \n"
     ]
    }
   ],
   "source": [
    "for i in range(n):\n",
    "    p=69\n",
    "    for j in range(i+1):\n",
    "        print(\" \",end=\" \")\n",
    "    for j in range(i,n):\n",
    "        print(chr(p),end=\" \")\n",
    "        p-=1\n",
    "    print()"
   ]
  },
  {
   "cell_type": "code",
   "execution_count": 3,
   "metadata": {},
   "outputs": [
    {
     "name": "stdout",
     "output_type": "stream",
     "text": [
      "        E \n",
      "        D E D \n",
      "        C D E D C \n",
      "        B C D E D C B \n",
      "        A B C D E D C B A \n"
     ]
    }
   ],
   "source": [
    "n=5\n",
    "k=69\n",
    "for i in range(n):\n",
    "    p=k\n",
    "    for j in range(1,n):\n",
    "        print(\" \",end=\" \")\n",
    "    for j in range(i):\n",
    "        print(chr(p),end=\" \")\n",
    "        p+=1\n",
    "    for j in range(i+1):\n",
    "        print(chr(p),end=\" \")\n",
    "        p-=1\n",
    "    k-=1\n",
    "    print()"
   ]
  },
  {
   "cell_type": "code",
   "execution_count": 4,
   "metadata": {},
   "outputs": [
    {
     "name": "stdout",
     "output_type": "stream",
     "text": [
      "* * * * * * * * * \n",
      "* * * * * * * * * \n",
      "* * * * * * * * * \n",
      "* * * * * * * * * \n",
      "* * * * * * * * * \n",
      "* * * * * * * * * \n",
      "* * * * * * * * * \n",
      "* * * * * * * * * \n",
      "* * * * * * * * * \n"
     ]
    }
   ],
   "source": [
    "n=9\n",
    "for i in range(n):\n",
    "    for j in range(n):\n",
    "        print(\"*\",end=\" \")\n",
    "    print()"
   ]
  },
  {
   "cell_type": "code",
   "execution_count": 6,
   "metadata": {},
   "outputs": [
    {
     "name": "stdout",
     "output_type": "stream",
     "text": [
      "*               * \n",
      "*               * \n",
      "*               * \n",
      "*               * \n",
      "*               * \n",
      "*               * \n",
      "*               * \n",
      "*               * \n",
      "*               * \n"
     ]
    }
   ],
   "source": [
    "n=9\n",
    "for i in range(n):\n",
    "    for j in range(n):\n",
    "        if j==0 or j==n-1:\n",
    "            print(\"*\",end=\" \")\n",
    "        else:\n",
    "            print(\" \",end=\" \")\n",
    "    print()"
   ]
  },
  {
   "cell_type": "code",
   "execution_count": 7,
   "metadata": {},
   "outputs": [
    {
     "name": "stdout",
     "output_type": "stream",
     "text": [
      "        *         \n",
      "        *         \n",
      "        *         \n",
      "        *         \n",
      "* * * * * * * * * \n",
      "        *         \n",
      "        *         \n",
      "        *         \n",
      "        *         \n"
     ]
    }
   ],
   "source": [
    "n=9\n",
    "for i in range(n):\n",
    "    for j in range(n):\n",
    "        if i==n//2 or j==n//2:\n",
    "            print(\"*\",end=\" \")\n",
    "        else:\n",
    "            print(\" \",end=\" \")\n",
    "    print()"
   ]
  },
  {
   "cell_type": "code",
   "execution_count": 1,
   "metadata": {},
   "outputs": [
    {
     "name": "stdout",
     "output_type": "stream",
     "text": [
      "*               * \n",
      "  *           *   \n",
      "    *       *     \n",
      "      *   *       \n",
      "        *         \n",
      "      *   *       \n",
      "    *       *     \n",
      "  *           *   \n",
      "*               * \n"
     ]
    }
   ],
   "source": [
    "n=9 \n",
    "for i in range(n):\n",
    "    for j in range(n):\n",
    "        if i==j or i+j==n-1:\n",
    "            print(\"*\",end=\" \")\n",
    "        else:\n",
    "            print(\" \",end=\" \")\n",
    "    print()"
   ]
  },
  {
   "cell_type": "code",
   "execution_count": 3,
   "metadata": {},
   "outputs": [
    {
     "name": "stdout",
     "output_type": "stream",
     "text": [
      "* * * * * * * * * \n",
      "*               * \n",
      "*               * \n",
      "*               * \n",
      "*               * \n",
      "*               * \n",
      "*               * \n",
      "*               * \n",
      "* * * * * * * * * \n"
     ]
    }
   ],
   "source": [
    "n=9\n",
    "for i in range(n):\n",
    "    for j in range(n):\n",
    "        if i==0 or i==n-1 or j==0 or j==n-1:\n",
    "            print(\"*\",end=\" \")\n",
    "        else:\n",
    "            print(\" \",end=\" \")\n",
    "    print()"
   ]
  },
  {
   "cell_type": "code",
   "execution_count": 4,
   "metadata": {},
   "outputs": [
    {
     "name": "stdout",
     "output_type": "stream",
     "text": [
      "*                 \n",
      "* *               \n",
      "*   *             \n",
      "*     *           \n",
      "*       *         \n",
      "*         *       \n",
      "*           *     \n",
      "*             *   \n",
      "* * * * * * * * * \n"
     ]
    }
   ],
   "source": [
    "n=9\n",
    "for i in range(n):\n",
    "    for j in range(n):\n",
    "        if j==0 or i==n-1 or i==j:\n",
    "            print(\"*\",end=\" \")\n",
    "        else:\n",
    "            print(\" \",end=\" \")\n",
    "    print()"
   ]
  },
  {
   "cell_type": "code",
   "execution_count": 5,
   "metadata": {},
   "outputs": [
    {
     "name": "stdout",
     "output_type": "stream",
     "text": [
      "* * * * * * * * * \n",
      "*             *   \n",
      "*           *     \n",
      "*         *       \n",
      "*       *         \n",
      "*     *           \n",
      "*   *             \n",
      "* *               \n",
      "*                 \n"
     ]
    }
   ],
   "source": [
    "n=9\n",
    "for i in range(n):\n",
    "    for j in range(n):\n",
    "        if i==0 or j==0 or i+j==n-1:\n",
    "            print(\"*\",end=\" \")\n",
    "        else:\n",
    "            print(\" \",end=\" \")\n",
    "    print()"
   ]
  },
  {
   "cell_type": "code",
   "execution_count": 6,
   "metadata": {},
   "outputs": [
    {
     "name": "stdout",
     "output_type": "stream",
     "text": [
      "                  * \n",
      "                *   * \n",
      "              *       * \n",
      "            *           * \n",
      "          *               * \n",
      "        *                   * \n",
      "      *                       * \n",
      "    *                           * \n",
      "  * * * * * * * * * * * * * * * * * \n"
     ]
    }
   ],
   "source": [
    "n=9\n",
    "for i in range(n):\n",
    "    for j in range(i,n):\n",
    "        print(\" \",end=\" \")\n",
    "    for j in range(i):\n",
    "        if j==0 or i==n-1:\n",
    "            print(\"*\",end=\" \")\n",
    "        else:\n",
    "            print(\" \",end=\" \")\n",
    "    for j in range(i+1):\n",
    "        if i==j or i==n-1:\n",
    "            print(\"*\",end=\" \")\n",
    "        else:\n",
    "            print(\" \",end=\" \")\n",
    "    print()\n",
    "        "
   ]
  },
  {
   "cell_type": "code",
   "execution_count": 7,
   "metadata": {},
   "outputs": [
    {
     "name": "stdout",
     "output_type": "stream",
     "text": [
      "                * \n",
      "              *   * \n",
      "            *       * \n",
      "          *           * \n",
      "        *               * \n",
      "      *                   * \n",
      "    *                       * \n",
      "  *                           * \n",
      "*                               * \n",
      "  *                           * \n",
      "    *                       * \n",
      "      *                   * \n",
      "        *               * \n",
      "          *           * \n",
      "            *       * \n",
      "              *   * \n",
      "                * \n"
     ]
    }
   ],
   "source": [
    "n=9\n",
    "for i in range(n-1):\n",
    "    for j in range(i,n-1):\n",
    "        print(\" \",end=\" \")\n",
    "    for j in range(i):\n",
    "        if j==0:\n",
    "            print(\"*\",end=\" \")\n",
    "        else:\n",
    "            print(\" \",end=\" \")\n",
    "    for j in range(i+1):\n",
    "        if i==j:\n",
    "            print(\"*\",end=\" \")\n",
    "        else:\n",
    "            print(\" \",end=\" \")\n",
    "    print()\n",
    "for i in range(n):\n",
    "    for j in range(i):\n",
    "        print(\" \",end=\" \")\n",
    "    for j in range(i,n):\n",
    "        if j==i:\n",
    "            print(\"*\",end=\" \")\n",
    "        else:\n",
    "            print(\" \",end=\" \")\n",
    "    for j in range(i,n-1):\n",
    "        if j==n-2:\n",
    "            print(\"*\",end=\" \")\n",
    "        else:\n",
    "            print(\" \",end=\" \")\n",
    "    print()\n",
    "        "
   ]
  }
 ],
 "metadata": {
  "kernelspec": {
   "display_name": "Python 3",
   "language": "python",
   "name": "python3"
  },
  "language_info": {
   "codemirror_mode": {
    "name": "ipython",
    "version": 3
   },
   "file_extension": ".py",
   "mimetype": "text/x-python",
   "name": "python",
   "nbconvert_exporter": "python",
   "pygments_lexer": "ipython3",
   "version": "3.12.4"
  }
 },
 "nbformat": 4,
 "nbformat_minor": 2
}
