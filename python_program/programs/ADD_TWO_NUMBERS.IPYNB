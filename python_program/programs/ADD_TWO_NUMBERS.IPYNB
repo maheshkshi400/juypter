{
 "cells": [
  {
   "cell_type": "code",
   "execution_count": 1,
   "metadata": {},
   "outputs": [
    {
     "name": "stdout",
     "output_type": "stream",
     "text": [
      "The sum of 34 and 50 is 84.0\n"
     ]
    }
   ],
   "source": [
    "# Python3 program to add two numbers\n",
    "\n",
    "number1 = input(\"First number: \")\n",
    "number2 = input(\"\\nSecond number: \")\n",
    "\n",
    "# Adding two numbers\n",
    "# User might also enter float numbers\n",
    "sum = float(number1) + float(number2)\n",
    "\n",
    "# Display the sum\n",
    "# will print value in float\n",
    "print(\"The sum of {0} and {1} is {2}\" .format(number1, \n",
    "                                            number2, sum))"
   ]
  },
  {
   "cell_type": "code",
   "execution_count": 2,
   "metadata": {},
   "outputs": [
    {
     "name": "stdout",
     "output_type": "stream",
     "text": [
      "Sum of 10 and 5 is 15;\n"
     ]
    }
   ],
   "source": [
    "#To define a function that take two integers \n",
    "# and return the sum of those two numbers\n",
    "def add(a,b):\n",
    "  return a+b\n",
    "\n",
    "#initializing the variables\n",
    "num1 = 10\n",
    "num2 = 5\n",
    "\n",
    "#function calling and store the result into sum_of_twonumbers\n",
    "sum_of_twonumbers = add(num1,num2)\n",
    "\n",
    "#To print the result\n",
    "print(\"Sum of {0} and {1} is {2};\" .format(num1,\n",
    "                           num2, sum_of_twonumbers))"
   ]
  },
  {
   "cell_type": "code",
   "execution_count": 3,
   "metadata": {},
   "outputs": [
    {
     "name": "stdout",
     "output_type": "stream",
     "text": [
      "Sum of 15 and 12 is 27\n"
     ]
    }
   ],
   "source": [
    "# Python3 program to add two numbers\n",
    "\n",
    "num1 = 15\n",
    "num2 = 12\n",
    "\n",
    "# Adding two nos\n",
    "import operator\n",
    "su = operator.add(num1,num2)\n",
    "\n",
    "# printing values\n",
    "print(\"Sum of {0} and {1} is {2}\" .format(num1,\n",
    "                                       num2, su))"
   ]
  },
  {
   "cell_type": "code",
   "execution_count": 4,
   "metadata": {},
   "outputs": [
    {
     "name": "stdout",
     "output_type": "stream",
     "text": [
      "The sum of 1 and 2 is 3\n"
     ]
    }
   ],
   "source": [
    "# Define a lambda function to add two numbers\n",
    "add_numbers = lambda x, y: x + y\n",
    "\n",
    "# Take input from the user\n",
    "num1 = 1\n",
    "num2 = 2\n",
    "\n",
    "# Call the lambda function to add the two numbers\n",
    "result = add_numbers(num1, num2)\n",
    "\n",
    "# Print the result\n",
    "print(\"The sum of\", num1, \"and\", num2, \"is\", result)\n"
   ]
  },
  {
   "cell_type": "code",
   "execution_count": 5,
   "metadata": {},
   "outputs": [
    {
     "name": "stdout",
     "output_type": "stream",
     "text": [
      "The sum of 1 and 2 is 3\n"
     ]
    }
   ],
   "source": [
    "# Define a recursive function to add two numbers\n",
    "def add_numbers_recursive(x, y):\n",
    "    if y == 0:\n",
    "        return x\n",
    "    else:\n",
    "        return add_numbers_recursive(x + 1, y - 1)\n",
    "\n",
    "# Take input from the user\n",
    "num1 = 1\n",
    "num2 = 2\n",
    "\n",
    "# Call the recursive function to add the two numbers\n",
    "result = add_numbers_recursive(num1, num2)\n",
    "\n",
    "# Print the result\n",
    "print(\"The sum of\", num1, \"and\", num2, \"is\", result)\n"
   ]
  },
  {
   "cell_type": "code",
   "execution_count": 6,
   "metadata": {},
   "outputs": [
    {
     "name": "stdout",
     "output_type": "stream",
     "text": [
      "12.5\n",
      "(3.5+3j)\n"
     ]
    }
   ],
   "source": [
    "int_num = 10\n",
    "float_num = 2.5\n",
    "complex_num = 1 + 3j\n",
    "\n",
    "result = int_num + float_num\n",
    "print(result)  # Output: 12.5 (integer + float)\n",
    "\n",
    "result = float_num + complex_num\n",
    "print(result)  # Output: (3.5+3j) (float + complex)"
   ]
  }
 ],
 "metadata": {
  "kernelspec": {
   "display_name": "Python 3",
   "language": "python",
   "name": "python3"
  },
  "language_info": {
   "codemirror_mode": {
    "name": "ipython",
    "version": 3
   },
   "file_extension": ".py",
   "mimetype": "text/x-python",
   "name": "python",
   "nbconvert_exporter": "python",
   "pygments_lexer": "ipython3",
   "version": "3.12.4"
  }
 },
 "nbformat": 4,
 "nbformat_minor": 2
}
