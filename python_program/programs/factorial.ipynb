{
 "cells": [
  {
   "cell_type": "code",
   "execution_count": 1,
   "metadata": {},
   "outputs": [
    {
     "name": "stdout",
     "output_type": "stream",
     "text": [
      "Factorial of 5 is 120\n"
     ]
    }
   ],
   "source": [
    "# Python 3 program to find \n",
    "# factorial of given number\n",
    "def factorial(n):\n",
    "    \n",
    "    # single line to find factorial\n",
    "    return 1 if (n==1 or n==0) else n * factorial(n - 1) \n",
    "\n",
    "# Driver Code\n",
    "num = 5\n",
    "print(\"Factorial of\",num,\"is\",factorial(num))\n"
   ]
  },
  {
   "cell_type": "code",
   "execution_count": 2,
   "metadata": {},
   "outputs": [
    {
     "name": "stdout",
     "output_type": "stream",
     "text": [
      "Factorial of 5 is 120\n"
     ]
    }
   ],
   "source": [
    "# Python 3 program to find  \n",
    "# factorial of given number\n",
    "def factorial(n):\n",
    "    if n < 0:\n",
    "        return 0\n",
    "    elif n == 0 or n == 1:\n",
    "        return 1\n",
    "    else:\n",
    "        fact = 1\n",
    "        while(n > 1):\n",
    "            fact *= n\n",
    "            n -= 1\n",
    "        return fact\n",
    "\n",
    "# Driver Code\n",
    "num = 5\n",
    "print(\"Factorial of\",num,\"is\",\n",
    "factorial(num))\n",
    "\n",
    "# This code is contributed by Dharmik Thakkar\n"
   ]
  },
  {
   "cell_type": "code",
   "execution_count": 3,
   "metadata": {},
   "outputs": [
    {
     "name": "stdout",
     "output_type": "stream",
     "text": [
      "Factorial of 5 is 120\n"
     ]
    }
   ],
   "source": [
    "# Python 3 program to find\n",
    "# factorial of given number\n",
    " \n",
    "# Function to find factorial of given number\n",
    "def factorial(n):\n",
    "      \n",
    "    res = 1\n",
    "     \n",
    "    for i in range(2, n+1):\n",
    "        res *= i\n",
    "    return res\n",
    " # Driver Code\n",
    "num = 5\n",
    "print(\"Factorial of\", num, \"is\",\n",
    "factorial(num))\n"
   ]
  },
  {
   "cell_type": "code",
   "execution_count": 4,
   "metadata": {},
   "outputs": [
    {
     "name": "stdout",
     "output_type": "stream",
     "text": [
      "Factorial of 5 is 120\n"
     ]
    }
   ],
   "source": [
    "# Find the Factorial of a Number Using One line Solution (Using Ternary operator)\n",
    "\n",
    "# Python 3 program to find\n",
    "# factorial of given number\n",
    "\n",
    "def factorial(n):\n",
    "\n",
    "    # single line to find factorial\n",
    "    return 1 if (n==1 or n==0) else n * factorial(n - 1) \n",
    "\n",
    "\n",
    "# Driver Code\n",
    "num = 5\n",
    "print (\"Factorial of\",num,\"is\",\n",
    "      factorial(num))\n",
    "\n",
    "# This code is contributed\n",
    "# by Smitha Dinesh Semwal.\n"
   ]
  },
  {
   "cell_type": "code",
   "execution_count": 5,
   "metadata": {},
   "outputs": [
    {
     "name": "stdout",
     "output_type": "stream",
     "text": [
      "Factorial of 5 is 120\n"
     ]
    }
   ],
   "source": [
    "# Python 3 program to find\n",
    "# factorial of given number\n",
    "import math\n",
    "\n",
    "def factorial(n):\n",
    "    return(math.factorial(n))\n",
    "\n",
    "\n",
    "# Driver Code\n",
    "num = 5\n",
    "print(\"Factorial of\", num, \"is\",\n",
    "      factorial(num))\n",
    "\n",
    "# This code is contributed by Ashutosh Pandit\n"
   ]
  },
  {
   "cell_type": "code",
   "execution_count": 6,
   "metadata": {},
   "outputs": [
    {
     "name": "stdout",
     "output_type": "stream",
     "text": [
      "120\n"
     ]
    }
   ],
   "source": [
    "# Find the Factorial of a Number Using numpy.prod \n",
    "import numpy\n",
    "n=5\n",
    "x=numpy.prod([i for i in range(1,n+1)])\n",
    "print(x)\n"
   ]
  },
  {
   "cell_type": "code",
   "execution_count": null,
   "metadata": {},
   "outputs": [],
   "source": []
  }
 ],
 "metadata": {
  "kernelspec": {
   "display_name": "Python 3",
   "language": "python",
   "name": "python3"
  },
  "language_info": {
   "codemirror_mode": {
    "name": "ipython",
    "version": 3
   },
   "file_extension": ".py",
   "mimetype": "text/x-python",
   "name": "python",
   "nbconvert_exporter": "python",
   "pygments_lexer": "ipython3",
   "version": "3.12.4"
  }
 },
 "nbformat": 4,
 "nbformat_minor": 2
}
