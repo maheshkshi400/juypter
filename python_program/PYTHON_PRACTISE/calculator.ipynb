{
 "cells": [
  {
   "cell_type": "markdown",
   "metadata": {},
   "source": [
    "# using if-elif statement"
   ]
  },
  {
   "cell_type": "code",
   "execution_count": 2,
   "metadata": {},
   "outputs": [
    {
     "name": "stdout",
     "output_type": "stream",
     "text": [
      "The quotient of 89 and 5 is: 17.8\n"
     ]
    }
   ],
   "source": [
    "num1 = int(input(\"Enter theumber num1 : \"))\n",
    "num2 = int(input(\"Enter theumber num2 : \"))\n",
    "operator = input(\"Enter the operator (+, -, *, /): \")\n",
    "\n",
    "\n",
    "\n",
    "if operator == \"+\":\n",
    "    result = num1 + num2\n",
    "    print(\"The sum of\", num1, \"and\", num2, \"is:\", result)\n",
    "elif operator == \"-\":\n",
    "    result = num1 - num2\n",
    "    print(\"The difference of\", num1, \"and\", num2, \"is:\", result)\n",
    "elif operator == \"*\":\n",
    "    result = num1 * num2\n",
    "    print(\"The product of\", num1, \"and\", num2, \"is:\", result)\n",
    "elif operator == \"/\":\n",
    "    result = num1 / num2\n",
    "    print(\"The quotient of\", num1, \"and\", num2, \"is:\", result)\n",
    "else:\n",
    "    print(\"Invalid operator\")"
   ]
  },
  {
   "cell_type": "markdown",
   "metadata": {},
   "source": [
    "# using if-else statement"
   ]
  },
  {
   "cell_type": "code",
   "execution_count": 4,
   "metadata": {},
   "outputs": [
    {
     "name": "stdout",
     "output_type": "stream",
     "text": [
      "Invalid operator\n"
     ]
    }
   ],
   "source": [
    "num1 = int(input(\"Enter theumber num1 : \"))\n",
    "num2 = int(input(\"Enter theumber num2 : \"))\n",
    "operator = input(\"Enter the operator (+, -, *, /): \")\n",
    "\n",
    "\n",
    "\n",
    "if operator == \"+\":\n",
    "    result = num1 + num2\n",
    "    print(\"The sum of\", num1, \"and\", num2, \"is:\", result)\n",
    "if operator == \"-\":\n",
    "    result = num1 - num2\n",
    "    print(\"The difference of\", num1, \"and\", num2, \"is:\", result)\n",
    "if operator == \"*\":\n",
    "    result = num1 * num2\n",
    "    print(\"The product of\", num1, \"and\", num2, \"is:\", result)\n",
    "if operator == \"/\":\n",
    "    result = num1 / num2\n",
    "    print(\"The quotient of\", num1, \"and\", num2, \"is:\", result)\n",
    "if operator != \"+\" or \"-\" or \"*\" or \"/\":\n",
    "    print(\"Invalid operator\")\n",
    "    "
   ]
  }
 ],
 "metadata": {
  "kernelspec": {
   "display_name": "Python 3",
   "language": "python",
   "name": "python3"
  },
  "language_info": {
   "codemirror_mode": {
    "name": "ipython",
    "version": 3
   },
   "file_extension": ".py",
   "mimetype": "text/x-python",
   "name": "python",
   "nbconvert_exporter": "python",
   "pygments_lexer": "ipython3",
   "version": "3.12.4"
  }
 },
 "nbformat": 4,
 "nbformat_minor": 2
}
