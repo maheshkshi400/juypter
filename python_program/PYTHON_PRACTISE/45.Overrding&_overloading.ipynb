{
 "cells": [
  {
   "cell_type": "code",
   "execution_count": 4,
   "metadata": {},
   "outputs": [
    {
     "name": "stdout",
     "output_type": "stream",
     "text": [
      "Nothing to find\n",
      "Area of square is  36\n",
      "Area of Rectangle is  56\n"
     ]
    }
   ],
   "source": [
    "class Area:\n",
    "    def find_area(self, a =None, b=None):\n",
    "        if a!=None and b!=None:\n",
    "            print(\"Area of Rectangle is \", a*b)\n",
    "        elif a!=None:\n",
    "            print(\"Area of square is \", a*a)\n",
    "        else:\n",
    "            print(\"Nothing to find\")\n",
    "\n",
    "\n",
    "obj1 = Area()\n",
    "obj1.find_area()\n",
    "obj1.find_area(6)\n",
    "obj1.find_area(7, 8)"
   ]
  },
  {
   "cell_type": "code",
   "execution_count": 5,
   "metadata": {},
   "outputs": [
    {
     "name": "stdout",
     "output_type": "stream",
     "text": [
      "Class B\n"
     ]
    }
   ],
   "source": [
    "# overriding\n",
    "\n",
    "class A:\n",
    "    def showdata(self):\n",
    "        print(\"Class A\")\n",
    "\n",
    "class B(A):\n",
    "    def showdata(self):\n",
    "        print(\"Class B\")\n",
    "\n",
    "obj = B()\n",
    "obj.showdata() # Class B"
   ]
  },
  {
   "cell_type": "code",
   "execution_count": null,
   "metadata": {},
   "outputs": [],
   "source": []
  }
 ],
 "metadata": {
  "kernelspec": {
   "display_name": "Python 3",
   "language": "python",
   "name": "python3"
  },
  "language_info": {
   "codemirror_mode": {
    "name": "ipython",
    "version": 3
   },
   "file_extension": ".py",
   "mimetype": "text/x-python",
   "name": "python",
   "nbconvert_exporter": "python",
   "pygments_lexer": "ipython3",
   "version": "3.12.4"
  }
 },
 "nbformat": 4,
 "nbformat_minor": 2
}
