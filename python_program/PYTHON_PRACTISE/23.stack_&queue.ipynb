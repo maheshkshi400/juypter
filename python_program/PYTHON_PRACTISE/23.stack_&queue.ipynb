{
 "cells": [
  {
   "cell_type": "code",
   "execution_count": 2,
   "metadata": {},
   "outputs": [
    {
     "name": "stdout",
     "output_type": "stream",
     "text": [
      "Stack is empty\n",
      "['10']\n",
      "['10', '20']\n",
      "['10', '20', '30']\n",
      "Last element is :  30\n",
      "Display stack  ['10', '20', '30']\n"
     ]
    }
   ],
   "source": [
    "l = [ ]\n",
    "\n",
    "while True:\n",
    "    c = int(input('''\n",
    "            1 push elements\n",
    "            2 pop elements\n",
    "            3 peek elements\n",
    "            4 display stack\n",
    "            5 exit\n",
    "         '''))\n",
    "    if c == 1:\n",
    "             n = input(\"Enter the element : \")\n",
    "             l.append(n)\n",
    "             print(l)\n",
    "    elif c == 2:\n",
    "             if len(l) == 0:\n",
    "                 print(\"Stack is empty\")\n",
    "             else:\n",
    "                 p = l.pop()\n",
    "                 print(p)\n",
    "                 print(l)\n",
    "    elif c == 3:\n",
    "             if len(l) == 0:\n",
    "                 print(\"Stack is empty\")\n",
    "             else:\n",
    "              print(\"Last element is : \",l[-1])\n",
    "    elif c == 4:\n",
    "             print(\"Display stack \",l)\n",
    "    elif c == 5:\n",
    "             break\n",
    "    else:\n",
    "        print(\"Invalid choice\")\n",
    "    \n",
    "\n",
    "    "
   ]
  },
  {
   "cell_type": "markdown",
   "metadata": {},
   "source": [
    "# queue"
   ]
  },
  {
   "cell_type": "code",
   "execution_count": 4,
   "metadata": {},
   "outputs": [
    {
     "name": "stdout",
     "output_type": "stream",
     "text": [
      "['10']\n",
      "['10', '20']\n",
      "['10', '20', '30']\n",
      "10\n",
      "['20', '30']\n",
      "['20', '30', '10']\n",
      "['20', '30', '10', '40']\n",
      "First element is :  20\n",
      "Display queue  ['20', '30', '10', '40']\n"
     ]
    }
   ],
   "source": [
    "\n",
    "# queue opearion \n",
    "q = [ ]\n",
    "\n",
    "\n",
    "while True:\n",
    "    c = int(input('''\n",
    "            1 push elements\n",
    "            2 pop first elements\n",
    "            3 front elements \n",
    "            4 last  elements\n",
    "            5 display queue\n",
    "            6 exit\n",
    "         '''))\n",
    "    if c == 1:\n",
    "             n = input(\"Enter the element : \")\n",
    "             q.append(n)\n",
    "             print(q)\n",
    "    elif c == 2:\n",
    "             if len(q) == 0:\n",
    "                 print(\"Queue is empty\")\n",
    "             else:\n",
    "                 p = q.pop(0)\n",
    "                 print(p)\n",
    "                 print(q)\n",
    "    elif c == 3:\n",
    "             if len(q) == 0:\n",
    "                 print(\"Queue is empty\")\n",
    "             else:\n",
    "              print(\"First element is : \", q[0])\n",
    "    elif c == 4:\n",
    "             if len(q) == 0:\n",
    "                 print(\"Queue is empty\")\n",
    "             else:\n",
    "              print(\"Last element is : \", q[-1])\n",
    "    elif c == 5:\n",
    "             print(\"Display queue \", q)\n",
    "    elif c == 6:\n",
    "             break\n",
    "    else:\n",
    "        print(\"Invalid choice\") \n",
    "\n",
    "\n",
    "    "
   ]
  }
 ],
 "metadata": {
  "kernelspec": {
   "display_name": "Python 3",
   "language": "python",
   "name": "python3"
  },
  "language_info": {
   "codemirror_mode": {
    "name": "ipython",
    "version": 3
   },
   "file_extension": ".py",
   "mimetype": "text/x-python",
   "name": "python",
   "nbconvert_exporter": "python",
   "pygments_lexer": "ipython3",
   "version": "3.12.4"
  }
 },
 "nbformat": 4,
 "nbformat_minor": 2
}
