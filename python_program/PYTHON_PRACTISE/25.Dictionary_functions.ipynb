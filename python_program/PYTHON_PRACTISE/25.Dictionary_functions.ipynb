{
 "cells": [
  {
   "cell_type": "markdown",
   "metadata": {},
   "source": [
    "# get_function"
   ]
  },
  {
   "cell_type": "markdown",
   "metadata": {},
   "source": []
  },
  {
   "cell_type": "code",
   "execution_count": 1,
   "metadata": {},
   "outputs": [
    {
     "name": "stdout",
     "output_type": "stream",
     "text": [
      "{'name': 'python', 'fees': 8000, 'duration': '3 months'}\n"
     ]
    }
   ],
   "source": [
    "d ={\n",
    "    \"name\":\"python\",\n",
    "    \"fees\": 8000,\n",
    "    \"duration\": \"3 months\"\n",
    "}\n",
    "print(d)"
   ]
  },
  {
   "cell_type": "code",
   "execution_count": 3,
   "metadata": {},
   "outputs": [
    {
     "name": "stdout",
     "output_type": "stream",
     "text": [
      "python\n"
     ]
    }
   ],
   "source": [
    "d ={\n",
    "    \"course\":\"python\",\n",
    "    \"fees\": 8000,\n",
    "    \"duration\": \"3 months\"\n",
    "}\n",
    "\n",
    "c = d.get('course')\n",
    "print(c)"
   ]
  },
  {
   "cell_type": "markdown",
   "metadata": {},
   "source": [
    "# keys"
   ]
  },
  {
   "cell_type": "code",
   "execution_count": 4,
   "metadata": {},
   "outputs": [
    {
     "name": "stdout",
     "output_type": "stream",
     "text": [
      "python\n",
      "8000\n",
      "3 months\n"
     ]
    }
   ],
   "source": [
    "d ={\n",
    "    \"course\":\"python\",\n",
    "    \"fees\": 8000,\n",
    "    \"duration\": \"3 months\"\n",
    "}\n",
    "\n",
    "for a in d.values():\n",
    "    print(a)"
   ]
  },
  {
   "cell_type": "markdown",
   "metadata": {},
   "source": [
    "# items"
   ]
  },
  {
   "cell_type": "code",
   "execution_count": 5,
   "metadata": {},
   "outputs": [
    {
     "name": "stdout",
     "output_type": "stream",
     "text": [
      "course : python\n",
      "fees : 8000\n",
      "duration : 3 months\n"
     ]
    }
   ],
   "source": [
    "d ={\n",
    "    \"course\":\"python\",\n",
    "    \"fees\": 8000,\n",
    "    \"duration\": \"3 months\"\n",
    "}\n",
    "\n",
    "for a,b in d.items():\n",
    "    print(f\"{a} : {b}\")"
   ]
  },
  {
   "cell_type": "markdown",
   "metadata": {},
   "source": [
    "# del"
   ]
  },
  {
   "cell_type": "code",
   "execution_count": 6,
   "metadata": {},
   "outputs": [
    {
     "name": "stdout",
     "output_type": "stream",
     "text": [
      "{'course': 'python', 'duration': '3 months'}\n"
     ]
    }
   ],
   "source": [
    "d ={\n",
    "    \"course\":\"python\",\n",
    "    \"fees\": 8000,\n",
    "    \"duration\": \"3 months\"\n",
    "}\n",
    "\n",
    "del d[\"fees\"]\n",
    "print(d)"
   ]
  },
  {
   "cell_type": "markdown",
   "metadata": {},
   "source": [
    "# pop"
   ]
  },
  {
   "cell_type": "code",
   "execution_count": 9,
   "metadata": {},
   "outputs": [
    {
     "name": "stdout",
     "output_type": "stream",
     "text": [
      "8000\n"
     ]
    }
   ],
   "source": [
    "d ={\n",
    "    \"course\":\"python\",\n",
    "    \"fees\": 8000,\n",
    "    \"duration\": \"3 months\"\n",
    "}\n",
    "\n",
    "print(d.pop(\"fees\"))\n",
    "\n"
   ]
  },
  {
   "cell_type": "markdown",
   "metadata": {},
   "source": [
    "# Dict"
   ]
  },
  {
   "cell_type": "code",
   "execution_count": 10,
   "metadata": {},
   "outputs": [
    {
     "name": "stdout",
     "output_type": "stream",
     "text": [
      "{'name': 'python', 'fees': 8000}\n"
     ]
    }
   ],
   "source": [
    "d = dict(name = 'python',fees = 8000)\n",
    "\n",
    "print(d)"
   ]
  },
  {
   "cell_type": "markdown",
   "metadata": {},
   "source": [
    "# update"
   ]
  },
  {
   "cell_type": "code",
   "execution_count": 13,
   "metadata": {},
   "outputs": [
    {
     "name": "stdout",
     "output_type": "stream",
     "text": [
      "{'course': 'python', 'fees': 20000, 'duration': '2 months'}\n"
     ]
    }
   ],
   "source": [
    "d ={\n",
    "    \"course\":\"python\",\n",
    "    \"fees\": 8000,\n",
    "    \"duration\": \"3 months\"\n",
    "}\n",
    "\n",
    "d.update({'duration': '2 months','fees':20000})\n",
    "print(d)\n",
    "\n"
   ]
  },
  {
   "cell_type": "code",
   "execution_count": null,
   "metadata": {},
   "outputs": [],
   "source": [
    "d ={\n",
    "    \"course\":\"python\",\n",
    "    \"fees\": 8000,\n",
    "    \"duration\": \"3 months\"\n",
    "}\n",
    "\n",
    "d"
   ]
  },
  {
   "cell_type": "markdown",
   "metadata": {},
   "source": [
    "# clear"
   ]
  },
  {
   "cell_type": "code",
   "execution_count": 21,
   "metadata": {},
   "outputs": [
    {
     "name": "stdout",
     "output_type": "stream",
     "text": [
      "{}\n"
     ]
    }
   ],
   "source": [
    "d ={\n",
    "    \"course\":\"python\",\n",
    "    \"fees\": 8000,\n",
    "    \"duration\": \"3 months\"\n",
    "}\n",
    "\n",
    "\n",
    "d.clear()\n",
    "print(d)"
   ]
  },
  {
   "cell_type": "markdown",
   "metadata": {},
   "source": [
    "# insert"
   ]
  },
  {
   "cell_type": "code",
   "execution_count": 22,
   "metadata": {},
   "outputs": [
    {
     "name": "stdout",
     "output_type": "stream",
     "text": [
      "{'course': 'python', 'fees': 8000, 'duration': '3 months', 'desc': 'This is python course'}\n"
     ]
    }
   ],
   "source": [
    "d ={\n",
    "    \"course\":\"python\",\n",
    "    \"fees\": 8000,\n",
    "    \"duration\": \"3 months\"\n",
    "}\n",
    "\n",
    "d[\"desc\"]=\"This is python course\"\n",
    "print(d)"
   ]
  },
  {
   "cell_type": "code",
   "execution_count": 24,
   "metadata": {},
   "outputs": [
    {
     "name": "stdout",
     "output_type": "stream",
     "text": [
      "{'course': 'python', 'fees': 8000, 'duration': '3 months', 'student_name': 'vivek'}\n"
     ]
    }
   ],
   "source": [
    "d ={\n",
    "    \"course\":\"python\",\n",
    "    \"fees\": 8000,\n",
    "    \"duration\": \"3 months\"\n",
    "}\n",
    "\n",
    "d[\"student_name\"] = \"vivek\"\n",
    "print(d)"
   ]
  },
  {
   "cell_type": "code",
   "execution_count": null,
   "metadata": {},
   "outputs": [],
   "source": []
  }
 ],
 "metadata": {
  "kernelspec": {
   "display_name": "Python 3",
   "language": "python",
   "name": "python3"
  },
  "language_info": {
   "codemirror_mode": {
    "name": "ipython",
    "version": 3
   },
   "file_extension": ".py",
   "mimetype": "text/x-python",
   "name": "python",
   "nbconvert_exporter": "python",
   "pygments_lexer": "ipython3",
   "version": "3.12.4"
  }
 },
 "nbformat": 4,
 "nbformat_minor": 2
}
