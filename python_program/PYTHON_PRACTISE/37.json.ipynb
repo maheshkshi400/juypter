{
 "cells": [
  {
   "cell_type": "code",
   "execution_count": null,
   "metadata": {},
   "outputs": [],
   "source": [
    "# json - javascript object notation"
   ]
  },
  {
   "cell_type": "code",
   "execution_count": 1,
   "metadata": {},
   "outputs": [
    {
     "name": "stdout",
     "output_type": "stream",
     "text": [
      "{\"URL\": \"www.wscubetech.com\", \"name\": \"wscubetech\", \"course\": \"python\", \"fees\": 8000, \"duration\": \"2 month\", \"course_id\": 4}\n"
     ]
    }
   ],
   "source": [
    "import json\n",
    "blog = {'URL':'www.wscubetech.com',\n",
    "        'name':'wscubetech',\n",
    "        'course':'python',\n",
    "        'fees':8000,\n",
    "        'duration':'2 month',\n",
    "        'course_id':4\n",
    "        }\n",
    "\n",
    "to_json = json.dumps(blog)\n",
    "print(to_json)"
   ]
  },
  {
   "cell_type": "code",
   "execution_count": null,
   "metadata": {},
   "outputs": [],
   "source": []
  }
 ],
 "metadata": {
  "kernelspec": {
   "display_name": "Python 3",
   "language": "python",
   "name": "python3"
  },
  "language_info": {
   "codemirror_mode": {
    "name": "ipython",
    "version": 3
   },
   "file_extension": ".py",
   "mimetype": "text/x-python",
   "name": "python",
   "nbconvert_exporter": "python",
   "pygments_lexer": "ipython3",
   "version": "3.12.4"
  }
 },
 "nbformat": 4,
 "nbformat_minor": 2
}
