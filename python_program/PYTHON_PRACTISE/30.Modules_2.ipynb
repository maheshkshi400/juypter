{
 "cells": [
  {
   "cell_type": "code",
   "execution_count": 5,
   "metadata": {},
   "outputs": [
    {
     "name": "stdout",
     "output_type": "stream",
     "text": [
      "The addition of 30 and 40 is: 70\n",
      "The exponent of 30 and 3 is: 27000\n",
      "The Multiplication of 40 and 30 is: 1200\n"
     ]
    }
   ],
   "source": [
    "# import the 30.Modules_1.ipynb and utilise in this notebook for the calculaton\n",
    "\n",
    "%run 30.Modules_1.ipynb import addition,exponent,Multiplication\n",
    "30\n"
   ]
  }
 ],
 "metadata": {
  "kernelspec": {
   "display_name": "Python 3",
   "language": "python",
   "name": "python3"
  },
  "language_info": {
   "codemirror_mode": {
    "name": "ipython",
    "version": 3
   },
   "file_extension": ".py",
   "mimetype": "text/x-python",
   "name": "python",
   "nbconvert_exporter": "python",
   "pygments_lexer": "ipython3",
   "version": "3.12.4"
  }
 },
 "nbformat": 4,
 "nbformat_minor": 2
}
