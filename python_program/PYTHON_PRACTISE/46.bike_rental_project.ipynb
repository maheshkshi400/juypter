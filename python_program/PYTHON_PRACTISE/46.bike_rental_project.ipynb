{
 "cells": [
  {
   "cell_type": "code",
   "execution_count": 5,
   "metadata": {},
   "outputs": [
    {
     "name": "stdout",
     "output_type": "stream",
     "text": [
      "Total Bikes 100\n",
      "Total Bikes 100\n",
      "Total price 4500\n",
      "Total Bikes 55\n",
      "Total Bikes 100\n"
     ]
    }
   ],
   "source": [
    "class bikeshop():\n",
    "    def __init__(self,stock):\n",
    "        self.stock=stock\n",
    "    def displayBike(self):\n",
    "        print(\"Total Bikes\",self.stock)\n",
    "    def rentForBike(self,q):\n",
    "        if q<=0:\n",
    "            print(\"Enter the positive value or greater than zero\")\n",
    "        elif q>self.stock:\n",
    "            print(\"Enter the value less than stock\")\n",
    "        else:\n",
    "            self.stock=self.stock-q\n",
    "            print(\"Total price\",q*100)\n",
    "            print(\"Total Bikes\",self.stock)\n",
    "\n",
    "while True:\n",
    "    obj = bikeshop(100)\n",
    "    uc=int(input(\"Enter 1 to display stock 2 to rent bike 3 to exit\"))\n",
    "    if uc==1:\n",
    "        obj.displayBike()\n",
    "    elif uc==2:\n",
    "        n=int(input(\"Enter the number of bikes you want to rent\"))\n",
    "        obj.rentForBike(n)\n",
    "    else:\n",
    "        break\n",
    "\n",
    "obj = bikeshop(100)\n",
    "obj.displayBike()\n"
   ]
  },
  {
   "cell_type": "code",
   "execution_count": null,
   "metadata": {},
   "outputs": [],
   "source": []
  }
 ],
 "metadata": {
  "kernelspec": {
   "display_name": "Python 3",
   "language": "python",
   "name": "python3"
  },
  "language_info": {
   "codemirror_mode": {
    "name": "ipython",
    "version": 3
   },
   "file_extension": ".py",
   "mimetype": "text/x-python",
   "name": "python",
   "nbconvert_exporter": "python",
   "pygments_lexer": "ipython3",
   "version": "3.12.4"
  }
 },
 "nbformat": 4,
 "nbformat_minor": 2
}
