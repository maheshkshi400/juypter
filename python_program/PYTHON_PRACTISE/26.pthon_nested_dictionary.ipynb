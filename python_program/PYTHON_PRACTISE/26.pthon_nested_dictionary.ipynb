{
 "cells": [
  {
   "cell_type": "markdown",
   "metadata": {},
   "source": [
    "# Nested dictionary"
   ]
  },
  {
   "cell_type": "code",
   "execution_count": 4,
   "metadata": {},
   "outputs": [
    {
     "name": "stdout",
     "output_type": "stream",
     "text": [
      "{'php': {'duration': '3 months', 'fees': 15000}, 'java': {'duration': '2 months', 'fees': 8000}, 'python': {'duration': '2 months', 'fees': 10000}}\n"
     ]
    }
   ],
   "source": [
    "course = {\n",
    "    \"php\" :{\"duration\":\"3 months\", \"fees\":15000},\n",
    "    \"java\":{\"duration\":\"2 months\", \"fees\":8000},\n",
    "    \"python\":{\"duration\":\"2 months\", \"fees\":10000}\n",
    "}\n",
    "\n",
    "print(course)"
   ]
  },
  {
   "cell_type": "code",
   "execution_count": 5,
   "metadata": {},
   "outputs": [
    {
     "name": "stdout",
     "output_type": "stream",
     "text": [
      "{'duration': '3 months', 'fees': 15000}\n"
     ]
    }
   ],
   "source": [
    "print(course[\"php\"])"
   ]
  },
  {
   "cell_type": "code",
   "execution_count": 6,
   "metadata": {},
   "outputs": [
    {
     "name": "stdout",
     "output_type": "stream",
     "text": [
      "15000\n"
     ]
    }
   ],
   "source": [
    "print(course[\"php\"][\"fees\"])"
   ]
  },
  {
   "cell_type": "code",
   "execution_count": 7,
   "metadata": {},
   "outputs": [
    {
     "name": "stdout",
     "output_type": "stream",
     "text": [
      "php:{'duration': '3 months', 'fees': 15000}\n",
      "java:{'duration': '2 months', 'fees': 8000}\n",
      "python:{'duration': '2 months', 'fees': 10000}\n"
     ]
    }
   ],
   "source": [
    "for k,v in course.items():\n",
    "    print(f\"{k}:{v}\")"
   ]
  },
  {
   "cell_type": "code",
   "execution_count": 8,
   "metadata": {},
   "outputs": [
    {
     "name": "stdout",
     "output_type": "stream",
     "text": [
      "php 3 months 15000\n",
      "java 2 months 8000\n",
      "python 2 months 10000\n"
     ]
    }
   ],
   "source": [
    "for k,v in course.items():\n",
    "    print(k,v[\"duration\"],v[\"fees\"])"
   ]
  },
  {
   "cell_type": "code",
   "execution_count": 10,
   "metadata": {},
   "outputs": [
    {
     "name": "stdout",
     "output_type": "stream",
     "text": [
      "{'php': {'duration': '3 months', 'fees': 15000}, 'java': {'duration': '2 months', 'fees': 17000}, 'python': {'duration': '2 months', 'fees': 10000}}\n"
     ]
    }
   ],
   "source": [
    "course[\"java\"][\"fees\"] = 17000\n",
    "print(course)"
   ]
  },
  {
   "cell_type": "code",
   "execution_count": null,
   "metadata": {},
   "outputs": [],
   "source": []
  }
 ],
 "metadata": {
  "kernelspec": {
   "display_name": "Python 3",
   "language": "python",
   "name": "python3"
  },
  "language_info": {
   "codemirror_mode": {
    "name": "ipython",
    "version": 3
   },
   "file_extension": ".py",
   "mimetype": "text/x-python",
   "name": "python",
   "nbconvert_exporter": "python",
   "pygments_lexer": "ipython3",
   "version": "3.12.4"
  }
 },
 "nbformat": 4,
 "nbformat_minor": 2
}
