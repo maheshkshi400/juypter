{
 "cells": [
  {
   "cell_type": "code",
   "execution_count": 4,
   "metadata": {},
   "outputs": [
    {
     "name": "stdout",
     "output_type": "stream",
     "text": [
      "10\n"
     ]
    }
   ],
   "source": [
    "class democlss:\n",
    "    a =10\n",
    "    def showvalue(self):\n",
    "        print(self.a)\n",
    "obj = democlss()\n",
    "obj.showvalue()"
   ]
  },
  {
   "cell_type": "code",
   "execution_count": 8,
   "metadata": {},
   "outputs": [
    {
     "name": "stdout",
     "output_type": "stream",
     "text": [
      "500\n",
      "Welcome to wscubetech\n"
     ]
    }
   ],
   "source": [
    "class democlss:\n",
    "    a =20\n",
    "    b=25\n",
    "    def showvalue(self):\n",
    "        self.c = self.a*self.b\n",
    "        print(self.c)\n",
    "    def showvalue1(self):\n",
    "        print(\"Welcome to wscubetech\")\n",
    "obj =democlss()\n",
    "obj.showvalue()\n",
    "obj.showvalue1()"
   ]
  },
  {
   "cell_type": "code",
   "execution_count": 9,
   "metadata": {},
   "outputs": [
    {
     "name": "stdout",
     "output_type": "stream",
     "text": [
      "30\n"
     ]
    }
   ],
   "source": [
    "class democlss:\n",
    "    def showvalue1(self,a,b):\n",
    "        print(a + b)\n",
    "\n",
    "demobject = democlss()\n",
    "demobject.showvalue1(10, 20)"
   ]
  },
  {
   "cell_type": "code",
   "execution_count": 1,
   "metadata": {},
   "outputs": [
    {
     "name": "stdout",
     "output_type": "stream",
     "text": [
      "welcome to wscubetech\n"
     ]
    }
   ],
   "source": [
    "# constructor\n",
    "\n",
    "class democlass:\n",
    "    a =10\n",
    "    def __init__(self):\n",
    "        print(\"welcome to wscubetech\")\n",
    "\n",
    "obj = democlass()"
   ]
  },
  {
   "cell_type": "code",
   "execution_count": null,
   "metadata": {},
   "outputs": [],
   "source": []
  }
 ],
 "metadata": {
  "kernelspec": {
   "display_name": "Python 3",
   "language": "python",
   "name": "python3"
  },
  "language_info": {
   "codemirror_mode": {
    "name": "ipython",
    "version": 3
   },
   "file_extension": ".py",
   "mimetype": "text/x-python",
   "name": "python",
   "nbconvert_exporter": "python",
   "pygments_lexer": "ipython3",
   "version": "3.12.4"
  }
 },
 "nbformat": 4,
 "nbformat_minor": 2
}
