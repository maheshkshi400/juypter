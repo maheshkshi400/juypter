{
 "cells": [
  {
   "cell_type": "code",
   "execution_count": 7,
   "metadata": {},
   "outputs": [
    {
     "data": {
      "text/plain": [
       "7"
      ]
     },
     "execution_count": 7,
     "metadata": {},
     "output_type": "execute_result"
    }
   ],
   "source": [
    "L = [20,30,40,60,100,120,\"LOVE\"]\n",
    "t = len(L)\n",
    "t"
   ]
  },
  {
   "cell_type": "code",
   "execution_count": 8,
   "metadata": {},
   "outputs": [
    {
     "name": "stdout",
     "output_type": "stream",
     "text": [
      "20 30 40 60 100 120 LOVE "
     ]
    }
   ],
   "source": [
    "for i in range(t):\n",
    "    print(L[i],end=\" \")"
   ]
  },
  {
   "cell_type": "code",
   "execution_count": 18,
   "metadata": {},
   "outputs": [
    {
     "name": "stdout",
     "output_type": "stream",
     "text": [
      "20 30 40 60 100 120 LOVE "
     ]
    }
   ],
   "source": [
    "L = [20,30,40,60,100,120,\"LOVE\"]\n",
    "t = len(L)\n",
    "\n",
    "for i in L:\n",
    "    print(i,end=\" \")"
   ]
  },
  {
   "cell_type": "code",
   "execution_count": 21,
   "metadata": {},
   "outputs": [
    {
     "name": "stdout",
     "output_type": "stream",
     "text": [
      "20 30 40 60 100 120 LOVE "
     ]
    }
   ],
   "source": [
    "L = [20,30,40,60,100,120,\"LOVE\"]\n",
    "t = len(L)\n",
    "\n",
    "for i in range (t):\n",
    "    print(L[i],end=\" \")"
   ]
  },
  {
   "cell_type": "code",
   "execution_count": 23,
   "metadata": {},
   "outputs": [
    {
     "name": "stdout",
     "output_type": "stream",
     "text": [
      "6 LOVE 5 120 4 100 3 60 2 40 1 30 0 20 "
     ]
    }
   ],
   "source": [
    "# reverse loop\n",
    "\n",
    "L = [20,30,40,60,100,120,\"LOVE\"]\n",
    "t = len(L)\n",
    "\n",
    "for i in range (t-1,-1,-1):\n",
    "    print(i,L[i],end=\" \")"
   ]
  }
 ],
 "metadata": {
  "kernelspec": {
   "display_name": "Python 3",
   "language": "python",
   "name": "python3"
  },
  "language_info": {
   "codemirror_mode": {
    "name": "ipython",
    "version": 3
   },
   "file_extension": ".py",
   "mimetype": "text/x-python",
   "name": "python",
   "nbconvert_exporter": "python",
   "pygments_lexer": "ipython3",
   "version": "3.12.4"
  }
 },
 "nbformat": 4,
 "nbformat_minor": 2
}
