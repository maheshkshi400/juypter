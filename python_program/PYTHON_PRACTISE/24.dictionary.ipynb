{
 "cells": [
  {
   "cell_type": "code",
   "execution_count": 3,
   "metadata": {},
   "outputs": [
    {
     "name": "stdout",
     "output_type": "stream",
     "text": [
      "{'name': 'python', 'fees': 8000, 'duration': '3 months'}\n"
     ]
    }
   ],
   "source": [
    "d ={\n",
    "    \"name\":\"python\",\n",
    "    \"fees\": 8000,\n",
    "    \"duration\": \"3 months\"\n",
    "}\n",
    "print(d)"
   ]
  },
  {
   "cell_type": "code",
   "execution_count": 4,
   "metadata": {},
   "outputs": [
    {
     "name": "stdout",
     "output_type": "stream",
     "text": [
      "8000\n"
     ]
    }
   ],
   "source": [
    "f = d[\"fees\"]\n",
    "print(f)"
   ]
  },
  {
   "cell_type": "code",
   "execution_count": 6,
   "metadata": {},
   "outputs": [
    {
     "name": "stdout",
     "output_type": "stream",
     "text": [
      "name\n",
      "fees\n",
      "duration\n"
     ]
    }
   ],
   "source": [
    "d ={\n",
    "    \"name\":\"python\",\n",
    "    \"fees\": 8000,\n",
    "    \"duration\": \"3 months\"\n",
    "}\n",
    "for n in d:\n",
    "    print(n)"
   ]
  },
  {
   "cell_type": "code",
   "execution_count": 7,
   "metadata": {},
   "outputs": [
    {
     "name": "stdout",
     "output_type": "stream",
     "text": [
      "python\n",
      "8000\n",
      "3 months\n"
     ]
    }
   ],
   "source": [
    "d ={\n",
    "    \"name\":\"python\",\n",
    "    \"fees\": 8000,\n",
    "    \"duration\": \"3 months\"\n",
    "}\n",
    "for n in d:\n",
    "    print(d[n])"
   ]
  },
  {
   "cell_type": "code",
   "execution_count": null,
   "metadata": {},
   "outputs": [],
   "source": []
  }
 ],
 "metadata": {
  "kernelspec": {
   "display_name": "Python 3",
   "language": "python",
   "name": "python3"
  },
  "language_info": {
   "codemirror_mode": {
    "name": "ipython",
    "version": 3
   },
   "file_extension": ".py",
   "mimetype": "text/x-python",
   "name": "python",
   "nbconvert_exporter": "python",
   "pygments_lexer": "ipython3",
   "version": "3.12.4"
  }
 },
 "nbformat": 4,
 "nbformat_minor": 2
}
