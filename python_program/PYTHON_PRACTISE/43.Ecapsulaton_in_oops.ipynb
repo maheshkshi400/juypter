{
 "cells": [
  {
   "cell_type": "code",
   "execution_count": 10,
   "metadata": {},
   "outputs": [
    {
     "name": "stdout",
     "output_type": "stream",
     "text": [
      "Rahul\n",
      "Rahul\n"
     ]
    }
   ],
   "source": [
    "class student:\n",
    "    __name=\"Ravi\"\n",
    "    name =\"Rahul\"\n",
    "\n",
    "obj = student()\n",
    "print(obj.name)\n",
    "print(obj.name)\n"
   ]
  },
  {
   "cell_type": "code",
   "execution_count": 12,
   "metadata": {},
   "outputs": [
    {
     "name": "stdout",
     "output_type": "stream",
     "text": [
      "Ravi\n"
     ]
    }
   ],
   "source": [
    "class student:\n",
    "    __name=\"Ravi\"\n",
    "    def __init__(self):\n",
    "        print(self.__name)\n",
    "obj = student()\n",
    "\n"
   ]
  },
  {
   "cell_type": "code",
   "execution_count": 14,
   "metadata": {},
   "outputs": [
    {
     "name": "stdout",
     "output_type": "stream",
     "text": [
      "Ravi\n",
      "welcome to wscubetech\n"
     ]
    }
   ],
   "source": [
    "class student:\n",
    "    __name=\"Ravi\"\n",
    "    name =\"Rahul\"\n",
    "    def __init__(self):\n",
    "        print(self.__name)\n",
    "        self.__displayinfo()\n",
    "\n",
    "    def __displayinfo(self):\n",
    "        print(\"welcome to wscubetech\")\n",
    "\n",
    "obj = student()\n"
   ]
  },
  {
   "cell_type": "code",
   "execution_count": null,
   "metadata": {},
   "outputs": [],
   "source": []
  }
 ],
 "metadata": {
  "kernelspec": {
   "display_name": "Python 3",
   "language": "python",
   "name": "python3"
  },
  "language_info": {
   "codemirror_mode": {
    "name": "ipython",
    "version": 3
   },
   "file_extension": ".py",
   "mimetype": "text/x-python",
   "name": "python",
   "nbconvert_exporter": "python",
   "pygments_lexer": "ipython3",
   "version": "3.12.4"
  }
 },
 "nbformat": 4,
 "nbformat_minor": 2
}
