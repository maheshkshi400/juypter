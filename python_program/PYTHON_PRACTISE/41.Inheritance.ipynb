{
 "cells": [
  {
   "cell_type": "code",
   "execution_count": 2,
   "metadata": {},
   "outputs": [
    {
     "name": "stdout",
     "output_type": "stream",
     "text": [
      "I am inside A\n",
      "I am inside B\n"
     ]
    }
   ],
   "source": [
    "# single inheritance\n",
    "\n",
    "class A:\n",
    "    def displayA(self):\n",
    "        print(\"I am inside A\")\n",
    "class B(A):\n",
    "    def displayB(self):\n",
    "        print(\"I am inside B\")\n",
    "\n",
    "obj = B()\n",
    "obj.displayA()\n",
    "obj.displayB()\n"
   ]
  },
  {
   "cell_type": "code",
   "execution_count": 4,
   "metadata": {},
   "outputs": [
    {
     "name": "stdout",
     "output_type": "stream",
     "text": [
      "I am inside A\n",
      "I am inside B\n",
      "I am inside C\n"
     ]
    }
   ],
   "source": [
    "# multilevel inheritance\n",
    "\n",
    "class A:\n",
    "    def displayA(self):\n",
    "        print(\"I am inside A\")\n",
    "class B(A):\n",
    "    def displayB(self):\n",
    "        print(\"I am inside B\")\n",
    "\n",
    "class C(B):\n",
    "    def displayC(self):\n",
    "        print(\"I am inside C\")\n",
    "\n",
    "obj = C()\n",
    "obj.displayA()\n",
    "obj.displayB()\n",
    "obj.displayC()"
   ]
  },
  {
   "cell_type": "code",
   "execution_count": 5,
   "metadata": {},
   "outputs": [
    {
     "name": "stdout",
     "output_type": "stream",
     "text": [
      "I am inside A\n",
      "I am inside B\n",
      "I am inside C\n"
     ]
    }
   ],
   "source": [
    "# multiple inheritance\n",
    "\n",
    "class A:\n",
    "    def displayA(self):\n",
    "        print(\"I am inside A\")\n",
    "class B:\n",
    "    def displayB(self):\n",
    "        print(\"I am inside B\")\n",
    "\n",
    "class C(A,B):\n",
    "    def displayC(self):\n",
    "        print(\"I am inside C\")\n",
    "\n",
    "obj = C()\n",
    "obj.displayA()\n",
    "obj.displayB()\n",
    "obj.displayC()"
   ]
  }
 ],
 "metadata": {
  "kernelspec": {
   "display_name": "Python 3",
   "language": "python",
   "name": "python3"
  },
  "language_info": {
   "codemirror_mode": {
    "name": "ipython",
    "version": 3
   },
   "file_extension": ".py",
   "mimetype": "text/x-python",
   "name": "python",
   "nbconvert_exporter": "python",
   "pygments_lexer": "ipython3",
   "version": "3.12.4"
  }
 },
 "nbformat": 4,
 "nbformat_minor": 2
}
