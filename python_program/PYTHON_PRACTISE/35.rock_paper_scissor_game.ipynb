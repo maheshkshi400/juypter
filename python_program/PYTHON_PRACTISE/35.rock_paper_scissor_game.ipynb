{
 "cells": [
  {
   "cell_type": "code",
   "execution_count": 7,
   "metadata": {},
   "outputs": [
    {
     "name": "stdout",
     "output_type": "stream",
     "text": [
      "you chose rock and computer chose scissor\n",
      "You win\n"
     ]
    },
    {
     "ename": "ValueError",
     "evalue": "invalid literal for int() with base 10: ''",
     "output_type": "error",
     "traceback": [
      "\u001b[1;31m---------------------------------------------------------------------------\u001b[0m",
      "\u001b[1;31mValueError\u001b[0m                                Traceback (most recent call last)",
      "Cell \u001b[1;32mIn[7], line 19\u001b[0m\n\u001b[0;32m     17\u001b[0m     \u001b[38;5;28;01mif\u001b[39;00m user_choice \u001b[38;5;241m==\u001b[39m \u001b[38;5;241m1\u001b[39m:\n\u001b[0;32m     18\u001b[0m         \u001b[38;5;28;01mfor\u001b[39;00m a \u001b[38;5;129;01min\u001b[39;00m \u001b[38;5;28mrange\u001b[39m(\u001b[38;5;241m1\u001b[39m,\u001b[38;5;241m6\u001b[39m):\n\u001b[1;32m---> 19\u001b[0m             user_input \u001b[38;5;241m=\u001b[39m \u001b[38;5;28;43mint\u001b[39;49m\u001b[43m(\u001b[49m\u001b[38;5;28;43minput\u001b[39;49m\u001b[43m(\u001b[49m\u001b[38;5;124;43m'''\u001b[39;49m\n\u001b[0;32m     20\u001b[0m \u001b[38;5;124;43m1 rock\u001b[39;49m\n\u001b[0;32m     21\u001b[0m \u001b[38;5;124;43m2 paper\u001b[39;49m\n\u001b[0;32m     22\u001b[0m \u001b[38;5;124;43m3 scissor\u001b[39;49m\n\u001b[0;32m     23\u001b[0m \u001b[38;5;124;43m                \u001b[39;49m\u001b[38;5;124;43m'''\u001b[39;49m\u001b[43m)\u001b[49m\u001b[43m)\u001b[49m\n\u001b[0;32m     24\u001b[0m                 \u001b[38;5;66;03m# 1 = rock, 2 = paper, 3 = scissor\u001b[39;00m\n\u001b[0;32m     25\u001b[0m             \u001b[38;5;28;01mif\u001b[39;00m user_input \u001b[38;5;241m==\u001b[39m \u001b[38;5;241m1\u001b[39m:\n",
      "\u001b[1;31mValueError\u001b[0m: invalid literal for int() with base 10: ''"
     ]
    },
    {
     "ename": "",
     "evalue": "",
     "output_type": "error",
     "traceback": [
      "\u001b[1;31mThe Kernel crashed while executing code in the current cell or a previous cell. \n",
      "\u001b[1;31mPlease review the code in the cell(s) to identify a possible cause of the failure. \n",
      "\u001b[1;31mClick <a href='https://aka.ms/vscodeJupyterKernelCrash'>here</a> for more info. \n",
      "\u001b[1;31mView Jupyter <a href='command:jupyter.viewOutput'>log</a> for further details."
     ]
    }
   ],
   "source": [
    "import random\n",
    "\n",
    "l =[\"rock\",\"paper\",\"scissor\"]\n",
    "\n",
    "'''\n",
    "rock vs paper -> paper wins\n",
    "rock vs scissor -> rock wins\n",
    "paper vs scissor -> scissor wins\n",
    "'''\n",
    "\n",
    "while True:\n",
    "    user_choice = int(input('''\n",
    "start game...\n",
    "1 yes\n",
    "2 no | exit\n",
    "        '''))\n",
    "    if user_choice == 1:\n",
    "        for a in range(1,6):\n",
    "            user_input = int(input('''\n",
    "1 rock\n",
    "2 paper\n",
    "3 scissor\n",
    "                '''))\n",
    "                # 1 = rock, 2 = paper, 3 = scissor\n",
    "            if user_input == 1:\n",
    "                u_choice = \"rock\"\n",
    "            elif user_input == 2:\n",
    "                u_choice = \"paper\"\n",
    "            elif user_input == 3:\n",
    "                u_choice = \"scissor\"\n",
    "            c_choice = random.choice(l)\n",
    "            print(f\"you chose {u_choice} and computer chose {c_choice}\")\n",
    "\n",
    "            if c_choice == u_choice:\n",
    "                print(\"Tie\")\n",
    "            \n",
    "            elif u_choice == \"rock\":\n",
    "                if c_choice == \"paper\":\n",
    "                    print(\"Computer wins\")\n",
    "                else:\n",
    "                    print(\"You win\")\n",
    "\n",
    "            elif u_choice == \"paper\":\n",
    "                if c_choice == \"rock\":\n",
    "                    print(\"You win\")\n",
    "                else:\n",
    "                    print(\"Computer wins\")\n",
    "\n",
    "            elif u_choice == \"scissor\":\n",
    "                if c_choice == \"rock\":\n",
    "                    print(\"Computer wins\")\n",
    "                else:\n",
    "                    print(\"You win\")\n",
    "    else:\n",
    "        break\n",
    "       \n",
    "   "
   ]
  }
 ],
 "metadata": {
  "kernelspec": {
   "display_name": "Python 3",
   "language": "python",
   "name": "python3"
  },
  "language_info": {
   "codemirror_mode": {
    "name": "ipython",
    "version": 3
   },
   "file_extension": ".py",
   "mimetype": "text/x-python",
   "name": "python",
   "nbconvert_exporter": "python",
   "pygments_lexer": "ipython3",
   "version": "3.12.4"
  }
 },
 "nbformat": 4,
 "nbformat_minor": 2
}
