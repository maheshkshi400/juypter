{
 "cells": [
  {
   "cell_type": "code",
   "execution_count": 1,
   "metadata": {},
   "outputs": [
    {
     "name": "stdout",
     "output_type": "stream",
     "text": [
      "The addition of 20 and 30 is: 50\n"
     ]
    }
   ],
   "source": [
    "# adition_function()\n",
    "\n",
    "a = int(input(\"Enter a number1: \"))\n",
    "b = int(input(\"Enter a number2: \"))\n",
    "\n",
    "def addition(a, b):\n",
    "    c = a + b\n",
    "    return c\n",
    "\n",
    "result = addition(a, b)\n",
    "print(\"The addition of \" + str(a) + \" and \" + str(b) + \" is:\", result)"
   ]
  },
  {
   "cell_type": "code",
   "execution_count": 2,
   "metadata": {},
   "outputs": [
    {
     "name": "stdout",
     "output_type": "stream",
     "text": [
      "The exponent of 40 and 4 is: 2560000\n"
     ]
    }
   ],
   "source": [
    "# exponent_function()\n",
    "\n",
    "a = int(input(\"Enter first number: \"))\n",
    "b = int(input(\"Enter second number: \"))\n",
    "\n",
    "def exponent(a,b):\n",
    "    if b == 0:\n",
    "        return 1\n",
    "    else:\n",
    "        c= a**b\n",
    "        return c\n",
    "    \n",
    "output = exponent(a,b)\n",
    "print(\"The exponent of \" + str(a) + \" and \" + str(b) + \" is:\", output)"
   ]
  },
  {
   "cell_type": "code",
   "execution_count": 3,
   "metadata": {},
   "outputs": [
    {
     "name": "stdout",
     "output_type": "stream",
     "text": [
      "The Multiplication of 40 and 40 is: 1600\n"
     ]
    }
   ],
   "source": [
    "# Multiplication_function()\n",
    "\n",
    "a = int(input(\"Enter first number: \"))\n",
    "b = int(input(\"Enter second number: \"))\n",
    "\n",
    "def Multiplication(a,b):\n",
    "    if b == 0:\n",
    "        return 1\n",
    "    else:\n",
    "        c= a*b\n",
    "        return c\n",
    "    \n",
    "output = Multiplication(a,b)\n",
    "print(\"The Multiplication of \" + str(a) + \" and \" + str(b) + \" is:\", output)"
   ]
  }
 ],
 "metadata": {
  "kernelspec": {
   "display_name": "Python 3",
   "language": "python",
   "name": "python3"
  },
  "language_info": {
   "codemirror_mode": {
    "name": "ipython",
    "version": 3
   },
   "file_extension": ".py",
   "mimetype": "text/x-python",
   "name": "python",
   "nbconvert_exporter": "python",
   "pygments_lexer": "ipython3",
   "version": "3.12.4"
  }
 },
 "nbformat": 4,
 "nbformat_minor": 2
}
