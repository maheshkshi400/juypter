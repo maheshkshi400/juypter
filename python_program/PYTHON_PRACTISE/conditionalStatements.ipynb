{
 "cells": [
  {
   "cell_type": "markdown",
   "metadata": {},
   "source": [
    "# CONDITIONAL STATEMENTS"
   ]
  },
  {
   "cell_type": "markdown",
   "metadata": {},
   "source": [
    "# \"IF\" STATEMENT"
   ]
  },
  {
   "cell_type": "code",
   "execution_count": 1,
   "metadata": {},
   "outputs": [
    {
     "name": "stdout",
     "output_type": "stream",
     "text": [
      "Even number\n"
     ]
    }
   ],
   "source": [
    "a = 10\n",
    "\n",
    "if a%2==0:\n",
    "    print(\"Even number\")\n",
    "    "
   ]
  },
  {
   "cell_type": "markdown",
   "metadata": {},
   "source": [
    "# \"IF _ELSE\" STATEMENT"
   ]
  },
  {
   "cell_type": "code",
   "execution_count": 3,
   "metadata": {},
   "outputs": [
    {
     "name": "stdout",
     "output_type": "stream",
     "text": [
      "Odd number\n"
     ]
    }
   ],
   "source": [
    "b = 23\n",
    "\n",
    "if b%2==0:\n",
    "    print(\"Even number\")\n",
    "else:\n",
    "    print(\"Odd number\")"
   ]
  },
  {
   "cell_type": "code",
   "execution_count": 6,
   "metadata": {},
   "outputs": [
    {
     "name": "stdout",
     "output_type": "stream",
     "text": [
      "57 Odd number\n"
     ]
    }
   ],
   "source": [
    "a = eval(input(\"Enter the input1: \"))\n",
    "# a = 34\n",
    "if a%2 == 0:\n",
    "    print(a, \"Even number\")\n",
    "else:\n",
    "    print(a, \"Odd number\")"
   ]
  },
  {
   "cell_type": "markdown",
   "metadata": {},
   "source": [
    "# \"if_elif_else\" STATEMENT"
   ]
  },
  {
   "cell_type": "code",
   "execution_count": 7,
   "metadata": {},
   "outputs": [
    {
     "name": "stdout",
     "output_type": "stream",
     "text": [
      "FAIL\n"
     ]
    }
   ],
   "source": [
    "A = int(input(\"Enter the percentage:\"))\n",
    "\n",
    "if A >= 75:\n",
    "    print(A,\"Grade A\")\n",
    "elif (A> 60) and (A<75):\n",
    "    print(A,\"Grade B\")\n",
    "elif (A>45) and (A<60):\n",
    "    print(\"Grade C\")\n",
    "elif(A>35) and (A<45):\n",
    "    print(\"Grade D\")\n",
    "else:\n",
    "    print(\"FAIL\")"
   ]
  },
  {
   "cell_type": "code",
   "execution_count": 14,
   "metadata": {},
   "outputs": [
    {
     "name": "stdout",
     "output_type": "stream",
     "text": [
      "Grade C\n"
     ]
    }
   ],
   "source": [
    "A = float(input(\"Enter the numerical score: \"))\n",
    "\n",
    "if A >= 75:\n",
    "    print(f\"{A:.2f} - Grade A\")\n",
    "elif 60 <= A <= 75:\n",
    "    print(f\"{A:.2f} - Grade B\")\n",
    "elif 45 <= A < 60:\n",
    "    print(\"Grade C\")\n",
    "elif 35 <= A < 45:\n",
    "    print(\"Grade D\")\n",
    "else:\n",
    "    print(\"FAIL\")\n"
   ]
  }
 ],
 "metadata": {
  "kernelspec": {
   "display_name": "Python 3",
   "language": "python",
   "name": "python3"
  },
  "language_info": {
   "codemirror_mode": {
    "name": "ipython",
    "version": 3
   },
   "file_extension": ".py",
   "mimetype": "text/x-python",
   "name": "python",
   "nbconvert_exporter": "python",
   "pygments_lexer": "ipython3",
   "version": "3.12.4"
  }
 },
 "nbformat": 4,
 "nbformat_minor": 2
}
