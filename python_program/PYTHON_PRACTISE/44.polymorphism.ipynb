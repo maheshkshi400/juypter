{
 "cells": [
  {
   "cell_type": "code",
   "execution_count": 2,
   "metadata": {},
   "outputs": [
    {
     "name": "stdout",
     "output_type": "stream",
     "text": [
      "3\n",
      "5\n"
     ]
    }
   ],
   "source": [
    "# overloading\n",
    "\n",
    "l = [1, 2, 3]\n",
    "print(len(l))\n",
    "s = \"Hello\"\n",
    "print(len(s))"
   ]
  },
  {
   "cell_type": "code",
   "execution_count": 5,
   "metadata": {},
   "outputs": [
    {
     "name": "stdout",
     "output_type": "stream",
     "text": [
      "Welcome to wscubetech\n",
      "Welcome to wscubetechpython\n"
     ]
    }
   ],
   "source": [
    "class ws:\n",
    "    def displayinfo(self,name = ''):\n",
    "        print(\"Welcome to wscubetech\" + name)\n",
    "\n",
    "obj = ws()\n",
    "obj.displayinfo()\n",
    "obj.displayinfo('python')"
   ]
  },
  {
   "cell_type": "code",
   "execution_count": 7,
   "metadata": {},
   "outputs": [
    {
     "name": "stdout",
     "output_type": "stream",
     "text": [
      "Welcome to wscubetech\n",
      "Welcome to IIP\n"
     ]
    }
   ],
   "source": [
    "# overriding\n",
    "\n",
    "class ws:\n",
    "    def displayinfo(self):\n",
    "        print(\"Welcome to wscubetech\")\n",
    "\n",
    "class IIP(ws):\n",
    "    def displayinfo(self):\n",
    "        super().displayinfo()\n",
    "        print(\"Welcome to IIP\")\n",
    "\n",
    "obj=IIP()\n",
    "obj.displayinfo()\n"
   ]
  },
  {
   "cell_type": "code",
   "execution_count": null,
   "metadata": {},
   "outputs": [],
   "source": []
  }
 ],
 "metadata": {
  "kernelspec": {
   "display_name": "Python 3",
   "language": "python",
   "name": "python3"
  },
  "language_info": {
   "codemirror_mode": {
    "name": "ipython",
    "version": 3
   },
   "file_extension": ".py",
   "mimetype": "text/x-python",
   "name": "python",
   "nbconvert_exporter": "python",
   "pygments_lexer": "ipython3",
   "version": "3.12.4"
  }
 },
 "nbformat": 4,
 "nbformat_minor": 2
}
