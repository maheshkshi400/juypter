{
 "cells": [
  {
   "cell_type": "markdown",
   "metadata": {},
   "source": [
    "# sets"
   ]
  },
  {
   "cell_type": "code",
   "execution_count": 3,
   "metadata": {},
   "outputs": [
    {
     "name": "stdout",
     "output_type": "stream",
     "text": [
      "{50, 20, 40, 10, 30}\n"
     ]
    }
   ],
   "source": [
    "# unordered\n",
    "# immutable\n",
    "# unindexed\n",
    "# set (),{}\n",
    "# set is a collection of well defined objects or elements\n",
    "# set is used to store multiple items in a single variable\n",
    "# set is a built-in function in python\n",
    "# set is defined by curly braces {}\n",
    "# duplicate not allowed\n",
    "\n",
    "a = {10,20,30,40,50}\n",
    "print(a)"
   ]
  },
  {
   "cell_type": "code",
   "execution_count": 4,
   "metadata": {},
   "outputs": [
    {
     "name": "stdout",
     "output_type": "stream",
     "text": [
      "{50, 20, 40, 10, 30}\n"
     ]
    }
   ],
   "source": [
    "s = {10,20,30,40,50}\n",
    "print(s)"
   ]
  },
  {
   "cell_type": "code",
   "execution_count": 7,
   "metadata": {},
   "outputs": [
    {
     "name": "stdout",
     "output_type": "stream",
     "text": [
      "50 20 40 10 30 "
     ]
    }
   ],
   "source": [
    "s = {10,20,30,40,50}\n",
    "for i in s:\n",
    "    print(i,end=\" \")\n"
   ]
  },
  {
   "cell_type": "markdown",
   "metadata": {},
   "source": [
    "# set_functions"
   ]
  },
  {
   "cell_type": "code",
   "execution_count": 8,
   "metadata": {},
   "outputs": [
    {
     "name": "stdout",
     "output_type": "stream",
     "text": [
      "{40, 10, 50, 20, 30}\n"
     ]
    }
   ],
   "source": [
    "# sets) function\n",
    "# This function creates a set object from a list or any other iterable (list, tuple, set, dictionary, etc.).\n",
    "\n",
    "# Creating a set from a list\n",
    "l = [10, 20, 30, 40, 50]\n",
    "my_set = set(l)\n",
    "print(my_set)  # Output: {40, 10, 50, 20, 30}\n"
   ]
  },
  {
   "cell_type": "code",
   "execution_count": 9,
   "metadata": {},
   "outputs": [
    {
     "name": "stdout",
     "output_type": "stream",
     "text": [
      "{50, 20, 40, 10}\n"
     ]
    }
   ],
   "source": [
    "# remove\n",
    "s = {10, 20, 30, 40, 50}\n",
    "s.remove(30)\n",
    "print(s)\n"
   ]
  },
  {
   "cell_type": "code",
   "execution_count": 10,
   "metadata": {},
   "outputs": [
    {
     "name": "stdout",
     "output_type": "stream",
     "text": [
      "{50, 20, 40, 10}\n"
     ]
    }
   ],
   "source": [
    "# dicard\n",
    "s = {10, 20, 30, 40, 50}\n",
    "s.discard(30)\n",
    "print(s)\n",
    "\n"
   ]
  },
  {
   "cell_type": "code",
   "execution_count": 11,
   "metadata": {},
   "outputs": [
    {
     "name": "stdout",
     "output_type": "stream",
     "text": [
      "{20, 40, 10, 30}\n"
     ]
    }
   ],
   "source": [
    "# pop\n",
    "s = {10, 20, 30, 40, 50}\n",
    "s.pop()\n",
    "print(s)\n"
   ]
  },
  {
   "cell_type": "code",
   "execution_count": 12,
   "metadata": {},
   "outputs": [
    {
     "name": "stdout",
     "output_type": "stream",
     "text": [
      "set()\n"
     ]
    }
   ],
   "source": [
    "# clear\n",
    "\n",
    "s = {10, 20, 30, 40, 50}\n",
    "s.clear() # it will empty the set\n",
    "print(s)\n"
   ]
  },
  {
   "cell_type": "code",
   "execution_count": 13,
   "metadata": {},
   "outputs": [
    {
     "name": "stdout",
     "output_type": "stream",
     "text": [
      "{50, 20, 70, 40, 10, 30}\n"
     ]
    }
   ],
   "source": [
    "# add\n",
    "s = {10, 20, 30, 40, 50}\n",
    "s.add(70)\n",
    "print(s)\n"
   ]
  },
  {
   "cell_type": "code",
   "execution_count": 14,
   "metadata": {},
   "outputs": [
    {
     "name": "stdout",
     "output_type": "stream",
     "text": [
      "{80, 50, 20, 90, 40, 10, 60, 30}\n"
     ]
    }
   ],
   "source": [
    "# update\n",
    "l = {60,80,90}\n",
    "s = {10, 20, 30, 40, 50}\n",
    "s.update(l)\n",
    "print(s)\n"
   ]
  },
  {
   "cell_type": "code",
   "execution_count": null,
   "metadata": {},
   "outputs": [],
   "source": []
  }
 ],
 "metadata": {
  "kernelspec": {
   "display_name": "Python 3",
   "language": "python",
   "name": "python3"
  },
  "language_info": {
   "codemirror_mode": {
    "name": "ipython",
    "version": 3
   },
   "file_extension": ".py",
   "mimetype": "text/x-python",
   "name": "python",
   "nbconvert_exporter": "python",
   "pygments_lexer": "ipython3",
   "version": "3.12.4"
  }
 },
 "nbformat": 4,
 "nbformat_minor": 2
}
