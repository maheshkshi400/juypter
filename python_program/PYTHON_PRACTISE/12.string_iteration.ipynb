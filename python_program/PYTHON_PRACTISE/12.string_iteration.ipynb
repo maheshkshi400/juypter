{
 "cells": [
  {
   "cell_type": "code",
   "execution_count": 2,
   "metadata": {},
   "outputs": [
    {
     "name": "stdout",
     "output_type": "stream",
     "text": [
      "21\n"
     ]
    }
   ],
   "source": [
    "s = \"welcome to wscubetech\"\n",
    "\n",
    "v = len(s)\n",
    "print(v)"
   ]
  },
  {
   "cell_type": "code",
   "execution_count": 3,
   "metadata": {},
   "outputs": [
    {
     "name": "stdout",
     "output_type": "stream",
     "text": [
      "w e l c o m e   t o   w s c u b e t e c h "
     ]
    }
   ],
   "source": [
    "s = \"welcome to wscubetech\"\n",
    "v = len(s)\n",
    "for i in range(v):\n",
    "    print(s[i],end=\" \")\n"
   ]
  },
  {
   "cell_type": "code",
   "execution_count": 4,
   "metadata": {},
   "outputs": [
    {
     "name": "stdout",
     "output_type": "stream",
     "text": [
      "h c e t e b u c s w   o t   e m o c l e w "
     ]
    }
   ],
   "source": [
    "for i in range(v-1,-1,-1):\n",
    "    print(s[i],end=\" \")\n"
   ]
  },
  {
   "cell_type": "code",
   "execution_count": 5,
   "metadata": {},
   "outputs": [
    {
     "name": "stdout",
     "output_type": "stream",
     "text": [
      "w e l c o m e   t o   w s c u b e t e c h "
     ]
    }
   ],
   "source": [
    "s = \"welcome to wscubetech\"\n",
    "\n",
    "v = len(s)\n",
    "\n",
    "for i in s:\n",
    "    print(i,end=\" \")"
   ]
  }
 ],
 "metadata": {
  "kernelspec": {
   "display_name": "Python 3",
   "language": "python",
   "name": "python3"
  },
  "language_info": {
   "codemirror_mode": {
    "name": "ipython",
    "version": 3
   },
   "file_extension": ".py",
   "mimetype": "text/x-python",
   "name": "python",
   "nbconvert_exporter": "python",
   "pygments_lexer": "ipython3",
   "version": "3.12.2"
  }
 },
 "nbformat": 4,
 "nbformat_minor": 2
}
