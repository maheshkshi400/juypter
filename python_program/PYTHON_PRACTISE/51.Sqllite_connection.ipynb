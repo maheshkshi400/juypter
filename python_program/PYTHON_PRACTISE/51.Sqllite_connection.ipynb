{
 "cells": [
  {
   "cell_type": "code",
   "execution_count": 6,
   "metadata": {},
   "outputs": [],
   "source": [
    "import sqlite3\n",
    "\n",
    "conn = sqlite3.connect('database.db')\n",
    "\n",
    "conn.execute('''\n",
    "    CREATE TABLE std (\n",
    "        std_id INTEGER PRIMARY KEY AUTOINCREMENT,\n",
    "        std_name VARCHAR(50) NOT NULL,\n",
    "        std_class VARCHAR(50) NOT NULL, \n",
    "        email VARCHAR(50) NOT NULL\n",
    "    )\n",
    "''')\n",
    "\n",
    "conn.close()\n"
   ]
  }
 ],
 "metadata": {
  "kernelspec": {
   "display_name": "Python 3",
   "language": "python",
   "name": "python3"
  },
  "language_info": {
   "codemirror_mode": {
    "name": "ipython",
    "version": 3
   },
   "file_extension": ".py",
   "mimetype": "text/x-python",
   "name": "python",
   "nbconvert_exporter": "python",
   "pygments_lexer": "ipython3",
   "version": "3.12.4"
  }
 },
 "nbformat": 4,
 "nbformat_minor": 2
}
