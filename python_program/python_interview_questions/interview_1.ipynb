{
 "cells": [
  {
   "cell_type": "code",
   "execution_count": 7,
   "metadata": {},
   "outputs": [
    {
     "name": "stdout",
     "output_type": "stream",
     "text": [
      "8 9\n"
     ]
    }
   ],
   "source": [
    "arr = [3,4,5,7,11,8,9,19,11] \n",
    "# target = 17\n",
    "\n",
    "def twosum(arr,sum):\n",
    "    arr.sort()\n",
    "    left = 0\n",
    "    right = len(arr) - 1\n",
    "    while (left <= right):\n",
    "        if arr[left] + arr[right] == sum:\n",
    "            print(arr[left], arr[right])\n",
    "            left += 1\n",
    "            right -= 1\n",
    "        elif arr[left] + arr[right] < sum:\n",
    "            left += 1\n",
    "        else:\n",
    "            right -= 1\n",
    "\n",
    "twosum(arr,17)"
   ]
  },
  {
   "cell_type": "code",
   "execution_count": 11,
   "metadata": {},
   "outputs": [
    {
     "data": {
      "text/plain": [
       "'N'"
      ]
     },
     "execution_count": 11,
     "metadata": {},
     "output_type": "execute_result"
    }
   ],
   "source": [
    "# commom letters between strings\n",
    "def common_letters(\n",
    "    str1 = \"REENE\",\n",
    "    str2 = \"NAINA\"):\n",
    "    \"\"\"\n",
    "    Returns a string containing the common letters between two input strings.\n",
    "    \"\"\"\n",
    "    common = \"\"\n",
    "    for char in str1:\n",
    "        if char in str2 and char not in common:\n",
    "            common += char\n",
    "    return common\n",
    "\n",
    "common_letters()\n",
    "\n",
    "\n",
    "\n"
   ]
  },
  {
   "cell_type": "code",
   "execution_count": 8,
   "metadata": {},
   "outputs": [
    {
     "name": "stdout",
     "output_type": "stream",
     "text": [
      "Common letters: {'A', 'N'}\n"
     ]
    }
   ],
   "source": [
    "# commom letters between strings\n",
    "def common_letters():\n",
    "    str1 = input(\"Enter the first string: \")\n",
    "    str2 = input(\"Enter the second string: \")\n",
    "\n",
    "    # Create sets from the strings to efficiently find common elements\n",
    "    set1 = set(str1)\n",
    "    set2 = set(str2)\n",
    "\n",
    "    # Find the intersection of the sets to get common letters\n",
    "    common_letters = set1.intersection(set2)\n",
    "\n",
    "    # Print the common letters in a user-friendly format\n",
    "    print(\"Common letters:\", common_letters)\n",
    "\n",
    "common_letters()"
   ]
  },
  {
   "cell_type": "code",
   "execution_count": 9,
   "metadata": {},
   "outputs": [
    {
     "name": "stdout",
     "output_type": "stream",
     "text": [
      "---> ['I', 'LOVE', 'YOU.', 'GOT', 'JOB', 'WITH', 'THIS', 'SITUATION']\n",
      "{'I': 1, 'LOVE': 1, 'YOU.': 1, 'GOT': 1, 'JOB': 1, 'WITH': 1, 'THIS': 1, 'SITUATION': 1}\n"
     ]
    }
   ],
   "source": [
    "# Count the frequency of words appearing in a string Using Python\n",
    "\n",
    "def freq_words():\n",
    "    str=input(\"Enter a string: \")\n",
    "    li=str.split()\n",
    "    d={}\n",
    "    print('--->',li)\n",
    "    for i in li:\n",
    "        d[i]=d.get(i,0)+1\n",
    "    print(d)\n",
    "\n",
    "freq_words()"
   ]
  },
  {
   "cell_type": "code",
   "execution_count": 10,
   "metadata": {},
   "outputs": [
    {
     "name": "stdout",
     "output_type": "stream",
     "text": [
      "The missing number is: 4\n"
     ]
    }
   ],
   "source": [
    "# FIND MISSING NUMBER IN AN ARRAY \n",
    "def find_missing_number(arr):\n",
    "    n = len(arr) + 1\n",
    "    expected_sum = n * (n + 1) // 2\n",
    "    actual_sum = sum(arr)\n",
    "    missing_number = expected_sum - actual_sum\n",
    "    return missing_number\n",
    "\n",
    "# Example usage\n",
    "arr = [1, 2, 3, 5, 6, 7]\n",
    "missing_num = find_missing_number(arr)\n",
    "print(f\"The missing number is: {missing_num}\")\n",
    "\n"
   ]
  },
  {
   "cell_type": "code",
   "execution_count": null,
   "metadata": {},
   "outputs": [],
   "source": [
    "# FIND MISSING NUMBER IN AN ARRAY  BY USING XOR METHOD\n",
    "\n",
    "def find_missing_number(arr):\n",
    "    n = len(arr) + 1\n",
    "    xor1 = 0\n",
    "    xor2 = 0\n",
    "\n",
    "    # XOR all the numbers from 1 to n\n",
    "    for i in range(1, n):\n",
    "        xor1 ^= i\n",
    "\n",
    "    # XOR all the elements in the array\n",
    "    for num in arr:\n",
    "        xor2 ^= num\n",
    "\n",
    "    # XOR the two results\n",
    "    missing_number = xor1 ^ xor2\n",
    "\n",
    "    return missing_number\n",
    "\n",
    "# Example usage\n",
    "arr = [1, 2, 3, 4, 6, 7, 8, 9]\n",
    "missing_num = find_missing_number(arr)\n",
    "print(f\"The missing number is: {missing_num}\")"
   ]
  },
  {
   "cell_type": "code",
   "execution_count": 11,
   "metadata": {},
   "outputs": [
    {
     "name": "stdout",
     "output_type": "stream",
     "text": [
      "[3.0, 2.5, 10.99]\n"
     ]
    }
   ],
   "source": [
    "# Extract Numbers from TextString Using Regex\n",
    "import re\n",
    "\n",
    "def extract_numbers(text):\n",
    "    \"\"\"\n",
    "    Extract all numbers from a given text string using regex.\n",
    "\n",
    "    Args:\n",
    "        text (str): The input text string.\n",
    "\n",
    "    Returns:\n",
    "        list: A list of all numbers found in the text.\n",
    "    \"\"\"\n",
    "    # Define the regex pattern to match numbers\n",
    "    pattern = r'\\d+(?:\\.\\d+)?'\n",
    "\n",
    "    # Use the re.findall() function to find all matches\n",
    "    numbers = re.findall(pattern, text)\n",
    "\n",
    "    # Convert the strings to floats (if necessary)\n",
    "    numbers = [float(num) for num in numbers]\n",
    "\n",
    "    return numbers\n",
    "\n",
    "# Example usage\n",
    "text = \"I have 3 cats and 2.5 dogs. The price is $10.99.\"\n",
    "numbers = extract_numbers(text)\n",
    "print(numbers)  # Output: [3.0, 2.5, 10.99]"
   ]
  },
  {
   "cell_type": "code",
   "execution_count": 14,
   "metadata": {},
   "outputs": [
    {
     "name": "stdout",
     "output_type": "stream",
     "text": [
      "6\n"
     ]
    }
   ],
   "source": [
    "# Amazing Substring \n",
    "\n",
    "def amazingSubstring(s):\n",
    "    count = 0\n",
    "    for i in range(len(s)):\n",
    "        if s[i] in \"aeiouAEIOU\":\n",
    "            count += len(s) - i\n",
    "    return count\n",
    "print(amazingSubstring(\"ABEC\"))"
   ]
  },
  {
   "cell_type": "code",
   "execution_count": null,
   "metadata": {},
   "outputs": [],
   "source": [
    "# Remove Duplicates from Sorted Array\n",
    "\n"
   ]
  }
 ],
 "metadata": {
  "kernelspec": {
   "display_name": "Python 3",
   "language": "python",
   "name": "python3"
  },
  "language_info": {
   "codemirror_mode": {
    "name": "ipython",
    "version": 3
   },
   "file_extension": ".py",
   "mimetype": "text/x-python",
   "name": "python",
   "nbconvert_exporter": "python",
   "pygments_lexer": "ipython3",
   "version": "3.12.4"
  }
 },
 "nbformat": 4,
 "nbformat_minor": 2
}
