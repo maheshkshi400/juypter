{
 "cells": [
  {
   "cell_type": "code",
   "execution_count": 7,
   "metadata": {},
   "outputs": [
    {
     "name": "stdout",
     "output_type": "stream",
     "text": [
      "* \n",
      "* * \n",
      "* * * \n",
      "* * * * \n",
      "* * * * * \n"
     ]
    }
   ],
   "source": [
    "s = int(input(\"Enter the number of rpws: \"))\n",
    "for i in range(1, s + 1):\n",
    "        print(\"* \"*i)\n",
    "        i+=1"
   ]
  },
  {
   "cell_type": "code",
   "execution_count": 8,
   "metadata": {},
   "outputs": [
    {
     "name": "stdout",
     "output_type": "stream",
     "text": [
      "1 \n",
      "1 2 \n",
      "1 2 3 \n",
      "1 2 3 4 \n",
      "1 2 3 4 5 \n"
     ]
    }
   ],
   "source": [
    "s = int(input(\"Enter the number of rpws: \"))\n",
    "for i in range(1, s + 1):\n",
    "    for j in range(1, i + 1):\n",
    "        print(j, end=\" \")\n",
    "        \n",
    "    print()\n"
   ]
  },
  {
   "cell_type": "code",
   "execution_count": 14,
   "metadata": {},
   "outputs": [
    {
     "name": "stdout",
     "output_type": "stream",
     "text": [
      "1 \n",
      "2 3 \n",
      "4 5 6 \n",
      "7 8 9 10 \n",
      "11 12 13 14 15 \n"
     ]
    }
   ],
   "source": [
    "n = int(input(\"Enter the number of rows: \"))\n",
    "\n",
    "def tri(n):\n",
    "    num=1\n",
    "    for i in range(0,n):\n",
    "        for j in range(0, i+1):\n",
    "            print(num, end=\" \")\n",
    "            num+=1\n",
    "        print()\n",
    "        \n",
    "tri(n)"
   ]
  },
  {
   "cell_type": "code",
   "execution_count": 15,
   "metadata": {},
   "outputs": [
    {
     "name": "stdout",
     "output_type": "stream",
     "text": [
      "A\n",
      "BC\n",
      "DEF\n",
      "GHIJ\n",
      "KLMNO\n",
      "A\n",
      "BC\n",
      "DEF\n",
      "GHIJ\n",
      "KLMNO\n"
     ]
    }
   ],
   "source": [
    "def apha(n):\n",
    "  p = 65\n",
    "  for i in range(n):\n",
    "    for j in range(i+1):\n",
    "      ch = chr(p)\n",
    "      print(ch, end=\"\")\n",
    "      p += 1\n",
    "    print()\n",
    "\n",
    "apha(5)\n",
    "\n",
    "# or #\n",
    "\n",
    "s = int(input(\"Enter a number: \"))\n",
    "p = 65\n",
    "for i in range(1, s+1):\n",
    "  for j in range(1, i+1):\n",
    "    print(chr(p), end=\"\")\n",
    "    p += 1\n",
    "  print()\n",
    "  i += 1"
   ]
  },
  {
   "cell_type": "code",
   "execution_count": 16,
   "metadata": {},
   "outputs": [
    {
     "name": "stdout",
     "output_type": "stream",
     "text": [
      "ABCDE\n",
      "FGHI\n",
      "JKL\n",
      "MN\n",
      "O\n"
     ]
    }
   ],
   "source": [
    "def apha(n):\n",
    "  p = 65\n",
    "  for i in range(n):\n",
    "    for j in range(i, n):\n",
    "      ch = chr(p)\n",
    "      print(ch, end=\"\")\n",
    "      p += 1\n",
    "    print()\n",
    "\n",
    "apha(5)"
   ]
  },
  {
   "cell_type": "code",
   "execution_count": 17,
   "metadata": {},
   "outputs": [
    {
     "name": "stdout",
     "output_type": "stream",
     "text": [
      "     A\n",
      "    BBB\n",
      "   CCCCC\n",
      "  DDDDDDD\n",
      " EEEEEEEEE\n"
     ]
    }
   ],
   "source": [
    "def apha(n):\n",
    "  p = 65\n",
    "  for i in range(n):\n",
    "    for j in range(i, n):\n",
    "      print(\" \", end=\"\")\n",
    "\n",
    "    for j in range(i+1):\n",
    "      print(chr(p), end=\"\")\n",
    "\n",
    "    for j in range(i):\n",
    "      print(chr(p), end=\"\")\n",
    "\n",
    "    p += 1\n",
    "    print()\n",
    "\n",
    "apha(5)"
   ]
  },
  {
   "cell_type": "code",
   "execution_count": 1,
   "metadata": {},
   "outputs": [
    {
     "name": "stdout",
     "output_type": "stream",
     "text": [
      "A \n",
      "B C \n",
      "D E F \n",
      "G H I J \n",
      "K L M N O \n"
     ]
    }
   ],
   "source": [
    "n = int(input(\"Enter the number of rows: \"))\n",
    "\n",
    "def alpha(n):\n",
    "    p=65\n",
    "    for i in range(n):\n",
    "        for j in range(i+1):\n",
    "            ch=chr(p)\n",
    "            p+=1\n",
    "            print(ch,end=\" \")\n",
    "        print()\n",
    "        \n",
    "        \n",
    "alpha(n)\n",
    "            "
   ]
  },
  {
   "cell_type": "code",
   "execution_count": 18,
   "metadata": {},
   "outputs": [
    {
     "name": "stdout",
     "output_type": "stream",
     "text": [
      " ABCDEF\n",
      "  GHIJK\n",
      "   LMNO\n",
      "    PQR\n",
      "     ST\n"
     ]
    }
   ],
   "source": [
    "p = 65\n",
    "\n",
    "n = int(input(\"Enter the number of rows: \"))\n",
    "\n",
    "for i in range(n):\n",
    "    for j in range(i+1):\n",
    "        print(\" \",end=\"\") \n",
    "    for j in range(i-1,n):\n",
    "        print(chr(p), end=\"\")\n",
    "        p += 1\n",
    "    print()\n",
    " "
   ]
  },
  {
   "cell_type": "code",
   "execution_count": 3,
   "metadata": {},
   "outputs": [
    {
     "name": "stdout",
     "output_type": "stream",
     "text": [
      "    * \n",
      "   * * \n",
      "  * * * \n",
      " * * * * \n",
      "* * * * * \n",
      " * * * * \n",
      "  * * * \n",
      "   * * \n",
      "    * \n"
     ]
    }
   ],
   "source": [
    "rows = 5\n",
    "for i in range(1, rows + 1):\n",
    "    print(\" \" * (rows - i), end=\"\")\n",
    "    print(\"* \" * i)\n",
    "for i in range(rows - 1, 0, -1):\n",
    "    print(\" \" * (rows - i), end=\"\")\n",
    "    print(\"* \" * i)"
   ]
  },
  {
   "cell_type": "code",
   "execution_count": null,
   "metadata": {},
   "outputs": [
    {
     "name": "stdout",
     "output_type": "stream",
     "text": [
      "          A \n",
      "        B C \n",
      "      D E F \n",
      "    G H I J \n",
      "  K L M N O \n"
     ]
    }
   ],
   "source": [
    "p = 65\n",
    "\n",
    "n = int(input(\"Enter the number of rows: \"))\n",
    "\n",
    "for  i in range(n):\n",
    "    for j in range(i,n):\n",
    "        print(\" \", end=\" \")\n",
    "    for j in range(i+1):\n",
    "        print(chr(p), end=\" \")\n",
    "        p+=1\n",
    "    print()\n",
    "    \n",
    "    \n",
    "    \n"
   ]
  },
  {
   "cell_type": "code",
   "execution_count": 13,
   "metadata": {},
   "outputs": [
    {
     "name": "stdout",
     "output_type": "stream",
     "text": [
      "          A \n",
      "        A A A \n",
      "      B B B B C \n",
      "    D D D D D E F \n",
      "  G G G G G G H I J \n"
     ]
    }
   ],
   "source": [
    "def alpha(n):\n",
    "    n = int(input(\"Enter the number of rows: \"))\n",
    "    p = 65\n",
    "    for i in range(n):\n",
    "        for j in range(i, n):\n",
    "            print(\" \", end=\" \")\n",
    "        for j in range(i+1):\n",
    "            print(chr(p), end=\" \")\n",
    "        for j in range(i):\n",
    "            print(chr(p), end=\" \")\n",
    "            p+=1\n",
    "        print()\n",
    "        \n",
    "alpha(n)"
   ]
  },
  {
   "cell_type": "code",
   "execution_count": 15,
   "metadata": {},
   "outputs": [
    {
     "name": "stdout",
     "output_type": "stream",
     "text": [
      "     A \n",
      "    B C \n",
      "   D E F \n",
      "  G H I J \n",
      " K L M N O \n"
     ]
    }
   ],
   "source": [
    "def alpha(n):\n",
    "    n = int(input(\"Enter the number of rows: \"))\n",
    "    num = 65\n",
    "    for i in range(n):\n",
    "        for j in range(i, n):\n",
    "            print(\" \", end=\"\")\n",
    "        for j in range(i+1):\n",
    "            print(chr(num), end=\" \")\n",
    "            num+=1\n",
    "        print()\n",
    "        \n",
    "alpha(5)"
   ]
  },
  {
   "cell_type": "code",
   "execution_count": 20,
   "metadata": {},
   "outputs": [
    {
     "name": "stdout",
     "output_type": "stream",
     "text": [
      "     \n",
      "    A \n",
      "   B C \n",
      "  D E F \n",
      " G H I J \n",
      "K L M N O \n"
     ]
    }
   ],
   "source": [
    "def alpha(n):\n",
    "    n = int(input(\"Enter the number of rows: \"))\n",
    "    num = 65\n",
    "    for i in range(n+1):\n",
    "        for j in range(n-i):\n",
    "            print(\" \", end=\"\")\n",
    "        for j in range(1,i+1):\n",
    "            print(chr(num), end=\" \")\n",
    "            num+=1\n",
    "        print()\n",
    "        \n",
    "alpha(5)"
   ]
  },
  {
   "cell_type": "code",
   "execution_count": 22,
   "metadata": {},
   "outputs": [
    {
     "name": "stdout",
     "output_type": "stream",
     "text": [
      "     *     * * * \n",
      "   * * * * \n",
      "* \n",
      "  * * * * * \n",
      "* \n",
      "* \n",
      " * * * * * * \n",
      "* \n",
      "* \n",
      "* \n"
     ]
    }
   ],
   "source": [
    "def alpha(n):\n",
    "    n = int(input(\"Enter the number of rows: \"))\n",
    "    n = 5\n",
    "    for i in range(n):\n",
    "        for j in range(i, n):\n",
    "            print(\" \", end=\"\")\n",
    "        for j in range(i+1):\n",
    "            print(\"*\", end=\" \")\n",
    "        for j in range(i):\n",
    "            print(\"*\", end=\" \")\n",
    "            print()\n",
    "        \n",
    "alpha(5)"
   ]
  },
  {
   "cell_type": "code",
   "execution_count": 27,
   "metadata": {},
   "outputs": [
    {
     "name": "stdout",
     "output_type": "stream",
     "text": [
      "    * \n",
      "   * * \n",
      "  * * * \n",
      " * * * * \n",
      "* * * * * \n"
     ]
    }
   ],
   "source": [
    "rows = 5\n",
    "\n",
    "           \n",
    "for i in range(1, rows + 1):\n",
    "    print(\" \" * (rows - i), end=\"\")\n",
    "    print(\"* \" * i)\n",
    "\n"
   ]
  },
  {
   "cell_type": "code",
   "execution_count": 30,
   "metadata": {},
   "outputs": [
    {
     "name": "stdout",
     "output_type": "stream",
     "text": [
      "     * \n",
      "    * * \n",
      "   * * * \n",
      "  * * * * \n",
      " * * * * * \n"
     ]
    }
   ],
   "source": [
    "def alpha(n):\n",
    "    n = int(input(\"Enter the number of rows: \"))\n",
    "    \n",
    "    for i in range(n):\n",
    "        for j in range(i, n):\n",
    "            print(\" \", end=\"\")\n",
    "        for j in range(i+1):\n",
    "            print(\"*\", end=\" \")\n",
    "        print()\n",
    "        \n",
    "alpha(n)\n",
    "        "
   ]
  },
  {
   "cell_type": "code",
   "execution_count": 31,
   "metadata": {},
   "outputs": [
    {
     "name": "stdout",
     "output_type": "stream",
     "text": [
      "* * * * * \n",
      "*       * \n",
      "*       * \n",
      "*       * \n",
      "* * * * * \n"
     ]
    }
   ],
   "source": [
    "n= 5\n",
    "for i in range(n):\n",
    "    for j in range(n):\n",
    "        if i==0 or i==n-1 or j==0 or j==n-1:\n",
    "            print(\"*\",end=\" \")\n",
    "        else:\n",
    "            print(\" \",end=\" \")\n",
    "    print()"
   ]
  },
  {
   "cell_type": "code",
   "execution_count": 34,
   "metadata": {},
   "outputs": [
    {
     "name": "stdout",
     "output_type": "stream",
     "text": [
      "* * * * \n",
      "* * * * \n",
      "* * * * \n",
      "* * * * \n",
      "* * * * \n",
      "* \n",
      "* * \n",
      "* * * \n",
      "* * * * \n",
      "* * * * * \n"
     ]
    }
   ],
   "source": [
    "n = int(input(\"Enter the number: \"))\n",
    "for i in range(n):\n",
    "    for j in range(i+1):\n",
    "        print(\"\", end=\"\")\n",
    "    for j in range(1,n):\n",
    "        print(\"*\", end=\" \")\n",
    "    print()\n",
    "for i in range(n):\n",
    "    for j in range(1,n):\n",
    "        print(\"\", end=\"\")\n",
    "    for j in range(i+1):\n",
    "        print(\"*\", end=\" \")\n",
    "    print()"
   ]
  },
  {
   "cell_type": "code",
   "execution_count": 35,
   "metadata": {},
   "outputs": [
    {
     "name": "stdout",
     "output_type": "stream",
     "text": [
      "    *\n",
      "   ***\n",
      "  *****\n",
      " *******\n",
      "*********\n"
     ]
    }
   ],
   "source": [
    "def sand_dune_pattern(rows):\n",
    "    for i in range(rows):\n",
    "        # Print leading spaces\n",
    "        for j in range(rows - i - 1):\n",
    "            print(\" \", end=\"\")\n",
    "        # Print stars\n",
    "        for k in range(2 * i + 1):\n",
    "            print(\"*\", end=\"\")\n",
    "        print()\n",
    "\n",
    "# Example usage\n",
    "sand_dune_pattern(5)\n"
   ]
  },
  {
   "cell_type": "code",
   "execution_count": 6,
   "metadata": {},
   "outputs": [
    {
     "name": "stdout",
     "output_type": "stream",
     "text": [
      "{1, 2, 3, 4, 5, 6}\n"
     ]
    }
   ],
   "source": [
    "set1 = [1,2,3,4]\n",
    "set2 = [3,4,5,6]\n",
    "c = set(set1+set2)\n",
    "print(c)"
   ]
  },
  {
   "cell_type": "code",
   "execution_count": 2,
   "metadata": {},
   "outputs": [
    {
     "name": "stdout",
     "output_type": "stream",
     "text": [
      "nohtyp\n"
     ]
    }
   ],
   "source": [
    "string = 'python'\n",
    "\n",
    "output = string[::-1]\n",
    "print(output)"
   ]
  }
 ],
 "metadata": {
  "kernelspec": {
   "display_name": "Python 3",
   "language": "python",
   "name": "python3"
  },
  "language_info": {
   "codemirror_mode": {
    "name": "ipython",
    "version": 3
   },
   "file_extension": ".py",
   "mimetype": "text/x-python",
   "name": "python",
   "nbconvert_exporter": "python",
   "pygments_lexer": "ipython3",
   "version": "3.12.4"
  }
 },
 "nbformat": 4,
 "nbformat_minor": 2
}
