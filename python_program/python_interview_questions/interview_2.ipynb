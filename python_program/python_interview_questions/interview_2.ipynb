{
 "cells": [
  {
   "cell_type": "code",
   "execution_count": 3,
   "metadata": {},
   "outputs": [
    {
     "name": "stdout",
     "output_type": "stream",
     "text": [
      "The first non-repeating character is: p\n"
     ]
    }
   ],
   "source": [
    "# first non reapeating characters in a string\n",
    "def first_non_repeating_char(string):\n",
    "    # Create a dictionary to store character counts\n",
    "    char_counts = {}\n",
    "\n",
    "    # Iterate through the string and count each character\n",
    "    for char in string:\n",
    "        char_counts[char] = char_counts.get(char, 0) + 1\n",
    "\n",
    "    # Iterate through the string again and return the first non-repeating character\n",
    "    for char in string:\n",
    "        if char_counts[char] == 1:\n",
    "            return char\n",
    "\n",
    "    # If no non-repeating character is found, return None\n",
    "    return None \n",
    "\n",
    "\n",
    "# Example usage\n",
    "input_string = \"programming\"\n",
    "result = first_non_repeating_char(input_string)\n",
    "print(f\"The first non-repeating character is: {result}\")"
   ]
  },
  {
   "cell_type": "code",
   "execution_count": 8,
   "metadata": {},
   "outputs": [
    {
     "name": "stdout",
     "output_type": "stream",
     "text": [
      "p\n",
      "0\n"
     ]
    }
   ],
   "source": [
    "\n",
    "l = 'programming'\n",
    "\n",
    "def first_nonrepeating_char(l):\n",
    "    dict = {}\n",
    "    for i in l:\n",
    "        if i in dict:\n",
    "            dict[i] += 1\n",
    "        else:\n",
    "            dict[i] = 1\n",
    "    for i in l:\n",
    "        if dict[i] == 1:\n",
    "            return i\n",
    "\n",
    "print(first_nonrepeating_char(l)) \n",
    "\n",
    "# find out indexof first non repetating characters\n",
    "def first_nonrepeating_char_index(l):\n",
    "    dict = {}\n",
    "    for i in l:\n",
    "        if i in dict:\n",
    "            dict[i] += 1\n",
    "        else:\n",
    "            dict[i] = 1\n",
    "    for i in range(len(l)):\n",
    "        if dict[l[i]] == 1:\n",
    "            return i\n",
    "\n",
    "print(first_nonrepeating_char_index(l))"
   ]
  },
  {
   "cell_type": "code",
   "execution_count": 12,
   "metadata": {},
   "outputs": [
    {
     "name": "stdout",
     "output_type": "stream",
     "text": [
      "{'a': 1, 'b': 2, 'c': 3, 'd': 4}\n"
     ]
    }
   ],
   "source": [
    "# WAP to convert two list into dictionary\n",
    "list2 = [1, 2, 3, 4]\n",
    "list1= ['a', 'b', 'c', 'd']\n",
    "dicti = {}\n",
    "for i in range(len(list1)):\n",
    "    dicti[list1[i]] = list2[i]\n",
    "\n",
    "print(dicti)\n"
   ]
  },
  {
   "cell_type": "code",
   "execution_count": 13,
   "metadata": {},
   "outputs": [
    {
     "name": "stdout",
     "output_type": "stream",
     "text": [
      "{'a': 1, 'b': 2, 'c': 3}\n"
     ]
    }
   ],
   "source": [
    "# WAP to convert two list into dictionary by using zip\n",
    "def convert_lists_to_dict(list1, list2):\n",
    "    \"\"\"\n",
    "    Convert two lists into a dictionary using the zip function\n",
    "    \"\"\"\n",
    "    return dict(zip(list1, list2))\n",
    "\n",
    "# Example usage\n",
    "list1 = ['a', 'b', 'c']\n",
    "list2 = [1, 2, 3]\n",
    "result = convert_lists_to_dict(list1, list2)\n",
    "print(result)  # Output: {'a': 1, 'b': 2, 'c': 3}"
   ]
  },
  {
   "cell_type": "code",
   "execution_count": 16,
   "metadata": {},
   "outputs": [
    {
     "data": {
      "text/plain": [
       "{'hello': 2, 'world': 2, 'python': 2}"
      ]
     },
     "execution_count": 16,
     "metadata": {},
     "output_type": "execute_result"
    }
   ],
   "source": [
    "# calculate frequency of the words in strings\n",
    "\n",
    "def freq_words(string):\n",
    "    words = string.split()\n",
    "    freq = {}\n",
    "    for word in words:\n",
    "        if word in freq:\n",
    "            freq[word] += 1\n",
    "        else:\n",
    "            freq[word] = 1\n",
    "    return freq\n",
    "\n",
    "freq_words('hello world hello python world python')\n"
   ]
  },
  {
   "cell_type": "code",
   "execution_count": 20,
   "metadata": {},
   "outputs": [
    {
     "name": "stdout",
     "output_type": "stream",
     "text": [
      "World!\n"
     ]
    }
   ],
   "source": [
    "# how to print substring? wap to print substring\n",
    "def print_substring(string, start, end):\n",
    "    \"\"\"\n",
    "    Prints the substring of the given string between the specified start and end indices.\n",
    "    \n",
    "    Args:\n",
    "        string (str): The input string.\n",
    "        start (int): The starting index of the substring.\n",
    "        end (int): The ending index of the substring (exclusive).\n",
    "    \"\"\"\n",
    "    substring = string[start:end]\n",
    "    print(substring)\n",
    "\n",
    "# Example usage\n",
    "original_string = \"Hello, World!\"\n",
    "print_substring(original_string, 7, 14)  # Output: World    "
   ]
  },
  {
   "cell_type": "code",
   "execution_count": 21,
   "metadata": {},
   "outputs": [
    {
     "name": "stdout",
     "output_type": "stream",
     "text": [
      "a\n",
      "ab\n",
      "abc\n",
      "abcd\n",
      "abcde\n",
      "b\n",
      "bc\n",
      "bcd\n",
      "bcde\n",
      "c\n",
      "cd\n",
      "cde\n",
      "d\n",
      "de\n",
      "e\n"
     ]
    }
   ],
   "source": [
    "def substring(str1,n):\n",
    "    for i in range(n):\n",
    "        for j in range(i+1, n+1):\n",
    "            print(str1[i:j])\n",
    "            \n",
    "str1 = \"abcde\"\n",
    "n = len(str1)\n",
    "substring(str1, n)\n"
   ]
  },
  {
   "cell_type": "code",
   "execution_count": 24,
   "metadata": {},
   "outputs": [
    {
     "name": "stdout",
     "output_type": "stream",
     "text": [
      "[0, 1, 1, 2, 3, 5, 8, 13, 21, 34, 55, 89, 144, 233, 377, 610, 987, 1597, 2584, 4181]\n"
     ]
    }
   ],
   "source": [
    "# WAP FOR febonacci_series\n",
    "\n",
    "def febonacci_series(n):\n",
    "    \"\"\"\n",
    "    Generate the Fibonacci series up to the nth term.\n",
    "\n",
    "    Args:\n",
    "        n (int): The number of terms to generate in the Fibonacci series.\n",
    "\n",
    "    Returns:\n",
    "        list: A list containing the Fibonacci series up to the nth term.\n",
    "    \"\"\"\n",
    "    series = []\n",
    "    a, b = 0, 1\n",
    "    for i in range(n):\n",
    "        series.append(a)\n",
    "        a, b = b, a + b\n",
    "    return series\n",
    "\n",
    "# Example usage\n",
    "print(febonacci_series(20))\n",
    "\n"
   ]
  },
  {
   "cell_type": "code",
   "execution_count": 25,
   "metadata": {},
   "outputs": [
    {
     "name": "stdout",
     "output_type": "stream",
     "text": [
      "[5, 4, 3, 2, 1]\n"
     ]
    }
   ],
   "source": [
    "# how to reverse a lst in python\n",
    "def reverse_list(lst):\n",
    "    \"\"\"\n",
    "    Reverses the order of elements in a given list.\n",
    "    \n",
    "    Args:\n",
    "        lst (list): The list to be reversed.\n",
    "        \n",
    "    Returns:\n",
    "        list: A new list with the elements in reverse order.\n",
    "    \"\"\"\n",
    "    return lst[::-1]\n",
    "\n",
    "# Example usage\n",
    "original_list = [1, 2, 3, 4, 5]\n",
    "reversed_list = reverse_list(original_list)\n",
    "print(reversed_list)  # Output: [5, 4, 3, 2, 1]"
   ]
  },
  {
   "cell_type": "code",
   "execution_count": 27,
   "metadata": {},
   "outputs": [
    {
     "name": "stdout",
     "output_type": "stream",
     "text": [
      "[5, 4, 3, 2, 1]\n"
     ]
    }
   ],
   "source": [
    "def reverse_list(lst):\n",
    "    reversed_list = []\n",
    "    for i in range(len(lst)-1, -1, -1):\n",
    "        reversed_list.append(lst[i])\n",
    "    return reversed_list\n",
    "lst = [1,2,3,4,5]\n",
    "print(reverse_list(lst))"
   ]
  },
  {
   "cell_type": "code",
   "execution_count": 32,
   "metadata": {},
   "outputs": [
    {
     "name": "stdout",
     "output_type": "stream",
     "text": [
      "[500, 400, 300, 200, 100]\n"
     ]
    }
   ],
   "source": [
    "def reversed_list(lst):\n",
    "    lst.reverse()\n",
    "    return lst\n",
    "\n",
    "list2 = [100, 200, 300, 400, 500]\n",
    "reversed_list = reversed_list(list2)\n",
    "print(reversed_list)\n"
   ]
  },
  {
   "cell_type": "code",
   "execution_count": 35,
   "metadata": {},
   "outputs": [
    {
     "name": "stdout",
     "output_type": "stream",
     "text": [
      "2024-09-23 19:07:26.652387\n",
      "2024-09-23 19:07:26\n",
      "2024-09-23\n",
      "19:07:26.653391\n"
     ]
    }
   ],
   "source": [
    "# current datetime \n",
    "import datetime\n",
    "\n",
    "def get_current_datetime():\n",
    "    \"\"\"Returns the current date and time\"\"\"\n",
    "    now = datetime.datetime.now()\n",
    "    return now\n",
    "\n",
    "print(get_current_datetime())\n",
    "\n",
    "# with strftime\n",
    "def get_current_datetime_strftime():\n",
    "    \"\"\"Returns the current date and time using strftime\"\"\"\n",
    "    now = datetime.datetime.now()\n",
    "    return now.strftime(\"%Y-%m-%d %H:%M:%S\")\n",
    "print(get_current_datetime_strftime())\n",
    "\n",
    "# current date\n",
    "def get_current_date():\n",
    "    \"\"\"Returns the current date\"\"\"\n",
    "    today = datetime.date.today()\n",
    "    return today\n",
    "print(get_current_date())\n",
    "\n",
    "# current time\n",
    "def get_current_time():\n",
    "    \"\"\"Returns the current time\"\"\"\n",
    "    now = datetime.datetime.now().time()\n",
    "    return now  \n",
    "print(get_current_time())"
   ]
  },
  {
   "cell_type": "code",
   "execution_count": 36,
   "metadata": {},
   "outputs": [
    {
     "name": "stdout",
     "output_type": "stream",
     "text": [
      "['info@example.com', 'support@company.org']\n"
     ]
    }
   ],
   "source": [
    "# to find valid email address\n",
    "import re\n",
    "\n",
    "def find_valid_email(text):\n",
    "    \"\"\"\n",
    "    Finds all valid email addresses in the given text.\n",
    "\n",
    "    Args:\n",
    "        text (str): The input text to search for email addresses.\n",
    "\n",
    "    Returns:\n",
    "        list: A list of valid email addresses found in the text.\n",
    "    \"\"\"\n",
    "    # Regular expression pattern for valid email addresses\n",
    "    pattern = r'\\b[A-Za-z0-9._%+-]+@[A-Za-z0-9.-]+\\.[A-Z|a-z]{2,}\\b'\n",
    "\n",
    "    # Find all matches in the text\n",
    "    matches = re.match(pattern, text)\n",
    "\n",
    "    return matches\n",
    "\n",
    "if find_valid_email(text):\n",
    "    print(\"Valid email addresses found:\")\n",
    "else:\n",
    "    print(\"No valid email addresses found.\")\n",
    "\n",
    "\n",
    "# Example usage\n",
    "text = \"Contact us at info@example.com or support@company.org for more details. Invalid email: example@\"\n",
    "valid_emails = find_valid_email(text)\n",
    "print(valid_emails)"
   ]
  },
  {
   "cell_type": "code",
   "execution_count": 7,
   "metadata": {},
   "outputs": [
    {
     "name": "stdout",
     "output_type": "stream",
     "text": [
      "9\n",
      "18\n",
      "27\n",
      "36\n",
      "45\n",
      "54\n",
      "63\n",
      "72\n",
      "81\n",
      "90\n"
     ]
    }
   ],
   "source": [
    "multiplication =lambda a:3*a\n",
    "for a in range(1,11):\n",
    "        print(multiplication(3*a))\n",
    "\n"
   ]
  },
  {
   "cell_type": "code",
   "execution_count": 9,
   "metadata": {},
   "outputs": [
    {
     "name": "stdout",
     "output_type": "stream",
     "text": [
      "{1: 'apple', 2: 'banana', 3: 'orange', 4: 'grapes'}\n",
      "{1: 'apple', 2: 'banana', 3: 'orange', 4: 'grapes'}\n"
     ]
    }
   ],
   "source": [
    "# merge two dictionary\n",
    "\n",
    "diction1 = {1:'apple',2: 'banana'}\n",
    "diction2 = {3:'orange',4:'grapes'}\n",
    "diction3 = {**diction1,**diction2}\n",
    "print(diction3)\n",
    "\n",
    "# by using update method\n",
    "diction1.update(diction2)\n",
    "print(diction1)"
   ]
  },
  {
   "cell_type": "code",
   "execution_count": 11,
   "metadata": {},
   "outputs": [
    {
     "name": "stdout",
     "output_type": "stream",
     "text": [
      "{1: 1, 2: 2, 3: 2, 4: 4, 7: 1, 9: 1, 5: 3, 6: 2}\n"
     ]
    }
   ],
   "source": [
    "# remove dulicate from the array(occourances)\n",
    "arr = [1,2,3,4,4,2,7,9,5,6,4,5,3,6,4,5]\n",
    "arr3 ={}\n",
    "for i in arr:\n",
    "    if i not in arr3:\n",
    "        arr3[i] = 1\n",
    "    else:\n",
    "        arr3[i] += 1\n",
    "        \n",
    "print(arr3)\n"
   ]
  },
  {
   "cell_type": "code",
   "execution_count": 14,
   "metadata": {},
   "outputs": [
    {
     "name": "stdout",
     "output_type": "stream",
     "text": [
      "[1, 2, 3, 4, 7, 9, 5, 6]\n"
     ]
    }
   ],
   "source": [
    "arr = [1,2,3,4,4,2,7,9,5,6,4,5,3,6,4,5]\n",
    "arr3 =[]\n",
    "for i in arr:\n",
    "    if (i not in arr3):\n",
    "        arr3.append(i)\n",
    "\n",
    "print(arr3)"
   ]
  },
  {
   "cell_type": "code",
   "execution_count": 15,
   "metadata": {},
   "outputs": [
    {
     "name": "stdout",
     "output_type": "stream",
     "text": [
      "[1, 2, 3, 4, 5, 6, 7, 9]\n"
     ]
    }
   ],
   "source": [
    "# Removing duplicates by using lambda function\n",
    "arr = [1,2,3,4,4,2,7,9,5,6,4,5,3,6,4,5]\n",
    "\n",
    "remove_dupicate = lambda arr: list(set(arr))\n",
    "print(remove_dupicate(arr))"
   ]
  },
  {
   "cell_type": "code",
   "execution_count": 17,
   "metadata": {},
   "outputs": [
    {
     "name": "stdout",
     "output_type": "stream",
     "text": [
      "120\n"
     ]
    }
   ],
   "source": [
    "# Multiplt all the numbers in the the list\n",
    "list_numbers = [1, 2, 3, 4, 5]\n",
    "\n",
    "def multiply_list_numbers(list_numbers):\n",
    "    result = 1\n",
    "    for i in list_numbers:\n",
    "        result *= i\n",
    "    return result\n",
    "\n",
    "print(multiply_list_numbers(list_numbers))"
   ]
  }
 ],
 "metadata": {
  "kernelspec": {
   "display_name": "Python 3",
   "language": "python",
   "name": "python3"
  },
  "language_info": {
   "codemirror_mode": {
    "name": "ipython",
    "version": 3
   },
   "file_extension": ".py",
   "mimetype": "text/x-python",
   "name": "python",
   "nbconvert_exporter": "python",
   "pygments_lexer": "ipython3",
   "version": "3.12.4"
  }
 },
 "nbformat": 4,
 "nbformat_minor": 2
}
