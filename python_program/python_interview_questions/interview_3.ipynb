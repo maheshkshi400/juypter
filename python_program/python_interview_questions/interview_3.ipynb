{
 "cells": [
  {
   "cell_type": "code",
   "execution_count": 1,
   "metadata": {},
   "outputs": [
    {
     "name": "stdout",
     "output_type": "stream",
     "text": [
      "The second highest number is: 15\n"
     ]
    }
   ],
   "source": [
    "# WAP to find out second highest number from the list number in a list\n",
    "\n",
    "def find_second_highest(lst):\n",
    "    if len(lst) < 2:\n",
    "        return None\n",
    "\n",
    "    highest = max(lst)\n",
    "    second_highest = min(lst)\n",
    "\n",
    "    for num in lst:\n",
    "        if num > second_highest and num < highest:\n",
    "            second_highest = num\n",
    "\n",
    "    return second_highest\n",
    "\n",
    "# Example usage\n",
    "numbers = [10, 5, 8, 20, 15, 3]\n",
    "result = find_second_highest(numbers)\n",
    "print(f\"The second highest number is: {result}\")"
   ]
  }
 ],
 "metadata": {
  "kernelspec": {
   "display_name": "Python 3",
   "language": "python",
   "name": "python3"
  },
  "language_info": {
   "codemirror_mode": {
    "name": "ipython",
    "version": 3
   },
   "file_extension": ".py",
   "mimetype": "text/x-python",
   "name": "python",
   "nbconvert_exporter": "python",
   "pygments_lexer": "ipython3",
   "version": "3.12.4"
  }
 },
 "nbformat": 4,
 "nbformat_minor": 2
}
