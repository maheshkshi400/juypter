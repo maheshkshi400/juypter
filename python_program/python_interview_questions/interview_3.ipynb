{
 "cells": [
  {
   "cell_type": "code",
   "execution_count": 1,
   "metadata": {},
   "outputs": [
    {
     "name": "stdout",
     "output_type": "stream",
     "text": [
      "The second highest number is: 15\n"
     ]
    }
   ],
   "source": [
    "# WAP to find out second highest number from the list number in a list\n",
    "\n",
    "def find_second_highest(lst):\n",
    "    if len(lst) < 2:\n",
    "        return None\n",
    "\n",
    "    highest = max(lst)\n",
    "    second_highest = min(lst)\n",
    "\n",
    "    for num in lst:\n",
    "        if num > second_highest and num < highest:\n",
    "            second_highest = num\n",
    "\n",
    "    return second_highest\n",
    "\n",
    "# Example usage\n",
    "numbers = [10, 5, 8, 20, 15, 3]\n",
    "result = find_second_highest(numbers)\n",
    "print(f\"The second highest number is: {result}\")"
   ]
  },
  {
   "cell_type": "code",
   "execution_count": 1,
   "metadata": {},
   "outputs": [
    {
     "name": "stdout",
     "output_type": "stream",
     "text": [
      "5 4 3 2 1 \n",
      "4 3 2 1 \n",
      "3 2 1 \n",
      "2 1 \n",
      "1 \n",
      "\n"
     ]
    }
   ],
   "source": [
    "rows =5\n",
    "for i in range (0,rows+1):\n",
    "    for j in range(rows-i, 0, -1):\n",
    "        print(j, end=' ') \n",
    "    print(\"\\r\")"
   ]
  },
  {
   "cell_type": "code",
   "execution_count": 2,
   "metadata": {},
   "outputs": [
    {
     "name": "stdout",
     "output_type": "stream",
     "text": [
      "p\n",
      "py\n",
      "pyt\n",
      "pyth\n",
      "pytho\n",
      "python\n"
     ]
    }
   ],
   "source": [
    "word = \"python\"\n",
    "\n",
    "x = \"\"\n",
    "for i in word:\n",
    "    x += i\n",
    "    print(x)"
   ]
  },
  {
   "cell_type": "code",
   "execution_count": 2,
   "metadata": {},
   "outputs": [
    {
     "name": "stdout",
     "output_type": "stream",
     "text": [
      "[0, 0, 0, 0, 1, 2]\n"
     ]
    }
   ],
   "source": [
    "result = [(lambda i=i,j=j:i*j)() for i in range(2) for j in range(3)]\n",
    "print(result)\n",
    "    \n"
   ]
  },
  {
   "cell_type": "code",
   "execution_count": 1,
   "metadata": {},
   "outputs": [
    {
     "name": "stdout",
     "output_type": "stream",
     "text": [
      "123\n",
      "123.42\n",
      "(3+4j)\n",
      "12\n",
      "True\n",
      "0b11001\n",
      "0o31\n",
      "0x19\n",
      "65\n",
      "b\n"
     ]
    }
   ],
   "source": [
    "x = int('123')\n",
    "a = float('123.42')\n",
    "b = complex('3+4j')\n",
    "c = str(12)\n",
    "d = bool('True')\n",
    "e = bin(25) #binary\n",
    "f = oct(25)\n",
    "g = hex(25)\n",
    "h = ord('A') #char to unicode\n",
    "i = chr(98) #unicode to character\n",
    "\n",
    "print(x, a, b, c, d, e, f, g, h, i, sep=\"\\n\")"
   ]
  },
  {
   "cell_type": "code",
   "execution_count": null,
   "metadata": {},
   "outputs": [],
   "source": [
    "# write a program to find GCD of two programs\n",
    "\n",
    "num1 = int(input(\"Enter the first number: \"))\n",
    "num2 = int(input(\"Enter the second number: \"))\n",
    "\n",
    "def gcd(num1, num2):\n",
    "    if a==0 or a==b:\n",
    "        return b\n",
    "    elif b == 0:\n",
    "        return b\n",
    "    elif a>b:\n",
    "        return gcd(a-b,a)\n",
    "    return gcd(a,b-a)\n",
    "    \n",
    "gcd(num1,num2)"
   ]
  },
  {
   "cell_type": "code",
   "execution_count": null,
   "metadata": {},
   "outputs": [
    {
     "name": "stdout",
     "output_type": "stream",
     "text": [
      "The GCD of 45 and 70 is 5\n"
     ]
    }
   ],
   "source": [
    "def gcd(a, b):\n",
    "    \"\"\"Calculates the Greatest Common Divisor (GCD) of two numbers using the Euclidean algorithm.\n",
    "\n",
    "    Args:\n",
    "        a: The first number.\n",
    "        b: The second number.\n",
    "\n",
    "    Returns:\n",
    "        The GCD of a and b.\n",
    "    \"\"\"\n",
    "\n",
    "    if b == 0:\n",
    "        return a\n",
    "    else:\n",
    "        return gs = s s \n",
    "# Calculate and print the GCD\n",
    "result = gcd(num1, num2)\n",
    "print(\"The GCD of\", num1, \"and\", num2, \"is\", result)"
   ]
  },
  {
   "cell_type": "code",
   "execution_count": null,
   "metadata": {},
   "outputs": [],
   "source": []
  }
 ],
 "metadata": {
  "kernelspec": {
   "display_name": "Python 3",
   "language": "python",
   "name": "python3"
  },
  "language_info": {
   "codemirror_mode": {
    "name": "ipython",
    "version": 3
   },
   "file_extension": ".py",
   "mimetype": "text/x-python",
   "name": "python",
   "nbconvert_exporter": "python",
   "pygments_lexer": "ipython3",
   "version": "3.12.4"
  }
 },
 "nbformat": 4,
 "nbformat_minor": 2
}
