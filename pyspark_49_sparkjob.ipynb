{
 "cells": [
  {
   "cell_type": "code",
   "execution_count": 2,
   "metadata": {},
   "outputs": [
    {
     "name": "stdout",
     "output_type": "stream",
     "text": [
      "+---+-----------------+------+----+------+-------+------+---------+\n",
      "| id|             name|gender| age|salary|   dept|deptno|      doj|\n",
      "+---+-----------------+------+----+------+-------+------+---------+\n",
      "|  1|Mahesh Kshirsagar|  male|  20|  5000|     IT|    50|19-4-2011|\n",
      "|  2|   Shruthi Sharma|female|None|  6000|     HR|  null|20-5-2007|\n",
      "|  3|   Ganesh Kenjale|  male|  25|  null|FINANCE|    30|     null|\n",
      "|  4|    Pooja Chandra|female|null|  8000|PAYROLL|    40|14-4-1998|\n",
      "|  5|     kamini sinha|female|  31|  6000|     IT|    50|20-5-2002|\n",
      "|  6|        Rahul Roy|  null|  28|  null|   null|    10|31-8-2015|\n",
      "|  7|    Shweta Tiwari|female|  30|  6000|     HR|    20|     null|\n",
      "|  8|   suresh Katwani|  null|  25| 10000|FINANCE|    30|22-3-2007|\n",
      "|  9|             null|  null|null|  null|   null|  null|     null|\n",
      "| 10|   prachi Inamdar|female|  30|  6000|   null|    50|     null|\n",
      "+---+-----------------+------+----+------+-------+------+---------+\n",
      "\n"
     ]
    }
   ],
   "source": [
    "from pyspark.sql import SparkSession\n",
    "\n",
    "# Create a SparkSession\n",
    "spark = SparkSession.builder.appName(\"https://github.com/maheshkshi400/MK\").getOrCreate()\n",
    "\n",
    "\n",
    "df = spark.read.format('csv') \\\n",
    "    .option('header',True)\\\n",
    "    .option('sep',\",\")\\\n",
    "    .load('C:/Users/Pc/juypter/empdf12.csv')\n",
    "df.show()"
   ]
  },
  {
   "cell_type": "code",
   "execution_count": 3,
   "metadata": {},
   "outputs": [
    {
     "name": "stdout",
     "output_type": "stream",
     "text": [
      "+---+-----------------+------+----+------+-------+------+---------+\n",
      "| id|             name|gender| age|salary|   dept|deptno|      doj|\n",
      "+---+-----------------+------+----+------+-------+------+---------+\n",
      "|  1|Mahesh Kshirsagar|  male|  20|  5000|     IT|    50|19-4-2011|\n",
      "|  2|   Shruthi Sharma|female|None|  6000|     HR|  null|20-5-2007|\n",
      "|  3|   Ganesh Kenjale|  male|  25|  null|FINANCE|    30|     null|\n",
      "|  4|    Pooja Chandra|female|null|  8000|PAYROLL|    40|14-4-1998|\n",
      "|  5|     kamini sinha|female|  31|  6000|     IT|    50|20-5-2002|\n",
      "|  6|        Rahul Roy|  null|  28|  null|   null|    10|31-8-2015|\n",
      "|  7|    Shweta Tiwari|female|  30|  6000|     HR|    20|     null|\n",
      "|  8|   suresh Katwani|  null|  25| 10000|FINANCE|    30|22-3-2007|\n",
      "|  9|             null|  null|null|  null|   null|  null|     null|\n",
      "| 10|   prachi Inamdar|female|  30|  6000|   null|    50|     null|\n",
      "+---+-----------------+------+----+------+-------+------+---------+\n",
      "\n"
     ]
    }
   ],
   "source": [
    "df = spark.read.format('csv') \\\n",
    "    .option('inferschema', True) \\\n",
    "    .option('header',True)\\\n",
    "    .option('sep',\",\")\\\n",
    "    .load('C:/Users/Pc/juypter/empdf12.csv')\n",
    "df.show()\n",
    "\n",
    "\n",
    "\n"
   ]
  },
  {
   "cell_type": "code",
   "execution_count": 12,
   "metadata": {},
   "outputs": [],
   "source": [
    "from pyspark.sql.types import StructField, StructType, StringType, IntegerType\n",
    "\n",
    "schema = StructType([\n",
    "    StructField(\"id\", IntegerType(), True),\n",
    "    StructField(\"name\", StringType(), True),\n",
    "    StructField(\"gender\", StringType(), True),\n",
    "    StructField(\"age\", IntegerType(), True),\n",
    "    StructField(\"salary\", IntegerType(), True),\n",
    "    StructField(\"dept\", StringType(), True),\n",
    "    StructField(\"deptno\", IntegerType(), True),\n",
    "    StructField(\"doj\", StringType(), True)\n",
    "])"
   ]
  },
  {
   "cell_type": "code",
   "execution_count": 13,
   "metadata": {},
   "outputs": [
    {
     "name": "stdout",
     "output_type": "stream",
     "text": [
      "+----+-----------------+------+----+------+-------+------+---------+\n",
      "|  id|             name|gender| age|salary|   dept|deptno|      doj|\n",
      "+----+-----------------+------+----+------+-------+------+---------+\n",
      "|null|             name|gender|null|  null|   dept|  null|      doj|\n",
      "|   1|Mahesh Kshirsagar|  male|  20|  5000|     IT|    50|19-4-2011|\n",
      "|   2|   Shruthi Sharma|female|null|  6000|     HR|  null|20-5-2007|\n",
      "|   3|   Ganesh Kenjale|  male|  25|  null|FINANCE|    30|     null|\n",
      "|   4|    Pooja Chandra|female|null|  8000|PAYROLL|    40|14-4-1998|\n",
      "|   5|     kamini sinha|female|  31|  6000|     IT|    50|20-5-2002|\n",
      "|   6|        Rahul Roy|  null|  28|  null|   null|    10|31-8-2015|\n",
      "|   7|    Shweta Tiwari|female|  30|  6000|     HR|    20|     null|\n",
      "|   8|   suresh Katwani|  null|  25| 10000|FINANCE|    30|22-3-2007|\n",
      "|   9|             null|  null|null|  null|   null|  null|     null|\n",
      "|  10|   prachi Inamdar|female|  30|  6000|   null|    50|     null|\n",
      "+----+-----------------+------+----+------+-------+------+---------+\n",
      "\n"
     ]
    }
   ],
   "source": [
    "df = spark.read.format('csv').schema(schema) .load('C:/Users/Pc/juypter/empdf12.csv')\n",
    "df.show()"
   ]
  },
  {
   "cell_type": "code",
   "execution_count": 11,
   "metadata": {},
   "outputs": [],
   "source": [
    "from pyspark.sql.types import StructField, StructType, StringType, IntegerType\n",
    "\n",
    "schema = StructType([\n",
    "    StructField(\"id\", IntegerType(), True),\n",
    "    StructField(\"name\", StringType(), True),\n",
    "    StructField(\"gender\", StringType(), True),\n",
    "    StructField(\"age\", IntegerType(), True),\n",
    "    StructField(\"salary\", IntegerType(), True),\n",
    "    StructField(\"dept\", StringType(), True),\n",
    "    StructField(\"deptno\", IntegerType(), True),\n",
    "    StructField(\"doj\", StringType(), True)\n",
    "])\n"
   ]
  }
 ],
 "metadata": {
  "kernelspec": {
   "display_name": "pyspark-env",
   "language": "python",
   "name": "pyspark-env"
  },
  "language_info": {
   "codemirror_mode": {
    "name": "ipython",
    "version": 3
   },
   "file_extension": ".py",
   "mimetype": "text/x-python",
   "name": "python",
   "nbconvert_exporter": "python",
   "pygments_lexer": "ipython3",
   "version": "3.12.0"
  }
 },
 "nbformat": 4,
 "nbformat_minor": 2
}
