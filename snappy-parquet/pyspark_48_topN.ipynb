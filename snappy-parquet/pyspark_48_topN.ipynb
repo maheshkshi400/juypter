{
 "cells": [
  {
   "cell_type": "code",
   "execution_count": 7,
   "metadata": {},
   "outputs": [
    {
     "name": "stdout",
     "output_type": "stream",
     "text": [
      "+----------+------+-----------+----+------+----------+\n",
      "|      name|gender|    subject|mark|status|attendance|\n",
      "+----------+------+-----------+----+------+----------+\n",
      "|    mahesh|  Male|    Physics|  80|     P|        90|\n",
      "|    mahesh|  Male|  chemistry|  67|     P|        90|\n",
      "|    mahesh|  Male|Mathematics|  67|     P|        90|\n",
      "|   Shruthi|Female|    Physics|  60|     P|        86|\n",
      "|   shruthi|female|  Chemistry|  67|     P|        86|\n",
      "|   shruthi|female|Mathematics|  52|     P|        86|\n",
      "|    Prachi|female|    Physics|  72|     P|        72|\n",
      "|    Prachi|female|  chemistry|  80|     P|        72|\n",
      "|    Prachi|female|Mathematics|  90|     P|        72|\n",
      "|Vaishanavi|female|    Physics|  50|     P|        70|\n",
      "|Vaishanavi|female|  chemistry|  86|     P|        70|\n",
      "|Vaishanavi|female|Mathematics|  70|     P|        70|\n",
      "|    Avanti|female|    Physics|  77|     P|        90|\n",
      "|    Avanti|female|  Chemistry|  95|     P|        90|\n",
      "|    Avanti|female|Mathematics|  78|     P|        90|\n",
      "+----------+------+-----------+----+------+----------+\n",
      "\n"
     ]
    }
   ],
   "source": [
    "from pyspark.sql import SparkSession\n",
    "\n",
    "# Create a SparkSession\n",
    "spark = SparkSession.builder.appName(\"https://github.com/maheshkshi400/MK\").getOrCreate()\n",
    "\n",
    "\n",
    "data_student= [('mahesh','Male','Physics',80,'P',90),\n",
    "               ('mahesh','Male','chemistry',67,'P',90),\n",
    "               ('mahesh','Male','Mathematics',67,'P',90),\n",
    "               ('Shruthi','Female','Physics',60,'P',86),\n",
    "               ('shruthi','female','Chemistry',67,'P',86),\n",
    "               ('shruthi','female','Mathematics',52,'P',86),\n",
    "               ('Prachi','female','Physics',72,'P',72),\n",
    "               ('Prachi','female','chemistry',80,'P',72),\n",
    "               ('Prachi','female','Mathematics',90,'P',72),\n",
    "               ('Vaishanavi','female','Physics',50,'P',70),\n",
    "               ('Vaishanavi','female','chemistry',86,'P',70),\n",
    "               ('Vaishanavi','female','Mathematics',70,'P',70),\n",
    "               ('Avanti','female','Physics',77,'P',90),\n",
    "               ('Avanti','female','Chemistry',95,'P',90),\n",
    "               ('Avanti','female','Mathematics',78,'P',90)]\n",
    "\n",
    "            \n",
    "\n",
    "schema1 = ['name','gender','subject','mark','status','attendance']\n",
    "\n",
    "studf = spark.createDataFrame(data=data_student,schema=schema1)\n",
    "\n",
    "studf.show()"
   ]
  },
  {
   "cell_type": "code",
   "execution_count": 8,
   "metadata": {},
   "outputs": [
    {
     "name": "stdout",
     "output_type": "stream",
     "text": [
      "+----------+------+-----------+----+------+----------+---+\n",
      "|      name|gender|    subject|mark|status|attendance|row|\n",
      "+----------+------+-----------+----+------+----------+---+\n",
      "|    Avanti|female|  Chemistry|  95|     P|        90|  1|\n",
      "|    Avanti|female|Mathematics|  78|     P|        90|  2|\n",
      "|    Avanti|female|    Physics|  77|     P|        90|  3|\n",
      "|    Prachi|female|Mathematics|  90|     P|        72|  1|\n",
      "|    Prachi|female|  chemistry|  80|     P|        72|  2|\n",
      "|    Prachi|female|    Physics|  72|     P|        72|  3|\n",
      "|   Shruthi|Female|    Physics|  60|     P|        86|  1|\n",
      "|Vaishanavi|female|  chemistry|  86|     P|        70|  1|\n",
      "|Vaishanavi|female|Mathematics|  70|     P|        70|  2|\n",
      "|Vaishanavi|female|    Physics|  50|     P|        70|  3|\n",
      "|    mahesh|  Male|    Physics|  80|     P|        90|  1|\n",
      "|    mahesh|  Male|  chemistry|  67|     P|        90|  2|\n",
      "|    mahesh|  Male|Mathematics|  67|     P|        90|  3|\n",
      "|   shruthi|female|  Chemistry|  67|     P|        86|  1|\n",
      "|   shruthi|female|Mathematics|  52|     P|        86|  2|\n",
      "+----------+------+-----------+----+------+----------+---+\n",
      "\n"
     ]
    }
   ],
   "source": [
    "# Create rank within each group of name\n",
    "\n",
    "from pyspark.sql.window import Window\n",
    "from pyspark.sql.functions import col,row_number\n",
    "\n",
    "windowdept = Window.partitionBy('name').orderBy(col('mark').desc())\n",
    "\n",
    "df2 = studf.withColumn('row',row_number().over(windowdept)).orderBy('name','row')\n",
    "df2.show()"
   ]
  },
  {
   "cell_type": "code",
   "execution_count": 9,
   "metadata": {},
   "outputs": [
    {
     "name": "stdout",
     "output_type": "stream",
     "text": [
      "+----------+------+-----------+----+------+----------+---+\n",
      "|      name|gender|    subject|mark|status|attendance|row|\n",
      "+----------+------+-----------+----+------+----------+---+\n",
      "|    Avanti|female|  Chemistry|  95|     P|        90|  1|\n",
      "|    Prachi|female|Mathematics|  90|     P|        72|  1|\n",
      "|   Shruthi|Female|    Physics|  60|     P|        86|  1|\n",
      "|Vaishanavi|female|  chemistry|  86|     P|        70|  1|\n",
      "|    mahesh|  Male|    Physics|  80|     P|        90|  1|\n",
      "|   shruthi|female|  Chemistry|  67|     P|        86|  1|\n",
      "+----------+------+-----------+----+------+----------+---+\n",
      "\n"
     ]
    }
   ],
   "source": [
    "# get top N rows per group of name\n",
    "\n",
    "df3 = df2.filter(col(\"row\") <= 1)\n",
    "df3.show()"
   ]
  },
  {
   "cell_type": "code",
   "execution_count": 10,
   "metadata": {},
   "outputs": [
    {
     "name": "stdout",
     "output_type": "stream",
     "text": [
      "+----------+------+-----------+----+------+----------+---+\n",
      "|      name|gender|    subject|mark|status|attendance|row|\n",
      "+----------+------+-----------+----+------+----------+---+\n",
      "|    Avanti|female|  Chemistry|  95|     P|        90|  1|\n",
      "|    Avanti|female|Mathematics|  78|     P|        90|  2|\n",
      "|    Avanti|female|    Physics|  77|     P|        90|  2|\n",
      "|    Prachi|female|Mathematics|  90|     P|        72|  1|\n",
      "|    Prachi|female|  chemistry|  80|     P|        72|  2|\n",
      "|    Prachi|female|    Physics|  72|     P|        72|  3|\n",
      "|   Shruthi|Female|    Physics|  60|     P|        86|  4|\n",
      "|Vaishanavi|female|  chemistry|  86|     P|        70|  1|\n",
      "|Vaishanavi|female|Mathematics|  70|     P|        70|  3|\n",
      "|Vaishanavi|female|    Physics|  50|     P|        70|  5|\n",
      "|    mahesh|  Male|    Physics|  80|     P|        90|  1|\n",
      "|    mahesh|  Male|  chemistry|  67|     P|        90|  3|\n",
      "|    mahesh|  Male|Mathematics|  67|     P|        90|  4|\n",
      "|   shruthi|female|  Chemistry|  67|     P|        86|  2|\n",
      "|   shruthi|female|Mathematics|  52|     P|        86|  5|\n",
      "+----------+------+-----------+----+------+----------+---+\n",
      "\n"
     ]
    }
   ],
   "source": [
    "# create rank within each grop of subject\n",
    "\n",
    "windowdept = Window.partitionBy('subject').orderBy(col('mark').desc())\n",
    "\n",
    "df4 = studf.withColumn('row',row_number().over(windowdept)).orderBy('name','row')\n",
    "df4.show()"
   ]
  },
  {
   "cell_type": "code",
   "execution_count": 12,
   "metadata": {},
   "outputs": [
    {
     "name": "stdout",
     "output_type": "stream",
     "text": [
      "+----------+------+-----------+----+------+----------+---+\n",
      "|      name|gender|    subject|mark|status|attendance|row|\n",
      "+----------+------+-----------+----+------+----------+---+\n",
      "|    Avanti|female|  Chemistry|  95|     P|        90|  1|\n",
      "|    Prachi|female|Mathematics|  90|     P|        72|  1|\n",
      "|Vaishanavi|female|  chemistry|  86|     P|        70|  1|\n",
      "|    mahesh|  Male|    Physics|  80|     P|        90|  1|\n",
      "+----------+------+-----------+----+------+----------+---+\n",
      "\n"
     ]
    }
   ],
   "source": [
    "# get top N rows per group of name\n",
    "\n",
    "df5 = df4.filter(col(\"row\") <= 1)\n",
    "df5.show()"
   ]
  },
  {
   "cell_type": "code",
   "execution_count": 14,
   "metadata": {},
   "outputs": [
    {
     "name": "stdout",
     "output_type": "stream",
     "text": [
      "+----------+------+-----------+----+------+----------+---+\n",
      "|      name|gender|    subject|mark|status|attendance|row|\n",
      "+----------+------+-----------+----+------+----------+---+\n",
      "|    Avanti|female|  Chemistry|  95|     P|        90|  2|\n",
      "|    Avanti|female|Mathematics|  78|     P|        90|  4|\n",
      "|    Avanti|female|    Physics|  77|     P|        90|  4|\n",
      "|    Prachi|female|  chemistry|  80|     P|        72|  2|\n",
      "|    Prachi|female|    Physics|  72|     P|        72|  3|\n",
      "|    Prachi|female|Mathematics|  90|     P|        72|  5|\n",
      "|   Shruthi|Female|    Physics|  60|     P|        86|  2|\n",
      "|Vaishanavi|female|    Physics|  50|     P|        70|  1|\n",
      "|Vaishanavi|female|Mathematics|  70|     P|        70|  3|\n",
      "|Vaishanavi|female|  chemistry|  86|     P|        70|  3|\n",
      "|    mahesh|  Male|  chemistry|  67|     P|        90|  1|\n",
      "|    mahesh|  Male|Mathematics|  67|     P|        90|  2|\n",
      "|    mahesh|  Male|    Physics|  80|     P|        90|  5|\n",
      "|   shruthi|female|  Chemistry|  67|     P|        86|  1|\n",
      "|   shruthi|female|Mathematics|  52|     P|        86|  1|\n",
      "+----------+------+-----------+----+------+----------+---+\n",
      "\n"
     ]
    }
   ],
   "source": [
    "# create rank within each grop of subject\n",
    "\n",
    "windowdept = Window.partitionBy('subject').orderBy(col('mark'))\n",
    "\n",
    "df6 = studf.withColumn('row',row_number().over(windowdept)).orderBy('name','row')\n",
    "df6.show()"
   ]
  },
  {
   "cell_type": "code",
   "execution_count": 15,
   "metadata": {},
   "outputs": [
    {
     "name": "stdout",
     "output_type": "stream",
     "text": [
      "+----------+------+-----------+----+------+----------+---+\n",
      "|      name|gender|    subject|mark|status|attendance|row|\n",
      "+----------+------+-----------+----+------+----------+---+\n",
      "|    Avanti|female|  Chemistry|  95|     P|        90|  1|\n",
      "|    Prachi|female|Mathematics|  90|     P|        72|  1|\n",
      "|Vaishanavi|female|  chemistry|  86|     P|        70|  1|\n",
      "|    mahesh|  Male|    Physics|  80|     P|        90|  1|\n",
      "+----------+------+-----------+----+------+----------+---+\n",
      "\n"
     ]
    }
   ],
   "source": [
    "# get top N rows per group of name\n",
    "\n",
    "df7 = df6.filter(col(\"row\") <= 1)\n",
    "df5.show()"
   ]
  }
 ],
 "metadata": {
  "kernelspec": {
   "display_name": "base",
   "language": "python",
   "name": "python3"
  },
  "language_info": {
   "codemirror_mode": {
    "name": "ipython",
    "version": 3
   },
   "file_extension": ".py",
   "mimetype": "text/x-python",
   "name": "python",
   "nbconvert_exporter": "python",
   "pygments_lexer": "ipython3",
   "version": "3.11.5"
  }
 },
 "nbformat": 4,
 "nbformat_minor": 2
}
