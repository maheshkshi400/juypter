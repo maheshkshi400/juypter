{
 "cells": [
  {
   "cell_type": "code",
   "execution_count": 1,
   "metadata": {},
   "outputs": [
    {
     "name": "stdout",
     "output_type": "stream",
     "text": [
      "+-------+---------+--------------+-------------+-----------------+-----------+------+\n",
      "|species|   island|bill_length_mm|bill_depth_mm|flipper_length_mm|body_mass_g|   sex|\n",
      "+-------+---------+--------------+-------------+-----------------+-----------+------+\n",
      "| Adelie|Torgersen|          39.1|         18.7|              181|       3750|  MALE|\n",
      "| Adelie|Torgersen|          39.5|         17.4|              186|       3800|FEMALE|\n",
      "| Adelie|Torgersen|          40.3|         18.0|              195|       3250|FEMALE|\n",
      "| Adelie|Torgersen|          NULL|         NULL|             NULL|       NULL|  NULL|\n",
      "| Adelie|Torgersen|          36.7|         19.3|              193|       3450|FEMALE|\n",
      "| Adelie|Torgersen|          39.3|         20.6|              190|       3650|  MALE|\n",
      "| Adelie|Torgersen|          38.9|         17.8|              181|       3625|FEMALE|\n",
      "| Adelie|Torgersen|          39.2|         19.6|              195|       4675|  MALE|\n",
      "| Adelie|Torgersen|          34.1|         18.1|              193|       3475|  NULL|\n",
      "| Adelie|Torgersen|          42.0|         20.2|              190|       4250|  NULL|\n",
      "| Adelie|Torgersen|          37.8|         17.1|              186|       3300|  NULL|\n",
      "| Adelie|Torgersen|          37.8|         17.3|              180|       3700|  NULL|\n",
      "| Adelie|Torgersen|          41.1|         17.6|              182|       3200|FEMALE|\n",
      "| Adelie|Torgersen|          38.6|         21.2|              191|       3800|  MALE|\n",
      "| Adelie|Torgersen|          34.6|         21.1|              198|       4400|  MALE|\n",
      "| Adelie|Torgersen|          36.6|         17.8|              185|       3700|FEMALE|\n",
      "| Adelie|Torgersen|          38.7|         19.0|              195|       3450|FEMALE|\n",
      "| Adelie|Torgersen|          42.5|         20.7|              197|       4500|  MALE|\n",
      "| Adelie|Torgersen|          34.4|         18.4|              184|       3325|FEMALE|\n",
      "| Adelie|Torgersen|          46.0|         21.5|              194|       4200|  MALE|\n",
      "+-------+---------+--------------+-------------+-----------------+-----------+------+\n",
      "only showing top 20 rows\n",
      "\n"
     ]
    }
   ],
   "source": [
    "from pyspark.sql import SparkSession\n",
    "\n",
    "# Create a SparkSession\n",
    "spark = SparkSession.builder.appName(\"https://github.com/maheshkshi400/MK\").getOrCreate()\n",
    "\n",
    "\n",
    "df = spark.read.format('csv').\\\n",
    "    option('inferschema',True).\\\n",
    "    option('delimiter',',').\\\n",
    "    option('header',True).\\\n",
    "    load('C:/Users/Pc/juypter/penguins.csv')\n",
    "\n",
    "df.show()"
   ]
  },
  {
   "cell_type": "code",
   "execution_count": 2,
   "metadata": {},
   "outputs": [
    {
     "name": "stdout",
     "output_type": "stream",
     "text": [
      "344\n"
     ]
    }
   ],
   "source": [
    "# count of Records\n",
    "\n",
    "print(df.count())"
   ]
  },
  {
   "cell_type": "code",
   "execution_count": 3,
   "metadata": {},
   "outputs": [
    {
     "name": "stdout",
     "output_type": "stream",
     "text": [
      "1\n"
     ]
    }
   ],
   "source": [
    "# Default partition count\n",
    "\n",
    "print(df.rdd.getNumPartitions())"
   ]
  },
  {
   "cell_type": "code",
   "execution_count": 5,
   "metadata": {},
   "outputs": [
    {
     "name": "stdout",
     "output_type": "stream",
     "text": [
      "+---------+-----+\n",
      "|   island|count|\n",
      "+---------+-----+\n",
      "|    Dream|  124|\n",
      "|Torgersen|   52|\n",
      "|   Biscoe|  168|\n",
      "+---------+-----+\n",
      "\n"
     ]
    }
   ],
   "source": [
    "# Numbers of Records per partitions\n",
    "\n",
    "from pyspark.sql.functions import spark_partition_id\n",
    "\n",
    "df.withColumn(\"partitionId\",spark_partition_id()).groupBy(\"island\").count().show()"
   ]
  },
  {
   "cell_type": "code",
   "execution_count": null,
   "metadata": {},
   "outputs": [],
   "source": [
    "# Repartiton the dataframe\n",
    "\n",
    "df_6 = df.select(df.island,df.sex,df.count).repartition(6)\n"
   ]
  },
  {
   "cell_type": "code",
   "execution_count": null,
   "metadata": {},
   "outputs": [],
   "source": [
    "# Default partition count\n",
    "\n",
    "print(df_6.rdd.getNumPartitions())"
   ]
  },
  {
   "cell_type": "code",
   "execution_count": null,
   "metadata": {},
   "outputs": [],
   "source": [
    "\n",
    "\n",
    "# Numbers of Records per partitions\n",
    "\n",
    "from pyspark.sql.functions import spark_partition_id\n",
    "\n",
    "df.withColumn(\"partitionId\",spark_partition_id()).groupBy(\"island\").count().show()"
   ]
  }
 ],
 "metadata": {
  "kernelspec": {
   "display_name": "base",
   "language": "python",
   "name": "python3"
  },
  "language_info": {
   "codemirror_mode": {
    "name": "ipython",
    "version": 3
   },
   "file_extension": ".py",
   "mimetype": "text/x-python",
   "name": "python",
   "nbconvert_exporter": "python",
   "pygments_lexer": "ipython3",
   "version": "3.11.5"
  }
 },
 "nbformat": 4,
 "nbformat_minor": 2
}
