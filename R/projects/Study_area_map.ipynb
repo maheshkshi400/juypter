{
 "cells": [
  {
   "cell_type": "code",
   "execution_count": 1,
   "metadata": {
    "vscode": {
     "languageId": "r"
    }
   },
   "outputs": [
    {
     "name": "stderr",
     "output_type": "stream",
     "text": [
      "Warning message:\n",
      "\"package 'ggplot2' was built under R version 4.3.3\"\n",
      "Warning message:\n",
      "\"package 'sf' was built under R version 4.3.3\"\n",
      "Linking to GEOS 3.11.2, GDAL 3.8.2, PROJ 9.3.1; sf_use_s2() is TRUE\n",
      "\n",
      "Warning message:\n",
      "\"package 'rnaturalearth' was built under R version 4.3.3\"\n",
      "Warning message:\n",
      "\"package 'dplyr' was built under R version 4.3.3\"\n",
      "\n",
      "Attaching package: 'dplyr'\n",
      "\n",
      "\n",
      "The following objects are masked from 'package:stats':\n",
      "\n",
      "    filter, lag\n",
      "\n",
      "\n",
      "The following objects are masked from 'package:base':\n",
      "\n",
      "    intersect, setdiff, setequal, union\n",
      "\n",
      "\n",
      "Warning message:\n",
      "\"package 'viridis' was built under R version 4.3.3\"\n",
      "Loading required package: viridisLite\n",
      "\n"
     ]
    }
   ],
   "source": [
    "# Load libraries\n",
    "library(ggplot2)\n",
    "library(sf)\n",
    "library(rnaturalearth)\n",
    "library(dplyr)\n",
    "library(viridis)"
   ]
  },
  {
   "cell_type": "code",
   "execution_count": 2,
   "metadata": {
    "vscode": {
     "languageId": "r"
    }
   },
   "outputs": [],
   "source": [
    "# Load India map data at the state level\n",
    "india <- ne_states(country = \"India\", returnclass = \"sf\")\n"
   ]
  },
  {
   "cell_type": "code",
   "execution_count": 3,
   "metadata": {
    "vscode": {
     "languageId": "r"
    }
   },
   "outputs": [],
   "source": [
    "# Filter for Maharashtra (or your study area)\n",
    "study_area <- india %>% filter(name == \"Maharashtra\")\n"
   ]
  },
  {
   "cell_type": "code",
   "execution_count": 4,
   "metadata": {
    "vscode": {
     "languageId": "r"
    }
   },
   "outputs": [],
   "source": [
    "# Example biodiversity data (species richness for regions within the study area)\n",
    "biodiversity_data <- data.frame(\n",
    "  region = c(\"Maharashtra\"), # Adjust to your study regions\n",
    "  richness = c(150) # Example biodiversity metric\n",
    ")\n",
    "\n",
    "# Merge the biodiversity data with the map data\n",
    "study_area_biodiversity <- study_area %>%\n",
    "  left_join(biodiversity_data, by = c(\"name\" = \"region\"))\n"
   ]
  },
  {
   "cell_type": "code",
   "execution_count": 5,
   "metadata": {
    "vscode": {
     "languageId": "r"
    }
   },
   "outputs": [
    {
     "data": {
      "image/png": "[encoded data removed]",
      "text/plain": [
       "plot without title"
      ]
     },
     "metadata": {
      "image/png": {
       "height": 420,
       "width": 420
      }
     },
     "output_type": "display_data"
    }
   ],
   "source": [
    "# Plotting the study area map with biodiversity data\n",
    "ggplot(data = study_area_biodiversity) +\n",
    "  geom_sf(aes(fill = richness), color = \"black\") +\n",
    "  scale_fill_viridis(option = \"plasma\", name = \"Species Richness\") +\n",
    "  theme_minimal() +\n",
    "  labs(title = \"Biodiversity in Maharashtra (Study Area)\",\n",
    "       subtitle = \"Example Species Richness Data\",\n",
    "       x = \"Longitude\",\n",
    "       y = \"Latitude\") +\n",
    "  theme(legend.position = \"right\")\n"
   ]
  }
 ],
 "metadata": {
  "kernelspec": {
   "display_name": "R",
   "language": "R",
   "name": "ir"
  },
  "language_info": {
   "codemirror_mode": "r",
   "file_extension": ".r",
   "mimetype": "text/x-r-source",
   "name": "R",
   "pygments_lexer": "r",
   "version": "4.3.2"
  }
 },
 "nbformat": 4,
 "nbformat_minor": 2
}
