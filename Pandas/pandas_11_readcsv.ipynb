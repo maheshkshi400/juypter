{
 "cells": [
  {
   "cell_type": "code",
   "execution_count": 2,
   "metadata": {},
   "outputs": [
    {
     "name": "stdout",
     "output_type": "stream",
     "text": [
      "   Unnamed: 0       Day  temprature  windspeed events\n",
      "0           0  1/1/2017          32          2   rain\n",
      "1           1  1/2/2017          33          4   snow\n",
      "2           2  1/3/2017          40          6  sunny\n",
      "3           3  1/4/2017          41          3  sunny\n",
      "4           4  1/5/2017          15          7   snow\n",
      "5           5  1/6/2017          20          5   rain\n"
     ]
    }
   ],
   "source": [
    "import pandas as pd\n",
    "import numpy as np\n",
    "\n",
    "\n",
    "df = pd.read_csv('weatherData.csv')\n",
    "print(df)"
   ]
  },
  {
   "cell_type": "code",
   "execution_count": 4,
   "metadata": {},
   "outputs": [
    {
     "name": "stdout",
     "output_type": "stream",
     "text": [
      "   Unnamed: 0       Day  temprature  windspeed events\n",
      "0           0  1/1/2017          32          2   rain\n",
      "1           1  1/2/2017          33          4   snow\n",
      "2           2  1/3/2017          40          6  sunny\n",
      "3           3  1/4/2017          41          3  sunny\n",
      "4           4  1/5/2017          15          7   snow\n",
      "5           5  1/6/2017          20          5   rain\n"
     ]
    }
   ],
   "source": [
    "import pandas as pd\n",
    "import numpy as np\n",
    "\n",
    "\n",
    "df2 = pd.read_excel('weatherData.xlsx')\n",
    "print(df2)"
   ]
  },
  {
   "cell_type": "code",
   "execution_count": 5,
   "metadata": {
    "tags": []
   },
   "outputs": [
    {
     "name": "stdout",
     "output_type": "stream",
     "text": [
      "   id     f_name   l_name  gender      courses  fees   Discount exam_location  \\\n",
      "0   1     Ganesh   Misale    Male      Bigdata  71000      5000         Delhi   \n",
      "1   2      rachi  inamdar  Female      pyspark  34000      3000        mumbai   \n",
      "2   3  shreelila  sargude  Female       python  15000      2000       gurgaon   \n",
      "3   4      Rajat   Shinde    Male  informetica  15000      1000     Bangalore   \n",
      "4   5     Amulya   bankar  Female      bigdata  71000      7000       chennai   \n",
      "\n",
      "                  Date  temprarure  status  \n",
      "0  2014-12-07 00:00:00          17    Rain  \n",
      "1           17/07/2017          32  cloudy  \n",
      "2           18/07/2015          42     hot  \n",
      "3           17/11/2013          12    cold  \n",
      "4           23/08/2016          34     hot  \n"
     ]
    }
   ],
   "source": [
    "import pandas as pd\n",
    "import numpy as np\n",
    "\n",
    "\n",
    "df3 = pd.read_excel(\"data.xlsx.xlsx\")\n",
    "print(df3)"
   ]
  },
  {
   "cell_type": "code",
   "execution_count": 18,
   "metadata": {
    "tags": []
   },
   "outputs": [
    {
     "name": "stdout",
     "output_type": "stream",
     "text": [
      "       _id   Serial No            Timestamp  Temperature  Humidity\n",
      "0        1  1412101873  2014-10-01T00:01:13         23.4        80\n",
      "1        2  1412102180  2014-10-01T00:06:20         23.4        80\n",
      "2        3  1412102488  2014-10-01T00:11:28         23.4        80\n",
      "3        4  1412102796  2014-10-01T00:16:36         23.4        81\n",
      "4        5  1412103103  2014-10-01T00:21:43         23.4        81\n",
      "...    ...         ...                  ...          ...       ...\n",
      "8542  8543  1414778824  2014-10-31T23:37:04         22.5        74\n",
      "8543  8544  1414779131  2014-10-31T23:42:11         22.5        74\n",
      "8544  8545  1414779439  2014-10-31T23:47:19         22.5        74\n",
      "8545  8546  1414779747  2014-10-31T23:52:27         22.5        74\n",
      "8546  8547  1414780054  2014-10-31T23:57:34         22.5        74\n",
      "\n",
      "[8547 rows x 5 columns]\n"
     ]
    }
   ],
   "source": [
    "import pandas as pd\n",
    "import numpy as np\n",
    "\n",
    "\n",
    "df6 = pd.read_csv(\"weathereport.csv.csv\")\n",
    "print(df6)"
   ]
  },
  {
   "cell_type": "code",
   "execution_count": 21,
   "metadata": {},
   "outputs": [
    {
     "name": "stdout",
     "output_type": "stream",
     "text": [
      "    _id   Serial No            Timestamp  Temperature  Humidity\n",
      "0     1  1412101873  2014-10-01T00:01:13         23.4        80\n",
      "1     2  1412102180  2014-10-01T00:06:20         23.4        80\n",
      "2     3  1412102488  2014-10-01T00:11:28         23.4        80\n",
      "3     4  1412102796  2014-10-01T00:16:36         23.4        81\n",
      "4     5  1412103103  2014-10-01T00:21:43         23.4        81\n",
      "5     6  1412103411  2014-10-01T00:26:51         23.4        81\n",
      "6     7  1412103719  2014-10-01T00:31:59         23.3        81\n",
      "7     8  1412104026  2014-10-01T00:37:06         23.3        81\n",
      "8     9  1412104334  2014-10-01T00:42:14         23.3        81\n",
      "9    10  1412104641  2014-10-01T00:47:21         23.2        81\n",
      "10   11  1412104898  2014-10-01T00:51:38         23.2        81\n",
      "11   12  1412105205  2014-10-01T00:56:45         23.2        81\n",
      "12   13  1412105513  2014-10-01T01:01:53         23.2        81\n",
      "13   14  1412105821  2014-10-01T01:07:01         23.2        81\n",
      "14   15  1412106128  2014-10-01T01:12:08         23.2        81\n",
      "15   16  1412106436  2014-10-01T01:17:16         23.1        81\n",
      "16   17  1412106743  2014-10-01T01:22:23         23.0        81\n",
      "17   18  1412107050  2014-10-01T01:27:30         23.0        81\n",
      "18   19  1412107358  2014-10-01T01:32:38         23.0        81\n",
      "19   20  1412107666  2014-10-01T01:37:46         23.0        81\n",
      "20   21  1412107974  2014-10-01T01:42:54         22.9        81\n",
      "21   22  1412108281  2014-10-01T01:48:01         23.0        81\n",
      "22   23  1412108537  2014-10-01T01:52:17         23.0        81\n",
      "23   24  1412108845  2014-10-01T01:57:25         23.0        81\n",
      "24   25  1412109153  2014-10-01T02:02:33         23.0        81\n",
      "25   26  1412109460  2014-10-01T02:07:40         23.0        81\n",
      "26   27  1412109767  2014-10-01T02:12:47         23.0        81\n",
      "27   28  1412110076  2014-10-01T02:17:56         23.0        81\n",
      "28   29  1412110384  2014-10-01T02:23:04         23.0        81\n",
      "29   30  1412110691  2014-10-01T02:28:11         23.0        81\n"
     ]
    }
   ],
   "source": [
    "import pandas as pd\n",
    "import numpy as np\n",
    "\n",
    "\n",
    "df6 = pd.read_csv(\"weathereport.csv.csv\",nrows=30)\n",
    "print(df6)"
   ]
  },
  {
   "cell_type": "code",
   "execution_count": 24,
   "metadata": {},
   "outputs": [
    {
     "name": "stdout",
     "output_type": "stream",
     "text": [
      "                Timestamp  Temperature  Humidity\n",
      "0     2014-10-01T00:01:13         23.4        80\n",
      "1     2014-10-01T00:06:20         23.4        80\n",
      "2     2014-10-01T00:11:28         23.4        80\n",
      "3     2014-10-01T00:16:36         23.4        81\n",
      "4     2014-10-01T00:21:43         23.4        81\n",
      "...                   ...          ...       ...\n",
      "8542  2014-10-31T23:37:04         22.5        74\n",
      "8543  2014-10-31T23:42:11         22.5        74\n",
      "8544  2014-10-31T23:47:19         22.5        74\n",
      "8545  2014-10-31T23:52:27         22.5        74\n",
      "8546  2014-10-31T23:57:34         22.5        74\n",
      "\n",
      "[8547 rows x 3 columns]\n"
     ]
    }
   ],
   "source": [
    "import pandas as pd\n",
    "import numpy as np\n",
    "\n",
    "\n",
    "df6 = pd.read_csv(\"weathereport.csv.csv\",usecols=[\"Timestamp\",\"Temperature\",\"Humidity\"])\n",
    "print(df6)"
   ]
  },
  {
   "cell_type": "code",
   "execution_count": 25,
   "metadata": {},
   "outputs": [
    {
     "name": "stdout",
     "output_type": "stream",
     "text": [
      "                     Temperature  Humidity\n",
      "Timestamp                                 \n",
      "2014-10-01T00:01:13         23.4        80\n",
      "2014-10-01T00:06:20         23.4        80\n",
      "2014-10-01T00:11:28         23.4        80\n",
      "2014-10-01T00:16:36         23.4        81\n",
      "2014-10-01T00:21:43         23.4        81\n",
      "...                          ...       ...\n",
      "2014-10-31T23:37:04         22.5        74\n",
      "2014-10-31T23:42:11         22.5        74\n",
      "2014-10-31T23:47:19         22.5        74\n",
      "2014-10-31T23:52:27         22.5        74\n",
      "2014-10-31T23:57:34         22.5        74\n",
      "\n",
      "[8547 rows x 2 columns]\n"
     ]
    }
   ],
   "source": [
    "import pandas as pd\n",
    "import numpy as np\n",
    "\n",
    "\n",
    "df7 = pd.read_csv(\"weathereport.csv.csv\",usecols=[\"Timestamp\",\"Temperature\",\"Humidity\"],index_col='Timestamp')\n",
    "print(df7)"
   ]
  },
  {
   "cell_type": "code",
   "execution_count": 6,
   "metadata": {
    "tags": []
   },
   "outputs": [
    {
     "name": "stdout",
     "output_type": "stream",
     "text": [
      "    Unnamed: 0          Unnamed: 1\n",
      "0          NaN                 NaN\n",
      "1   Row Labels  Sum of Item amount\n",
      "2          Jan               68250\n",
      "3          Feb              307100\n",
      "4          Mar              611300\n",
      "5  Grand Total              986650\n"
     ]
    }
   ],
   "source": [
    "import pandas as pd\n",
    "import numpy as np\n",
    "\n",
    "\n",
    "df3 = pd.read_excel(\"V2 Salesdata.xlsx\")\n",
    "print(df3)"
   ]
  },
  {
   "cell_type": "code",
   "execution_count": 13,
   "metadata": {
    "tags": []
   },
   "outputs": [
    {
     "data": {
      "text/html": [
       "<div>\n",
       "<style scoped>\n",
       "    .dataframe tbody tr th:only-of-type {\n",
       "        vertical-align: middle;\n",
       "    }\n",
       "\n",
       "    .dataframe tbody tr th {\n",
       "        vertical-align: top;\n",
       "    }\n",
       "\n",
       "    .dataframe thead th {\n",
       "        text-align: right;\n",
       "    }\n",
       "</style>\n",
       "<table border=\"1\" class=\"dataframe\">\n",
       "  <thead>\n",
       "    <tr style=\"text-align: right;\">\n",
       "      <th></th>\n",
       "      <th>Unnamed: 0</th>\n",
       "      <th>Unnamed: 1</th>\n",
       "    </tr>\n",
       "  </thead>\n",
       "  <tbody>\n",
       "    <tr>\n",
       "      <th>0</th>\n",
       "      <td>NaN</td>\n",
       "      <td>NaN</td>\n",
       "    </tr>\n",
       "    <tr>\n",
       "      <th>1</th>\n",
       "      <td>Row Labels</td>\n",
       "      <td>Sum of Item amount</td>\n",
       "    </tr>\n",
       "    <tr>\n",
       "      <th>2</th>\n",
       "      <td>Jan</td>\n",
       "      <td>68250</td>\n",
       "    </tr>\n",
       "    <tr>\n",
       "      <th>3</th>\n",
       "      <td>Feb</td>\n",
       "      <td>307100</td>\n",
       "    </tr>\n",
       "    <tr>\n",
       "      <th>4</th>\n",
       "      <td>Mar</td>\n",
       "      <td>611300</td>\n",
       "    </tr>\n",
       "  </tbody>\n",
       "</table>\n",
       "</div>"
      ],
      "text/plain": [
       "   Unnamed: 0          Unnamed: 1\n",
       "0         NaN                 NaN\n",
       "1  Row Labels  Sum of Item amount\n",
       "2         Jan               68250\n",
       "3         Feb              307100\n",
       "4         Mar              611300"
      ]
     },
     "execution_count": 13,
     "metadata": {},
     "output_type": "execute_result"
    }
   ],
   "source": [
    "df4=df3.head(5)\n",
    "df4"
   ]
  }
 ],
 "metadata": {
  "kernelspec": {
   "display_name": "base",
   "language": "python",
   "name": "python3"
  },
  "language_info": {
   "codemirror_mode": {
    "name": "ipython",
    "version": 3
   },
   "file_extension": ".py",
   "mimetype": "text/x-python",
   "name": "python",
   "nbconvert_exporter": "python",
   "pygments_lexer": "ipython3",
   "version": "3.11.5"
  }
 },
 "nbformat": 4,
 "nbformat_minor": 4
}
