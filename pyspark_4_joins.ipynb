{
 "cells": [
  {
   "cell_type": "code",
   "execution_count": 3,
   "metadata": {},
   "outputs": [
    {
     "name": "stdout",
     "output_type": "stream",
     "text": [
      "+---+-------+------+---+------+-------+------+\n",
      "| id|   name|gender|age|salary|   dept|deptno|\n",
      "+---+-------+------+---+------+-------+------+\n",
      "|  1| mahesh|  male| 20|  5000|     IT|    50|\n",
      "|  2|shruthi|female| 30|  6000|     HR|    20|\n",
      "|  3| ganesh|  male| 25|  7000|FINANCE|    30|\n",
      "|  4|  pooja|female| 34|  8000|PAYROLL|    40|\n",
      "|  5| kamini|female| 31|  6000|     IT|    50|\n",
      "+---+-------+------+---+------+-------+------+\n",
      "\n",
      "+---+-------+------+---+------+-------+------+\n",
      "| id|   name|gender|age|salary|   dept|deptno|\n",
      "+---+-------+------+---+------+-------+------+\n",
      "|  1|shivaji|  male| 20|  8000|     IT|    50|\n",
      "|  2|shruthi|female| 30|  6000|     HR|    20|\n",
      "|  3| suresh|  male| 25| 10000|FINANCE|    30|\n",
      "|  4|shivani|female| 34| 11000|PAYROLL|    40|\n",
      "|  5| prachi|female| 30|  6000|     IT|    50|\n",
      "+---+-------+------+---+------+-------+------+\n",
      "\n"
     ]
    }
   ],
   "source": [
    "from pyspark.sql import SparkSession\n",
    "\n",
    "# Create a SparkSession\n",
    "spark = SparkSession.builder.appName(\"https://github.com/maheshkshi400/MK\").getOrCreate()\n",
    "\n",
    "\n",
    "\n",
    "data1 = [(1,'mahesh','male',20,5000,'IT',50),\n",
    "         (2,'shruthi','female',30,6000,'HR',20),\n",
    "         (3,'ganesh','male',25,7000,'FINANCE',30),\n",
    "         (4,'pooja','female',34,8000,'PAYROLL',40),\n",
    "         (5,'kamini','female',31,6000,'IT',50)]\n",
    "\n",
    "schema1 = ['id','name','gender','age','salary','dept','deptno']\n",
    "\n",
    "data2 = [(1,'shivaji','male',20,8000,'IT',50),\n",
    "         (2,'shruthi','female',30,6000,'HR',20),\n",
    "         (3,'suresh','male',25,10000,'FINANCE',30),\n",
    "         (4,'shivani','female',34,11000,'PAYROLL',40),\n",
    "         (5,'prachi','female',30,6000,'IT',50)]\n",
    "\n",
    "schema2 = ['id','name','gender','age','salary','dept','deptno']\n",
    "\n",
    "df1 = spark.createDataFrame(data1,schema1)\n",
    "df2 = spark.createDataFrame(data2,schema2)\n",
    "\n",
    "df1.show()\n",
    "df2.show()"
   ]
  },
  {
   "cell_type": "code",
   "execution_count": 16,
   "metadata": {},
   "outputs": [
    {
     "name": "stdout",
     "output_type": "stream",
     "text": [
      "+---+-------+------+---+------+-------+------+---+-------+------+---+------+-------+------+\n",
      "| id|   name|gender|age|salary|   dept|deptno| id|   name|gender|age|salary|   dept|deptno|\n",
      "+---+-------+------+---+------+-------+------+---+-------+------+---+------+-------+------+\n",
      "|  1| mahesh|  male| 20|  5000|     IT|    50|  1|shivaji|  male| 20|  8000|     IT|    50|\n",
      "|  2|shruthi|female| 30|  6000|     HR|    20|  2|shruthi|female| 30|  6000|     HR|    20|\n",
      "|  3| ganesh|  male| 25|  7000|FINANCE|    30|  3| suresh|  male| 25| 10000|FINANCE|    30|\n",
      "|  5| kamini|female| 31|  6000|     IT|    50|  5| prachi|female| 30|  6000|     IT|    50|\n",
      "|  4|  pooja|female| 34|  8000|PAYROLL|    40|  4|shivani|female| 34| 11000|PAYROLL|    40|\n",
      "+---+-------+------+---+------+-------+------+---+-------+------+---+------+-------+------+\n",
      "\n"
     ]
    }
   ],
   "source": [
    "empdf=df1.join(df2,df1.id==df2.id,\"left\")\n",
    "empdf.show()"
   ]
  },
  {
   "cell_type": "code",
   "execution_count": 17,
   "metadata": {},
   "outputs": [
    {
     "name": "stdout",
     "output_type": "stream",
     "text": [
      "+---+-------+------+---+------+-------+------+---+-------+------+---+------+-------+------+\n",
      "| id|   name|gender|age|salary|   dept|deptno| id|   name|gender|age|salary|   dept|deptno|\n",
      "+---+-------+------+---+------+-------+------+---+-------+------+---+------+-------+------+\n",
      "|  1| mahesh|  male| 20|  5000|     IT|    50|  1|shivaji|  male| 20|  8000|     IT|    50|\n",
      "|  2|shruthi|female| 30|  6000|     HR|    20|  2|shruthi|female| 30|  6000|     HR|    20|\n",
      "|  3| ganesh|  male| 25|  7000|FINANCE|    30|  3| suresh|  male| 25| 10000|FINANCE|    30|\n",
      "|  5| kamini|female| 31|  6000|     IT|    50|  5| prachi|female| 30|  6000|     IT|    50|\n",
      "|  4|  pooja|female| 34|  8000|PAYROLL|    40|  4|shivani|female| 34| 11000|PAYROLL|    40|\n",
      "+---+-------+------+---+------+-------+------+---+-------+------+---+------+-------+------+\n",
      "\n"
     ]
    }
   ],
   "source": [
    "empdf=df1.join(df2,df1.id==df2.id,\"right\")\n",
    "empdf.show()"
   ]
  },
  {
   "cell_type": "code",
   "execution_count": 18,
   "metadata": {},
   "outputs": [
    {
     "name": "stdout",
     "output_type": "stream",
     "text": [
      "+---+-------+------+---+------+-------+------+---+-------+------+---+------+-------+------+\n",
      "| id|   name|gender|age|salary|   dept|deptno| id|   name|gender|age|salary|   dept|deptno|\n",
      "+---+-------+------+---+------+-------+------+---+-------+------+---+------+-------+------+\n",
      "|  1| mahesh|  male| 20|  5000|     IT|    50|  1|shivaji|  male| 20|  8000|     IT|    50|\n",
      "|  2|shruthi|female| 30|  6000|     HR|    20|  2|shruthi|female| 30|  6000|     HR|    20|\n",
      "|  3| ganesh|  male| 25|  7000|FINANCE|    30|  3| suresh|  male| 25| 10000|FINANCE|    30|\n",
      "|  4|  pooja|female| 34|  8000|PAYROLL|    40|  4|shivani|female| 34| 11000|PAYROLL|    40|\n",
      "|  5| kamini|female| 31|  6000|     IT|    50|  5| prachi|female| 30|  6000|     IT|    50|\n",
      "+---+-------+------+---+------+-------+------+---+-------+------+---+------+-------+------+\n",
      "\n"
     ]
    }
   ],
   "source": [
    "empdf=df1.join(df2,df1.id==df2.id,\"full\")\n",
    "empdf.show()"
   ]
  },
  {
   "cell_type": "code",
   "execution_count": 19,
   "metadata": {},
   "outputs": [
    {
     "name": "stdout",
     "output_type": "stream",
     "text": [
      "+---+----+------+---+------+----+------+\n",
      "| id|name|gender|age|salary|dept|deptno|\n",
      "+---+----+------+---+------+----+------+\n",
      "+---+----+------+---+------+----+------+\n",
      "\n"
     ]
    }
   ],
   "source": [
    "empdf=df1.join(df2,df1.id==df2.id,\"anti\")\n",
    "empdf.show()"
   ]
  },
  {
   "cell_type": "code",
   "execution_count": 20,
   "metadata": {},
   "outputs": [
    {
     "name": "stdout",
     "output_type": "stream",
     "text": [
      "+---+-------+------+---+------+-------+------+\n",
      "| id|   name|gender|age|salary|   dept|deptno|\n",
      "+---+-------+------+---+------+-------+------+\n",
      "|  1| mahesh|  male| 20|  5000|     IT|    50|\n",
      "|  2|shruthi|female| 30|  6000|     HR|    20|\n",
      "|  3| ganesh|  male| 25|  7000|FINANCE|    30|\n",
      "|  4|  pooja|female| 34|  8000|PAYROLL|    40|\n",
      "|  5| kamini|female| 31|  6000|     IT|    50|\n",
      "+---+-------+------+---+------+-------+------+\n",
      "\n"
     ]
    }
   ],
   "source": [
    "empdf=df1.join(df2,df1.id==df2.id,\"semi\")\n",
    "empdf.show()"
   ]
  },
  {
   "cell_type": "code",
   "execution_count": 15,
   "metadata": {},
   "outputs": [
    {
     "name": "stdout",
     "output_type": "stream",
     "text": [
      "+---+-------+------+---+------+-------+------+---+-------+------+---+------+-------+------+\n",
      "| id|   name|gender|age|salary|   dept|deptno| id|   name|gender|age|salary|   dept|deptno|\n",
      "+---+-------+------+---+------+-------+------+---+-------+------+---+------+-------+------+\n",
      "|  1| mahesh|  male| 20|  5000|     IT|    50|  1|shivaji|  male| 20|  8000|     IT|    50|\n",
      "|  2|shruthi|female| 30|  6000|     HR|    20|  2|shruthi|female| 30|  6000|     HR|    20|\n",
      "|  3| ganesh|  male| 25|  7000|FINANCE|    30|  3| suresh|  male| 25| 10000|FINANCE|    30|\n",
      "|  4|  pooja|female| 34|  8000|PAYROLL|    40|  4|shivani|female| 34| 11000|PAYROLL|    40|\n",
      "|  5| kamini|female| 31|  6000|     IT|    50|  5| prachi|female| 30|  6000|     IT|    50|\n",
      "+---+-------+------+---+------+-------+------+---+-------+------+---+------+-------+------+\n",
      "\n"
     ]
    }
   ],
   "source": [
    "empdf=df1.join(df2,df1.id==df2.id,\"inner\")\n",
    "empdf.show()"
   ]
  }
 ],
 "metadata": {
  "kernelspec": {
   "display_name": "base",
   "language": "python",
   "name": "python3"
  },
  "language_info": {
   "codemirror_mode": {
    "name": "ipython",
    "version": 3
   },
   "file_extension": ".py",
   "mimetype": "text/x-python",
   "name": "python",
   "nbconvert_exporter": "python",
   "pygments_lexer": "ipython3",
   "version": "3.11.5"
  }
 },
 "nbformat": 4,
 "nbformat_minor": 2
}
