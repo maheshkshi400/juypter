{
 "cells": [
  {
   "cell_type": "code",
   "execution_count": 2,
   "id": "3b96d4e7-3d88-4241-a399-9c8ef855cc37",
   "metadata": {},
   "outputs": [
    {
     "name": "stdout",
     "output_type": "stream",
     "text": [
      "+---+-----------------+------+----+------+-------+------+---------+\n",
      "| id|             name|gender| age|salary|   dept|deptno|      doj|\n",
      "+---+-----------------+------+----+------+-------+------+---------+\n",
      "|  1|Mahesh Kshirsagar|  male|  20|  5000|     IT|    50|19-4-2011|\n",
      "|  2|   Shruthi Sharma|female|None|  6000|     HR|  NULL|20-5-2007|\n",
      "|  3|   Ganesh Kenjale|  male|  25|  NULL|FINANCE|    30|     NULL|\n",
      "|  4|    Pooja Chandra|female|NULL|  8000|PAYROLL|    40|14-4-1998|\n",
      "|  5|     kamini sinha|female|  31|  6000|     IT|    50|20-5-2002|\n",
      "|  6|        Rahul Roy|  NULL|  28|  NULL|   NULL|    10|31-8-2015|\n",
      "|  7|    Shweta Tiwari|female|  30|  6000|     HR|    20|     NULL|\n",
      "|  8|   suresh Katwani|  NULL|  25| 10000|FINANCE|    30|22-3-2007|\n",
      "|  9|             NULL|  NULL|NULL|  NULL|   NULL|  NULL|     NULL|\n",
      "| 10|   prachi Inamdar|female|  30|  6000|   NULL|    50|     NULL|\n",
      "+---+-----------------+------+----+------+-------+------+---------+\n",
      "\n"
     ]
    }
   ],
   "source": [
    "from pyspark.sql import SparkSession\n",
    "\n",
    "# Create a SparkSession\n",
    "spark = SparkSession.builder.appName(\"https://github.com/maheshkshi400/MK\").getOrCreate()\n",
    "\n",
    "\n",
    "\n",
    "df = spark.read.format('csv') \\\n",
    "    .option('inferschema', True) \\\n",
    "    .option('header',True)\\\n",
    "    .option('sep',\",\")\\\n",
    "    .load('C:/Users/Pc/juypter/empdf12.csv')\n",
    "df.show()"
   ]
  },
  {
   "cell_type": "code",
   "execution_count": 3,
   "id": "8bd86849",
   "metadata": {},
   "outputs": [
    {
     "name": "stdout",
     "output_type": "stream",
     "text": [
      "['id', 'name', 'gender', 'age', 'salary', 'dept', 'deptno', 'doj']\n"
     ]
    }
   ],
   "source": [
    "# create iterable data\n",
    "\n",
    "column_list = df.columns\n",
    "print(column_list)"
   ]
  },
  {
   "cell_type": "code",
   "execution_count": 6,
   "id": "1f038300",
   "metadata": {},
   "outputs": [
    {
     "name": "stdout",
     "output_type": "stream",
     "text": [
      "id,name,gender,age,salary,dept,deptno,doj\n",
      "Unexpected exception formatting exception. Falling back to standard exception\n"
     ]
    },
    {
     "name": "stderr",
     "output_type": "stream",
     "text": [
      "Traceback (most recent call last):\n",
      "  File \"C:\\Users\\Pc\\AppData\\Roaming\\Python\\Python311\\site-packages\\IPython\\core\\interactiveshell.py\", line 3526, in run_code\n",
      "    exec(code_obj, self.user_global_ns, self.user_ns)\n",
      "  File \"C:\\Users\\Pc\\AppData\\Local\\Temp\\ipykernel_2408\\3184135380.py\", line 5, in <module>\n",
      "    joined_string.show()\n",
      "    ^^^^^^^^^^^^^^^^^^\n",
      "AttributeError: 'str' object has no attribute 'show'\n",
      "\n",
      "During handling of the above exception, another exception occurred:\n",
      "\n",
      "Traceback (most recent call last):\n",
      "  File \"C:\\Users\\Pc\\AppData\\Roaming\\Python\\Python311\\site-packages\\IPython\\core\\interactiveshell.py\", line 2120, in showtraceback\n",
      "    stb = self.InteractiveTB.structured_traceback(\n",
      "          ^^^^^^^^^^^^^^^^^^^^^^^^^^^^^^^^^^^^^^^^\n",
      "  File \"C:\\Users\\Pc\\AppData\\Roaming\\Python\\Python311\\site-packages\\IPython\\core\\ultratb.py\", line 1435, in structured_traceback\n",
      "    return FormattedTB.structured_traceback(\n",
      "           ^^^^^^^^^^^^^^^^^^^^^^^^^^^^^^^^^\n",
      "  File \"C:\\Users\\Pc\\AppData\\Roaming\\Python\\Python311\\site-packages\\IPython\\core\\ultratb.py\", line 1326, in structured_traceback\n",
      "    return VerboseTB.structured_traceback(\n",
      "           ^^^^^^^^^^^^^^^^^^^^^^^^^^^^^^^\n",
      "  File \"C:\\Users\\Pc\\AppData\\Roaming\\Python\\Python311\\site-packages\\IPython\\core\\ultratb.py\", line 1173, in structured_traceback\n",
      "    formatted_exception = self.format_exception_as_a_whole(etype, evalue, etb, number_of_lines_of_context,\n",
      "                          ^^^^^^^^^^^^^^^^^^^^^^^^^^^^^^^^^^^^^^^^^^^^^^^^^^^^^^^^^^^^^^^^^^^^^^^^^^^^^^^^\n",
      "  File \"C:\\Users\\Pc\\AppData\\Roaming\\Python\\Python311\\site-packages\\IPython\\core\\ultratb.py\", line 1088, in format_exception_as_a_whole\n",
      "    frames.append(self.format_record(record))\n",
      "                  ^^^^^^^^^^^^^^^^^^^^^^^^^^\n",
      "  File \"C:\\Users\\Pc\\AppData\\Roaming\\Python\\Python311\\site-packages\\IPython\\core\\ultratb.py\", line 970, in format_record\n",
      "    frame_info.lines, Colors, self.has_colors, lvals\n",
      "    ^^^^^^^^^^^^^^^^\n",
      "  File \"C:\\Users\\Pc\\AppData\\Roaming\\Python\\Python311\\site-packages\\IPython\\core\\ultratb.py\", line 792, in lines\n",
      "    return self._sd.lines\n",
      "           ^^^^^^^^^^^^^^\n",
      "  File \"C:\\Users\\Pc\\AppData\\Roaming\\Python\\Python311\\site-packages\\stack_data\\utils.py\", line 144, in cached_property_wrapper\n",
      "    value = obj.__dict__[self.func.__name__] = self.func(obj)\n",
      "                                               ^^^^^^^^^^^^^^\n",
      "  File \"C:\\Users\\Pc\\AppData\\Roaming\\Python\\Python311\\site-packages\\stack_data\\core.py\", line 734, in lines\n",
      "    pieces = self.included_pieces\n",
      "             ^^^^^^^^^^^^^^^^^^^^\n",
      "  File \"C:\\Users\\Pc\\AppData\\Roaming\\Python\\Python311\\site-packages\\stack_data\\utils.py\", line 144, in cached_property_wrapper\n",
      "    value = obj.__dict__[self.func.__name__] = self.func(obj)\n",
      "                                               ^^^^^^^^^^^^^^\n",
      "  File \"C:\\Users\\Pc\\AppData\\Roaming\\Python\\Python311\\site-packages\\stack_data\\core.py\", line 677, in included_pieces\n",
      "    scope_pieces = self.scope_pieces\n",
      "                   ^^^^^^^^^^^^^^^^^\n",
      "  File \"C:\\Users\\Pc\\AppData\\Roaming\\Python\\Python311\\site-packages\\stack_data\\utils.py\", line 144, in cached_property_wrapper\n",
      "    value = obj.__dict__[self.func.__name__] = self.func(obj)\n",
      "                                               ^^^^^^^^^^^^^^\n",
      "  File \"C:\\Users\\Pc\\AppData\\Roaming\\Python\\Python311\\site-packages\\stack_data\\core.py\", line 614, in scope_pieces\n",
      "    scope_start, scope_end = self.source.line_range(self.scope)\n",
      "                             ^^^^^^^^^^^^^^^^^^^^^^^^^^^^^^^^^^\n",
      "  File \"C:\\Users\\Pc\\AppData\\Roaming\\Python\\Python311\\site-packages\\stack_data\\core.py\", line 178, in line_range\n",
      "    return line_range(self.asttext(), node)\n",
      "                      ^^^^^^^^^^^^\n",
      "AttributeError: 'Source' object has no attribute 'asttext'\n"
     ]
    }
   ],
   "source": [
    "# join the string\n",
    "\n",
    "joined_string = \",\".join(column_list)\n",
    "print(joined_string)\n",
    "joined_string.show()"
   ]
  },
  {
   "cell_type": "code",
   "execution_count": 7,
   "id": "cd083b0f",
   "metadata": {},
   "outputs": [
    {
     "name": "stdout",
     "output_type": "stream",
     "text": [
      "Target.id=Source.idANDTarget.name=Source.nameANDTarget.gender=Source.genderANDTarget.age=Source.ageANDTarget.salary=Source.salaryANDTarget.dept=Source.deptANDTarget.deptno=Source.deptnoANDTarget.doj=Source.doj\n"
     ]
    }
   ],
   "source": [
    "#use cases\n",
    "\n",
    "joinstring =\"AND\".join(list(map(lambda x:(\"Target.\" + x +\"=Source.\" +x),column_list)))\n",
    "\n",
    "print(joinstring)\n"
   ]
  },
  {
   "cell_type": "code",
   "execution_count": 8,
   "id": "7d294db2",
   "metadata": {},
   "outputs": [
    {
     "name": "stdout",
     "output_type": "stream",
     "text": [
      "Target.id=Source.id,Target.name=Source.name,Target.gender=Source.gender,Target.age=Source.age,Target.salary=Source.salary,Target.dept=Source.dept,Target.deptno=Source.deptno,Target.doj=Source.doj\n"
     ]
    }
   ],
   "source": [
    "updateString = \",\".join(list(map(lambda x: (\"Target.\" + x +\"=Source.\" +x),column_list)))\n",
    "print(updateString)"
   ]
  },
  {
   "cell_type": "code",
   "execution_count": 9,
   "id": "7255d924",
   "metadata": {},
   "outputs": [
    {
     "name": "stdout",
     "output_type": "stream",
     "text": [
      "Source.id,Source.name,Source.gender,Source.age,Source.salary,Source.dept,Source.deptno,Source.doj\n"
     ]
    }
   ],
   "source": [
    "sourceinsertstring = \",\".join(list(map(lambda x:(\"Source.\"+x),column_list)))\n",
    "print(sourceinsertstring)"
   ]
  }
 ],
 "metadata": {
  "kernelspec": {
   "display_name": "Python 3 (ipykernel)",
   "language": "python",
   "name": "python3"
  },
  "language_info": {
   "codemirror_mode": {
    "name": "ipython",
    "version": 3
   },
   "file_extension": ".py",
   "mimetype": "text/x-python",
   "name": "python",
   "nbconvert_exporter": "python",
   "pygments_lexer": "ipython3",
   "version": "3.11.5"
  }
 },
 "nbformat": 4,
 "nbformat_minor": 5
}
