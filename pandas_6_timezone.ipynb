{
 "cells": [
  {
   "cell_type": "code",
   "execution_count": 1,
   "metadata": {},
   "outputs": [
    {
     "name": "stdout",
     "output_type": "stream",
     "text": [
      "                     X\n",
      "2014-01-01 21:55:00  1\n",
      "2014-01-01 21:55:15  1\n",
      "2014-01-01 21:55:30  1\n",
      "2014-01-01 21:55:45  1\n",
      "2014-01-01 21:56:00  1\n"
     ]
    }
   ],
   "source": [
    "\n",
    "import pandas as pd\n",
    "import pytz\n",
    "\n",
    "index = pd.date_range('20140101 21:55', freq='15S', periods=5)\n",
    "df = pd.DataFrame(1, index=index, columns=['X'])\n",
    "print(df)"
   ]
  },
  {
   "cell_type": "code",
   "execution_count": 13,
   "metadata": {},
   "outputs": [
    {
     "data": {
      "text/plain": [
       "DatetimeIndex(['2020-01-01', '2020-01-02', '2020-01-03', '2020-01-04',\n",
       "               '2020-01-05'],\n",
       "              dtype='datetime64[ns]', freq='D')"
      ]
     },
     "execution_count": 13,
     "metadata": {},
     "output_type": "execute_result"
    }
   ],
   "source": [
    "pd.date_range(start=\"2020 Jan 1\", periods=5)"
   ]
  },
  {
   "cell_type": "code",
   "execution_count": 14,
   "metadata": {},
   "outputs": [
    {
     "data": {
      "text/plain": [
       "DatetimeIndex(['2020-01-01', '2020-01-02', '2020-01-03', '2020-01-04',\n",
       "               '2020-01-05'],\n",
       "              dtype='datetime64[ns]', freq='D')"
      ]
     },
     "execution_count": 14,
     "metadata": {},
     "output_type": "execute_result"
    }
   ],
   "source": [
    "pd.date_range(start=\"1-1-2020\", end=\"1-5-2020\", freq=\"D\")"
   ]
  },
  {
   "cell_type": "code",
   "execution_count": 15,
   "metadata": {},
   "outputs": [
    {
     "data": {
      "text/plain": [
       "DatetimeIndex(['2020-01-01', '2020-01-02', '2020-01-03', '2020-01-06',\n",
       "               '2020-01-07', '2020-01-08', '2020-01-09', '2020-01-10'],\n",
       "              dtype='datetime64[ns]', freq='B')"
      ]
     },
     "execution_count": 15,
     "metadata": {},
     "output_type": "execute_result"
    }
   ],
   "source": [
    "pd.date_range(start=\"1-1-2020\", end=\"1-10-2020\", freq=\"B\")"
   ]
  },
  {
   "cell_type": "code",
   "execution_count": 16,
   "metadata": {},
   "outputs": [
    {
     "data": {
      "text/plain": [
       "DatetimeIndex(['2020-01-01 00:00:00', '2020-01-01 01:00:00',\n",
       "               '2020-01-01 02:00:00', '2020-01-01 03:00:00',\n",
       "               '2020-01-01 04:00:00', '2020-01-01 05:00:00'],\n",
       "              dtype='datetime64[ns]', freq='H')"
      ]
     },
     "execution_count": 16,
     "metadata": {},
     "output_type": "execute_result"
    }
   ],
   "source": [
    "pd.date_range(start=\"1-1-2020 00:00\", end=\"1-1-2020 5:00\", freq=\"H\")"
   ]
  },
  {
   "cell_type": "code",
   "execution_count": 17,
   "metadata": {},
   "outputs": [
    {
     "name": "stdout",
     "output_type": "stream",
     "text": [
      "DatetimeIndex(['2020-01-01 00:00:00', '2020-01-01 00:01:00',\n",
      "               '2020-01-01 00:02:00', '2020-01-01 00:03:00',\n",
      "               '2020-01-01 00:04:00', '2020-01-01 00:05:00'],\n",
      "              dtype='datetime64[ns]', freq='T')\n",
      "DatetimeIndex(['2020-01-01 00:00:00', '2020-01-01 00:02:00',\n",
      "               '2020-01-01 00:04:00'],\n",
      "              dtype='datetime64[ns]', freq='2T')\n"
     ]
    }
   ],
   "source": [
    "print(pd.date_range(start=\"1-1-2020 00:00\", end=\"1-1-2020 00:05\", freq=\"T\"))\n",
    "print(pd.date_range(start=\"1-1-2020 00:00\", end=\"1-1-2020 00:05\", freq=\"2min\"))"
   ]
  },
  {
   "cell_type": "code",
   "execution_count": 18,
   "metadata": {},
   "outputs": [
    {
     "data": {
      "text/plain": [
       "DatetimeIndex(['2020-01-01 00:00:00', '2020-01-02 04:00:30',\n",
       "               '2020-01-03 08:01:00', '2020-01-04 12:01:30',\n",
       "               '2020-01-05 16:02:00', '2020-01-06 20:02:30',\n",
       "               '2020-01-08 00:03:00', '2020-01-09 04:03:30'],\n",
       "              dtype='datetime64[ns]', freq='100830S')"
      ]
     },
     "execution_count": 18,
     "metadata": {},
     "output_type": "execute_result"
    }
   ],
   "source": [
    "pd.date_range(start=\"1-1-2020\", end=\"1-10-2020\", freq=\"1D4H30S\")"
   ]
  },
  {
   "cell_type": "code",
   "execution_count": 19,
   "metadata": {},
   "outputs": [
    {
     "data": {
      "text/plain": [
       "DatetimeIndex(['2020-01-01', '2020-01-02', '2020-01-03'], dtype='datetime64[ns]', freq=None)"
      ]
     },
     "execution_count": 19,
     "metadata": {},
     "output_type": "execute_result"
    }
   ],
   "source": [
    "pd.to_datetime([\"1-1-2020\",\"1-2-2020\", \"1-3-2020\"])"
   ]
  },
  {
   "cell_type": "code",
   "execution_count": 20,
   "metadata": {},
   "outputs": [
    {
     "data": {
      "text/plain": [
       "Timestamp('2020-01-01 00:00:00')"
      ]
     },
     "execution_count": 20,
     "metadata": {},
     "output_type": "execute_result"
    }
   ],
   "source": [
    "pd.Timestamp(\"Jan 2020\")"
   ]
  },
  {
   "cell_type": "code",
   "execution_count": 21,
   "metadata": {},
   "outputs": [
    {
     "data": {
      "text/plain": [
       "(Timedelta('0 days 01:01:35'), Timedelta('-1 days +22:58:25'))"
      ]
     },
     "execution_count": 21,
     "metadata": {},
     "output_type": "execute_result"
    }
   ],
   "source": [
    "t1 = pd.Timestamp(\"12 Jan 2020 12:12:45\")\n",
    "t2 = pd.Timestamp(\"12 Jan 2020 13:14:20\")\n",
    "\n",
    "(t2 -t1), (t1 - t2)"
   ]
  },
  {
   "cell_type": "code",
   "execution_count": 5,
   "metadata": {},
   "outputs": [
    {
     "name": "stdout",
     "output_type": "stream",
     "text": [
      "The current timezone is: 16:58:30\n"
     ]
    }
   ],
   "source": [
    "import time  \n",
    "  \n",
    "current_time = time.localtime()  \n",
    "current_clock = time.strftime(\"%H:%M:%S\", current_time)  \n",
    "  \n",
    "print(\"The current timezone is:\", current_clock)"
   ]
  }
 ],
 "metadata": {
  "kernelspec": {
   "display_name": "base",
   "language": "python",
   "name": "python3"
  },
  "language_info": {
   "codemirror_mode": {
    "name": "ipython",
    "version": 3
   },
   "file_extension": ".py",
   "mimetype": "text/x-python",
   "name": "python",
   "nbconvert_exporter": "python",
   "pygments_lexer": "ipython3",
   "version": "3.11.5"
  }
 },
 "nbformat": 4,
 "nbformat_minor": 2
}
