{
 "cells": [
  {
   "cell_type": "code",
   "execution_count": 2,
   "id": "af285f06-1afa-4cd6-b52a-727207d480bb",
   "metadata": {
    "tags": []
   },
   "outputs": [
    {
     "name": "stdout",
     "output_type": "stream",
     "text": [
      "+---+-------+----------+------+---+------+-------+----+\n",
      "| id| f_name|    l_name|gender|age|salary|   dept| doj|\n",
      "+---+-------+----------+------+---+------+-------+----+\n",
      "|  1| mahesh|kshirsagar|  male| 20|  5000|     IT|2002|\n",
      "|  2|shruthi|   kachave|female| 30|  6000|     HR|2008|\n",
      "|  3| ganesh|   kenjale|  male| 25|  7000|FINANCE|2010|\n",
      "|  4|  pooja|     bhate|female| 34|  8000|PAYROLL|2005|\n",
      "|  5| kamini|     kadam|female| 31|  6000|     IT|2007|\n",
      "|  6|shivaji|    nemade|  male| 20|  8000|     IT|1004|\n",
      "|  7| shweta|   lakhani|female| 30|  6000|     HR|1998|\n",
      "|  8| suresh|     kirve|  male| 25| 10000|FINANCE|2011|\n",
      "|  9|shivani|    jagtap|  NULL| 34| 11000|PAYROLL|2013|\n",
      "| 10| prachi|   inamdar|female| 30|  6000|     IT|2001|\n",
      "+---+-------+----------+------+---+------+-------+----+\n",
      "\n"
     ]
    }
   ],
   "source": [
    "from pyspark.sql import SparkSession\n",
    "\n",
    "# Create a SparkSession\n",
    "spark = SparkSession.builder.appName(\"https://github.com/maheshkshi400/MK\").getOrCreate()\n",
    "\n",
    "\n",
    "\n",
    "data1 = [(1,'mahesh','kshirsagar','male',20,5000,'IT',2002),\n",
    "         (2,'shruthi','kachave','female',30,6000,'HR',2008),\n",
    "         (3,'ganesh','kenjale','male',25,7000,'FINANCE',2010),\n",
    "         (4,'pooja','bhate','female',34,8000,'PAYROLL',2005),\n",
    "         (5,'kamini','kadam','female',31,6000,'IT',2007),\n",
    "         (6,'shivaji','nemade','male',20,8000,'IT',1004),\n",
    "         (7,'shweta','lakhani','female',30,6000,'HR',1998),\n",
    "         (8,'suresh','kirve','male',25,10000,'FINANCE',2011),\n",
    "         (9,'shivani','jagtap',None,34,11000,'PAYROLL',2013),\n",
    "         (10,'prachi','inamdar','female',30,6000,'IT',2001)]\n",
    "\n",
    "schema1 = ['id','f_name','l_name','gender','age','salary','dept','doj']\n",
    "\n",
    "empdf = spark.createDataFrame(data1,schema1)\n",
    "\n",
    "empdf.show()"
   ]
  },
  {
   "cell_type": "code",
   "execution_count": 3,
   "id": "6862090a-976f-4305-93e7-0a6c2f4ff659",
   "metadata": {
    "tags": []
   },
   "outputs": [
    {
     "name": "stdout",
     "output_type": "stream",
     "text": [
      "+------+-------+\n",
      "|deptno|   dept|\n",
      "+------+-------+\n",
      "|    20|     HR|\n",
      "|    30|FINANCE|\n",
      "|    40|PAYROLL|\n",
      "|    50|     IT|\n",
      "+------+-------+\n",
      "\n"
     ]
    }
   ],
   "source": [
    "from pyspark.sql import SparkSession\n",
    "\n",
    "# Create a SparkSession\n",
    "spark = SparkSession.builder.appName(\"https://github.com/maheshkshi400/MK\").getOrCreate()\n",
    "\n",
    "\n",
    "data2=[(20,'HR'),(30,'FINANCE'),(40,'PAYROLL'),(50,'IT')]\n",
    "\n",
    "schema2=['deptno','dept']\n",
    "Dept= spark.createDataFrame(data2,schema2)\n",
    "Dept.show()"
   ]
  },
  {
   "cell_type": "code",
   "execution_count": 5,
   "id": "cc1553ff-27ab-42ff-a43b-203080be1b07",
   "metadata": {
    "tags": []
   },
   "outputs": [
    {
     "name": "stdout",
     "output_type": "stream",
     "text": [
      "+---+-------+----------+------+---+------+-------+----+------+-------+\n",
      "| id| f_name|    l_name|gender|age|salary|   dept| doj|deptno|   dept|\n",
      "+---+-------+----------+------+---+------+-------+----+------+-------+\n",
      "|  1| mahesh|kshirsagar|  male| 20|  5000|     IT|2002|    50|     IT|\n",
      "|  2|shruthi|   kachave|female| 30|  6000|     HR|2008|    20|     HR|\n",
      "|  3| ganesh|   kenjale|  male| 25|  7000|FINANCE|2010|    30|FINANCE|\n",
      "|  4|  pooja|     bhate|female| 34|  8000|PAYROLL|2005|    40|PAYROLL|\n",
      "|  5| kamini|     kadam|female| 31|  6000|     IT|2007|    50|     IT|\n",
      "|  6|shivaji|    nemade|  male| 20|  8000|     IT|1004|    50|     IT|\n",
      "|  7| shweta|   lakhani|female| 30|  6000|     HR|1998|    20|     HR|\n",
      "|  8| suresh|     kirve|  male| 25| 10000|FINANCE|2011|    30|FINANCE|\n",
      "|  9|shivani|    jagtap|  NULL| 34| 11000|PAYROLL|2013|    40|PAYROLL|\n",
      "| 10| prachi|   inamdar|female| 30|  6000|     IT|2001|    50|     IT|\n",
      "+---+-------+----------+------+---+------+-------+----+------+-------+\n",
      "\n"
     ]
    }
   ],
   "source": [
    "from pyspark.sql.functions import broadcast\n",
    "\n",
    "# Assuming 'dept' is the common column for the join\n",
    "result = empdf.join(broadcast(Dept), empdf['dept'] == Dept['dept'])\n",
    "result.show()"
   ]
  },
  {
   "cell_type": "code",
   "execution_count": 7,
   "id": "274847ff-1c86-49f8-90d9-2f8792120580",
   "metadata": {
    "tags": []
   },
   "outputs": [
    {
     "name": "stdout",
     "output_type": "stream",
     "text": [
      "== Physical Plan ==\n",
      "AdaptiveSparkPlan isFinalPlan=false\n",
      "+- BroadcastHashJoin [dept#55], [dept#99], Inner, BuildRight, false\n",
      "   :- Filter isnotnull(dept#55)\n",
      "   :  +- Scan ExistingRDD[id#49L,f_name#50,l_name#51,gender#52,age#53L,salary#54L,dept#55,doj#56L]\n",
      "   +- BroadcastExchange HashedRelationBroadcastMode(List(input[1, string, false]),false), [plan_id=182]\n",
      "      +- Filter isnotnull(dept#99)\n",
      "         +- Scan ExistingRDD[deptno#98L,dept#99]\n",
      "\n",
      "\n"
     ]
    }
   ],
   "source": [
    "result.explain()"
   ]
  }
 ],
 "metadata": {
  "kernelspec": {
   "display_name": "Python 3 (ipykernel)",
   "language": "python",
   "name": "python3"
  },
  "language_info": {
   "codemirror_mode": {
    "name": "ipython",
    "version": 3
   },
   "file_extension": ".py",
   "mimetype": "text/x-python",
   "name": "python",
   "nbconvert_exporter": "python",
   "pygments_lexer": "ipython3",
   "version": "3.11.5"
  }
 },
 "nbformat": 4,
 "nbformat_minor": 5
}
