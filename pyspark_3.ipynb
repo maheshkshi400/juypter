{
 "cells": [
  {
   "cell_type": "code",
   "execution_count": 15,
   "metadata": {},
   "outputs": [
    {
     "name": "stdout",
     "output_type": "stream",
     "text": [
      "+---+-------+----------+------+---+------+-------+------+----+\n",
      "| id| f_name|    l_name|gender|age|salary|   dept|deptno| doj|\n",
      "+---+-------+----------+------+---+------+-------+------+----+\n",
      "|  1| mahesh|kshirsagar|  male| 20|  5000|     IT|    50|2002|\n",
      "|  2|shruthi|   kachave|female| 30|  6000|     HR|    20|2008|\n",
      "|  3| ganesh|   kenjale|  male| 25|  7000|FINANCE|    30|2010|\n",
      "|  4|  pooja|     bhate|female| 34|  8000|PAYROLL|    40|2005|\n",
      "|  5| kamini|     kadam|female| 31|  6000|     IT|  NULL|2007|\n",
      "|  6|shivaji|    nemade|  male| 20|  8000|     IT|    50|1004|\n",
      "|  7| shweta|   lakhani|female| 30|  6000|     HR|    20|1998|\n",
      "|  8| suresh|     kirve|  male| 25| 10000|FINANCE|    30|2011|\n",
      "|  9|shivani|    jagtap|  NULL| 34| 11000|PAYROLL|    40|2013|\n",
      "| 10| prachi|   inamdar|female| 30|  6000|     IT|    50|2001|\n",
      "+---+-------+----------+------+---+------+-------+------+----+\n",
      "\n"
     ]
    }
   ],
   "source": [
    "from pyspark.sql import SparkSession\n",
    "\n",
    "# Create a SparkSession\n",
    "spark = SparkSession.builder.appName(\"https://github.com/maheshkshi400/MK\").getOrCreate()\n",
    "\n",
    "\n",
    "\n",
    "data1 = [(1,'mahesh','kshirsagar','male',20,5000,'IT',50,2002),\n",
    "         (2,'shruthi','kachave','female',30,6000,'HR',20,2008),\n",
    "         (3,'ganesh','kenjale','male',25,7000,'FINANCE',30,2010),\n",
    "         (4,'pooja','bhate','female',34,8000,'PAYROLL',40,2005),\n",
    "         (5,'kamini','kadam','female',31,6000,'IT',None,2007),\n",
    "         (6,'shivaji','nemade','male',20,8000,'IT',50,1004),\n",
    "         (7,'shweta','lakhani','female',30,6000,'HR',20,1998),\n",
    "         (8,'suresh','kirve','male',25,10000,'FINANCE',30,2011),\n",
    "         (9,'shivani','jagtap',None,34,11000,'PAYROLL',40,2013),\n",
    "         (10,'prachi','inamdar','female',30,6000,'IT',50,2001)]\n",
    "\n",
    "schema1 = ['id','f_name','l_name','gender','age','salary','dept','deptno','doj']\n",
    "\n",
    "\n",
    "\n",
    "\n",
    "empdf = spark.createDataFrame(data1,schema1)\n",
    "\n",
    "\n",
    "empdf.show()"
   ]
  },
  {
   "cell_type": "code",
   "execution_count": 8,
   "metadata": {},
   "outputs": [
    {
     "name": "stdout",
     "output_type": "stream",
     "text": [
      "+---+-------+------+---+------+-------+------+----+--------------------+\n",
      "| id|   name|gender|age|salary|   dept|deptno| doj|           Timestamp|\n",
      "+---+-------+------+---+------+-------+------+----+--------------------+\n",
      "|  1| mahesh|  male| 20|  5000|     IT|    50|2002|2023-12-07 17:02:...|\n",
      "|  2|shruthi|female| 30|  6000|     HR|    20|2008|2023-12-07 17:02:...|\n",
      "|  3| ganesh|  male| 25|  7000|FINANCE|    30|2010|2023-12-07 17:02:...|\n",
      "|  4|  pooja|female| 34|  8000|PAYROLL|    40|2005|2023-12-07 17:02:...|\n",
      "|  5| kamini|female| 31|  6000|     IT|  NULL|2007|2023-12-07 17:02:...|\n",
      "|  6|shivaji|  male| 20|  8000|     IT|    50|1004|2023-12-07 17:02:...|\n",
      "|  7| shweta|female| 30|  6000|     HR|    20|1998|2023-12-07 17:02:...|\n",
      "|  8| suresh|  male| 25| 10000|FINANCE|    30|2011|2023-12-07 17:02:...|\n",
      "|  9|shivani|  NULL| 34| 11000|PAYROLL|    40|2013|2023-12-07 17:02:...|\n",
      "| 10| prachi|female| 30|  6000|     IT|    50|2001|2023-12-07 17:02:...|\n",
      "+---+-------+------+---+------+-------+------+----+--------------------+\n",
      "\n"
     ]
    }
   ],
   "source": [
    "from pyspark.sql.functions import current_timestamp\n",
    "df1=empdf.withColumn(\"Timestamp\",current_timestamp())\n",
    "df1.show()"
   ]
  },
  {
   "cell_type": "code",
   "execution_count": 10,
   "metadata": {},
   "outputs": [
    {
     "name": "stdout",
     "output_type": "stream",
     "text": [
      "+---+-------+------+---+----------+-------+------+----+\n",
      "| id|   name|gender|age|emp_salary|   dept|deptno| doj|\n",
      "+---+-------+------+---+----------+-------+------+----+\n",
      "|  1| mahesh|  male| 20|      5000|     IT|    50|2002|\n",
      "|  2|shruthi|female| 30|      6000|     HR|    20|2008|\n",
      "|  3| ganesh|  male| 25|      7000|FINANCE|    30|2010|\n",
      "|  4|  pooja|female| 34|      8000|PAYROLL|    40|2005|\n",
      "|  5| kamini|female| 31|      6000|     IT|  NULL|2007|\n",
      "|  6|shivaji|  male| 20|      8000|     IT|    50|1004|\n",
      "|  7| shweta|female| 30|      6000|     HR|    20|1998|\n",
      "|  8| suresh|  male| 25|     10000|FINANCE|    30|2011|\n",
      "|  9|shivani|  NULL| 34|     11000|PAYROLL|    40|2013|\n",
      "| 10| prachi|female| 30|      6000|     IT|    50|2001|\n",
      "+---+-------+------+---+----------+-------+------+----+\n",
      "\n"
     ]
    }
   ],
   "source": [
    "from pyspark.sql.functions import current_timestamp\n",
    "df2=empdf.withColumnRenamed(\"salary\",\"emp_salary\")\n",
    "df2.show()"
   ]
  },
  {
   "cell_type": "code",
   "execution_count": 12,
   "metadata": {},
   "outputs": [
    {
     "name": "stdout",
     "output_type": "stream",
     "text": [
      "+---+-------+------+---+------+-------+------+----+\n",
      "| id|   name|gender|age|salary|   dept|deptno| doj|\n",
      "+---+-------+------+---+------+-------+------+----+\n",
      "|  1| mahesh|  male| 20|  5000|     IT|    50|2002|\n",
      "|  2|shruthi|female| 30|  6000|     HR|    20|2008|\n",
      "|  3| ganesh|  male| 25|  7000|FINANCE|    30|2010|\n",
      "|  4|  pooja|female| 34|  8000|PAYROLL|    40|2005|\n",
      "|  5| kamini|female| 31|  6000|     IT|  NULL|2007|\n",
      "|  6|shivaji|  male| 20|  8000|     IT|    50|1004|\n",
      "|  7| shweta|female| 30|  6000|     HR|    20|1998|\n",
      "|  8| suresh|  male| 25| 10000|FINANCE|    30|2011|\n",
      "|  9|shivani|  NULL| 34| 11000|PAYROLL|    40|2013|\n",
      "| 10| prachi|female| 30|  6000|     IT|    50|2001|\n",
      "+---+-------+------+---+------+-------+------+----+\n",
      "\n"
     ]
    }
   ],
   "source": [
    "df3=empdf.drop(\"Timestamp\")\n",
    "df3.show()"
   ]
  },
  {
   "cell_type": "code",
   "execution_count": 14,
   "metadata": {},
   "outputs": [
    {
     "name": "stdout",
     "output_type": "stream",
     "text": [
      "+---+-------+------+---+------+-------+------+----+--------+\n",
      "| id|   name|gender|age|salary|   dept|deptno| doj|location|\n",
      "+---+-------+------+---+------+-------+------+----+--------+\n",
      "|  1| mahesh|  male| 20|  5000|     IT|    50|2002|   INDIA|\n",
      "|  2|shruthi|female| 30|  6000|     HR|    20|2008|   INDIA|\n",
      "|  3| ganesh|  male| 25|  7000|FINANCE|    30|2010|   INDIA|\n",
      "|  4|  pooja|female| 34|  8000|PAYROLL|    40|2005|   INDIA|\n",
      "|  5| kamini|female| 31|  6000|     IT|  NULL|2007|   INDIA|\n",
      "|  6|shivaji|  male| 20|  8000|     IT|    50|1004|   INDIA|\n",
      "|  7| shweta|female| 30|  6000|     HR|    20|1998|   INDIA|\n",
      "|  8| suresh|  male| 25| 10000|FINANCE|    30|2011|   INDIA|\n",
      "|  9|shivani|  NULL| 34| 11000|PAYROLL|    40|2013|   INDIA|\n",
      "| 10| prachi|female| 30|  6000|     IT|    50|2001|   INDIA|\n",
      "+---+-------+------+---+------+-------+------+----+--------+\n",
      "\n"
     ]
    }
   ],
   "source": [
    "from pyspark.sql.functions import lit\n",
    "df4=empdf.withColumn(\"location\",lit(\"INDIA\"))\n",
    "df4.show()"
   ]
  },
  {
   "cell_type": "code",
   "execution_count": 31,
   "metadata": {},
   "outputs": [
    {
     "name": "stdout",
     "output_type": "stream",
     "text": [
      "+---+-------+----------+------+---+------+-------+------+----+------+-----------------+\n",
      "| id| f_name|    l_name|gender|age|salary|   dept|deptno| doj|Bbonus|        Full_name|\n",
      "+---+-------+----------+------+---+------+-------+------+----+------+-----------------+\n",
      "|  1| mahesh|kshirsagar|  male| 20|  5000|     IT|    50|2002|1000.0|mahesh kshirsagar|\n",
      "|  2|shruthi|   kachave|female| 30|  6000|     HR|    20|2008|1200.0|  shruthi kachave|\n",
      "|  3| ganesh|   kenjale|  male| 25|  7000|FINANCE|    30|2010|1400.0|   ganesh kenjale|\n",
      "|  4|  pooja|     bhate|female| 34|  8000|PAYROLL|    40|2005|1600.0|      pooja bhate|\n",
      "|  5| kamini|     kadam|female| 31|  6000|     IT|  NULL|2007|1200.0|     kamini kadam|\n",
      "|  6|shivaji|    nemade|  male| 20|  8000|     IT|    50|1004|1600.0|   shivaji nemade|\n",
      "|  7| shweta|   lakhani|female| 30|  6000|     HR|    20|1998|1200.0|   shweta lakhani|\n",
      "|  8| suresh|     kirve|  male| 25| 10000|FINANCE|    30|2011|2000.0|     suresh kirve|\n",
      "|  9|shivani|    jagtap|  NULL| 34| 11000|PAYROLL|    40|2013|2200.0|   shivani jagtap|\n",
      "| 10| prachi|   inamdar|female| 30|  6000|     IT|    50|2001|1200.0|   prachi inamdar|\n",
      "+---+-------+----------+------+---+------+-------+------+----+------+-----------------+\n",
      "\n"
     ]
    }
   ],
   "source": [
    "from pyspark.sql.functions import concat,lit\n",
    "df5=empdf.withColumn(\"Bbonus\",empdf.salary*0.2).withColumn(\"Full_name\",concat(\"f_name\" ,lit(\" \"),\"l_name\"))\n",
    "df5.show()"
   ]
  },
  {
   "cell_type": "code",
   "execution_count": null,
   "metadata": {},
   "outputs": [],
   "source": []
  }
 ],
 "metadata": {
  "kernelspec": {
   "display_name": "base",
   "language": "python",
   "name": "python3"
  },
  "language_info": {
   "codemirror_mode": {
    "name": "ipython",
    "version": 3
   },
   "file_extension": ".py",
   "mimetype": "text/x-python",
   "name": "python",
   "nbconvert_exporter": "python",
   "pygments_lexer": "ipython3",
   "version": "3.11.5"
  }
 },
 "nbformat": 4,
 "nbformat_minor": 2
}
