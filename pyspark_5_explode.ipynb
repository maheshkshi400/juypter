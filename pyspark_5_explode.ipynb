{
 "cells": [
  {
   "cell_type": "code",
   "execution_count": 14,
   "metadata": {},
   "outputs": [
    {
     "name": "stdout",
     "output_type": "stream",
     "text": [
      "root\n",
      " |-- Name: string (nullable = false)\n",
      " |-- Appliances: array (nullable = true)\n",
      " |    |-- element: string (containsNull = true)\n",
      "\n",
      "+--------+-----------------------------------+\n",
      "|Name    |Appliances                         |\n",
      "+--------+-----------------------------------+\n",
      "|Ganesh  |[tTV, AC, REFRIGERATOR, BIKE, OVEN]|\n",
      "|Mukesh  |[BIKE, AC, HOME]                   |\n",
      "|Shewta  |[TV, AC, REFRIGERATOR, NULL, OVEN] |\n",
      "|Shirisha|[TV, AC, REFRIGERATOR, BIKE, OVEN] |\n",
      "|Veena   |[TV, AC, NULL, BIKE, OVEN]         |\n",
      "+--------+-----------------------------------+\n",
      "\n"
     ]
    }
   ],
   "source": [
    "from pyspark.sql import SparkSession\n",
    "from pyspark.sql.types import StructType, StructField, StringType, ArrayType\n",
    "\n",
    "\n",
    "# Create a SparkSession\n",
    "spark = SparkSession.builder.appName(\"https://github.com/maheshkshi400/MK\").getOrCreate()\n",
    "\n",
    "\n",
    "\n",
    "# Define the data\n",
    "Array_appliances = [\n",
    "    ('Ganesh', ['tTV', 'AC', 'REFRIGERATOR', 'BIKE', 'OVEN']),\n",
    "    ('Mukesh', ['BIKE', 'AC', 'HOME']),\n",
    "    ('Shewta', ['TV', 'AC', 'REFRIGERATOR', None, 'OVEN']),\n",
    "    ('Shirisha', ['TV', 'AC', 'REFRIGERATOR', 'BIKE', 'OVEN']),\n",
    "    ('Veena', ['TV', 'AC', None, 'BIKE', 'OVEN'])\n",
    "]\n",
    "\n",
    "# Define schema for DataFrame\n",
    "schema = StructType([\n",
    "    StructField('Name', StringType(), nullable=False),\n",
    "    StructField('Appliances', ArrayType(StringType()), nullable=True)\n",
    "])\n",
    "\n",
    "# Create DataFrame\n",
    "df_app = spark.createDataFrame(data=Array_appliances, schema=schema)\n",
    "\n",
    "# Show DataFrame schema and data\n",
    "df_app.printSchema()\n",
    "df_app.show(truncate=False)"
   ]
  },
  {
   "cell_type": "code",
   "execution_count": 18,
   "metadata": {},
   "outputs": [
    {
     "name": "stdout",
     "output_type": "stream",
     "text": [
      "root\n",
      " |-- Name: string (nullable = false)\n",
      " |-- Appliances: array (nullable = true)\n",
      " |    |-- element: string (containsNull = true)\n",
      " |-- Appliance: string (nullable = true)\n",
      "\n",
      "+--------+-----------------------------------+------------+\n",
      "|Name    |Appliances                         |Appliance   |\n",
      "+--------+-----------------------------------+------------+\n",
      "|Ganesh  |[tTV, AC, REFRIGERATOR, BIKE, OVEN]|tTV         |\n",
      "|Ganesh  |[tTV, AC, REFRIGERATOR, BIKE, OVEN]|AC          |\n",
      "|Ganesh  |[tTV, AC, REFRIGERATOR, BIKE, OVEN]|REFRIGERATOR|\n",
      "|Ganesh  |[tTV, AC, REFRIGERATOR, BIKE, OVEN]|BIKE        |\n",
      "|Ganesh  |[tTV, AC, REFRIGERATOR, BIKE, OVEN]|OVEN        |\n",
      "|Mukesh  |[BIKE, AC, HOME]                   |BIKE        |\n",
      "|Mukesh  |[BIKE, AC, HOME]                   |AC          |\n",
      "|Mukesh  |[BIKE, AC, HOME]                   |HOME        |\n",
      "|Shewta  |[TV, AC, REFRIGERATOR, NULL, OVEN] |TV          |\n",
      "|Shewta  |[TV, AC, REFRIGERATOR, NULL, OVEN] |AC          |\n",
      "|Shewta  |[TV, AC, REFRIGERATOR, NULL, OVEN] |REFRIGERATOR|\n",
      "|Shewta  |[TV, AC, REFRIGERATOR, NULL, OVEN] |NULL        |\n",
      "|Shewta  |[TV, AC, REFRIGERATOR, NULL, OVEN] |OVEN        |\n",
      "|Shirisha|[TV, AC, REFRIGERATOR, BIKE, OVEN] |TV          |\n",
      "|Shirisha|[TV, AC, REFRIGERATOR, BIKE, OVEN] |AC          |\n",
      "|Shirisha|[TV, AC, REFRIGERATOR, BIKE, OVEN] |REFRIGERATOR|\n",
      "|Shirisha|[TV, AC, REFRIGERATOR, BIKE, OVEN] |BIKE        |\n",
      "|Shirisha|[TV, AC, REFRIGERATOR, BIKE, OVEN] |OVEN        |\n",
      "|Veena   |[TV, AC, NULL, BIKE, OVEN]         |TV          |\n",
      "|Veena   |[TV, AC, NULL, BIKE, OVEN]         |AC          |\n",
      "+--------+-----------------------------------+------------+\n",
      "only showing top 20 rows\n",
      "\n"
     ]
    }
   ],
   "source": [
    "\n",
    "# Explode array_type\n",
    "\n",
    "from pyspark.sql.functions import explode, col\n",
    "\n",
    "# Explode the Appliances column into separate rows\n",
    "df2 = df_app.withColumn('Appliance', explode(col('Appliances')))\n",
    "\n",
    "# Show the transformed DataFrame df2\n",
    "df2.printSchema()\n",
    "df2.show(truncate=False)"
   ]
  },
  {
   "cell_type": "code",
   "execution_count": 7,
   "metadata": {},
   "outputs": [
    {
     "name": "stdout",
     "output_type": "stream",
     "text": [
      "root\n",
      " |-- Name: string (nullable = false)\n",
      " |-- Brands: string (nullable = false)\n",
      "\n",
      "+--------+---------------------------------------------------------------------+\n",
      "|Name    |Brands                                                               |\n",
      "+--------+---------------------------------------------------------------------+\n",
      "|Ganesh  |{AC=VOLTAS, TV=ONIDA, REFRIGERATOR=KENSTAR, OVEN=PHILIPS, BIKE=BAJAJ}|\n",
      "|Mukesh  |{AC=SAMSUNG, HOME=OWN, BIKE=TVS}                                     |\n",
      "|Shewta  |{AC=BONZA, TV=TOSHIBA, REFRIGERATOR=WHIRLPOOL, OVEN=CIRIA}           |\n",
      "|Shirisha|{AC=PHILIPS, TV=CROMA, REFRIGERATOR=SAMSUNG, OVEN=TATA, BIKE=HONDA}  |\n",
      "|Veena   |{AC=SHINIA, TV=LAVA, OVEN=PANDA, BIKE=CROY}                          |\n",
      "+--------+---------------------------------------------------------------------+\n",
      "\n"
     ]
    }
   ],
   "source": [
    "from pyspark.sql import SparkSession\n",
    "from pyspark.sql.types import StructType, StructField, StringType\n",
    "\n",
    "# Create a SparkSession\n",
    "spark = SparkSession.builder.appName(\"BrandMapping\").getOrCreate()\n",
    "\n",
    "# Define the data\n",
    "df_map = [\n",
    "    ('Ganesh', {'TV': 'ONIDA', 'AC': 'VOLTAS', 'REFRIGERATOR': 'KENSTAR', 'BIKE': 'BAJAJ', 'OVEN': 'PHILIPS'}),\n",
    "    ('Mukesh', {'BIKE': 'TVS', 'AC': 'SAMSUNG', 'HOME': 'OWN'}),\n",
    "    ('Shewta', {'TV': 'TOSHIBA', 'AC': 'BONZA', 'REFRIGERATOR': 'WHIRLPOOL', 'OVEN': 'CIRIA'}),\n",
    "    ('Shirisha', {'TV': 'CROMA', 'AC': 'PHILIPS', 'REFRIGERATOR': 'SAMSUNG', 'BIKE': 'HONDA', 'OVEN': 'TATA'}),\n",
    "    ('Veena', {'TV': 'LAVA', 'AC': 'SHINIA', 'BIKE': 'CROY', 'OVEN': 'PANDA'})\n",
    "]\n",
    "\n",
    "# Define schema for DataFrame\n",
    "schema = StructType([\n",
    "    StructField('Name', StringType(), nullable=False),\n",
    "    StructField('Brands', StringType(), nullable=False)\n",
    "])\n",
    "\n",
    "# Create DataFrame\n",
    "df_app = spark.createDataFrame(data=df_map, schema=schema)\n",
    "\n",
    "# Show DataFrame schema and data\n",
    "df_app.printSchema()\n",
    "df_app.show(truncate=False)\n"
   ]
  },
  {
   "cell_type": "code",
   "execution_count": 17,
   "metadata": {},
   "outputs": [
    {
     "name": "stdout",
     "output_type": "stream",
     "text": [
      "Unexpected exception formatting exception. Falling back to standard exception\n"
     ]
    },
    {
     "name": "stderr",
     "output_type": "stream",
     "text": [
      "Traceback (most recent call last):\n",
      "  File \"C:\\Users\\Pc\\AppData\\Roaming\\Python\\Python311\\site-packages\\IPython\\core\\interactiveshell.py\", line 3526, in run_code\n",
      "    exec(code_obj, self.user_global_ns, self.user_ns)\n",
      "  File \"C:\\Users\\Pc\\AppData\\Local\\Temp\\ipykernel_9232\\594833715.py\", line 4, in <module>\n",
      "    df2 = df_app.withColumn('Brand', explode(col('Brands')))\n",
      "          ^^^^^^^^^^^^^^^^^^^^^^^^^^^^^^^^^^^^^^^^^^^^^^^^^^\n",
      "  File \"e:\\anaconda\\Lib\\site-packages\\pyspark\\sql\\dataframe.py\", line 5170, in withColumn\n",
      "    return DataFrame(self._jdf.withColumn(colName, col._jc), self.sparkSession)\n",
      "                     ^^^^^^^^^^^^^^^^^^^^^^^^^^^^^^^^^^^^^^\n",
      "  File \"e:\\anaconda\\Lib\\site-packages\\py4j\\java_gateway.py\", line 1322, in __call__\n",
      "    return_value = get_return_value(\n",
      "                   ^^^^^^^^^^^^^^^^^\n",
      "  File \"e:\\anaconda\\Lib\\site-packages\\pyspark\\errors\\exceptions\\captured.py\", line 185, in deco\n",
      "    raise converted from None\n",
      "pyspark.errors.exceptions.captured.AnalysisException: [UNRESOLVED_COLUMN.WITH_SUGGESTION] A column or function parameter with name `Brands` cannot be resolved. Did you mean one of the following? [`Name`, `Appliances`].;\n",
      "'Project [Name#102, Appliances#103, explode('Brands) AS Brand#134]\n",
      "+- LogicalRDD [Name#102, Appliances#103], false\n",
      "\n",
      "\n",
      "During handling of the above exception, another exception occurred:\n",
      "\n",
      "Traceback (most recent call last):\n",
      "  File \"C:\\Users\\Pc\\AppData\\Roaming\\Python\\Python311\\site-packages\\IPython\\core\\interactiveshell.py\", line 2120, in showtraceback\n",
      "    stb = self.InteractiveTB.structured_traceback(\n",
      "          ^^^^^^^^^^^^^^^^^^^^^^^^^^^^^^^^^^^^^^^^\n",
      "  File \"C:\\Users\\Pc\\AppData\\Roaming\\Python\\Python311\\site-packages\\IPython\\core\\ultratb.py\", line 1435, in structured_traceback\n",
      "    return FormattedTB.structured_traceback(\n",
      "           ^^^^^^^^^^^^^^^^^^^^^^^^^^^^^^^^^\n",
      "  File \"C:\\Users\\Pc\\AppData\\Roaming\\Python\\Python311\\site-packages\\IPython\\core\\ultratb.py\", line 1326, in structured_traceback\n",
      "    return VerboseTB.structured_traceback(\n",
      "           ^^^^^^^^^^^^^^^^^^^^^^^^^^^^^^^\n",
      "  File \"C:\\Users\\Pc\\AppData\\Roaming\\Python\\Python311\\site-packages\\IPython\\core\\ultratb.py\", line 1173, in structured_traceback\n",
      "    formatted_exception = self.format_exception_as_a_whole(etype, evalue, etb, number_of_lines_of_context,\n",
      "                          ^^^^^^^^^^^^^^^^^^^^^^^^^^^^^^^^^^^^^^^^^^^^^^^^^^^^^^^^^^^^^^^^^^^^^^^^^^^^^^^^\n",
      "  File \"C:\\Users\\Pc\\AppData\\Roaming\\Python\\Python311\\site-packages\\IPython\\core\\ultratb.py\", line 1088, in format_exception_as_a_whole\n",
      "    frames.append(self.format_record(record))\n",
      "                  ^^^^^^^^^^^^^^^^^^^^^^^^^^\n",
      "  File \"C:\\Users\\Pc\\AppData\\Roaming\\Python\\Python311\\site-packages\\IPython\\core\\ultratb.py\", line 970, in format_record\n",
      "    frame_info.lines, Colors, self.has_colors, lvals\n",
      "    ^^^^^^^^^^^^^^^^\n",
      "  File \"C:\\Users\\Pc\\AppData\\Roaming\\Python\\Python311\\site-packages\\IPython\\core\\ultratb.py\", line 792, in lines\n",
      "    return self._sd.lines\n",
      "           ^^^^^^^^^^^^^^\n",
      "  File \"C:\\Users\\Pc\\AppData\\Roaming\\Python\\Python311\\site-packages\\stack_data\\utils.py\", line 144, in cached_property_wrapper\n",
      "    value = obj.__dict__[self.func.__name__] = self.func(obj)\n",
      "                                               ^^^^^^^^^^^^^^\n",
      "  File \"C:\\Users\\Pc\\AppData\\Roaming\\Python\\Python311\\site-packages\\stack_data\\core.py\", line 734, in lines\n",
      "    pieces = self.included_pieces\n",
      "             ^^^^^^^^^^^^^^^^^^^^\n",
      "  File \"C:\\Users\\Pc\\AppData\\Roaming\\Python\\Python311\\site-packages\\stack_data\\utils.py\", line 144, in cached_property_wrapper\n",
      "    value = obj.__dict__[self.func.__name__] = self.func(obj)\n",
      "                                               ^^^^^^^^^^^^^^\n",
      "  File \"C:\\Users\\Pc\\AppData\\Roaming\\Python\\Python311\\site-packages\\stack_data\\core.py\", line 677, in included_pieces\n",
      "    scope_pieces = self.scope_pieces\n",
      "                   ^^^^^^^^^^^^^^^^^\n",
      "  File \"C:\\Users\\Pc\\AppData\\Roaming\\Python\\Python311\\site-packages\\stack_data\\utils.py\", line 144, in cached_property_wrapper\n",
      "    value = obj.__dict__[self.func.__name__] = self.func(obj)\n",
      "                                               ^^^^^^^^^^^^^^\n",
      "  File \"C:\\Users\\Pc\\AppData\\Roaming\\Python\\Python311\\site-packages\\stack_data\\core.py\", line 614, in scope_pieces\n",
      "    scope_start, scope_end = self.source.line_range(self.scope)\n",
      "                             ^^^^^^^^^^^^^^^^^^^^^^^^^^^^^^^^^^\n",
      "  File \"C:\\Users\\Pc\\AppData\\Roaming\\Python\\Python311\\site-packages\\stack_data\\core.py\", line 178, in line_range\n",
      "    return line_range(self.asttext(), node)\n",
      "                      ^^^^^^^^^^^^\n",
      "AttributeError: 'Source' object has no attribute 'asttext'\n"
     ]
    }
   ],
   "source": [
    "from pyspark.sql.functions import explode, col\n",
    "\n",
    "# Explode the Brands column into separate rows\n",
    "df2 = df_app.withColumn('Brand', explode(col('Brands')))\n",
    "\n",
    "# Show the transformed DataFrame df2\n",
    "df2.show(truncate=False)\n"
   ]
  },
  {
   "cell_type": "code",
   "execution_count": 3,
   "metadata": {},
   "outputs": [
    {
     "name": "stdout",
     "output_type": "stream",
     "text": [
      "+---+------+------------------+\n",
      "| id|  name|            skills|\n",
      "+---+------+------------------+\n",
      "|  1|mahesh|   [azure, python]|\n",
      "|  2|Ganesh|       [AWS, Java]|\n",
      "|  3|Prachi|[Informetica, SQL]|\n",
      "+---+------+------------------+\n",
      "\n"
     ]
    },
    {
     "data": {
      "text/plain": [
       "DataFrame[id: bigint, name: string, skills: array<string>]"
      ]
     },
     "metadata": {},
     "output_type": "display_data"
    }
   ],
   "source": [
    "from pyspark.sql import SparkSession\n",
    "\n",
    "# Create a SparkSession\n",
    "spark = SparkSession.builder.appName(\"https://github.com/maheshkshi400/MK\").getOrCreate()\n",
    "\n",
    "data = [(1,'mahesh',['azure','python']),(2,'Ganesh',['AWS','Java']),(3,'Prachi',['Informetica','SQL'])]\n",
    "\n",
    "schema = ['id','name','skills']\n",
    "df = spark.createDataFrame(data,schema)\n",
    "df.show()\n",
    "display(df)"
   ]
  },
  {
   "cell_type": "code",
   "execution_count": 4,
   "metadata": {},
   "outputs": [
    {
     "name": "stdout",
     "output_type": "stream",
     "text": [
      "+---+------+------------------+-----------+\n",
      "| id|  name|            skills|      skill|\n",
      "+---+------+------------------+-----------+\n",
      "|  1|mahesh|   [azure, python]|      azure|\n",
      "|  1|mahesh|   [azure, python]|     python|\n",
      "|  2|Ganesh|       [AWS, Java]|        AWS|\n",
      "|  2|Ganesh|       [AWS, Java]|       Java|\n",
      "|  3|Prachi|[Informetica, SQL]|Informetica|\n",
      "|  3|Prachi|[Informetica, SQL]|        SQL|\n",
      "+---+------+------------------+-----------+\n",
      "\n"
     ]
    }
   ],
   "source": [
    "from pyspark.sql.functions import explode,col\n",
    "df1 = df.withColumn('skill',explode(col('skills'))).show()\n"
   ]
  },
  {
   "cell_type": "code",
   "execution_count": 12,
   "metadata": {},
   "outputs": [
    {
     "name": "stdout",
     "output_type": "stream",
     "text": [
      "root\n",
      " |-- Name: string (nullable = false)\n",
      " |-- Appliances: array (nullable = true)\n",
      " |    |-- element: string (containsNull = true)\n",
      "\n",
      "+--------+-----------------------------------+\n",
      "|Name    |Appliances                         |\n",
      "+--------+-----------------------------------+\n",
      "|Ganesh  |[tTV, AC, REFRIGERATOR, BIKE, OVEN]|\n",
      "|Mukesh  |[BIKE, AC, HOME]                   |\n",
      "|Shewta  |[TV, AC, REFRIGERATOR, NULL, OVEN] |\n",
      "|Shirisha|[TV, AC, REFRIGERATOR, BIKE, OVEN] |\n",
      "|Veena   |[TV, AC, NULL, BIKE, OVEN]         |\n",
      "+--------+-----------------------------------+\n",
      "\n"
     ]
    }
   ],
   "source": [
    "from pyspark.sql import SparkSession\n",
    "from pyspark.sql.types import StructType, StructField, StringType, ArrayType\n",
    "\n",
    "\n",
    "# Create a SparkSession\n",
    "spark = SparkSession.builder.appName(\"https://github.com/maheshkshi400/MK\").getOrCreate()\n",
    "\n",
    "\n",
    "\n",
    "# Define the data\n",
    "Array_appliances = [\n",
    "    ('Ganesh', ['tTV', 'AC', 'REFRIGERATOR', 'BIKE', 'OVEN']),\n",
    "    ('Mukesh', ['BIKE', 'AC', 'HOME']),\n",
    "    ('Shewta', ['TV', 'AC', 'REFRIGERATOR', None, 'OVEN']),\n",
    "    ('Shirisha', ['TV', 'AC', 'REFRIGERATOR', 'BIKE', 'OVEN']),\n",
    "    ('Veena', ['TV', 'AC', None, 'BIKE', 'OVEN'])\n",
    "]\n",
    "\n",
    "# Define schema for DataFrame\n",
    "schema = StructType([\n",
    "    StructField('Name', StringType(), nullable=False),\n",
    "    StructField('Appliances', ArrayType(StringType()), nullable=True)\n",
    "])\n",
    "\n",
    "# Create DataFrame\n",
    "df_app = spark.createDataFrame(data=Array_appliances, schema=schema)\n",
    "\n",
    "# Show DataFrame schema and data\n",
    "df_app.printSchema()\n",
    "df_app.show(truncate=False)"
   ]
  },
  {
   "cell_type": "code",
   "execution_count": 13,
   "metadata": {},
   "outputs": [
    {
     "name": "stdout",
     "output_type": "stream",
     "text": [
      "+--------+-----------------------------------+------------+\n",
      "|Name    |Appliances                         |Appliance   |\n",
      "+--------+-----------------------------------+------------+\n",
      "|Ganesh  |[tTV, AC, REFRIGERATOR, BIKE, OVEN]|tTV         |\n",
      "|Ganesh  |[tTV, AC, REFRIGERATOR, BIKE, OVEN]|AC          |\n",
      "|Ganesh  |[tTV, AC, REFRIGERATOR, BIKE, OVEN]|REFRIGERATOR|\n",
      "|Ganesh  |[tTV, AC, REFRIGERATOR, BIKE, OVEN]|BIKE        |\n",
      "|Ganesh  |[tTV, AC, REFRIGERATOR, BIKE, OVEN]|OVEN        |\n",
      "|Mukesh  |[BIKE, AC, HOME]                   |BIKE        |\n",
      "|Mukesh  |[BIKE, AC, HOME]                   |AC          |\n",
      "|Mukesh  |[BIKE, AC, HOME]                   |HOME        |\n",
      "|Shewta  |[TV, AC, REFRIGERATOR, NULL, OVEN] |TV          |\n",
      "|Shewta  |[TV, AC, REFRIGERATOR, NULL, OVEN] |AC          |\n",
      "|Shewta  |[TV, AC, REFRIGERATOR, NULL, OVEN] |REFRIGERATOR|\n",
      "|Shewta  |[TV, AC, REFRIGERATOR, NULL, OVEN] |NULL        |\n",
      "|Shewta  |[TV, AC, REFRIGERATOR, NULL, OVEN] |OVEN        |\n",
      "|Shirisha|[TV, AC, REFRIGERATOR, BIKE, OVEN] |TV          |\n",
      "|Shirisha|[TV, AC, REFRIGERATOR, BIKE, OVEN] |AC          |\n",
      "|Shirisha|[TV, AC, REFRIGERATOR, BIKE, OVEN] |REFRIGERATOR|\n",
      "|Shirisha|[TV, AC, REFRIGERATOR, BIKE, OVEN] |BIKE        |\n",
      "|Shirisha|[TV, AC, REFRIGERATOR, BIKE, OVEN] |OVEN        |\n",
      "|Veena   |[TV, AC, NULL, BIKE, OVEN]         |TV          |\n",
      "|Veena   |[TV, AC, NULL, BIKE, OVEN]         |AC          |\n",
      "+--------+-----------------------------------+------------+\n",
      "only showing top 20 rows\n",
      "\n"
     ]
    }
   ],
   "source": [
    "\n"
   ]
  }
 ],
 "metadata": {
  "kernelspec": {
   "display_name": "base",
   "language": "python",
   "name": "python3"
  },
  "language_info": {
   "codemirror_mode": {
    "name": "ipython",
    "version": 3
   },
   "file_extension": ".py",
   "mimetype": "text/x-python",
   "name": "python",
   "nbconvert_exporter": "python",
   "pygments_lexer": "ipython3",
   "version": "3.11.5"
  }
 },
 "nbformat": 4,
 "nbformat_minor": 2
}
