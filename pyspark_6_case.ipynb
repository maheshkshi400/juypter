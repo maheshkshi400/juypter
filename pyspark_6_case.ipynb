{
 "cells": [
  {
   "cell_type": "code",
   "execution_count": 2,
   "metadata": {},
   "outputs": [
    {
     "name": "stdout",
     "output_type": "stream",
     "text": [
      "+---+-------+----------+------+---+------+-------+------+----+\n",
      "| id| f_name|    l_name|gender|age|salary|   dept|deptno| doj|\n",
      "+---+-------+----------+------+---+------+-------+------+----+\n",
      "|  1| mahesh|kshirsagar|  male| 20|  5000|     IT|    50|2002|\n",
      "|  2|shruthi|   kachave|female| 30|  6000|     HR|    20|2008|\n",
      "|  3| ganesh|   kenjale|  male| 25|  7000|FINANCE|    30|2010|\n",
      "|  4|  pooja|     bhate|female| 34|  8000|PAYROLL|    40|2005|\n",
      "|  5| kamini|     kadam|female| 31|  6000|     IT|  NULL|2007|\n",
      "|  6|shivaji|    nemade|  male| 20|  8000|     IT|    50|1004|\n",
      "|  7| shweta|   lakhani|female| 30|  6000|     HR|    20|1998|\n",
      "|  8| suresh|     kirve|  male| 25| 10000|FINANCE|    30|2011|\n",
      "|  9|shivani|    jagtap|  NULL| 34| 11000|PAYROLL|    40|2013|\n",
      "| 10| prachi|   inamdar|female| 30|  6000|     IT|    50|2001|\n",
      "+---+-------+----------+------+---+------+-------+------+----+\n",
      "\n"
     ]
    }
   ],
   "source": [
    "from pyspark.sql import SparkSession\n",
    "\n",
    "# Create a SparkSession\n",
    "spark = SparkSession.builder.appName(\"https://github.com/maheshkshi400/MK\").getOrCreate()\n",
    "\n",
    "\n",
    "\n",
    "data1 = [(1,'mahesh','kshirsagar','male',20,5000,'IT',50,2002),\n",
    "         (2,'shruthi','kachave','female',30,6000,'HR',20,2008),\n",
    "         (3,'ganesh','kenjale','male',25,7000,'FINANCE',30,2010),\n",
    "         (4,'pooja','bhate','female',34,8000,'PAYROLL',40,2005),\n",
    "         (5,'kamini','kadam','female',31,6000,'IT',None,2007),\n",
    "         (6,'shivaji','nemade','male',20,8000,'IT',50,1004),\n",
    "         (7,'shweta','lakhani','female',30,6000,'HR',20,1998),\n",
    "         (8,'suresh','kirve','male',25,10000,'FINANCE',30,2011),\n",
    "         (9,'shivani','jagtap',None,34,11000,'PAYROLL',40,2013),\n",
    "         (10,'prachi','inamdar','female',30,6000,'IT',50,2001)]\n",
    "\n",
    "schema1 = ['id','f_name','l_name','gender','age','salary','dept','deptno','doj']\n",
    "\n",
    "empdf = spark.createDataFrame(data1,schema1)\n",
    "\n",
    "empdf.show()"
   ]
  },
  {
   "cell_type": "code",
   "execution_count": 9,
   "metadata": {},
   "outputs": [
    {
     "name": "stdout",
     "output_type": "stream",
     "text": [
      "+---+-------+----------+------+---+------+-------+------+----+-----------------+\n",
      "| id| f_name|    l_name|gender|age|salary|   dept|deptno| doj|      designation|\n",
      "+---+-------+----------+------+---+------+-------+------+----+-----------------+\n",
      "|  1| mahesh|kshirsagar|  male| 20|  5000|     IT|    50|2002|junior_consultant|\n",
      "|  2|shruthi|   kachave|female| 30|  6000|     HR|    20|2008|       consultant|\n",
      "|  3| ganesh|   kenjale|  male| 25|  7000|FINANCE|    30|2010|       consultant|\n",
      "|  4|  pooja|     bhate|female| 34|  8000|PAYROLL|    40|2005|       consultant|\n",
      "|  5| kamini|     kadam|female| 31|  6000|     IT|  NULL|2007|       consultant|\n",
      "|  6|shivaji|    nemade|  male| 20|  8000|     IT|    50|1004|       consultant|\n",
      "|  7| shweta|   lakhani|female| 30|  6000|     HR|    20|1998|       consultant|\n",
      "|  8| suresh|     kirve|  male| 25| 10000|FINANCE|    30|2011|senior_consultant|\n",
      "|  9|shivani|    jagtap|  NULL| 34| 11000|PAYROLL|    40|2013|senior_consultant|\n",
      "| 10| prachi|   inamdar|female| 30|  6000|     IT|    50|2001|       consultant|\n",
      "+---+-------+----------+------+---+------+-------+------+----+-----------------+\n",
      "\n"
     ]
    }
   ],
   "source": [
    "from pyspark.sql import SparkSession\n",
    "from pyspark.sql.functions import when\n",
    "\n",
    "# Create a SparkSession\n",
    "spark = SparkSession.builder.appName(\"YourAppName\").getOrCreate()\n",
    "\n",
    "# Assuming empdf is your DataFrame\n",
    "# Using when() function to create a new column 'designation' based on salary conditions\n",
    "df1 = empdf.withColumn('designation',\n",
    "                      when(empdf.salary <= 5000, \"junior_consultant\")\n",
    "                      .when((empdf.salary > 5000) & (empdf.salary <= 8000) , \"consultant\")\n",
    "                     \n",
    "                      .otherwise(\"senior_consultant\"))\n",
    "df1.show()\n"
   ]
  }
 ],
 "metadata": {
  "kernelspec": {
   "display_name": "base",
   "language": "python",
   "name": "python3"
  },
  "language_info": {
   "codemirror_mode": {
    "name": "ipython",
    "version": 3
   },
   "file_extension": ".py",
   "mimetype": "text/x-python",
   "name": "python",
   "nbconvert_exporter": "python",
   "pygments_lexer": "ipython3",
   "version": "3.11.5"
  }
 },
 "nbformat": 4,
 "nbformat_minor": 2
}
