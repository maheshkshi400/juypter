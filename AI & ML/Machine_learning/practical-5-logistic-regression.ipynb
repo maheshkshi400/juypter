{
 "cells": [
  {
   "cell_type": "markdown",
   "id": "0e03353c",
   "metadata": {
    "papermill": {
     "duration": 0.006969,
     "end_time": "2024-02-08T06:49:40.523973",
     "exception": false,
     "start_time": "2024-02-08T06:49:40.517004",
     "status": "completed"
    },
    "tags": []
   },
   "source": [
    "# Logistic Regression"
   ]
  },
  {
   "cell_type": "markdown",
   "id": "97ba10dd",
   "metadata": {
    "papermill": {
     "duration": 0.006156,
     "end_time": "2024-02-08T06:49:40.536995",
     "exception": false,
     "start_time": "2024-02-08T06:49:40.530839",
     "status": "completed"
    },
    "tags": []
   },
   "source": [
    "### Importing Libraries"
   ]
  },
  {
   "cell_type": "code",
   "execution_count": 1,
   "id": "005f630e",
   "metadata": {
    "execution": {
     "iopub.execute_input": "2024-02-08T06:49:40.551869Z",
     "iopub.status.busy": "2024-02-08T06:49:40.551431Z",
     "iopub.status.idle": "2024-02-08T06:49:41.515351Z",
     "shell.execute_reply": "2024-02-08T06:49:41.514206Z"
    },
    "papermill": {
     "duration": 0.975012,
     "end_time": "2024-02-08T06:49:41.518384",
     "exception": false,
     "start_time": "2024-02-08T06:49:40.543372",
     "status": "completed"
    },
    "tags": []
   },
   "outputs": [],
   "source": [
    "import numpy as np\n",
    "import matplotlib.pyplot as plt\n",
    "import pandas as pd"
   ]
  },
  {
   "cell_type": "markdown",
   "id": "07ab968b",
   "metadata": {
    "papermill": {
     "duration": 0.006206,
     "end_time": "2024-02-08T06:49:41.531206",
     "exception": false,
     "start_time": "2024-02-08T06:49:41.525000",
     "status": "completed"
    },
    "tags": []
   },
   "source": [
    "### Importing Datasets"
   ]
  },
  {
   "cell_type": "code",
   "execution_count": 1,
   "id": "19592662",
   "metadata": {
    "_cell_guid": "b1076dfc-b9ad-4769-8c92-a6c4dae69d19",
    "_uuid": "8f2839f25d086af736a60e9eeb907d3b93b6e0e5",
    "execution": {
     "iopub.execute_input": "2024-02-08T06:49:41.546659Z",
     "iopub.status.busy": "2024-02-08T06:49:41.545383Z",
     "iopub.status.idle": "2024-02-08T06:49:41.596437Z",
     "shell.execute_reply": "2024-02-08T06:49:41.595093Z"
    },
    "papermill": {
     "duration": 0.062291,
     "end_time": "2024-02-08T06:49:41.599936",
     "exception": false,
     "start_time": "2024-02-08T06:49:41.537645",
     "status": "completed"
    },
    "tags": []
   },
   "outputs": [
    {
     "ename": "NameError",
     "evalue": "name 'pd' is not defined",
     "output_type": "error",
     "traceback": [
      "\u001b[1;31m---------------------------------------------------------------------------\u001b[0m",
      "\u001b[1;31mNameError\u001b[0m                                 Traceback (most recent call last)",
      "Cell \u001b[1;32mIn[1], line 1\u001b[0m\n\u001b[1;32m----> 1\u001b[0m dataset \u001b[38;5;241m=\u001b[39m \u001b[43mpd\u001b[49m\u001b[38;5;241m.\u001b[39mread_csv(\u001b[38;5;124m'\u001b[39m\u001b[38;5;124m/kaggle/input/health-care-data-set-on-heart-attack-possibility/heart.csv\u001b[39m\u001b[38;5;124m'\u001b[39m)\n\u001b[0;32m      2\u001b[0m X \u001b[38;5;241m=\u001b[39m dataset\u001b[38;5;241m.\u001b[39miloc[:, \u001b[38;5;241m0\u001b[39m:\u001b[38;5;241m-\u001b[39m\u001b[38;5;241m1\u001b[39m]\u001b[38;5;241m.\u001b[39mvalues\n\u001b[0;32m      3\u001b[0m y \u001b[38;5;241m=\u001b[39m dataset\u001b[38;5;241m.\u001b[39miloc[:, \u001b[38;5;241m-\u001b[39m\u001b[38;5;241m1\u001b[39m]\u001b[38;5;241m.\u001b[39mvalues\n",
      "\u001b[1;31mNameError\u001b[0m: name 'pd' is not defined"
     ]
    }
   ],
   "source": [
    "dataset = pd.read_csv('/kaggle/input/health-care-data-set-on-heart-attack-possibility/heart.csv')\n",
    "X = dataset.iloc[:, 0:-1].values\n",
    "y = dataset.iloc[:, -1].values\n",
    "dataset.info()"
   ]
  },
  {
   "cell_type": "markdown",
   "id": "bbd5b8f4",
   "metadata": {
    "papermill": {
     "duration": 0.006621,
     "end_time": "2024-02-08T06:49:41.613419",
     "exception": false,
     "start_time": "2024-02-08T06:49:41.606798",
     "status": "completed"
    },
    "tags": []
   },
   "source": [
    "### Splitting the Datasets"
   ]
  },
  {
   "cell_type": "code",
   "execution_count": 3,
   "id": "f3af4043",
   "metadata": {
    "execution": {
     "iopub.execute_input": "2024-02-08T06:49:41.629034Z",
     "iopub.status.busy": "2024-02-08T06:49:41.628275Z",
     "iopub.status.idle": "2024-02-08T06:49:43.074337Z",
     "shell.execute_reply": "2024-02-08T06:49:43.073494Z"
    },
    "papermill": {
     "duration": 1.456456,
     "end_time": "2024-02-08T06:49:43.076603",
     "exception": false,
     "start_time": "2024-02-08T06:49:41.620147",
     "status": "completed"
    },
    "tags": []
   },
   "outputs": [
    {
     "data": {
      "text/plain": [
       "array([0, 0, 0, 0, 1, 0, 1, 0, 1, 1, 1, 0, 1, 1, 0, 0, 0, 0, 1, 0, 0, 0,\n",
       "       1, 0, 1, 1, 1, 1, 1, 0, 1, 1, 1, 1, 0, 0, 1, 1, 0, 1, 1, 1, 1, 0,\n",
       "       0, 0, 0, 0, 0, 0, 0, 1, 1, 1, 1, 1, 1, 0, 0, 1, 0, 0, 0, 1, 1, 1,\n",
       "       0, 1, 1, 0, 0, 0, 1, 0, 0, 1, 0, 1, 1, 1, 1, 1, 1, 0, 1, 1, 0, 0,\n",
       "       1, 0, 1])"
      ]
     },
     "execution_count": 3,
     "metadata": {},
     "output_type": "execute_result"
    }
   ],
   "source": [
    "from sklearn.model_selection import train_test_split\n",
    "X_train, X_test, y_train, y_test = train_test_split(X, y, test_size = 0.30, random_state = 5)\n",
    "y_train\n",
    "y_test"
   ]
  },
  {
   "cell_type": "markdown",
   "id": "312d5ff8",
   "metadata": {
    "papermill": {
     "duration": 0.006805,
     "end_time": "2024-02-08T06:49:43.090661",
     "exception": false,
     "start_time": "2024-02-08T06:49:43.083856",
     "status": "completed"
    },
    "tags": []
   },
   "source": [
    "### Feature Scaling"
   ]
  },
  {
   "cell_type": "code",
   "execution_count": 4,
   "id": "9dc31a27",
   "metadata": {
    "execution": {
     "iopub.execute_input": "2024-02-08T06:49:43.107775Z",
     "iopub.status.busy": "2024-02-08T06:49:43.106757Z",
     "iopub.status.idle": "2024-02-08T06:49:43.119088Z",
     "shell.execute_reply": "2024-02-08T06:49:43.117984Z"
    },
    "papermill": {
     "duration": 0.023787,
     "end_time": "2024-02-08T06:49:43.122058",
     "exception": false,
     "start_time": "2024-02-08T06:49:43.098271",
     "status": "completed"
    },
    "tags": []
   },
   "outputs": [
    {
     "data": {
      "text/plain": [
       "array([[ 0.16561372,  1.        ,  1.        , ...,  2.        ,\n",
       "         0.        ,  2.        ],\n",
       "       [-0.27881803,  1.        ,  1.        , ...,  2.        ,\n",
       "         1.        ,  2.        ],\n",
       "       [ 1.72112484,  1.        ,  0.        , ...,  0.        ,\n",
       "         0.        ,  3.        ],\n",
       "       ...,\n",
       "       [-0.94546565,  0.        ,  1.        , ...,  2.        ,\n",
       "         0.        ,  2.        ],\n",
       "       [-1.50100534,  1.        ,  0.        , ...,  2.        ,\n",
       "         0.        ,  3.        ],\n",
       "       [ 0.49893753,  1.        ,  0.        , ...,  1.        ,\n",
       "         1.        ,  3.        ]])"
      ]
     },
     "execution_count": 4,
     "metadata": {},
     "output_type": "execute_result"
    }
   ],
   "source": [
    "from sklearn.preprocessing import StandardScaler\n",
    "sc = StandardScaler()\n",
    "X_train[:,[0,3,4,7,9,]] = sc.fit_transform(X_train[:,[0,3,4,7,9,]])\n",
    "X_test[:,[0,3,4,7,9,]] = sc.transform(X_test[:,[0,3,4,7,9,]])\n",
    "X_train"
   ]
  },
  {
   "cell_type": "markdown",
   "id": "7afc4a1f",
   "metadata": {
    "papermill": {
     "duration": 0.006648,
     "end_time": "2024-02-08T06:49:43.136129",
     "exception": false,
     "start_time": "2024-02-08T06:49:43.129481",
     "status": "completed"
    },
    "tags": []
   },
   "source": [
    "### Model Training"
   ]
  },
  {
   "cell_type": "code",
   "execution_count": 5,
   "id": "c57e29f3",
   "metadata": {
    "execution": {
     "iopub.execute_input": "2024-02-08T06:49:43.152123Z",
     "iopub.status.busy": "2024-02-08T06:49:43.151374Z",
     "iopub.status.idle": "2024-02-08T06:49:43.278080Z",
     "shell.execute_reply": "2024-02-08T06:49:43.276987Z"
    },
    "papermill": {
     "duration": 0.137945,
     "end_time": "2024-02-08T06:49:43.280951",
     "exception": false,
     "start_time": "2024-02-08T06:49:43.143006",
     "status": "completed"
    },
    "tags": []
   },
   "outputs": [
    {
     "data": {
      "text/html": [
       "<style>#sk-container-id-1 {color: black;background-color: white;}#sk-container-id-1 pre{padding: 0;}#sk-container-id-1 div.sk-toggleable {background-color: white;}#sk-container-id-1 label.sk-toggleable__label {cursor: pointer;display: block;width: 100%;margin-bottom: 0;padding: 0.3em;box-sizing: border-box;text-align: center;}#sk-container-id-1 label.sk-toggleable__label-arrow:before {content: \"▸\";float: left;margin-right: 0.25em;color: #696969;}#sk-container-id-1 label.sk-toggleable__label-arrow:hover:before {color: black;}#sk-container-id-1 div.sk-estimator:hover label.sk-toggleable__label-arrow:before {color: black;}#sk-container-id-1 div.sk-toggleable__content {max-height: 0;max-width: 0;overflow: hidden;text-align: left;background-color: #f0f8ff;}#sk-container-id-1 div.sk-toggleable__content pre {margin: 0.2em;color: black;border-radius: 0.25em;background-color: #f0f8ff;}#sk-container-id-1 input.sk-toggleable__control:checked~div.sk-toggleable__content {max-height: 200px;max-width: 100%;overflow: auto;}#sk-container-id-1 input.sk-toggleable__control:checked~label.sk-toggleable__label-arrow:before {content: \"▾\";}#sk-container-id-1 div.sk-estimator input.sk-toggleable__control:checked~label.sk-toggleable__label {background-color: #d4ebff;}#sk-container-id-1 div.sk-label input.sk-toggleable__control:checked~label.sk-toggleable__label {background-color: #d4ebff;}#sk-container-id-1 input.sk-hidden--visually {border: 0;clip: rect(1px 1px 1px 1px);clip: rect(1px, 1px, 1px, 1px);height: 1px;margin: -1px;overflow: hidden;padding: 0;position: absolute;width: 1px;}#sk-container-id-1 div.sk-estimator {font-family: monospace;background-color: #f0f8ff;border: 1px dotted black;border-radius: 0.25em;box-sizing: border-box;margin-bottom: 0.5em;}#sk-container-id-1 div.sk-estimator:hover {background-color: #d4ebff;}#sk-container-id-1 div.sk-parallel-item::after {content: \"\";width: 100%;border-bottom: 1px solid gray;flex-grow: 1;}#sk-container-id-1 div.sk-label:hover label.sk-toggleable__label {background-color: #d4ebff;}#sk-container-id-1 div.sk-serial::before {content: \"\";position: absolute;border-left: 1px solid gray;box-sizing: border-box;top: 0;bottom: 0;left: 50%;z-index: 0;}#sk-container-id-1 div.sk-serial {display: flex;flex-direction: column;align-items: center;background-color: white;padding-right: 0.2em;padding-left: 0.2em;position: relative;}#sk-container-id-1 div.sk-item {position: relative;z-index: 1;}#sk-container-id-1 div.sk-parallel {display: flex;align-items: stretch;justify-content: center;background-color: white;position: relative;}#sk-container-id-1 div.sk-item::before, #sk-container-id-1 div.sk-parallel-item::before {content: \"\";position: absolute;border-left: 1px solid gray;box-sizing: border-box;top: 0;bottom: 0;left: 50%;z-index: -1;}#sk-container-id-1 div.sk-parallel-item {display: flex;flex-direction: column;z-index: 1;position: relative;background-color: white;}#sk-container-id-1 div.sk-parallel-item:first-child::after {align-self: flex-end;width: 50%;}#sk-container-id-1 div.sk-parallel-item:last-child::after {align-self: flex-start;width: 50%;}#sk-container-id-1 div.sk-parallel-item:only-child::after {width: 0;}#sk-container-id-1 div.sk-dashed-wrapped {border: 1px dashed gray;margin: 0 0.4em 0.5em 0.4em;box-sizing: border-box;padding-bottom: 0.4em;background-color: white;}#sk-container-id-1 div.sk-label label {font-family: monospace;font-weight: bold;display: inline-block;line-height: 1.2em;}#sk-container-id-1 div.sk-label-container {text-align: center;}#sk-container-id-1 div.sk-container {/* jupyter's `normalize.less` sets `[hidden] { display: none; }` but bootstrap.min.css set `[hidden] { display: none !important; }` so we also need the `!important` here to be able to override the default hidden behavior on the sphinx rendered scikit-learn.org. See: https://github.com/scikit-learn/scikit-learn/issues/21755 */display: inline-block !important;position: relative;}#sk-container-id-1 div.sk-text-repr-fallback {display: none;}</style><div id=\"sk-container-id-1\" class=\"sk-top-container\"><div class=\"sk-text-repr-fallback\"><pre>LogisticRegression(random_state=0)</pre><b>In a Jupyter environment, please rerun this cell to show the HTML representation or trust the notebook. <br />On GitHub, the HTML representation is unable to render, please try loading this page with nbviewer.org.</b></div><div class=\"sk-container\" hidden><div class=\"sk-item\"><div class=\"sk-estimator sk-toggleable\"><input class=\"sk-toggleable__control sk-hidden--visually\" id=\"sk-estimator-id-1\" type=\"checkbox\" checked><label for=\"sk-estimator-id-1\" class=\"sk-toggleable__label sk-toggleable__label-arrow\">LogisticRegression</label><div class=\"sk-toggleable__content\"><pre>LogisticRegression(random_state=0)</pre></div></div></div></div></div>"
      ],
      "text/plain": [
       "LogisticRegression(random_state=0)"
      ]
     },
     "execution_count": 5,
     "metadata": {},
     "output_type": "execute_result"
    }
   ],
   "source": [
    "from sklearn.linear_model import LogisticRegression\n",
    "classifier = LogisticRegression(random_state = 0)\n",
    "classifier.fit(X_train, y_train)"
   ]
  },
  {
   "cell_type": "markdown",
   "id": "80c7fac8",
   "metadata": {
    "papermill": {
     "duration": 0.007509,
     "end_time": "2024-02-08T06:49:43.296170",
     "exception": false,
     "start_time": "2024-02-08T06:49:43.288661",
     "status": "completed"
    },
    "tags": []
   },
   "source": [
    "### Predicting on the Test Data"
   ]
  },
  {
   "cell_type": "code",
   "execution_count": 6,
   "id": "9c5d1db4",
   "metadata": {
    "execution": {
     "iopub.execute_input": "2024-02-08T06:49:43.313643Z",
     "iopub.status.busy": "2024-02-08T06:49:43.313225Z",
     "iopub.status.idle": "2024-02-08T06:49:43.318545Z",
     "shell.execute_reply": "2024-02-08T06:49:43.317434Z"
    },
    "papermill": {
     "duration": 0.017168,
     "end_time": "2024-02-08T06:49:43.320759",
     "exception": false,
     "start_time": "2024-02-08T06:49:43.303591",
     "status": "completed"
    },
    "tags": []
   },
   "outputs": [],
   "source": [
    "y_pred = classifier.predict(X_test)"
   ]
  },
  {
   "cell_type": "markdown",
   "id": "5a83263b",
   "metadata": {
    "papermill": {
     "duration": 0.0082,
     "end_time": "2024-02-08T06:49:43.336705",
     "exception": false,
     "start_time": "2024-02-08T06:49:43.328505",
     "status": "completed"
    },
    "tags": []
   },
   "source": [
    "### Comparing Test Data and PRedicted Data"
   ]
  },
  {
   "cell_type": "code",
   "execution_count": 7,
   "id": "189d5088",
   "metadata": {
    "execution": {
     "iopub.execute_input": "2024-02-08T06:49:43.355365Z",
     "iopub.status.busy": "2024-02-08T06:49:43.354929Z",
     "iopub.status.idle": "2024-02-08T06:49:43.362016Z",
     "shell.execute_reply": "2024-02-08T06:49:43.361244Z"
    },
    "papermill": {
     "duration": 0.020326,
     "end_time": "2024-02-08T06:49:43.365354",
     "exception": false,
     "start_time": "2024-02-08T06:49:43.345028",
     "status": "completed"
    },
    "tags": []
   },
   "outputs": [
    {
     "name": "stdout",
     "output_type": "stream",
     "text": [
      "[[1 0]\n",
      " [0 0]\n",
      " [0 0]\n",
      " [0 0]\n",
      " [1 1]\n",
      " [0 0]\n",
      " [1 1]\n",
      " [0 0]\n",
      " [1 1]\n",
      " [1 1]\n",
      " [1 1]\n",
      " [0 0]\n",
      " [1 1]\n",
      " [1 1]\n",
      " [0 0]\n",
      " [0 0]\n",
      " [0 0]\n",
      " [1 0]\n",
      " [1 1]\n",
      " [0 0]\n",
      " [0 0]\n",
      " [0 0]\n",
      " [1 1]\n",
      " [0 0]\n",
      " [0 1]\n",
      " [1 1]\n",
      " [1 1]\n",
      " [1 1]\n",
      " [1 1]\n",
      " [0 0]\n",
      " [1 1]\n",
      " [1 1]\n",
      " [1 1]\n",
      " [1 1]\n",
      " [0 0]\n",
      " [0 0]\n",
      " [1 1]\n",
      " [1 1]\n",
      " [0 0]\n",
      " [1 1]\n",
      " [1 1]\n",
      " [0 1]\n",
      " [1 1]\n",
      " [0 0]\n",
      " [0 0]\n",
      " [0 0]\n",
      " [0 0]\n",
      " [0 0]\n",
      " [0 0]\n",
      " [0 0]\n",
      " [0 0]\n",
      " [1 1]\n",
      " [1 1]\n",
      " [1 1]\n",
      " [1 1]\n",
      " [1 1]\n",
      " [1 1]\n",
      " [1 0]\n",
      " [1 0]\n",
      " [1 1]\n",
      " [0 0]\n",
      " [0 0]\n",
      " [0 0]\n",
      " [1 1]\n",
      " [1 1]\n",
      " [1 1]\n",
      " [0 0]\n",
      " [1 1]\n",
      " [1 1]\n",
      " [0 0]\n",
      " [0 0]\n",
      " [1 0]\n",
      " [1 1]\n",
      " [0 0]\n",
      " [0 0]\n",
      " [1 1]\n",
      " [0 0]\n",
      " [1 1]\n",
      " [1 1]\n",
      " [1 1]\n",
      " [1 1]\n",
      " [1 1]\n",
      " [1 1]\n",
      " [0 0]\n",
      " [1 1]\n",
      " [1 1]\n",
      " [0 0]\n",
      " [0 0]\n",
      " [1 1]\n",
      " [0 0]\n",
      " [1 1]]\n"
     ]
    }
   ],
   "source": [
    "print(np.concatenate((y_pred.reshape(len(y_pred),1),y_test.reshape(len(y_test),1)),1))"
   ]
  },
  {
   "cell_type": "markdown",
   "id": "934fd3e6",
   "metadata": {
    "papermill": {
     "duration": 0.007521,
     "end_time": "2024-02-08T06:49:43.381151",
     "exception": false,
     "start_time": "2024-02-08T06:49:43.373630",
     "status": "completed"
    },
    "tags": []
   },
   "source": [
    "### Confusion Matrix"
   ]
  },
  {
   "cell_type": "code",
   "execution_count": 8,
   "id": "b18405f4",
   "metadata": {
    "execution": {
     "iopub.execute_input": "2024-02-08T06:49:43.398897Z",
     "iopub.status.busy": "2024-02-08T06:49:43.398469Z",
     "iopub.status.idle": "2024-02-08T06:49:43.405029Z",
     "shell.execute_reply": "2024-02-08T06:49:43.404237Z"
    },
    "papermill": {
     "duration": 0.018199,
     "end_time": "2024-02-08T06:49:43.407300",
     "exception": false,
     "start_time": "2024-02-08T06:49:43.389101",
     "status": "completed"
    },
    "tags": []
   },
   "outputs": [],
   "source": [
    "from sklearn.metrics import confusion_matrix\n",
    "cm = confusion_matrix(y_test, y_pred)"
   ]
  },
  {
   "cell_type": "markdown",
   "id": "d60f63de",
   "metadata": {
    "papermill": {
     "duration": 0.00853,
     "end_time": "2024-02-08T06:49:43.423798",
     "exception": false,
     "start_time": "2024-02-08T06:49:43.415268",
     "status": "completed"
    },
    "tags": []
   },
   "source": [
    "### Displaying Confusion Matrix"
   ]
  },
  {
   "cell_type": "code",
   "execution_count": 9,
   "id": "6dd2f54a",
   "metadata": {
    "execution": {
     "iopub.execute_input": "2024-02-08T06:49:43.442978Z",
     "iopub.status.busy": "2024-02-08T06:49:43.442221Z",
     "iopub.status.idle": "2024-02-08T06:49:43.794951Z",
     "shell.execute_reply": "2024-02-08T06:49:43.793975Z"
    },
    "papermill": {
     "duration": 0.365565,
     "end_time": "2024-02-08T06:49:43.797727",
     "exception": false,
     "start_time": "2024-02-08T06:49:43.432162",
     "status": "completed"
    },
    "tags": []
   },
   "outputs": [
    {
     "data": {
      "image/png": "[encoded data removed]",
      "text/plain": [
       "<Figure size 640x480 with 2 Axes>"
      ]
     },
     "metadata": {},
     "output_type": "display_data"
    }
   ],
   "source": [
    "classes= dataset['sex'].unique()\n",
    "from sklearn.metrics import ConfusionMatrixDisplay\n",
    "disp = ConfusionMatrixDisplay(confusion_matrix=cm, display_labels=classes)\n",
    "disp.plot()\n",
    "plt.show()"
   ]
  },
  {
   "cell_type": "markdown",
   "id": "404e476b",
   "metadata": {
    "papermill": {
     "duration": 0.008303,
     "end_time": "2024-02-08T06:49:43.814336",
     "exception": false,
     "start_time": "2024-02-08T06:49:43.806033",
     "status": "completed"
    },
    "tags": []
   },
   "source": [
    "### Printing Accuracy Score and Classification Report"
   ]
  },
  {
   "cell_type": "code",
   "execution_count": 10,
   "id": "9a477413",
   "metadata": {
    "execution": {
     "iopub.execute_input": "2024-02-08T06:49:43.833493Z",
     "iopub.status.busy": "2024-02-08T06:49:43.832793Z",
     "iopub.status.idle": "2024-02-08T06:49:43.849277Z",
     "shell.execute_reply": "2024-02-08T06:49:43.847903Z"
    },
    "papermill": {
     "duration": 0.029666,
     "end_time": "2024-02-08T06:49:43.852430",
     "exception": false,
     "start_time": "2024-02-08T06:49:43.822764",
     "status": "completed"
    },
    "tags": []
   },
   "outputs": [
    {
     "name": "stdout",
     "output_type": "stream",
     "text": [
      "Accuracy:  0.9230769230769231\n",
      "\n",
      "Classification Report: \n",
      "               precision    recall  f1-score   support\n",
      "\n",
      "           0       0.95      0.88      0.92        43\n",
      "           1       0.90      0.96      0.93        48\n",
      "\n",
      "    accuracy                           0.92        91\n",
      "   macro avg       0.93      0.92      0.92        91\n",
      "weighted avg       0.92      0.92      0.92        91\n",
      "\n"
     ]
    }
   ],
   "source": [
    "from sklearn.metrics import accuracy_score, classification_report\n",
    "print(\"Accuracy: \",accuracy_score(y_test,y_pred))\n",
    "print(\"\\nClassification Report: \\n\", classification_report(y_test,y_pred))"
   ]
  }
 ],
 "metadata": {
  "kaggle": {
   "accelerator": "none",
   "dataSources": [
    {
     "datasetId": 1394586,
     "sourceId": 2311467,
     "sourceType": "datasetVersion"
    },
    {
     "datasetId": 1120859,
     "sourceId": 1882037,
     "sourceType": "datasetVersion"
    },
    {
     "datasetId": 4291772,
     "sourceId": 7384155,
     "sourceType": "datasetVersion"
    },
    {
     "datasetId": 737503,
     "sourceId": 1278636,
     "sourceType": "datasetVersion"
    }
   ],
   "dockerImageVersionId": 30646,
   "isGpuEnabled": false,
   "isInternetEnabled": true,
   "language": "python",
   "sourceType": "notebook"
  },
  "kernelspec": {
   "display_name": "Python 3",
   "language": "python",
   "name": "python3"
  },
  "language_info": {
   "codemirror_mode": {
    "name": "ipython",
    "version": 3
   },
   "file_extension": ".py",
   "mimetype": "text/x-python",
   "name": "python",
   "nbconvert_exporter": "python",
   "pygments_lexer": "ipython3",
   "version": "3.12.4"
  },
  "papermill": {
   "default_parameters": {},
   "duration": 7.126021,
   "end_time": "2024-02-08T06:49:44.482404",
   "environment_variables": {},
   "exception": null,
   "input_path": "__notebook__.ipynb",
   "output_path": "__notebook__.ipynb",
   "parameters": {},
   "start_time": "2024-02-08T06:49:37.356383",
   "version": "2.5.0"
  }
 },
 "nbformat": 4,
 "nbformat_minor": 5
}
