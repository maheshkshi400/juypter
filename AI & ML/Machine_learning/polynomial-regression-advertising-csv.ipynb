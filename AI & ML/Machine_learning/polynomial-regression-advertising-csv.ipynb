{
 "cells": [
  {
   "cell_type": "code",
   "execution_count": 5,
   "id": "angry-series",
   "metadata": {
    "execution": {
     "iopub.execute_input": "2021-06-20T13:34:43.813662Z",
     "iopub.status.busy": "2021-06-20T13:34:43.812700Z",
     "iopub.status.idle": "2021-06-20T13:34:44.731007Z",
     "shell.execute_reply": "2021-06-20T13:34:44.730465Z",
     "shell.execute_reply.started": "2021-06-20T13:26:24.310606Z"
    },
    "papermill": {
     "duration": 0.957926,
     "end_time": "2021-06-20T13:34:44.731160",
     "exception": false,
     "start_time": "2021-06-20T13:34:43.773234",
     "status": "completed"
    },
    "tags": []
   },
   "outputs": [],
   "source": [
    "import matplotlib.pyplot as plt\n",
    "import seaborn as sns  \n",
    "import pandas as pd\n",
    "%matplotlib inline"
   ]
  },
  {
   "cell_type": "code",
   "execution_count": 6,
   "id": "daily-surge",
   "metadata": {
    "execution": {
     "iopub.execute_input": "2021-06-20T13:34:44.809833Z",
     "iopub.status.busy": "2021-06-20T13:34:44.809144Z",
     "iopub.status.idle": "2021-06-20T13:34:44.824181Z",
     "shell.execute_reply": "2021-06-20T13:34:44.823539Z",
     "shell.execute_reply.started": "2021-06-20T13:26:25.206391Z"
    },
    "papermill": {
     "duration": 0.056847,
     "end_time": "2021-06-20T13:34:44.824337",
     "exception": false,
     "start_time": "2021-06-20T13:34:44.767490",
     "status": "completed"
    },
    "tags": []
   },
   "outputs": [],
   "source": [
    "df = pd.read_csv(r'C:\\Users\\User\\juypter\\files\\advertising.csv')"
   ]
  },
  {
   "cell_type": "markdown",
   "id": "invalid-messenger",
   "metadata": {
    "papermill": {
     "duration": 0.036805,
     "end_time": "2021-06-20T13:34:44.897557",
     "exception": false,
     "start_time": "2021-06-20T13:34:44.860752",
     "status": "completed"
    },
    "tags": []
   },
   "source": [
    "# Data overview"
   ]
  },
  {
   "cell_type": "code",
   "execution_count": 7,
   "id": "interracial-performance",
   "metadata": {
    "execution": {
     "iopub.execute_input": "2021-06-20T13:34:44.984911Z",
     "iopub.status.busy": "2021-06-20T13:34:44.984058Z",
     "iopub.status.idle": "2021-06-20T13:34:45.004359Z",
     "shell.execute_reply": "2021-06-20T13:34:45.004880Z",
     "shell.execute_reply.started": "2021-06-20T13:26:25.225619Z"
    },
    "papermill": {
     "duration": 0.071232,
     "end_time": "2021-06-20T13:34:45.005065",
     "exception": false,
     "start_time": "2021-06-20T13:34:44.933833",
     "status": "completed"
    },
    "tags": []
   },
   "outputs": [
    {
     "data": {
      "text/html": [
       "<div>\n",
       "<style scoped>\n",
       "    .dataframe tbody tr th:only-of-type {\n",
       "        vertical-align: middle;\n",
       "    }\n",
       "\n",
       "    .dataframe tbody tr th {\n",
       "        vertical-align: top;\n",
       "    }\n",
       "\n",
       "    .dataframe thead th {\n",
       "        text-align: right;\n",
       "    }\n",
       "</style>\n",
       "<table border=\"1\" class=\"dataframe\">\n",
       "  <thead>\n",
       "    <tr style=\"text-align: right;\">\n",
       "      <th></th>\n",
       "      <th>TV</th>\n",
       "      <th>Radio</th>\n",
       "      <th>Newspaper</th>\n",
       "      <th>Sales</th>\n",
       "    </tr>\n",
       "  </thead>\n",
       "  <tbody>\n",
       "    <tr>\n",
       "      <th>0</th>\n",
       "      <td>230.1</td>\n",
       "      <td>37.8</td>\n",
       "      <td>69.2</td>\n",
       "      <td>22.1</td>\n",
       "    </tr>\n",
       "    <tr>\n",
       "      <th>1</th>\n",
       "      <td>44.5</td>\n",
       "      <td>39.3</td>\n",
       "      <td>45.1</td>\n",
       "      <td>10.4</td>\n",
       "    </tr>\n",
       "    <tr>\n",
       "      <th>2</th>\n",
       "      <td>17.2</td>\n",
       "      <td>45.9</td>\n",
       "      <td>69.3</td>\n",
       "      <td>12.0</td>\n",
       "    </tr>\n",
       "    <tr>\n",
       "      <th>3</th>\n",
       "      <td>151.5</td>\n",
       "      <td>41.3</td>\n",
       "      <td>58.5</td>\n",
       "      <td>16.5</td>\n",
       "    </tr>\n",
       "    <tr>\n",
       "      <th>4</th>\n",
       "      <td>180.8</td>\n",
       "      <td>10.8</td>\n",
       "      <td>58.4</td>\n",
       "      <td>17.9</td>\n",
       "    </tr>\n",
       "  </tbody>\n",
       "</table>\n",
       "</div>"
      ],
      "text/plain": [
       "      TV  Radio  Newspaper  Sales\n",
       "0  230.1   37.8       69.2   22.1\n",
       "1   44.5   39.3       45.1   10.4\n",
       "2   17.2   45.9       69.3   12.0\n",
       "3  151.5   41.3       58.5   16.5\n",
       "4  180.8   10.8       58.4   17.9"
      ]
     },
     "execution_count": 7,
     "metadata": {},
     "output_type": "execute_result"
    }
   ],
   "source": [
    "df.head()"
   ]
  },
  {
   "cell_type": "code",
   "execution_count": 8,
   "id": "signal-tulsa",
   "metadata": {
    "execution": {
     "iopub.execute_input": "2021-06-20T13:34:45.082724Z",
     "iopub.status.busy": "2021-06-20T13:34:45.081828Z",
     "iopub.status.idle": "2021-06-20T13:34:45.102257Z",
     "shell.execute_reply": "2021-06-20T13:34:45.102894Z",
     "shell.execute_reply.started": "2021-06-20T13:26:25.258936Z"
    },
    "papermill": {
     "duration": 0.060827,
     "end_time": "2021-06-20T13:34:45.103069",
     "exception": false,
     "start_time": "2021-06-20T13:34:45.042242",
     "status": "completed"
    },
    "tags": []
   },
   "outputs": [
    {
     "name": "stdout",
     "output_type": "stream",
     "text": [
      "<class 'pandas.core.frame.DataFrame'>\n",
      "RangeIndex: 200 entries, 0 to 199\n",
      "Data columns (total 4 columns):\n",
      " #   Column     Non-Null Count  Dtype  \n",
      "---  ------     --------------  -----  \n",
      " 0   TV         200 non-null    float64\n",
      " 1   Radio      200 non-null    float64\n",
      " 2   Newspaper  200 non-null    float64\n",
      " 3   Sales      200 non-null    float64\n",
      "dtypes: float64(4)\n",
      "memory usage: 6.4 KB\n"
     ]
    }
   ],
   "source": [
    "df.info()"
   ]
  },
  {
   "cell_type": "code",
   "execution_count": 9,
   "id": "institutional-attribute",
   "metadata": {
    "execution": {
     "iopub.execute_input": "2021-06-20T13:34:45.180225Z",
     "iopub.status.busy": "2021-06-20T13:34:45.179592Z",
     "iopub.status.idle": "2021-06-20T13:34:45.184791Z",
     "shell.execute_reply": "2021-06-20T13:34:45.185352Z",
     "shell.execute_reply.started": "2021-06-20T13:26:25.281147Z"
    },
    "papermill": {
     "duration": 0.045778,
     "end_time": "2021-06-20T13:34:45.185564",
     "exception": false,
     "start_time": "2021-06-20T13:34:45.139786",
     "status": "completed"
    },
    "tags": []
   },
   "outputs": [
    {
     "data": {
      "text/plain": [
       "(200, 4)"
      ]
     },
     "execution_count": 9,
     "metadata": {},
     "output_type": "execute_result"
    }
   ],
   "source": [
    "df.shape"
   ]
  },
  {
   "cell_type": "markdown",
   "id": "appreciated-sunset",
   "metadata": {
    "papermill": {
     "duration": 0.037387,
     "end_time": "2021-06-20T13:34:45.260021",
     "exception": false,
     "start_time": "2021-06-20T13:34:45.222634",
     "status": "completed"
    },
    "tags": []
   },
   "source": [
    "# Exploratory Data Analysis"
   ]
  },
  {
   "cell_type": "code",
   "execution_count": 10,
   "id": "established-friday",
   "metadata": {
    "execution": {
     "iopub.execute_input": "2021-06-20T13:34:45.337579Z",
     "iopub.status.busy": "2021-06-20T13:34:45.336901Z",
     "iopub.status.idle": "2021-06-20T13:34:48.440132Z",
     "shell.execute_reply": "2021-06-20T13:34:48.440653Z",
     "shell.execute_reply.started": "2021-06-20T13:26:25.294925Z"
    },
    "papermill": {
     "duration": 3.143867,
     "end_time": "2021-06-20T13:34:48.440828",
     "exception": false,
     "start_time": "2021-06-20T13:34:45.296961",
     "status": "completed"
    },
    "tags": []
   },
   "outputs": [
    {
     "data": {
      "text/plain": [
       "<seaborn.axisgrid.PairGrid at 0x12da820d340>"
      ]
     },
     "execution_count": 10,
     "metadata": {},
     "output_type": "execute_result"
    },
    {
     "data": {
      "image/png": "[encoded data removed]",
      "text/plain": [
       "<Figure size 1000x1000 with 20 Axes>"
      ]
     },
     "metadata": {},
     "output_type": "display_data"
    }
   ],
   "source": [
    "sns.pairplot(df, diag_kind='kde')"
   ]
  },
  {
   "cell_type": "code",
   "execution_count": 11,
   "id": "tropical-american",
   "metadata": {
    "execution": {
     "iopub.execute_input": "2021-06-20T13:34:48.560686Z",
     "iopub.status.busy": "2021-06-20T13:34:48.549058Z",
     "iopub.status.idle": "2021-06-20T13:34:48.715020Z",
     "shell.execute_reply": "2021-06-20T13:34:48.713725Z",
     "shell.execute_reply.started": "2021-06-20T13:26:28.620358Z"
    },
    "papermill": {
     "duration": 0.232415,
     "end_time": "2021-06-20T13:34:48.715201",
     "exception": false,
     "start_time": "2021-06-20T13:34:48.482786",
     "status": "completed"
    },
    "tags": []
   },
   "outputs": [
    {
     "data": {
      "text/plain": [
       "<Axes: xlabel='Sales', ylabel='Count'>"
      ]
     },
     "execution_count": 11,
     "metadata": {},
     "output_type": "execute_result"
    },
    {
     "data": {
      "image/png": "[encoded data removed]",
      "text/plain": [
       "<Figure size 640x480 with 1 Axes>"
      ]
     },
     "metadata": {},
     "output_type": "display_data"
    }
   ],
   "source": [
    "sns.histplot(df['Sales'] , kde=True)"
   ]
  },
  {
   "cell_type": "code",
   "execution_count": 12,
   "id": "italian-consumption",
   "metadata": {
    "execution": {
     "iopub.execute_input": "2021-06-20T13:34:48.807047Z",
     "iopub.status.busy": "2021-06-20T13:34:48.806319Z",
     "iopub.status.idle": "2021-06-20T13:34:49.001764Z",
     "shell.execute_reply": "2021-06-20T13:34:49.000987Z",
     "shell.execute_reply.started": "2021-06-20T13:26:28.823723Z"
    },
    "papermill": {
     "duration": 0.243356,
     "end_time": "2021-06-20T13:34:49.001992",
     "exception": false,
     "start_time": "2021-06-20T13:34:48.758636",
     "status": "completed"
    },
    "tags": []
   },
   "outputs": [
    {
     "name": "stderr",
     "output_type": "stream",
     "text": [
      "C:\\Users\\User\\AppData\\Local\\Temp\\ipykernel_17932\\4256165467.py:1: UserWarning: \n",
      "\n",
      "`distplot` is a deprecated function and will be removed in seaborn v0.14.0.\n",
      "\n",
      "Please adapt your code to use either `displot` (a figure-level function with\n",
      "similar flexibility) or `histplot` (an axes-level function for histograms).\n",
      "\n",
      "For a guide to updating your code to use the new functions, please see\n",
      "https://gist.github.com/mwaskom/de44147ed2974457ad6372750bbe5751\n",
      "\n",
      "  sns.distplot(df['Sales'])\n"
     ]
    },
    {
     "data": {
      "text/plain": [
       "<Axes: xlabel='Sales', ylabel='Density'>"
      ]
     },
     "execution_count": 12,
     "metadata": {},
     "output_type": "execute_result"
    },
    {
     "data": {
      "image/png": "[encoded data removed]",
      "text/plain": [
       "<Figure size 640x480 with 1 Axes>"
      ]
     },
     "metadata": {},
     "output_type": "display_data"
    }
   ],
   "source": [
    "sns.distplot(df['Sales'])"
   ]
  },
  {
   "cell_type": "code",
   "execution_count": 13,
   "id": "remarkable-insert",
   "metadata": {
    "execution": {
     "iopub.execute_input": "2021-06-20T13:34:49.126450Z",
     "iopub.status.busy": "2021-06-20T13:34:49.100397Z",
     "iopub.status.idle": "2021-06-20T13:34:49.381039Z",
     "shell.execute_reply": "2021-06-20T13:34:49.380510Z",
     "shell.execute_reply.started": "2021-06-20T13:26:29.073102Z"
    },
    "papermill": {
     "duration": 0.334928,
     "end_time": "2021-06-20T13:34:49.381176",
     "exception": false,
     "start_time": "2021-06-20T13:34:49.046248",
     "status": "completed"
    },
    "tags": []
   },
   "outputs": [
    {
     "data": {
      "text/plain": [
       "<Axes: >"
      ]
     },
     "execution_count": 13,
     "metadata": {},
     "output_type": "execute_result"
    },
    {
     "data": {
      "image/png": "[encoded data removed]",
      "text/plain": [
       "<Figure size 640x480 with 2 Axes>"
      ]
     },
     "metadata": {},
     "output_type": "display_data"
    }
   ],
   "source": [
    "sns.heatmap(df.corr(),annot=True, cmap='rocket', lw=4)"
   ]
  },
  {
   "cell_type": "markdown",
   "id": "portable-nylon",
   "metadata": {
    "papermill": {
     "duration": 0.044816,
     "end_time": "2021-06-20T13:34:49.471681",
     "exception": false,
     "start_time": "2021-06-20T13:34:49.426865",
     "status": "completed"
    },
    "tags": []
   },
   "source": [
    "# Determine the Features and the Target variables"
   ]
  },
  {
   "cell_type": "code",
   "execution_count": 14,
   "id": "equivalent-evaluation",
   "metadata": {
    "execution": {
     "iopub.execute_input": "2021-06-20T13:34:49.569470Z",
     "iopub.status.busy": "2021-06-20T13:34:49.568759Z",
     "iopub.status.idle": "2021-06-20T13:34:49.570749Z",
     "shell.execute_reply": "2021-06-20T13:34:49.571237Z",
     "shell.execute_reply.started": "2021-06-20T13:26:29.345249Z"
    },
    "papermill": {
     "duration": 0.054289,
     "end_time": "2021-06-20T13:34:49.571471",
     "exception": false,
     "start_time": "2021-06-20T13:34:49.517182",
     "status": "completed"
    },
    "tags": []
   },
   "outputs": [],
   "source": [
    "X=df.drop('Sales', axis=1)\n",
    "y=df.Sales"
   ]
  },
  {
   "cell_type": "markdown",
   "id": "married-chassis",
   "metadata": {
    "papermill": {
     "duration": 0.045801,
     "end_time": "2021-06-20T13:34:49.662863",
     "exception": false,
     "start_time": "2021-06-20T13:34:49.617062",
     "status": "completed"
    },
    "tags": []
   },
   "source": [
    "# Preprocessing"
   ]
  },
  {
   "cell_type": "code",
   "execution_count": 15,
   "id": "cutting-holmes",
   "metadata": {
    "execution": {
     "iopub.execute_input": "2021-06-20T13:34:49.756958Z",
     "iopub.status.busy": "2021-06-20T13:34:49.756255Z",
     "iopub.status.idle": "2021-06-20T13:34:49.910455Z",
     "shell.execute_reply": "2021-06-20T13:34:49.910973Z",
     "shell.execute_reply.started": "2021-06-20T13:26:29.354115Z"
    },
    "papermill": {
     "duration": 0.202953,
     "end_time": "2021-06-20T13:34:49.911194",
     "exception": false,
     "start_time": "2021-06-20T13:34:49.708241",
     "status": "completed"
    },
    "tags": []
   },
   "outputs": [],
   "source": [
    "from sklearn.preprocessing import PolynomialFeatures"
   ]
  },
  {
   "cell_type": "code",
   "execution_count": 16,
   "id": "dying-refrigerator",
   "metadata": {
    "execution": {
     "iopub.execute_input": "2021-06-20T13:34:50.009931Z",
     "iopub.status.busy": "2021-06-20T13:34:50.008877Z",
     "iopub.status.idle": "2021-06-20T13:34:50.011067Z",
     "shell.execute_reply": "2021-06-20T13:34:50.011559Z",
     "shell.execute_reply.started": "2021-06-20T13:26:29.511575Z"
    },
    "papermill": {
     "duration": 0.054238,
     "end_time": "2021-06-20T13:34:50.011764",
     "exception": false,
     "start_time": "2021-06-20T13:34:49.957526",
     "status": "completed"
    },
    "tags": []
   },
   "outputs": [],
   "source": [
    "ploynomialConvertor = PolynomialFeatures(degree=2 , include_bias=False)"
   ]
  },
  {
   "cell_type": "code",
   "execution_count": 44,
   "id": "advised-editing",
   "metadata": {
    "execution": {
     "iopub.execute_input": "2021-06-20T13:34:50.108710Z",
     "iopub.status.busy": "2021-06-20T13:34:50.107692Z",
     "iopub.status.idle": "2021-06-20T13:34:50.116303Z",
     "shell.execute_reply": "2021-06-20T13:34:50.116807Z",
     "shell.execute_reply.started": "2021-06-20T13:26:29.518930Z"
    },
    "papermill": {
     "duration": 0.059724,
     "end_time": "2021-06-20T13:34:50.117021",
     "exception": false,
     "start_time": "2021-06-20T13:34:50.057297",
     "status": "completed"
    },
    "tags": []
   },
   "outputs": [],
   "source": [
    "polyFeatures = ploynomialConvertor.fit_transform(X)"
   ]
  },
  {
   "cell_type": "code",
   "execution_count": 18,
   "id": "stainless-numbers",
   "metadata": {
    "execution": {
     "iopub.execute_input": "2021-06-20T13:34:50.214251Z",
     "iopub.status.busy": "2021-06-20T13:34:50.213260Z",
     "iopub.status.idle": "2021-06-20T13:34:50.219817Z",
     "shell.execute_reply": "2021-06-20T13:34:50.220286Z",
     "shell.execute_reply.started": "2021-06-20T13:26:29.534843Z"
    },
    "papermill": {
     "duration": 0.057883,
     "end_time": "2021-06-20T13:34:50.220520",
     "exception": false,
     "start_time": "2021-06-20T13:34:50.162637",
     "status": "completed"
    },
    "tags": []
   },
   "outputs": [
    {
     "data": {
      "text/plain": [
       "(200, 9)"
      ]
     },
     "execution_count": 18,
     "metadata": {},
     "output_type": "execute_result"
    }
   ],
   "source": [
    "polyFeatures.shape"
   ]
  },
  {
   "cell_type": "markdown",
   "id": "cutting-order",
   "metadata": {
    "papermill": {
     "duration": 0.046554,
     "end_time": "2021-06-20T13:34:50.314415",
     "exception": false,
     "start_time": "2021-06-20T13:34:50.267861",
     "status": "completed"
    },
    "tags": []
   },
   "source": [
    "# Spliting data into train and test "
   ]
  },
  {
   "cell_type": "code",
   "execution_count": 19,
   "id": "existing-bouquet",
   "metadata": {
    "execution": {
     "iopub.execute_input": "2021-06-20T13:34:50.410461Z",
     "iopub.status.busy": "2021-06-20T13:34:50.409795Z",
     "iopub.status.idle": "2021-06-20T13:34:50.480794Z",
     "shell.execute_reply": "2021-06-20T13:34:50.480163Z",
     "shell.execute_reply.started": "2021-06-20T13:26:29.550328Z"
    },
    "papermill": {
     "duration": 0.120949,
     "end_time": "2021-06-20T13:34:50.480946",
     "exception": false,
     "start_time": "2021-06-20T13:34:50.359997",
     "status": "completed"
    },
    "tags": []
   },
   "outputs": [],
   "source": [
    "from sklearn.model_selection import train_test_split"
   ]
  },
  {
   "cell_type": "code",
   "execution_count": 20,
   "id": "bibliographic-symphony",
   "metadata": {
    "execution": {
     "iopub.execute_input": "2021-06-20T13:34:50.580097Z",
     "iopub.status.busy": "2021-06-20T13:34:50.579482Z",
     "iopub.status.idle": "2021-06-20T13:34:50.582799Z",
     "shell.execute_reply": "2021-06-20T13:34:50.583303Z",
     "shell.execute_reply.started": "2021-06-20T13:26:29.630602Z"
    },
    "papermill": {
     "duration": 0.055873,
     "end_time": "2021-06-20T13:34:50.583484",
     "exception": false,
     "start_time": "2021-06-20T13:34:50.527611",
     "status": "completed"
    },
    "tags": []
   },
   "outputs": [],
   "source": [
    "X_train, X_test, y_train, y_test = train_test_split(polyFeatures, y, test_size=0.3, random_state=101)"
   ]
  },
  {
   "cell_type": "markdown",
   "id": "initial-ideal",
   "metadata": {
    "papermill": {
     "duration": 0.044777,
     "end_time": "2021-06-20T13:34:50.673613",
     "exception": false,
     "start_time": "2021-06-20T13:34:50.628836",
     "status": "completed"
    },
    "tags": []
   },
   "source": [
    "# Train the model "
   ]
  },
  {
   "cell_type": "code",
   "execution_count": 21,
   "id": "fabulous-newark",
   "metadata": {
    "execution": {
     "iopub.execute_input": "2021-06-20T13:34:50.767151Z",
     "iopub.status.busy": "2021-06-20T13:34:50.766548Z",
     "iopub.status.idle": "2021-06-20T13:34:50.888555Z",
     "shell.execute_reply": "2021-06-20T13:34:50.887996Z",
     "shell.execute_reply.started": "2021-06-20T13:26:29.640574Z"
    },
    "papermill": {
     "duration": 0.170046,
     "end_time": "2021-06-20T13:34:50.888725",
     "exception": false,
     "start_time": "2021-06-20T13:34:50.718679",
     "status": "completed"
    },
    "tags": []
   },
   "outputs": [],
   "source": [
    "from sklearn.linear_model import LinearRegression"
   ]
  },
  {
   "cell_type": "code",
   "execution_count": 22,
   "id": "afraid-resident",
   "metadata": {
    "execution": {
     "iopub.execute_input": "2021-06-20T13:34:50.984554Z",
     "iopub.status.busy": "2021-06-20T13:34:50.983910Z",
     "iopub.status.idle": "2021-06-20T13:34:50.987446Z",
     "shell.execute_reply": "2021-06-20T13:34:50.986920Z",
     "shell.execute_reply.started": "2021-06-20T13:26:29.753917Z"
    },
    "papermill": {
     "duration": 0.052916,
     "end_time": "2021-06-20T13:34:50.987599",
     "exception": false,
     "start_time": "2021-06-20T13:34:50.934683",
     "status": "completed"
    },
    "tags": []
   },
   "outputs": [],
   "source": [
    "model = LinearRegression()"
   ]
  },
  {
   "cell_type": "code",
   "execution_count": 23,
   "id": "governmental-suicide",
   "metadata": {
    "execution": {
     "iopub.execute_input": "2021-06-20T13:34:51.096890Z",
     "iopub.status.busy": "2021-06-20T13:34:51.083979Z",
     "iopub.status.idle": "2021-06-20T13:34:51.104584Z",
     "shell.execute_reply": "2021-06-20T13:34:51.103917Z",
     "shell.execute_reply.started": "2021-06-20T13:26:29.759668Z"
    },
    "papermill": {
     "duration": 0.071104,
     "end_time": "2021-06-20T13:34:51.104739",
     "exception": false,
     "start_time": "2021-06-20T13:34:51.033635",
     "status": "completed"
    },
    "tags": []
   },
   "outputs": [
    {
     "data": {
      "text/html": [
       "<style>#sk-container-id-1 {\n",
       "  /* Definition of color scheme common for light and dark mode */\n",
       "  --sklearn-color-text: black;\n",
       "  --sklearn-color-line: gray;\n",
       "  /* Definition of color scheme for unfitted estimators */\n",
       "  --sklearn-color-unfitted-level-0: #fff5e6;\n",
       "  --sklearn-color-unfitted-level-1: #f6e4d2;\n",
       "  --sklearn-color-unfitted-level-2: #ffe0b3;\n",
       "  --sklearn-color-unfitted-level-3: chocolate;\n",
       "  /* Definition of color scheme for fitted estimators */\n",
       "  --sklearn-color-fitted-level-0: #f0f8ff;\n",
       "  --sklearn-color-fitted-level-1: #d4ebff;\n",
       "  --sklearn-color-fitted-level-2: #b3dbfd;\n",
       "  --sklearn-color-fitted-level-3: cornflowerblue;\n",
       "\n",
       "  /* Specific color for light theme */\n",
       "  --sklearn-color-text-on-default-background: var(--sg-text-color, var(--theme-code-foreground, var(--jp-content-font-color1, black)));\n",
       "  --sklearn-color-background: var(--sg-background-color, var(--theme-background, var(--jp-layout-color0, white)));\n",
       "  --sklearn-color-border-box: var(--sg-text-color, var(--theme-code-foreground, var(--jp-content-font-color1, black)));\n",
       "  --sklearn-color-icon: #696969;\n",
       "\n",
       "  @media (prefers-color-scheme: dark) {\n",
       "    /* Redefinition of color scheme for dark theme */\n",
       "    --sklearn-color-text-on-default-background: var(--sg-text-color, var(--theme-code-foreground, var(--jp-content-font-color1, white)));\n",
       "    --sklearn-color-background: var(--sg-background-color, var(--theme-background, var(--jp-layout-color0, #111)));\n",
       "    --sklearn-color-border-box: var(--sg-text-color, var(--theme-code-foreground, var(--jp-content-font-color1, white)));\n",
       "    --sklearn-color-icon: #878787;\n",
       "  }\n",
       "}\n",
       "\n",
       "#sk-container-id-1 {\n",
       "  color: var(--sklearn-color-text);\n",
       "}\n",
       "\n",
       "#sk-container-id-1 pre {\n",
       "  padding: 0;\n",
       "}\n",
       "\n",
       "#sk-container-id-1 input.sk-hidden--visually {\n",
       "  border: 0;\n",
       "  clip: rect(1px 1px 1px 1px);\n",
       "  clip: rect(1px, 1px, 1px, 1px);\n",
       "  height: 1px;\n",
       "  margin: -1px;\n",
       "  overflow: hidden;\n",
       "  padding: 0;\n",
       "  position: absolute;\n",
       "  width: 1px;\n",
       "}\n",
       "\n",
       "#sk-container-id-1 div.sk-dashed-wrapped {\n",
       "  border: 1px dashed var(--sklearn-color-line);\n",
       "  margin: 0 0.4em 0.5em 0.4em;\n",
       "  box-sizing: border-box;\n",
       "  padding-bottom: 0.4em;\n",
       "  background-color: var(--sklearn-color-background);\n",
       "}\n",
       "\n",
       "#sk-container-id-1 div.sk-container {\n",
       "  /* jupyter's `normalize.less` sets `[hidden] { display: none; }`\n",
       "     but bootstrap.min.css set `[hidden] { display: none !important; }`\n",
       "     so we also need the `!important` here to be able to override the\n",
       "     default hidden behavior on the sphinx rendered scikit-learn.org.\n",
       "     See: https://github.com/scikit-learn/scikit-learn/issues/21755 */\n",
       "  display: inline-block !important;\n",
       "  position: relative;\n",
       "}\n",
       "\n",
       "#sk-container-id-1 div.sk-text-repr-fallback {\n",
       "  display: none;\n",
       "}\n",
       "\n",
       "div.sk-parallel-item,\n",
       "div.sk-serial,\n",
       "div.sk-item {\n",
       "  /* draw centered vertical line to link estimators */\n",
       "  background-image: linear-gradient(var(--sklearn-color-text-on-default-background), var(--sklearn-color-text-on-default-background));\n",
       "  background-size: 2px 100%;\n",
       "  background-repeat: no-repeat;\n",
       "  background-position: center center;\n",
       "}\n",
       "\n",
       "/* Parallel-specific style estimator block */\n",
       "\n",
       "#sk-container-id-1 div.sk-parallel-item::after {\n",
       "  content: \"\";\n",
       "  width: 100%;\n",
       "  border-bottom: 2px solid var(--sklearn-color-text-on-default-background);\n",
       "  flex-grow: 1;\n",
       "}\n",
       "\n",
       "#sk-container-id-1 div.sk-parallel {\n",
       "  display: flex;\n",
       "  align-items: stretch;\n",
       "  justify-content: center;\n",
       "  background-color: var(--sklearn-color-background);\n",
       "  position: relative;\n",
       "}\n",
       "\n",
       "#sk-container-id-1 div.sk-parallel-item {\n",
       "  display: flex;\n",
       "  flex-direction: column;\n",
       "}\n",
       "\n",
       "#sk-container-id-1 div.sk-parallel-item:first-child::after {\n",
       "  align-self: flex-end;\n",
       "  width: 50%;\n",
       "}\n",
       "\n",
       "#sk-container-id-1 div.sk-parallel-item:last-child::after {\n",
       "  align-self: flex-start;\n",
       "  width: 50%;\n",
       "}\n",
       "\n",
       "#sk-container-id-1 div.sk-parallel-item:only-child::after {\n",
       "  width: 0;\n",
       "}\n",
       "\n",
       "/* Serial-specific style estimator block */\n",
       "\n",
       "#sk-container-id-1 div.sk-serial {\n",
       "  display: flex;\n",
       "  flex-direction: column;\n",
       "  align-items: center;\n",
       "  background-color: var(--sklearn-color-background);\n",
       "  padding-right: 1em;\n",
       "  padding-left: 1em;\n",
       "}\n",
       "\n",
       "\n",
       "/* Toggleable style: style used for estimator/Pipeline/ColumnTransformer box that is\n",
       "clickable and can be expanded/collapsed.\n",
       "- Pipeline and ColumnTransformer use this feature and define the default style\n",
       "- Estimators will overwrite some part of the style using the `sk-estimator` class\n",
       "*/\n",
       "\n",
       "/* Pipeline and ColumnTransformer style (default) */\n",
       "\n",
       "#sk-container-id-1 div.sk-toggleable {\n",
       "  /* Default theme specific background. It is overwritten whether we have a\n",
       "  specific estimator or a Pipeline/ColumnTransformer */\n",
       "  background-color: var(--sklearn-color-background);\n",
       "}\n",
       "\n",
       "/* Toggleable label */\n",
       "#sk-container-id-1 label.sk-toggleable__label {\n",
       "  cursor: pointer;\n",
       "  display: block;\n",
       "  width: 100%;\n",
       "  margin-bottom: 0;\n",
       "  padding: 0.5em;\n",
       "  box-sizing: border-box;\n",
       "  text-align: center;\n",
       "}\n",
       "\n",
       "#sk-container-id-1 label.sk-toggleable__label-arrow:before {\n",
       "  /* Arrow on the left of the label */\n",
       "  content: \"▸\";\n",
       "  float: left;\n",
       "  margin-right: 0.25em;\n",
       "  color: var(--sklearn-color-icon);\n",
       "}\n",
       "\n",
       "#sk-container-id-1 label.sk-toggleable__label-arrow:hover:before {\n",
       "  color: var(--sklearn-color-text);\n",
       "}\n",
       "\n",
       "/* Toggleable content - dropdown */\n",
       "\n",
       "#sk-container-id-1 div.sk-toggleable__content {\n",
       "  max-height: 0;\n",
       "  max-width: 0;\n",
       "  overflow: hidden;\n",
       "  text-align: left;\n",
       "  /* unfitted */\n",
       "  background-color: var(--sklearn-color-unfitted-level-0);\n",
       "}\n",
       "\n",
       "#sk-container-id-1 div.sk-toggleable__content.fitted {\n",
       "  /* fitted */\n",
       "  background-color: var(--sklearn-color-fitted-level-0);\n",
       "}\n",
       "\n",
       "#sk-container-id-1 div.sk-toggleable__content pre {\n",
       "  margin: 0.2em;\n",
       "  border-radius: 0.25em;\n",
       "  color: var(--sklearn-color-text);\n",
       "  /* unfitted */\n",
       "  background-color: var(--sklearn-color-unfitted-level-0);\n",
       "}\n",
       "\n",
       "#sk-container-id-1 div.sk-toggleable__content.fitted pre {\n",
       "  /* unfitted */\n",
       "  background-color: var(--sklearn-color-fitted-level-0);\n",
       "}\n",
       "\n",
       "#sk-container-id-1 input.sk-toggleable__control:checked~div.sk-toggleable__content {\n",
       "  /* Expand drop-down */\n",
       "  max-height: 200px;\n",
       "  max-width: 100%;\n",
       "  overflow: auto;\n",
       "}\n",
       "\n",
       "#sk-container-id-1 input.sk-toggleable__control:checked~label.sk-toggleable__label-arrow:before {\n",
       "  content: \"▾\";\n",
       "}\n",
       "\n",
       "/* Pipeline/ColumnTransformer-specific style */\n",
       "\n",
       "#sk-container-id-1 div.sk-label input.sk-toggleable__control:checked~label.sk-toggleable__label {\n",
       "  color: var(--sklearn-color-text);\n",
       "  background-color: var(--sklearn-color-unfitted-level-2);\n",
       "}\n",
       "\n",
       "#sk-container-id-1 div.sk-label.fitted input.sk-toggleable__control:checked~label.sk-toggleable__label {\n",
       "  background-color: var(--sklearn-color-fitted-level-2);\n",
       "}\n",
       "\n",
       "/* Estimator-specific style */\n",
       "\n",
       "/* Colorize estimator box */\n",
       "#sk-container-id-1 div.sk-estimator input.sk-toggleable__control:checked~label.sk-toggleable__label {\n",
       "  /* unfitted */\n",
       "  background-color: var(--sklearn-color-unfitted-level-2);\n",
       "}\n",
       "\n",
       "#sk-container-id-1 div.sk-estimator.fitted input.sk-toggleable__control:checked~label.sk-toggleable__label {\n",
       "  /* fitted */\n",
       "  background-color: var(--sklearn-color-fitted-level-2);\n",
       "}\n",
       "\n",
       "#sk-container-id-1 div.sk-label label.sk-toggleable__label,\n",
       "#sk-container-id-1 div.sk-label label {\n",
       "  /* The background is the default theme color */\n",
       "  color: var(--sklearn-color-text-on-default-background);\n",
       "}\n",
       "\n",
       "/* On hover, darken the color of the background */\n",
       "#sk-container-id-1 div.sk-label:hover label.sk-toggleable__label {\n",
       "  color: var(--sklearn-color-text);\n",
       "  background-color: var(--sklearn-color-unfitted-level-2);\n",
       "}\n",
       "\n",
       "/* Label box, darken color on hover, fitted */\n",
       "#sk-container-id-1 div.sk-label.fitted:hover label.sk-toggleable__label.fitted {\n",
       "  color: var(--sklearn-color-text);\n",
       "  background-color: var(--sklearn-color-fitted-level-2);\n",
       "}\n",
       "\n",
       "/* Estimator label */\n",
       "\n",
       "#sk-container-id-1 div.sk-label label {\n",
       "  font-family: monospace;\n",
       "  font-weight: bold;\n",
       "  display: inline-block;\n",
       "  line-height: 1.2em;\n",
       "}\n",
       "\n",
       "#sk-container-id-1 div.sk-label-container {\n",
       "  text-align: center;\n",
       "}\n",
       "\n",
       "/* Estimator-specific */\n",
       "#sk-container-id-1 div.sk-estimator {\n",
       "  font-family: monospace;\n",
       "  border: 1px dotted var(--sklearn-color-border-box);\n",
       "  border-radius: 0.25em;\n",
       "  box-sizing: border-box;\n",
       "  margin-bottom: 0.5em;\n",
       "  /* unfitted */\n",
       "  background-color: var(--sklearn-color-unfitted-level-0);\n",
       "}\n",
       "\n",
       "#sk-container-id-1 div.sk-estimator.fitted {\n",
       "  /* fitted */\n",
       "  background-color: var(--sklearn-color-fitted-level-0);\n",
       "}\n",
       "\n",
       "/* on hover */\n",
       "#sk-container-id-1 div.sk-estimator:hover {\n",
       "  /* unfitted */\n",
       "  background-color: var(--sklearn-color-unfitted-level-2);\n",
       "}\n",
       "\n",
       "#sk-container-id-1 div.sk-estimator.fitted:hover {\n",
       "  /* fitted */\n",
       "  background-color: var(--sklearn-color-fitted-level-2);\n",
       "}\n",
       "\n",
       "/* Specification for estimator info (e.g. \"i\" and \"?\") */\n",
       "\n",
       "/* Common style for \"i\" and \"?\" */\n",
       "\n",
       ".sk-estimator-doc-link,\n",
       "a:link.sk-estimator-doc-link,\n",
       "a:visited.sk-estimator-doc-link {\n",
       "  float: right;\n",
       "  font-size: smaller;\n",
       "  line-height: 1em;\n",
       "  font-family: monospace;\n",
       "  background-color: var(--sklearn-color-background);\n",
       "  border-radius: 1em;\n",
       "  height: 1em;\n",
       "  width: 1em;\n",
       "  text-decoration: none !important;\n",
       "  margin-left: 1ex;\n",
       "  /* unfitted */\n",
       "  border: var(--sklearn-color-unfitted-level-1) 1pt solid;\n",
       "  color: var(--sklearn-color-unfitted-level-1);\n",
       "}\n",
       "\n",
       ".sk-estimator-doc-link.fitted,\n",
       "a:link.sk-estimator-doc-link.fitted,\n",
       "a:visited.sk-estimator-doc-link.fitted {\n",
       "  /* fitted */\n",
       "  border: var(--sklearn-color-fitted-level-1) 1pt solid;\n",
       "  color: var(--sklearn-color-fitted-level-1);\n",
       "}\n",
       "\n",
       "/* On hover */\n",
       "div.sk-estimator:hover .sk-estimator-doc-link:hover,\n",
       ".sk-estimator-doc-link:hover,\n",
       "div.sk-label-container:hover .sk-estimator-doc-link:hover,\n",
       ".sk-estimator-doc-link:hover {\n",
       "  /* unfitted */\n",
       "  background-color: var(--sklearn-color-unfitted-level-3);\n",
       "  color: var(--sklearn-color-background);\n",
       "  text-decoration: none;\n",
       "}\n",
       "\n",
       "div.sk-estimator.fitted:hover .sk-estimator-doc-link.fitted:hover,\n",
       ".sk-estimator-doc-link.fitted:hover,\n",
       "div.sk-label-container:hover .sk-estimator-doc-link.fitted:hover,\n",
       ".sk-estimator-doc-link.fitted:hover {\n",
       "  /* fitted */\n",
       "  background-color: var(--sklearn-color-fitted-level-3);\n",
       "  color: var(--sklearn-color-background);\n",
       "  text-decoration: none;\n",
       "}\n",
       "\n",
       "/* Span, style for the box shown on hovering the info icon */\n",
       ".sk-estimator-doc-link span {\n",
       "  display: none;\n",
       "  z-index: 9999;\n",
       "  position: relative;\n",
       "  font-weight: normal;\n",
       "  right: .2ex;\n",
       "  padding: .5ex;\n",
       "  margin: .5ex;\n",
       "  width: min-content;\n",
       "  min-width: 20ex;\n",
       "  max-width: 50ex;\n",
       "  color: var(--sklearn-color-text);\n",
       "  box-shadow: 2pt 2pt 4pt #999;\n",
       "  /* unfitted */\n",
       "  background: var(--sklearn-color-unfitted-level-0);\n",
       "  border: .5pt solid var(--sklearn-color-unfitted-level-3);\n",
       "}\n",
       "\n",
       ".sk-estimator-doc-link.fitted span {\n",
       "  /* fitted */\n",
       "  background: var(--sklearn-color-fitted-level-0);\n",
       "  border: var(--sklearn-color-fitted-level-3);\n",
       "}\n",
       "\n",
       ".sk-estimator-doc-link:hover span {\n",
       "  display: block;\n",
       "}\n",
       "\n",
       "/* \"?\"-specific style due to the `<a>` HTML tag */\n",
       "\n",
       "#sk-container-id-1 a.estimator_doc_link {\n",
       "  float: right;\n",
       "  font-size: 1rem;\n",
       "  line-height: 1em;\n",
       "  font-family: monospace;\n",
       "  background-color: var(--sklearn-color-background);\n",
       "  border-radius: 1rem;\n",
       "  height: 1rem;\n",
       "  width: 1rem;\n",
       "  text-decoration: none;\n",
       "  /* unfitted */\n",
       "  color: var(--sklearn-color-unfitted-level-1);\n",
       "  border: var(--sklearn-color-unfitted-level-1) 1pt solid;\n",
       "}\n",
       "\n",
       "#sk-container-id-1 a.estimator_doc_link.fitted {\n",
       "  /* fitted */\n",
       "  border: var(--sklearn-color-fitted-level-1) 1pt solid;\n",
       "  color: var(--sklearn-color-fitted-level-1);\n",
       "}\n",
       "\n",
       "/* On hover */\n",
       "#sk-container-id-1 a.estimator_doc_link:hover {\n",
       "  /* unfitted */\n",
       "  background-color: var(--sklearn-color-unfitted-level-3);\n",
       "  color: var(--sklearn-color-background);\n",
       "  text-decoration: none;\n",
       "}\n",
       "\n",
       "#sk-container-id-1 a.estimator_doc_link.fitted:hover {\n",
       "  /* fitted */\n",
       "  background-color: var(--sklearn-color-fitted-level-3);\n",
       "}\n",
       "</style><div id=\"sk-container-id-1\" class=\"sk-top-container\"><div class=\"sk-text-repr-fallback\"><pre>LinearRegression()</pre><b>In a Jupyter environment, please rerun this cell to show the HTML representation or trust the notebook. <br />On GitHub, the HTML representation is unable to render, please try loading this page with nbviewer.org.</b></div><div class=\"sk-container\" hidden><div class=\"sk-item\"><div class=\"sk-estimator fitted sk-toggleable\"><input class=\"sk-toggleable__control sk-hidden--visually\" id=\"sk-estimator-id-1\" type=\"checkbox\" checked><label for=\"sk-estimator-id-1\" class=\"sk-toggleable__label fitted sk-toggleable__label-arrow fitted\">&nbsp;&nbsp;LinearRegression<a class=\"sk-estimator-doc-link fitted\" rel=\"noreferrer\" target=\"_blank\" href=\"https://scikit-learn.org/1.4/modules/generated/sklearn.linear_model.LinearRegression.html\">?<span>Documentation for LinearRegression</span></a><span class=\"sk-estimator-doc-link fitted\">i<span>Fitted</span></span></label><div class=\"sk-toggleable__content fitted\"><pre>LinearRegression()</pre></div> </div></div></div></div>"
      ],
      "text/plain": [
       "LinearRegression()"
      ]
     },
     "execution_count": 23,
     "metadata": {},
     "output_type": "execute_result"
    }
   ],
   "source": [
    "model.fit(X_train , y_train)"
   ]
  },
  {
   "cell_type": "code",
   "execution_count": null,
   "id": "4befafa9",
   "metadata": {},
   "outputs": [],
   "source": [
    "model.score(X_test, y_test)*100"
   ]
  },
  {
   "cell_type": "code",
   "execution_count": 47,
   "id": "e3352ea6",
   "metadata": {},
   "outputs": [
    {
     "data": {
      "text/plain": [
       "array([ 7.74943882e-02, -3.01295400e-02, -7.93771897e-03, -1.11245536e-04,\n",
       "        5.12535556e-04, -6.47629641e-05,  1.22518214e-03,  1.43286372e-04,\n",
       "        1.68151712e-04])"
      ]
     },
     "execution_count": 47,
     "metadata": {},
     "output_type": "execute_result"
    }
   ],
   "source": [
    "model.coef_"
   ]
  },
  {
   "cell_type": "code",
   "execution_count": 48,
   "id": "5b195c03",
   "metadata": {},
   "outputs": [
    {
     "data": {
      "text/plain": [
       "5.0900587465977445"
      ]
     },
     "execution_count": 48,
     "metadata": {},
     "output_type": "execute_result"
    }
   ],
   "source": [
    "model.intercept_"
   ]
  },
  {
   "cell_type": "markdown",
   "id": "cosmetic-mapping",
   "metadata": {
    "papermill": {
     "duration": 0.045796,
     "end_time": "2021-06-20T13:34:51.196119",
     "exception": false,
     "start_time": "2021-06-20T13:34:51.150323",
     "status": "completed"
    },
    "tags": []
   },
   "source": [
    "# Predciting test data"
   ]
  },
  {
   "cell_type": "code",
   "execution_count": 24,
   "id": "southwest-louisville",
   "metadata": {
    "execution": {
     "iopub.execute_input": "2021-06-20T13:34:51.292257Z",
     "iopub.status.busy": "2021-06-20T13:34:51.291649Z",
     "iopub.status.idle": "2021-06-20T13:34:51.293915Z",
     "shell.execute_reply": "2021-06-20T13:34:51.294514Z",
     "shell.execute_reply.started": "2021-06-20T13:26:29.788746Z"
    },
    "papermill": {
     "duration": 0.053259,
     "end_time": "2021-06-20T13:34:51.294683",
     "exception": false,
     "start_time": "2021-06-20T13:34:51.241424",
     "status": "completed"
    },
    "tags": []
   },
   "outputs": [],
   "source": [
    "y_pred = model.predict(X_test)"
   ]
  },
  {
   "cell_type": "code",
   "execution_count": 25,
   "id": "defined-processing",
   "metadata": {
    "execution": {
     "iopub.execute_input": "2021-06-20T13:34:51.388979Z",
     "iopub.status.busy": "2021-06-20T13:34:51.388340Z",
     "iopub.status.idle": "2021-06-20T13:34:51.401971Z",
     "shell.execute_reply": "2021-06-20T13:34:51.402609Z",
     "shell.execute_reply.started": "2021-06-20T13:26:29.797097Z"
    },
    "papermill": {
     "duration": 0.062708,
     "end_time": "2021-06-20T13:34:51.402803",
     "exception": false,
     "start_time": "2021-06-20T13:34:51.340095",
     "status": "completed"
    },
    "tags": []
   },
   "outputs": [
    {
     "data": {
      "text/html": [
       "<div>\n",
       "<style scoped>\n",
       "    .dataframe tbody tr th:only-of-type {\n",
       "        vertical-align: middle;\n",
       "    }\n",
       "\n",
       "    .dataframe tbody tr th {\n",
       "        vertical-align: top;\n",
       "    }\n",
       "\n",
       "    .dataframe thead th {\n",
       "        text-align: right;\n",
       "    }\n",
       "</style>\n",
       "<table border=\"1\" class=\"dataframe\">\n",
       "  <thead>\n",
       "    <tr style=\"text-align: right;\">\n",
       "      <th></th>\n",
       "      <th>Y_Test</th>\n",
       "      <th>y_pred</th>\n",
       "      <th>Residuals</th>\n",
       "    </tr>\n",
       "  </thead>\n",
       "  <tbody>\n",
       "    <tr>\n",
       "      <th>37</th>\n",
       "      <td>14.7</td>\n",
       "      <td>13.741787</td>\n",
       "      <td>-0.958213</td>\n",
       "    </tr>\n",
       "    <tr>\n",
       "      <th>109</th>\n",
       "      <td>19.8</td>\n",
       "      <td>21.114650</td>\n",
       "      <td>1.314650</td>\n",
       "    </tr>\n",
       "    <tr>\n",
       "      <th>31</th>\n",
       "      <td>11.9</td>\n",
       "      <td>13.032879</td>\n",
       "      <td>1.132879</td>\n",
       "    </tr>\n",
       "    <tr>\n",
       "      <th>89</th>\n",
       "      <td>16.7</td>\n",
       "      <td>16.329718</td>\n",
       "      <td>-0.370282</td>\n",
       "    </tr>\n",
       "    <tr>\n",
       "      <th>66</th>\n",
       "      <td>11.0</td>\n",
       "      <td>7.804774</td>\n",
       "      <td>-3.195226</td>\n",
       "    </tr>\n",
       "  </tbody>\n",
       "</table>\n",
       "</div>"
      ],
      "text/plain": [
       "     Y_Test     y_pred  Residuals\n",
       "37     14.7  13.741787  -0.958213\n",
       "109    19.8  21.114650   1.314650\n",
       "31     11.9  13.032879   1.132879\n",
       "89     16.7  16.329718  -0.370282\n",
       "66     11.0   7.804774  -3.195226"
      ]
     },
     "execution_count": 25,
     "metadata": {},
     "output_type": "execute_result"
    }
   ],
   "source": [
    "pd.DataFrame({'Y_Test':y_test , 'y_pred':y_pred , 'Residuals':(y_pred-y_test) }).head()"
   ]
  },
  {
   "cell_type": "markdown",
   "id": "published-peter",
   "metadata": {
    "papermill": {
     "duration": 0.045554,
     "end_time": "2021-06-20T13:34:51.500595",
     "exception": false,
     "start_time": "2021-06-20T13:34:51.455041",
     "status": "completed"
    },
    "tags": []
   },
   "source": [
    "# Evaluating the model"
   ]
  },
  {
   "cell_type": "code",
   "execution_count": 26,
   "id": "under-audio",
   "metadata": {
    "execution": {
     "iopub.execute_input": "2021-06-20T13:34:51.597749Z",
     "iopub.status.busy": "2021-06-20T13:34:51.597074Z",
     "iopub.status.idle": "2021-06-20T13:34:51.600985Z",
     "shell.execute_reply": "2021-06-20T13:34:51.601541Z",
     "shell.execute_reply.started": "2021-06-20T13:26:29.820611Z"
    },
    "papermill": {
     "duration": 0.054705,
     "end_time": "2021-06-20T13:34:51.601715",
     "exception": false,
     "start_time": "2021-06-20T13:34:51.547010",
     "status": "completed"
    },
    "tags": []
   },
   "outputs": [],
   "source": [
    "from sklearn import metrics"
   ]
  },
  {
   "cell_type": "code",
   "execution_count": 28,
   "id": "pleased-configuration",
   "metadata": {
    "execution": {
     "iopub.execute_input": "2021-06-20T13:34:51.697615Z",
     "iopub.status.busy": "2021-06-20T13:34:51.696868Z",
     "iopub.status.idle": "2021-06-20T13:34:51.710696Z",
     "shell.execute_reply": "2021-06-20T13:34:51.710047Z",
     "shell.execute_reply.started": "2021-06-20T13:26:29.830551Z"
    },
    "papermill": {
     "duration": 0.06277,
     "end_time": "2021-06-20T13:34:51.710848",
     "exception": false,
     "start_time": "2021-06-20T13:34:51.648078",
     "status": "completed"
    },
    "tags": []
   },
   "outputs": [
    {
     "data": {
      "text/html": [
       "<div>\n",
       "<style scoped>\n",
       "    .dataframe tbody tr th:only-of-type {\n",
       "        vertical-align: middle;\n",
       "    }\n",
       "\n",
       "    .dataframe tbody tr th {\n",
       "        vertical-align: top;\n",
       "    }\n",
       "\n",
       "    .dataframe thead th {\n",
       "        text-align: right;\n",
       "    }\n",
       "</style>\n",
       "<table border=\"1\" class=\"dataframe\">\n",
       "  <thead>\n",
       "    <tr style=\"text-align: right;\">\n",
       "      <th></th>\n",
       "      <th>Metrics</th>\n",
       "    </tr>\n",
       "  </thead>\n",
       "  <tbody>\n",
       "    <tr>\n",
       "      <th>MAE</th>\n",
       "      <td>1.154803</td>\n",
       "    </tr>\n",
       "    <tr>\n",
       "      <th>MSE</th>\n",
       "      <td>2.130384</td>\n",
       "    </tr>\n",
       "    <tr>\n",
       "      <th>RMSE</th>\n",
       "      <td>1.459583</td>\n",
       "    </tr>\n",
       "  </tbody>\n",
       "</table>\n",
       "</div>"
      ],
      "text/plain": [
       "       Metrics\n",
       "MAE   1.154803\n",
       "MSE   2.130384\n",
       "RMSE  1.459583"
      ]
     },
     "execution_count": 28,
     "metadata": {},
     "output_type": "execute_result"
    }
   ],
   "source": [
    "import numpy as np\n",
    "MAE= metrics.mean_absolute_error(y_pred , y_test)\n",
    "MSE=metrics.mean_squared_error(y_pred, y_test)\n",
    "RMSE=np.sqrt(MSE)\n",
    "pd.DataFrame([MAE , MSE , RMSE], index=['MAE', 'MSE', 'RMSE'] , columns=['Metrics'])"
   ]
  },
  {
   "cell_type": "code",
   "execution_count": 30,
   "id": "excessive-politics",
   "metadata": {
    "execution": {
     "iopub.execute_input": "2021-06-20T13:34:51.807596Z",
     "iopub.status.busy": "2021-06-20T13:34:51.806887Z",
     "iopub.status.idle": "2021-06-20T13:34:51.828427Z",
     "shell.execute_reply": "2021-06-20T13:34:51.827768Z",
     "shell.execute_reply.started": "2021-06-20T13:26:29.849912Z"
    },
    "papermill": {
     "duration": 0.071245,
     "end_time": "2021-06-20T13:34:51.828572",
     "exception": false,
     "start_time": "2021-06-20T13:34:51.757327",
     "status": "completed"
    },
    "tags": []
   },
   "outputs": [
    {
     "data": {
      "text/html": [
       "<div>\n",
       "<style scoped>\n",
       "    .dataframe tbody tr th:only-of-type {\n",
       "        vertical-align: middle;\n",
       "    }\n",
       "\n",
       "    .dataframe tbody tr th {\n",
       "        vertical-align: top;\n",
       "    }\n",
       "\n",
       "    .dataframe thead th {\n",
       "        text-align: right;\n",
       "    }\n",
       "</style>\n",
       "<table border=\"1\" class=\"dataframe\">\n",
       "  <thead>\n",
       "    <tr style=\"text-align: right;\">\n",
       "      <th></th>\n",
       "      <th>PolyMetrics</th>\n",
       "      <th>LinearMetrics</th>\n",
       "    </tr>\n",
       "  </thead>\n",
       "  <tbody>\n",
       "    <tr>\n",
       "      <th>MAE</th>\n",
       "      <td>1.154803</td>\n",
       "      <td>1.373120</td>\n",
       "    </tr>\n",
       "    <tr>\n",
       "      <th>MSE</th>\n",
       "      <td>2.130384</td>\n",
       "      <td>2.868571</td>\n",
       "    </tr>\n",
       "    <tr>\n",
       "      <th>RMSE</th>\n",
       "      <td>1.459583</td>\n",
       "      <td>1.693686</td>\n",
       "    </tr>\n",
       "  </tbody>\n",
       "</table>\n",
       "</div>"
      ],
      "text/plain": [
       "      PolyMetrics  LinearMetrics\n",
       "MAE      1.154803       1.373120\n",
       "MSE      2.130384       2.868571\n",
       "RMSE     1.459583       1.693686"
      ]
     },
     "execution_count": 30,
     "metadata": {},
     "output_type": "execute_result"
    }
   ],
   "source": [
    "XS_train, XS_test, ys_train, ys_test = train_test_split(X, y, test_size=0.3, random_state=101)\n",
    "linearmodel=LinearRegression()\n",
    "linearmodel.fit(XS_train, ys_train)\n",
    "ys_pred=linearmodel.predict(XS_test)\n",
    "\n",
    "MAE_linear = metrics.mean_absolute_error(ys_test,ys_pred)\n",
    "MSE_linear = metrics.mean_squared_error(ys_test,ys_pred)\n",
    "RMSE_linear = np.sqrt(MSE_linear)\n",
    "pd.DataFrame({'PolyMetrics':[MAE , MSE ,RMSE] , 'LinearMetrics':[MAE_linear, MSE_linear ,RMSE_linear]}, index=['MAE', 'MSE', 'RMSE'])"
   ]
  },
  {
   "cell_type": "markdown",
   "id": "minute-savannah",
   "metadata": {
    "papermill": {
     "duration": 0.046921,
     "end_time": "2021-06-20T13:34:51.923569",
     "exception": false,
     "start_time": "2021-06-20T13:34:51.876648",
     "status": "completed"
    },
    "tags": []
   },
   "source": [
    "#  Adjusting Model Parameters"
   ]
  },
  {
   "cell_type": "code",
   "execution_count": 31,
   "id": "fossil-secretariat",
   "metadata": {
    "execution": {
     "iopub.execute_input": "2021-06-20T13:34:52.031899Z",
     "iopub.status.busy": "2021-06-20T13:34:52.031135Z",
     "iopub.status.idle": "2021-06-20T13:34:52.207677Z",
     "shell.execute_reply": "2021-06-20T13:34:52.209405Z",
     "shell.execute_reply.started": "2021-06-20T13:26:29.877056Z"
    },
    "papermill": {
     "duration": 0.238924,
     "end_time": "2021-06-20T13:34:52.209735",
     "exception": false,
     "start_time": "2021-06-20T13:34:51.970811",
     "status": "completed"
    },
    "tags": []
   },
   "outputs": [],
   "source": [
    "# Train List of RMSE per degree\n",
    "train_RMSE_list=[]\n",
    "#Test List of RMSE per degree\n",
    "test_RMSE_list=[]\n",
    "\n",
    "for d in range(1,10):\n",
    "    \n",
    "    #Preprocessing\n",
    "    #create poly data set for degree (d)\n",
    "    polynomial_converter= PolynomialFeatures(degree=d, include_bias=False)\n",
    "    poly_features= polynomial_converter.fit(X)\n",
    "    poly_features= polynomial_converter.transform(X)\n",
    "    \n",
    "    #Split the dataset\n",
    "    X_train, X_test, y_train, y_test = train_test_split(poly_features, y, test_size=0.3, random_state=101)\n",
    "    \n",
    "    #Train the Model\n",
    "    polymodel=LinearRegression()\n",
    "    polymodel.fit(X_train, y_train)\n",
    "    \n",
    "    #Predicting on both Train & Test Data\n",
    "    y_train_pred=polymodel.predict(X_train)\n",
    "    y_test_pred=polymodel.predict(X_test)\n",
    "    \n",
    "    #Evaluating the Model\n",
    "    \n",
    "    #RMSE of Train set\n",
    "    train_RMSE=np.sqrt(metrics.mean_squared_error(y_train, y_train_pred))\n",
    "    \n",
    "    #RMSE of Test Set\n",
    "    test_RMSE=np.sqrt(metrics.mean_squared_error(y_test, y_test_pred))\n",
    "    \n",
    "    #Append the RMSE to the Train and Test List\n",
    "    \n",
    "    train_RMSE_list.append(train_RMSE)\n",
    "    test_RMSE_list.append(test_RMSE)"
   ]
  },
  {
   "cell_type": "code",
   "execution_count": null,
   "id": "headed-jacob",
   "metadata": {
    "execution": {
     "iopub.execute_input": "2021-06-20T13:34:52.390641Z",
     "iopub.status.busy": "2021-06-20T13:34:52.389918Z",
     "iopub.status.idle": "2021-06-20T13:34:52.394241Z",
     "shell.execute_reply": "2021-06-20T13:34:52.393688Z",
     "shell.execute_reply.started": "2021-06-20T13:26:30.055182Z"
    },
    "papermill": {
     "duration": 0.057572,
     "end_time": "2021-06-20T13:34:52.394421",
     "exception": false,
     "start_time": "2021-06-20T13:34:52.336849",
     "status": "completed"
    },
    "tags": []
   },
   "outputs": [],
   "source": [
    "test_RMSE_list"
   ]
  },
  {
   "cell_type": "markdown",
   "id": "experimental-society",
   "metadata": {
    "papermill": {
     "duration": 0.047831,
     "end_time": "2021-06-20T13:34:52.490185",
     "exception": false,
     "start_time": "2021-06-20T13:34:52.442354",
     "status": "completed"
    },
    "tags": []
   },
   "source": [
    "# Plot the Polynomial degree VS RMSE"
   ]
  },
  {
   "cell_type": "code",
   "execution_count": 33,
   "id": "stopped-religion",
   "metadata": {
    "execution": {
     "iopub.execute_input": "2021-06-20T13:34:52.611226Z",
     "iopub.status.busy": "2021-06-20T13:34:52.610183Z",
     "iopub.status.idle": "2021-06-20T13:34:52.769122Z",
     "shell.execute_reply": "2021-06-20T13:34:52.768620Z",
     "shell.execute_reply.started": "2021-06-20T13:26:30.076077Z"
    },
    "papermill": {
     "duration": 0.231249,
     "end_time": "2021-06-20T13:34:52.769272",
     "exception": false,
     "start_time": "2021-06-20T13:34:52.538023",
     "status": "completed"
    },
    "tags": []
   },
   "outputs": [
    {
     "data": {
      "text/plain": [
       "<matplotlib.legend.Legend at 0x12daef4ae40>"
      ]
     },
     "execution_count": 33,
     "metadata": {},
     "output_type": "execute_result"
    },
    {
     "data": {
      "image/png": "[encoded data removed]",
      "text/plain": [
       "<Figure size 640x480 with 1 Axes>"
      ]
     },
     "metadata": {},
     "output_type": "display_data"
    }
   ],
   "source": [
    "plt.plot(range(1,6), train_RMSE_list[:5], label='Train RMSE')\n",
    "plt.plot(range(1,6), test_RMSE_list[:5], label='Test RMSE')\n",
    "\n",
    "plt.xlabel('Polynomial Degree')\n",
    "plt.ylabel('RMSE')\n",
    "plt.legend()"
   ]
  },
  {
   "cell_type": "markdown",
   "id": "concerned-copyright",
   "metadata": {
    "papermill": {
     "duration": 0.048571,
     "end_time": "2021-06-20T13:34:52.866628",
     "exception": false,
     "start_time": "2021-06-20T13:34:52.818057",
     "status": "completed"
    },
    "tags": []
   },
   "source": [
    "# Finalizing Model Parameters"
   ]
  },
  {
   "cell_type": "code",
   "execution_count": 34,
   "id": "robust-examination",
   "metadata": {
    "execution": {
     "iopub.execute_input": "2021-06-20T13:34:52.974061Z",
     "iopub.status.busy": "2021-06-20T13:34:52.973034Z",
     "iopub.status.idle": "2021-06-20T13:34:52.981598Z",
     "shell.execute_reply": "2021-06-20T13:34:52.980939Z",
     "shell.execute_reply.started": "2021-06-20T13:31:14.054339Z"
    },
    "papermill": {
     "duration": 0.06655,
     "end_time": "2021-06-20T13:34:52.981747",
     "exception": false,
     "start_time": "2021-06-20T13:34:52.915197",
     "status": "completed"
    },
    "tags": []
   },
   "outputs": [
    {
     "data": {
      "text/html": [
       "<style>#sk-container-id-2 {\n",
       "  /* Definition of color scheme common for light and dark mode */\n",
       "  --sklearn-color-text: black;\n",
       "  --sklearn-color-line: gray;\n",
       "  /* Definition of color scheme for unfitted estimators */\n",
       "  --sklearn-color-unfitted-level-0: #fff5e6;\n",
       "  --sklearn-color-unfitted-level-1: #f6e4d2;\n",
       "  --sklearn-color-unfitted-level-2: #ffe0b3;\n",
       "  --sklearn-color-unfitted-level-3: chocolate;\n",
       "  /* Definition of color scheme for fitted estimators */\n",
       "  --sklearn-color-fitted-level-0: #f0f8ff;\n",
       "  --sklearn-color-fitted-level-1: #d4ebff;\n",
       "  --sklearn-color-fitted-level-2: #b3dbfd;\n",
       "  --sklearn-color-fitted-level-3: cornflowerblue;\n",
       "\n",
       "  /* Specific color for light theme */\n",
       "  --sklearn-color-text-on-default-background: var(--sg-text-color, var(--theme-code-foreground, var(--jp-content-font-color1, black)));\n",
       "  --sklearn-color-background: var(--sg-background-color, var(--theme-background, var(--jp-layout-color0, white)));\n",
       "  --sklearn-color-border-box: var(--sg-text-color, var(--theme-code-foreground, var(--jp-content-font-color1, black)));\n",
       "  --sklearn-color-icon: #696969;\n",
       "\n",
       "  @media (prefers-color-scheme: dark) {\n",
       "    /* Redefinition of color scheme for dark theme */\n",
       "    --sklearn-color-text-on-default-background: var(--sg-text-color, var(--theme-code-foreground, var(--jp-content-font-color1, white)));\n",
       "    --sklearn-color-background: var(--sg-background-color, var(--theme-background, var(--jp-layout-color0, #111)));\n",
       "    --sklearn-color-border-box: var(--sg-text-color, var(--theme-code-foreground, var(--jp-content-font-color1, white)));\n",
       "    --sklearn-color-icon: #878787;\n",
       "  }\n",
       "}\n",
       "\n",
       "#sk-container-id-2 {\n",
       "  color: var(--sklearn-color-text);\n",
       "}\n",
       "\n",
       "#sk-container-id-2 pre {\n",
       "  padding: 0;\n",
       "}\n",
       "\n",
       "#sk-container-id-2 input.sk-hidden--visually {\n",
       "  border: 0;\n",
       "  clip: rect(1px 1px 1px 1px);\n",
       "  clip: rect(1px, 1px, 1px, 1px);\n",
       "  height: 1px;\n",
       "  margin: -1px;\n",
       "  overflow: hidden;\n",
       "  padding: 0;\n",
       "  position: absolute;\n",
       "  width: 1px;\n",
       "}\n",
       "\n",
       "#sk-container-id-2 div.sk-dashed-wrapped {\n",
       "  border: 1px dashed var(--sklearn-color-line);\n",
       "  margin: 0 0.4em 0.5em 0.4em;\n",
       "  box-sizing: border-box;\n",
       "  padding-bottom: 0.4em;\n",
       "  background-color: var(--sklearn-color-background);\n",
       "}\n",
       "\n",
       "#sk-container-id-2 div.sk-container {\n",
       "  /* jupyter's `normalize.less` sets `[hidden] { display: none; }`\n",
       "     but bootstrap.min.css set `[hidden] { display: none !important; }`\n",
       "     so we also need the `!important` here to be able to override the\n",
       "     default hidden behavior on the sphinx rendered scikit-learn.org.\n",
       "     See: https://github.com/scikit-learn/scikit-learn/issues/21755 */\n",
       "  display: inline-block !important;\n",
       "  position: relative;\n",
       "}\n",
       "\n",
       "#sk-container-id-2 div.sk-text-repr-fallback {\n",
       "  display: none;\n",
       "}\n",
       "\n",
       "div.sk-parallel-item,\n",
       "div.sk-serial,\n",
       "div.sk-item {\n",
       "  /* draw centered vertical line to link estimators */\n",
       "  background-image: linear-gradient(var(--sklearn-color-text-on-default-background), var(--sklearn-color-text-on-default-background));\n",
       "  background-size: 2px 100%;\n",
       "  background-repeat: no-repeat;\n",
       "  background-position: center center;\n",
       "}\n",
       "\n",
       "/* Parallel-specific style estimator block */\n",
       "\n",
       "#sk-container-id-2 div.sk-parallel-item::after {\n",
       "  content: \"\";\n",
       "  width: 100%;\n",
       "  border-bottom: 2px solid var(--sklearn-color-text-on-default-background);\n",
       "  flex-grow: 1;\n",
       "}\n",
       "\n",
       "#sk-container-id-2 div.sk-parallel {\n",
       "  display: flex;\n",
       "  align-items: stretch;\n",
       "  justify-content: center;\n",
       "  background-color: var(--sklearn-color-background);\n",
       "  position: relative;\n",
       "}\n",
       "\n",
       "#sk-container-id-2 div.sk-parallel-item {\n",
       "  display: flex;\n",
       "  flex-direction: column;\n",
       "}\n",
       "\n",
       "#sk-container-id-2 div.sk-parallel-item:first-child::after {\n",
       "  align-self: flex-end;\n",
       "  width: 50%;\n",
       "}\n",
       "\n",
       "#sk-container-id-2 div.sk-parallel-item:last-child::after {\n",
       "  align-self: flex-start;\n",
       "  width: 50%;\n",
       "}\n",
       "\n",
       "#sk-container-id-2 div.sk-parallel-item:only-child::after {\n",
       "  width: 0;\n",
       "}\n",
       "\n",
       "/* Serial-specific style estimator block */\n",
       "\n",
       "#sk-container-id-2 div.sk-serial {\n",
       "  display: flex;\n",
       "  flex-direction: column;\n",
       "  align-items: center;\n",
       "  background-color: var(--sklearn-color-background);\n",
       "  padding-right: 1em;\n",
       "  padding-left: 1em;\n",
       "}\n",
       "\n",
       "\n",
       "/* Toggleable style: style used for estimator/Pipeline/ColumnTransformer box that is\n",
       "clickable and can be expanded/collapsed.\n",
       "- Pipeline and ColumnTransformer use this feature and define the default style\n",
       "- Estimators will overwrite some part of the style using the `sk-estimator` class\n",
       "*/\n",
       "\n",
       "/* Pipeline and ColumnTransformer style (default) */\n",
       "\n",
       "#sk-container-id-2 div.sk-toggleable {\n",
       "  /* Default theme specific background. It is overwritten whether we have a\n",
       "  specific estimator or a Pipeline/ColumnTransformer */\n",
       "  background-color: var(--sklearn-color-background);\n",
       "}\n",
       "\n",
       "/* Toggleable label */\n",
       "#sk-container-id-2 label.sk-toggleable__label {\n",
       "  cursor: pointer;\n",
       "  display: block;\n",
       "  width: 100%;\n",
       "  margin-bottom: 0;\n",
       "  padding: 0.5em;\n",
       "  box-sizing: border-box;\n",
       "  text-align: center;\n",
       "}\n",
       "\n",
       "#sk-container-id-2 label.sk-toggleable__label-arrow:before {\n",
       "  /* Arrow on the left of the label */\n",
       "  content: \"▸\";\n",
       "  float: left;\n",
       "  margin-right: 0.25em;\n",
       "  color: var(--sklearn-color-icon);\n",
       "}\n",
       "\n",
       "#sk-container-id-2 label.sk-toggleable__label-arrow:hover:before {\n",
       "  color: var(--sklearn-color-text);\n",
       "}\n",
       "\n",
       "/* Toggleable content - dropdown */\n",
       "\n",
       "#sk-container-id-2 div.sk-toggleable__content {\n",
       "  max-height: 0;\n",
       "  max-width: 0;\n",
       "  overflow: hidden;\n",
       "  text-align: left;\n",
       "  /* unfitted */\n",
       "  background-color: var(--sklearn-color-unfitted-level-0);\n",
       "}\n",
       "\n",
       "#sk-container-id-2 div.sk-toggleable__content.fitted {\n",
       "  /* fitted */\n",
       "  background-color: var(--sklearn-color-fitted-level-0);\n",
       "}\n",
       "\n",
       "#sk-container-id-2 div.sk-toggleable__content pre {\n",
       "  margin: 0.2em;\n",
       "  border-radius: 0.25em;\n",
       "  color: var(--sklearn-color-text);\n",
       "  /* unfitted */\n",
       "  background-color: var(--sklearn-color-unfitted-level-0);\n",
       "}\n",
       "\n",
       "#sk-container-id-2 div.sk-toggleable__content.fitted pre {\n",
       "  /* unfitted */\n",
       "  background-color: var(--sklearn-color-fitted-level-0);\n",
       "}\n",
       "\n",
       "#sk-container-id-2 input.sk-toggleable__control:checked~div.sk-toggleable__content {\n",
       "  /* Expand drop-down */\n",
       "  max-height: 200px;\n",
       "  max-width: 100%;\n",
       "  overflow: auto;\n",
       "}\n",
       "\n",
       "#sk-container-id-2 input.sk-toggleable__control:checked~label.sk-toggleable__label-arrow:before {\n",
       "  content: \"▾\";\n",
       "}\n",
       "\n",
       "/* Pipeline/ColumnTransformer-specific style */\n",
       "\n",
       "#sk-container-id-2 div.sk-label input.sk-toggleable__control:checked~label.sk-toggleable__label {\n",
       "  color: var(--sklearn-color-text);\n",
       "  background-color: var(--sklearn-color-unfitted-level-2);\n",
       "}\n",
       "\n",
       "#sk-container-id-2 div.sk-label.fitted input.sk-toggleable__control:checked~label.sk-toggleable__label {\n",
       "  background-color: var(--sklearn-color-fitted-level-2);\n",
       "}\n",
       "\n",
       "/* Estimator-specific style */\n",
       "\n",
       "/* Colorize estimator box */\n",
       "#sk-container-id-2 div.sk-estimator input.sk-toggleable__control:checked~label.sk-toggleable__label {\n",
       "  /* unfitted */\n",
       "  background-color: var(--sklearn-color-unfitted-level-2);\n",
       "}\n",
       "\n",
       "#sk-container-id-2 div.sk-estimator.fitted input.sk-toggleable__control:checked~label.sk-toggleable__label {\n",
       "  /* fitted */\n",
       "  background-color: var(--sklearn-color-fitted-level-2);\n",
       "}\n",
       "\n",
       "#sk-container-id-2 div.sk-label label.sk-toggleable__label,\n",
       "#sk-container-id-2 div.sk-label label {\n",
       "  /* The background is the default theme color */\n",
       "  color: var(--sklearn-color-text-on-default-background);\n",
       "}\n",
       "\n",
       "/* On hover, darken the color of the background */\n",
       "#sk-container-id-2 div.sk-label:hover label.sk-toggleable__label {\n",
       "  color: var(--sklearn-color-text);\n",
       "  background-color: var(--sklearn-color-unfitted-level-2);\n",
       "}\n",
       "\n",
       "/* Label box, darken color on hover, fitted */\n",
       "#sk-container-id-2 div.sk-label.fitted:hover label.sk-toggleable__label.fitted {\n",
       "  color: var(--sklearn-color-text);\n",
       "  background-color: var(--sklearn-color-fitted-level-2);\n",
       "}\n",
       "\n",
       "/* Estimator label */\n",
       "\n",
       "#sk-container-id-2 div.sk-label label {\n",
       "  font-family: monospace;\n",
       "  font-weight: bold;\n",
       "  display: inline-block;\n",
       "  line-height: 1.2em;\n",
       "}\n",
       "\n",
       "#sk-container-id-2 div.sk-label-container {\n",
       "  text-align: center;\n",
       "}\n",
       "\n",
       "/* Estimator-specific */\n",
       "#sk-container-id-2 div.sk-estimator {\n",
       "  font-family: monospace;\n",
       "  border: 1px dotted var(--sklearn-color-border-box);\n",
       "  border-radius: 0.25em;\n",
       "  box-sizing: border-box;\n",
       "  margin-bottom: 0.5em;\n",
       "  /* unfitted */\n",
       "  background-color: var(--sklearn-color-unfitted-level-0);\n",
       "}\n",
       "\n",
       "#sk-container-id-2 div.sk-estimator.fitted {\n",
       "  /* fitted */\n",
       "  background-color: var(--sklearn-color-fitted-level-0);\n",
       "}\n",
       "\n",
       "/* on hover */\n",
       "#sk-container-id-2 div.sk-estimator:hover {\n",
       "  /* unfitted */\n",
       "  background-color: var(--sklearn-color-unfitted-level-2);\n",
       "}\n",
       "\n",
       "#sk-container-id-2 div.sk-estimator.fitted:hover {\n",
       "  /* fitted */\n",
       "  background-color: var(--sklearn-color-fitted-level-2);\n",
       "}\n",
       "\n",
       "/* Specification for estimator info (e.g. \"i\" and \"?\") */\n",
       "\n",
       "/* Common style for \"i\" and \"?\" */\n",
       "\n",
       ".sk-estimator-doc-link,\n",
       "a:link.sk-estimator-doc-link,\n",
       "a:visited.sk-estimator-doc-link {\n",
       "  float: right;\n",
       "  font-size: smaller;\n",
       "  line-height: 1em;\n",
       "  font-family: monospace;\n",
       "  background-color: var(--sklearn-color-background);\n",
       "  border-radius: 1em;\n",
       "  height: 1em;\n",
       "  width: 1em;\n",
       "  text-decoration: none !important;\n",
       "  margin-left: 1ex;\n",
       "  /* unfitted */\n",
       "  border: var(--sklearn-color-unfitted-level-1) 1pt solid;\n",
       "  color: var(--sklearn-color-unfitted-level-1);\n",
       "}\n",
       "\n",
       ".sk-estimator-doc-link.fitted,\n",
       "a:link.sk-estimator-doc-link.fitted,\n",
       "a:visited.sk-estimator-doc-link.fitted {\n",
       "  /* fitted */\n",
       "  border: var(--sklearn-color-fitted-level-1) 1pt solid;\n",
       "  color: var(--sklearn-color-fitted-level-1);\n",
       "}\n",
       "\n",
       "/* On hover */\n",
       "div.sk-estimator:hover .sk-estimator-doc-link:hover,\n",
       ".sk-estimator-doc-link:hover,\n",
       "div.sk-label-container:hover .sk-estimator-doc-link:hover,\n",
       ".sk-estimator-doc-link:hover {\n",
       "  /* unfitted */\n",
       "  background-color: var(--sklearn-color-unfitted-level-3);\n",
       "  color: var(--sklearn-color-background);\n",
       "  text-decoration: none;\n",
       "}\n",
       "\n",
       "div.sk-estimator.fitted:hover .sk-estimator-doc-link.fitted:hover,\n",
       ".sk-estimator-doc-link.fitted:hover,\n",
       "div.sk-label-container:hover .sk-estimator-doc-link.fitted:hover,\n",
       ".sk-estimator-doc-link.fitted:hover {\n",
       "  /* fitted */\n",
       "  background-color: var(--sklearn-color-fitted-level-3);\n",
       "  color: var(--sklearn-color-background);\n",
       "  text-decoration: none;\n",
       "}\n",
       "\n",
       "/* Span, style for the box shown on hovering the info icon */\n",
       ".sk-estimator-doc-link span {\n",
       "  display: none;\n",
       "  z-index: 9999;\n",
       "  position: relative;\n",
       "  font-weight: normal;\n",
       "  right: .2ex;\n",
       "  padding: .5ex;\n",
       "  margin: .5ex;\n",
       "  width: min-content;\n",
       "  min-width: 20ex;\n",
       "  max-width: 50ex;\n",
       "  color: var(--sklearn-color-text);\n",
       "  box-shadow: 2pt 2pt 4pt #999;\n",
       "  /* unfitted */\n",
       "  background: var(--sklearn-color-unfitted-level-0);\n",
       "  border: .5pt solid var(--sklearn-color-unfitted-level-3);\n",
       "}\n",
       "\n",
       ".sk-estimator-doc-link.fitted span {\n",
       "  /* fitted */\n",
       "  background: var(--sklearn-color-fitted-level-0);\n",
       "  border: var(--sklearn-color-fitted-level-3);\n",
       "}\n",
       "\n",
       ".sk-estimator-doc-link:hover span {\n",
       "  display: block;\n",
       "}\n",
       "\n",
       "/* \"?\"-specific style due to the `<a>` HTML tag */\n",
       "\n",
       "#sk-container-id-2 a.estimator_doc_link {\n",
       "  float: right;\n",
       "  font-size: 1rem;\n",
       "  line-height: 1em;\n",
       "  font-family: monospace;\n",
       "  background-color: var(--sklearn-color-background);\n",
       "  border-radius: 1rem;\n",
       "  height: 1rem;\n",
       "  width: 1rem;\n",
       "  text-decoration: none;\n",
       "  /* unfitted */\n",
       "  color: var(--sklearn-color-unfitted-level-1);\n",
       "  border: var(--sklearn-color-unfitted-level-1) 1pt solid;\n",
       "}\n",
       "\n",
       "#sk-container-id-2 a.estimator_doc_link.fitted {\n",
       "  /* fitted */\n",
       "  border: var(--sklearn-color-fitted-level-1) 1pt solid;\n",
       "  color: var(--sklearn-color-fitted-level-1);\n",
       "}\n",
       "\n",
       "/* On hover */\n",
       "#sk-container-id-2 a.estimator_doc_link:hover {\n",
       "  /* unfitted */\n",
       "  background-color: var(--sklearn-color-unfitted-level-3);\n",
       "  color: var(--sklearn-color-background);\n",
       "  text-decoration: none;\n",
       "}\n",
       "\n",
       "#sk-container-id-2 a.estimator_doc_link.fitted:hover {\n",
       "  /* fitted */\n",
       "  background-color: var(--sklearn-color-fitted-level-3);\n",
       "}\n",
       "</style><div id=\"sk-container-id-2\" class=\"sk-top-container\"><div class=\"sk-text-repr-fallback\"><pre>LinearRegression()</pre><b>In a Jupyter environment, please rerun this cell to show the HTML representation or trust the notebook. <br />On GitHub, the HTML representation is unable to render, please try loading this page with nbviewer.org.</b></div><div class=\"sk-container\" hidden><div class=\"sk-item\"><div class=\"sk-estimator fitted sk-toggleable\"><input class=\"sk-toggleable__control sk-hidden--visually\" id=\"sk-estimator-id-2\" type=\"checkbox\" checked><label for=\"sk-estimator-id-2\" class=\"sk-toggleable__label fitted sk-toggleable__label-arrow fitted\">&nbsp;&nbsp;LinearRegression<a class=\"sk-estimator-doc-link fitted\" rel=\"noreferrer\" target=\"_blank\" href=\"https://scikit-learn.org/1.4/modules/generated/sklearn.linear_model.LinearRegression.html\">?<span>Documentation for LinearRegression</span></a><span class=\"sk-estimator-doc-link fitted\">i<span>Fitted</span></span></label><div class=\"sk-toggleable__content fitted\"><pre>LinearRegression()</pre></div> </div></div></div></div>"
      ],
      "text/plain": [
       "LinearRegression()"
      ]
     },
     "execution_count": 34,
     "metadata": {},
     "output_type": "execute_result"
    }
   ],
   "source": [
    "#Create Polynomial Features\n",
    "Final_Polynomial_converter= PolynomialFeatures(degree=3, include_bias=False)\n",
    "\n",
    "Final_poly_features= Final_Polynomial_converter.fit(X)\n",
    "Final_poly_features= Final_Polynomial_converter.transform(X)\n",
    "\n",
    "#Split the DataSet\n",
    "X_train, X_test, y_train, y_test = train_test_split(Final_poly_features, y, test_size=0.3, random_state=101)\n",
    "\n",
    "#Train the model\n",
    "Final_PolyModel=LinearRegression()\n",
    "Final_PolyModel.fit(X_train, y_train)"
   ]
  },
  {
   "cell_type": "markdown",
   "id": "sustainable-agreement",
   "metadata": {
    "papermill": {
     "duration": 0.048753,
     "end_time": "2021-06-20T13:34:53.079729",
     "exception": false,
     "start_time": "2021-06-20T13:34:53.030976",
     "status": "completed"
    },
    "tags": []
   },
   "source": [
    "# Saving the model "
   ]
  },
  {
   "cell_type": "code",
   "execution_count": 35,
   "id": "friendly-cambodia",
   "metadata": {
    "execution": {
     "iopub.execute_input": "2021-06-20T13:34:53.182186Z",
     "iopub.status.busy": "2021-06-20T13:34:53.181571Z",
     "iopub.status.idle": "2021-06-20T13:34:53.184824Z",
     "shell.execute_reply": "2021-06-20T13:34:53.185325Z",
     "shell.execute_reply.started": "2021-06-20T13:26:30.352195Z"
    },
    "papermill": {
     "duration": 0.056756,
     "end_time": "2021-06-20T13:34:53.185518",
     "exception": false,
     "start_time": "2021-06-20T13:34:53.128762",
     "status": "completed"
    },
    "tags": []
   },
   "outputs": [],
   "source": [
    "from joblib import dump , load"
   ]
  },
  {
   "cell_type": "code",
   "execution_count": 36,
   "id": "relative-boutique",
   "metadata": {
    "execution": {
     "iopub.execute_input": "2021-06-20T13:34:53.289459Z",
     "iopub.status.busy": "2021-06-20T13:34:53.288821Z",
     "iopub.status.idle": "2021-06-20T13:34:53.294501Z",
     "shell.execute_reply": "2021-06-20T13:34:53.294986Z",
     "shell.execute_reply.started": "2021-06-20T13:30:05.952928Z"
    },
    "papermill": {
     "duration": 0.058807,
     "end_time": "2021-06-20T13:34:53.295161",
     "exception": false,
     "start_time": "2021-06-20T13:34:53.236354",
     "status": "completed"
    },
    "tags": []
   },
   "outputs": [
    {
     "data": {
      "text/plain": [
       "['Sales_Poly_Model.joblib']"
      ]
     },
     "execution_count": 36,
     "metadata": {},
     "output_type": "execute_result"
    }
   ],
   "source": [
    "dump(Final_PolyModel, 'Sales_Poly_Model.joblib')"
   ]
  },
  {
   "cell_type": "code",
   "execution_count": 37,
   "id": "equal-running",
   "metadata": {
    "execution": {
     "iopub.execute_input": "2021-06-20T13:34:53.397586Z",
     "iopub.status.busy": "2021-06-20T13:34:53.396918Z",
     "iopub.status.idle": "2021-06-20T13:34:53.401997Z",
     "shell.execute_reply": "2021-06-20T13:34:53.402547Z",
     "shell.execute_reply.started": "2021-06-20T13:31:45.794236Z"
    },
    "papermill": {
     "duration": 0.058483,
     "end_time": "2021-06-20T13:34:53.402727",
     "exception": false,
     "start_time": "2021-06-20T13:34:53.344244",
     "status": "completed"
    },
    "tags": []
   },
   "outputs": [
    {
     "data": {
      "text/plain": [
       "['Ploynomial_Converter.joblib']"
      ]
     },
     "execution_count": 37,
     "metadata": {},
     "output_type": "execute_result"
    }
   ],
   "source": [
    "dump(Final_Polynomial_converter, 'Ploynomial_Converter.joblib')"
   ]
  },
  {
   "cell_type": "markdown",
   "id": "dimensional-dividend",
   "metadata": {
    "papermill": {
     "duration": 0.051401,
     "end_time": "2021-06-20T13:34:53.507021",
     "exception": false,
     "start_time": "2021-06-20T13:34:53.455620",
     "status": "completed"
    },
    "tags": []
   },
   "source": [
    "# Deployment"
   ]
  },
  {
   "cell_type": "code",
   "execution_count": 38,
   "id": "painted-trader",
   "metadata": {
    "execution": {
     "iopub.execute_input": "2021-06-20T13:34:53.610777Z",
     "iopub.status.busy": "2021-06-20T13:34:53.610065Z",
     "iopub.status.idle": "2021-06-20T13:34:53.615023Z",
     "shell.execute_reply": "2021-06-20T13:34:53.615569Z",
     "shell.execute_reply.started": "2021-06-20T13:33:15.221905Z"
    },
    "papermill": {
     "duration": 0.058248,
     "end_time": "2021-06-20T13:34:53.615753",
     "exception": false,
     "start_time": "2021-06-20T13:34:53.557505",
     "status": "completed"
    },
    "tags": []
   },
   "outputs": [],
   "source": [
    "Load_Converter=load('Ploynomial_Converter.joblib')\n",
    "Load_PolyModel=load('Sales_Poly_Model.joblib')"
   ]
  },
  {
   "cell_type": "code",
   "execution_count": 39,
   "id": "verbal-teach",
   "metadata": {
    "execution": {
     "iopub.execute_input": "2021-06-20T13:34:53.718387Z",
     "iopub.status.busy": "2021-06-20T13:34:53.717751Z",
     "iopub.status.idle": "2021-06-20T13:34:53.722675Z",
     "shell.execute_reply": "2021-06-20T13:34:53.723190Z",
     "shell.execute_reply.started": "2021-06-20T13:33:44.125913Z"
    },
    "papermill": {
     "duration": 0.057829,
     "end_time": "2021-06-20T13:34:53.723391",
     "exception": false,
     "start_time": "2021-06-20T13:34:53.665562",
     "status": "completed"
    },
    "tags": []
   },
   "outputs": [],
   "source": [
    "#Predict the sale for a campaign with advertising in TV=150, radio=25, newspaper=10\n",
    "campaign=[[149,22,12]]"
   ]
  },
  {
   "cell_type": "code",
   "execution_count": 40,
   "id": "major-albuquerque",
   "metadata": {
    "execution": {
     "iopub.execute_input": "2021-06-20T13:34:53.832637Z",
     "iopub.status.busy": "2021-06-20T13:34:53.831972Z",
     "iopub.status.idle": "2021-06-20T13:34:53.837763Z",
     "shell.execute_reply": "2021-06-20T13:34:53.837054Z",
     "shell.execute_reply.started": "2021-06-20T13:33:59.385242Z"
    },
    "papermill": {
     "duration": 0.064712,
     "end_time": "2021-06-20T13:34:53.837907",
     "exception": false,
     "start_time": "2021-06-20T13:34:53.773195",
     "status": "completed"
    },
    "tags": []
   },
   "outputs": [
    {
     "name": "stderr",
     "output_type": "stream",
     "text": [
      "c:\\Users\\User\\AppData\\Local\\Programs\\Python\\Python312\\Lib\\site-packages\\sklearn\\base.py:493: UserWarning: X does not have valid feature names, but PolynomialFeatures was fitted with feature names\n",
      "  warnings.warn(\n"
     ]
    }
   ],
   "source": [
    "campaign_poly=Load_Converter.transform(campaign)"
   ]
  },
  {
   "cell_type": "code",
   "execution_count": 43,
   "id": "blocked-settlement",
   "metadata": {
    "execution": {
     "iopub.execute_input": "2021-06-20T13:34:53.942945Z",
     "iopub.status.busy": "2021-06-20T13:34:53.942247Z",
     "iopub.status.idle": "2021-06-20T13:34:53.947529Z",
     "shell.execute_reply": "2021-06-20T13:34:53.947993Z",
     "shell.execute_reply.started": "2021-06-20T13:34:14.003072Z"
    },
    "papermill": {
     "duration": 0.058877,
     "end_time": "2021-06-20T13:34:53.948168",
     "exception": false,
     "start_time": "2021-06-20T13:34:53.889291",
     "status": "completed"
    },
    "tags": []
   },
   "outputs": [
    {
     "data": {
      "text/plain": [
       "array([15.71936882])"
      ]
     },
     "execution_count": 43,
     "metadata": {},
     "output_type": "execute_result"
    }
   ],
   "source": [
    "Final_PolyModel.predict(campaign_poly)"
   ]
  }
 ],
 "metadata": {
  "kernelspec": {
   "display_name": "Python 3",
   "language": "python",
   "name": "python3"
  },
  "language_info": {
   "codemirror_mode": {
    "name": "ipython",
    "version": 3
   },
   "file_extension": ".py",
   "mimetype": "text/x-python",
   "name": "python",
   "nbconvert_exporter": "python",
   "pygments_lexer": "ipython3",
   "version": "3.12.2"
  },
  "papermill": {
   "default_parameters": {},
   "duration": 21.034749,
   "end_time": "2021-06-20T13:34:56.207781",
   "environment_variables": {},
   "exception": null,
   "input_path": "__notebook__.ipynb",
   "output_path": "__notebook__.ipynb",
   "parameters": {},
   "start_time": "2021-06-20T13:34:35.173032",
   "version": "2.3.3"
  }
 },
 "nbformat": 4,
 "nbformat_minor": 5
}
