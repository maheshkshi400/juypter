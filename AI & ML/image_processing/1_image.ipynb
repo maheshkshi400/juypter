{
 "cells": [
  {
   "cell_type": "markdown",
   "metadata": {},
   "source": [
    "# Read and Show Image"
   ]
  },
  {
   "cell_type": "code",
   "execution_count": 1,
   "metadata": {},
   "outputs": [],
   "source": [
    "import cv2"
   ]
  },
  {
   "cell_type": "code",
   "execution_count": 12,
   "metadata": {},
   "outputs": [],
   "source": [
    "img = cv2.imread(r\"C:\\Users\\User\\juypter\\files\\cat_dog\\cat.2.jpg\")   # image read\n",
    "cv2.imshow(\"shows\",img)         # image show\n",
    "cv2.waitKey(0)                   # image frame wait time\n",
    "cv2.destroyAllWindows()              # close all windows\n",
    "# cv2.destroyWindow()\n"
   ]
  },
  {
   "cell_type": "code",
   "execution_count": 13,
   "metadata": {},
   "outputs": [],
   "source": [
    "img = cv2.imread(r\"C:\\Users\\User\\juypter\\files\\cat_dog\\cat.2.jpg\")   # image read\n",
    "cv2.imshow(\"shows\",img)         # image show\n",
    "cv2.waitKey(10000)                   # image frame wait time\n",
    "cv2.destroyAllWindows()              # close all windows\n",
    "# cv2.destroyWindow()"
   ]
  }
 ],
 "metadata": {
  "kernelspec": {
   "display_name": "Python 3",
   "language": "python",
   "name": "python3"
  },
  "language_info": {
   "codemirror_mode": {
    "name": "ipython",
    "version": 3
   },
   "file_extension": ".py",
   "mimetype": "text/x-python",
   "name": "python",
   "nbconvert_exporter": "python",
   "pygments_lexer": "ipython3",
   "version": "3.12.4"
  }
 },
 "nbformat": 4,
 "nbformat_minor": 2
}
