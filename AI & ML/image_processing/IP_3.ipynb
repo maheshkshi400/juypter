{
 "cells": [
  {
   "cell_type": "code",
   "execution_count": 3,
   "metadata": {},
   "outputs": [
    {
     "name": "stdout",
     "output_type": "stream",
     "text": [
      "30\n"
     ]
    }
   ],
   "source": [
    "import pytest\n",
    "a = int(input(\"Enter the first number: \"))\n",
    "\n",
    "b = int(input(\"Enter the second number: \"))\n",
    "\n",
    "def add(a,b):\n",
    "    c=a+b\n",
    "    print(c)\n",
    "    \n",
    "add(a,b)\n",
    "    \n",
    "\n",
    "    "
   ]
  },
  {
   "cell_type": "code",
   "execution_count": 1,
   "metadata": {},
   "outputs": [
    {
     "name": "stdout",
     "output_type": "stream",
     "text": [
      "Your brother's current age is 40.0 years old.\n"
     ]
    }
   ],
   "source": [
    "my_current_age = 40\n",
    "age_difference = my_current_age / 2  # Age difference when you were 4\n",
    "\n",
    "brothers_age_when_you_were_4 = my_current_age - age_difference  # Your brother's age then\n",
    "\n",
    "brothers_current_age = brothers_age_when_you_were_4 + age_difference  # Brother's age now\n",
    "\n",
    "print(f\"Your brother's current age is {brothers_current_age} years old.\")"
   ]
  }
 ],
 "metadata": {
  "kernelspec": {
   "display_name": "Python 3",
   "language": "python",
   "name": "python3"
  },
  "language_info": {
   "codemirror_mode": {
    "name": "ipython",
    "version": 3
   },
   "file_extension": ".py",
   "mimetype": "text/x-python",
   "name": "python",
   "nbconvert_exporter": "python",
   "pygments_lexer": "ipython3",
   "version": "3.12.4"
  }
 },
 "nbformat": 4,
 "nbformat_minor": 2
}
