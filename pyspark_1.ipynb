{
 "cells": [
  {
   "cell_type": "code",
   "execution_count": 4,
   "metadata": {},
   "outputs": [
    {
     "name": "stdout",
     "output_type": "stream",
     "text": [
      "+-------+---+\n",
      "|   Name|Age|\n",
      "+-------+---+\n",
      "|  Alice| 25|\n",
      "|    Bob| 30|\n",
      "|Charlie| 35|\n",
      "+-------+---+\n",
      "\n"
     ]
    }
   ],
   "source": [
    "from pyspark.sql import SparkSession\n",
    "\n",
    "from pyspark.sql import SparkSession\n",
    "\n",
    "# Create a SparkSession\n",
    "spark = SparkSession.builder.appName(\"https://github.com/maheshkshi400/MK\").getOrCreate()\n",
    "\n",
    "# Now you can use 'spark' to perform Spark operations\n",
    "# For example:\n",
    "data = [(\"Alice\", 25), (\"Bob\", 30), (\"Charlie\", 35)]\n",
    "df = spark.createDataFrame(data, [\"Name\", \"Age\"])\n",
    "df.show()\n",
    "\n",
    "\n"
   ]
  },
  {
   "cell_type": "code",
   "execution_count": 8,
   "metadata": {},
   "outputs": [
    {
     "name": "stdout",
     "output_type": "stream",
     "text": [
      "+---+-------+------+---+------+-------+------+----+\n",
      "| id|   name|gender|age|salary|   dept|deptno| doj|\n",
      "+---+-------+------+---+------+-------+------+----+\n",
      "|  1| mahesh|  male| 20|  5000|     IT|    50|2002|\n",
      "|  2|shruthi|female| 30|  6000|     HR|    20|2008|\n",
      "|  3| ganesh|  male| 25|  7000|FINANCE|    30|2010|\n",
      "|  4|  pooja|female| 34|  8000|PAYROLL|    40|2005|\n",
      "|  5| kamini|female| 31|  6000|     IT|    50|2007|\n",
      "|  6|shivaji|  male| 20|  8000|     IT|    50|1004|\n",
      "|  7| shweta|female| 30|  6000|     HR|    20|1998|\n",
      "|  8| suresh|  male| 25| 10000|FINANCE|    30|2011|\n",
      "|  9|shivani|female| 34| 11000|PAYROLL|    40|2013|\n",
      "| 10| prachi|female| 30|  6000|     IT|    50|2001|\n",
      "+---+-------+------+---+------+-------+------+----+\n",
      "\n"
     ]
    }
   ],
   "source": [
    "from pyspark.sql import SparkSession\n",
    "\n",
    "# Create a SparkSession\n",
    "spark = SparkSession.builder.appName(\"https://github.com/maheshkshi400/MK\").getOrCreate()\n",
    "\n",
    "\n",
    "\n",
    "data1 = [(1,'mahesh','male',20,5000,'IT',50,2002),\n",
    "         (2,'shruthi','female',30,6000,'HR',20,2008),\n",
    "         (3,'ganesh','male',25,7000,'FINANCE',30,2010),\n",
    "         (4,'pooja','female',34,8000,'PAYROLL',40,2005),\n",
    "         (5,'kamini','female',31,6000,'IT',50,2007),\n",
    "         (6,'shivaji','male',20,8000,'IT',50,1004),\n",
    "         (7,'shweta','female',30,6000,'HR',20,1998),\n",
    "         (8,'suresh','male',25,10000,'FINANCE',30,2011),\n",
    "         (9,'shivani','female',34,11000,'PAYROLL',40,2013),\n",
    "         (10,'prachi','female',30,6000,'IT',50,2001)]\n",
    "\n",
    "schema1 = ['id','name','gender','age','salary','dept','deptno','doj']\n",
    "\n",
    "\n",
    "\n",
    "\n",
    "df1 = spark.createDataFrame(data1,schema1)\n",
    "\n",
    "\n",
    "df1.show()\n"
   ]
  },
  {
   "cell_type": "code",
   "execution_count": null,
   "metadata": {},
   "outputs": [],
   "source": []
  }
 ],
 "metadata": {
  "kernelspec": {
   "display_name": "base",
   "language": "python",
   "name": "python3"
  },
  "language_info": {
   "codemirror_mode": {
    "name": "ipython",
    "version": 3
   },
   "file_extension": ".py",
   "mimetype": "text/x-python",
   "name": "python",
   "nbconvert_exporter": "python",
   "pygments_lexer": "ipython3",
   "version": "3.11.5"
  }
 },
 "nbformat": 4,
 "nbformat_minor": 2
}
