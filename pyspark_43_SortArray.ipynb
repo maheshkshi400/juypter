{
 "cells": [
  {
   "cell_type": "code",
   "execution_count": 1,
   "metadata": {},
   "outputs": [
    {
     "name": "stdout",
     "output_type": "stream",
     "text": [
      "+-----+------------------+\n",
      "| Name|         Array_col|\n",
      "+-----+------------------+\n",
      "| John|   [4, 6, 7, 9, 2]|\n",
      "|David|[7, 5, 1, 4, 7, 1]|\n",
      "| Mike|   [3, 9, 1, 6, 2]|\n",
      "+-----+------------------+\n",
      "\n"
     ]
    }
   ],
   "source": [
    "from pyspark.sql import SparkSession\n",
    "\n",
    "# Create a SparkSession\n",
    "spark = SparkSession.builder.appName(\"https://github.com/maheshkshi400/MK\").getOrCreate()\n",
    "\n",
    "empdf= [\n",
    "    ('John',[4,6,7,9,2]),\n",
    "    ('David',[7,5,1,4,7,1]),\n",
    "    ('Mike',[3,9,1,6,2])\n",
    "]\n",
    "\n",
    "df = spark.createDataFrame(data=empdf,schema=['Name','Array_col'])\n",
    "df.show()"
   ]
  },
  {
   "cell_type": "code",
   "execution_count": 4,
   "metadata": {},
   "outputs": [
    {
     "name": "stdout",
     "output_type": "stream",
     "text": [
      "+-----+------------------+------------------+\n",
      "| Name|         Array_col|        array_sort|\n",
      "+-----+------------------+------------------+\n",
      "| John|   [4, 6, 7, 9, 2]|   [2, 4, 6, 7, 9]|\n",
      "|David|[7, 5, 1, 4, 7, 1]|[1, 1, 4, 5, 7, 7]|\n",
      "| Mike|   [3, 9, 1, 6, 2]|   [1, 2, 3, 6, 9]|\n",
      "+-----+------------------+------------------+\n",
      "\n"
     ]
    }
   ],
   "source": [
    "from pyspark.sql import functions as F\n",
    "\n",
    "sort = df.withColumn(\"array_sort\",F.array_sort(df['Array_col']))\n",
    "sort.show()"
   ]
  }
 ],
 "metadata": {
  "kernelspec": {
   "display_name": "base",
   "language": "python",
   "name": "python3"
  },
  "language_info": {
   "codemirror_mode": {
    "name": "ipython",
    "version": 3
   },
   "file_extension": ".py",
   "mimetype": "text/x-python",
   "name": "python",
   "nbconvert_exporter": "python",
   "pygments_lexer": "ipython3",
   "version": "3.11.5"
  }
 },
 "nbformat": 4,
 "nbformat_minor": 2
}
