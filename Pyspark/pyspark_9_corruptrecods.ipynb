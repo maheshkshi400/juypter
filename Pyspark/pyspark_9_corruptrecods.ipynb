{
 "cells": [
  {
   "cell_type": "code",
   "execution_count": null,
   "metadata": {},
   "outputs": [],
   "source": [
    "# Three methods of handling bad records \n",
    "# Method1 permissive   ---> creating new column for bad records by using mode command\n",
    "# Method2 Drop malformed ---> Ignoring the bad records by using mode command\n",
    "# Method3 FailFast   ---> couldn't create dataframe with this method\n",
    "\n",
    "# syntax =spark.read.format(\"csv\").option(\"mode\",\"DROPMALFORMED\").option(\"header\",\"true\").schema(schema).load(path)"
   ]
  },
  {
   "cell_type": "markdown",
   "metadata": {},
   "source": []
  }
 ],
 "metadata": {
  "language_info": {
   "name": "python"
  }
 },
 "nbformat": 4,
 "nbformat_minor": 2
}
