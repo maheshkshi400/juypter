{
 "cells": [
  {
   "cell_type": "code",
   "execution_count": 2,
   "metadata": {},
   "outputs": [],
   "source": [
    "from pyspark.context import SparkContext\n",
    "from pyspark.sql.session import SparkSession\n",
    "sc = SparkContext.getOrCreate()\n",
    "spark=SparkSession(sc)\n"
   ]
  },
  {
   "cell_type": "code",
   "execution_count": 3,
   "metadata": {},
   "outputs": [
    {
     "data": {
      "text/html": [
       "\n",
       "        <div>\n",
       "            <p><b>SparkContext</b></p>\n",
       "\n",
       "            <p><a href=\"http://DESKTOP-MKTQPPA.mshome.net:4040\">Spark UI</a></p>\n",
       "\n",
       "            <dl>\n",
       "              <dt>Version</dt>\n",
       "                <dd><code>v3.3.1</code></dd>\n",
       "              <dt>Master</dt>\n",
       "                <dd><code>local[*]</code></dd>\n",
       "              <dt>AppName</dt>\n",
       "                <dd><code>https://github.com/maheshkshi400/MK</code></dd>\n",
       "            </dl>\n",
       "        </div>\n",
       "        "
      ],
      "text/plain": [
       "<SparkContext master=local[*] appName=https://github.com/maheshkshi400/MK>"
      ]
     },
     "execution_count": 3,
     "metadata": {},
     "output_type": "execute_result"
    }
   ],
   "source": [
    "sc"
   ]
  },
  {
   "cell_type": "code",
   "execution_count": 1,
   "metadata": {},
   "outputs": [
    {
     "name": "stdout",
     "output_type": "stream",
     "text": [
      "+---+-----------------+------+----+------+-------+------+---------+\n",
      "| id|             name|gender| age|salary|   dept|deptno|      doj|\n",
      "+---+-----------------+------+----+------+-------+------+---------+\n",
      "|  1|Mahesh Kshirsagar|  male|  20|  5000|     IT|    50|19-4-2011|\n",
      "|  2|   Shruthi Sharma|female|None|  6000|     HR|  null|20-5-2007|\n",
      "|  3|   Ganesh Kenjale|  male|  25|  null|FINANCE|    30|     null|\n",
      "|  4|    Pooja Chandra|female|null|  8000|PAYROLL|    40|14-4-1998|\n",
      "|  5|     kamini sinha|female|  31|  6000|     IT|    50|20-5-2002|\n",
      "|  6|        Rahul Roy|  null|  28|  null|   null|    10|31-8-2015|\n",
      "|  7|    Shweta Tiwari|female|  30|  6000|     HR|    20|     null|\n",
      "|  8|   suresh Katwani|  null|  25| 10000|FINANCE|    30|22-3-2007|\n",
      "|  9|             null|  null|null|  null|   null|  null|     null|\n",
      "| 10|   prachi Inamdar|female|  30|  6000|   null|    50|     null|\n",
      "+---+-----------------+------+----+------+-------+------+---------+\n",
      "\n"
     ]
    }
   ],
   "source": [
    "from pyspark.sql import SparkSession\n",
    "\n",
    "# Create a SparkSession\n",
    "spark = SparkSession.builder.appName(\"https://github.com/maheshkshi400/MK\").getOrCreate()\n",
    "\n",
    "\n",
    "df = spark.read.format('csv') \\\n",
    "    .option('inferschema', True) \\\n",
    "    .option('header',True)\\\n",
    "    .load(r'C:\\Users\\User\\juypter\\files\\empdf12.CSV')\n",
    "df.show()"
   ]
  },
  {
   "cell_type": "code",
   "execution_count": 4,
   "metadata": {},
   "outputs": [
    {
     "name": "stdout",
     "output_type": "stream",
     "text": [
      "+---+--------------+------+----+------+----+------+---------+\n",
      "| id|          name|gender| age|salary|dept|deptno|      doj|\n",
      "+---+--------------+------+----+------+----+------+---------+\n",
      "|  2|Shruthi Sharma|female|None|  6000|  HR|  null|20-5-2007|\n",
      "|  9|          null|  null|null|  null|null|  null|     null|\n",
      "+---+--------------+------+----+------+----+------+---------+\n",
      "\n"
     ]
    }
   ],
   "source": [
    "df1 = df.filter(df.deptno.isNull())\n",
    "df1.show()"
   ]
  },
  {
   "cell_type": "code",
   "execution_count": 5,
   "metadata": {},
   "outputs": [
    {
     "name": "stdout",
     "output_type": "stream",
     "text": [
      "+---+--------------+------+----+------+-------+------+---------+\n",
      "| id|          name|gender| age|salary|   dept|deptno|      doj|\n",
      "+---+--------------+------+----+------+-------+------+---------+\n",
      "|  6|     Rahul Roy|  null|  28|  null|   null|    10|31-8-2015|\n",
      "|  8|suresh Katwani|  null|  25| 10000|FINANCE|    30|22-3-2007|\n",
      "|  9|          null|  null|null|  null|   null|  null|     null|\n",
      "+---+--------------+------+----+------+-------+------+---------+\n",
      "\n"
     ]
    }
   ],
   "source": [
    "df3 = df.filter(df.gender.isNull())\n",
    "df3.show()"
   ]
  },
  {
   "cell_type": "code",
   "execution_count": 7,
   "metadata": {},
   "outputs": [
    {
     "name": "stdout",
     "output_type": "stream",
     "text": [
      "+---+--------------+------+----+------+-------+------+---------+\n",
      "| id|          name|gender| age|salary|   dept|deptno|      doj|\n",
      "+---+--------------+------+----+------+-------+------+---------+\n",
      "|  3|Ganesh Kenjale|  male|  25|  null|FINANCE|    30|     null|\n",
      "|  6|     Rahul Roy|  null|  28|  null|   null|    10|31-8-2015|\n",
      "|  9|          null|  null|null|  null|   null|  null|     null|\n",
      "+---+--------------+------+----+------+-------+------+---------+\n",
      "\n",
      "+---+--------------+------+----+------+-------+------+---------+\n",
      "| id|          name|gender| age|salary|   dept|deptno|      doj|\n",
      "+---+--------------+------+----+------+-------+------+---------+\n",
      "|  3|Ganesh Kenjale|  male|  25|  null|FINANCE|    30|     null|\n",
      "|  6|     Rahul Roy|  null|  28|  null|   null|    10|31-8-2015|\n",
      "|  9|          null|  null|null|  null|   null|  null|     null|\n",
      "+---+--------------+------+----+------+-------+------+---------+\n",
      "\n"
     ]
    }
   ],
   "source": [
    "# mthod 1\n",
    "\n",
    "df4= df.filter(\"salary  IS NULL\")\n",
    "df4.show()\n",
    "\n",
    "# Method 2\n",
    "from pyspark.sql.functions import col\n",
    "df5 = df.filter(col(\"salary\").isNull())\n",
    "df5.show()"
   ]
  },
  {
   "cell_type": "code",
   "execution_count": 9,
   "metadata": {},
   "outputs": [
    {
     "name": "stdout",
     "output_type": "stream",
     "text": [
      "+---+-----------------+------+----+------+-------+------+---------+\n",
      "| id|             name|gender| age|salary|   dept|deptno|      doj|\n",
      "+---+-----------------+------+----+------+-------+------+---------+\n",
      "|  1|Mahesh Kshirsagar|  male|  20|  5000|     IT|    50|19-4-2011|\n",
      "|  3|   Ganesh Kenjale|  male|  25|  null|FINANCE|    30|     null|\n",
      "|  4|    Pooja Chandra|female|null|  8000|PAYROLL|    40|14-4-1998|\n",
      "|  5|     kamini sinha|female|  31|  6000|     IT|    50|20-5-2002|\n",
      "|  7|    Shweta Tiwari|female|  30|  6000|     HR|    20|     null|\n",
      "| 10|   prachi Inamdar|female|  30|  6000|   null|    50|     null|\n",
      "+---+-----------------+------+----+------+-------+------+---------+\n",
      "\n"
     ]
    }
   ],
   "source": [
    "from pyspark.sql import functions as F\n",
    "\n",
    "df6 = df.filter((F.col('gender').isNotNull()) & (F.col('deptno').isNotNull()))\n",
    "df6.show()\n",
    "\n"
   ]
  },
  {
   "cell_type": "code",
   "execution_count": null,
   "metadata": {},
   "outputs": [],
   "source": []
  }
 ],
 "metadata": {
  "kernelspec": {
   "display_name": "pyspark-env",
   "language": "python",
   "name": "python3"
  },
  "language_info": {
   "codemirror_mode": {
    "name": "ipython",
    "version": 3
   },
   "file_extension": ".py",
   "mimetype": "text/x-python",
   "name": "python",
   "nbconvert_exporter": "python",
   "pygments_lexer": "ipython3",
   "version": "3.12.4"
  }
 },
 "nbformat": 4,
 "nbformat_minor": 4
}
