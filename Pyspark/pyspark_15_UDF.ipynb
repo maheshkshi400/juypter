{
 "cells": [
  {
   "cell_type": "code",
   "execution_count": 3,
   "metadata": {},
   "outputs": [
    {
     "name": "stdout",
     "output_type": "stream",
     "text": [
      "+---+-----------------+------+----+------+-------+------+---------+\n",
      "| id|             name|gender| age|salary|   dept|deptno|      doj|\n",
      "+---+-----------------+------+----+------+-------+------+---------+\n",
      "|  1|Mahesh Kshirsagar|  male|  20|  5000|     IT|    50|19-4-2011|\n",
      "|  2|   Shruthi Sharma|female|None|  6000|     HR|  NULL|20-5-2007|\n",
      "|  3|   Ganesh Kenjale|  male|  25|  NULL|FINANCE|    30|     NULL|\n",
      "|  4|    Pooja Chandra|female|NULL|  8000|PAYROLL|    40|14-4-1998|\n",
      "|  5|     kamini sinha|female|  31|  6000|     IT|    50|20-5-2002|\n",
      "|  6|        Rahul Roy|  NULL|  28|  NULL|   NULL|    10|31-8-2015|\n",
      "|  7|    Shweta Tiwari|female|  30|  6000|     HR|    20|     NULL|\n",
      "|  8|   suresh Katwani|  NULL|  25| 10000|FINANCE|    30|22-3-2007|\n",
      "|  9|             NULL|  NULL|NULL|  NULL|   NULL|  NULL|     NULL|\n",
      "| 10|   prachi Inamdar|female|  30|  6000|   NULL|    50|     NULL|\n",
      "+---+-----------------+------+----+------+-------+------+---------+\n",
      "\n"
     ]
    }
   ],
   "source": [
    "from pyspark.sql import SparkSession\n",
    "\n",
    "# Create a SparkSession\n",
    "spark = SparkSession.builder.appName(\"https://github.com/maheshkshi400/MK\").getOrCreate()\n",
    "\n",
    "\n",
    "df = spark.read.format('csv') \\\n",
    "    .option('inferschema', True) \\\n",
    "    .option('header',True)\\\n",
    "    .load('C:/Users/Pc/juypter/empdf12.csv')\n",
    "df.show()"
   ]
  },
  {
   "cell_type": "code",
   "execution_count": 4,
   "metadata": {},
   "outputs": [],
   "source": [
    "from pyspark.sql.functions import col,upper\n",
    "\n",
    "def upper_Name(df):\n",
    "    d1 = df.withColumn('Name_upper',upper(df.name))\n",
    "    return upper_Name"
   ]
  },
  {
   "cell_type": "code",
   "execution_count": 6,
   "metadata": {},
   "outputs": [
    {
     "name": "stdout",
     "output_type": "stream",
     "text": [
      "+---+-----------------+------+----+------+-------+------+---------+\n",
      "| id|             Name|gender| age|salary|   dept|deptno|      doj|\n",
      "+---+-----------------+------+----+------+-------+------+---------+\n",
      "|  1|MAHESH KSHIRSAGAR|  male|  20|  5000|     IT|    50|19-4-2011|\n",
      "|  2|   SHRUTHI SHARMA|female|None|  6000|     HR|  NULL|20-5-2007|\n",
      "|  3|   GANESH KENJALE|  male|  25|  NULL|FINANCE|    30|     NULL|\n",
      "|  4|    POOJA CHANDRA|female|NULL|  8000|PAYROLL|    40|14-4-1998|\n",
      "|  5|     KAMINI SINHA|female|  31|  6000|     IT|    50|20-5-2002|\n",
      "|  6|        RAHUL ROY|  NULL|  28|  NULL|   NULL|    10|31-8-2015|\n",
      "|  7|    SHWETA TIWARI|female|  30|  6000|     HR|    20|     NULL|\n",
      "|  8|   SURESH KATWANI|  NULL|  25| 10000|FINANCE|    30|22-3-2007|\n",
      "|  9|             NULL|  NULL|NULL|  NULL|   NULL|  NULL|     NULL|\n",
      "| 10|   PRACHI INAMDAR|female|  30|  6000|   NULL|    50|     NULL|\n",
      "+---+-----------------+------+----+------+-------+------+---------+\n",
      "\n"
     ]
    }
   ],
   "source": [
    "from pyspark.sql import functions as F\n",
    "\n",
    "# Assuming df is your DataFrame and 'Name' is the column you want to convert to uppercase\n",
    "upperCase_df = df.withColumn('Name', F.upper(F.col('Name')))\n",
    "upperCase_df.show()\n"
   ]
  }
 ],
 "metadata": {
  "kernelspec": {
   "display_name": "base",
   "language": "python",
   "name": "python3"
  },
  "language_info": {
   "codemirror_mode": {
    "name": "ipython",
    "version": 3
   },
   "file_extension": ".py",
   "mimetype": "text/x-python",
   "name": "python",
   "nbconvert_exporter": "python",
   "pygments_lexer": "ipython3",
   "version": "3.11.5"
  }
 },
 "nbformat": 4,
 "nbformat_minor": 2
}
