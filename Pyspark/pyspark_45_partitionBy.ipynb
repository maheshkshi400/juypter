{
 "cells": [
  {
   "cell_type": "code",
   "execution_count": 2,
   "id": "f2924f6f-7bb8-4080-87c6-812d11ba9ff7",
   "metadata": {},
   "outputs": [
    {
     "name": "stdout",
     "output_type": "stream",
     "text": [
      "+-------+---------+--------------+-------------+-----------------+-----------+------+\n",
      "|species|   island|bill_length_mm|bill_depth_mm|flipper_length_mm|body_mass_g|   sex|\n",
      "+-------+---------+--------------+-------------+-----------------+-----------+------+\n",
      "| Adelie|Torgersen|          39.1|         18.7|              181|       3750|  MALE|\n",
      "| Adelie|Torgersen|          39.5|         17.4|              186|       3800|FEMALE|\n",
      "| Adelie|Torgersen|          40.3|         18.0|              195|       3250|FEMALE|\n",
      "| Adelie|Torgersen|          NULL|         NULL|             NULL|       NULL|  NULL|\n",
      "| Adelie|Torgersen|          36.7|         19.3|              193|       3450|FEMALE|\n",
      "| Adelie|Torgersen|          39.3|         20.6|              190|       3650|  MALE|\n",
      "| Adelie|Torgersen|          38.9|         17.8|              181|       3625|FEMALE|\n",
      "| Adelie|Torgersen|          39.2|         19.6|              195|       4675|  MALE|\n",
      "| Adelie|Torgersen|          34.1|         18.1|              193|       3475|  NULL|\n",
      "| Adelie|Torgersen|          42.0|         20.2|              190|       4250|  NULL|\n",
      "| Adelie|Torgersen|          37.8|         17.1|              186|       3300|  NULL|\n",
      "| Adelie|Torgersen|          37.8|         17.3|              180|       3700|  NULL|\n",
      "| Adelie|Torgersen|          41.1|         17.6|              182|       3200|FEMALE|\n",
      "| Adelie|Torgersen|          38.6|         21.2|              191|       3800|  MALE|\n",
      "| Adelie|Torgersen|          34.6|         21.1|              198|       4400|  MALE|\n",
      "| Adelie|Torgersen|          36.6|         17.8|              185|       3700|FEMALE|\n",
      "| Adelie|Torgersen|          38.7|         19.0|              195|       3450|FEMALE|\n",
      "| Adelie|Torgersen|          42.5|         20.7|              197|       4500|  MALE|\n",
      "| Adelie|Torgersen|          34.4|         18.4|              184|       3325|FEMALE|\n",
      "| Adelie|Torgersen|          46.0|         21.5|              194|       4200|  MALE|\n",
      "+-------+---------+--------------+-------------+-----------------+-----------+------+\n",
      "only showing top 20 rows\n",
      "\n"
     ]
    }
   ],
   "source": [
    "from pyspark.sql import SparkSession\n",
    "\n",
    "# Create a SparkSession\n",
    "spark = SparkSession.builder.appName(\"https://github.com/maheshkshi400/MK\").getOrCreate()\n",
    "\n",
    "\n",
    "df = spark.read.format('csv').\\\n",
    "    option('inferschema',True).\\\n",
    "    option('delimiter',',').\\\n",
    "    option('header',True).\\\n",
    "    load('C:/Users/Pc/juypter/penguins.csv')\n",
    "\n",
    "df.show()\n",
    "    "
   ]
  },
  {
   "cell_type": "code",
   "execution_count": 3,
   "id": "731f63d0",
   "metadata": {},
   "outputs": [
    {
     "name": "stdout",
     "output_type": "stream",
     "text": [
      "+---------+-----+\n",
      "|   island|count|\n",
      "+---------+-----+\n",
      "|    Dream|  124|\n",
      "|Torgersen|   52|\n",
      "|   Biscoe|  168|\n",
      "+---------+-----+\n",
      "\n"
     ]
    }
   ],
   "source": [
    "df2 =df.groupBy('island').count().show()"
   ]
  },
  {
   "cell_type": "code",
   "execution_count": null,
   "id": "5ce7084d",
   "metadata": {},
   "outputs": [],
   "source": [
    "df.write.option(\"header\",True).\\\n",
    "partitionBy(\"island\").\\\n",
    "mode(\"overwrite\").\\\n",
    "csv(\"C:/Users/Pc/juypter/penguinsPartitionBy.csv\")\n"
   ]
  },
  {
   "cell_type": "code",
   "execution_count": null,
   "id": "4e56adff",
   "metadata": {},
   "outputs": [],
   "source": [
    "# Multicolumn partition\n",
    "\n",
    "df.write.option(\"header\",True).\\\n",
    "partitionBy(\"island\",\"sex\").\\\n",
    "mode(\"overwrite\").\\\n",
    "csv(\"C:/Users/Pc/juypter/penguinsPartitionBy.csv\")"
   ]
  },
  {
   "cell_type": "code",
   "execution_count": null,
   "id": "cc706f36",
   "metadata": {},
   "outputs": [],
   "source": [
    "# Max records per partition limit\n",
    "\n",
    "df.write.option(\"header\",True).\\\n",
    "option(\"maxrecordsperfile\",5000).\\\n",
    "partitionBy(\"island\",\"sex\").\\\n",
    "mode(\"overwrite\").\\\n",
    "csv(\"C:/Users/Pc/juypter/penguinsPartitionBy.csv\")"
   ]
  }
 ],
 "metadata": {
  "kernelspec": {
   "display_name": "Python 3 (ipykernel)",
   "language": "python",
   "name": "python3"
  },
  "language_info": {
   "codemirror_mode": {
    "name": "ipython",
    "version": 3
   },
   "file_extension": ".py",
   "mimetype": "text/x-python",
   "name": "python",
   "nbconvert_exporter": "python",
   "pygments_lexer": "ipython3",
   "version": "3.11.5"
  }
 },
 "nbformat": 4,
 "nbformat_minor": 5
}
