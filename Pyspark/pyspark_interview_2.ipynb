{
 "cells": [
  {
   "cell_type": "code",
   "execution_count": null,
   "metadata": {},
   "outputs": [],
   "source": [
    "from pyspark.sql.functions import col, explode\n",
    "\n",
    "simpleData = [(1, [\"Sagar\", \"Prajapati\"]),\n",
    "              (2, [\"Shivam\", \"Gupta\"]),\n",
    "              (3, [\"Kunal\", \"Verma\"]),\n",
    "              (4, [\"Kim\"])]\n",
    "\n",
    "columns = [\"ID\", \"Name\"]\n",
    "\n",
    "df_1 = spark.createDataFrame(data=simpleData, schema=columns)\n",
    "\n",
    "df_1.show()"
   ]
  },
  {
   "cell_type": "code",
   "execution_count": null,
   "id": "81e22262",
   "metadata": {},
   "outputs": [],
   "source": [
    "df = df_1.select(col(\"ID\"),explode(col(\"Name\")))\n",
    "df.show()"
   ]
  }
 ],
 "metadata": {
  "kernelspec": {
   "display_name": "python312",
   "language": "python",
   "name": "python3"
  },
  "language_info": {
   "name": "python",
   "version": "3.12.4"
  }
 },
 "nbformat": 4,
 "nbformat_minor": 5
}
