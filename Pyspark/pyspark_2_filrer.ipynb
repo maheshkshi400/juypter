{
 "cells": [
  {
   "cell_type": "code",
   "execution_count": 1,
   "metadata": {},
   "outputs": [
    {
     "ename": "ModuleNotFoundError",
     "evalue": "No module named 'pyspark'",
     "output_type": "error",
     "traceback": [
      "\u001b[1;31m---------------------------------------------------------------------------\u001b[0m",
      "\u001b[1;31mModuleNotFoundError\u001b[0m                       Traceback (most recent call last)",
      "Cell \u001b[1;32mIn[1], line 1\u001b[0m\n\u001b[1;32m----> 1\u001b[0m \u001b[38;5;28;01mfrom\u001b[39;00m \u001b[38;5;21;01mpyspark\u001b[39;00m\u001b[38;5;21;01m.\u001b[39;00m\u001b[38;5;21;01msql\u001b[39;00m \u001b[38;5;28;01mimport\u001b[39;00m SparkSession\n\u001b[0;32m      3\u001b[0m \u001b[38;5;66;03m# Create a SparkSession\u001b[39;00m\n\u001b[0;32m      4\u001b[0m spark \u001b[38;5;241m=\u001b[39m SparkSession\u001b[38;5;241m.\u001b[39mbuilder\u001b[38;5;241m.\u001b[39mappName(\u001b[38;5;124m\"\u001b[39m\u001b[38;5;124mhttps://github.com/maheshkshi400/MK\u001b[39m\u001b[38;5;124m\"\u001b[39m)\u001b[38;5;241m.\u001b[39mgetOrCreate()\n",
      "\u001b[1;31mModuleNotFoundError\u001b[0m: No module named 'pyspark'"
     ]
    }
   ],
   "source": [
    "from pyspark.sql import SparkSession\n",
    "\n",
    "# Create a SparkSession\n",
    "spark = SparkSession.builder.appName(\"https://github.com/maheshkshi400/MK\").getOrCreate()\n",
    "\n",
    "\n",
    "\n",
    "data1 = [(1,'mahesh','male',20,5000,'IT',50,2002),\n",
    "         (2,'shruthi','female',30,6000,'HR',20,2008),\n",
    "         (3,'ganesh','male',25,7000,'FINANCE',30,2010),\n",
    "         (4,'pooja','female',34,8000,'PAYROLL',40,2005),\n",
    "         (5,'kamini','female',31,6000,'IT',50,2007),\n",
    "         (6,'shivaji','male',20,8000,'IT',50,1004),\n",
    "         (7,'shweta','female',30,6000,'HR',20,1998),\n",
    "         (8,'suresh','male',25,10000,'FINANCE',30,2011),\n",
    "         (9,'shivani','female',34,11000,'PAYROLL',40,2013),\n",
    "         (10,'prachi','female',30,6000,'IT',50,2001)]\n",
    "\n",
    "schema1 = ['id','name','gender','age','salary','dept','deptno','doj']\n",
    "\n",
    "\n",
    "\n",
    "\n",
    "df1 = spark.createDataFrame(data1,schema1)\n",
    "\n",
    "\n",
    "df1.show()"
   ]
  },
  {
   "cell_type": "code",
   "execution_count": 3,
   "metadata": {},
   "outputs": [
    {
     "name": "stdout",
     "output_type": "stream",
     "text": [
      "+---+-------+------+---+------+----+------+----+\n",
      "| id|   name|gender|age|salary|dept|deptno| doj|\n",
      "+---+-------+------+---+------+----+------+----+\n",
      "|  2|shruthi|female| 30|  6000|  HR|    20|2008|\n",
      "|  5| kamini|female| 31|  6000|  IT|    50|2007|\n",
      "|  7| shweta|female| 30|  6000|  HR|    20|1998|\n",
      "| 10| prachi|female| 30|  6000|  IT|    50|2001|\n",
      "+---+-------+------+---+------+----+------+----+\n",
      "\n"
     ]
    }
   ],
   "source": [
    "from pyspark.sql import SparkSession\n",
    "\n",
    "# Create a SparkSession\n",
    "spark = SparkSession.builder.appName(\"https://github.com/maheshkshi400/MK\").getOrCreate()\n",
    "\n",
    "\n",
    "df2= df1.filter(df1.salary==6000)\n",
    "df2.show()"
   ]
  },
  {
   "cell_type": "code",
   "execution_count": 8,
   "metadata": {},
   "outputs": [
    {
     "name": "stdout",
     "output_type": "stream",
     "text": [
      "+---+-------+------+---+------+-------+------+----+\n",
      "| id|   name|gender|age|salary|   dept|deptno| doj|\n",
      "+---+-------+------+---+------+-------+------+----+\n",
      "|  4|  pooja|female| 34|  8000|PAYROLL|    40|2005|\n",
      "|  6|shivaji|  male| 20|  8000|     IT|    50|1004|\n",
      "|  8| suresh|  male| 25| 10000|FINANCE|    30|2011|\n",
      "|  9|shivani|female| 34| 11000|PAYROLL|    40|2013|\n",
      "+---+-------+------+---+------+-------+------+----+\n",
      "\n"
     ]
    }
   ],
   "source": [
    "from pyspark.sql import SparkSession\n",
    "\n",
    "# Create a SparkSession\n",
    "spark = SparkSession.builder.appName(\"https://github.com/maheshkshi400/MK\").getOrCreate()\n",
    "\n",
    "\n",
    "df3= df1.filter(df1.salary>=8000)\n",
    "df3.show()"
   ]
  },
  {
   "cell_type": "code",
   "execution_count": 9,
   "metadata": {},
   "outputs": [
    {
     "name": "stdout",
     "output_type": "stream",
     "text": [
      "+---+-------+------+---+------+-------+------+----+\n",
      "| id|   name|gender|age|salary|   dept|deptno| doj|\n",
      "+---+-------+------+---+------+-------+------+----+\n",
      "|  1| mahesh|  male| 20|  5000|     IT|    50|2002|\n",
      "|  2|shruthi|female| 30|  6000|     HR|    20|2008|\n",
      "|  3| ganesh|  male| 25|  7000|FINANCE|    30|2010|\n",
      "|  4|  pooja|female| 34|  8000|PAYROLL|    40|2005|\n",
      "|  5| kamini|female| 31|  6000|     IT|    50|2007|\n",
      "|  6|shivaji|  male| 20|  8000|     IT|    50|1004|\n",
      "|  7| shweta|female| 30|  6000|     HR|    20|1998|\n",
      "|  8| suresh|  male| 25| 10000|FINANCE|    30|2011|\n",
      "|  9|shivani|female| 34| 11000|PAYROLL|    40|2013|\n",
      "| 10| prachi|female| 30|  6000|     IT|    50|2001|\n",
      "+---+-------+------+---+------+-------+------+----+\n",
      "\n",
      "+---+-------+------+---+------+-------+------+----+\n",
      "| id|   name|gender|age|salary|   dept|deptno| doj|\n",
      "+---+-------+------+---+------+-------+------+----+\n",
      "|  4|  pooja|female| 34|  8000|PAYROLL|    40|2005|\n",
      "|  8| suresh|  male| 25| 10000|FINANCE|    30|2011|\n",
      "|  9|shivani|female| 34| 11000|PAYROLL|    40|2013|\n",
      "+---+-------+------+---+------+-------+------+----+\n",
      "\n"
     ]
    }
   ],
   "source": [
    "from pyspark.sql import SparkSession\n",
    "\n",
    "# Create a SparkSession\n",
    "spark = SparkSession.builder.appName(\"https://github.com/maheshkshi400/MK\").getOrCreate()\n",
    "\n",
    "df1.show()\n",
    "\n",
    "\n",
    "df4= df1.filter((df1.salary>=8000) & (df1.doj>=2005))\n",
    "df4.show()"
   ]
  },
  {
   "cell_type": "code",
   "execution_count": 10,
   "metadata": {},
   "outputs": [
    {
     "name": "stdout",
     "output_type": "stream",
     "text": [
      "+---+-------+------+---+------+-------+------+----+\n",
      "| id|   name|gender|age|salary|   dept|deptno| doj|\n",
      "+---+-------+------+---+------+-------+------+----+\n",
      "|  1| mahesh|  male| 20|  5000|     IT|    50|2002|\n",
      "|  2|shruthi|female| 30|  6000|     HR|    20|2008|\n",
      "|  3| ganesh|  male| 25|  7000|FINANCE|    30|2010|\n",
      "|  4|  pooja|female| 34|  8000|PAYROLL|    40|2005|\n",
      "|  5| kamini|female| 31|  6000|     IT|    50|2007|\n",
      "|  6|shivaji|  male| 20|  8000|     IT|    50|1004|\n",
      "|  7| shweta|female| 30|  6000|     HR|    20|1998|\n",
      "|  8| suresh|  male| 25| 10000|FINANCE|    30|2011|\n",
      "|  9|shivani|female| 34| 11000|PAYROLL|    40|2013|\n",
      "| 10| prachi|female| 30|  6000|     IT|    50|2001|\n",
      "+---+-------+------+---+------+-------+------+----+\n",
      "\n",
      "+---+-------+------+---+------+-------+------+----+\n",
      "| id|   name|gender|age|salary|   dept|deptno| doj|\n",
      "+---+-------+------+---+------+-------+------+----+\n",
      "|  2|shruthi|female| 30|  6000|     HR|    20|2008|\n",
      "|  3| ganesh|  male| 25|  7000|FINANCE|    30|2010|\n",
      "|  4|  pooja|female| 34|  8000|PAYROLL|    40|2005|\n",
      "|  5| kamini|female| 31|  6000|     IT|    50|2007|\n",
      "|  6|shivaji|  male| 20|  8000|     IT|    50|1004|\n",
      "|  8| suresh|  male| 25| 10000|FINANCE|    30|2011|\n",
      "|  9|shivani|female| 34| 11000|PAYROLL|    40|2013|\n",
      "+---+-------+------+---+------+-------+------+----+\n",
      "\n"
     ]
    }
   ],
   "source": [
    "from pyspark.sql import SparkSession\n",
    "\n",
    "# Create a SparkSession\n",
    "spark = SparkSession.builder.appName(\"https://github.com/maheshkshi400/MK\").getOrCreate()\n",
    "\n",
    "df1.show()\n",
    "\n",
    "\n",
    "df5= df1.filter((df1.salary>=8000) | (df1.doj>=2005))\n",
    "df5.show()"
   ]
  },
  {
   "cell_type": "code",
   "execution_count": 11,
   "metadata": {},
   "outputs": [
    {
     "name": "stdout",
     "output_type": "stream",
     "text": [
      "+---+-------+------+---+------+-------+------+----+\n",
      "| id|   name|gender|age|salary|   dept|deptno| doj|\n",
      "+---+-------+------+---+------+-------+------+----+\n",
      "|  1| mahesh|  male| 20|  5000|     IT|    50|2002|\n",
      "|  2|shruthi|female| 30|  6000|     HR|    20|2008|\n",
      "|  3| ganesh|  male| 25|  7000|FINANCE|    30|2010|\n",
      "|  4|  pooja|female| 34|  8000|PAYROLL|    40|2005|\n",
      "|  5| kamini|female| 31|  6000|     IT|    50|2007|\n",
      "|  6|shivaji|  male| 20|  8000|     IT|    50|1004|\n",
      "|  7| shweta|female| 30|  6000|     HR|    20|1998|\n",
      "|  8| suresh|  male| 25| 10000|FINANCE|    30|2011|\n",
      "|  9|shivani|female| 34| 11000|PAYROLL|    40|2013|\n",
      "| 10| prachi|female| 30|  6000|     IT|    50|2001|\n",
      "+---+-------+------+---+------+-------+------+----+\n",
      "\n",
      "+---+-------+------+---+------+-------+------+----+\n",
      "| id|   name|gender|age|salary|   dept|deptno| doj|\n",
      "+---+-------+------+---+------+-------+------+----+\n",
      "|  2|shruthi|female| 30|  6000|     HR|    20|2008|\n",
      "|  3| ganesh|  male| 25|  7000|FINANCE|    30|2010|\n",
      "|  4|  pooja|female| 34|  8000|PAYROLL|    40|2005|\n",
      "|  5| kamini|female| 31|  6000|     IT|    50|2007|\n",
      "|  6|shivaji|  male| 20|  8000|     IT|    50|1004|\n",
      "|  8| suresh|  male| 25| 10000|FINANCE|    30|2011|\n",
      "|  9|shivani|female| 34| 11000|PAYROLL|    40|2013|\n",
      "+---+-------+------+---+------+-------+------+----+\n",
      "\n"
     ]
    }
   ],
   "source": [
    "from pyspark.sql import SparkSession\n",
    "\n",
    "# Create a SparkSession\n",
    "spark = SparkSession.builder.appName(\"https://github.com/maheshkshi400/MK\").getOrCreate()\n",
    "\n",
    "df1.show()\n",
    "\n",
    "\n",
    "df6= df1.filter((df1.salary>=8000) | (df1.doj>=2005))\n",
    "df6.show()"
   ]
  },
  {
   "cell_type": "code",
   "execution_count": 14,
   "metadata": {},
   "outputs": [
    {
     "name": "stdout",
     "output_type": "stream",
     "text": [
      "+---+-------+------+---+------+-------+------+----+\n",
      "| id|   name|gender|age|salary|   dept|deptno| doj|\n",
      "+---+-------+------+---+------+-------+------+----+\n",
      "|  1| mahesh|  male| 20|  5000|     IT|    50|2002|\n",
      "|  2|shruthi|female| 30|  6000|     HR|    20|2008|\n",
      "|  3| ganesh|  male| 25|  7000|FINANCE|    30|2010|\n",
      "|  4|  pooja|female| 34|  8000|PAYROLL|    40|2005|\n",
      "|  5| kamini|female| 31|  6000|     IT|    50|2007|\n",
      "|  6|shivaji|  male| 20|  8000|     IT|    50|1004|\n",
      "|  7| shweta|female| 30|  6000|     HR|    20|1998|\n",
      "|  8| suresh|  male| 25| 10000|FINANCE|    30|2011|\n",
      "|  9|shivani|female| 34| 11000|PAYROLL|    40|2013|\n",
      "| 10| prachi|female| 30|  6000|     IT|    50|2001|\n",
      "+---+-------+------+---+------+-------+------+----+\n",
      "\n",
      "+---+-------+------+---+------+-------+------+----+\n",
      "| id|   name|gender|age|salary|   dept|deptno| doj|\n",
      "+---+-------+------+---+------+-------+------+----+\n",
      "|  2|shruthi|female| 30|  6000|     HR|    20|2008|\n",
      "|  5| kamini|female| 31|  6000|     IT|    50|2007|\n",
      "|  6|shivaji|  male| 20|  8000|     IT|    50|1004|\n",
      "|  9|shivani|female| 34| 11000|PAYROLL|    40|2013|\n",
      "| 10| prachi|female| 30|  6000|     IT|    50|2001|\n",
      "+---+-------+------+---+------+-------+------+----+\n",
      "\n"
     ]
    }
   ],
   "source": [
    "from pyspark.sql import SparkSession\n",
    "\n",
    "# Create a SparkSession\n",
    "spark = SparkSession.builder.appName(\"https://github.com/maheshkshi400/MK\").getOrCreate()\n",
    "\n",
    "df1.show()\n",
    "\n",
    "\n",
    "df7= df1.filter(df1.name.endswith(\"i\"))\n",
    "df7.show()"
   ]
  },
  {
   "cell_type": "code",
   "execution_count": 17,
   "metadata": {},
   "outputs": [
    {
     "name": "stdout",
     "output_type": "stream",
     "text": [
      "+---+-------+------+---+------+-------+------+----+\n",
      "| id|   name|gender|age|salary|   dept|deptno| doj|\n",
      "+---+-------+------+---+------+-------+------+----+\n",
      "|  1| mahesh|  male| 20|  5000|     IT|    50|2002|\n",
      "|  2|shruthi|female| 30|  6000|     HR|    20|2008|\n",
      "|  3| ganesh|  male| 25|  7000|FINANCE|    30|2010|\n",
      "|  4|  pooja|female| 34|  8000|PAYROLL|    40|2005|\n",
      "|  5| kamini|female| 31|  6000|     IT|  NULL|2007|\n",
      "|  6|shivaji|  male| 20|  8000|     IT|    50|1004|\n",
      "|  7| shweta|female| 30|  6000|     HR|    20|1998|\n",
      "|  8| suresh|  male| 25| 10000|FINANCE|    30|2011|\n",
      "|  9|shivani|  NULL| 34| 11000|PAYROLL|    40|2013|\n",
      "| 10| prachi|female| 30|  6000|     IT|    50|2001|\n",
      "+---+-------+------+---+------+-------+------+----+\n",
      "\n"
     ]
    }
   ],
   "source": [
    "from pyspark.sql import SparkSession\n",
    "\n",
    "# Create a SparkSession\n",
    "spark = SparkSession.builder.appName(\"https://github.com/maheshkshi400/MK\").getOrCreate()\n",
    "\n",
    "\n",
    "\n",
    "data1 = [(1,'mahesh','male',20,5000,'IT',50,2002),\n",
    "         (2,'shruthi','female',30,6000,'HR',20,2008),\n",
    "         (3,'ganesh','male',25,7000,'FINANCE',30,2010),\n",
    "         (4,'pooja','female',34,8000,'PAYROLL',40,2005),\n",
    "         (5,'kamini','female',31,6000,'IT',None,2007),\n",
    "         (6,'shivaji','male',20,8000,'IT',50,1004),\n",
    "         (7,'shweta','female',30,6000,'HR',20,1998),\n",
    "         (8,'suresh','male',25,10000,'FINANCE',30,2011),\n",
    "         (9,'shivani',None,34,11000,'PAYROLL',40,2013),\n",
    "         (10,'prachi','female',30,6000,'IT',50,2001)]\n",
    "\n",
    "schema1 = ['id','name','gender','age','salary','dept','deptno','doj']\n",
    "\n",
    "\n",
    "\n",
    "\n",
    "empdf = spark.createDataFrame(data1,schema1)\n",
    "\n",
    "\n",
    "empdf.show()"
   ]
  },
  {
   "cell_type": "code",
   "execution_count": 18,
   "metadata": {},
   "outputs": [
    {
     "name": "stdout",
     "output_type": "stream",
     "text": [
      "+---+-------+------+---+------+-------+------+----+\n",
      "| id|   name|gender|age|salary|   dept|deptno| doj|\n",
      "+---+-------+------+---+------+-------+------+----+\n",
      "|  2|shruthi|female| 30|  6000|     HR|    20|2008|\n",
      "|  5| kamini|female| 31|  6000|     IT|  NULL|2007|\n",
      "|  6|shivaji|  male| 20|  8000|     IT|    50|1004|\n",
      "|  9|shivani|  NULL| 34| 11000|PAYROLL|    40|2013|\n",
      "| 10| prachi|female| 30|  6000|     IT|    50|2001|\n",
      "+---+-------+------+---+------+-------+------+----+\n",
      "\n"
     ]
    }
   ],
   "source": [
    "df8=empdf.filter(empdf.name.endswith(\"i\"))\n",
    "df8.show()"
   ]
  },
  {
   "cell_type": "code",
   "execution_count": 21,
   "metadata": {},
   "outputs": [
    {
     "name": "stdout",
     "output_type": "stream",
     "text": [
      "+---+-------+------+---+------+-------+------+----+\n",
      "| id|   name|gender|age|salary|   dept|deptno| doj|\n",
      "+---+-------+------+---+------+-------+------+----+\n",
      "|  2|shruthi|female| 30|  6000|     HR|    20|2008|\n",
      "|  6|shivaji|  male| 20|  8000|     IT|    50|1004|\n",
      "|  7| shweta|female| 30|  6000|     HR|    20|1998|\n",
      "|  8| suresh|  male| 25| 10000|FINANCE|    30|2011|\n",
      "|  9|shivani|  NULL| 34| 11000|PAYROLL|    40|2013|\n",
      "+---+-------+------+---+------+-------+------+----+\n",
      "\n"
     ]
    }
   ],
   "source": [
    "df9=empdf.filter(empdf.name.startswith(\"s\"))\n",
    "df9.show()"
   ]
  },
  {
   "cell_type": "code",
   "execution_count": 25,
   "metadata": {},
   "outputs": [
    {
     "name": "stdout",
     "output_type": "stream",
     "text": [
      "+---+-------+------+---+------+-------+------+----+\n",
      "| id|   name|gender|age|salary|   dept|deptno| doj|\n",
      "+---+-------+------+---+------+-------+------+----+\n",
      "|  9|shivani|  NULL| 34| 11000|PAYROLL|    40|2013|\n",
      "+---+-------+------+---+------+-------+------+----+\n",
      "\n"
     ]
    }
   ],
   "source": [
    "df10=empdf.filter(empdf.gender.isNull())\n",
    "df10.show()"
   ]
  },
  {
   "cell_type": "code",
   "execution_count": 28,
   "metadata": {},
   "outputs": [
    {
     "name": "stdout",
     "output_type": "stream",
     "text": [
      "+---+-------+------+---+------+-------+------+----+\n",
      "| id|   name|gender|age|salary|   dept|deptno| doj|\n",
      "+---+-------+------+---+------+-------+------+----+\n",
      "|  6|shivaji|  male| 20|  8000|     IT|    50|1004|\n",
      "|  9|shivani|  NULL| 34| 11000|PAYROLL|    40|2013|\n",
      "+---+-------+------+---+------+-------+------+----+\n",
      "\n"
     ]
    }
   ],
   "source": [
    "df11=empdf.filter(empdf.name.contains(\"v\"))\n",
    "df11.show()"
   ]
  },
  {
   "cell_type": "code",
   "execution_count": 29,
   "metadata": {},
   "outputs": [
    {
     "name": "stdout",
     "output_type": "stream",
     "text": [
      "+---+-------+------+---+------+-------+------+----+\n",
      "| id|   name|gender|age|salary|   dept|deptno| doj|\n",
      "+---+-------+------+---+------+-------+------+----+\n",
      "|  4|  pooja|female| 34|  8000|PAYROLL|    40|2005|\n",
      "|  6|shivaji|  male| 20|  8000|     IT|    50|1004|\n",
      "|  8| suresh|  male| 25| 10000|FINANCE|    30|2011|\n",
      "+---+-------+------+---+------+-------+------+----+\n",
      "\n"
     ]
    }
   ],
   "source": [
    "df12=empdf.filter(empdf.salary.isin(8000,10000))\n",
    "df12.show()"
   ]
  },
  {
   "cell_type": "code",
   "execution_count": 30,
   "metadata": {},
   "outputs": [
    {
     "name": "stdout",
     "output_type": "stream",
     "text": [
      "+---+------+------+---+------+----+------+----+\n",
      "| id|  name|gender|age|salary|dept|deptno| doj|\n",
      "+---+------+------+---+------+----+------+----+\n",
      "|  1|mahesh|  male| 20|  5000|  IT|    50|2002|\n",
      "+---+------+------+---+------+----+------+----+\n",
      "\n"
     ]
    }
   ],
   "source": [
    "df13=empdf.filter(empdf.name.like('m%'))\n",
    "df13.show()"
   ]
  }
 ],
 "metadata": {
  "kernelspec": {
   "display_name": "base",
   "language": "python",
   "name": "python3"
  },
  "language_info": {
   "codemirror_mode": {
    "name": "ipython",
    "version": 3
   },
   "file_extension": ".py",
   "mimetype": "text/x-python",
   "name": "python",
   "nbconvert_exporter": "python",
   "pygments_lexer": "ipython3",
   "version": "3.11.8"
  }
 },
 "nbformat": 4,
 "nbformat_minor": 2
}
