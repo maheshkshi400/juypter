{
 "cells": [
  {
   "cell_type": "code",
   "execution_count": 1,
   "metadata": {},
   "outputs": [
    {
     "name": "stdout",
     "output_type": "stream",
     "text": [
      "+-------+---------+---------+---------+---------+---------+\n",
      "|   Name|subject_1|subject_2|subject_3|subject_4|subject_5|\n",
      "+-------+---------+---------+---------+---------+---------+\n",
      "| Ganesh|       70|       40|       89|       50|       60|\n",
      "|shankar|       20|       43|       60|       63|       73|\n",
      "|shivani|       53|       75|       40|       78|       90|\n",
      "| Manali|       40|       65|       77|       56|       75|\n",
      "| chitra|       45|       67|       86|       23|       40|\n",
      "+-------+---------+---------+---------+---------+---------+\n",
      "\n"
     ]
    }
   ],
   "source": [
    "from pyspark.sql import SparkSession\n",
    "\n",
    "# Create a SparkSession\n",
    "spark = SparkSession.builder.appName(\"https://github.com/maheshkshi400/MK\").getOrCreate()\n",
    "\n",
    "student_data= [(\"Ganesh\",70,40,89,50,60),\n",
    "               (\"shankar\",20,43,60,63,73),\n",
    "               (\"shivani\",53,75,40,78,90),\n",
    "               (\"Manali\",40,65,77,56,75),\n",
    "               (\"chitra\",45,67,86,23,40)]\n",
    "\n",
    "schema = ['Name','subject_1','subject_2','subject_3','subject_4','subject_5']\n",
    "\n",
    "df = spark.createDataFrame(data=student_data,schema=schema)\n",
    "df.show()\n"
   ]
  },
  {
   "cell_type": "code",
   "execution_count": 2,
   "metadata": {},
   "outputs": [
    {
     "name": "stdout",
     "output_type": "stream",
     "text": [
      "+-------+---------+---------+---------+---------+---------+--------+\n",
      "|   Name|subject_1|subject_2|subject_3|subject_4|subject_5|Greatest|\n",
      "+-------+---------+---------+---------+---------+---------+--------+\n",
      "| Ganesh|       70|       40|       89|       50|       60|      89|\n",
      "|shankar|       20|       43|       60|       63|       73|      73|\n",
      "|shivani|       53|       75|       40|       78|       90|      90|\n",
      "| Manali|       40|       65|       77|       56|       75|      77|\n",
      "| chitra|       45|       67|       86|       23|       40|      86|\n",
      "+-------+---------+---------+---------+---------+---------+--------+\n",
      "\n"
     ]
    }
   ],
   "source": [
    " # Gratest of columns\n",
    "from pyspark.sql.functions import greatest\n",
    "\n",
    "greatDF= df.withColumn(\"Greatest\",greatest('subject_1','subject_2','subject_3','subject_4','subject_5'))\n",
    "greatDF.show()"
   ]
  },
  {
   "cell_type": "code",
   "execution_count": 3,
   "metadata": {},
   "outputs": [
    {
     "name": "stdout",
     "output_type": "stream",
     "text": [
      "+-------+---------+---------+---------+---------+---------+-----+\n",
      "|   Name|subject_1|subject_2|subject_3|subject_4|subject_5|least|\n",
      "+-------+---------+---------+---------+---------+---------+-----+\n",
      "| Ganesh|       70|       40|       89|       50|       60|   40|\n",
      "|shankar|       20|       43|       60|       63|       73|   20|\n",
      "|shivani|       53|       75|       40|       78|       90|   40|\n",
      "| Manali|       40|       65|       77|       56|       75|   40|\n",
      "| chitra|       45|       67|       86|       23|       40|   23|\n",
      "+-------+---------+---------+---------+---------+---------+-----+\n",
      "\n"
     ]
    }
   ],
   "source": [
    " # Gratest of columns\n",
    "from pyspark.sql.functions import greatest,least\n",
    "\n",
    "leasttDF= df.withColumn(\"least\",least('subject_1','subject_2','subject_3','subject_4','subject_5'))\n",
    "leasttDF.show()"
   ]
  },
  {
   "cell_type": "code",
   "execution_count": 4,
   "metadata": {},
   "outputs": [
    {
     "name": "stdout",
     "output_type": "stream",
     "text": [
      "+--------------+\n",
      "|max(subject_1)|\n",
      "+--------------+\n",
      "|            70|\n",
      "+--------------+\n",
      "\n"
     ]
    }
   ],
   "source": [
    "df.agg({'subject_1':'max'}).show()"
   ]
  },
  {
   "cell_type": "code",
   "execution_count": 5,
   "metadata": {},
   "outputs": [
    {
     "name": "stdout",
     "output_type": "stream",
     "text": [
      "+--------------+--------------+--------------+--------------+--------------+\n",
      "|min(subject_1)|min(subject_3)|min(subject_4)|min(subject_2)|min(subject_5)|\n",
      "+--------------+--------------+--------------+--------------+--------------+\n",
      "|            20|            40|            23|            40|            40|\n",
      "+--------------+--------------+--------------+--------------+--------------+\n",
      "\n"
     ]
    }
   ],
   "source": [
    "df.agg({'subject_1':'min','subject_2':'min','subject_3':'min','subject_4':'min','subject_5':'min'}).show()"
   ]
  }
 ],
 "metadata": {
  "kernelspec": {
   "display_name": "base",
   "language": "python",
   "name": "python3"
  },
  "language_info": {
   "codemirror_mode": {
    "name": "ipython",
    "version": 3
   },
   "file_extension": ".py",
   "mimetype": "text/x-python",
   "name": "python",
   "nbconvert_exporter": "python",
   "pygments_lexer": "ipython3",
   "version": "3.11.5"
  }
 },
 "nbformat": 4,
 "nbformat_minor": 2
}
