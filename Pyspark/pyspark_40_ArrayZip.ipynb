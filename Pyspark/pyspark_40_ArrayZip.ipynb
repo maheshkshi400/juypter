{
 "cells": [
  {
   "cell_type": "code",
   "execution_count": 1,
   "metadata": {},
   "outputs": [
    {
     "ename": "ModuleNotFoundError",
     "evalue": "No module named 'pyspark'",
     "output_type": "error",
     "traceback": [
      "\u001b[1;31m---------------------------------------------------------------------------\u001b[0m",
      "\u001b[1;31mModuleNotFoundError\u001b[0m                       Traceback (most recent call last)",
      "Cell \u001b[1;32mIn[1], line 1\u001b[0m\n\u001b[1;32m----> 1\u001b[0m \u001b[38;5;28;01mfrom\u001b[39;00m \u001b[38;5;21;01mpyspark\u001b[39;00m\u001b[38;5;21;01m.\u001b[39;00m\u001b[38;5;21;01msql\u001b[39;00m \u001b[38;5;28;01mimport\u001b[39;00m SparkSession\n\u001b[0;32m      3\u001b[0m \u001b[38;5;66;03m# Create a SparkSession\u001b[39;00m\n\u001b[0;32m      4\u001b[0m spark \u001b[38;5;241m=\u001b[39m SparkSession\u001b[38;5;241m.\u001b[39mbuilder\u001b[38;5;241m.\u001b[39mappName(\u001b[38;5;124m\"\u001b[39m\u001b[38;5;124mhttps://github.com/maheshkshi400/MK\u001b[39m\u001b[38;5;124m\"\u001b[39m)\u001b[38;5;241m.\u001b[39mgetOrCreate()\n",
      "\u001b[1;31mModuleNotFoundError\u001b[0m: No module named 'pyspark'"
     ]
    }
   ],
   "source": [
    "from pyspark.sql import SparkSession\n",
    "\n",
    "# Create a SparkSession\n",
    "spark = SparkSession.builder.appName(\"https://github.com/maheshkshi400/MK\").getOrCreate()\n",
    "\n",
    "\n"
   ]
  },
  {
   "cell_type": "code",
   "execution_count": 6,
   "metadata": {},
   "outputs": [
    {
     "name": "stdout",
     "output_type": "stream",
     "text": [
      "+-----+-------+-------+\n",
      "| Name|score_1|score_2|\n",
      "+-----+-------+-------+\n",
      "| John|      4|      1|\n",
      "| John|      6|      2|\n",
      "|David|      7|      3|\n",
      "| mike|      3|      4|\n",
      "|David|      5|      2|\n",
      "| John|      7|      3|\n",
      "| john|      9|      7|\n",
      "|David|      5|      4|\n",
      "| mike|      7|      5|\n",
      "| john|      7|      6|\n",
      "|David|      4|      3|\n",
      "| mike|      4|      7|\n",
      "|David|      5|      4|\n",
      "| john|      6|      4|\n",
      "|David|      8|      2|\n",
      "+-----+-------+-------+\n",
      "\n"
     ]
    }
   ],
   "source": [
    "array_data=[\n",
    "    (\"John\",4,1),\n",
    "    (\"John\",6,2),\n",
    "    (\"David\",7,3),\n",
    "    (\"mike\",3,4),\n",
    "    (\"David\",5,2),\n",
    "    (\"John\",7,3),\n",
    "    (\"john\",9,7),\n",
    "    (\"David\",5,4),\n",
    "    (\"mike\",7,5),\n",
    "    (\"john\",7,6),\n",
    "    (\"David\",4,3),\n",
    "    (\"mike\",4,7),\n",
    "    (\"David\",5,4),\n",
    "    (\"john\",6,4),\n",
    "    (\"David\",8,2)\n",
    "]\n",
    "\n",
    "array_schema=[\"Name\",\"score_1\",\"score_2\"]\n",
    "\n",
    "df1= spark.createDataFrame(array_data,array_schema)\n",
    "df1.show()"
   ]
  },
  {
   "cell_type": "code",
   "execution_count": 8,
   "metadata": {},
   "outputs": [
    {
     "name": "stdout",
     "output_type": "stream",
     "text": [
      "root\n",
      " |-- Name: string (nullable = true)\n",
      " |-- Array_score_1: array (nullable = false)\n",
      " |    |-- element: long (containsNull = false)\n",
      " |-- Array_score_2: array (nullable = false)\n",
      " |    |-- element: long (containsNull = false)\n",
      "\n",
      "+-----+------------------+------------------+\n",
      "| Name|     Array_score_1|     Array_score_2|\n",
      "+-----+------------------+------------------+\n",
      "| John|         [4, 6, 7]|         [1, 2, 3]|\n",
      "|David|[7, 5, 5, 4, 5, 8]|[3, 2, 4, 3, 4, 2]|\n",
      "| mike|         [3, 7, 4]|         [4, 5, 7]|\n",
      "| john|         [9, 7, 6]|         [7, 6, 4]|\n",
      "+-----+------------------+------------------+\n",
      "\n"
     ]
    }
   ],
   "source": [
    "# convert sample dataframe into Array dataframe\n",
    "\n",
    "from pyspark.sql import functions as F\n",
    "\n",
    "master_df=df1.groupBy(\"Name\").agg(F.collect_list('score_1').alias('Array_score_1'),\n",
    "                                  F.collect_list('score_2').alias('Array_score_2'))\n",
    "\n",
    "master_df.printSchema()\n",
    "master_df.show()\n"
   ]
  },
  {
   "cell_type": "code",
   "execution_count": 10,
   "metadata": {},
   "outputs": [
    {
     "name": "stdout",
     "output_type": "stream",
     "text": [
      "+-----+------------------+------------------+------------------------------------------------+\n",
      "|Name |Array_score_1     |Array_score_2     |Zipped_value                                    |\n",
      "+-----+------------------+------------------+------------------------------------------------+\n",
      "|John |[4, 6, 7]         |[1, 2, 3]         |[{4, 1}, {6, 2}, {7, 3}]                        |\n",
      "|David|[7, 5, 5, 4, 5, 8]|[3, 2, 4, 3, 4, 2]|[{7, 3}, {5, 2}, {5, 4}, {4, 3}, {5, 4}, {8, 2}]|\n",
      "|mike |[3, 7, 4]         |[4, 5, 7]         |[{3, 4}, {7, 5}, {4, 7}]                        |\n",
      "|john |[9, 7, 6]         |[7, 6, 4]         |[{9, 7}, {7, 6}, {6, 4}]                        |\n",
      "+-----+------------------+------------------+------------------------------------------------+\n",
      "\n"
     ]
    }
   ],
   "source": [
    "# Apply array_zip function on Array Df\n",
    "\n",
    "arr_zip_df=master_df.withColumn(\"Zipped_value\",F.arrays_zip(\"Array_score_1\",\"Array_score_2\"))\n",
    "\n",
    "arr_zip_df.show(truncate=False)"
   ]
  },
  {
   "cell_type": "code",
   "execution_count": 13,
   "metadata": {},
   "outputs": [
    {
     "name": "stdout",
     "output_type": "stream",
     "text": [
      "root\n",
      " |-- Depatement: string (nullable = true)\n",
      " |-- Employee: array (nullable = true)\n",
      " |    |-- element: map (containsNull = true)\n",
      " |    |    |-- key: string\n",
      " |    |    |-- value: string (valueContainsNull = true)\n",
      "\n",
      "+----------+----------------------------------------------------------------------------------------------------------------------------------------------------------------------------------------------------------------------------------------------------------------------------------------------------------------------------------------------------------------------+\n",
      "|Depatement|Employee                                                                                                                                                                                                                                                                                                                                                              |\n",
      "+----------+----------------------------------------------------------------------------------------------------------------------------------------------------------------------------------------------------------------------------------------------------------------------------------------------------------------------------------------------------------------------+\n",
      "|Sales_dept|[{emp_name -> Ganesh, yrs_of_service -> 10, salary -> 8000, age -> 35}, {emp_name -> Suresh, yrs_of_service -> 7, salary -> 7000, age -> 33}, {emp_name -> Prachi, yrs_of_service -> 5, salary -> 10000, age -> 37}, {emp_name -> Minakshi, yrs_of_service -> 2, salary -> 6000, age -> 23}, {emp_name -> Kshitija, yrs_of_service -> 6, salary -> 8000, age -> 31}]  |\n",
      "|HR_dept   |[{emp_name -> shivani, yrs_of_service -> 5, salary -> 10000, age -> 35}, {emp_name -> Makrand, yrs_of_service -> 6, salary -> 9000, age -> 37}, {emp_name -> Swati, yrs_of_service -> 8, salary -> 12000, age -> 42}, {emp_name -> Girija, yrs_of_service -> 12, salary -> 15000, age -> 42}, {emp_name -> Mahadev, yrs_of_service -> 15, salary -> 40000, age -> 45}]|\n",
      "+----------+----------------------------------------------------------------------------------------------------------------------------------------------------------------------------------------------------------------------------------------------------------------------------------------------------------------------------------------------------------------------+\n",
      "\n"
     ]
    }
   ],
   "source": [
    "empdf= [\n",
    "    ('Sales_dept',[{'emp_name':'Ganesh','salary':'8000','yrs_of_service':'10','age':'35'},\n",
    "                   {'emp_name':'Suresh','salary':'7000','yrs_of_service':'7','age':'33'},\n",
    "                   {'emp_name':'Prachi','salary':'10000','yrs_of_service':'5','age':'37'},\n",
    "                   {'emp_name':'Minakshi','salary':'6000','yrs_of_service':'2','age':'23'},\n",
    "                   {'emp_name':'Kshitija','salary':'8000','yrs_of_service':'6','age':'31'}]),\n",
    "    ('HR_dept',[{'emp_name':'shivani','salary':'10000','yrs_of_service':'5','age':'35'},\n",
    "                   {'emp_name':'Makrand','salary':'9000','yrs_of_service':'6','age':'37'},\n",
    "                   {'emp_name':'Swati','salary':'12000','yrs_of_service':'8','age':'42'},\n",
    "                   {'emp_name':'Girija','salary':'15000','yrs_of_service':'12','age':'42'},\n",
    "                   {'emp_name':'Mahadev','salary':'40000','yrs_of_service':'15','age':'45'}])\n",
    "]\n",
    "\n",
    "df_brand = spark.createDataFrame(empdf,schema=['Depatement','Employee'])\n",
    "df_brand.printSchema()\n",
    "df_brand.show(truncate=False)\n"
   ]
  },
  {
   "cell_type": "code",
   "execution_count": 15,
   "metadata": {},
   "outputs": [
    {
     "name": "stdout",
     "output_type": "stream",
     "text": [
      "+----------+----------------------------------------------------------------------------------------------------------------------------------------------------------------------------------------------------------------------------------------------------------------------------------------------------------------------------------------------------------------------+--------------------------------------------------------------------------------------------------------------------------------------------------------------------------------------------------------------------------------------------------------------------------------------------------------------------------------------------------------------------------------+\n",
      "|Depatement|Employee                                                                                                                                                                                                                                                                                                                                                              |zip                                                                                                                                                                                                                                                                                                                                                                             |\n",
      "+----------+----------------------------------------------------------------------------------------------------------------------------------------------------------------------------------------------------------------------------------------------------------------------------------------------------------------------------------------------------------------------+--------------------------------------------------------------------------------------------------------------------------------------------------------------------------------------------------------------------------------------------------------------------------------------------------------------------------------------------------------------------------------+\n",
      "|Sales_dept|[{emp_name -> Ganesh, yrs_of_service -> 10, salary -> 8000, age -> 35}, {emp_name -> Suresh, yrs_of_service -> 7, salary -> 7000, age -> 33}, {emp_name -> Prachi, yrs_of_service -> 5, salary -> 10000, age -> 37}, {emp_name -> Minakshi, yrs_of_service -> 2, salary -> 6000, age -> 23}, {emp_name -> Kshitija, yrs_of_service -> 6, salary -> 8000, age -> 31}]  |[{{emp_name -> Ganesh, yrs_of_service -> 10, salary -> 8000, age -> 35}}, {{emp_name -> Suresh, yrs_of_service -> 7, salary -> 7000, age -> 33}}, {{emp_name -> Prachi, yrs_of_service -> 5, salary -> 10000, age -> 37}}, {{emp_name -> Minakshi, yrs_of_service -> 2, salary -> 6000, age -> 23}}, {{emp_name -> Kshitija, yrs_of_service -> 6, salary -> 8000, age -> 31}}]  |\n",
      "|HR_dept   |[{emp_name -> shivani, yrs_of_service -> 5, salary -> 10000, age -> 35}, {emp_name -> Makrand, yrs_of_service -> 6, salary -> 9000, age -> 37}, {emp_name -> Swati, yrs_of_service -> 8, salary -> 12000, age -> 42}, {emp_name -> Girija, yrs_of_service -> 12, salary -> 15000, age -> 42}, {emp_name -> Mahadev, yrs_of_service -> 15, salary -> 40000, age -> 45}]|[{{emp_name -> shivani, yrs_of_service -> 5, salary -> 10000, age -> 35}}, {{emp_name -> Makrand, yrs_of_service -> 6, salary -> 9000, age -> 37}}, {{emp_name -> Swati, yrs_of_service -> 8, salary -> 12000, age -> 42}}, {{emp_name -> Girija, yrs_of_service -> 12, salary -> 15000, age -> 42}}, {{emp_name -> Mahadev, yrs_of_service -> 15, salary -> 40000, age -> 45}}]|\n",
      "+----------+----------------------------------------------------------------------------------------------------------------------------------------------------------------------------------------------------------------------------------------------------------------------------------------------------------------------------------------------------------------------+--------------------------------------------------------------------------------------------------------------------------------------------------------------------------------------------------------------------------------------------------------------------------------------------------------------------------------------------------------------------------------+\n",
      "\n"
     ]
    }
   ],
   "source": [
    "# Apply Array_zip\n",
    "\n",
    "df_brandzip = df_brand.withColumn(\"zip\",F.arrays_zip(df_brand[\"Employee\"]))\n",
    "df_brandzip.show(truncate=False)\n"
   ]
  },
  {
   "cell_type": "code",
   "execution_count": 20,
   "metadata": {},
   "outputs": [
    {
     "name": "stdout",
     "output_type": "stream",
     "text": [
      "+----------+----------------------------------------------------------------------------------------------------------------------------------------------------------------------------------------------------------------------------------------------------------------------------------------------------------------------------------------------------------------------+--------------------------------------------------------------------------------------------------------------------------------------------------------------------------------------------------------------------------------------------------------------------------------------------------------------------------------------------------------------------------------+-------------------------------------------------------------------------+\n",
      "|Depatement|Employee                                                                                                                                                                                                                                                                                                                                                              |zip                                                                                                                                                                                                                                                                                                                                                                             |Explode                                                                  |\n",
      "+----------+----------------------------------------------------------------------------------------------------------------------------------------------------------------------------------------------------------------------------------------------------------------------------------------------------------------------------------------------------------------------+--------------------------------------------------------------------------------------------------------------------------------------------------------------------------------------------------------------------------------------------------------------------------------------------------------------------------------------------------------------------------------+-------------------------------------------------------------------------+\n",
      "|Sales_dept|[{emp_name -> Ganesh, yrs_of_service -> 10, salary -> 8000, age -> 35}, {emp_name -> Suresh, yrs_of_service -> 7, salary -> 7000, age -> 33}, {emp_name -> Prachi, yrs_of_service -> 5, salary -> 10000, age -> 37}, {emp_name -> Minakshi, yrs_of_service -> 2, salary -> 6000, age -> 23}, {emp_name -> Kshitija, yrs_of_service -> 6, salary -> 8000, age -> 31}]  |[{{emp_name -> Ganesh, yrs_of_service -> 10, salary -> 8000, age -> 35}}, {{emp_name -> Suresh, yrs_of_service -> 7, salary -> 7000, age -> 33}}, {{emp_name -> Prachi, yrs_of_service -> 5, salary -> 10000, age -> 37}}, {{emp_name -> Minakshi, yrs_of_service -> 2, salary -> 6000, age -> 23}}, {{emp_name -> Kshitija, yrs_of_service -> 6, salary -> 8000, age -> 31}}]  |{{emp_name -> Ganesh, yrs_of_service -> 10, salary -> 8000, age -> 35}}  |\n",
      "|Sales_dept|[{emp_name -> Ganesh, yrs_of_service -> 10, salary -> 8000, age -> 35}, {emp_name -> Suresh, yrs_of_service -> 7, salary -> 7000, age -> 33}, {emp_name -> Prachi, yrs_of_service -> 5, salary -> 10000, age -> 37}, {emp_name -> Minakshi, yrs_of_service -> 2, salary -> 6000, age -> 23}, {emp_name -> Kshitija, yrs_of_service -> 6, salary -> 8000, age -> 31}]  |[{{emp_name -> Ganesh, yrs_of_service -> 10, salary -> 8000, age -> 35}}, {{emp_name -> Suresh, yrs_of_service -> 7, salary -> 7000, age -> 33}}, {{emp_name -> Prachi, yrs_of_service -> 5, salary -> 10000, age -> 37}}, {{emp_name -> Minakshi, yrs_of_service -> 2, salary -> 6000, age -> 23}}, {{emp_name -> Kshitija, yrs_of_service -> 6, salary -> 8000, age -> 31}}]  |{{emp_name -> Suresh, yrs_of_service -> 7, salary -> 7000, age -> 33}}   |\n",
      "|Sales_dept|[{emp_name -> Ganesh, yrs_of_service -> 10, salary -> 8000, age -> 35}, {emp_name -> Suresh, yrs_of_service -> 7, salary -> 7000, age -> 33}, {emp_name -> Prachi, yrs_of_service -> 5, salary -> 10000, age -> 37}, {emp_name -> Minakshi, yrs_of_service -> 2, salary -> 6000, age -> 23}, {emp_name -> Kshitija, yrs_of_service -> 6, salary -> 8000, age -> 31}]  |[{{emp_name -> Ganesh, yrs_of_service -> 10, salary -> 8000, age -> 35}}, {{emp_name -> Suresh, yrs_of_service -> 7, salary -> 7000, age -> 33}}, {{emp_name -> Prachi, yrs_of_service -> 5, salary -> 10000, age -> 37}}, {{emp_name -> Minakshi, yrs_of_service -> 2, salary -> 6000, age -> 23}}, {{emp_name -> Kshitija, yrs_of_service -> 6, salary -> 8000, age -> 31}}]  |{{emp_name -> Prachi, yrs_of_service -> 5, salary -> 10000, age -> 37}}  |\n",
      "|Sales_dept|[{emp_name -> Ganesh, yrs_of_service -> 10, salary -> 8000, age -> 35}, {emp_name -> Suresh, yrs_of_service -> 7, salary -> 7000, age -> 33}, {emp_name -> Prachi, yrs_of_service -> 5, salary -> 10000, age -> 37}, {emp_name -> Minakshi, yrs_of_service -> 2, salary -> 6000, age -> 23}, {emp_name -> Kshitija, yrs_of_service -> 6, salary -> 8000, age -> 31}]  |[{{emp_name -> Ganesh, yrs_of_service -> 10, salary -> 8000, age -> 35}}, {{emp_name -> Suresh, yrs_of_service -> 7, salary -> 7000, age -> 33}}, {{emp_name -> Prachi, yrs_of_service -> 5, salary -> 10000, age -> 37}}, {{emp_name -> Minakshi, yrs_of_service -> 2, salary -> 6000, age -> 23}}, {{emp_name -> Kshitija, yrs_of_service -> 6, salary -> 8000, age -> 31}}]  |{{emp_name -> Minakshi, yrs_of_service -> 2, salary -> 6000, age -> 23}} |\n",
      "|Sales_dept|[{emp_name -> Ganesh, yrs_of_service -> 10, salary -> 8000, age -> 35}, {emp_name -> Suresh, yrs_of_service -> 7, salary -> 7000, age -> 33}, {emp_name -> Prachi, yrs_of_service -> 5, salary -> 10000, age -> 37}, {emp_name -> Minakshi, yrs_of_service -> 2, salary -> 6000, age -> 23}, {emp_name -> Kshitija, yrs_of_service -> 6, salary -> 8000, age -> 31}]  |[{{emp_name -> Ganesh, yrs_of_service -> 10, salary -> 8000, age -> 35}}, {{emp_name -> Suresh, yrs_of_service -> 7, salary -> 7000, age -> 33}}, {{emp_name -> Prachi, yrs_of_service -> 5, salary -> 10000, age -> 37}}, {{emp_name -> Minakshi, yrs_of_service -> 2, salary -> 6000, age -> 23}}, {{emp_name -> Kshitija, yrs_of_service -> 6, salary -> 8000, age -> 31}}]  |{{emp_name -> Kshitija, yrs_of_service -> 6, salary -> 8000, age -> 31}} |\n",
      "|HR_dept   |[{emp_name -> shivani, yrs_of_service -> 5, salary -> 10000, age -> 35}, {emp_name -> Makrand, yrs_of_service -> 6, salary -> 9000, age -> 37}, {emp_name -> Swati, yrs_of_service -> 8, salary -> 12000, age -> 42}, {emp_name -> Girija, yrs_of_service -> 12, salary -> 15000, age -> 42}, {emp_name -> Mahadev, yrs_of_service -> 15, salary -> 40000, age -> 45}]|[{{emp_name -> shivani, yrs_of_service -> 5, salary -> 10000, age -> 35}}, {{emp_name -> Makrand, yrs_of_service -> 6, salary -> 9000, age -> 37}}, {{emp_name -> Swati, yrs_of_service -> 8, salary -> 12000, age -> 42}}, {{emp_name -> Girija, yrs_of_service -> 12, salary -> 15000, age -> 42}}, {{emp_name -> Mahadev, yrs_of_service -> 15, salary -> 40000, age -> 45}}]|{{emp_name -> shivani, yrs_of_service -> 5, salary -> 10000, age -> 35}} |\n",
      "|HR_dept   |[{emp_name -> shivani, yrs_of_service -> 5, salary -> 10000, age -> 35}, {emp_name -> Makrand, yrs_of_service -> 6, salary -> 9000, age -> 37}, {emp_name -> Swati, yrs_of_service -> 8, salary -> 12000, age -> 42}, {emp_name -> Girija, yrs_of_service -> 12, salary -> 15000, age -> 42}, {emp_name -> Mahadev, yrs_of_service -> 15, salary -> 40000, age -> 45}]|[{{emp_name -> shivani, yrs_of_service -> 5, salary -> 10000, age -> 35}}, {{emp_name -> Makrand, yrs_of_service -> 6, salary -> 9000, age -> 37}}, {{emp_name -> Swati, yrs_of_service -> 8, salary -> 12000, age -> 42}}, {{emp_name -> Girija, yrs_of_service -> 12, salary -> 15000, age -> 42}}, {{emp_name -> Mahadev, yrs_of_service -> 15, salary -> 40000, age -> 45}}]|{{emp_name -> Makrand, yrs_of_service -> 6, salary -> 9000, age -> 37}}  |\n",
      "|HR_dept   |[{emp_name -> shivani, yrs_of_service -> 5, salary -> 10000, age -> 35}, {emp_name -> Makrand, yrs_of_service -> 6, salary -> 9000, age -> 37}, {emp_name -> Swati, yrs_of_service -> 8, salary -> 12000, age -> 42}, {emp_name -> Girija, yrs_of_service -> 12, salary -> 15000, age -> 42}, {emp_name -> Mahadev, yrs_of_service -> 15, salary -> 40000, age -> 45}]|[{{emp_name -> shivani, yrs_of_service -> 5, salary -> 10000, age -> 35}}, {{emp_name -> Makrand, yrs_of_service -> 6, salary -> 9000, age -> 37}}, {{emp_name -> Swati, yrs_of_service -> 8, salary -> 12000, age -> 42}}, {{emp_name -> Girija, yrs_of_service -> 12, salary -> 15000, age -> 42}}, {{emp_name -> Mahadev, yrs_of_service -> 15, salary -> 40000, age -> 45}}]|{{emp_name -> Swati, yrs_of_service -> 8, salary -> 12000, age -> 42}}   |\n",
      "|HR_dept   |[{emp_name -> shivani, yrs_of_service -> 5, salary -> 10000, age -> 35}, {emp_name -> Makrand, yrs_of_service -> 6, salary -> 9000, age -> 37}, {emp_name -> Swati, yrs_of_service -> 8, salary -> 12000, age -> 42}, {emp_name -> Girija, yrs_of_service -> 12, salary -> 15000, age -> 42}, {emp_name -> Mahadev, yrs_of_service -> 15, salary -> 40000, age -> 45}]|[{{emp_name -> shivani, yrs_of_service -> 5, salary -> 10000, age -> 35}}, {{emp_name -> Makrand, yrs_of_service -> 6, salary -> 9000, age -> 37}}, {{emp_name -> Swati, yrs_of_service -> 8, salary -> 12000, age -> 42}}, {{emp_name -> Girija, yrs_of_service -> 12, salary -> 15000, age -> 42}}, {{emp_name -> Mahadev, yrs_of_service -> 15, salary -> 40000, age -> 45}}]|{{emp_name -> Girija, yrs_of_service -> 12, salary -> 15000, age -> 42}} |\n",
      "|HR_dept   |[{emp_name -> shivani, yrs_of_service -> 5, salary -> 10000, age -> 35}, {emp_name -> Makrand, yrs_of_service -> 6, salary -> 9000, age -> 37}, {emp_name -> Swati, yrs_of_service -> 8, salary -> 12000, age -> 42}, {emp_name -> Girija, yrs_of_service -> 12, salary -> 15000, age -> 42}, {emp_name -> Mahadev, yrs_of_service -> 15, salary -> 40000, age -> 45}]|[{{emp_name -> shivani, yrs_of_service -> 5, salary -> 10000, age -> 35}}, {{emp_name -> Makrand, yrs_of_service -> 6, salary -> 9000, age -> 37}}, {{emp_name -> Swati, yrs_of_service -> 8, salary -> 12000, age -> 42}}, {{emp_name -> Girija, yrs_of_service -> 12, salary -> 15000, age -> 42}}, {{emp_name -> Mahadev, yrs_of_service -> 15, salary -> 40000, age -> 45}}]|{{emp_name -> Mahadev, yrs_of_service -> 15, salary -> 40000, age -> 45}}|\n",
      "+----------+----------------------------------------------------------------------------------------------------------------------------------------------------------------------------------------------------------------------------------------------------------------------------------------------------------------------------------------------------------------------+--------------------------------------------------------------------------------------------------------------------------------------------------------------------------------------------------------------------------------------------------------------------------------------------------------------------------------------------------------------------------------+-------------------------------------------------------------------------+\n",
      "\n"
     ]
    }
   ],
   "source": [
    "# Apply Explode\n",
    "\n",
    "df_brand_exp = df_brandzip.withColumn(\"Explode\",F.explode(df_brandzip.zip))\n",
    "df_brand_exp.show(truncate=False)"
   ]
  },
  {
   "cell_type": "code",
   "execution_count": 23,
   "metadata": {},
   "outputs": [
    {
     "name": "stdout",
     "output_type": "stream",
     "text": [
      "+----------+-----------------+-----------------------+---------------+------------+\n",
      "|Depatement|employee_emp_name|employee_yrs_of_service|employee_salary|employee_age|\n",
      "+----------+-----------------+-----------------------+---------------+------------+\n",
      "|Sales_dept|           Ganesh|                     10|           8000|          35|\n",
      "|Sales_dept|           Suresh|                      7|           7000|          33|\n",
      "|Sales_dept|           Prachi|                      5|          10000|          37|\n",
      "|Sales_dept|         Minakshi|                      2|           6000|          23|\n",
      "|Sales_dept|         Kshitija|                      6|           8000|          31|\n",
      "|   HR_dept|          shivani|                      5|          10000|          35|\n",
      "|   HR_dept|          Makrand|                      6|           9000|          37|\n",
      "|   HR_dept|            Swati|                      8|          12000|          42|\n",
      "|   HR_dept|           Girija|                     12|          15000|          42|\n",
      "|   HR_dept|          Mahadev|                     15|          40000|          45|\n",
      "+----------+-----------------+-----------------------+---------------+------------+\n",
      "\n"
     ]
    }
   ],
   "source": [
    "df_brand_output = df_brand_exp.withColumn(\"employee_emp_name\",df_brand_exp['Explode.Employee.emp_name'])\\\n",
    "                            .withColumn(\"employee_yrs_of_service\",df_brand_exp['Explode.Employee.yrs_of_service'])\\\n",
    "                            .withColumn(\"employee_salary\",df_brand_exp['Explode.Employee.salary'])\\\n",
    "                            .withColumn(\"employee_age\",df_brand_exp['Explode.Employee.age']).drop(\"Explode\").drop(\"zip\").drop(\"Employee\")\n",
    "\n",
    "df_brand_output.show()"
   ]
  }
 ],
 "metadata": {
  "kernelspec": {
   "display_name": "base",
   "language": "python",
   "name": "python3"
  },
  "language_info": {
   "codemirror_mode": {
    "name": "ipython",
    "version": 3
   },
   "file_extension": ".py",
   "mimetype": "text/x-python",
   "name": "python",
   "nbconvert_exporter": "python",
   "pygments_lexer": "ipython3",
   "version": "3.11.5"
  }
 },
 "nbformat": 4,
 "nbformat_minor": 2
}
