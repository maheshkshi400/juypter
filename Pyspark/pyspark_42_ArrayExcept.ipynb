{
 "cells": [
  {
   "cell_type": "code",
   "execution_count": 1,
   "metadata": {},
   "outputs": [
    {
     "name": "stdout",
     "output_type": "stream",
     "text": [
      "+-----+------------------+------------------+\n",
      "| Name|           Array_1|           Array_2|\n",
      "+-----+------------------+------------------+\n",
      "| John|   [4, 6, 7, 9, 2]|   [1, 2, 3, 7, 7]|\n",
      "|David|[7, 5, 1, 4, 7, 1]|[3, 2, 8, 9, 4, 9]|\n",
      "| Mike|   [3, 9, 1, 6, 2]|   [1, 2, 3, 5, 8]|\n",
      "+-----+------------------+------------------+\n",
      "\n"
     ]
    }
   ],
   "source": [
    "from pyspark.sql import SparkSession\n",
    "\n",
    "# Create a SparkSession\n",
    "spark = SparkSession.builder.appName(\"https://github.com/maheshkshi400/MK\").getOrCreate()\n",
    "\n",
    "empdf= [\n",
    "    ('John',[4,6,7,9,2],[1,2,3,7,7]),\n",
    "    ('David',[7,5,1,4,7,1],[3,2,8,9,4,9]),\n",
    "    ('Mike',[3,9,1,6,2],[1,2,3,5,8])\n",
    "]\n",
    "\n",
    "\n",
    "array_schema=[\"Name\",\"Array_1\",\"Array_2\"]\n",
    "\n",
    "df1= spark.createDataFrame(data=empdf,schema=array_schema)\n",
    "df1.show()"
   ]
  },
  {
   "cell_type": "code",
   "execution_count": 2,
   "metadata": {},
   "outputs": [
    {
     "name": "stdout",
     "output_type": "stream",
     "text": [
      "+-----+------------------+------------------+---------+\n",
      "| Name|           Array_1|           Array_2|intersect|\n",
      "+-----+------------------+------------------+---------+\n",
      "| John|   [4, 6, 7, 9, 2]|   [1, 2, 3, 7, 7]|[4, 6, 9]|\n",
      "|David|[7, 5, 1, 4, 7, 1]|[3, 2, 8, 9, 4, 9]|[7, 5, 1]|\n",
      "| Mike|   [3, 9, 1, 6, 2]|   [1, 2, 3, 5, 8]|   [9, 6]|\n",
      "+-----+------------------+------------------+---------+\n",
      "\n"
     ]
    }
   ],
   "source": [
    "from pyspark.sql import functions as F\n",
    "df_except = df1.withColumn(\"intersect\",F.array_except(df1['Array_1'],df1['Array_2']))\n",
    "df_except.show()"
   ]
  }
 ],
 "metadata": {
  "kernelspec": {
   "display_name": "base",
   "language": "python",
   "name": "python3"
  },
  "language_info": {
   "codemirror_mode": {
    "name": "ipython",
    "version": 3
   },
   "file_extension": ".py",
   "mimetype": "text/x-python",
   "name": "python",
   "nbconvert_exporter": "python",
   "pygments_lexer": "ipython3",
   "version": "3.11.5"
  }
 },
 "nbformat": 4,
 "nbformat_minor": 2
}
