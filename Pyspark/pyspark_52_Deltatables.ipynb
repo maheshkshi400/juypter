{
 "cells": [
  {
   "cell_type": "code",
   "execution_count": null,
   "metadata": {},
   "outputs": [],
   "source": [
    "from delta.tables import *\n",
    "# create delta tables\n",
    "\n",
    "DeltaTable.create(spark)\\\n",
    "    .tableName(\"employee_demo\")\\\n",
    "    .addColumn(\"emp_id\",\"INT\")\\\n",
    "    .addColumn(\"emp_name\",\"STRING\")\\\n",
    "    .addColumn(\"emp_gender\",\"STRING\")\\\n",
    "    .addColumn(\"emp_salary\",\"INT\")\\\n",
    "    .addColumn(\"emp_dept\",\"STRING\")\\\n",
    "    .property(\"discription\",\"table created for demo purpose\")\\\n",
    "    .location(\"/fileStore/tables/delta/arch_demo\")\\\n",
    "    .execute()"
   ]
  },
  {
   "cell_type": "code",
   "execution_count": null,
   "metadata": {},
   "outputs": [],
   "source": [
    "%sql\n",
    "\n",
    "select * from delta_internal_demo;"
   ]
  },
  {
   "cell_type": "code",
   "execution_count": null,
   "metadata": {},
   "outputs": [],
   "source": [
    "%sql\n",
    "\n",
    "insert into delta_internal_demo values(2,\"Shruthi\",\"Female\",21000,\"HR\");\n",
    "insert into delta_internal_demo values(3,\"Shivani\",\"Female\",25000,\"QA\");\n",
    "insert into delta_internal_demo values(4,\"Gailesh\",\"Male\",30000,\"PROD\");\n",
    "\n",
    "https://community.cloud.databricks.com/?o=8996775051940350#notebook/3357621360653996/command/3357621360654001"
   ]
  }
 ],
 "metadata": {
  "kernelspec": {
   "display_name": "pyspark-env",
   "language": "python",
   "name": "pyspark-env"
  },
  "language_info": {
   "codemirror_mode": {
    "name": "ipython",
    "version": 3
   },
   "file_extension": ".py",
   "mimetype": "text/x-python",
   "name": "python",
   "nbconvert_exporter": "python",
   "pygments_lexer": "ipython3",
   "version": "3.12.0"
  }
 },
 "nbformat": 4,
 "nbformat_minor": 2
}
