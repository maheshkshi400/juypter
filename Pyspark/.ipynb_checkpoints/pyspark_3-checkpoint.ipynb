{
 "cells": [
  {
   "cell_type": "code",
   "execution_count": 4,
   "metadata": {
    "tags": []
   },
   "outputs": [
    {
     "ename": "RuntimeError",
     "evalue": "Java gateway process exited before sending its port number",
     "output_type": "error",
     "traceback": [
      "\u001b[1;31m---------------------------------------------------------------------------\u001b[0m",
      "\u001b[1;31mRuntimeError\u001b[0m                              Traceback (most recent call last)",
      "Cell \u001b[1;32mIn[4], line 4\u001b[0m\n\u001b[0;32m      1\u001b[0m \u001b[38;5;28;01mfrom\u001b[39;00m \u001b[38;5;21;01mpyspark\u001b[39;00m\u001b[38;5;21;01m.\u001b[39;00m\u001b[38;5;21;01msql\u001b[39;00m \u001b[38;5;28;01mimport\u001b[39;00m SparkSession\n\u001b[0;32m      3\u001b[0m \u001b[38;5;66;03m# Create a SparkSession\u001b[39;00m\n\u001b[1;32m----> 4\u001b[0m spark \u001b[38;5;241m=\u001b[39m \u001b[43mSparkSession\u001b[49m\u001b[38;5;241;43m.\u001b[39;49m\u001b[43mbuilder\u001b[49m\u001b[38;5;241;43m.\u001b[39;49m\u001b[43mappName\u001b[49m\u001b[43m(\u001b[49m\u001b[38;5;124;43m\"\u001b[39;49m\u001b[38;5;124;43mMK\u001b[39;49m\u001b[38;5;124;43m\"\u001b[39;49m\u001b[43m)\u001b[49m\u001b[38;5;241;43m.\u001b[39;49m\u001b[43mgetOrCreate\u001b[49m\u001b[43m(\u001b[49m\u001b[43m)\u001b[49m\n\u001b[0;32m      8\u001b[0m data1 \u001b[38;5;241m=\u001b[39m [(\u001b[38;5;241m1\u001b[39m,\u001b[38;5;124m'\u001b[39m\u001b[38;5;124mmahesh\u001b[39m\u001b[38;5;124m'\u001b[39m,\u001b[38;5;124m'\u001b[39m\u001b[38;5;124mkshirsagar\u001b[39m\u001b[38;5;124m'\u001b[39m,\u001b[38;5;124m'\u001b[39m\u001b[38;5;124mmale\u001b[39m\u001b[38;5;124m'\u001b[39m,\u001b[38;5;241m20\u001b[39m,\u001b[38;5;241m5000\u001b[39m,\u001b[38;5;124m'\u001b[39m\u001b[38;5;124mIT\u001b[39m\u001b[38;5;124m'\u001b[39m,\u001b[38;5;241m50\u001b[39m,\u001b[38;5;241m2002\u001b[39m),\n\u001b[0;32m      9\u001b[0m          (\u001b[38;5;241m2\u001b[39m,\u001b[38;5;124m'\u001b[39m\u001b[38;5;124mshruthi\u001b[39m\u001b[38;5;124m'\u001b[39m,\u001b[38;5;124m'\u001b[39m\u001b[38;5;124mkachave\u001b[39m\u001b[38;5;124m'\u001b[39m,\u001b[38;5;124m'\u001b[39m\u001b[38;5;124mfemale\u001b[39m\u001b[38;5;124m'\u001b[39m,\u001b[38;5;241m30\u001b[39m,\u001b[38;5;241m6000\u001b[39m,\u001b[38;5;124m'\u001b[39m\u001b[38;5;124mHR\u001b[39m\u001b[38;5;124m'\u001b[39m,\u001b[38;5;241m20\u001b[39m,\u001b[38;5;241m2008\u001b[39m),\n\u001b[0;32m     10\u001b[0m          (\u001b[38;5;241m3\u001b[39m,\u001b[38;5;124m'\u001b[39m\u001b[38;5;124mganesh\u001b[39m\u001b[38;5;124m'\u001b[39m,\u001b[38;5;124m'\u001b[39m\u001b[38;5;124mkenjale\u001b[39m\u001b[38;5;124m'\u001b[39m,\u001b[38;5;124m'\u001b[39m\u001b[38;5;124mmale\u001b[39m\u001b[38;5;124m'\u001b[39m,\u001b[38;5;241m25\u001b[39m,\u001b[38;5;241m7000\u001b[39m,\u001b[38;5;124m'\u001b[39m\u001b[38;5;124mFINANCE\u001b[39m\u001b[38;5;124m'\u001b[39m,\u001b[38;5;241m30\u001b[39m,\u001b[38;5;241m2010\u001b[39m),\n\u001b[1;32m   (...)\u001b[0m\n\u001b[0;32m     16\u001b[0m          (\u001b[38;5;241m9\u001b[39m,\u001b[38;5;124m'\u001b[39m\u001b[38;5;124mshivani\u001b[39m\u001b[38;5;124m'\u001b[39m,\u001b[38;5;124m'\u001b[39m\u001b[38;5;124mjagtap\u001b[39m\u001b[38;5;124m'\u001b[39m,\u001b[38;5;28;01mNone\u001b[39;00m,\u001b[38;5;241m34\u001b[39m,\u001b[38;5;241m11000\u001b[39m,\u001b[38;5;124m'\u001b[39m\u001b[38;5;124mPAYROLL\u001b[39m\u001b[38;5;124m'\u001b[39m,\u001b[38;5;241m40\u001b[39m,\u001b[38;5;241m2013\u001b[39m),\n\u001b[0;32m     17\u001b[0m          (\u001b[38;5;241m10\u001b[39m,\u001b[38;5;124m'\u001b[39m\u001b[38;5;124mprachi\u001b[39m\u001b[38;5;124m'\u001b[39m,\u001b[38;5;124m'\u001b[39m\u001b[38;5;124minamdar\u001b[39m\u001b[38;5;124m'\u001b[39m,\u001b[38;5;124m'\u001b[39m\u001b[38;5;124mfemale\u001b[39m\u001b[38;5;124m'\u001b[39m,\u001b[38;5;241m30\u001b[39m,\u001b[38;5;241m6000\u001b[39m,\u001b[38;5;124m'\u001b[39m\u001b[38;5;124mIT\u001b[39m\u001b[38;5;124m'\u001b[39m,\u001b[38;5;241m50\u001b[39m,\u001b[38;5;241m2001\u001b[39m)]\n\u001b[0;32m     19\u001b[0m schema1 \u001b[38;5;241m=\u001b[39m [\u001b[38;5;124m'\u001b[39m\u001b[38;5;124mid\u001b[39m\u001b[38;5;124m'\u001b[39m,\u001b[38;5;124m'\u001b[39m\u001b[38;5;124mf_name\u001b[39m\u001b[38;5;124m'\u001b[39m,\u001b[38;5;124m'\u001b[39m\u001b[38;5;124ml_name\u001b[39m\u001b[38;5;124m'\u001b[39m,\u001b[38;5;124m'\u001b[39m\u001b[38;5;124mgender\u001b[39m\u001b[38;5;124m'\u001b[39m,\u001b[38;5;124m'\u001b[39m\u001b[38;5;124mage\u001b[39m\u001b[38;5;124m'\u001b[39m,\u001b[38;5;124m'\u001b[39m\u001b[38;5;124msalary\u001b[39m\u001b[38;5;124m'\u001b[39m,\u001b[38;5;124m'\u001b[39m\u001b[38;5;124mdept\u001b[39m\u001b[38;5;124m'\u001b[39m,\u001b[38;5;124m'\u001b[39m\u001b[38;5;124mdeptno\u001b[39m\u001b[38;5;124m'\u001b[39m,\u001b[38;5;124m'\u001b[39m\u001b[38;5;124mdoj\u001b[39m\u001b[38;5;124m'\u001b[39m]\n",
      "File \u001b[1;32mc:\\Users\\User\\anaconda3\\envs\\pyspark-env\\Lib\\site-packages\\pyspark\\sql\\session.py:477\u001b[0m, in \u001b[0;36mSparkSession.Builder.getOrCreate\u001b[1;34m(self)\u001b[0m\n\u001b[0;32m    475\u001b[0m     sparkConf\u001b[38;5;241m.\u001b[39mset(key, value)\n\u001b[0;32m    476\u001b[0m \u001b[38;5;66;03m# This SparkContext may be an existing one.\u001b[39;00m\n\u001b[1;32m--> 477\u001b[0m sc \u001b[38;5;241m=\u001b[39m \u001b[43mSparkContext\u001b[49m\u001b[38;5;241;43m.\u001b[39;49m\u001b[43mgetOrCreate\u001b[49m\u001b[43m(\u001b[49m\u001b[43msparkConf\u001b[49m\u001b[43m)\u001b[49m\n\u001b[0;32m    478\u001b[0m \u001b[38;5;66;03m# Do not update `SparkConf` for existing `SparkContext`, as it's shared\u001b[39;00m\n\u001b[0;32m    479\u001b[0m \u001b[38;5;66;03m# by all sessions.\u001b[39;00m\n\u001b[0;32m    480\u001b[0m session \u001b[38;5;241m=\u001b[39m SparkSession(sc, options\u001b[38;5;241m=\u001b[39m\u001b[38;5;28mself\u001b[39m\u001b[38;5;241m.\u001b[39m_options)\n",
      "File \u001b[1;32mc:\\Users\\User\\anaconda3\\envs\\pyspark-env\\Lib\\site-packages\\pyspark\\context.py:512\u001b[0m, in \u001b[0;36mSparkContext.getOrCreate\u001b[1;34m(cls, conf)\u001b[0m\n\u001b[0;32m    510\u001b[0m \u001b[38;5;28;01mwith\u001b[39;00m SparkContext\u001b[38;5;241m.\u001b[39m_lock:\n\u001b[0;32m    511\u001b[0m     \u001b[38;5;28;01mif\u001b[39;00m SparkContext\u001b[38;5;241m.\u001b[39m_active_spark_context \u001b[38;5;129;01mis\u001b[39;00m \u001b[38;5;28;01mNone\u001b[39;00m:\n\u001b[1;32m--> 512\u001b[0m         \u001b[43mSparkContext\u001b[49m\u001b[43m(\u001b[49m\u001b[43mconf\u001b[49m\u001b[38;5;241;43m=\u001b[39;49m\u001b[43mconf\u001b[49m\u001b[43m \u001b[49m\u001b[38;5;129;43;01mor\u001b[39;49;00m\u001b[43m \u001b[49m\u001b[43mSparkConf\u001b[49m\u001b[43m(\u001b[49m\u001b[43m)\u001b[49m\u001b[43m)\u001b[49m\n\u001b[0;32m    513\u001b[0m     \u001b[38;5;28;01massert\u001b[39;00m SparkContext\u001b[38;5;241m.\u001b[39m_active_spark_context \u001b[38;5;129;01mis\u001b[39;00m \u001b[38;5;129;01mnot\u001b[39;00m \u001b[38;5;28;01mNone\u001b[39;00m\n\u001b[0;32m    514\u001b[0m     \u001b[38;5;28;01mreturn\u001b[39;00m SparkContext\u001b[38;5;241m.\u001b[39m_active_spark_context\n",
      "File \u001b[1;32mc:\\Users\\User\\anaconda3\\envs\\pyspark-env\\Lib\\site-packages\\pyspark\\context.py:198\u001b[0m, in \u001b[0;36mSparkContext.__init__\u001b[1;34m(self, master, appName, sparkHome, pyFiles, environment, batchSize, serializer, conf, gateway, jsc, profiler_cls, udf_profiler_cls, memory_profiler_cls)\u001b[0m\n\u001b[0;32m    192\u001b[0m \u001b[38;5;28;01mif\u001b[39;00m gateway \u001b[38;5;129;01mis\u001b[39;00m \u001b[38;5;129;01mnot\u001b[39;00m \u001b[38;5;28;01mNone\u001b[39;00m \u001b[38;5;129;01mand\u001b[39;00m gateway\u001b[38;5;241m.\u001b[39mgateway_parameters\u001b[38;5;241m.\u001b[39mauth_token \u001b[38;5;129;01mis\u001b[39;00m \u001b[38;5;28;01mNone\u001b[39;00m:\n\u001b[0;32m    193\u001b[0m     \u001b[38;5;28;01mraise\u001b[39;00m \u001b[38;5;167;01mValueError\u001b[39;00m(\n\u001b[0;32m    194\u001b[0m         \u001b[38;5;124m\"\u001b[39m\u001b[38;5;124mYou are trying to pass an insecure Py4j gateway to Spark. This\u001b[39m\u001b[38;5;124m\"\u001b[39m\n\u001b[0;32m    195\u001b[0m         \u001b[38;5;124m\"\u001b[39m\u001b[38;5;124m is not allowed as it is a security risk.\u001b[39m\u001b[38;5;124m\"\u001b[39m\n\u001b[0;32m    196\u001b[0m     )\n\u001b[1;32m--> 198\u001b[0m \u001b[43mSparkContext\u001b[49m\u001b[38;5;241;43m.\u001b[39;49m\u001b[43m_ensure_initialized\u001b[49m\u001b[43m(\u001b[49m\u001b[38;5;28;43mself\u001b[39;49m\u001b[43m,\u001b[49m\u001b[43m \u001b[49m\u001b[43mgateway\u001b[49m\u001b[38;5;241;43m=\u001b[39;49m\u001b[43mgateway\u001b[49m\u001b[43m,\u001b[49m\u001b[43m \u001b[49m\u001b[43mconf\u001b[49m\u001b[38;5;241;43m=\u001b[39;49m\u001b[43mconf\u001b[49m\u001b[43m)\u001b[49m\n\u001b[0;32m    199\u001b[0m \u001b[38;5;28;01mtry\u001b[39;00m:\n\u001b[0;32m    200\u001b[0m     \u001b[38;5;28mself\u001b[39m\u001b[38;5;241m.\u001b[39m_do_init(\n\u001b[0;32m    201\u001b[0m         master,\n\u001b[0;32m    202\u001b[0m         appName,\n\u001b[1;32m   (...)\u001b[0m\n\u001b[0;32m    212\u001b[0m         memory_profiler_cls,\n\u001b[0;32m    213\u001b[0m     )\n",
      "File \u001b[1;32mc:\\Users\\User\\anaconda3\\envs\\pyspark-env\\Lib\\site-packages\\pyspark\\context.py:432\u001b[0m, in \u001b[0;36mSparkContext._ensure_initialized\u001b[1;34m(cls, instance, gateway, conf)\u001b[0m\n\u001b[0;32m    430\u001b[0m \u001b[38;5;28;01mwith\u001b[39;00m SparkContext\u001b[38;5;241m.\u001b[39m_lock:\n\u001b[0;32m    431\u001b[0m     \u001b[38;5;28;01mif\u001b[39;00m \u001b[38;5;129;01mnot\u001b[39;00m SparkContext\u001b[38;5;241m.\u001b[39m_gateway:\n\u001b[1;32m--> 432\u001b[0m         SparkContext\u001b[38;5;241m.\u001b[39m_gateway \u001b[38;5;241m=\u001b[39m gateway \u001b[38;5;129;01mor\u001b[39;00m \u001b[43mlaunch_gateway\u001b[49m\u001b[43m(\u001b[49m\u001b[43mconf\u001b[49m\u001b[43m)\u001b[49m\n\u001b[0;32m    433\u001b[0m         SparkContext\u001b[38;5;241m.\u001b[39m_jvm \u001b[38;5;241m=\u001b[39m SparkContext\u001b[38;5;241m.\u001b[39m_gateway\u001b[38;5;241m.\u001b[39mjvm\n\u001b[0;32m    435\u001b[0m     \u001b[38;5;28;01mif\u001b[39;00m instance:\n",
      "File \u001b[1;32mc:\\Users\\User\\anaconda3\\envs\\pyspark-env\\Lib\\site-packages\\pyspark\\java_gateway.py:106\u001b[0m, in \u001b[0;36mlaunch_gateway\u001b[1;34m(conf, popen_kwargs)\u001b[0m\n\u001b[0;32m    103\u001b[0m     time\u001b[38;5;241m.\u001b[39msleep(\u001b[38;5;241m0.1\u001b[39m)\n\u001b[0;32m    105\u001b[0m \u001b[38;5;28;01mif\u001b[39;00m \u001b[38;5;129;01mnot\u001b[39;00m os\u001b[38;5;241m.\u001b[39mpath\u001b[38;5;241m.\u001b[39misfile(conn_info_file):\n\u001b[1;32m--> 106\u001b[0m     \u001b[38;5;28;01mraise\u001b[39;00m \u001b[38;5;167;01mRuntimeError\u001b[39;00m(\u001b[38;5;124m\"\u001b[39m\u001b[38;5;124mJava gateway process exited before sending its port number\u001b[39m\u001b[38;5;124m\"\u001b[39m)\n\u001b[0;32m    108\u001b[0m \u001b[38;5;28;01mwith\u001b[39;00m \u001b[38;5;28mopen\u001b[39m(conn_info_file, \u001b[38;5;124m\"\u001b[39m\u001b[38;5;124mrb\u001b[39m\u001b[38;5;124m\"\u001b[39m) \u001b[38;5;28;01mas\u001b[39;00m info:\n\u001b[0;32m    109\u001b[0m     gateway_port \u001b[38;5;241m=\u001b[39m read_int(info)\n",
      "\u001b[1;31mRuntimeError\u001b[0m: Java gateway process exited before sending its port number"
     ]
    }
   ],
   "source": [
    "from pyspark.sql import SparkSession\n",
    "\n",
    "# Create a SparkSession\n",
    "spark = SparkSession.builder.appName(\"MK\").getOrCreate()\n",
    "\n",
    "\n",
    "\n",
    "data1 = [(1,'mahesh','kshirsagar','male',20,5000,'IT',50,2002),\n",
    "         (2,'shruthi','kachave','female',30,6000,'HR',20,2008),\n",
    "         (3,'ganesh','kenjale','male',25,7000,'FINANCE',30,2010),\n",
    "         (4,'pooja','bhate','female',34,8000,'PAYROLL',40,2005),\n",
    "         (5,'kamini','kadam','female',31,6000,'IT',None,2007),\n",
    "         (6,'shivaji','nemade','male',20,8000,'IT',50,1004),\n",
    "         (7,'shweta','lakhani','female',30,6000,'HR',20,1998),\n",
    "         (8,'suresh','kirve','male',25,10000,'FINANCE',30,2011),\n",
    "         (9,'shivani','jagtap',None,34,11000,'PAYROLL',40,2013),\n",
    "         (10,'prachi','inamdar','female',30,6000,'IT',50,2001)]\n",
    "\n",
    "schema1 = ['id','f_name','l_name','gender','age','salary','dept','deptno','doj']\n",
    "\n",
    "empdf = spark.createDataFrame(data1,schema1)\n",
    "\n",
    "empdf.show()"
   ]
  },
  {
   "cell_type": "code",
   "execution_count": 3,
   "metadata": {},
   "outputs": [
    {
     "name": "stdout",
     "output_type": "stream",
     "text": [
      "+---+-------+----------+------+---+------+-------+------+----+--------------------+\n",
      "| id| f_name|    l_name|gender|age|salary|   dept|deptno| doj|           Timestamp|\n",
      "+---+-------+----------+------+---+------+-------+------+----+--------------------+\n",
      "|  1| mahesh|kshirsagar|  male| 20|  5000|     IT|    50|2002|2023-12-08 18:57:...|\n",
      "|  2|shruthi|   kachave|female| 30|  6000|     HR|    20|2008|2023-12-08 18:57:...|\n",
      "|  3| ganesh|   kenjale|  male| 25|  7000|FINANCE|    30|2010|2023-12-08 18:57:...|\n",
      "|  4|  pooja|     bhate|female| 34|  8000|PAYROLL|    40|2005|2023-12-08 18:57:...|\n",
      "|  5| kamini|     kadam|female| 31|  6000|     IT|  NULL|2007|2023-12-08 18:57:...|\n",
      "|  6|shivaji|    nemade|  male| 20|  8000|     IT|    50|1004|2023-12-08 18:57:...|\n",
      "|  7| shweta|   lakhani|female| 30|  6000|     HR|    20|1998|2023-12-08 18:57:...|\n",
      "|  8| suresh|     kirve|  male| 25| 10000|FINANCE|    30|2011|2023-12-08 18:57:...|\n",
      "|  9|shivani|    jagtap|  NULL| 34| 11000|PAYROLL|    40|2013|2023-12-08 18:57:...|\n",
      "| 10| prachi|   inamdar|female| 30|  6000|     IT|    50|2001|2023-12-08 18:57:...|\n",
      "+---+-------+----------+------+---+------+-------+------+----+--------------------+\n",
      "\n"
     ]
    }
   ],
   "source": [
    "from pyspark.sql.functions import current_timestamp\n",
    "df1=empdf.withColumn(\"Timestamp\",current_timestamp())\n",
    "df1.show()"
   ]
  },
  {
   "cell_type": "code",
   "execution_count": 10,
   "metadata": {},
   "outputs": [
    {
     "name": "stdout",
     "output_type": "stream",
     "text": [
      "+---+-------+------+---+----------+-------+------+----+\n",
      "| id|   name|gender|age|emp_salary|   dept|deptno| doj|\n",
      "+---+-------+------+---+----------+-------+------+----+\n",
      "|  1| mahesh|  male| 20|      5000|     IT|    50|2002|\n",
      "|  2|shruthi|female| 30|      6000|     HR|    20|2008|\n",
      "|  3| ganesh|  male| 25|      7000|FINANCE|    30|2010|\n",
      "|  4|  pooja|female| 34|      8000|PAYROLL|    40|2005|\n",
      "|  5| kamini|female| 31|      6000|     IT|  NULL|2007|\n",
      "|  6|shivaji|  male| 20|      8000|     IT|    50|1004|\n",
      "|  7| shweta|female| 30|      6000|     HR|    20|1998|\n",
      "|  8| suresh|  male| 25|     10000|FINANCE|    30|2011|\n",
      "|  9|shivani|  NULL| 34|     11000|PAYROLL|    40|2013|\n",
      "| 10| prachi|female| 30|      6000|     IT|    50|2001|\n",
      "+---+-------+------+---+----------+-------+------+----+\n",
      "\n"
     ]
    }
   ],
   "source": [
    "from pyspark.sql.functions import current_timestamp\n",
    "df2=empdf.withColumnRenamed(\"salary\",\"emp_salary\")\n",
    "df2.show()"
   ]
  },
  {
   "cell_type": "code",
   "execution_count": 12,
   "metadata": {},
   "outputs": [
    {
     "name": "stdout",
     "output_type": "stream",
     "text": [
      "+---+-------+------+---+------+-------+------+----+\n",
      "| id|   name|gender|age|salary|   dept|deptno| doj|\n",
      "+---+-------+------+---+------+-------+------+----+\n",
      "|  1| mahesh|  male| 20|  5000|     IT|    50|2002|\n",
      "|  2|shruthi|female| 30|  6000|     HR|    20|2008|\n",
      "|  3| ganesh|  male| 25|  7000|FINANCE|    30|2010|\n",
      "|  4|  pooja|female| 34|  8000|PAYROLL|    40|2005|\n",
      "|  5| kamini|female| 31|  6000|     IT|  NULL|2007|\n",
      "|  6|shivaji|  male| 20|  8000|     IT|    50|1004|\n",
      "|  7| shweta|female| 30|  6000|     HR|    20|1998|\n",
      "|  8| suresh|  male| 25| 10000|FINANCE|    30|2011|\n",
      "|  9|shivani|  NULL| 34| 11000|PAYROLL|    40|2013|\n",
      "| 10| prachi|female| 30|  6000|     IT|    50|2001|\n",
      "+---+-------+------+---+------+-------+------+----+\n",
      "\n"
     ]
    }
   ],
   "source": [
    "df3=empdf.drop(\"Timestamp\")\n",
    "df3.show()"
   ]
  },
  {
   "cell_type": "code",
   "execution_count": 14,
   "metadata": {},
   "outputs": [
    {
     "name": "stdout",
     "output_type": "stream",
     "text": [
      "+---+-------+------+---+------+-------+------+----+--------+\n",
      "| id|   name|gender|age|salary|   dept|deptno| doj|location|\n",
      "+---+-------+------+---+------+-------+------+----+--------+\n",
      "|  1| mahesh|  male| 20|  5000|     IT|    50|2002|   INDIA|\n",
      "|  2|shruthi|female| 30|  6000|     HR|    20|2008|   INDIA|\n",
      "|  3| ganesh|  male| 25|  7000|FINANCE|    30|2010|   INDIA|\n",
      "|  4|  pooja|female| 34|  8000|PAYROLL|    40|2005|   INDIA|\n",
      "|  5| kamini|female| 31|  6000|     IT|  NULL|2007|   INDIA|\n",
      "|  6|shivaji|  male| 20|  8000|     IT|    50|1004|   INDIA|\n",
      "|  7| shweta|female| 30|  6000|     HR|    20|1998|   INDIA|\n",
      "|  8| suresh|  male| 25| 10000|FINANCE|    30|2011|   INDIA|\n",
      "|  9|shivani|  NULL| 34| 11000|PAYROLL|    40|2013|   INDIA|\n",
      "| 10| prachi|female| 30|  6000|     IT|    50|2001|   INDIA|\n",
      "+---+-------+------+---+------+-------+------+----+--------+\n",
      "\n"
     ]
    }
   ],
   "source": [
    "from pyspark.sql.functions import lit\n",
    "df4=empdf.withColumn(\"location\",lit(\"INDIA\"))\n",
    "df4.show()"
   ]
  },
  {
   "cell_type": "code",
   "execution_count": 31,
   "metadata": {},
   "outputs": [
    {
     "name": "stdout",
     "output_type": "stream",
     "text": [
      "+---+-------+----------+------+---+------+-------+------+----+------+-----------------+\n",
      "| id| f_name|    l_name|gender|age|salary|   dept|deptno| doj|Bbonus|        Full_name|\n",
      "+---+-------+----------+------+---+------+-------+------+----+------+-----------------+\n",
      "|  1| mahesh|kshirsagar|  male| 20|  5000|     IT|    50|2002|1000.0|mahesh kshirsagar|\n",
      "|  2|shruthi|   kachave|female| 30|  6000|     HR|    20|2008|1200.0|  shruthi kachave|\n",
      "|  3| ganesh|   kenjale|  male| 25|  7000|FINANCE|    30|2010|1400.0|   ganesh kenjale|\n",
      "|  4|  pooja|     bhate|female| 34|  8000|PAYROLL|    40|2005|1600.0|      pooja bhate|\n",
      "|  5| kamini|     kadam|female| 31|  6000|     IT|  NULL|2007|1200.0|     kamini kadam|\n",
      "|  6|shivaji|    nemade|  male| 20|  8000|     IT|    50|1004|1600.0|   shivaji nemade|\n",
      "|  7| shweta|   lakhani|female| 30|  6000|     HR|    20|1998|1200.0|   shweta lakhani|\n",
      "|  8| suresh|     kirve|  male| 25| 10000|FINANCE|    30|2011|2000.0|     suresh kirve|\n",
      "|  9|shivani|    jagtap|  NULL| 34| 11000|PAYROLL|    40|2013|2200.0|   shivani jagtap|\n",
      "| 10| prachi|   inamdar|female| 30|  6000|     IT|    50|2001|1200.0|   prachi inamdar|\n",
      "+---+-------+----------+------+---+------+-------+------+----+------+-----------------+\n",
      "\n"
     ]
    }
   ],
   "source": [
    "from pyspark.sql.functions import concat,lit\n",
    "df5=empdf.withColumn(\"Bbonus\",empdf.salary*0.2).withColumn(\"Full_name\",concat(\"f_name\" ,lit(\" \"),\"l_name\"))\n",
    "df5.show()"
   ]
  },
  {
   "cell_type": "code",
   "execution_count": null,
   "metadata": {},
   "outputs": [],
   "source": []
  }
 ],
 "metadata": {
  "kernelspec": {
   "display_name": "pyspark-env",
   "language": "python",
   "name": "pyspark-env"
  },
  "language_info": {
   "codemirror_mode": {
    "name": "ipython",
    "version": 3
   },
   "file_extension": ".py",
   "mimetype": "text/x-python",
   "name": "python",
   "nbconvert_exporter": "python",
   "pygments_lexer": "ipython3",
   "version": "3.12.3"
  }
 },
 "nbformat": 4,
 "nbformat_minor": 4
}
