{
 "cells": [
  {
   "cell_type": "code",
   "execution_count": null,
   "metadata": {},
   "outputs": [],
   "source": [
    "from pyspark.sql import SparkSession\n",
    "\n",
    "# Create a SparkSession\n",
    "spark = SparkSession.builder\\\n",
    "    .appName(\"YourAppName\")\\\n",
    "    .getOrCreate()\n",
    "\n",
    "simpleData = [(1, \"Sagar\", \"CSE\", \"UP\", 80,),\n",
    "              (2, \"Shivam\", \"IT\", \"MP\", 86,),\n",
    "              (3, \"Muns\", \"Mech\", \"AP\", 76,)]\n",
    "\n",
    "columns = [\"ID\", \"Student Name\", \"Department_Name\", \"City\", \"Marks\"]\n",
    "\n",
    "df_1 = spark.createDataFrame(data=simpleData, schema=columns)\n",
    "\n",
    "df_1.show()"
   ]
  },
  {
   "cell_type": "code",
   "execution_count": null,
   "id": "67a02592",
   "metadata": {},
   "outputs": [],
   "source": [
    "simpleData_2 = [(5, \"Raj\", \"CSE\", \"HP\"),\n",
    "                (7, \"Kunal\", \"Mech\", \"Rajasthan\")]\n",
    "\n",
    "columns = [\"ID\", \"StudentName\", \"Department\", \"City\"]\n",
    "\n",
    "df_2 = spark.createDataFrame(data=simpleData_2, schema=columns)\n",
    "\n",
    "df_2.show()"
   ]
  },
  {
   "cell_type": "code",
   "execution_count": null,
   "id": "34497eeb",
   "metadata": {},
   "outputs": [],
   "source": [
    "from pyspark.sql.functions import col,lit\n",
    "\n",
    "df_2 = df_2.withColumn(\"Marks\",lit(\"null\"))\n",
    "df = df_1.union(df_2)\n",
    "df.show()"
   ]
  }
 ],
 "metadata": {
  "kernelspec": {
   "display_name": "pyspark-env",
   "language": "python",
   "name": "python3"
  },
  "language_info": {
   "codemirror_mode": {
    "name": "ipython",
    "version": 3
   },
   "file_extension": ".py",
   "mimetype": "text/x-python",
   "name": "python",
   "nbconvert_exporter": "python",
   "pygments_lexer": "ipython3",
   "version": "3.12.4"
  }
 },
 "nbformat": 4,
 "nbformat_minor": 5
}
