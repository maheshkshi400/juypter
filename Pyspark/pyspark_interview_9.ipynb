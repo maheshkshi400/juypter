{
 "cells": [
  {
   "cell_type": "code",
   "execution_count": null,
   "id": "2dfe2587-46dd-4331-8766-7431ab4328a2",
   "metadata": {},
   "outputs": [],
   "source": [
    "L = [(1, 'Gaga', 'India', \"2022-01-11\"),\n",
    "     (1, 'Katy', 'UK', \"2022-01-11\"),\n",
    "     (1, 'Bey', 'Europe', \"2022-01-11\"),\n",
    "     (2, 'Gaga', None, \"2022-10-11\"),\n",
    "     (2, 'Katy', 'India', \"2022-10-11\"),\n",
    "     (2, 'Bey', 'US', \"2022-02-15\"),\n",
    "     (3, 'Gaga', 'Europe', \"2022-10-11\"),\n",
    "     (3, 'Katy', 'US', \"2022-10-11\"),\n",
    "     (3, 'Bey', None, \"2022-02-15\"),\n",
    "     (1, 'Gaga', 'US', \"2022-01-11\"),\n",
    "     (3, 'Katy', 'Switz', \"2022-02-15\")]\n",
    "\n",
    "df = Spark.createDataFrame(L, ['ID', 'NAME', 'COUNTRY', 'Date_part'])\n",
    "\n",
    "\n",
    "display(df)"
   ]
  }
 ],
 "metadata": {
  "kernelspec": {
   "display_name": "Python 3 (ipykernel)",
   "language": "python",
   "name": "python3"
  },
  "language_info": {
   "codemirror_mode": {
    "name": "ipython",
    "version": 3
   },
   "file_extension": ".py",
   "mimetype": "text/x-python",
   "name": "python",
   "nbconvert_exporter": "python",
   "pygments_lexer": "ipython3",
   "version": "3.12.4"
  }
 },
 "nbformat": 4,
 "nbformat_minor": 5
}
