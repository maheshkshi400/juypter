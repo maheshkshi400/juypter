{
 "cells": [
  {
   "cell_type": "markdown",
   "id": "e3d7e883",
   "metadata": {},
   "source": [
    "Count rows in each column where NULLs present"
   ]
  },
  {
   "cell_type": "markdown",
   "id": "1a4b6e42",
   "metadata": {},
   "source": [
    "df =spark.read.csv(\"dbfs:/FileStore/DATA35.csv\")\n",
    "df.show()"
   ]
  },
  {
   "cell_type": "code",
   "execution_count": null,
   "id": "8a8cd639",
   "metadata": {},
   "outputs": [],
   "source": [
    "%fs head \"dbfs:/FileStore/DATA35.csv\""
   ]
  },
  {
   "cell_type": "code",
   "execution_count": null,
   "id": "1bf0e741",
   "metadata": {},
   "outputs": [],
   "source": [
    "df = spark.read.format(\"csv\").option(\"header\", \"true\").option(\"inferSchema\", \"true\").load(\"dbfs:/FileStore/DATA35.csv\")\n",
    "display(df)"
   ]
  },
  {
   "cell_type": "code",
   "execution_count": null,
   "id": "31ab0301",
   "metadata": {},
   "outputs": [],
   "source": [
    "from pyspark.sql.functions import count,col,when\n",
    "df =spark.read.format(\"csv\").option(\"nullvalue\",\"NULL\").load('dbfs:/FileStore/DATA35.csv',header=True,inferSchema=True)\n",
    "\n",
    "df_1 = df.select([count(when(col(i).isNull(), 1)).alias(i) for i in df.columns])\n",
    "df_1.show()"
   ]
  },
  {
   "cell_type": "code",
   "execution_count": null,
   "id": "b0e920c7",
   "metadata": {},
   "outputs": [],
   "source": []
  }
 ],
 "metadata": {
  "kernelspec": {
   "display_name": "pyspark-env",
   "language": "python",
   "name": "pyspark-env"
  },
  "language_info": {
   "codemirror_mode": {
    "name": "ipython",
    "version": 3
   },
   "file_extension": ".py",
   "mimetype": "text/x-python",
   "name": "python",
   "nbconvert_exporter": "python",
   "pygments_lexer": "ipython3",
   "version": "3.12.4"
  }
 },
 "nbformat": 4,
 "nbformat_minor": 5
}
