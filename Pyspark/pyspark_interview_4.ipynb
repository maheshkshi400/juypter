{
 "cells": [
  {
   "cell_type": "markdown",
   "id": "6b5ff150",
   "metadata": {},
   "source": [
    "skiping the line while loading data"
   ]
  },
  {
   "cell_type": "code",
   "execution_count": null,
   "id": "2c0426f5-2ea6-451f-a091-754647517d0b",
   "metadata": {},
   "outputs": [],
   "source": [
    "df = spark.read.csv(\"dbfs:/FileStore/DATA34.csv\")\n",
    "df.show()"
   ]
  },
  {
   "cell_type": "code",
   "execution_count": null,
   "id": "e31526d0",
   "metadata": {},
   "outputs": [],
   "source": [
    "rdd = sc.textFile('dbfs:/FileStore/DATA34.csv')\n",
    "rdd.collect()"
   ]
  },
  {
   "cell_type": "code",
   "execution_count": null,
   "id": "9716fa87",
   "metadata": {},
   "outputs": [],
   "source": [
    "rdd = sc.textFile('dbfs:/FileStore/DATA34.csv').zipWithIndex()\n"
   ]
  },
  {
   "cell_type": "code",
   "execution_count": null,
   "id": "2fc179d7",
   "metadata": {},
   "outputs": [],
   "source": [
    "rdd = sc.textFile('dbfs:/FileStore/DATA34.csv').zipWithIndex().filter(lambda a:a[1]>3)\n",
    "rdd.collect()\n"
   ]
  },
  {
   "cell_type": "code",
   "execution_count": null,
   "id": "84d0397c",
   "metadata": {},
   "outputs": [],
   "source": [
    "rdd = sc.textFile('dbfs:/FileStore/DATA34.csv').zipWithIndex().filter(lambda a:a[1]>3).map(lambda a:a[0].split(','))\n",
    "rdd.collect()\n"
   ]
  },
  {
   "cell_type": "code",
   "execution_count": null,
   "id": "881ab426",
   "metadata": {},
   "outputs": [],
   "source": [
    "rdd_col = rdd.first()\n",
    "rdd_col\n"
   ]
  },
  {
   "cell_type": "code",
   "execution_count": null,
   "id": "d7e9f9af",
   "metadata": {},
   "outputs": [],
   "source": [
    "main_rdd = rdd.filter(lambda a:a!=rdd_col)\n",
    "main_rdd.collect()\n"
   ]
  },
  {
   "cell_type": "code",
   "execution_count": null,
   "id": "e5287e0d",
   "metadata": {},
   "outputs": [],
   "source": [
    "main_rdd = rdd.filter(lambda a:a!= rdd_col)\n",
    "df = main_rdd.toDF(rdd_col)"
   ]
  },
  {
   "cell_type": "code",
   "execution_count": null,
   "id": "0dcea5e6",
   "metadata": {},
   "outputs": [],
   "source": [
    "display(df)"
   ]
  },
  {
   "cell_type": "code",
   "execution_count": null,
   "id": "0b2a8a0d",
   "metadata": {},
   "outputs": [],
   "source": []
  }
 ],
 "metadata": {
  "kernelspec": {
   "display_name": "Python 3 (ipykernel)",
   "language": "python",
   "name": "python3"
  },
  "language_info": {
   "codemirror_mode": {
    "name": "ipython",
    "version": 3
   },
   "file_extension": ".py",
   "mimetype": "text/x-python",
   "name": "python",
   "nbconvert_exporter": "python",
   "pygments_lexer": "ipython3",
   "version": "3.12.3"
  }
 },
 "nbformat": 4,
 "nbformat_minor": 5
}
