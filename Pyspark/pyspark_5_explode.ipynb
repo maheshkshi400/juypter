{
 "cells": [
  {
   "cell_type": "code",
   "execution_count": 1,
   "metadata": {},
   "outputs": [
    {
     "ename": "Py4JJavaError",
     "evalue": "An error occurred while calling None.org.apache.spark.api.java.JavaSparkContext.\n: java.lang.ExceptionInInitializerError\r\n\tat org.apache.spark.unsafe.array.ByteArrayMethods.<clinit>(ByteArrayMethods.java:52)\r\n\tat org.apache.spark.memory.MemoryManager.defaultPageSizeBytes$lzycompute(MemoryManager.scala:261)\r\n\tat org.apache.spark.memory.MemoryManager.defaultPageSizeBytes(MemoryManager.scala:251)\r\n\tat org.apache.spark.memory.MemoryManager.$anonfun$pageSizeBytes$1(MemoryManager.scala:270)\r\n\tat scala.runtime.java8.JFunction0$mcJ$sp.apply(JFunction0$mcJ$sp.java:23)\r\n\tat scala.Option.getOrElse(Option.scala:189)\r\n\tat org.apache.spark.memory.MemoryManager.<init>(MemoryManager.scala:270)\r\n\tat org.apache.spark.memory.UnifiedMemoryManager.<init>(UnifiedMemoryManager.scala:58)\r\n\tat org.apache.spark.memory.UnifiedMemoryManager$.apply(UnifiedMemoryManager.scala:207)\r\n\tat org.apache.spark.SparkEnv$.create(SparkEnv.scala:325)\r\n\tat org.apache.spark.SparkEnv$.createDriverEnv(SparkEnv.scala:196)\r\n\tat org.apache.spark.SparkContext.createSparkEnv(SparkContext.scala:279)\r\n\tat org.apache.spark.SparkContext.<init>(SparkContext.scala:464)\r\n\tat org.apache.spark.api.java.JavaSparkContext.<init>(JavaSparkContext.scala:58)\r\n\tat java.base/jdk.internal.reflect.NativeConstructorAccessorImpl.newInstance0(Native Method)\r\n\tat java.base/jdk.internal.reflect.NativeConstructorAccessorImpl.newInstance(NativeConstructorAccessorImpl.java:75)\r\n\tat java.base/jdk.internal.reflect.DelegatingConstructorAccessorImpl.newInstance(DelegatingConstructorAccessorImpl.java:53)\r\n\tat java.base/java.lang.reflect.Constructor.newInstanceWithCaller(Constructor.java:502)\r\n\tat java.base/java.lang.reflect.Constructor.newInstance(Constructor.java:486)\r\n\tat py4j.reflection.MethodInvoker.invoke(MethodInvoker.java:247)\r\n\tat py4j.reflection.ReflectionEngine.invoke(ReflectionEngine.java:374)\r\n\tat py4j.Gateway.invoke(Gateway.java:238)\r\n\tat py4j.commands.ConstructorCommand.invokeConstructor(ConstructorCommand.java:80)\r\n\tat py4j.commands.ConstructorCommand.execute(ConstructorCommand.java:69)\r\n\tat py4j.ClientServerConnection.waitForCommands(ClientServerConnection.java:182)\r\n\tat py4j.ClientServerConnection.run(ClientServerConnection.java:106)\r\n\tat java.base/java.lang.Thread.run(Thread.java:1583)\r\nCaused by: java.lang.IllegalStateException: java.lang.NoSuchMethodException: java.nio.DirectByteBuffer.<init>(long,int)\r\n\tat org.apache.spark.unsafe.Platform.<clinit>(Platform.java:113)\r\n\t... 27 more\r\nCaused by: java.lang.NoSuchMethodException: java.nio.DirectByteBuffer.<init>(long,int)\r\n\tat java.base/java.lang.Class.getConstructor0(Class.java:3761)\r\n\tat java.base/java.lang.Class.getDeclaredConstructor(Class.java:2930)\r\n\tat org.apache.spark.unsafe.Platform.<clinit>(Platform.java:71)\r\n\t... 27 more\r\n",
     "output_type": "error",
     "traceback": [
      "\u001b[1;31m---------------------------------------------------------------------------\u001b[0m",
      "\u001b[1;31mPy4JJavaError\u001b[0m                             Traceback (most recent call last)",
      "Cell \u001b[1;32mIn[1], line 6\u001b[0m\n\u001b[0;32m      2\u001b[0m \u001b[38;5;28;01mfrom\u001b[39;00m \u001b[38;5;21;01mpyspark\u001b[39;00m\u001b[38;5;21;01m.\u001b[39;00m\u001b[38;5;21;01msql\u001b[39;00m\u001b[38;5;21;01m.\u001b[39;00m\u001b[38;5;21;01mtypes\u001b[39;00m \u001b[38;5;28;01mimport\u001b[39;00m StructType, StructField, StringType, ArrayType\n\u001b[0;32m      5\u001b[0m \u001b[38;5;66;03m# Create a SparkSession\u001b[39;00m\n\u001b[1;32m----> 6\u001b[0m spark \u001b[38;5;241m=\u001b[39m SparkSession\u001b[38;5;241m.\u001b[39mbuilder\u001b[38;5;241m.\u001b[39mappName(\u001b[38;5;124m\"\u001b[39m\u001b[38;5;124mhttps://github.com/maheshkshi400/MK\u001b[39m\u001b[38;5;124m\"\u001b[39m)\u001b[38;5;241m.\u001b[39mgetOrCreate()\n\u001b[0;32m     10\u001b[0m \u001b[38;5;66;03m# Define the data\u001b[39;00m\n\u001b[0;32m     11\u001b[0m Array_appliances \u001b[38;5;241m=\u001b[39m [\n\u001b[0;32m     12\u001b[0m     (\u001b[38;5;124m'\u001b[39m\u001b[38;5;124mGanesh\u001b[39m\u001b[38;5;124m'\u001b[39m, [\u001b[38;5;124m'\u001b[39m\u001b[38;5;124mtTV\u001b[39m\u001b[38;5;124m'\u001b[39m, \u001b[38;5;124m'\u001b[39m\u001b[38;5;124mAC\u001b[39m\u001b[38;5;124m'\u001b[39m, \u001b[38;5;124m'\u001b[39m\u001b[38;5;124mREFRIGERATOR\u001b[39m\u001b[38;5;124m'\u001b[39m, \u001b[38;5;124m'\u001b[39m\u001b[38;5;124mBIKE\u001b[39m\u001b[38;5;124m'\u001b[39m, \u001b[38;5;124m'\u001b[39m\u001b[38;5;124mOVEN\u001b[39m\u001b[38;5;124m'\u001b[39m]),\n\u001b[0;32m     13\u001b[0m     (\u001b[38;5;124m'\u001b[39m\u001b[38;5;124mMukesh\u001b[39m\u001b[38;5;124m'\u001b[39m, [\u001b[38;5;124m'\u001b[39m\u001b[38;5;124mBIKE\u001b[39m\u001b[38;5;124m'\u001b[39m, \u001b[38;5;124m'\u001b[39m\u001b[38;5;124mAC\u001b[39m\u001b[38;5;124m'\u001b[39m, \u001b[38;5;124m'\u001b[39m\u001b[38;5;124mHOME\u001b[39m\u001b[38;5;124m'\u001b[39m]),\n\u001b[1;32m   (...)\u001b[0m\n\u001b[0;32m     16\u001b[0m     (\u001b[38;5;124m'\u001b[39m\u001b[38;5;124mVeena\u001b[39m\u001b[38;5;124m'\u001b[39m, [\u001b[38;5;124m'\u001b[39m\u001b[38;5;124mTV\u001b[39m\u001b[38;5;124m'\u001b[39m, \u001b[38;5;124m'\u001b[39m\u001b[38;5;124mAC\u001b[39m\u001b[38;5;124m'\u001b[39m, \u001b[38;5;28;01mNone\u001b[39;00m, \u001b[38;5;124m'\u001b[39m\u001b[38;5;124mBIKE\u001b[39m\u001b[38;5;124m'\u001b[39m, \u001b[38;5;124m'\u001b[39m\u001b[38;5;124mOVEN\u001b[39m\u001b[38;5;124m'\u001b[39m])\n\u001b[0;32m     17\u001b[0m ]\n",
      "File \u001b[1;32mc:\\Users\\User\\anaconda3\\envs\\pyspark-env\\Lib\\site-packages\\pyspark\\sql\\session.py:477\u001b[0m, in \u001b[0;36mSparkSession.Builder.getOrCreate\u001b[1;34m(self)\u001b[0m\n\u001b[0;32m    475\u001b[0m     sparkConf\u001b[38;5;241m.\u001b[39mset(key, value)\n\u001b[0;32m    476\u001b[0m \u001b[38;5;66;03m# This SparkContext may be an existing one.\u001b[39;00m\n\u001b[1;32m--> 477\u001b[0m sc \u001b[38;5;241m=\u001b[39m SparkContext\u001b[38;5;241m.\u001b[39mgetOrCreate(sparkConf)\n\u001b[0;32m    478\u001b[0m \u001b[38;5;66;03m# Do not update `SparkConf` for existing `SparkContext`, as it's shared\u001b[39;00m\n\u001b[0;32m    479\u001b[0m \u001b[38;5;66;03m# by all sessions.\u001b[39;00m\n\u001b[0;32m    480\u001b[0m session \u001b[38;5;241m=\u001b[39m SparkSession(sc, options\u001b[38;5;241m=\u001b[39m\u001b[38;5;28mself\u001b[39m\u001b[38;5;241m.\u001b[39m_options)\n",
      "File \u001b[1;32mc:\\Users\\User\\anaconda3\\envs\\pyspark-env\\Lib\\site-packages\\pyspark\\context.py:512\u001b[0m, in \u001b[0;36mSparkContext.getOrCreate\u001b[1;34m(cls, conf)\u001b[0m\n\u001b[0;32m    510\u001b[0m \u001b[38;5;28;01mwith\u001b[39;00m SparkContext\u001b[38;5;241m.\u001b[39m_lock:\n\u001b[0;32m    511\u001b[0m     \u001b[38;5;28;01mif\u001b[39;00m SparkContext\u001b[38;5;241m.\u001b[39m_active_spark_context \u001b[38;5;129;01mis\u001b[39;00m \u001b[38;5;28;01mNone\u001b[39;00m:\n\u001b[1;32m--> 512\u001b[0m         SparkContext(conf\u001b[38;5;241m=\u001b[39mconf \u001b[38;5;129;01mor\u001b[39;00m SparkConf())\n\u001b[0;32m    513\u001b[0m     \u001b[38;5;28;01massert\u001b[39;00m SparkContext\u001b[38;5;241m.\u001b[39m_active_spark_context \u001b[38;5;129;01mis\u001b[39;00m \u001b[38;5;129;01mnot\u001b[39;00m \u001b[38;5;28;01mNone\u001b[39;00m\n\u001b[0;32m    514\u001b[0m     \u001b[38;5;28;01mreturn\u001b[39;00m SparkContext\u001b[38;5;241m.\u001b[39m_active_spark_context\n",
      "File \u001b[1;32mc:\\Users\\User\\anaconda3\\envs\\pyspark-env\\Lib\\site-packages\\pyspark\\context.py:200\u001b[0m, in \u001b[0;36mSparkContext.__init__\u001b[1;34m(self, master, appName, sparkHome, pyFiles, environment, batchSize, serializer, conf, gateway, jsc, profiler_cls, udf_profiler_cls, memory_profiler_cls)\u001b[0m\n\u001b[0;32m    198\u001b[0m SparkContext\u001b[38;5;241m.\u001b[39m_ensure_initialized(\u001b[38;5;28mself\u001b[39m, gateway\u001b[38;5;241m=\u001b[39mgateway, conf\u001b[38;5;241m=\u001b[39mconf)\n\u001b[0;32m    199\u001b[0m \u001b[38;5;28;01mtry\u001b[39;00m:\n\u001b[1;32m--> 200\u001b[0m     \u001b[38;5;28mself\u001b[39m\u001b[38;5;241m.\u001b[39m_do_init(\n\u001b[0;32m    201\u001b[0m         master,\n\u001b[0;32m    202\u001b[0m         appName,\n\u001b[0;32m    203\u001b[0m         sparkHome,\n\u001b[0;32m    204\u001b[0m         pyFiles,\n\u001b[0;32m    205\u001b[0m         environment,\n\u001b[0;32m    206\u001b[0m         batchSize,\n\u001b[0;32m    207\u001b[0m         serializer,\n\u001b[0;32m    208\u001b[0m         conf,\n\u001b[0;32m    209\u001b[0m         jsc,\n\u001b[0;32m    210\u001b[0m         profiler_cls,\n\u001b[0;32m    211\u001b[0m         udf_profiler_cls,\n\u001b[0;32m    212\u001b[0m         memory_profiler_cls,\n\u001b[0;32m    213\u001b[0m     )\n\u001b[0;32m    214\u001b[0m \u001b[38;5;28;01mexcept\u001b[39;00m \u001b[38;5;167;01mBaseException\u001b[39;00m:\n\u001b[0;32m    215\u001b[0m     \u001b[38;5;66;03m# If an error occurs, clean up in order to allow future SparkContext creation:\u001b[39;00m\n\u001b[0;32m    216\u001b[0m     \u001b[38;5;28mself\u001b[39m\u001b[38;5;241m.\u001b[39mstop()\n",
      "File \u001b[1;32mc:\\Users\\User\\anaconda3\\envs\\pyspark-env\\Lib\\site-packages\\pyspark\\context.py:287\u001b[0m, in \u001b[0;36mSparkContext._do_init\u001b[1;34m(self, master, appName, sparkHome, pyFiles, environment, batchSize, serializer, conf, jsc, profiler_cls, udf_profiler_cls, memory_profiler_cls)\u001b[0m\n\u001b[0;32m    284\u001b[0m \u001b[38;5;28mself\u001b[39m\u001b[38;5;241m.\u001b[39menvironment[\u001b[38;5;124m\"\u001b[39m\u001b[38;5;124mPYTHONHASHSEED\u001b[39m\u001b[38;5;124m\"\u001b[39m] \u001b[38;5;241m=\u001b[39m os\u001b[38;5;241m.\u001b[39menviron\u001b[38;5;241m.\u001b[39mget(\u001b[38;5;124m\"\u001b[39m\u001b[38;5;124mPYTHONHASHSEED\u001b[39m\u001b[38;5;124m\"\u001b[39m, \u001b[38;5;124m\"\u001b[39m\u001b[38;5;124m0\u001b[39m\u001b[38;5;124m\"\u001b[39m)\n\u001b[0;32m    286\u001b[0m \u001b[38;5;66;03m# Create the Java SparkContext through Py4J\u001b[39;00m\n\u001b[1;32m--> 287\u001b[0m \u001b[38;5;28mself\u001b[39m\u001b[38;5;241m.\u001b[39m_jsc \u001b[38;5;241m=\u001b[39m jsc \u001b[38;5;129;01mor\u001b[39;00m \u001b[38;5;28mself\u001b[39m\u001b[38;5;241m.\u001b[39m_initialize_context(\u001b[38;5;28mself\u001b[39m\u001b[38;5;241m.\u001b[39m_conf\u001b[38;5;241m.\u001b[39m_jconf)\n\u001b[0;32m    288\u001b[0m \u001b[38;5;66;03m# Reset the SparkConf to the one actually used by the SparkContext in JVM.\u001b[39;00m\n\u001b[0;32m    289\u001b[0m \u001b[38;5;28mself\u001b[39m\u001b[38;5;241m.\u001b[39m_conf \u001b[38;5;241m=\u001b[39m SparkConf(_jconf\u001b[38;5;241m=\u001b[39m\u001b[38;5;28mself\u001b[39m\u001b[38;5;241m.\u001b[39m_jsc\u001b[38;5;241m.\u001b[39msc()\u001b[38;5;241m.\u001b[39mconf())\n",
      "File \u001b[1;32mc:\\Users\\User\\anaconda3\\envs\\pyspark-env\\Lib\\site-packages\\pyspark\\context.py:417\u001b[0m, in \u001b[0;36mSparkContext._initialize_context\u001b[1;34m(self, jconf)\u001b[0m\n\u001b[0;32m    413\u001b[0m \u001b[38;5;250m\u001b[39m\u001b[38;5;124;03m\"\"\"\u001b[39;00m\n\u001b[0;32m    414\u001b[0m \u001b[38;5;124;03mInitialize SparkContext in function to allow subclass specific initialization\u001b[39;00m\n\u001b[0;32m    415\u001b[0m \u001b[38;5;124;03m\"\"\"\u001b[39;00m\n\u001b[0;32m    416\u001b[0m \u001b[38;5;28;01massert\u001b[39;00m \u001b[38;5;28mself\u001b[39m\u001b[38;5;241m.\u001b[39m_jvm \u001b[38;5;129;01mis\u001b[39;00m \u001b[38;5;129;01mnot\u001b[39;00m \u001b[38;5;28;01mNone\u001b[39;00m\n\u001b[1;32m--> 417\u001b[0m \u001b[38;5;28;01mreturn\u001b[39;00m \u001b[38;5;28mself\u001b[39m\u001b[38;5;241m.\u001b[39m_jvm\u001b[38;5;241m.\u001b[39mJavaSparkContext(jconf)\n",
      "File \u001b[1;32mc:\\Users\\User\\anaconda3\\envs\\pyspark-env\\Lib\\site-packages\\py4j\\java_gateway.py:1587\u001b[0m, in \u001b[0;36mJavaClass.__call__\u001b[1;34m(self, *args)\u001b[0m\n\u001b[0;32m   1581\u001b[0m command \u001b[38;5;241m=\u001b[39m proto\u001b[38;5;241m.\u001b[39mCONSTRUCTOR_COMMAND_NAME \u001b[38;5;241m+\u001b[39m\\\n\u001b[0;32m   1582\u001b[0m     \u001b[38;5;28mself\u001b[39m\u001b[38;5;241m.\u001b[39m_command_header \u001b[38;5;241m+\u001b[39m\\\n\u001b[0;32m   1583\u001b[0m     args_command \u001b[38;5;241m+\u001b[39m\\\n\u001b[0;32m   1584\u001b[0m     proto\u001b[38;5;241m.\u001b[39mEND_COMMAND_PART\n\u001b[0;32m   1586\u001b[0m answer \u001b[38;5;241m=\u001b[39m \u001b[38;5;28mself\u001b[39m\u001b[38;5;241m.\u001b[39m_gateway_client\u001b[38;5;241m.\u001b[39msend_command(command)\n\u001b[1;32m-> 1587\u001b[0m return_value \u001b[38;5;241m=\u001b[39m get_return_value(\n\u001b[0;32m   1588\u001b[0m     answer, \u001b[38;5;28mself\u001b[39m\u001b[38;5;241m.\u001b[39m_gateway_client, \u001b[38;5;28;01mNone\u001b[39;00m, \u001b[38;5;28mself\u001b[39m\u001b[38;5;241m.\u001b[39m_fqn)\n\u001b[0;32m   1590\u001b[0m \u001b[38;5;28;01mfor\u001b[39;00m temp_arg \u001b[38;5;129;01min\u001b[39;00m temp_args:\n\u001b[0;32m   1591\u001b[0m     \u001b[38;5;28;01mif\u001b[39;00m \u001b[38;5;28mhasattr\u001b[39m(temp_arg, \u001b[38;5;124m\"\u001b[39m\u001b[38;5;124m_detach\u001b[39m\u001b[38;5;124m\"\u001b[39m):\n",
      "File \u001b[1;32mc:\\Users\\User\\anaconda3\\envs\\pyspark-env\\Lib\\site-packages\\py4j\\protocol.py:326\u001b[0m, in \u001b[0;36mget_return_value\u001b[1;34m(answer, gateway_client, target_id, name)\u001b[0m\n\u001b[0;32m    324\u001b[0m value \u001b[38;5;241m=\u001b[39m OUTPUT_CONVERTER[\u001b[38;5;28mtype\u001b[39m](answer[\u001b[38;5;241m2\u001b[39m:], gateway_client)\n\u001b[0;32m    325\u001b[0m \u001b[38;5;28;01mif\u001b[39;00m answer[\u001b[38;5;241m1\u001b[39m] \u001b[38;5;241m==\u001b[39m REFERENCE_TYPE:\n\u001b[1;32m--> 326\u001b[0m     \u001b[38;5;28;01mraise\u001b[39;00m Py4JJavaError(\n\u001b[0;32m    327\u001b[0m         \u001b[38;5;124m\"\u001b[39m\u001b[38;5;124mAn error occurred while calling \u001b[39m\u001b[38;5;132;01m{0}\u001b[39;00m\u001b[38;5;132;01m{1}\u001b[39;00m\u001b[38;5;132;01m{2}\u001b[39;00m\u001b[38;5;124m.\u001b[39m\u001b[38;5;130;01m\\n\u001b[39;00m\u001b[38;5;124m\"\u001b[39m\u001b[38;5;241m.\u001b[39m\n\u001b[0;32m    328\u001b[0m         \u001b[38;5;28mformat\u001b[39m(target_id, \u001b[38;5;124m\"\u001b[39m\u001b[38;5;124m.\u001b[39m\u001b[38;5;124m\"\u001b[39m, name), value)\n\u001b[0;32m    329\u001b[0m \u001b[38;5;28;01melse\u001b[39;00m:\n\u001b[0;32m    330\u001b[0m     \u001b[38;5;28;01mraise\u001b[39;00m Py4JError(\n\u001b[0;32m    331\u001b[0m         \u001b[38;5;124m\"\u001b[39m\u001b[38;5;124mAn error occurred while calling \u001b[39m\u001b[38;5;132;01m{0}\u001b[39;00m\u001b[38;5;132;01m{1}\u001b[39;00m\u001b[38;5;132;01m{2}\u001b[39;00m\u001b[38;5;124m. Trace:\u001b[39m\u001b[38;5;130;01m\\n\u001b[39;00m\u001b[38;5;132;01m{3}\u001b[39;00m\u001b[38;5;130;01m\\n\u001b[39;00m\u001b[38;5;124m\"\u001b[39m\u001b[38;5;241m.\u001b[39m\n\u001b[0;32m    332\u001b[0m         \u001b[38;5;28mformat\u001b[39m(target_id, \u001b[38;5;124m\"\u001b[39m\u001b[38;5;124m.\u001b[39m\u001b[38;5;124m\"\u001b[39m, name, value))\n",
      "\u001b[1;31mPy4JJavaError\u001b[0m: An error occurred while calling None.org.apache.spark.api.java.JavaSparkContext.\n: java.lang.ExceptionInInitializerError\r\n\tat org.apache.spark.unsafe.array.ByteArrayMethods.<clinit>(ByteArrayMethods.java:52)\r\n\tat org.apache.spark.memory.MemoryManager.defaultPageSizeBytes$lzycompute(MemoryManager.scala:261)\r\n\tat org.apache.spark.memory.MemoryManager.defaultPageSizeBytes(MemoryManager.scala:251)\r\n\tat org.apache.spark.memory.MemoryManager.$anonfun$pageSizeBytes$1(MemoryManager.scala:270)\r\n\tat scala.runtime.java8.JFunction0$mcJ$sp.apply(JFunction0$mcJ$sp.java:23)\r\n\tat scala.Option.getOrElse(Option.scala:189)\r\n\tat org.apache.spark.memory.MemoryManager.<init>(MemoryManager.scala:270)\r\n\tat org.apache.spark.memory.UnifiedMemoryManager.<init>(UnifiedMemoryManager.scala:58)\r\n\tat org.apache.spark.memory.UnifiedMemoryManager$.apply(UnifiedMemoryManager.scala:207)\r\n\tat org.apache.spark.SparkEnv$.create(SparkEnv.scala:325)\r\n\tat org.apache.spark.SparkEnv$.createDriverEnv(SparkEnv.scala:196)\r\n\tat org.apache.spark.SparkContext.createSparkEnv(SparkContext.scala:279)\r\n\tat org.apache.spark.SparkContext.<init>(SparkContext.scala:464)\r\n\tat org.apache.spark.api.java.JavaSparkContext.<init>(JavaSparkContext.scala:58)\r\n\tat java.base/jdk.internal.reflect.NativeConstructorAccessorImpl.newInstance0(Native Method)\r\n\tat java.base/jdk.internal.reflect.NativeConstructorAccessorImpl.newInstance(NativeConstructorAccessorImpl.java:75)\r\n\tat java.base/jdk.internal.reflect.DelegatingConstructorAccessorImpl.newInstance(DelegatingConstructorAccessorImpl.java:53)\r\n\tat java.base/java.lang.reflect.Constructor.newInstanceWithCaller(Constructor.java:502)\r\n\tat java.base/java.lang.reflect.Constructor.newInstance(Constructor.java:486)\r\n\tat py4j.reflection.MethodInvoker.invoke(MethodInvoker.java:247)\r\n\tat py4j.reflection.ReflectionEngine.invoke(ReflectionEngine.java:374)\r\n\tat py4j.Gateway.invoke(Gateway.java:238)\r\n\tat py4j.commands.ConstructorCommand.invokeConstructor(ConstructorCommand.java:80)\r\n\tat py4j.commands.ConstructorCommand.execute(ConstructorCommand.java:69)\r\n\tat py4j.ClientServerConnection.waitForCommands(ClientServerConnection.java:182)\r\n\tat py4j.ClientServerConnection.run(ClientServerConnection.java:106)\r\n\tat java.base/java.lang.Thread.run(Thread.java:1583)\r\nCaused by: java.lang.IllegalStateException: java.lang.NoSuchMethodException: java.nio.DirectByteBuffer.<init>(long,int)\r\n\tat org.apache.spark.unsafe.Platform.<clinit>(Platform.java:113)\r\n\t... 27 more\r\nCaused by: java.lang.NoSuchMethodException: java.nio.DirectByteBuffer.<init>(long,int)\r\n\tat java.base/java.lang.Class.getConstructor0(Class.java:3761)\r\n\tat java.base/java.lang.Class.getDeclaredConstructor(Class.java:2930)\r\n\tat org.apache.spark.unsafe.Platform.<clinit>(Platform.java:71)\r\n\t... 27 more\r\n"
     ]
    }
   ],
   "source": [
    "from pyspark.sql import SparkSession\n",
    "from pyspark.sql.types import StructType, StructField, StringType, ArrayType\n",
    "\n",
    "\n",
    "# Create a SparkSession\n",
    "spark = SparkSession.builder.appName(\"https://github.com/maheshkshi400/MK\").getOrCreate()\n",
    "\n",
    "\n",
    "\n",
    "# Define the data\n",
    "Array_appliances = [\n",
    "    ('Ganesh', ['tTV', 'AC', 'REFRIGERATOR', 'BIKE', 'OVEN']),\n",
    "    ('Mukesh', ['BIKE', 'AC', 'HOME']),\n",
    "    ('Shewta', ['TV', 'AC', 'REFRIGERATOR', None, 'OVEN']),\n",
    "    ('Shirisha', ['TV', 'AC', 'REFRIGERATOR', 'BIKE', 'OVEN']),\n",
    "    ('Veena', ['TV', 'AC', None, 'BIKE', 'OVEN'])\n",
    "]\n",
    "\n",
    "# Define schema for DataFrame\n",
    "schema = StructType([\n",
    "    StructField('Name', StringType(), nullable=False),\n",
    "    StructField('Appliances', ArrayType(StringType()), nullable=True)\n",
    "])\n",
    "\n",
    "# Create DataFrame\n",
    "df_app = spark.createDataFrame(data=Array_appliances, schema=schema)\n",
    "\n",
    "# Show DataFrame schema and data\n",
    "df_app.printSchema()\n",
    "df_app.show(truncate=False)"
   ]
  },
  {
   "cell_type": "code",
   "execution_count": 18,
   "metadata": {},
   "outputs": [
    {
     "name": "stdout",
     "output_type": "stream",
     "text": [
      "root\n",
      " |-- Name: string (nullable = false)\n",
      " |-- Appliances: array (nullable = true)\n",
      " |    |-- element: string (containsNull = true)\n",
      " |-- Appliance: string (nullable = true)\n",
      "\n",
      "+--------+-----------------------------------+------------+\n",
      "|Name    |Appliances                         |Appliance   |\n",
      "+--------+-----------------------------------+------------+\n",
      "|Ganesh  |[tTV, AC, REFRIGERATOR, BIKE, OVEN]|tTV         |\n",
      "|Ganesh  |[tTV, AC, REFRIGERATOR, BIKE, OVEN]|AC          |\n",
      "|Ganesh  |[tTV, AC, REFRIGERATOR, BIKE, OVEN]|REFRIGERATOR|\n",
      "|Ganesh  |[tTV, AC, REFRIGERATOR, BIKE, OVEN]|BIKE        |\n",
      "|Ganesh  |[tTV, AC, REFRIGERATOR, BIKE, OVEN]|OVEN        |\n",
      "|Mukesh  |[BIKE, AC, HOME]                   |BIKE        |\n",
      "|Mukesh  |[BIKE, AC, HOME]                   |AC          |\n",
      "|Mukesh  |[BIKE, AC, HOME]                   |HOME        |\n",
      "|Shewta  |[TV, AC, REFRIGERATOR, NULL, OVEN] |TV          |\n",
      "|Shewta  |[TV, AC, REFRIGERATOR, NULL, OVEN] |AC          |\n",
      "|Shewta  |[TV, AC, REFRIGERATOR, NULL, OVEN] |REFRIGERATOR|\n",
      "|Shewta  |[TV, AC, REFRIGERATOR, NULL, OVEN] |NULL        |\n",
      "|Shewta  |[TV, AC, REFRIGERATOR, NULL, OVEN] |OVEN        |\n",
      "|Shirisha|[TV, AC, REFRIGERATOR, BIKE, OVEN] |TV          |\n",
      "|Shirisha|[TV, AC, REFRIGERATOR, BIKE, OVEN] |AC          |\n",
      "|Shirisha|[TV, AC, REFRIGERATOR, BIKE, OVEN] |REFRIGERATOR|\n",
      "|Shirisha|[TV, AC, REFRIGERATOR, BIKE, OVEN] |BIKE        |\n",
      "|Shirisha|[TV, AC, REFRIGERATOR, BIKE, OVEN] |OVEN        |\n",
      "|Veena   |[TV, AC, NULL, BIKE, OVEN]         |TV          |\n",
      "|Veena   |[TV, AC, NULL, BIKE, OVEN]         |AC          |\n",
      "+--------+-----------------------------------+------------+\n",
      "only showing top 20 rows\n",
      "\n"
     ]
    }
   ],
   "source": [
    "\n",
    "# Explode array_type\n",
    "\n",
    "from pyspark.sql.functions import explode, col\n",
    "\n",
    "# Explode the Appliances column into separate rows\n",
    "df2 = df_app.withColumn('Appliance', explode(col('Appliances')))\n",
    "\n",
    "# Show the transformed DataFrame df2\n",
    "df2.printSchema()\n",
    "df2.show(truncate=False)"
   ]
  },
  {
   "cell_type": "code",
   "execution_count": 7,
   "metadata": {},
   "outputs": [
    {
     "name": "stdout",
     "output_type": "stream",
     "text": [
      "root\n",
      " |-- Name: string (nullable = false)\n",
      " |-- Brands: string (nullable = false)\n",
      "\n",
      "+--------+---------------------------------------------------------------------+\n",
      "|Name    |Brands                                                               |\n",
      "+--------+---------------------------------------------------------------------+\n",
      "|Ganesh  |{AC=VOLTAS, TV=ONIDA, REFRIGERATOR=KENSTAR, OVEN=PHILIPS, BIKE=BAJAJ}|\n",
      "|Mukesh  |{AC=SAMSUNG, HOME=OWN, BIKE=TVS}                                     |\n",
      "|Shewta  |{AC=BONZA, TV=TOSHIBA, REFRIGERATOR=WHIRLPOOL, OVEN=CIRIA}           |\n",
      "|Shirisha|{AC=PHILIPS, TV=CROMA, REFRIGERATOR=SAMSUNG, OVEN=TATA, BIKE=HONDA}  |\n",
      "|Veena   |{AC=SHINIA, TV=LAVA, OVEN=PANDA, BIKE=CROY}                          |\n",
      "+--------+---------------------------------------------------------------------+\n",
      "\n"
     ]
    }
   ],
   "source": [
    "from pyspark.sql import SparkSession\n",
    "from pyspark.sql.types import StructType, StructField, StringType\n",
    "\n",
    "# Create a SparkSession\n",
    "spark = SparkSession.builder.appName(\"BrandMapping\").getOrCreate()\n",
    "\n",
    "# Define the data\n",
    "df_map = [\n",
    "    ('Ganesh', {'TV': 'ONIDA', 'AC': 'VOLTAS', 'REFRIGERATOR': 'KENSTAR', 'BIKE': 'BAJAJ', 'OVEN': 'PHILIPS'}),\n",
    "    ('Mukesh', {'BIKE': 'TVS', 'AC': 'SAMSUNG', 'HOME': 'OWN'}),\n",
    "    ('Shewta', {'TV': 'TOSHIBA', 'AC': 'BONZA', 'REFRIGERATOR': 'WHIRLPOOL', 'OVEN': 'CIRIA'}),\n",
    "    ('Shirisha', {'TV': 'CROMA', 'AC': 'PHILIPS', 'REFRIGERATOR': 'SAMSUNG', 'BIKE': 'HONDA', 'OVEN': 'TATA'}),\n",
    "    ('Veena', {'TV': 'LAVA', 'AC': 'SHINIA', 'BIKE': 'CROY', 'OVEN': 'PANDA'})\n",
    "]\n",
    "\n",
    "# Define schema for DataFrame\n",
    "schema = StructType([\n",
    "    StructField('Name', StringType(), nullable=False),\n",
    "    StructField('Brands', StringType(), nullable=False)\n",
    "])\n",
    "\n",
    "# Create DataFrame\n",
    "df_app = spark.createDataFrame(data=df_map, schema=schema)\n",
    "\n",
    "# Show DataFrame schema and data\n",
    "df_app.printSchema()\n",
    "df_app.show(truncate=False)\n"
   ]
  },
  {
   "cell_type": "code",
   "execution_count": 2,
   "metadata": {},
   "outputs": [
    {
     "name": "stdout",
     "output_type": "stream",
     "text": [
      "Unexpected exception formatting exception. Falling back to standard exception\n"
     ]
    },
    {
     "name": "stderr",
     "output_type": "stream",
     "text": [
      "Traceback (most recent call last):\n",
      "  File \"C:\\Users\\Pc\\AppData\\Roaming\\Python\\Python311\\site-packages\\IPython\\core\\interactiveshell.py\", line 3526, in run_code\n",
      "    exec(code_obj, self.user_global_ns, self.user_ns)\n",
      "  File \"C:\\Users\\Pc\\AppData\\Local\\Temp\\ipykernel_640\\594833715.py\", line 4, in <module>\n",
      "    df2 = df_app.withColumn('Brand', explode(col('Brands')))\n",
      "          ^^^^^^^^^^^^^^^^^^^^^^^^^^^^^^^^^^^^^^^^^^^^^^^^^^\n",
      "  File \"e:\\anaconda\\Lib\\site-packages\\pyspark\\sql\\dataframe.py\", line 5170, in withColumn\n",
      "    return DataFrame(self._jdf.withColumn(colName, col._jc), self.sparkSession)\n",
      "                     ^^^^^^^^^^^^^^^^^^^^^^^^^^^^^^^^^^^^^^\n",
      "  File \"e:\\anaconda\\Lib\\site-packages\\py4j\\java_gateway.py\", line 1322, in __call__\n",
      "    return_value = get_return_value(\n",
      "                   ^^^^^^^^^^^^^^^^^\n",
      "  File \"e:\\anaconda\\Lib\\site-packages\\pyspark\\errors\\exceptions\\captured.py\", line 185, in deco\n",
      "    raise converted from None\n",
      "pyspark.errors.exceptions.captured.AnalysisException: [UNRESOLVED_COLUMN.WITH_SUGGESTION] A column or function parameter with name `Brands` cannot be resolved. Did you mean one of the following? [`Name`, `Appliances`].;\n",
      "'Project [Name#0, Appliances#1, explode('Brands) AS Brand#13]\n",
      "+- LogicalRDD [Name#0, Appliances#1], false\n",
      "\n",
      "\n",
      "During handling of the above exception, another exception occurred:\n",
      "\n",
      "Traceback (most recent call last):\n",
      "  File \"C:\\Users\\Pc\\AppData\\Roaming\\Python\\Python311\\site-packages\\IPython\\core\\interactiveshell.py\", line 2120, in showtraceback\n",
      "    stb = self.InteractiveTB.structured_traceback(\n",
      "          ^^^^^^^^^^^^^^^^^^^^^^^^^^^^^^^^^^^^^^^^\n",
      "  File \"C:\\Users\\Pc\\AppData\\Roaming\\Python\\Python311\\site-packages\\IPython\\core\\ultratb.py\", line 1435, in structured_traceback\n",
      "    return FormattedTB.structured_traceback(\n",
      "           ^^^^^^^^^^^^^^^^^^^^^^^^^^^^^^^^^\n",
      "  File \"C:\\Users\\Pc\\AppData\\Roaming\\Python\\Python311\\site-packages\\IPython\\core\\ultratb.py\", line 1326, in structured_traceback\n",
      "    return VerboseTB.structured_traceback(\n",
      "           ^^^^^^^^^^^^^^^^^^^^^^^^^^^^^^^\n",
      "  File \"C:\\Users\\Pc\\AppData\\Roaming\\Python\\Python311\\site-packages\\IPython\\core\\ultratb.py\", line 1173, in structured_traceback\n",
      "    formatted_exception = self.format_exception_as_a_whole(etype, evalue, etb, number_of_lines_of_context,\n",
      "                          ^^^^^^^^^^^^^^^^^^^^^^^^^^^^^^^^^^^^^^^^^^^^^^^^^^^^^^^^^^^^^^^^^^^^^^^^^^^^^^^^\n",
      "  File \"C:\\Users\\Pc\\AppData\\Roaming\\Python\\Python311\\site-packages\\IPython\\core\\ultratb.py\", line 1088, in format_exception_as_a_whole\n",
      "    frames.append(self.format_record(record))\n",
      "                  ^^^^^^^^^^^^^^^^^^^^^^^^^^\n",
      "  File \"C:\\Users\\Pc\\AppData\\Roaming\\Python\\Python311\\site-packages\\IPython\\core\\ultratb.py\", line 970, in format_record\n",
      "    frame_info.lines, Colors, self.has_colors, lvals\n",
      "    ^^^^^^^^^^^^^^^^\n",
      "  File \"C:\\Users\\Pc\\AppData\\Roaming\\Python\\Python311\\site-packages\\IPython\\core\\ultratb.py\", line 792, in lines\n",
      "    return self._sd.lines\n",
      "           ^^^^^^^^^^^^^^\n",
      "  File \"C:\\Users\\Pc\\AppData\\Roaming\\Python\\Python311\\site-packages\\stack_data\\utils.py\", line 144, in cached_property_wrapper\n",
      "    value = obj.__dict__[self.func.__name__] = self.func(obj)\n",
      "                                               ^^^^^^^^^^^^^^\n",
      "  File \"C:\\Users\\Pc\\AppData\\Roaming\\Python\\Python311\\site-packages\\stack_data\\core.py\", line 734, in lines\n",
      "    pieces = self.included_pieces\n",
      "             ^^^^^^^^^^^^^^^^^^^^\n",
      "  File \"C:\\Users\\Pc\\AppData\\Roaming\\Python\\Python311\\site-packages\\stack_data\\utils.py\", line 144, in cached_property_wrapper\n",
      "    value = obj.__dict__[self.func.__name__] = self.func(obj)\n",
      "                                               ^^^^^^^^^^^^^^\n",
      "  File \"C:\\Users\\Pc\\AppData\\Roaming\\Python\\Python311\\site-packages\\stack_data\\core.py\", line 677, in included_pieces\n",
      "    scope_pieces = self.scope_pieces\n",
      "                   ^^^^^^^^^^^^^^^^^\n",
      "  File \"C:\\Users\\Pc\\AppData\\Roaming\\Python\\Python311\\site-packages\\stack_data\\utils.py\", line 144, in cached_property_wrapper\n",
      "    value = obj.__dict__[self.func.__name__] = self.func(obj)\n",
      "                                               ^^^^^^^^^^^^^^\n",
      "  File \"C:\\Users\\Pc\\AppData\\Roaming\\Python\\Python311\\site-packages\\stack_data\\core.py\", line 614, in scope_pieces\n",
      "    scope_start, scope_end = self.source.line_range(self.scope)\n",
      "                             ^^^^^^^^^^^^^^^^^^^^^^^^^^^^^^^^^^\n",
      "  File \"C:\\Users\\Pc\\AppData\\Roaming\\Python\\Python311\\site-packages\\stack_data\\core.py\", line 178, in line_range\n",
      "    return line_range(self.asttext(), node)\n",
      "                      ^^^^^^^^^^^^\n",
      "AttributeError: 'Source' object has no attribute 'asttext'\n"
     ]
    }
   ],
   "source": [
    "from pyspark.sql.functions import explode, col\n",
    "\n",
    "# Explode the Brands column into separate rows\n",
    "df2 = df_app.withColumn('Brand', explode(col('Brands')))\n",
    "\n",
    "# Show the transformed DataFrame df2\n",
    "df2.show(truncate=False)\n"
   ]
  },
  {
   "cell_type": "code",
   "execution_count": 3,
   "metadata": {},
   "outputs": [
    {
     "name": "stdout",
     "output_type": "stream",
     "text": [
      "+---+------+------------------+\n",
      "| id|  name|            skills|\n",
      "+---+------+------------------+\n",
      "|  1|mahesh|   [azure, python]|\n",
      "|  2|Ganesh|       [AWS, Java]|\n",
      "|  3|Prachi|[Informetica, SQL]|\n",
      "+---+------+------------------+\n",
      "\n"
     ]
    },
    {
     "data": {
      "text/plain": [
       "DataFrame[id: bigint, name: string, skills: array<string>]"
      ]
     },
     "metadata": {},
     "output_type": "display_data"
    }
   ],
   "source": [
    "from pyspark.sql import SparkSession\n",
    "\n",
    "# Create a SparkSession\n",
    "spark = SparkSession.builder.appName(\"https://github.com/maheshkshi400/MK\").getOrCreate()\n",
    "\n",
    "data = [(1,'mahesh',['azure','python']),(2,'Ganesh',['AWS','Java']),(3,'Prachi',['Informetica','SQL'])]\n",
    "\n",
    "schema = ['id','name','skills']\n",
    "df = spark.createDataFrame(data,schema)\n",
    "df.show()\n",
    "display(df)"
   ]
  },
  {
   "cell_type": "code",
   "execution_count": 4,
   "metadata": {},
   "outputs": [
    {
     "name": "stdout",
     "output_type": "stream",
     "text": [
      "+---+------+------------------+-----------+\n",
      "| id|  name|            skills|      skill|\n",
      "+---+------+------------------+-----------+\n",
      "|  1|mahesh|   [azure, python]|      azure|\n",
      "|  1|mahesh|   [azure, python]|     python|\n",
      "|  2|Ganesh|       [AWS, Java]|        AWS|\n",
      "|  2|Ganesh|       [AWS, Java]|       Java|\n",
      "|  3|Prachi|[Informetica, SQL]|Informetica|\n",
      "|  3|Prachi|[Informetica, SQL]|        SQL|\n",
      "+---+------+------------------+-----------+\n",
      "\n"
     ]
    }
   ],
   "source": [
    "from pyspark.sql.functions import explode,col\n",
    "df1 = df.withColumn('skill',explode(col('skills'))).show()\n"
   ]
  },
  {
   "cell_type": "code",
   "execution_count": 12,
   "metadata": {},
   "outputs": [
    {
     "name": "stdout",
     "output_type": "stream",
     "text": [
      "root\n",
      " |-- Name: string (nullable = false)\n",
      " |-- Appliances: array (nullable = true)\n",
      " |    |-- element: string (containsNull = true)\n",
      "\n",
      "+--------+-----------------------------------+\n",
      "|Name    |Appliances                         |\n",
      "+--------+-----------------------------------+\n",
      "|Ganesh  |[tTV, AC, REFRIGERATOR, BIKE, OVEN]|\n",
      "|Mukesh  |[BIKE, AC, HOME]                   |\n",
      "|Shewta  |[TV, AC, REFRIGERATOR, NULL, OVEN] |\n",
      "|Shirisha|[TV, AC, REFRIGERATOR, BIKE, OVEN] |\n",
      "|Veena   |[TV, AC, NULL, BIKE, OVEN]         |\n",
      "+--------+-----------------------------------+\n",
      "\n"
     ]
    }
   ],
   "source": [
    "from pyspark.sql import SparkSession\n",
    "from pyspark.sql.types import StructType, StructField, StringType, ArrayType\n",
    "\n",
    "\n",
    "# Create a SparkSession\n",
    "spark = SparkSession.builder.appName(\"https://github.com/maheshkshi400/MK\").getOrCreate()\n",
    "\n",
    "\n",
    "\n",
    "# Define the data\n",
    "Array_appliances = [\n",
    "    ('Ganesh', ['tTV', 'AC', 'REFRIGERATOR', 'BIKE', 'OVEN']),\n",
    "    ('Mukesh', ['BIKE', 'AC', 'HOME']),\n",
    "    ('Shewta', ['TV', 'AC', 'REFRIGERATOR', None, 'OVEN']),\n",
    "    ('Shirisha', ['TV', 'AC', 'REFRIGERATOR', 'BIKE', 'OVEN']),\n",
    "    ('Veena', ['TV', 'AC', None, 'BIKE', 'OVEN'])\n",
    "]\n",
    "\n",
    "# Define schema for DataFrame\n",
    "schema = StructType([\n",
    "    StructField('Name', StringType(), nullable=False),\n",
    "    StructField('Appliances', ArrayType(StringType()), nullable=True)\n",
    "])\n",
    "\n",
    "# Create DataFrame\n",
    "df_app = spark.createDataFrame(data=Array_appliances, schema=schema)\n",
    "\n",
    "# Show DataFrame schema and data\n",
    "df_app.printSchema()\n",
    "df_app.show(truncate=False)"
   ]
  },
  {
   "cell_type": "code",
   "execution_count": 13,
   "metadata": {},
   "outputs": [
    {
     "name": "stdout",
     "output_type": "stream",
     "text": [
      "+--------+-----------------------------------+------------+\n",
      "|Name    |Appliances                         |Appliance   |\n",
      "+--------+-----------------------------------+------------+\n",
      "|Ganesh  |[tTV, AC, REFRIGERATOR, BIKE, OVEN]|tTV         |\n",
      "|Ganesh  |[tTV, AC, REFRIGERATOR, BIKE, OVEN]|AC          |\n",
      "|Ganesh  |[tTV, AC, REFRIGERATOR, BIKE, OVEN]|REFRIGERATOR|\n",
      "|Ganesh  |[tTV, AC, REFRIGERATOR, BIKE, OVEN]|BIKE        |\n",
      "|Ganesh  |[tTV, AC, REFRIGERATOR, BIKE, OVEN]|OVEN        |\n",
      "|Mukesh  |[BIKE, AC, HOME]                   |BIKE        |\n",
      "|Mukesh  |[BIKE, AC, HOME]                   |AC          |\n",
      "|Mukesh  |[BIKE, AC, HOME]                   |HOME        |\n",
      "|Shewta  |[TV, AC, REFRIGERATOR, NULL, OVEN] |TV          |\n",
      "|Shewta  |[TV, AC, REFRIGERATOR, NULL, OVEN] |AC          |\n",
      "|Shewta  |[TV, AC, REFRIGERATOR, NULL, OVEN] |REFRIGERATOR|\n",
      "|Shewta  |[TV, AC, REFRIGERATOR, NULL, OVEN] |NULL        |\n",
      "|Shewta  |[TV, AC, REFRIGERATOR, NULL, OVEN] |OVEN        |\n",
      "|Shirisha|[TV, AC, REFRIGERATOR, BIKE, OVEN] |TV          |\n",
      "|Shirisha|[TV, AC, REFRIGERATOR, BIKE, OVEN] |AC          |\n",
      "|Shirisha|[TV, AC, REFRIGERATOR, BIKE, OVEN] |REFRIGERATOR|\n",
      "|Shirisha|[TV, AC, REFRIGERATOR, BIKE, OVEN] |BIKE        |\n",
      "|Shirisha|[TV, AC, REFRIGERATOR, BIKE, OVEN] |OVEN        |\n",
      "|Veena   |[TV, AC, NULL, BIKE, OVEN]         |TV          |\n",
      "|Veena   |[TV, AC, NULL, BIKE, OVEN]         |AC          |\n",
      "+--------+-----------------------------------+------------+\n",
      "only showing top 20 rows\n",
      "\n"
     ]
    }
   ],
   "source": [
    "\n"
   ]
  }
 ],
 "metadata": {
  "kernelspec": {
   "display_name": "pyspark_env",
   "language": "python",
   "name": "pyspark_env"
  },
  "language_info": {
   "codemirror_mode": {
    "name": "ipython",
    "version": 3
   },
   "file_extension": ".py",
   "mimetype": "text/x-python",
   "name": "python",
   "nbconvert_exporter": "python",
   "pygments_lexer": "ipython3",
   "version": "3.11.7"
  }
 },
 "nbformat": 4,
 "nbformat_minor": 2
}
