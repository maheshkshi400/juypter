{
 "cells": [
  {
   "cell_type": "code",
   "execution_count": null,
   "id": "c321325f",
   "metadata": {},
   "outputs": [],
   "source": [
    "form Pyspark.sql.functions import split,explode"
   ]
  },
  {
   "cell_type": "code",
   "execution_count": null,
   "metadata": {},
   "outputs": [],
   "source": [
    "df =spark.read.format(\"csv\").option(\"sep\",\"|\").load(\"dbfs:/FileStore/DATA30.csv\",header=True,inferSchema=True)\n",
    "df.show()"
   ]
  },
  {
   "cell_type": "code",
   "execution_count": null,
   "id": "c3a5b4c1",
   "metadata": {},
   "outputs": [],
   "source": [
    "from pyspark.sql.functions import split\n",
    "df1 = df.withColumn(\"physics\",split(df.MARKS,'\\\\|')[0]).withColumn(\"MATHS\",split(df.MARKS,'\\\\|')[1]).withColumn(\"CHEMISTRY\",split(df.MARKS,'\\\\|')[2]).drop(df.MARKS)\n",
    "df1.show()"
   ]
  },
  {
   "cell_type": "code",
   "execution_count": null,
   "id": "bf278b6a",
   "metadata": {},
   "outputs": [],
   "source": [
    "from pyspark.sql.functions import split,explode\n",
    "df2 = df.select(\"ID\",\"NAME\",\"AGE\",explode(split(df.MARKS,'\\\\|')))\n",
    "df2.show()"
   ]
  }
 ],
 "metadata": {
  "kernelspec": {
   "display_name": "pyspark-env",
   "language": "python",
   "name": "pyspark-env"
  },
  "language_info": {
   "codemirror_mode": {
    "name": "ipython",
    "version": 3
   },
   "file_extension": ".py",
   "mimetype": "text/x-python",
   "name": "python",
   "nbconvert_exporter": "python",
   "pygments_lexer": "ipython3",
   "version": "3.12.4"
  }
 },
 "nbformat": 4,
 "nbformat_minor": 5
}
