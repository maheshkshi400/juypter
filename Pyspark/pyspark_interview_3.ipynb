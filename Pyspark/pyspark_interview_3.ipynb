{
 "cells": [
  {
   "cell_type": "code",
   "execution_count": null,
   "metadata": {},
   "outputs": [],
   "source": [
    "\n",
    "\n",
    "simpleData = [(1, [\"Sagar\", \"Prajapati\"], \"8125789\"),  # Corrected phone number\n",
    "              (2, [\"Shivam\", \"Gupta\"], \"81%57894\"),  # Corrected phone number\n",
    "              (3, [\"Kunal\", \"Verma\"], \"81757u94\"),  # Corrected phone number\n",
    "              (4, [\"Kim\", \"Chou\"], \"8175v894\")]  # Corrected phone number\n",
    "\n",
    "columns = [\"ID\", \"Name\", \"MobileNo\"]  # Corrected column name\n",
    "\n",
    "df_1 = spark.createDataFrame(data=simpleData, schema=columns)\n",
    "\n",
    "df_1.show()"
   ]
  },
  {
   "cell_type": "code",
   "execution_count": null,
   "id": "81dd886a",
   "metadata": {},
   "outputs": [],
   "source": [
    "\n",
    "import re\n",
    "df = df_1.select(\"*\").filter(col(\"MobileNo\").rlike('^[0-9]*$')).show()"
   ]
  },
  {
   "cell_type": "code",
   "execution_count": null,
   "id": "d4d25020",
   "metadata": {},
   "outputs": [],
   "source": []
  }
 ],
 "metadata": {
  "kernelspec": {
   "display_name": "pyspark-env",
   "language": "python",
   "name": "python3"
  },
  "language_info": {
   "name": "python",
   "version": "3.12.4"
  }
 },
 "nbformat": 4,
 "nbformat_minor": 5
}
