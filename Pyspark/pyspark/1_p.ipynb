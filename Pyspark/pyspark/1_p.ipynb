{
 "cells": [
  {
   "cell_type": "code",
   "execution_count": null,
   "metadata": {},
   "outputs": [],
   "source": []
  },
  {
   "cell_type": "code",
   "execution_count": 2,
   "metadata": {},
   "outputs": [],
   "source": [
    "from pyspark.sql import SparkSession\n",
    "\n",
    "spark = SparkSession.builder.appName(\"https://github.com/maheshkshi400/MK\").getOrCreate()"
   ]
  },
  {
   "cell_type": "code",
   "execution_count": null,
   "metadata": {},
   "outputs": [],
   "source": []
  },
  {
   "cell_type": "code",
   "execution_count": 3,
   "metadata": {},
   "outputs": [
    {
     "name": "stdout",
     "output_type": "stream",
     "text": [
      "+---+----------+----------+---------+------+\n",
      "|_c0|       Day|temprature|windspeed|events|\n",
      "+---+----------+----------+---------+------+\n",
      "|  0|01-01-2017|        32|        6|  Rain|\n",
      "|  1|01-02-2017|        35|        7| Sunny|\n",
      "|  2|01-03-2017|        28|        2|  Snow|\n",
      "|  3|01-04-2017|        24|        7|  Snow|\n",
      "|  4|01-05-2017|        32|        4|  Rain|\n",
      "|  5|01-06-2017|        32|        2| Sunny|\n",
      "+---+----------+----------+---------+------+\n",
      "\n"
     ]
    }
   ],
   "source": [
    "df = spark.read \\\n",
    "      .format(\"csv\") \\\n",
    "      .option(\"header\", True) \\\n",
    "      .option(\"inferSchema\", True) \\\n",
    "      .option(\"sep\", \",\") \\\n",
    "      .load(r\"C:\\Users\\User\\juypter\\files\\weatherData.csv\")\n",
    "\n",
    "df.show()"
   ]
  }
 ],
 "metadata": {
  "kernelspec": {
   "display_name": "pyspark-env",
   "language": "python",
   "name": "python3"
  },
  "language_info": {
   "codemirror_mode": {
    "name": "ipython",
    "version": 3
   },
   "file_extension": ".py",
   "mimetype": "text/x-python",
   "name": "python",
   "nbconvert_exporter": "python",
   "pygments_lexer": "ipython3",
   "version": "3.12.4"
  }
 },
 "nbformat": 4,
 "nbformat_minor": 2
}
