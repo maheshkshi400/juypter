{
 "cells": [
  {
   "cell_type": "code",
   "execution_count": 2,
   "id": "3b96d4e7-3d88-4241-a399-9c8ef855cc37",
   "metadata": {},
   "outputs": [
    {
     "name": "stdout",
     "output_type": "stream",
     "text": [
      "+---+-----------------+------+----+------+-------+------+---------+\n",
      "| id|             name|gender| age|salary|   dept|deptno|      doj|\n",
      "+---+-----------------+------+----+------+-------+------+---------+\n",
      "|  1|Mahesh Kshirsagar|  male|  20|  5000|     IT|    50|19-4-2011|\n",
      "|  2|   Shruthi Sharma|female|None|  6000|     HR|  null|20-5-2007|\n",
      "|  3|   Ganesh Kenjale|  male|  25|  null|FINANCE|    30|     null|\n",
      "|  4|    Pooja Chandra|female|null|  8000|PAYROLL|    40|14-4-1998|\n",
      "|  5|     kamini sinha|female|  31|  6000|     IT|    50|20-5-2002|\n",
      "|  6|        Rahul Roy|  null|  28|  null|   null|    10|31-8-2015|\n",
      "|  7|    Shweta Tiwari|female|  30|  6000|     HR|    20|     null|\n",
      "|  8|   suresh Katwani|  null|  25| 10000|FINANCE|    30|22-3-2007|\n",
      "|  9|             null|  null|null|  null|   null|  null|     null|\n",
      "| 10|   prachi Inamdar|female|  30|  6000|   null|    50|     null|\n",
      "+---+-----------------+------+----+------+-------+------+---------+\n",
      "\n"
     ]
    }
   ],
   "source": [
    "from pyspark.sql import SparkSession\n",
    "\n",
    "# Create a SparkSession\n",
    "spark = SparkSession.builder.appName(\"https://github.com/maheshkshi400/MK\").getOrCreate()\n",
    "\n",
    "\n",
    "\n",
    "df = spark.read.format('csv') \\\n",
    "    .option('inferschema', True) \\\n",
    "    .option('header',True)\\\n",
    "    .option('sep',\",\")\\\n",
    "    .load(r'C:\\Users\\User\\juypter\\files\\empdf12.CSV')\n",
    "df.show()"
   ]
  },
  {
   "cell_type": "code",
   "execution_count": 3,
   "id": "8bd86849",
   "metadata": {},
   "outputs": [
    {
     "name": "stdout",
     "output_type": "stream",
     "text": [
      "['id', 'name', 'gender', 'age', 'salary', 'dept', 'deptno', 'doj']\n"
     ]
    }
   ],
   "source": [
    "# create iterable data\n",
    "\n",
    "column_list = df.columns\n",
    "print(column_list)"
   ]
  },
  {
   "cell_type": "code",
   "execution_count": 5,
   "id": "1f038300",
   "metadata": {},
   "outputs": [
    {
     "name": "stdout",
     "output_type": "stream",
     "text": [
      "id,name,gender,age,salary,dept,deptno,doj\n"
     ]
    }
   ],
   "source": [
    "# join the string\n",
    "\n",
    "joined_string = \",\".join(column_list)\n",
    "print(joined_string)\n"
   ]
  },
  {
   "cell_type": "code",
   "execution_count": 6,
   "id": "cd083b0f",
   "metadata": {},
   "outputs": [
    {
     "name": "stdout",
     "output_type": "stream",
     "text": [
      "Target.id=Source.idANDTarget.name=Source.nameANDTarget.gender=Source.genderANDTarget.age=Source.ageANDTarget.salary=Source.salaryANDTarget.dept=Source.deptANDTarget.deptno=Source.deptnoANDTarget.doj=Source.doj\n"
     ]
    }
   ],
   "source": [
    "#use cases\n",
    "\n",
    "joinstring =\"AND\".join(list(map(lambda x:(\"Target.\" + x +\"=Source.\" +x),column_list)))\n",
    "\n",
    "print(joinstring)\n"
   ]
  },
  {
   "cell_type": "code",
   "execution_count": 7,
   "id": "7d294db2",
   "metadata": {},
   "outputs": [
    {
     "name": "stdout",
     "output_type": "stream",
     "text": [
      "Target.id=Source.id,Target.name=Source.name,Target.gender=Source.gender,Target.age=Source.age,Target.salary=Source.salary,Target.dept=Source.dept,Target.deptno=Source.deptno,Target.doj=Source.doj\n"
     ]
    }
   ],
   "source": [
    "updateString = \",\".join(list(map(lambda x: (\"Target.\" + x +\"=Source.\" +x),column_list)))\n",
    "print(updateString)"
   ]
  },
  {
   "cell_type": "code",
   "execution_count": 8,
   "id": "7255d924",
   "metadata": {},
   "outputs": [
    {
     "name": "stdout",
     "output_type": "stream",
     "text": [
      "Source.id,Source.name,Source.gender,Source.age,Source.salary,Source.dept,Source.deptno,Source.doj\n"
     ]
    }
   ],
   "source": [
    "sourceinsertstring = \",\".join(list(map(lambda x:(\"Source.\"+x),column_list)))\n",
    "print(sourceinsertstring)"
   ]
  }
 ],
 "metadata": {
  "kernelspec": {
   "display_name": "pyspark-env",
   "language": "python",
   "name": "python3"
  },
  "language_info": {
   "codemirror_mode": {
    "name": "ipython",
    "version": 3
   },
   "file_extension": ".py",
   "mimetype": "text/x-python",
   "name": "python",
   "nbconvert_exporter": "python",
   "pygments_lexer": "ipython3",
   "version": "3.12.4"
  }
 },
 "nbformat": 4,
 "nbformat_minor": 5
}
