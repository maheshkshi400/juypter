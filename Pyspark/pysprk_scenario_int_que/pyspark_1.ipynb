{
 "cells": [
  {
   "cell_type": "code",
   "execution_count": 2,
   "metadata": {},
   "outputs": [],
   "source": [
    "from pyspark.sql.functions import col, when, lit"
   ]
  },
  {
   "cell_type": "code",
   "execution_count": null,
   "metadata": {},
   "outputs": [],
   "source": [
    "from pyspark.sql import SparkSession\n",
    "\n",
    "# Create a SparkSession\n",
    "spark = SparkSession.builder.appName(\"https://github.com/maheshkshi400/MK\").getOrCreate()\n",
    "\n",
    "\n",
    "employees = spark.read.format('csv') \\\n",
    "    .option('inferschema', True) \\\n",
    "    .option('header',True)\\\n",
    "    .load(r'C:\\Users\\User\\juypter\\files\\pyspark_1.csv')\n",
    "employees.show()"
   ]
  },
  {
   "cell_type": "code",
   "execution_count": 15,
   "metadata": {},
   "outputs": [
    {
     "name": "stdout",
     "output_type": "stream",
     "text": [
      "+---+-------+------+----------+\n",
      "| id|   name|salary|department|\n",
      "+---+-------+------+----------+\n",
      "|  1|  Alice| 60000|        IT|\n",
      "|  2|    Bob| 70000|        IT|\n",
      "|  3|Charlie| 80000|        IT|\n",
      "|  4|  David| 55000|        HR|\n",
      "|  5|    Eve| 65000|        HR|\n",
      "|  6|  Frank| 75000|        HR|\n",
      "|  7| George| 85000|   Finance|\n",
      "|  8| Hannah| 90000|   Finance|\n",
      "+---+-------+------+----------+\n",
      "\n"
     ]
    }
   ],
   "source": [
    "df = spark.table(\"employees\")\n",
    "df.show()"
   ]
  }
 ],
 "metadata": {
  "kernelspec": {
   "display_name": "pyspark-env",
   "language": "python",
   "name": "pyspark-env"
  },
  "language_info": {
   "codemirror_mode": {
    "name": "ipython",
    "version": 3
   },
   "file_extension": ".py",
   "mimetype": "text/x-python",
   "name": "python",
   "nbconvert_exporter": "python",
   "pygments_lexer": "ipython3",
   "version": "3.12.4"
  }
 },
 "nbformat": 4,
 "nbformat_minor": 4
}
