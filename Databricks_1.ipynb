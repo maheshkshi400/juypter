{
 "cells": [
  {
   "cell_type": "code",
   "execution_count": 1,
   "metadata": {},
   "outputs": [
    {
     "ename": "NameError",
     "evalue": "name 'dbutils' is not defined",
     "output_type": "error",
     "traceback": [
      "\u001b[1;31m---------------------------------------------------------------------------\u001b[0m",
      "\u001b[1;31mNameError\u001b[0m                                 Traceback (most recent call last)",
      "Cell \u001b[1;32mIn[1], line 12\u001b[0m\n\u001b[0;32m      4\u001b[0m configs \u001b[38;5;241m=\u001b[39m {\n\u001b[0;32m      5\u001b[0m   \u001b[38;5;124m\"\u001b[39m\u001b[38;5;124mdfs.adls.oauth2.access.token.provider.type\u001b[39m\u001b[38;5;124m\"\u001b[39m: \u001b[38;5;124m\"\u001b[39m\u001b[38;5;124mClientCredential\u001b[39m\u001b[38;5;124m\"\u001b[39m,\n\u001b[0;32m      6\u001b[0m   \u001b[38;5;124m\"\u001b[39m\u001b[38;5;124mdfs.adls.oauth2.client.id\u001b[39m\u001b[38;5;124m\"\u001b[39m: \u001b[38;5;124m\"\u001b[39m\u001b[38;5;124m<YOUR_CLIENT_ID>\u001b[39m\u001b[38;5;124m\"\u001b[39m,\n\u001b[0;32m      7\u001b[0m   \u001b[38;5;124m\"\u001b[39m\u001b[38;5;124mdfs.adls.oauth2.credential\u001b[39m\u001b[38;5;124m\"\u001b[39m: \u001b[38;5;124m\"\u001b[39m\u001b[38;5;124m<YOUR_CLIENT_SECRET>\u001b[39m\u001b[38;5;124m\"\u001b[39m,\n\u001b[0;32m      8\u001b[0m   \u001b[38;5;124m\"\u001b[39m\u001b[38;5;124mdfs.adls.oauth2.refresh.url\u001b[39m\u001b[38;5;124m\"\u001b[39m: \u001b[38;5;124m\"\u001b[39m\u001b[38;5;124mhttps://login.microsoftonline.com/<YOUR_TENANT_ID>/oauth2/token\u001b[39m\u001b[38;5;124m\"\u001b[39m\n\u001b[0;32m      9\u001b[0m }\n\u001b[0;32m     11\u001b[0m \u001b[38;5;66;03m# Mount ADLS Gen1 to a DBFS path\u001b[39;00m\n\u001b[1;32m---> 12\u001b[0m dbutils\u001b[38;5;241m.\u001b[39mfs\u001b[38;5;241m.\u001b[39mmount(\n\u001b[0;32m     13\u001b[0m   source\u001b[38;5;241m=\u001b[39m\u001b[38;5;124m\"\u001b[39m\u001b[38;5;124madl://<YOUR_ADLS_ACCOUNT_NAME>.azuredatalakestore.net/\u001b[39m\u001b[38;5;124m\"\u001b[39m,\n\u001b[0;32m     14\u001b[0m   mount_point\u001b[38;5;241m=\u001b[39m\u001b[38;5;124m\"\u001b[39m\u001b[38;5;124m/mnt/adls\u001b[39m\u001b[38;5;124m\"\u001b[39m,\n\u001b[0;32m     15\u001b[0m   extra_configs\u001b[38;5;241m=\u001b[39mconfigs\n\u001b[0;32m     16\u001b[0m )\n",
      "\u001b[1;31mNameError\u001b[0m: name 'dbutils' is not defined"
     ]
    }
   ],
   "source": [
    "\n",
    "# connection of dtatabricks with adls1\n",
    "\n",
    "\n",
    "configs = {\n",
    "  \"dfs.adls.oauth2.access.token.provider.type\": \"ClientCredential\",\n",
    "  \"dfs.adls.oauth2.client.id\": \"<YOUR_CLIENT_ID>\",\n",
    "  \"dfs.adls.oauth2.credential\": \"<YOUR_CLIENT_SECRET>\",\n",
    "  \"dfs.adls.oauth2.refresh.url\": \"https://login.microsoftonline.com/<YOUR_TENANT_ID>/oauth2/token\"\n",
    "}\n",
    "\n",
    "# Mount ADLS Gen1 to a DBFS path\n",
    "dbutils.fs.mount(\n",
    "  source=\"adl://<YOUR_ADLS_ACCOUNT_NAME>.azuredatalakestore.net/\",\n",
    "  mount_point=\"/mnt/adls\",\n",
    "  extra_configs=configs\n",
    ")\n"
   ]
  }
 ],
 "metadata": {
  "kernelspec": {
   "display_name": "pyspark_env",
   "language": "python",
   "name": "pyspark_env"
  },
  "language_info": {
   "codemirror_mode": {
    "name": "ipython",
    "version": 3
   },
   "file_extension": ".py",
   "mimetype": "text/x-python",
   "name": "python",
   "nbconvert_exporter": "python",
   "pygments_lexer": "ipython3",
   "version": "3.11.7"
  }
 },
 "nbformat": 4,
 "nbformat_minor": 2
}
