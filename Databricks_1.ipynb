{
 "cells": [
  {
   "cell_type": "code",
   "execution_count": null,
   "metadata": {},
   "outputs": [],
   "source": [
    "\n",
    "# connection of dtatabricks with adls1\n",
    "\n",
    "\n",
    "configs = {\n",
    "  \"dfs.adls.oauth2.access.token.provider.type\": \"ClientCredential\",\n",
    "  \"dfs.adls.oauth2.client.id\": \"<YOUR_CLIENT_ID>\",\n",
    "  \"dfs.adls.oauth2.credential\": \"<YOUR_CLIENT_SECRET>\",\n",
    "  \"dfs.adls.oauth2.refresh.url\": \"https://login.microsoftonline.com/<YOUR_TENANT_ID>/oauth2/token\"\n",
    "}\n",
    "\n",
    "# Mount ADLS Gen1 to a DBFS path\n",
    "dbutils.fs.mount(\n",
    "  source=\"adl://<YOUR_ADLS_ACCOUNT_NAME>.azuredatalakestore.net/\",\n",
    "  mount_point=\"/mnt/adls\",\n",
    "  extra_configs=configs\n",
    ")\n"
   ]
  }
 ],
 "metadata": {
  "language_info": {
   "name": "python"
  }
 },
 "nbformat": 4,
 "nbformat_minor": 2
}
