{
 "cells": [
  {
   "cell_type": "code",
   "execution_count": 19,
   "metadata": {},
   "outputs": [
    {
     "name": "stdout",
     "output_type": "stream",
     "text": [
      "+---+-----------------+------+----+------+-------+------+---------+\n",
      "| id|             name|gender| age|salary|   dept|deptno|      doj|\n",
      "+---+-----------------+------+----+------+-------+------+---------+\n",
      "|  1|Mahesh Kshirsagar|  male|  20|  5000|     IT|    50|19-4-2011|\n",
      "|  2|   Shruthi Sharma|female|None|  6000|     HR|  NULL|20-5-2007|\n",
      "|  3|   Ganesh Kenjale|  male|  25|  NULL|FINANCE|    30|     NULL|\n",
      "|  4|    Pooja Chandra|female|NULL|  8000|PAYROLL|    40|14-4-1998|\n",
      "|  5|     kamini sinha|female|  31|  6000|     IT|    50|20-5-2002|\n",
      "|  6|        Rahul Roy|  NULL|  28|  NULL|   NULL|    10|31-8-2015|\n",
      "|  7|    Shweta Tiwari|female|  30|  6000|     HR|    20|     NULL|\n",
      "|  8|   suresh Katwani|  NULL|  25| 10000|FINANCE|    30|22-3-2007|\n",
      "|  9|             NULL|  NULL|NULL|  NULL|   NULL|  NULL|     NULL|\n",
      "| 10|   prachi Inamdar|female|  30|  6000|   NULL|    50|     NULL|\n",
      "+---+-----------------+------+----+------+-------+------+---------+\n",
      "\n"
     ]
    }
   ],
   "source": [
    "from pyspark.sql import SparkSession\n",
    "\n",
    "# Create a SparkSession\n",
    "spark = SparkSession.builder.appName(\"https://github.com/maheshkshi400/MK\").getOrCreate()\n",
    "\n",
    "\n",
    "df = spark.read.format('csv') \\\n",
    "    .option('inferschema', True) \\\n",
    "    .option('header',True)\\\n",
    "    .option('sep',\",\")\\\n",
    "    .load('C:/Users/Pc/juypter/empdf12.csv')\n",
    "df.show()"
   ]
  },
  {
   "cell_type": "code",
   "execution_count": 20,
   "metadata": {},
   "outputs": [
    {
     "name": "stdout",
     "output_type": "stream",
     "text": [
      "+---+-----------------+------+----+------+-------+------+---------+----------+----------+\n",
      "| id|             name|gender| age|salary|   dept|deptno|      doj|first_name| last_name|\n",
      "+---+-----------------+------+----+------+-------+------+---------+----------+----------+\n",
      "|  1|Mahesh Kshirsagar|  male|  20|  5000|     IT|    50|19-4-2011|    Mahesh|Kshirsagar|\n",
      "|  2|   Shruthi Sharma|female|None|  6000|     HR|  NULL|20-5-2007|   Shruthi|    Sharma|\n",
      "|  3|   Ganesh Kenjale|  male|  25|  NULL|FINANCE|    30|     NULL|    Ganesh|   Kenjale|\n",
      "|  4|    Pooja Chandra|female|NULL|  8000|PAYROLL|    40|14-4-1998|     Pooja|   Chandra|\n",
      "|  5|     kamini sinha|female|  31|  6000|     IT|    50|20-5-2002|    kamini|     sinha|\n",
      "|  6|        Rahul Roy|  NULL|  28|  NULL|   NULL|    10|31-8-2015|     Rahul|       Roy|\n",
      "|  7|    Shweta Tiwari|female|  30|  6000|     HR|    20|     NULL|    Shweta|    Tiwari|\n",
      "|  8|   suresh Katwani|  NULL|  25| 10000|FINANCE|    30|22-3-2007|    suresh|   Katwani|\n",
      "|  9|             NULL|  NULL|NULL|  NULL|   NULL|  NULL|     NULL|      NULL|      NULL|\n",
      "| 10|   prachi Inamdar|female|  30|  6000|   NULL|    50|     NULL|    prachi|   Inamdar|\n",
      "+---+-----------------+------+----+------+-------+------+---------+----------+----------+\n",
      "\n"
     ]
    }
   ],
   "source": [
    "# Method 1\n",
    "\n",
    "from pyspark.sql.functions import split\n",
    "\n",
    "df1= df.withColumn('first_name',split(df['name'],' ').getItem(0))\\\n",
    "    .withColumn('last_name',split(df['name'],' ').getItem(1))\n",
    "\n",
    "df1.show()"
   ]
  },
  {
   "cell_type": "code",
   "execution_count": 21,
   "metadata": {},
   "outputs": [
    {
     "name": "stdout",
     "output_type": "stream",
     "text": [
      "+---+-----------------+------+----+------+-------+------+---------+----------+----------+\n",
      "| id|             name|gender| age|salary|   dept|deptno|      doj|First_name| Last_name|\n",
      "+---+-----------------+------+----+------+-------+------+---------+----------+----------+\n",
      "|  1|Mahesh Kshirsagar|  male|  20|  5000|     IT|    50|19-4-2011|    Mahesh|Kshirsagar|\n",
      "|  2|   Shruthi Sharma|female|None|  6000|     HR|  NULL|20-5-2007|   Shruthi|    Sharma|\n",
      "|  3|   Ganesh Kenjale|  male|  25|  NULL|FINANCE|    30|     NULL|    Ganesh|   Kenjale|\n",
      "|  4|    Pooja Chandra|female|NULL|  8000|PAYROLL|    40|14-4-1998|     Pooja|   Chandra|\n",
      "|  5|     kamini sinha|female|  31|  6000|     IT|    50|20-5-2002|    kamini|     sinha|\n",
      "|  6|        Rahul Roy|  NULL|  28|  NULL|   NULL|    10|31-8-2015|     Rahul|       Roy|\n",
      "|  7|    Shweta Tiwari|female|  30|  6000|     HR|    20|     NULL|    Shweta|    Tiwari|\n",
      "|  8|   suresh Katwani|  NULL|  25| 10000|FINANCE|    30|22-3-2007|    suresh|   Katwani|\n",
      "|  9|             NULL|  NULL|NULL|  NULL|   NULL|  NULL|     NULL|      NULL|      NULL|\n",
      "| 10|   prachi Inamdar|female|  30|  6000|   NULL|    50|     NULL|    prachi|   Inamdar|\n",
      "+---+-----------------+------+----+------+-------+------+---------+----------+----------+\n",
      "\n"
     ]
    }
   ],
   "source": [
    "# Method 2\n",
    "\n",
    "import pyspark\n",
    "\n",
    "split_col=pyspark.sql.functions.split(df['name'],' ')\n",
    "\n",
    "df2=df.withColumn('First_name',split_col.getItem(0))\\\n",
    "    .withColumn('Last_name',split_col.getItem(1))\n",
    "\n",
    "df2.show()\n",
    "\n"
   ]
  },
  {
   "cell_type": "code",
   "execution_count": 22,
   "metadata": {},
   "outputs": [
    {
     "name": "stdout",
     "output_type": "stream",
     "text": [
      "+---+-----------------+------+----+------+---------+-----------+-------------+------------+\n",
      "| id|             name|gender| age|salary|      doj|joining_day|joining_month|joining_year|\n",
      "+---+-----------------+------+----+------+---------+-----------+-------------+------------+\n",
      "|  1|Mahesh Kshirsagar|  male|  20|  5000|19-4-2011|         19|            4|        2011|\n",
      "|  2|   Shruthi Sharma|female|None|  6000|20-5-2007|         20|            5|        2007|\n",
      "|  3|   Ganesh Kenjale|  male|  25|  NULL|     NULL|       NULL|         NULL|        NULL|\n",
      "|  4|    Pooja Chandra|female|NULL|  8000|14-4-1998|         14|            4|        1998|\n",
      "|  5|     kamini sinha|female|  31|  6000|20-5-2002|         20|            5|        2002|\n",
      "|  6|        Rahul Roy|  NULL|  28|  NULL|31-8-2015|         31|            8|        2015|\n",
      "|  7|    Shweta Tiwari|female|  30|  6000|     NULL|       NULL|         NULL|        NULL|\n",
      "|  8|   suresh Katwani|  NULL|  25| 10000|22-3-2007|         22|            3|        2007|\n",
      "|  9|             NULL|  NULL|NULL|  NULL|     NULL|       NULL|         NULL|        NULL|\n",
      "| 10|   prachi Inamdar|female|  30|  6000|     NULL|       NULL|         NULL|        NULL|\n",
      "+---+-----------------+------+----+------+---------+-----------+-------------+------------+\n",
      "\n"
     ]
    }
   ],
   "source": [
    "# Method 3\n",
    "\n",
    "from pyspark.sql.functions import split,col\n",
    "\n",
    "split_col=pyspark.sql.functions.split(df['doj'],'-')\n",
    "\n",
    "df3=df.select(\"id\",\"name\",\"gender\",\"age\",\"salary\",\"doj\",\n",
    "              split_col.getItem(0).alias('joining_day'),\n",
    "              split_col.getItem(1).alias('joining_month'),\n",
    "              split_col.getItem(2).alias('joining_year'))\n",
    "\n",
    "df3.show()\n",
    "\n"
   ]
  },
  {
   "cell_type": "code",
   "execution_count": 25,
   "metadata": {},
   "outputs": [
    {
     "name": "stdout",
     "output_type": "stream",
     "text": [
      "+---+-----------------+------+----+------+-------+------+---------+----------+----------+-----------+-------------+------------+\n",
      "| id|             name|gender| age|salary|   dept|deptno|      doj|first_name| last_name|joining_day|joining_month|joining_year|\n",
      "+---+-----------------+------+----+------+-------+------+---------+----------+----------+-----------+-------------+------------+\n",
      "|  1|Mahesh Kshirsagar|  male|  20|  5000|     IT|    50|19-4-2011|    Mahesh|Kshirsagar|         19|            4|        2011|\n",
      "|  2|   Shruthi Sharma|female|None|  6000|     HR|  NULL|20-5-2007|   Shruthi|    Sharma|         20|            5|        2007|\n",
      "|  3|   Ganesh Kenjale|  male|  25|  NULL|FINANCE|    30|     NULL|    Ganesh|   Kenjale|       NULL|         NULL|        NULL|\n",
      "|  4|    Pooja Chandra|female|NULL|  8000|PAYROLL|    40|14-4-1998|     Pooja|   Chandra|         14|            4|        1998|\n",
      "|  5|     kamini sinha|female|  31|  6000|     IT|    50|20-5-2002|    kamini|     sinha|         20|            5|        2002|\n",
      "|  6|        Rahul Roy|  NULL|  28|  NULL|   NULL|    10|31-8-2015|     Rahul|       Roy|         31|            8|        2015|\n",
      "|  7|    Shweta Tiwari|female|  30|  6000|     HR|    20|     NULL|    Shweta|    Tiwari|       NULL|         NULL|        NULL|\n",
      "|  8|   suresh Katwani|  NULL|  25| 10000|FINANCE|    30|22-3-2007|    suresh|   Katwani|         22|            3|        2007|\n",
      "|  9|             NULL|  NULL|NULL|  NULL|   NULL|  NULL|     NULL|      NULL|      NULL|       NULL|         NULL|        NULL|\n",
      "| 10|   prachi Inamdar|female|  30|  6000|   NULL|    50|     NULL|    prachi|   Inamdar|       NULL|         NULL|        NULL|\n",
      "+---+-----------------+------+----+------+-------+------+---------+----------+----------+-----------+-------------+------------+\n",
      "\n"
     ]
    }
   ],
   "source": [
    "# combine multple split\n",
    "\n",
    "df4= df.withColumn('first_name',split(df['name'],' ').getItem(0))\\\n",
    "       .withColumn('last_name',split(df['name'],' ').getItem(1))\\\n",
    "        .withColumn('joining_day',split(df['doj'],'-').getItem(0))\\\n",
    "        .withColumn('joining_month',split(df['doj'],'-').getItem(1))\\\n",
    "        .withColumn('joining_year',split(df['doj'],'-').getItem(2))\n",
    "    \n",
    "df4.show()       "
   ]
  },
  {
   "cell_type": "code",
   "execution_count": 28,
   "metadata": {},
   "outputs": [],
   "source": [
    "import  pandas as pd\n",
    "\n",
    "empdf7=df4.toPandas()\n",
    "empdf7\n",
    "\n",
    "empdf7.to_csv('employees.csv',header=True,index=False)\n",
    "empdf7.to_excel('emplyees.xlsx',header=True,index=False,sheet_name=\"sheet_name_1\")"
   ]
  },
  {
   "cell_type": "code",
   "execution_count": 29,
   "metadata": {},
   "outputs": [
    {
     "name": "stdout",
     "output_type": "stream",
     "text": [
      "+---+------+----+------+-------+------+----------+----------+-----------+-------------+------------+\n",
      "| id|gender| age|salary|   dept|deptno|first_name| last_name|joining_day|joining_month|joining_year|\n",
      "+---+------+----+------+-------+------+----------+----------+-----------+-------------+------------+\n",
      "|  1|  male|  20|  5000|     IT|    50|    Mahesh|Kshirsagar|         19|            4|        2011|\n",
      "|  2|female|None|  6000|     HR|  NULL|   Shruthi|    Sharma|         20|            5|        2007|\n",
      "|  3|  male|  25|  NULL|FINANCE|    30|    Ganesh|   Kenjale|       NULL|         NULL|        NULL|\n",
      "|  4|female|NULL|  8000|PAYROLL|    40|     Pooja|   Chandra|         14|            4|        1998|\n",
      "|  5|female|  31|  6000|     IT|    50|    kamini|     sinha|         20|            5|        2002|\n",
      "|  6|  NULL|  28|  NULL|   NULL|    10|     Rahul|       Roy|         31|            8|        2015|\n",
      "|  7|female|  30|  6000|     HR|    20|    Shweta|    Tiwari|       NULL|         NULL|        NULL|\n",
      "|  8|  NULL|  25| 10000|FINANCE|    30|    suresh|   Katwani|         22|            3|        2007|\n",
      "|  9|  NULL|NULL|  NULL|   NULL|  NULL|      NULL|      NULL|       NULL|         NULL|        NULL|\n",
      "| 10|female|  30|  6000|   NULL|    50|    prachi|   Inamdar|       NULL|         NULL|        NULL|\n",
      "+---+------+----+------+-------+------+----------+----------+-----------+-------------+------------+\n",
      "\n"
     ]
    }
   ],
   "source": [
    "# split and drop splitted columns\n",
    "\n",
    "\n",
    "df5= df.withColumn('first_name',split(df['name'],' ').getItem(0))\\\n",
    "       .withColumn('last_name',split(df['name'],' ').getItem(1))\\\n",
    "        .withColumn('joining_day',split(df['doj'],'-').getItem(0))\\\n",
    "        .withColumn('joining_month',split(df['doj'],'-').getItem(1))\\\n",
    "        .withColumn('joining_year',split(df['doj'],'-').getItem(2))\\\n",
    "        .drop(df['name'])\\\n",
    "        .drop(df['doj'])\n",
    "    \n",
    "df5.show()   "
   ]
  }
 ],
 "metadata": {
  "kernelspec": {
   "display_name": "base",
   "language": "python",
   "name": "python3"
  },
  "language_info": {
   "codemirror_mode": {
    "name": "ipython",
    "version": 3
   },
   "file_extension": ".py",
   "mimetype": "text/x-python",
   "name": "python",
   "nbconvert_exporter": "python",
   "pygments_lexer": "ipython3",
   "version": "3.11.5"
  }
 },
 "nbformat": 4,
 "nbformat_minor": 2
}
