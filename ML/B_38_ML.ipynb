{
 "cells": [
  {
   "cell_type": "code",
   "execution_count": 1,
   "metadata": {},
   "outputs": [],
   "source": [
    "import dask"
   ]
  },
  {
   "cell_type": "code",
   "execution_count": 2,
   "metadata": {},
   "outputs": [
    {
     "name": "stderr",
     "output_type": "stream",
     "text": [
      "UsageError: Line magic function `%run..prep_data.py` not found.\n"
     ]
    }
   ],
   "source": [
    "%run..prep_data.py -d flights"
   ]
  },
  {
   "cell_type": "code",
   "execution_count": 6,
   "metadata": {},
   "outputs": [
    {
     "data": {
      "text/plain": [
       "'C:\\\\Users\\\\User\\\\jupyter\\\\files\\\\nyc_data\\\\*.csv'"
      ]
     },
     "execution_count": 6,
     "metadata": {},
     "output_type": "execute_result"
    }
   ],
   "source": [
    "import os\n",
    "files = os.path.join('C:\\\\Users\\\\User\\\\jupyter\\\\files', 'nyc_data', '*.csv')\n",
    "files\n"
   ]
  },
  {
   "cell_type": "code",
   "execution_count": null,
   "metadata": {},
   "outputs": [],
   "source": [
    "import dask.dataframe as dd\n",
    "from tensorflow.python.framework import dtypes\n",
    "\n",
    "ddf = dd.read_csv(files,dtype={\"TailNum\":str, # type: ignore\n",
    "                           \"CRSElapsedTime\":float,\n",
    "                           \"Cancelled\":bool}\n",
    "                  ,parse_dates={'Date':[0,1,2]})\n",
    "                  \n",
    "                  \n",
    "\n",
    "ddf"
   ]
  },
  {
   "cell_type": "code",
   "execution_count": null,
   "metadata": {},
   "outputs": [],
   "source": [
    "from dask_kubernetes.operator import KubeCluster\n",
    "cluster = KubeCluster(\n",
    "   name=\"my-dask-cluster\",\n",
    "   image=\"ghcr.io/dask/dask:latest\",\n",
    "   resources={\"requests\": {\"memory\": \"2Gi\"}, \"limits\": {\"memory\": \"64Gi\"}},\n",
    ")\n",
    "cluster.scale(10)\n",
    "client = cluster.get_client()"
   ]
  },
  {
   "cell_type": "code",
   "execution_count": 11,
   "metadata": {},
   "outputs": [
    {
     "data": {
      "text/html": [
       "<table>\n",
       "    <tr>\n",
       "        <td>\n",
       "            <table style=\"border-collapse: collapse;\">\n",
       "                <thead>\n",
       "                    <tr>\n",
       "                        <td> </td>\n",
       "                        <th> Array </th>\n",
       "                        <th> Chunk </th>\n",
       "                    </tr>\n",
       "                </thead>\n",
       "                <tbody>\n",
       "                    \n",
       "                    <tr>\n",
       "                        <th> Bytes </th>\n",
       "                        <td> 74.51 GiB </td>\n",
       "                        <td> 126.51 MiB </td>\n",
       "                    </tr>\n",
       "                    \n",
       "                    <tr>\n",
       "                        <th> Shape </th>\n",
       "                        <td> (10000, 1000, 1000) </td>\n",
       "                        <td> (255, 255, 255) </td>\n",
       "                    </tr>\n",
       "                    <tr>\n",
       "                        <th> Dask graph </th>\n",
       "                        <td colspan=\"2\"> 640 chunks in 1 graph layer </td>\n",
       "                    </tr>\n",
       "                    <tr>\n",
       "                        <th> Data type </th>\n",
       "                        <td colspan=\"2\"> float64 numpy.ndarray </td>\n",
       "                    </tr>\n",
       "                </tbody>\n",
       "            </table>\n",
       "        </td>\n",
       "        <td>\n",
       "        <svg width=\"169\" height=\"159\" style=\"stroke:rgb(0,0,0);stroke-width:1\" >\n",
       "\n",
       "  <!-- Horizontal lines -->\n",
       "  <line x1=\"10\" y1=\"0\" x2=\"80\" y2=\"70\" style=\"stroke-width:2\" />\n",
       "  <line x1=\"10\" y1=\"9\" x2=\"80\" y2=\"80\" />\n",
       "  <line x1=\"10\" y1=\"19\" x2=\"80\" y2=\"90\" />\n",
       "  <line x1=\"10\" y1=\"29\" x2=\"80\" y2=\"100\" />\n",
       "  <line x1=\"10\" y1=\"38\" x2=\"80\" y2=\"109\" style=\"stroke-width:2\" />\n",
       "\n",
       "  <!-- Vertical lines -->\n",
       "  <line x1=\"10\" y1=\"0\" x2=\"10\" y2=\"38\" style=\"stroke-width:2\" />\n",
       "  <line x1=\"13\" y1=\"3\" x2=\"13\" y2=\"42\" />\n",
       "  <line x1=\"17\" y1=\"7\" x2=\"17\" y2=\"45\" />\n",
       "  <line x1=\"20\" y1=\"10\" x2=\"20\" y2=\"49\" />\n",
       "  <line x1=\"24\" y1=\"14\" x2=\"24\" y2=\"52\" />\n",
       "  <line x1=\"28\" y1=\"18\" x2=\"28\" y2=\"56\" />\n",
       "  <line x1=\"31\" y1=\"21\" x2=\"31\" y2=\"60\" />\n",
       "  <line x1=\"35\" y1=\"25\" x2=\"35\" y2=\"63\" />\n",
       "  <line x1=\"38\" y1=\"28\" x2=\"38\" y2=\"67\" />\n",
       "  <line x1=\"42\" y1=\"32\" x2=\"42\" y2=\"70\" />\n",
       "  <line x1=\"47\" y1=\"37\" x2=\"47\" y2=\"76\" />\n",
       "  <line x1=\"51\" y1=\"41\" x2=\"51\" y2=\"79\" />\n",
       "  <line x1=\"55\" y1=\"45\" x2=\"55\" y2=\"83\" />\n",
       "  <line x1=\"58\" y1=\"48\" x2=\"58\" y2=\"87\" />\n",
       "  <line x1=\"62\" y1=\"52\" x2=\"62\" y2=\"90\" />\n",
       "  <line x1=\"65\" y1=\"55\" x2=\"65\" y2=\"94\" />\n",
       "  <line x1=\"69\" y1=\"59\" x2=\"69\" y2=\"97\" />\n",
       "  <line x1=\"73\" y1=\"63\" x2=\"73\" y2=\"101\" />\n",
       "  <line x1=\"76\" y1=\"66\" x2=\"76\" y2=\"105\" />\n",
       "  <line x1=\"80\" y1=\"70\" x2=\"80\" y2=\"109\" style=\"stroke-width:2\" />\n",
       "\n",
       "  <!-- Colored Rectangle -->\n",
       "  <polygon points=\"10.0,0.0 80.58823529411765,70.58823529411765 80.58823529411765,109.18509833020366 10.0,38.596863036086\" style=\"fill:#8B4903A0;stroke-width:0\"/>\n",
       "\n",
       "  <!-- Horizontal lines -->\n",
       "  <line x1=\"10\" y1=\"0\" x2=\"48\" y2=\"0\" style=\"stroke-width:2\" />\n",
       "  <line x1=\"13\" y1=\"3\" x2=\"52\" y2=\"3\" />\n",
       "  <line x1=\"17\" y1=\"7\" x2=\"55\" y2=\"7\" />\n",
       "  <line x1=\"20\" y1=\"10\" x2=\"59\" y2=\"10\" />\n",
       "  <line x1=\"24\" y1=\"14\" x2=\"62\" y2=\"14\" />\n",
       "  <line x1=\"28\" y1=\"18\" x2=\"66\" y2=\"18\" />\n",
       "  <line x1=\"31\" y1=\"21\" x2=\"70\" y2=\"21\" />\n",
       "  <line x1=\"35\" y1=\"25\" x2=\"73\" y2=\"25\" />\n",
       "  <line x1=\"38\" y1=\"28\" x2=\"77\" y2=\"28\" />\n",
       "  <line x1=\"42\" y1=\"32\" x2=\"80\" y2=\"32\" />\n",
       "  <line x1=\"47\" y1=\"37\" x2=\"86\" y2=\"37\" />\n",
       "  <line x1=\"51\" y1=\"41\" x2=\"89\" y2=\"41\" />\n",
       "  <line x1=\"55\" y1=\"45\" x2=\"93\" y2=\"45\" />\n",
       "  <line x1=\"58\" y1=\"48\" x2=\"97\" y2=\"48\" />\n",
       "  <line x1=\"62\" y1=\"52\" x2=\"100\" y2=\"52\" />\n",
       "  <line x1=\"65\" y1=\"55\" x2=\"104\" y2=\"55\" />\n",
       "  <line x1=\"69\" y1=\"59\" x2=\"107\" y2=\"59\" />\n",
       "  <line x1=\"73\" y1=\"63\" x2=\"111\" y2=\"63\" />\n",
       "  <line x1=\"76\" y1=\"66\" x2=\"115\" y2=\"66\" />\n",
       "  <line x1=\"80\" y1=\"70\" x2=\"119\" y2=\"70\" style=\"stroke-width:2\" />\n",
       "\n",
       "  <!-- Vertical lines -->\n",
       "  <line x1=\"10\" y1=\"0\" x2=\"80\" y2=\"70\" style=\"stroke-width:2\" />\n",
       "  <line x1=\"19\" y1=\"0\" x2=\"90\" y2=\"70\" />\n",
       "  <line x1=\"29\" y1=\"0\" x2=\"100\" y2=\"70\" />\n",
       "  <line x1=\"39\" y1=\"0\" x2=\"110\" y2=\"70\" />\n",
       "  <line x1=\"48\" y1=\"0\" x2=\"119\" y2=\"70\" style=\"stroke-width:2\" />\n",
       "\n",
       "  <!-- Colored Rectangle -->\n",
       "  <polygon points=\"10.0,0.0 48.596863036086,0.0 119.18509833020366,70.58823529411765 80.58823529411765,70.58823529411765\" style=\"fill:#8B4903A0;stroke-width:0\"/>\n",
       "\n",
       "  <!-- Horizontal lines -->\n",
       "  <line x1=\"80\" y1=\"70\" x2=\"119\" y2=\"70\" style=\"stroke-width:2\" />\n",
       "  <line x1=\"80\" y1=\"80\" x2=\"119\" y2=\"80\" />\n",
       "  <line x1=\"80\" y1=\"90\" x2=\"119\" y2=\"90\" />\n",
       "  <line x1=\"80\" y1=\"100\" x2=\"119\" y2=\"100\" />\n",
       "  <line x1=\"80\" y1=\"109\" x2=\"119\" y2=\"109\" style=\"stroke-width:2\" />\n",
       "\n",
       "  <!-- Vertical lines -->\n",
       "  <line x1=\"80\" y1=\"70\" x2=\"80\" y2=\"109\" style=\"stroke-width:2\" />\n",
       "  <line x1=\"90\" y1=\"70\" x2=\"90\" y2=\"109\" />\n",
       "  <line x1=\"100\" y1=\"70\" x2=\"100\" y2=\"109\" />\n",
       "  <line x1=\"110\" y1=\"70\" x2=\"110\" y2=\"109\" />\n",
       "  <line x1=\"119\" y1=\"70\" x2=\"119\" y2=\"109\" style=\"stroke-width:2\" />\n",
       "\n",
       "  <!-- Colored Rectangle -->\n",
       "  <polygon points=\"80.58823529411765,70.58823529411765 119.18509833020366,70.58823529411765 119.18509833020366,109.18509833020366 80.58823529411765,109.18509833020366\" style=\"fill:#ECB172A0;stroke-width:0\"/>\n",
       "\n",
       "  <!-- Text -->\n",
       "  <text x=\"99.886667\" y=\"129.185098\" font-size=\"1.0rem\" font-weight=\"100\" text-anchor=\"middle\" >1000</text>\n",
       "  <text x=\"139.185098\" y=\"89.886667\" font-size=\"1.0rem\" font-weight=\"100\" text-anchor=\"middle\" transform=\"rotate(-90,139.185098,89.886667)\">1000</text>\n",
       "  <text x=\"35.294118\" y=\"93.890981\" font-size=\"1.0rem\" font-weight=\"100\" text-anchor=\"middle\" transform=\"rotate(45,35.294118,93.890981)\">10000</text>\n",
       "</svg>\n",
       "        </td>\n",
       "    </tr>\n",
       "</table>"
      ],
      "text/plain": [
       "dask.array<ones_like, shape=(10000, 1000, 1000), dtype=float64, chunksize=(255, 255, 255), chunktype=numpy.ndarray>"
      ]
     },
     "execution_count": 11,
     "metadata": {},
     "output_type": "execute_result"
    }
   ],
   "source": [
    "import dask.array as da\n",
    "\n",
    "images = da.ones((10000,1000,1000))\n",
    "images"
   ]
  },
  {
   "cell_type": "code",
   "execution_count": null,
   "metadata": {},
   "outputs": [],
   "source": [
    "from dask.distributed import Client\n",
    "from dask_kubernetes import KubeCluster\n",
    "\n",
    "cluster = KubeCluster()\n",
    "client = client(cluster)\n",
    "cluster\n",
    "    "
   ]
  },
  {
   "cell_type": "code",
   "execution_count": null,
   "metadata": {},
   "outputs": [],
   "source": [
    "import dask.dataframe as dd\n",
    "\n",
    "file_path = ('C://Users//User//juypter//files//hotel_booking.csv')\n",
    "\n",
    "df = dd.read_csv(file_path)\n",
    "df.head(3)\n",
    "\n"
   ]
  }
 ],
 "metadata": {
  "kernelspec": {
   "display_name": "Python 3",
   "language": "python",
   "name": "python3"
  },
  "language_info": {
   "codemirror_mode": {
    "name": "ipython",
    "version": 3
   },
   "file_extension": ".py",
   "mimetype": "text/x-python",
   "name": "python",
   "nbconvert_exporter": "python",
   "pygments_lexer": "ipython3",
   "version": "3.12.4"
  }
 },
 "nbformat": 4,
 "nbformat_minor": 2
}
